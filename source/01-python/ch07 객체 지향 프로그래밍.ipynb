{
 "cells": [
  {
   "cell_type": "code",
   "execution_count": 4,
   "id": "fe533882",
   "metadata": {},
   "outputs": [
    {
     "data": {
      "text/html": [
       "\n",
       "<style>\n",
       "div.container{width:90% !important;}\n",
       "div.cell.code_cell.rendered{width:100%;}\n",
       "div.input_prompt{padding:0px;}\n",
       "div.CodeMirror {font-family:Consolas; font-size:22pt;}\n",
       "div.text_cell_render.rendered_html{font-size:18pt;}\n",
       "div.output {font-size:22pt; font-weight:bold;}\n",
       "div.input {font-family:Consolas; font-size:22pt;}\n",
       "div.prompt {min-width:70px;}\n",
       "div#toc-wrapper{padding-top:120px;}\n",
       "div.text_cell_render ul li{font-size:22pt;padding:5px;}\n",
       "table.dataframe{font-size:22px;}\n",
       "</style>\n"
      ],
      "text/plain": [
       "<IPython.core.display.HTML object>"
      ]
     },
     "metadata": {},
     "output_type": "display_data"
    }
   ],
   "source": [
    "from IPython.display import display, HTML\n",
    "display(HTML(\"\"\"\n",
    "<style>\n",
    "div.container{width:90% !important;}\n",
    "div.cell.code_cell.rendered{width:100%;}\n",
    "div.input_prompt{padding:0px;}\n",
    "div.CodeMirror {font-family:Consolas; font-size:22pt;}\n",
    "div.text_cell_render.rendered_html{font-size:18pt;}\n",
    "div.output {font-size:22pt; font-weight:bold;}\n",
    "div.input {font-family:Consolas; font-size:22pt;}\n",
    "div.prompt {min-width:70px;}\n",
    "div#toc-wrapper{padding-top:120px;}\n",
    "div.text_cell_render ul li{font-size:22pt;padding:5px;}\n",
    "table.dataframe{font-size:22px;}\n",
    "</style>\n",
    "\"\"\"))"
   ]
  },
  {
   "cell_type": "markdown",
   "id": "1b906352",
   "metadata": {},
   "source": [
    "<b><font size=\"7\" color=\"red\">ch07. 객체지향 프로그래밍</font></b>"
   ]
  },
  {
   "cell_type": "code",
   "execution_count": null,
   "id": "dc2d9c2f",
   "metadata": {},
   "outputs": [],
   "source": [
    "a=10\n",
    "a=True\n",
    "a='hello world'"
   ]
  },
  {
   "cell_type": "code",
   "execution_count": 7,
   "id": "24cd1df7",
   "metadata": {},
   "outputs": [
    {
     "name": "stdout",
     "output_type": "stream",
     "text": [
      "홍길동 남자\n",
      "{'name': '홍낄동', 'gender': '남자', 'academy': 'MBC'}\n",
      "{'name': '김길숙', 'gender': '여자', 'academy': 'MBC'}\n"
     ]
    }
   ],
   "source": [
    "person1={'name':'홍길동', 'gender': '남자', 'academy':'MBC'}\n",
    "person2={'name':'김길숙', 'gender': '여자', 'academy':'MBC'}\n",
    "print(person1['name'],person1.get('gender'))\n",
    "person1['name']=\"홍낄동\"\n",
    "print(person1)\n",
    "print(person2)\n",
    "# person1.my_function()"
   ]
  },
  {
   "cell_type": "code",
   "execution_count": 11,
   "id": "ee16d36c",
   "metadata": {},
   "outputs": [
    {
     "name": "stdout",
     "output_type": "stream",
     "text": [
      "MBC의 김길숙님은 여자입니다\n",
      "MBC의 홍길동님은 남자입니다\n",
      "MBC의 홍홍홍님은 여자입니다\n",
      "MBC의 홍길동님은 남자입니다\n"
     ]
    }
   ],
   "source": [
    "class person:\n",
    "    academy='MBC' # 클래스 변수\n",
    "    def __init__(self, name, gender):# 생성자 함수\n",
    "        self.name=name\n",
    "        self.gender=gender\n",
    "    def print_info(self):\n",
    "        print(\"{}의 {}님은 {}입니다\".format(self.academy,self.name, self.gender))\n",
    "        \n",
    "p1=person(\"김길숙\", \"여자\")# 객체변수(인스턴스) 생성\n",
    "p1.print_info()\n",
    "p2=person(\"홍길동\", \"남자\")\n",
    "p2.print_info()\n",
    "p1.name=\"홍홍홍\"\n",
    "p1.print_info()\n",
    "p2.print_info()"
   ]
  },
  {
   "cell_type": "code",
   "execution_count": 12,
   "id": "eedf7e76",
   "metadata": {},
   "outputs": [
    {
     "name": "stdout",
     "output_type": "stream",
     "text": [
      "sbs의 홍길동님은 남자입니다\n",
      "MBC의 홍홍홍님은 여자입니다\n"
     ]
    }
   ],
   "source": [
    "p2.academy='sbs'\n",
    "p2.print_info()\n",
    "p1.print_info()"
   ]
  },
  {
   "cell_type": "markdown",
   "id": "8c324153",
   "metadata": {},
   "source": [
    "# 1절 객체와 클래스\n",
    "'''\n",
    "class 클래스명(상속받을 클래스명):\n",
    "    \"독스트링\"\n",
    "    변수나 함수들을 선언\n",
    "'''"
   ]
  },
  {
   "cell_type": "code",
   "execution_count": 15,
   "id": "1a2740a7",
   "metadata": {},
   "outputs": [
    {
     "data": {
      "text/plain": [
       "__main__.person"
      ]
     },
     "execution_count": 15,
     "metadata": {},
     "output_type": "execute_result"
    }
   ],
   "source": [
    "class person(object):\n",
    "    \"person 클래스는 어쩌구 저쩌구 여러 줄 설명하는 독스트링\"\n",
    "    pass\n",
    "#    def __init__(self):\n",
    "#        pass\n",
    "p1=person()\n",
    "type(p1)"
   ]
  },
  {
   "cell_type": "code",
   "execution_count": 18,
   "id": "50bf1780",
   "metadata": {},
   "outputs": [
    {
     "name": "stdout",
     "output_type": "stream",
     "text": [
      "<__main__.person object at 0x000001A82377FB20>\n",
      "<__main__.person object at 0x000001A82377FB20>\n"
     ]
    }
   ],
   "source": [
    "print(p1)\n",
    "print(p1.__str__())"
   ]
  },
  {
   "cell_type": "code",
   "execution_count": 19,
   "id": "1797c4de",
   "metadata": {},
   "outputs": [
    {
     "data": {
      "text/plain": [
       "True"
      ]
     },
     "execution_count": 19,
     "metadata": {},
     "output_type": "execute_result"
    }
   ],
   "source": [
    "isinstance(p1, person)"
   ]
  },
  {
   "cell_type": "code",
   "execution_count": 20,
   "id": "bea6e526",
   "metadata": {},
   "outputs": [
    {
     "data": {
      "text/plain": [
       "'person 클래스는 어쩌구 저쩌구 여러 줄 설명하는 독스트링'"
      ]
     },
     "execution_count": 20,
     "metadata": {},
     "output_type": "execute_result"
    }
   ],
   "source": [
    "p1.__doc__"
   ]
  },
  {
   "cell_type": "markdown",
   "id": "20762640",
   "metadata": {},
   "source": [
    "# 2절 생성자('__init__()'와 소멸자('__del__()')\n",
    "생성자: __init__(self, [매개변수1, 매개변수2..]) 객체생성시 자동 실행\n",
    "        객체 생성시 필요한  코드(인스턴스 변수 생성과 초기화)를 포함함.\n",
    "소멸자: __del__(self) - 객체가 소멸될 때, 자동 실행\n",
    "        객체 소멸시 필요한 코드 포함\n",
    "        인스턴스(객체)의 레퍼런스 카운트가 0이 될 때 실행"
   ]
  },
  {
   "cell_type": "code",
   "execution_count": 22,
   "id": "257038e5",
   "metadata": {},
   "outputs": [],
   "source": [
    "class Person:\n",
    "    def __init__(self, name=\"홍길동\", gender=\"남자\"):\n",
    "        self.name=name # 인스턴스 변수 초기화\n",
    "        self.gender=gender\n",
    "        print(\"person형 객체 생성\")\n",
    "#    def __init__(self, name):\n",
    "#        self.name=name\n",
    "#        self.gender=\"남자\"\n",
    "        \n",
    "    \n",
    "    def print_info(self):\n",
    "        print(\"{}님은 {}입니다\".format(self.name, self.gender))\n",
    "    def __str__(self): # 오버라이딩(함수의  재정의)\n",
    "        return \"{}님은 {}입니다\".format(self.name, self.gender)"
   ]
  },
  {
   "cell_type": "code",
   "execution_count": 2,
   "id": "bc270e73",
   "metadata": {},
   "outputs": [
    {
     "name": "stdout",
     "output_type": "stream",
     "text": [
      "person형 객체 생성\n"
     ]
    }
   ],
   "source": [
    "p1=Person(\"신사임당\", \"여자\")"
   ]
  },
  {
   "cell_type": "code",
   "execution_count": 3,
   "id": "dcdefd13",
   "metadata": {},
   "outputs": [
    {
     "data": {
      "text/plain": [
       "'신사임당'"
      ]
     },
     "execution_count": 3,
     "metadata": {},
     "output_type": "execute_result"
    }
   ],
   "source": [
    "p1.name"
   ]
  },
  {
   "cell_type": "code",
   "execution_count": 4,
   "id": "9835d4a9",
   "metadata": {},
   "outputs": [
    {
     "name": "stdout",
     "output_type": "stream",
     "text": [
      "신사임당님은 여자입니다\n"
     ]
    }
   ],
   "source": [
    "p1.print_info()"
   ]
  },
  {
   "cell_type": "code",
   "execution_count": 5,
   "id": "5efc0061",
   "metadata": {},
   "outputs": [
    {
     "name": "stdout",
     "output_type": "stream",
     "text": [
      "신사임당님은 여자입니다\n",
      "신사임당님은 여자입니다\n"
     ]
    }
   ],
   "source": [
    "print(p1)\n",
    "print(p1.__str__())"
   ]
  },
  {
   "cell_type": "code",
   "execution_count": 6,
   "id": "7b4077d4",
   "metadata": {},
   "outputs": [
    {
     "data": {
      "text/plain": [
       "(__main__.Person, True)"
      ]
     },
     "execution_count": 6,
     "metadata": {},
     "output_type": "execute_result"
    }
   ],
   "source": [
    "type(p1), isinstance(p1, Person)"
   ]
  },
  {
   "cell_type": "code",
   "execution_count": 7,
   "id": "1c9d9eaa",
   "metadata": {},
   "outputs": [
    {
     "name": "stdout",
     "output_type": "stream",
     "text": [
      "person형 객체 소멸\n"
     ]
    }
   ],
   "source": [
    "del p1"
   ]
  },
  {
   "cell_type": "code",
   "execution_count": 9,
   "id": "3eae2725",
   "metadata": {},
   "outputs": [
    {
     "name": "stdout",
     "output_type": "stream",
     "text": [
      "person형 객체 생성\n"
     ]
    }
   ],
   "source": [
    "p2=Person(\"홍길동\", \"남자\")"
   ]
  },
  {
   "cell_type": "code",
   "execution_count": 10,
   "id": "0b08128b",
   "metadata": {},
   "outputs": [],
   "source": [
    "p3=p2"
   ]
  },
  {
   "cell_type": "code",
   "execution_count": 11,
   "id": "634afcfc",
   "metadata": {},
   "outputs": [],
   "source": [
    "del p2"
   ]
  },
  {
   "cell_type": "code",
   "execution_count": 12,
   "id": "f5bcd17e",
   "metadata": {},
   "outputs": [
    {
     "name": "stdout",
     "output_type": "stream",
     "text": [
      "person형 객체 소멸\n"
     ]
    }
   ],
   "source": [
    "del p3"
   ]
  },
  {
   "cell_type": "code",
   "execution_count": null,
   "id": "70e4223a",
   "metadata": {},
   "outputs": [],
   "source": [
    "-**오버라이딩**(함수의 재정의)\n",
    "-  파이썬은 **오버로딩*(함수의 중복정의) 불가\n",
    "- 생성자 함수 **오버로딩**  불가"
   ]
  },
  {
   "cell_type": "code",
   "execution_count": 14,
   "id": "b0dca1f3",
   "metadata": {},
   "outputs": [
    {
     "ename": "SyntaxError",
     "evalue": "positional argument follows keyword argument (2493503400.py, line 1)",
     "output_type": "error",
     "traceback": [
      "\u001b[1;36m  Cell \u001b[1;32mIn[14], line 1\u001b[1;36m\u001b[0m\n\u001b[1;33m    p1=Person(name=\"홍길동\", \"gender=남자\")\u001b[0m\n\u001b[1;37m                                     ^\u001b[0m\n\u001b[1;31mSyntaxError\u001b[0m\u001b[1;31m:\u001b[0m positional argument follows keyword argument\n"
     ]
    }
   ],
   "source": [
    "p1=Person(name=\"홍길동\", \"gender=남자\")\n",
    "p2=Person(gender=\"남자\", name=\"홍길동\")"
   ]
  },
  {
   "cell_type": "code",
   "execution_count": 15,
   "id": "ac7c3357",
   "metadata": {},
   "outputs": [
    {
     "name": "stdout",
     "output_type": "stream",
     "text": [
      "person형 객체 생성\n",
      "person형 객체 생성\n"
     ]
    }
   ],
   "source": [
    "p1=Person(\"홍길동\", \"남자\")\n",
    "p2=Person(\"남자\",\"홍길동\")"
   ]
  },
  {
   "cell_type": "code",
   "execution_count": 20,
   "id": "602cdcee",
   "metadata": {},
   "outputs": [
    {
     "name": "stdout",
     "output_type": "stream",
     "text": [
      "person형 객체 생성\n",
      "person형 객체 생성\n",
      "person형 객체 소멸\n",
      "person형 객체 생성\n",
      "홍길동님은 남자입니다\n",
      "홍길동님은 남자입니다\n"
     ]
    }
   ],
   "source": [
    "p1=Person(\"홍길동\", \"남자\")\n",
    "p2=Person(gender=\"남자\",name=\"홍길동\")\n",
    "p3=Person(\"강감찬\")\n",
    "print(p1)\n",
    "print(p2)"
   ]
  },
  {
   "cell_type": "code",
   "execution_count": 23,
   "id": "ad9eb751",
   "metadata": {},
   "outputs": [
    {
     "name": "stdout",
     "output_type": "stream",
     "text": [
      "person형 객체 생성\n",
      "person형 객체 생성\n",
      "person형 객체 생성\n",
      "p1= 김길숙님은 여자입니다\n",
      "p2= 홍길동님은 남자입니다\n",
      "p3= 강감찬님은 남자입니다\n"
     ]
    }
   ],
   "source": [
    "p1=Person(\"김길숙\", \"여자\")\n",
    "p2=Person(\"홍길동\")\n",
    "p3=Person(\"강감찬\")\n",
    "print('p1=', p1)\n",
    "print('p2=', p2)\n",
    "print('p3=', p3)"
   ]
  },
  {
   "cell_type": "code",
   "execution_count": 25,
   "id": "e1b040e2",
   "metadata": {},
   "outputs": [
    {
     "name": "stdout",
     "output_type": "stream",
     "text": [
      "person형 객체 생성\n",
      "person형 객체 생성\n",
      "person형 객체 생성\n",
      "person형 객체 생성\n",
      "person형 객체 생성\n",
      "p1= 김길숙님은 여자입니다\n",
      "p2= 홍길동님은 남자입니다\n",
      "p3= 강감찬님은 남자입니다\n",
      "p4= 홍길동님은 여자입니다\n",
      "p5= 홍이븜님은 여자입니다\n"
     ]
    }
   ],
   "source": [
    "p1=Person(\"김길숙\", \"여자\")\n",
    "p2=Person(\"홍길동\")\n",
    "p3=Person(\"강감찬\")\n",
    "p4=Person(gender=\"여자\")\n",
    "p5=Person(gender=\"여자\", name=\"홍이븜\")\n",
    "print('p1=', p1)\n",
    "print('p2=', p2)\n",
    "print('p3=', p3)\n",
    "print('p4=', p4)\n",
    "print('p5=', p5)"
   ]
  },
  {
   "cell_type": "markdown",
   "id": "8d1c1c86",
   "metadata": {},
   "source": [
    "# 3절 변수와 메소드(함수)\n",
    "\n",
    "- 인스턴스 변수 vs 클래스 변수 vs static 변수(정적 변수)\n",
    "- 인스턴스 함수(self) vs 클래스함수(cls) vs static함수()\n",
    "- "
   ]
  },
  {
   "cell_type": "code",
   "execution_count": null,
   "id": "c2309350",
   "metadata": {},
   "outputs": [],
   "source": [
    "class Person:\n",
    "    def __init__(self, name=\"홍길동\", gender=\"남자\"):\n",
    "        self.name=name # 인스턴스 변수 초기화\n",
    "        self.gender=gender\n",
    "        print(\"person형 객체 생성\")\n",
    "#    def __init__(self, name):\n",
    "#        self.name=name\n",
    "#        self.gender=\"남자\"\n",
    "        \n",
    "    \n",
    "    def print_info(self):\n",
    "        print(\"{}님은 {}입니다\".format(self.name, self.gender))\n",
    "    def __str__(self): # 오버라이딩(함수의  재정의)\n",
    "        return \"{}님은 {}입니다\".format(self.name, self.gender)"
   ]
  },
  {
   "cell_type": "code",
   "execution_count": 38,
   "id": "be41498a",
   "metadata": {},
   "outputs": [
    {
     "name": "stdout",
     "output_type": "stream",
     "text": [
      "MBC\n",
      "p1객체변수(인스턴스)= <__main__.Person object at 0x0000023F1EB62020>\n",
      "p2객체변수(인스턴스)= <__main__.Person object at 0x0000023F1EB60850>\n",
      "p1객체변수(인스턴스)= <__main__.Person object at 0x0000023F1EB62020>\n",
      "p2객체변수(인스턴스)= <__main__.Person object at 0x0000023F1EB60850>\n"
     ]
    },
    {
     "ename": "TypeError",
     "evalue": "descriptor '__str__' of 'object' object needs an argument",
     "output_type": "error",
     "traceback": [
      "\u001b[1;31m---------------------------------------------------------------------------\u001b[0m",
      "\u001b[1;31mTypeError\u001b[0m                                 Traceback (most recent call last)",
      "Cell \u001b[1;32mIn[38], line 19\u001b[0m\n\u001b[0;32m     17\u001b[0m \u001b[38;5;28mprint\u001b[39m(\u001b[38;5;124m'\u001b[39m\u001b[38;5;124mp1객체변수(인스턴스)=\u001b[39m\u001b[38;5;124m'\u001b[39m, p1)\n\u001b[0;32m     18\u001b[0m \u001b[38;5;28mprint\u001b[39m(\u001b[38;5;124m'\u001b[39m\u001b[38;5;124mp2객체변수(인스턴스)=\u001b[39m\u001b[38;5;124m'\u001b[39m, p2)\n\u001b[1;32m---> 19\u001b[0m \u001b[38;5;28mprint\u001b[39m(\u001b[43mPerson\u001b[49m\u001b[38;5;241;43m.\u001b[39;49m\u001b[38;5;21;43m__str__\u001b[39;49m\u001b[43m(\u001b[49m\u001b[43m)\u001b[49m)\n",
      "\u001b[1;31mTypeError\u001b[0m: descriptor '__str__' of 'object' object needs an argument"
     ]
    }
   ],
   "source": [
    "# 클래스 변수는 클래스 내부에 선언, 생성된 모든 인스턴스에  동일한 값\n",
    "# 인스턴스, 클래스 변수로 수정하면ㄴ 해당 인스턴스만 반영\n",
    "# 클래서명. 클래서변수로 수정하면 모든 인스턴스에 반영\n",
    "class Person:\n",
    "    academy='MBC' # 클래스 변수\n",
    "    def __init__(self, name=\"홍길동\", gender=\"남자\"):# 생성자 함수\n",
    "        self.name=name\n",
    "        self.gender=gender\n",
    "    def Print_info(self):\n",
    "        print(\"{}의 {}님은 {}입니다\".format(self.academy,self.name, self.gender))\n",
    "print(Person.academy)\n",
    "p1=Person()\n",
    "p2=Person()\n",
    "print('p1객체변수(인스턴스)=', p1)\n",
    "print('p2객체변수(인스턴스)=', p2)\n",
    "p1.academy=\"SBS\" # 인스턴스, 클래스변수로 수정하면 해당 인스턴스만 반영\n",
    "print('p1객체변수(인스턴스)=', p1)\n",
    "print('p2객체변수(인스턴스)=', p2)\n",
    "#print(Person.__str__())"
   ]
  },
  {
   "cell_type": "markdown",
   "id": "99546ed3",
   "metadata": {},
   "source": [
    "# 인스턴스 메소드 vs 클래스 vs static 메소드\n",
    "- 인스턴스 메소드: 첫번째 인자에 self 명시, 객체통해서면 호출가능 메소드\n",
    "- 클래스메소드: 메소드 위에 @classmethod 명시, 첫번째 인자에 cls,clz 명시\n",
    "- static 메소드: 메소드 위에 @staticmethod, 디폴트 인자 없음."
   ]
  },
  {
   "cell_type": "code",
   "execution_count": 65,
   "id": "cb4456c8",
   "metadata": {},
   "outputs": [],
   "source": [
    "class Person:\n",
    "    academy='MBC' \n",
    "    def __init__(self, name=\"홍길동\", gender=\"남자\"):\n",
    "        self.name=name\n",
    "        self.gender=gender\n",
    "    def print_info(self): #\n",
    "        print(\"일반(인스턴스 메소드)- {}의 {}은 {}입니다\".format(self.academy,\n",
    "                                              self.name,\n",
    "                                              self.gender))\n",
    "    def change_info(self, name=\"익명\", gender=\"여자\"):\n",
    "        self.name=name\n",
    "        self.gender=gender\n",
    "        print(\"일반(인스턴스 메소드를 통해 {}로 이름변경. {}로 성별 변경\".format(self.name, self.gender))\n",
    "    @classmethod\n",
    "    def do_(clz): # clz==> Person 의미, 클래스 변수를 이용한 로직\n",
    "        clz.academy='classAcademy'\n",
    "        print(\"클래스 메소드에서 {}로 클래스 변수 변경\".format(clz.academy))\n",
    "    @classmethod\n",
    "    def done_(clz,academy): # clz=>Person의미,클래스 변수를 이용한 로직\n",
    "        clz.academy=academy\n",
    "        print(\"클래스 메소드에서 {}로 클래스 변수 변경\".format(clz.academy))\n",
    "    @staticmethod\n",
    "    def that_(): # 클래스변수보다는 로직이 우선일 경우\n",
    "        Person.academy='staticAcademy'  \n",
    "        print(\"static 메소드에서 {}로 클래스 변수 변경\".format(Person.academy))"
   ]
  },
  {
   "cell_type": "code",
   "execution_count": 50,
   "id": "bef8145b",
   "metadata": {},
   "outputs": [
    {
     "name": "stdout",
     "output_type": "stream",
     "text": [
      "일반(인스턴스 메소드)- MBC의 홍길동은 남자입니다\n"
     ]
    }
   ],
   "source": [
    "p1=Person()\n",
    "p1.print_info()"
   ]
  },
  {
   "cell_type": "code",
   "execution_count": 51,
   "id": "5137e32a",
   "metadata": {},
   "outputs": [
    {
     "name": "stdout",
     "output_type": "stream",
     "text": [
      "static 메소드에서 staticAcademy로 클래스 변수 변경\n"
     ]
    }
   ],
   "source": [
    "Person.that_()"
   ]
  },
  {
   "cell_type": "code",
   "execution_count": 54,
   "id": "5c35cfe5",
   "metadata": {},
   "outputs": [
    {
     "name": "stdout",
     "output_type": "stream",
     "text": [
      "일반(인스턴스 메소드)- staticAcademy의 홍길동은 남자입니다\n"
     ]
    }
   ],
   "source": [
    "p1.print_info()"
   ]
  },
  {
   "cell_type": "code",
   "execution_count": 55,
   "id": "caf37561",
   "metadata": {},
   "outputs": [
    {
     "name": "stdout",
     "output_type": "stream",
     "text": [
      "일반(인스턴스 메소드를 통해 익명로 이름변경. 여자로 성별 변경\n"
     ]
    }
   ],
   "source": [
    "p1.change_info()"
   ]
  },
  {
   "cell_type": "code",
   "execution_count": 59,
   "id": "681c7a04",
   "metadata": {},
   "outputs": [
    {
     "name": "stdout",
     "output_type": "stream",
     "text": [
      "클래스 메소드에서 classAcademy로 클래스 변수 변경\n",
      "일반(인스턴스 메소드)- staticAcademy의 익명은 여자입니다\n",
      "일반(인스턴스 메소드)- classAcademy의 홍길동은 남자입니다\n"
     ]
    }
   ],
   "source": [
    "Person.do_()\n",
    "p1.print_info()\n",
    "p2.print_info()"
   ]
  },
  {
   "cell_type": "code",
   "execution_count": 60,
   "id": "4c92495a",
   "metadata": {},
   "outputs": [
    {
     "name": "stdout",
     "output_type": "stream",
     "text": [
      "일반(인스턴스 메소드)- classAcademy의 홍길동은 남자입니다\n"
     ]
    }
   ],
   "source": [
    "p2=Person()\n",
    "p2.print_info()"
   ]
  },
  {
   "cell_type": "code",
   "execution_count": 66,
   "id": "b00e037b",
   "metadata": {},
   "outputs": [
    {
     "name": "stdout",
     "output_type": "stream",
     "text": [
      "클래스 메소드에서 SBS로 클래스 변수 변경\n",
      "일반(인스턴스 메소드)- staticAcademy의 익명은 여자입니다\n",
      "일반(인스턴스 메소드)- classAcademy의 홍길동은 남자입니다\n"
     ]
    }
   ],
   "source": [
    "Person.done_(\"SBS\")\n",
    "p1.print_info()\n",
    "p2.print_info()"
   ]
  },
  {
   "cell_type": "markdown",
   "id": "f2a508f6",
   "metadata": {},
   "source": [
    "# 4절 상속과 재정의\n",
    "- 클래스 재사용\n",
    "- 상속을 이용하면 부모 클래슨의 모든 속성을 자식 클래스로 물려줄 수 있음.\n",
    "'''\n",
    "class 자식클래스명(부모클래스명):\n",
    "\n",
    "'''\n"
   ]
  },
  {
   "cell_type": "code",
   "execution_count": 68,
   "id": "f9b8c0df",
   "metadata": {},
   "outputs": [],
   "source": [
    "class Person:\n",
    "    def __init__(self, name, gender):\n",
    "        self.name=name # 인스턴스 변수 초기화\n",
    "        self.gender=gender\n",
    "        print(\"Person형 객체 생성(부모클래스)\")   \n",
    "    def print_info(self):\n",
    "        print(self)\n",
    "    def __str__(self): # 오버라이딩(함수의  재정의)\n",
    "        return \"{}님은 {}입니다\".format(self.name, self.gender)"
   ]
  },
  {
   "cell_type": "code",
   "execution_count": 78,
   "id": "abb8581e",
   "metadata": {},
   "outputs": [],
   "source": [
    "class Student(Person):\n",
    "    def __init__(self, name, gender, major):\n",
    "        self.name=name\n",
    "        self.gender=gender\n",
    "        self.major=major\n",
    "        print(\"Student형 객체 생성(자식클래스)\") \n",
    "    #  재정의(오버라이드): 부모클래스에서 정의한 함수를 자식클래스에서 다시  정의\n",
    "    def __str__(self): \n",
    "        return \"{}님은 {}입니다. 전공은 {}입니다\".format(self.name, self.gender, self.major)"
   ]
  },
  {
   "cell_type": "code",
   "execution_count": 79,
   "id": "20a46b20",
   "metadata": {},
   "outputs": [
    {
     "name": "stdout",
     "output_type": "stream",
     "text": [
      "person형 객체 생성(부모클래스)\n",
      "홍길동님은 남자입니다\n",
      "True\n"
     ]
    }
   ],
   "source": [
    "p1=Person(\"홍길동\", \"남자\")\n",
    "print(p1)\n",
    "print(isinstance(p1, Person))"
   ]
  },
  {
   "cell_type": "code",
   "execution_count": 81,
   "id": "80165eb7",
   "metadata": {},
   "outputs": [
    {
     "name": "stdout",
     "output_type": "stream",
     "text": [
      "Student형 객체 생성(자식클래스)\n",
      "홍길숙님은 여자입니다. 전공은 AI입니다\n"
     ]
    }
   ],
   "source": [
    "s1=Student(\"홍길숙\", \"여자\", \"AI\")\n",
    "print(s1)"
   ]
  },
  {
   "cell_type": "code",
   "execution_count": 82,
   "id": "18095985",
   "metadata": {},
   "outputs": [
    {
     "name": "stdout",
     "output_type": "stream",
     "text": [
      "True\n",
      "True\n"
     ]
    }
   ],
   "source": [
    "print(isinstance(s1, Student))\n",
    "print(isinstance(s1, Person))"
   ]
  },
  {
   "cell_type": "markdown",
   "id": "d5a44089",
   "metadata": {},
   "source": [
    "### super ()이용\n",
    "- super():"
   ]
  },
  {
   "cell_type": "code",
   "execution_count": 1,
   "id": "ee6adb2c",
   "metadata": {},
   "outputs": [],
   "source": [
    "class Person:\n",
    "    def __init__(self, name, gender):\n",
    "        self.name=name # 인스턴스 변수 초기화\n",
    "        self.gender=gender\n",
    "        print(\"Person형 객체 생성(부모클래스)\")   \n",
    "    def print_info(self):\n",
    "        print(self)\n",
    "    def __str__(self): # 오버라이딩(함수의  재정의)\n",
    "        return \"{}님은 {}입니다\".format(self.name, self.gender)\n",
    "class Student(Person):\n",
    "    def __init__(self, name, gender, major):\n",
    "        super().__init__(name, gender)\n",
    "        self.major=major\n",
    "        print(\"Student형 객체 생성(자식클래스)\") \n",
    "    #  재정의(오버라이드): 부모클래스에서 정의한 함수를 자식클래스에서 다시  정의\n",
    "    def __str__(self): \n",
    "        return super().__str__() + \".전공은 {}입니다\".format(self.major)"
   ]
  },
  {
   "cell_type": "code",
   "execution_count": 85,
   "id": "eead12d4",
   "metadata": {},
   "outputs": [
    {
     "name": "stdout",
     "output_type": "stream",
     "text": [
      "Person형 객체 생성(부모클래스)\n",
      "Student형 객체 생성(자식클래스)\n",
      "아무개님은 여자입니다.전공은 AI입니다\n",
      "아무개님은 여자입니다.전공은 AI입니다\n"
     ]
    }
   ],
   "source": [
    "s2=Student(\"아무개\", \"여자\", \"AI\")\n",
    "print(s2)\n",
    "s2.print_info()"
   ]
  },
  {
   "cell_type": "markdown",
   "id": "cee3c1b2",
   "metadata": {},
   "source": [
    "## static 변수(정적변수): 여러 객체들 사이에 데이터를 공유하고 싶을 때 사용.  똑같은 화면, 객체마다 똑같은 값\n",
    "- static 변수: 앞에 under score 2개(__) 붙임. 클래스명, 클래스명__static 변수명으로참조\n",
    "- static 변수는 클래스 내부에서만 접근하도록 하려는 용도도\n"
   ]
  },
  {
   "cell_type": "code",
   "execution_count": 2,
   "id": "fb8f8e77",
   "metadata": {},
   "outputs": [
    {
     "name": "stdout",
     "output_type": "stream",
     "text": [
      "MBC\n",
      "p1객체변수(인스턴스) = MBC의 홍길동님은 남자입니다\n",
      "p2객체변수(인스턴스) = MBC의 홍길동님은 남자입니다\n",
      "p1객체변수(인스턴스) = SBS의 홍길동님은 남자입니다\n",
      "p2객체변수(인스턴스) = 다른데의 홍길동님은 남자입니다\n"
     ]
    }
   ],
   "source": [
    "# 클래스 변수는 클래스 내부에 선언되며, 생성된 모든 인스턴스(객체)에 동일한 값을 가진다\n",
    "# 인스턴스(객체).클래스변수로 수정하면 해당 인스턴스(객체)만 반영\n",
    "# 클래스명.클래스변수로 수정하면 모든 인스턴스에 반영\n",
    "class Person:\n",
    "    academy = 'MBC' # 클래스변수\n",
    "    def __init__(self, name=\"홍길동\", gender=\"남자\"): # 생성자함수\n",
    "        self.name = name\n",
    "        self.gender = gender\n",
    "    def __str__(self):\n",
    "        return \"{}의 {}님은 {}입니다\".format(self.academy, self.name, self.gender)\n",
    "print(Person.academy)\n",
    "p1 = Person()\n",
    "p2 = Person()\n",
    "print('p1객체변수(인스턴스) =', p1.__str__())\n",
    "print('p2객체변수(인스턴스) =', p2)\n",
    "p1.academy = \"SBS\" # 인스턴스(객체).클래스변수로 수정하면 해당 인스턴스(객체)만 반영\n",
    "Person.academy = \"다른데\"\n",
    "print('p1객체변수(인스턴스) =', p1)\n",
    "print('p2객체변수(인스턴스) =', p2)\n",
    "#print(Person.__str__())"
   ]
  },
  {
   "cell_type": "code",
   "execution_count": 3,
   "id": "628cf88b",
   "metadata": {},
   "outputs": [],
   "source": [
    "class Student(Person):\n",
    "    'name', 'gender', 'major'\n",
    "    __count=0 #\n",
    "    def __init__(self, name, gender, major):\n",
    "        super().__init__(name,gender)\n",
    "        self.major=major\n",
    "        Student._Student__count += 1 #\n",
    "    def __del__(self):\n",
    "        Student._Student__count -= 1\n",
    "    def __str__(self):\n",
    "        return super().__str__() + \", 전공은 {} 객체 {} 생성\".format(self.major, Student._Student__count)\n",
    "    @classmethod\n",
    "    def get_count(cls):\n",
    "        return cls.__count\n",
    "        #return Student._Student__count\n",
    "        "
   ]
  },
  {
   "cell_type": "code",
   "execution_count": 4,
   "id": "cfb4c447",
   "metadata": {},
   "outputs": [
    {
     "name": "stdout",
     "output_type": "stream",
     "text": [
      "다른데의 홍님은 여입니다, 전공은 AI 객체 1 생성\n",
      "1\n",
      "1\n"
     ]
    }
   ],
   "source": [
    "s1 = Student(\"홍\",\"여\",\"AI\")\n",
    "print(s1)\n",
    "print(Student.get_count())\n",
    "print(s1.get_count())"
   ]
  },
  {
   "cell_type": "code",
   "execution_count": 5,
   "id": "b8ba88dd",
   "metadata": {},
   "outputs": [
    {
     "name": "stdout",
     "output_type": "stream",
     "text": [
      "다른데의 홍님은 여입니다, 전공은 AI 객체 2 생성\n",
      "2\n",
      "2\n"
     ]
    }
   ],
   "source": [
    "s2 = Student(\"홍\",\"여\",\"AI\")\n",
    "print(s2)\n",
    "print(Student.get_count())\n",
    "print(s2.get_count())"
   ]
  },
  {
   "cell_type": "code",
   "execution_count": 6,
   "id": "7baddcea",
   "metadata": {},
   "outputs": [
    {
     "ename": "NameError",
     "evalue": "name '객체변수' is not defined",
     "output_type": "error",
     "traceback": [
      "\u001b[1;31m---------------------------------------------------------------------------\u001b[0m",
      "\u001b[1;31mNameError\u001b[0m                                 Traceback (most recent call last)",
      "Cell \u001b[1;32mIn[6], line 1\u001b[0m\n\u001b[1;32m----> 1\u001b[0m \u001b[38;5;28mprint\u001b[39m(\u001b[43m객체변수\u001b[49m\u001b[38;5;241m.\u001b[39mget_count())\n",
      "\u001b[1;31mNameError\u001b[0m: name '객체변수' is not defined"
     ]
    }
   ],
   "source": [
    "print(객체변수.get_count())"
   ]
  },
  {
   "cell_type": "markdown",
   "id": "6643fd8e",
   "metadata": {},
   "source": [
    "# 5절 연습문제\n",
    "## 실습형"
   ]
  },
  {
   "cell_type": "code",
   "execution_count": null,
   "id": "f0c5eb5a",
   "metadata": {},
   "outputs": [],
   "source": [
    "# 문제 1. 다음 조건을 만족하는 클래스를 작성하세요.\n",
    "# 도형 ( 클래스와 삼각형 (Triangle) 클래스를 만들어야 합니다\n",
    "# 도형 ( 클래스\n",
    "# 생성자를 통해 x, y 좌표를 초기화할 수 있습니다 . x, y 좌표의 기본값은 0, 0 입니다\n",
    "# x, y 좌표를 이동시킬 수 있는 move 함수가 있습니다\n",
    "# x, y 좌표값 정보를 문자열로 리턴하는 str __ 함수가 있습니다\n",
    "# 도형의 면적을 구하는 함수 calc_area 가 있습니다 . 다만 도형 클래스의 calc_area 는\n",
    "구현되어 있지 않아 호출하면 오류가 발생합니다 파이썬은 추상메소드가 없음 추상메소\n",
    "드 역할을 구현\n",
    "#정적메소드 staticmethod 를 하나 이상 구현합니다\n",
    "#삼각형 ( 클래스는 도형 ( 클래스이다 관계가 성립해야 합니다\n",
    "#생성자를 통해 , width, height, x, y 좌표를 초기화하고 x, y 좌표의 기본값은 0, 0 입니다\n",
    "#삼각형의 면적을 구하는 메소드 calc_area 를 재정의합니다\n",
    "#삼각형의 정보를 문자열로 반환하는 str __() 함수가 있습니다\n",
    "#삼각형 객체가 몇 개가 만들어져 있는지 정보를 저장하는 클래스 변수를 추가하고 생성자에서 객체를 만들 때마다 증가시키고 소멸자에서 객체를 소멸시킬 때마다 감소합니다\n"
   ]
  },
  {
   "cell_type": "code",
   "execution_count": 7,
   "id": "62e1adab",
   "metadata": {},
   "outputs": [
    {
     "ename": "SyntaxError",
     "evalue": "invalid syntax (2091613759.py, line 9)",
     "output_type": "error",
     "traceback": [
      "\u001b[1;36m  Cell \u001b[1;32mIn[7], line 9\u001b[1;36m\u001b[0m\n\u001b[1;33m    def __str__\u001b[0m\n\u001b[1;37m               ^\u001b[0m\n\u001b[1;31mSyntaxError\u001b[0m\u001b[1;31m:\u001b[0m invalid syntax\n"
     ]
    }
   ],
   "source": [
    "# 1\n",
    "class Shape:\n",
    "    __count=0\n",
    "    def __init__(self, width, height, x=0, y=0)\n",
    "        Triangle._Triangle__count += 1\n",
    "        super().__init__(x, y)\n",
    "        self.width=with\n",
    "        self.height=height\n",
    "    def __del__(self):\n",
    "        Triangle._Triangle__count -= 1\n",
    "    def __str__(self):\n",
    "        return super"
   ]
  },
  {
   "cell_type": "code",
   "execution_count": null,
   "id": "68c09c65",
   "metadata": {},
   "outputs": [],
   "source": [
    "# 1\n",
    "class Shape:\n",
    "    def __init__(self, x,y):\n",
    "        pass\n",
    "    def move(sel):# x축으로 얼마 move할지 y축으로 얼마 move할지를 받아 move\n",
    "        pass\n",
    "    def cal_area(self):# 호출시 강제로 예외 발생\n",
    "        raise Exception(\"예외 메세지\")\n",
    "    def __str__\n",
    "    @staticmethod\n",
    "    def staticmethod_()\n",
    "        print('도형 클래스의 staticmethod 호출')"
   ]
  },
  {
   "cell_type": "code",
   "execution_count": null,
   "id": "e966e0cb",
   "metadata": {},
   "outputs": [],
   "source": []
  },
  {
   "cell_type": "code",
   "execution_count": null,
   "id": "50928689",
   "metadata": {},
   "outputs": [],
   "source": []
  },
  {
   "cell_type": "code",
   "execution_count": null,
   "id": "2de0288f",
   "metadata": {},
   "outputs": [],
   "source": []
  },
  {
   "cell_type": "code",
   "execution_count": null,
   "id": "83e3a0f9",
   "metadata": {},
   "outputs": [],
   "source": []
  },
  {
   "cell_type": "code",
   "execution_count": null,
   "id": "190d3d1e",
   "metadata": {},
   "outputs": [],
   "source": []
  },
  {
   "cell_type": "code",
   "execution_count": null,
   "id": "88e2ae6d",
   "metadata": {},
   "outputs": [],
   "source": []
  },
  {
   "cell_type": "code",
   "execution_count": null,
   "id": "02b9554a",
   "metadata": {},
   "outputs": [],
   "source": []
  },
  {
   "cell_type": "code",
   "execution_count": null,
   "id": "c280acd5",
   "metadata": {},
   "outputs": [],
   "source": []
  },
  {
   "cell_type": "code",
   "execution_count": null,
   "id": "da650127",
   "metadata": {},
   "outputs": [],
   "source": []
  },
  {
   "cell_type": "code",
   "execution_count": null,
   "id": "f48661e1",
   "metadata": {},
   "outputs": [],
   "source": []
  },
  {
   "cell_type": "code",
   "execution_count": null,
   "id": "fe1e3747",
   "metadata": {},
   "outputs": [],
   "source": []
  },
  {
   "cell_type": "code",
   "execution_count": null,
   "id": "9aa41ca9",
   "metadata": {},
   "outputs": [],
   "source": []
  },
  {
   "cell_type": "code",
   "execution_count": null,
   "id": "1f564629",
   "metadata": {},
   "outputs": [],
   "source": []
  },
  {
   "cell_type": "markdown",
   "id": "e54621dc",
   "metadata": {},
   "source": [
    "## 서술형"
   ]
  },
  {
   "cell_type": "code",
   "execution_count": null,
   "id": "aaafe07c",
   "metadata": {},
   "outputs": [],
   "source": [
    "# 문제1. 다음 중 올바른 클래스 정의는? 1번. class Person\n",
    "# 문제2. 다음 중 Person 클래스의 객체를 생성하는 올바른 방법은? 2번. p1=Person()\n",
    "# 문제3. 다음 중 인스턴스 메소드를 선언하는 가장 올바른 방법은? 4번. def print_info(self):\n",
    "# 문제4. 다음 중 생성자와 소멸장 대해 잘못 설명한 것은? 1번, 생성자는 중복(overloading) 정의해서 사용할 수 있다.\n",
    "# 문제5. 다음 중 \"Student is Person\"을 클래스 상송으로 바르게 설명한 것은? 2번. class Student(Person):\n",
    "# 문제6. 다음 중 상속과재정의(overriding)에 대해 잘못 설명한 것은? 3번, 재정의는 메소드의 이름은 같고 매개변수의 수는 다르게 정의해야 한다\n",
    "# 문제7. 다음 클래스의 메소드를 호출하는 방법 중 잘못된 것은? 3번. SomeClass.method_a()\n",
    "# 문제8. 두 클래스와 코드의 실행 결과 다음과 같이 출력되도록 해야 한다면 빈 칸에 넣을 수 없는 것을 고르세요. 3번. super.do_(a)\n",
    "# 문제9. 다음 중 파이썬의 특별한 용도로 정의되어 있는 속성과 메소드에 대한 설명 중 잘못된 것은? 2번. str__()메소드는 print()함수의 인자로 객체를 전달할 때 호출되는 메소드이다. 이 매소드는 매개별수를 가질 수 없다.\n"
   ]
  },
  {
   "cell_type": "code",
   "execution_count": null,
   "id": "300f3bf4",
   "metadata": {},
   "outputs": [],
   "source": []
  },
  {
   "cell_type": "code",
   "execution_count": null,
   "id": "ccf0ff47",
   "metadata": {},
   "outputs": [],
   "source": []
  },
  {
   "cell_type": "code",
   "execution_count": null,
   "id": "539fffe4",
   "metadata": {},
   "outputs": [],
   "source": []
  },
  {
   "cell_type": "code",
   "execution_count": null,
   "id": "ad45c667",
   "metadata": {},
   "outputs": [],
   "source": []
  },
  {
   "cell_type": "code",
   "execution_count": null,
   "id": "b392ef52",
   "metadata": {},
   "outputs": [],
   "source": []
  },
  {
   "cell_type": "code",
   "execution_count": null,
   "id": "192490e6",
   "metadata": {},
   "outputs": [],
   "source": []
  },
  {
   "cell_type": "code",
   "execution_count": null,
   "id": "df01b298",
   "metadata": {},
   "outputs": [],
   "source": []
  },
  {
   "cell_type": "code",
   "execution_count": null,
   "id": "24a99778",
   "metadata": {},
   "outputs": [],
   "source": []
  },
  {
   "cell_type": "code",
   "execution_count": null,
   "id": "be6a717e",
   "metadata": {},
   "outputs": [],
   "source": []
  },
  {
   "cell_type": "code",
   "execution_count": null,
   "id": "51a6e5f2",
   "metadata": {},
   "outputs": [],
   "source": []
  },
  {
   "cell_type": "code",
   "execution_count": null,
   "id": "884c6f04",
   "metadata": {},
   "outputs": [],
   "source": []
  },
  {
   "cell_type": "code",
   "execution_count": null,
   "id": "9d3f77c8",
   "metadata": {},
   "outputs": [],
   "source": []
  },
  {
   "cell_type": "code",
   "execution_count": null,
   "id": "e970bf2a",
   "metadata": {},
   "outputs": [],
   "source": []
  },
  {
   "cell_type": "code",
   "execution_count": null,
   "id": "d12e865c",
   "metadata": {},
   "outputs": [],
   "source": []
  },
  {
   "cell_type": "code",
   "execution_count": null,
   "id": "f95561db",
   "metadata": {},
   "outputs": [],
   "source": []
  },
  {
   "cell_type": "code",
   "execution_count": null,
   "id": "a2344a8b",
   "metadata": {},
   "outputs": [],
   "source": []
  },
  {
   "cell_type": "code",
   "execution_count": null,
   "id": "d45a98be",
   "metadata": {},
   "outputs": [],
   "source": []
  },
  {
   "cell_type": "code",
   "execution_count": null,
   "id": "05dd59c8",
   "metadata": {},
   "outputs": [],
   "source": []
  },
  {
   "cell_type": "code",
   "execution_count": null,
   "id": "ea67ec46",
   "metadata": {},
   "outputs": [],
   "source": []
  },
  {
   "cell_type": "code",
   "execution_count": null,
   "id": "c2069dac",
   "metadata": {},
   "outputs": [],
   "source": []
  },
  {
   "cell_type": "code",
   "execution_count": null,
   "id": "80e4d659",
   "metadata": {},
   "outputs": [],
   "source": []
  },
  {
   "cell_type": "code",
   "execution_count": null,
   "id": "c9411008",
   "metadata": {},
   "outputs": [],
   "source": []
  },
  {
   "cell_type": "code",
   "execution_count": null,
   "id": "dba6d934",
   "metadata": {},
   "outputs": [],
   "source": []
  },
  {
   "cell_type": "code",
   "execution_count": null,
   "id": "fbde2179",
   "metadata": {},
   "outputs": [],
   "source": []
  },
  {
   "cell_type": "code",
   "execution_count": null,
   "id": "1ae77b8a",
   "metadata": {},
   "outputs": [],
   "source": []
  },
  {
   "cell_type": "code",
   "execution_count": null,
   "id": "ffbbdcca",
   "metadata": {},
   "outputs": [],
   "source": []
  },
  {
   "cell_type": "code",
   "execution_count": null,
   "id": "a5042e5a",
   "metadata": {},
   "outputs": [],
   "source": []
  },
  {
   "cell_type": "code",
   "execution_count": null,
   "id": "3e1eb0b7",
   "metadata": {},
   "outputs": [],
   "source": []
  },
  {
   "cell_type": "code",
   "execution_count": null,
   "id": "ee533ac1",
   "metadata": {},
   "outputs": [],
   "source": []
  },
  {
   "cell_type": "code",
   "execution_count": null,
   "id": "dd32b540",
   "metadata": {},
   "outputs": [],
   "source": []
  },
  {
   "cell_type": "code",
   "execution_count": null,
   "id": "71bb5b83",
   "metadata": {},
   "outputs": [],
   "source": []
  },
  {
   "cell_type": "code",
   "execution_count": null,
   "id": "c53d67d8",
   "metadata": {},
   "outputs": [],
   "source": []
  },
  {
   "cell_type": "code",
   "execution_count": null,
   "id": "9a43a864",
   "metadata": {},
   "outputs": [],
   "source": []
  },
  {
   "cell_type": "code",
   "execution_count": null,
   "id": "a1ef30d2",
   "metadata": {},
   "outputs": [],
   "source": []
  },
  {
   "cell_type": "code",
   "execution_count": null,
   "id": "51f96552",
   "metadata": {},
   "outputs": [],
   "source": []
  },
  {
   "cell_type": "code",
   "execution_count": null,
   "id": "694b102f",
   "metadata": {},
   "outputs": [],
   "source": []
  },
  {
   "cell_type": "code",
   "execution_count": null,
   "id": "c7eced0a",
   "metadata": {},
   "outputs": [],
   "source": []
  },
  {
   "cell_type": "code",
   "execution_count": null,
   "id": "2150190e",
   "metadata": {},
   "outputs": [],
   "source": []
  },
  {
   "cell_type": "code",
   "execution_count": null,
   "id": "2d76a4ce",
   "metadata": {},
   "outputs": [],
   "source": []
  },
  {
   "cell_type": "code",
   "execution_count": null,
   "id": "40468024",
   "metadata": {},
   "outputs": [],
   "source": []
  },
  {
   "cell_type": "code",
   "execution_count": null,
   "id": "21425586",
   "metadata": {},
   "outputs": [],
   "source": []
  },
  {
   "cell_type": "code",
   "execution_count": null,
   "id": "bed96f1b",
   "metadata": {},
   "outputs": [],
   "source": []
  },
  {
   "cell_type": "code",
   "execution_count": null,
   "id": "baba2074",
   "metadata": {},
   "outputs": [],
   "source": []
  },
  {
   "cell_type": "code",
   "execution_count": null,
   "id": "d903d286",
   "metadata": {},
   "outputs": [],
   "source": []
  },
  {
   "cell_type": "code",
   "execution_count": null,
   "id": "c86601bd",
   "metadata": {},
   "outputs": [],
   "source": []
  },
  {
   "cell_type": "code",
   "execution_count": null,
   "id": "3d55e235",
   "metadata": {},
   "outputs": [],
   "source": []
  },
  {
   "cell_type": "code",
   "execution_count": null,
   "id": "8a5abbd0",
   "metadata": {},
   "outputs": [],
   "source": []
  },
  {
   "cell_type": "code",
   "execution_count": null,
   "id": "da346fae",
   "metadata": {},
   "outputs": [],
   "source": []
  },
  {
   "cell_type": "code",
   "execution_count": null,
   "id": "58602efc",
   "metadata": {},
   "outputs": [],
   "source": []
  },
  {
   "cell_type": "code",
   "execution_count": null,
   "id": "6584b4ac",
   "metadata": {},
   "outputs": [],
   "source": []
  },
  {
   "cell_type": "code",
   "execution_count": null,
   "id": "92593704",
   "metadata": {},
   "outputs": [],
   "source": []
  },
  {
   "cell_type": "code",
   "execution_count": null,
   "id": "fc9598bf",
   "metadata": {},
   "outputs": [],
   "source": []
  },
  {
   "cell_type": "code",
   "execution_count": null,
   "id": "50dc8bc9",
   "metadata": {},
   "outputs": [],
   "source": []
  },
  {
   "cell_type": "code",
   "execution_count": null,
   "id": "acfbab59",
   "metadata": {},
   "outputs": [],
   "source": []
  },
  {
   "cell_type": "code",
   "execution_count": null,
   "id": "b42a9730",
   "metadata": {},
   "outputs": [],
   "source": []
  },
  {
   "cell_type": "code",
   "execution_count": null,
   "id": "b5a5b2b9",
   "metadata": {},
   "outputs": [],
   "source": []
  },
  {
   "cell_type": "code",
   "execution_count": null,
   "id": "21dfd543",
   "metadata": {},
   "outputs": [],
   "source": []
  },
  {
   "cell_type": "code",
   "execution_count": null,
   "id": "acc6ece1",
   "metadata": {},
   "outputs": [],
   "source": []
  },
  {
   "cell_type": "code",
   "execution_count": null,
   "id": "19f4d6f0",
   "metadata": {},
   "outputs": [],
   "source": []
  },
  {
   "cell_type": "code",
   "execution_count": null,
   "id": "fa5a378d",
   "metadata": {},
   "outputs": [],
   "source": []
  },
  {
   "cell_type": "code",
   "execution_count": null,
   "id": "c78ae659",
   "metadata": {},
   "outputs": [],
   "source": []
  },
  {
   "cell_type": "code",
   "execution_count": null,
   "id": "7b4d1977",
   "metadata": {},
   "outputs": [],
   "source": []
  },
  {
   "cell_type": "code",
   "execution_count": null,
   "id": "c4c87268",
   "metadata": {},
   "outputs": [],
   "source": []
  },
  {
   "cell_type": "code",
   "execution_count": null,
   "id": "fa764b88",
   "metadata": {},
   "outputs": [],
   "source": []
  },
  {
   "cell_type": "code",
   "execution_count": null,
   "id": "14e68388",
   "metadata": {},
   "outputs": [],
   "source": []
  },
  {
   "cell_type": "code",
   "execution_count": null,
   "id": "b972241d",
   "metadata": {},
   "outputs": [],
   "source": []
  },
  {
   "cell_type": "code",
   "execution_count": null,
   "id": "6e94d5b2",
   "metadata": {},
   "outputs": [],
   "source": []
  },
  {
   "cell_type": "code",
   "execution_count": null,
   "id": "c84f82e8",
   "metadata": {},
   "outputs": [],
   "source": []
  },
  {
   "cell_type": "code",
   "execution_count": null,
   "id": "dd52ac5e",
   "metadata": {},
   "outputs": [],
   "source": []
  },
  {
   "cell_type": "code",
   "execution_count": null,
   "id": "25f056d1",
   "metadata": {},
   "outputs": [],
   "source": []
  },
  {
   "cell_type": "code",
   "execution_count": null,
   "id": "50da95c5",
   "metadata": {},
   "outputs": [],
   "source": []
  },
  {
   "cell_type": "code",
   "execution_count": null,
   "id": "676e14cb",
   "metadata": {},
   "outputs": [],
   "source": []
  },
  {
   "cell_type": "code",
   "execution_count": null,
   "id": "3bbd097c",
   "metadata": {},
   "outputs": [],
   "source": []
  },
  {
   "cell_type": "code",
   "execution_count": null,
   "id": "c736bb75",
   "metadata": {},
   "outputs": [],
   "source": []
  },
  {
   "cell_type": "code",
   "execution_count": null,
   "id": "b28b5815",
   "metadata": {},
   "outputs": [],
   "source": []
  },
  {
   "cell_type": "code",
   "execution_count": null,
   "id": "e645a5b2",
   "metadata": {},
   "outputs": [],
   "source": []
  },
  {
   "cell_type": "code",
   "execution_count": null,
   "id": "090f8588",
   "metadata": {},
   "outputs": [],
   "source": []
  },
  {
   "cell_type": "code",
   "execution_count": null,
   "id": "2f8457db",
   "metadata": {},
   "outputs": [],
   "source": []
  },
  {
   "cell_type": "code",
   "execution_count": null,
   "id": "66a0a000",
   "metadata": {},
   "outputs": [],
   "source": []
  },
  {
   "cell_type": "code",
   "execution_count": null,
   "id": "ce52b80e",
   "metadata": {},
   "outputs": [],
   "source": []
  },
  {
   "cell_type": "code",
   "execution_count": null,
   "id": "664c31f1",
   "metadata": {},
   "outputs": [],
   "source": []
  },
  {
   "cell_type": "code",
   "execution_count": null,
   "id": "54b87cd5",
   "metadata": {},
   "outputs": [],
   "source": []
  },
  {
   "cell_type": "code",
   "execution_count": null,
   "id": "f48a1982",
   "metadata": {},
   "outputs": [],
   "source": []
  },
  {
   "cell_type": "code",
   "execution_count": null,
   "id": "70446daa",
   "metadata": {},
   "outputs": [],
   "source": []
  },
  {
   "cell_type": "code",
   "execution_count": null,
   "id": "83df0dcb",
   "metadata": {},
   "outputs": [],
   "source": []
  },
  {
   "cell_type": "code",
   "execution_count": null,
   "id": "a0f5a894",
   "metadata": {},
   "outputs": [],
   "source": []
  },
  {
   "cell_type": "code",
   "execution_count": null,
   "id": "9db39a03",
   "metadata": {},
   "outputs": [],
   "source": []
  },
  {
   "cell_type": "code",
   "execution_count": null,
   "id": "69bbbc3e",
   "metadata": {},
   "outputs": [],
   "source": []
  },
  {
   "cell_type": "code",
   "execution_count": null,
   "id": "7cd154da",
   "metadata": {},
   "outputs": [],
   "source": []
  },
  {
   "cell_type": "code",
   "execution_count": null,
   "id": "2e4b98c1",
   "metadata": {},
   "outputs": [],
   "source": []
  },
  {
   "cell_type": "code",
   "execution_count": null,
   "id": "a297f74a",
   "metadata": {},
   "outputs": [],
   "source": []
  },
  {
   "cell_type": "code",
   "execution_count": null,
   "id": "3d7fc488",
   "metadata": {},
   "outputs": [],
   "source": []
  },
  {
   "cell_type": "code",
   "execution_count": null,
   "id": "96bbc0fc",
   "metadata": {},
   "outputs": [],
   "source": []
  },
  {
   "cell_type": "code",
   "execution_count": null,
   "id": "391eb1b8",
   "metadata": {},
   "outputs": [],
   "source": []
  },
  {
   "cell_type": "code",
   "execution_count": null,
   "id": "dc6e4ed0",
   "metadata": {},
   "outputs": [],
   "source": []
  },
  {
   "cell_type": "code",
   "execution_count": null,
   "id": "82a3fe70",
   "metadata": {},
   "outputs": [],
   "source": []
  },
  {
   "cell_type": "code",
   "execution_count": null,
   "id": "8dc33a48",
   "metadata": {},
   "outputs": [],
   "source": []
  },
  {
   "cell_type": "code",
   "execution_count": null,
   "id": "f2850ada",
   "metadata": {},
   "outputs": [],
   "source": []
  },
  {
   "cell_type": "code",
   "execution_count": null,
   "id": "6c38ab2e",
   "metadata": {},
   "outputs": [],
   "source": []
  },
  {
   "cell_type": "code",
   "execution_count": null,
   "id": "cd83e294",
   "metadata": {},
   "outputs": [],
   "source": []
  },
  {
   "cell_type": "code",
   "execution_count": null,
   "id": "19f9f572",
   "metadata": {},
   "outputs": [],
   "source": []
  },
  {
   "cell_type": "code",
   "execution_count": null,
   "id": "97dd94ca",
   "metadata": {},
   "outputs": [],
   "source": []
  },
  {
   "cell_type": "code",
   "execution_count": null,
   "id": "4a679847",
   "metadata": {},
   "outputs": [],
   "source": []
  },
  {
   "cell_type": "code",
   "execution_count": null,
   "id": "8d5c0956",
   "metadata": {},
   "outputs": [],
   "source": []
  },
  {
   "cell_type": "code",
   "execution_count": null,
   "id": "e4da2de2",
   "metadata": {},
   "outputs": [],
   "source": []
  },
  {
   "cell_type": "code",
   "execution_count": null,
   "id": "9497d618",
   "metadata": {},
   "outputs": [],
   "source": []
  },
  {
   "cell_type": "code",
   "execution_count": null,
   "id": "3166ab55",
   "metadata": {},
   "outputs": [],
   "source": []
  },
  {
   "cell_type": "code",
   "execution_count": null,
   "id": "1f1402a2",
   "metadata": {},
   "outputs": [],
   "source": []
  },
  {
   "cell_type": "code",
   "execution_count": null,
   "id": "04a3e8ce",
   "metadata": {},
   "outputs": [],
   "source": []
  },
  {
   "cell_type": "code",
   "execution_count": null,
   "id": "74baa9ae",
   "metadata": {},
   "outputs": [],
   "source": []
  },
  {
   "cell_type": "code",
   "execution_count": null,
   "id": "8e4f849f",
   "metadata": {},
   "outputs": [],
   "source": []
  },
  {
   "cell_type": "code",
   "execution_count": null,
   "id": "2148722f",
   "metadata": {},
   "outputs": [],
   "source": []
  },
  {
   "cell_type": "code",
   "execution_count": null,
   "id": "a0402b44",
   "metadata": {},
   "outputs": [],
   "source": []
  },
  {
   "cell_type": "code",
   "execution_count": null,
   "id": "0df0fa0d",
   "metadata": {},
   "outputs": [],
   "source": []
  },
  {
   "cell_type": "code",
   "execution_count": null,
   "id": "86d7ff12",
   "metadata": {},
   "outputs": [],
   "source": []
  },
  {
   "cell_type": "code",
   "execution_count": null,
   "id": "c0e924aa",
   "metadata": {},
   "outputs": [],
   "source": []
  },
  {
   "cell_type": "code",
   "execution_count": null,
   "id": "85dd0e78",
   "metadata": {},
   "outputs": [],
   "source": []
  },
  {
   "cell_type": "code",
   "execution_count": null,
   "id": "643461e6",
   "metadata": {},
   "outputs": [],
   "source": []
  },
  {
   "cell_type": "code",
   "execution_count": null,
   "id": "1a1afe8e",
   "metadata": {},
   "outputs": [],
   "source": []
  },
  {
   "cell_type": "code",
   "execution_count": null,
   "id": "99c3dae2",
   "metadata": {},
   "outputs": [],
   "source": []
  },
  {
   "cell_type": "code",
   "execution_count": null,
   "id": "100870f9",
   "metadata": {},
   "outputs": [],
   "source": []
  },
  {
   "cell_type": "code",
   "execution_count": null,
   "id": "dac553b9",
   "metadata": {},
   "outputs": [],
   "source": []
  },
  {
   "cell_type": "code",
   "execution_count": null,
   "id": "0fad5f90",
   "metadata": {},
   "outputs": [],
   "source": []
  },
  {
   "cell_type": "code",
   "execution_count": null,
   "id": "3fc903f6",
   "metadata": {},
   "outputs": [],
   "source": []
  },
  {
   "cell_type": "code",
   "execution_count": null,
   "id": "42f9bf55",
   "metadata": {},
   "outputs": [],
   "source": []
  },
  {
   "cell_type": "code",
   "execution_count": null,
   "id": "ac815eb4",
   "metadata": {},
   "outputs": [],
   "source": []
  },
  {
   "cell_type": "code",
   "execution_count": null,
   "id": "b1fac1c8",
   "metadata": {},
   "outputs": [],
   "source": []
  },
  {
   "cell_type": "code",
   "execution_count": null,
   "id": "cdba0897",
   "metadata": {},
   "outputs": [],
   "source": []
  },
  {
   "cell_type": "code",
   "execution_count": null,
   "id": "27244fb5",
   "metadata": {},
   "outputs": [],
   "source": []
  },
  {
   "cell_type": "code",
   "execution_count": null,
   "id": "a2602745",
   "metadata": {},
   "outputs": [],
   "source": []
  },
  {
   "cell_type": "code",
   "execution_count": null,
   "id": "6cd90199",
   "metadata": {},
   "outputs": [],
   "source": []
  },
  {
   "cell_type": "code",
   "execution_count": null,
   "id": "82398499",
   "metadata": {},
   "outputs": [],
   "source": []
  },
  {
   "cell_type": "code",
   "execution_count": null,
   "id": "69faaea1",
   "metadata": {},
   "outputs": [],
   "source": []
  },
  {
   "cell_type": "code",
   "execution_count": null,
   "id": "61e6b91e",
   "metadata": {},
   "outputs": [],
   "source": []
  },
  {
   "cell_type": "code",
   "execution_count": null,
   "id": "34687d87",
   "metadata": {},
   "outputs": [],
   "source": []
  },
  {
   "cell_type": "code",
   "execution_count": null,
   "id": "83b59f43",
   "metadata": {},
   "outputs": [],
   "source": []
  },
  {
   "cell_type": "code",
   "execution_count": null,
   "id": "525f8a6b",
   "metadata": {},
   "outputs": [],
   "source": []
  },
  {
   "cell_type": "code",
   "execution_count": null,
   "id": "14c428bd",
   "metadata": {},
   "outputs": [],
   "source": []
  },
  {
   "cell_type": "code",
   "execution_count": null,
   "id": "6961f6a7",
   "metadata": {},
   "outputs": [],
   "source": []
  },
  {
   "cell_type": "code",
   "execution_count": null,
   "id": "bf0ff2d9",
   "metadata": {},
   "outputs": [],
   "source": []
  },
  {
   "cell_type": "code",
   "execution_count": null,
   "id": "94cb7b6e",
   "metadata": {},
   "outputs": [],
   "source": []
  },
  {
   "cell_type": "code",
   "execution_count": null,
   "id": "fad0a585",
   "metadata": {},
   "outputs": [],
   "source": []
  },
  {
   "cell_type": "code",
   "execution_count": null,
   "id": "61d391e9",
   "metadata": {},
   "outputs": [],
   "source": []
  },
  {
   "cell_type": "code",
   "execution_count": null,
   "id": "f84a7b35",
   "metadata": {},
   "outputs": [],
   "source": []
  },
  {
   "cell_type": "code",
   "execution_count": null,
   "id": "0ce1c199",
   "metadata": {},
   "outputs": [],
   "source": []
  },
  {
   "cell_type": "code",
   "execution_count": null,
   "id": "4a8ebd40",
   "metadata": {},
   "outputs": [],
   "source": []
  },
  {
   "cell_type": "code",
   "execution_count": null,
   "id": "de214e5b",
   "metadata": {},
   "outputs": [],
   "source": []
  },
  {
   "cell_type": "code",
   "execution_count": null,
   "id": "85677574",
   "metadata": {},
   "outputs": [],
   "source": []
  },
  {
   "cell_type": "code",
   "execution_count": null,
   "id": "79afce33",
   "metadata": {},
   "outputs": [],
   "source": []
  },
  {
   "cell_type": "code",
   "execution_count": null,
   "id": "8af54ed6",
   "metadata": {},
   "outputs": [],
   "source": []
  },
  {
   "cell_type": "code",
   "execution_count": null,
   "id": "42856156",
   "metadata": {},
   "outputs": [],
   "source": []
  }
 ],
 "metadata": {
  "kernelspec": {
   "display_name": "Python 3 (ipykernel)",
   "language": "python",
   "name": "python3"
  },
  "language_info": {
   "codemirror_mode": {
    "name": "ipython",
    "version": 3
   },
   "file_extension": ".py",
   "mimetype": "text/x-python",
   "name": "python",
   "nbconvert_exporter": "python",
   "pygments_lexer": "ipython3",
   "version": "3.10.9"
  },
  "toc": {
   "base_numbering": 1,
   "nav_menu": {},
   "number_sections": false,
   "sideBar": true,
   "skip_h1_title": false,
   "title_cell": "Table of Contents",
   "title_sidebar": "Contents",
   "toc_cell": false,
   "toc_position": {},
   "toc_section_display": true,
   "toc_window_display": false
  }
 },
 "nbformat": 4,
 "nbformat_minor": 5
}
