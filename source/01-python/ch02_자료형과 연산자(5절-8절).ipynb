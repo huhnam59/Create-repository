{
 "cells": [
  {
   "cell_type": "code",
   "execution_count": 3,
   "id": "f93db863",
   "metadata": {},
   "outputs": [
    {
     "data": {
      "text/html": [
       "\n",
       "<style>\n",
       "div.container{width:90% !important;}\n",
       "div.cell.code_cell.rendered{width:100%;}\n",
       "div.input_prompt{padding:0px;}\n",
       "div.CodeMirror {font-family:Consolas; font-size:22pt;}\n",
       "div.text_cell_render.rendered_html{font-size:22pt;}\n",
       "div.output {font-size:22pt; font-weight:bold;}\n",
       "div.input {font-family:Consolas; font-size:22pt;}\n",
       "div.prompt {min-width:100px;}\n",
       "div#toc-wrapper{padding-top:120px;}\n",
       "div.text_cell_render ul li{font-size:22pt;padding:5px;}\n",
       "table.dataframe{font-size:22px;}\n",
       "</style>\n"
      ],
      "text/plain": [
       "<IPython.core.display.HTML object>"
      ]
     },
     "metadata": {},
     "output_type": "display_data"
    }
   ],
   "source": [
    "from IPython.display import display, HTML\n",
    "display(HTML(\"\"\"\n",
    "<style>\n",
    "div.container{width:90% !important;}\n",
    "div.cell.code_cell.rendered{width:100%;}\n",
    "div.input_prompt{padding:0px;}\n",
    "div.CodeMirror {font-family:Consolas; font-size:22pt;}\n",
    "div.text_cell_render.rendered_html{font-size:22pt;}\n",
    "div.output {font-size:22pt; font-weight:bold;}\n",
    "div.input {font-family:Consolas; font-size:22pt;}\n",
    "div.prompt {min-width:100px;}\n",
    "div#toc-wrapper{padding-top:120px;}\n",
    "div.text_cell_render ul li{font-size:22pt;padding:5px;}\n",
    "table.dataframe{font-size:22px;}\n",
    "</style>\n",
    "\"\"\"))"
   ]
  },
  {
   "cell_type": "markdown",
   "id": "4c1b403a",
   "metadata": {},
   "source": [
    "# 5.1 산술연산자: +, -, *,/(결과 float), //(나머지), **(제곱)\n",
    "print(\"10*5ymd=\", 10**5)\n",
    "print(\"4/2*(결과 실수)=\", 4/2)"
   ]
  },
  {
   "cell_type": "code",
   "execution_count": 3,
   "id": "3595fa7c",
   "metadata": {},
   "outputs": [
    {
     "name": "stdout",
     "output_type": "stream",
     "text": [
      "10*5승= 100000\n",
      "5/2(결과 실수)= 2.5\n"
     ]
    }
   ],
   "source": [
    "print(\"10*5승=\", 10**5) \n",
    "print(\"5/2(결과 실수)=\", 5/2)"
   ]
  },
  {
   "cell_type": "code",
   "execution_count": 6,
   "id": "1d25f58d",
   "metadata": {},
   "outputs": [
    {
     "name": "stdout",
     "output_type": "stream",
     "text": [
      "10*5승= 100000\n",
      "5/2(결과 실수)= 2.5\n",
      "5//2(몫)= 2\n",
      "5%2(나머지)= 1\n"
     ]
    }
   ],
   "source": [
    "print(\"10*5승=\", 10**5) \n",
    "print(\"5/2(결과 실수)=\", 5/2)\n",
    "print(\"5//2(몫)=\", 5//2) \n",
    "print(\"5%2(나머지)=\", 5%2)"
   ]
  },
  {
   "cell_type": "code",
   "execution_count": 5,
   "id": "1d849efe",
   "metadata": {},
   "outputs": [
    {
     "name": "stdout",
     "output_type": "stream",
     "text": [
      "4**2= 16.0\n"
     ]
    }
   ],
   "source": [
    "# 정수끼리 연산한 결과가 정수(단 /제외)\n",
    "# 정수와 실수, 실수끼리 연산 결과는 실수\n",
    "print(\"4**2=\", 4**2.0)"
   ]
  },
  {
   "cell_type": "code",
   "execution_count": null,
   "id": "fbc0d8d9",
   "metadata": {},
   "outputs": [],
   "source": [
    "# quiz1.  정수를 입력받아 짝수인지 홀수 여부를 출력\n",
    "num = int(input(\"정수를 입력하세요:\"))\n",
    "result = num % 2 # -1, 0, 1\n",
    "if result:\n",
    "    temp = \"홀수\"\n",
    "else:\n",
    "    temp = \"짝수\"\n",
    "print(f\"입력하신 수는 {num}, 2로 나눈 나머지는 {result}라서 {temp}를 입력하셨습니다\")"
   ]
  },
  {
   "cell_type": "code",
   "execution_count": 5,
   "id": "0ee3c8a2",
   "metadata": {},
   "outputs": [
    {
     "name": "stdout",
     "output_type": "stream",
     "text": [
      "정수를 입력하세요:8\n",
      "정수8은 5의 배수가 아님입니다\n"
     ]
    }
   ],
   "source": [
    "# quiz2. 정수를 입력받아 5의배수인지 여부를 출력\n",
    "num = int(input(\"정수를 입력하세요:\"))\n",
    "if num % 5 == 0:\n",
    "    temp=\"5의배수\"\n",
    "else:\n",
    "    temp=\"5의 배수가 아님\"\n",
    "print(f\"정수{num}은 {temp}입니다\")"
   ]
  },
  {
   "cell_type": "code",
   "execution_count": 4,
   "id": "1b2d1c82",
   "metadata": {},
   "outputs": [
    {
     "name": "stdout",
     "output_type": "stream",
     "text": [
      "정수를 입력하세요:7\n",
      "5의 배수입니다.\n"
     ]
    }
   ],
   "source": [
    "# quiz2. 정수를 입력받아 5의배수인지 여부를 출력\n",
    "num = int(input(\"정수를 입력하세요:\"))\n",
    "if num % 5 == 0:\n",
    "    print(\"5dml 배수가 아님\")\n",
    "else:\n",
    "    print(\"5의 배수입니다.\")"
   ]
  },
  {
   "cell_type": "code",
   "execution_count": 1,
   "id": "30f5610f",
   "metadata": {},
   "outputs": [
    {
     "name": "stdout",
     "output_type": "stream",
     "text": [
      "국어?99\n",
      "영어?100\n",
      "수학?100\n",
      "국어, 영어, 수학의 총점은299이고, 평균은99.7입니다\n"
     ]
    }
   ],
   "source": [
    "# quiz3. 국, 영, 수 점수를 입력받아 다음 셀에서 다음과 같이 출력하도록 구현하시오\n",
    "# 국어: 99, 영어: 100, 수학:100\n",
    "# 합계 : 299   평균: 99.7\n",
    "kor=int(input(\"국어?\"))\n",
    "eng=int(input(\"영어?\"))\n",
    "mat=int(input(\"수학?\"))\n",
    "sum=kor+eng+mat\n",
    "avg=sum/3\n",
    "print(f\"국어, 영어, 수학의 총점은{sum}이고, 평균은{avg:.1f}입니다\")"
   ]
  },
  {
   "cell_type": "markdown",
   "id": "e955a872",
   "metadata": {},
   "source": [
    "## 5.2 할당 연산자: =, +=, -=, *=, %="
   ]
  },
  {
   "cell_type": "code",
   "execution_count": null,
   "id": "e1fd09c0",
   "metadata": {},
   "outputs": [],
   "source": [
    "a=b=10, 우측부터 시작"
   ]
  },
  {
   "cell_type": "markdown",
   "id": "6a841ba0",
   "metadata": {},
   "source": [
    "a = 10\n",
    "a + = 5 # a= +5와 동일\n",
    "print(f\"a={a}\")\n",
    "print(\"10배:\",a) #100\n",
    "a//\n",
    "print()"
   ]
  },
  {
   "cell_type": "markdown",
   "id": "15133dfc",
   "metadata": {},
   "source": [
    "## 5. 3. 논리연산자: &, and, i, or, not"
   ]
  },
  {
   "cell_type": "code",
   "execution_count": 12,
   "id": "e7e70d0e",
   "metadata": {},
   "outputs": [
    {
     "ename": "SyntaxError",
     "evalue": "unmatched ')' (3899188352.py, line 2)",
     "output_type": "error",
     "traceback": [
      "\u001b[1;36m  Cell \u001b[1;32mIn[12], line 2\u001b[1;36m\u001b[0m\n\u001b[1;33m    print( 20>3) &(10>5)) # 논리연산 True & True\u001b[0m\n\u001b[1;37m                        ^\u001b[0m\n\u001b[1;31mSyntaxError\u001b[0m\u001b[1;31m:\u001b[0m unmatched ')'\n"
     ]
    }
   ],
   "source": [
    "# & : 논리연산자. 비트 연산자\n",
    "print( 20>3) &(10>5)) # 논리연산 True & True\n",
    "print(12 & 1) # 비트 연산  1100(12)\n",
    "                     #     0001 (1) \n",
    "                     # &: 0000"
   ]
  },
  {
   "cell_type": "code",
   "execution_count": 11,
   "id": "6f7e0ef2",
   "metadata": {},
   "outputs": [
    {
     "name": "stdout",
     "output_type": "stream",
     "text": [
      "True\n",
      "0\n"
     ]
    }
   ],
   "source": [
    "# and: 논리 연산자,False로 판별되는 첫번째 항의 결과 반환\n",
    "print( (10>3) and (10>5))\n",
    "print(0 and 1)"
   ]
  },
  {
   "cell_type": "code",
   "execution_count": 13,
   "id": "566bc8a7",
   "metadata": {},
   "outputs": [
    {
     "ename": "SyntaxError",
     "evalue": "unmatched ')' (2507175755.py, line 2)",
     "output_type": "error",
     "traceback": [
      "\u001b[1;36m  Cell \u001b[1;32mIn[13], line 2\u001b[1;36m\u001b[0m\n\u001b[1;33m    print( 20>3) &(10>5)) # 논리연산 True & True\u001b[0m\n\u001b[1;37m                        ^\u001b[0m\n\u001b[1;31mSyntaxError\u001b[0m\u001b[1;31m:\u001b[0m unmatched ')'\n"
     ]
    }
   ],
   "source": [
    "# & : 논리연산자. 비트 연산자\n",
    "print( 20>3) &(10>5)) # 논리연산 True & True\n",
    "print(12 & 1) # 비트 연산  1100(12)"
   ]
  },
  {
   "cell_type": "code",
   "execution_count": 1,
   "id": "962b32a5",
   "metadata": {},
   "outputs": [
    {
     "ename": "SyntaxError",
     "evalue": "invalid syntax (3594385691.py, line 2)",
     "output_type": "error",
     "traceback": [
      "\u001b[1;36m  Cell \u001b[1;32mIn[1], line 2\u001b[1;36m\u001b[0m\n\u001b[1;33m    print(\"홍길동\"/)\u001b[0m\n\u001b[1;37m                ^\u001b[0m\n\u001b[1;31mSyntaxError\u001b[0m\u001b[1;31m:\u001b[0m invalid syntax\n"
     ]
    }
   ],
   "source": [
    "# /: 논리연산, 비트연산\n",
    "result=True |False\n",
    "print('논리연산(연산자 앞뒤에 논리형일 때) :', result)\n",
    "result=False\n"
   ]
  },
  {
   "cell_type": "code",
   "execution_count": null,
   "id": "2b8e8500",
   "metadata": {},
   "outputs": [],
   "source": [
    "# or: 논리연산, 참으로 판별되는 첫번째"
   ]
  },
  {
   "cell_type": "code",
   "execution_count": null,
   "id": "b8b78d1c",
   "metadata": {},
   "outputs": [],
   "source": []
  },
  {
   "cell_type": "code",
   "execution_count": 2,
   "id": "1baa3dcb",
   "metadata": {},
   "outputs": [
    {
     "data": {
      "text/plain": [
       "False"
      ]
     },
     "execution_count": 2,
     "metadata": {},
     "output_type": "execute_result"
    }
   ],
   "source": [
    "not 10>5"
   ]
  },
  {
   "cell_type": "markdown",
   "id": "5ef671ef",
   "metadata": {},
   "source": [
    "## 5.4 비교연산자: >,>=,<,<=(같다),==,!=(다르다)"
   ]
  },
  {
   "cell_type": "code",
   "execution_count": 6,
   "id": "4d8bef92",
   "metadata": {},
   "outputs": [
    {
     "ename": "NameError",
     "evalue": "name 'X' is not defined",
     "output_type": "error",
     "traceback": [
      "\u001b[1;31m---------------------------------------------------------------------------\u001b[0m",
      "\u001b[1;31mNameError\u001b[0m                                 Traceback (most recent call last)",
      "Cell \u001b[1;32mIn[6], line 3\u001b[0m\n\u001b[0;32m      1\u001b[0m \u001b[38;5;66;03m# 비교연산자는 이황\u001b[39;00m\n\u001b[0;32m      2\u001b[0m x\u001b[38;5;241m=\u001b[39m\u001b[38;5;241m95\u001b[39m\n\u001b[1;32m----> 3\u001b[0m \u001b[38;5;28mprint\u001b[39m((\u001b[38;5;241m90\u001b[39m\u001b[38;5;241m<\u001b[39m\u001b[38;5;241m=\u001b[39m\u001b[43mX\u001b[49m \u001b[38;5;241m&\u001b[39m X\u001b[38;5;241m<\u001b[39m\u001b[38;5;241m=\u001b[39m\u001b[38;5;241m100\u001b[39m))\n",
      "\u001b[1;31mNameError\u001b[0m: name 'X' is not defined"
     ]
    }
   ],
   "source": [
    "# 비교연산자는 이황\n",
    "x=95\n",
    "print((90<=X & X<=100))\n",
    "print(90<= X "
   ]
  },
  {
   "cell_type": "code",
   "execution_count": null,
   "id": "68336b55",
   "metadata": {},
   "outputs": [],
   "source": [
    "# 비교연산자의 우선순위가 비트연산사 (| &)의 우선순위보다 낫다\n",
    "print((10>5) & (10>&)7))\n",
    "print((10>7 & (10>&)7))"
   ]
  },
  {
   "cell_type": "code",
   "execution_count": 8,
   "id": "d9567cd2",
   "metadata": {},
   "outputs": [
    {
     "ename": "NameError",
     "evalue": "name 'age' is not defined",
     "output_type": "error",
     "traceback": [
      "\u001b[1;31m---------------------------------------------------------------------------\u001b[0m",
      "\u001b[1;31mNameError\u001b[0m                                 Traceback (most recent call last)",
      "Cell \u001b[1;32mIn[8], line 2\u001b[0m\n\u001b[0;32m      1\u001b[0m address  \u001b[38;5;241m=\u001b[39m \u001b[38;5;124m\"\u001b[39m\u001b[38;5;124m목동\u001b[39m\u001b[38;5;124m\"\u001b[39m\n\u001b[1;32m----> 2\u001b[0m \u001b[43mage\u001b[49m ; \u001b[38;5;241m29\u001b[39m\n\u001b[0;32m      3\u001b[0m \u001b[38;5;66;03m# print(address==\"목동\")  &(age<=30)\u001b[39;00m\n\u001b[0;32m      4\u001b[0m \u001b[38;5;28mprint\u001b[39m(address\u001b[38;5;241m==\u001b[39m\u001b[38;5;124m\"\u001b[39m\u001b[38;5;124m목동\u001b[39m\u001b[38;5;124m\"\u001b[39m)  \u001b[38;5;241m&\u001b[39m (age\u001b[38;5;241m<\u001b[39m\u001b[38;5;241m=\u001b[39m\u001b[38;5;241m30\u001b[39m)\n",
      "\u001b[1;31mNameError\u001b[0m: name 'age' is not defined"
     ]
    }
   ],
   "source": [
    "address  = \"목동\"\n",
    "age ; 29\n",
    "# print(address==\"목동\")  &(age<=30)\n",
    "print(address==\"목동\")  & (age<=30)\n",
    "print(address==\"목동\")  and (age<=30)"
   ]
  },
  {
   "cell_type": "code",
   "execution_count": null,
   "id": "f0c9bb43",
   "metadata": {},
   "outputs": [],
   "source": [
    "# 아스키코드 순서로 비교: 특수문자 <숫자문자<대문자<소문자)abc순)\n",
    "\"scott\"<"
   ]
  },
  {
   "cell_type": "code",
   "execution_count": null,
   "id": "8c7758dc",
   "metadata": {},
   "outputs": [],
   "source": [
    "# 문자는 ascss"
   ]
  },
  {
   "cell_type": "code",
   "execution_count": null,
   "id": "2eacbacc",
   "metadata": {},
   "outputs": [],
   "source": [
    "3절 기본자료형: 숫자,문자, 논리\n",
    "4절 포맷팅: 인덱스, 공백대체문자, 정렬방식, 자릿수(타입)\n",
    "5절 연산자: 산술연산자, 할당연산자, 논리연산자, 비교연산자, 비트연산자"
   ]
  },
  {
   "cell_type": "markdown",
   "id": "244fc65d",
   "metadata": {},
   "source": [
    "## 5. 5 비트연산: &, |, ^(XOR), ~(반대)\n",
    "\n",
    "```\n",
    "X    Y   X&Y   X|Y    X^y   ~X\n",
    "---------------------------------\n",
    "0    0    0     0     0      1\n",
    "0    1    0     1     1      1\n",
    "1    0    0     1     1      0\n",
    "1    1    1     1     0      0\n",
    "\n",
    "```"
   ]
  },
  {
   "cell_type": "code",
   "execution_count": 19,
   "id": "44163cf5",
   "metadata": {},
   "outputs": [
    {
     "name": "stdout",
     "output_type": "stream",
     "text": [
      "a =15 : 1111\n",
      "a = 2 : 0010\n",
      "a&b = 2 : 0010\n",
      "a|b =15 : 1111\n",
      "a^b =13 : 1101\n",
      "-16\n"
     ]
    }
   ],
   "source": [
    "a = 15 # 1111(8+4+2+1)\n",
    "b =  2 # 0010\n",
    "print(\"a ={0:2} : {0:4b}\".format(a))\n",
    "print(\"a ={0:2} : {0:04b}\".format(b))\n",
    "print(\"a&b ={0:2} : {0:04b}\".format(a&b))\n",
    "print(\"a|b ={0:2} : {0:04b}\".format(a|b))\n",
    "print(\"a^b ={0:2} : {0:04b}\".format(a^b))\n",
    "print(~a)"
   ]
  },
  {
   "cell_type": "markdown",
   "id": "8b601ddb",
   "metadata": {},
   "source": [
    "# 6절 문자열 다루기\n",
    "- 문자열 변수[from:to:step] : 일부 문자 추출\n",
    "- len(문자열 변수); 문자수를 던저 줌(스페이스 또한 묹나 1개다)\n",
    "- upper: 모든 아이를 대문자로 변환\n",
    "- lower: 소문자로\n",
    "- title: 각 어절의 앞 글자만 대문자로\n",
    "- capitalize: 맨 첫 문자만 대문자로\n",
    "- count(\"찾을문자\") : \"찾을문자\"가 몇 개 들어있는지 갯수 반환(##반환은 결과값을 던진다는 이미)>> 기본적으로 대소문자까지 정확히 매칭한 값을 추출.\n",
    "- find(\"찾을문자\") : \"찾을문자\"가 왼쪽부터 몇 번째 있는지 index 반환(없으면 -1)\n",
    "- rfind(\"찾을문자\") : \"찾을문자\"가 오른쪽부터 몇 번째 있는지 index 반환(없으면 -1)\n",
    "- cf. rfind(\"찾을문자\") : \"찾을문자\"가 왼쪽부터 몇 번째 있는지 index 반환(없으면 에러)\n",
    "- startswith(\"특정문자\") : \"특정문자\"로 시작하는지 여부 반환\n",
    "- endtswith(\"특정문자\") : \"특정문자\"로 끝나는지 여부 반환\n",
    "\n",
    "- strip() : 문자열의 좌우공백제거(trim)\n",
    "-ㅣtrip() : 문자열의 왼쪽공백제거\n",
    "- rtrip() : 문자열의 오른쪽공백제거\n",
    "- split() : 문자열을 공백이나 다른 문자 기준으로 나누어 리스트로 반환\n",
    "- isdigit() : 문자열이 숫자문자열인지 여부 반환\n",
    "- islower() : 문자열이 소문자열인지 여부 반환\n",
    "- isupper() : 문자열이 대문자열인지 여부 반환\n",
    "- replace(oldStr, newStr) : oldStr을 newStr로 변경"
   ]
  },
  {
   "cell_type": "code",
   "execution_count": 17,
   "id": "d9767289",
   "metadata": {},
   "outputs": [
    {
     "data": {
      "text/plain": [
       "1000"
      ]
     },
     "execution_count": 17,
     "metadata": {},
     "output_type": "execute_result"
    }
   ],
   "source": [
    "int(\"1,000\".replace(\",\", \"\"))"
   ]
  },
  {
   "cell_type": "code",
   "execution_count": 39,
   "id": "9b173c91",
   "metadata": {},
   "outputs": [
    {
     "ename": "SyntaxError",
     "evalue": "invalid syntax (2583856860.py, line 21)",
     "output_type": "error",
     "traceback": [
      "\u001b[1;36m  Cell \u001b[1;32mIn[39], line 21\u001b[1;36m\u001b[0m\n\u001b[1;33m    print(\"n으로 끝나는지 여부 :\", temp.(\"python\"))\u001b[0m\n\u001b[1;37m                                ^\u001b[0m\n\u001b[1;31mSyntaxError\u001b[0m\u001b[1;31m:\u001b[0m invalid syntax\n"
     ]
    }
   ],
   "source": [
    "temp = \"python is easy. python is smart. python\"\n",
    "\n",
    "print(\"대문자로 :\", temp.upper())\n",
    "print(\"소문자로 :\", temp.lower())\n",
    "print(\"title() :\", temp.title())\n",
    "print(\"capitalize() :\", temp.capitalize())\n",
    "print(\"C가 몇 번 나오는지 :\", temp.count(\"C\"))\n",
    "print(\"python이 몇 번 나오는지 :\", temp.count(\"python\"))\n",
    "print(\"대소문자 구분없이 python이 나오는지 :\", temp.lower().count(\"python\"))\n",
    "print(\"대소문자 구분없이 python이 나오는지 :\", temp.upper().count(\"PYTHON\"))\n",
    "print(\"대소문자 구분없이 python이 나오는지 :\", temp.title().count(\"Python\"))\n",
    "print(\"python이 나오는 첫 index 위치 :\", temp.find(\"python\"))\n",
    "print(\"python이 나오는 마지막 index 위치 :\", temp.rfind(\"python\"))\n",
    "print(\"C가 나오는 index 위치 :\", temp.find(\"C\"))\n",
    "print(\"python이 나오는 첫 index 위치 :\", temp.index(\"python\"))\n",
    "print(\"java가 나오는 첫 index 위치 :\", temp.find(\"java\"))\n",
    "# print(\"java가 나오는 첫 index 위치 :\", temp.index(\"java\"))\n",
    "print(\"python으로 시작하는 여부 :\", temp.startswith(\"python\"))\n",
    "print(\"대소문자 구분없이 pythond으로 시작하는지 여부 :\", temp.lower().startswitht(\"python\"))\n",
    "print(\"python으로 끝나는지 여부 :\", temp.endswith(\"python\"))\n",
    "print(\"n으로 끝나는지 여부 :\", temp.(\"python\"))\n",
    "\n",
    "\n"
   ]
  },
  {
   "cell_type": "code",
   "execution_count": 65,
   "id": "ca200047",
   "metadata": {},
   "outputs": [
    {
     "name": "stdout",
     "output_type": "stream",
     "text": [
      "좌우 공백 제거 : [python is easy]\n",
      "왼쪽 공백 제거 : [python is easy  ]\n",
      "오른쪽 공백 제거 : [ python is easy]\n",
      "isdigit(숫자문자)인지 여부 : [{}] False\n",
      "replace 후 isdigit : [{}] True\n",
      "대문자인지 여부 : False\n",
      "소문자인지 여부 : True\n"
     ]
    }
   ],
   "source": [
    "temp = \" python is easy  \"\n",
    "notdigit = \"1,000\"\n",
    "print(\"좌우 공백 제거 : [{}]\". format(temp.strip()))\n",
    "print(\"왼쪽 공백 제거 : [{}]\". format(temp.lstrip()))\n",
    "print(\"오른쪽 공백 제거 : [{}]\". format(temp.rstrip()))\n",
    "print(\"isdigit(숫자문자)인지 여부 : [{}]\",notdigit.isdigit())\n",
    "print(\"replace 후 isdigit : [{}]\", notdigit.replace(\",\", \"\").isdigit())\n",
    "print(\"대문자인지 여부 :\", temp.isupper())\n",
    "print(\"소문자인지 여부 :\", temp.islower())\n",
    "\n"
   ]
  },
  {
   "cell_type": "code",
   "execution_count": 52,
   "id": "d6355400",
   "metadata": {},
   "outputs": [
    {
     "name": "stdout",
     "output_type": "stream",
     "text": [
      "space단위로 names 분리(list로 반환) : names.split()\n",
      "홍길동 김김동\n"
     ]
    }
   ],
   "source": [
    "names = \"홍길동 김김동 박길동 주길동 고길동\"\n",
    "name_list = names.split()\n",
    "print(\"space단위로 names 분리(list로 반환) : names.split()\")\n",
    "print(name_list[0], name_list[1])"
   ]
  },
  {
   "cell_type": "code",
   "execution_count": 56,
   "id": "e2dd1dc0",
   "metadata": {},
   "outputs": [
    {
     "name": "stdout",
     "output_type": "stream",
     "text": [
      "['2025', '09', '17']\n",
      "년도 : 2025\n",
      "월 : 09\n",
      "일 : 2025\n"
     ]
    }
   ],
   "source": [
    "date_str =\"2025-09-17\"\n",
    "date_list = date_str.split(\"-\")\n",
    "print(date_list)\n",
    "print(\"년도 :\", date_list[0])\n",
    "print(\"월 :\", date_list[1])\n",
    "print(\"일 :\", date_list[0])"
   ]
  },
  {
   "cell_type": "code",
   "execution_count": 60,
   "id": "61486ddf",
   "metadata": {},
   "outputs": [
    {
     "data": {
      "text/plain": [
       "('A', 'B', 'C')"
      ]
     },
     "execution_count": 60,
     "metadata": {},
     "output_type": "execute_result"
    }
   ],
   "source": [
    "# str_ = \"ABC\". 어것은 아래 식과 동일하다\n",
    "str_ = [\"A\", \"B\", \"C\"]\n",
    "str_[0], str_[1], str_[2]"
   ]
  },
  {
   "cell_type": "code",
   "execution_count": 69,
   "id": "095622ca",
   "metadata": {},
   "outputs": [
    {
     "name": "stdout",
     "output_type": "stream",
     "text": [
      "분리된 temp : ['Pthon ', ' 웹(HTML/CSS/JS) ', ' Oracle/MySQL(DBMS) ', ' DL/ML(M/DNN/CNN/RUN) ', ' LLM(RAG)']\n"
     ]
    },
    {
     "ename": "AttributeError",
     "evalue": "'str' object has no attribute 'joined'",
     "output_type": "error",
     "traceback": [
      "\u001b[1;31m---------------------------------------------------------------------------\u001b[0m",
      "\u001b[1;31mAttributeError\u001b[0m                            Traceback (most recent call last)",
      "Cell \u001b[1;32mIn[69], line 7\u001b[0m\n\u001b[0;32m      5\u001b[0m splited_temp \u001b[38;5;241m=\u001b[39m temp\u001b[38;5;241m.\u001b[39msplit(\u001b[38;5;124m\"\u001b[39m\u001b[38;5;124m-\u001b[39m\u001b[38;5;124m\"\u001b[39m)\n\u001b[0;32m      6\u001b[0m \u001b[38;5;28mprint\u001b[39m(\u001b[38;5;124m\"\u001b[39m\u001b[38;5;124m분리된 temp :\u001b[39m\u001b[38;5;124m\"\u001b[39m,splited_temp)\n\u001b[1;32m----> 7\u001b[0m joined_temp \u001b[38;5;241m=\u001b[39m \u001b[38;5;124m\"\u001b[39m\u001b[38;5;124m/\u001b[39m\u001b[38;5;124m\"\u001b[39m,\u001b[43mtemp\u001b[49m\u001b[38;5;241;43m.\u001b[39;49m\u001b[43mjoined\u001b[49m(\u001b[38;5;124m\"\u001b[39m\u001b[38;5;124m-\u001b[39m\u001b[38;5;124m\"\u001b[39m) \u001b[38;5;66;03m# \"/\"fh 매개변수 listfmf 연결\u001b[39;00m\n\u001b[0;32m      8\u001b[0m \u001b[38;5;28mprint\u001b[39m(\u001b[38;5;124m\"\u001b[39m\u001b[38;5;124mjoin temp :\u001b[39m\u001b[38;5;124m\"\u001b[39m,joined_temp)\n",
      "\u001b[1;31mAttributeError\u001b[0m: 'str' object has no attribute 'joined'"
     ]
    }
   ],
   "source": [
    "# ' _'을 \"/\"로 바꾸기\n",
    "temp = \"Pthon - 웹(HTML/CSS/JS) - Oracle/MySQL(DBMS) - DL/ML(M/DNN/CNN/RUN) - LLM(RAG)\"\n",
    "temp.replace(\"-\",\"/\")\n",
    "# split()와 join() 이용하여 replace 역할\n",
    "splited_temp = temp.split(\"-\")\n",
    "print(\"분리된 temp :\",splited_temp)\n",
    "joined_temp = \"/\",temp.joined(\"-\") # \"/\"fh 매개변수 listfmf 연결\n",
    "print(\"join temp :\",joined_temp)\n"
   ]
  },
  {
   "cell_type": "code",
   "execution_count": 72,
   "id": "0a9dad2f",
   "metadata": {},
   "outputs": [
    {
     "data": {
      "text/plain": [
       "['__add__',\n",
       " '__class__',\n",
       " '__contains__',\n",
       " '__delattr__',\n",
       " '__dir__',\n",
       " '__doc__',\n",
       " '__eq__',\n",
       " '__format__',\n",
       " '__ge__',\n",
       " '__getattribute__',\n",
       " '__getitem__',\n",
       " '__getnewargs__',\n",
       " '__gt__',\n",
       " '__hash__',\n",
       " '__init__',\n",
       " '__init_subclass__',\n",
       " '__iter__',\n",
       " '__le__',\n",
       " '__len__',\n",
       " '__lt__',\n",
       " '__mod__',\n",
       " '__mul__',\n",
       " '__ne__',\n",
       " '__new__',\n",
       " '__reduce__',\n",
       " '__reduce_ex__',\n",
       " '__repr__',\n",
       " '__rmod__',\n",
       " '__rmul__',\n",
       " '__setattr__',\n",
       " '__sizeof__',\n",
       " '__str__',\n",
       " '__subclasshook__',\n",
       " 'capitalize',\n",
       " 'casefold',\n",
       " 'center',\n",
       " 'count',\n",
       " 'encode',\n",
       " 'endswith',\n",
       " 'expandtabs',\n",
       " 'find',\n",
       " 'format',\n",
       " 'format_map',\n",
       " 'index',\n",
       " 'isalnum',\n",
       " 'isalpha',\n",
       " 'isascii',\n",
       " 'isdecimal',\n",
       " 'isdigit',\n",
       " 'isidentifier',\n",
       " 'islower',\n",
       " 'isnumeric',\n",
       " 'isprintable',\n",
       " 'isspace',\n",
       " 'istitle',\n",
       " 'isupper',\n",
       " 'join',\n",
       " 'ljust',\n",
       " 'lower',\n",
       " 'lstrip',\n",
       " 'maketrans',\n",
       " 'partition',\n",
       " 'removeprefix',\n",
       " 'removesuffix',\n",
       " 'replace',\n",
       " 'rfind',\n",
       " 'rindex',\n",
       " 'rjust',\n",
       " 'rpartition',\n",
       " 'rsplit',\n",
       " 'rstrip',\n",
       " 'split',\n",
       " 'splitlines',\n",
       " 'startswith',\n",
       " 'strip',\n",
       " 'swapcase',\n",
       " 'title',\n",
       " 'translate',\n",
       " 'upper',\n",
       " 'zfill']"
      ]
     },
     "execution_count": 72,
     "metadata": {},
     "output_type": "execute_result"
    }
   ],
   "source": [
    "# 문자열을 다를 수 있는 함수들 목로\n",
    "temp = \"a\"\n",
    "dir(str)"
   ]
  },
  {
   "cell_type": "markdown",
   "id": "46bb09e1",
   "metadata": {},
   "source": [
    "# 7절, 시간, 날짜 다루기"
   ]
  },
  {
   "cell_type": "code",
   "execution_count": 1,
   "id": "0bdefaeb",
   "metadata": {},
   "outputs": [
    {
     "data": {
      "text/plain": [
       "'C:\\\\Users\\\\Admin\\\\anaconda3\\\\lib\\\\datetime.py'"
      ]
     },
     "execution_count": 1,
     "metadata": {},
     "output_type": "execute_result"
    }
   ],
   "source": [
    "import datetime\n",
    "datetime.__file__"
   ]
  },
  {
   "cell_type": "code",
   "execution_count": 2,
   "id": "8e12c59e",
   "metadata": {},
   "outputs": [],
   "source": [
    "# datetime 모듈(datetime.py)안의 datetime, date, time만 Load\n",
    "from datetime import datetime, date, time"
   ]
  },
  {
   "cell_type": "markdown",
   "id": "27775a23",
   "metadata": {},
   "source": [
    "## 7.1 시간과 날짜"
   ]
  },
  {
   "cell_type": "code",
   "execution_count": 6,
   "id": "fa906570",
   "metadata": {},
   "outputs": [
    {
     "data": {
      "text/plain": [
       "datetime.datetime(2025, 9, 11, 9, 30)"
      ]
     },
     "execution_count": 6,
     "metadata": {},
     "output_type": "execute_result"
    }
   ],
   "source": [
    "# 특정 시점을 갖는 datetime 객채 생성\n",
    "thatday  = datetime(2025, 9, 11, 9, 30)\n",
    "thatday"
   ]
  },
  {
   "cell_type": "code",
   "execution_count": 9,
   "id": "33ebc11c",
   "metadata": {},
   "outputs": [
    {
     "ename": "SyntaxError",
     "evalue": "closing parenthesis '}' does not match opening parenthesis '(' (2625673455.py, line 2)",
     "output_type": "error",
     "traceback": [
      "\u001b[1;36m  Cell \u001b[1;32mIn[9], line 2\u001b[1;36m\u001b[0m\n\u001b[1;33m    print(\"{:%y년%월m%d일(%A) \"%H;%A%S}\". format(thatday)\"\u001b[0m\n\u001b[1;37m                                   ^\u001b[0m\n\u001b[1;31mSyntaxError\u001b[0m\u001b[1;31m:\u001b[0m closing parenthesis '}' does not match opening parenthesis '('\n"
     ]
    }
   ],
   "source": [
    "# 날짜를 문자열로 전환\n",
    "print(\"{:\"%y년%월m%d일(%A) \"%H;%A%S}\". format(thatday)\""
   ]
  },
  {
   "cell_type": "code",
   "execution_count": 10,
   "id": "dc43d272",
   "metadata": {},
   "outputs": [
    {
     "ename": "SyntaxError",
     "evalue": "unterminated string literal (detected at line 5) (2897922252.py, line 5)",
     "output_type": "error",
     "traceback": [
      "\u001b[1;36m  Cell \u001b[1;32mIn[10], line 5\u001b[1;36m\u001b[0m\n\u001b[1;33m    print(now,strftime())\"%y년%월m%d일(%A) \"%H;%A%S\"\u001b[0m\n\u001b[1;37m                                                ^\u001b[0m\n\u001b[1;31mSyntaxError\u001b[0m\u001b[1;31m:\u001b[0m unterminated string literal (detected at line 5)\n"
     ]
    }
   ],
   "source": [
    "# 지금을 저장하는 datetime 객체 생성\n",
    "now =  datetime,now()\n",
    "print(now)\n",
    "print(now,ctime())\n",
    "print(now,strftime())\"%y년%월m%d일(%A) \"%H;%A%S\""
   ]
  },
  {
   "cell_type": "code",
   "execution_count": 13,
   "id": "74a63277",
   "metadata": {},
   "outputs": [
    {
     "ename": "NameError",
     "evalue": "name 'now' is not defined",
     "output_type": "error",
     "traceback": [
      "\u001b[1;31m---------------------------------------------------------------------------\u001b[0m",
      "\u001b[1;31mNameError\u001b[0m                                 Traceback (most recent call last)",
      "Cell \u001b[1;32mIn[13], line 1\u001b[0m\n\u001b[1;32m----> 1\u001b[0m diff \u001b[38;5;241m=\u001b[39m \u001b[43mnow\u001b[49m\u001b[38;5;241m-\u001b[39mthatday\n\u001b[0;32m      2\u001b[0m \u001b[38;5;28mprint\u001b[39m(diff)\n\u001b[0;32m      3\u001b[0m \u001b[38;5;28mprint\u001b[39m(diff\u001b[38;5;241m.\u001b[39mdays)\n",
      "\u001b[1;31mNameError\u001b[0m: name 'now' is not defined"
     ]
    }
   ],
   "source": [
    "diff = now-thatday\n",
    "print(diff)\n",
    "print(diff.days)"
   ]
  },
  {
   "cell_type": "markdown",
   "id": "dab699c1",
   "metadata": {},
   "source": [
    "## 7.2 날짜"
   ]
  },
  {
   "cell_type": "code",
   "execution_count": 11,
   "id": "29098297",
   "metadata": {},
   "outputs": [],
   "source": [
    "# 특정 날짜를 갖는 date 객체 생성\n",
    "someday = date(2025, 9, 11,)"
   ]
  },
  {
   "cell_type": "code",
   "execution_count": 16,
   "id": "35441959",
   "metadata": {},
   "outputs": [
    {
     "ename": "NameError",
     "evalue": "name 'now' is not defined",
     "output_type": "error",
     "traceback": [
      "\u001b[1;31m---------------------------------------------------------------------------\u001b[0m",
      "\u001b[1;31mNameError\u001b[0m                                 Traceback (most recent call last)",
      "Cell \u001b[1;32mIn[16], line 3\u001b[0m\n\u001b[0;32m      1\u001b[0m \u001b[38;5;66;03m# 오늘을 갖는 date\u001b[39;00m\n\u001b[0;32m      2\u001b[0m today1 \u001b[38;5;241m=\u001b[39m date\u001b[38;5;241m.\u001b[39mtoday()\n\u001b[1;32m----> 3\u001b[0m today2 \u001b[38;5;241m=\u001b[39m datetime,\u001b[43mnow\u001b[49m()\u001b[38;5;241m.\u001b[39mdate()\n\u001b[0;32m      4\u001b[0m \u001b[38;5;28mprint\u001b[39m(t)(today1 \u001b[38;5;241m==\u001b[39m today2)\n",
      "\u001b[1;31mNameError\u001b[0m: name 'now' is not defined"
     ]
    }
   ],
   "source": [
    "# 오늘을 갖는 date\n",
    "today1 = date.today()\n",
    "today2 = datetime,now().date()\n",
    "print(t)(today1 == today2)"
   ]
  },
  {
   "cell_type": "code",
   "execution_count": null,
   "id": "f16d337d",
   "metadata": {},
   "outputs": [],
   "source": [
    "print(today1.strftime)"
   ]
  },
  {
   "cell_type": "code",
   "execution_count": 19,
   "id": "cde2358d",
   "metadata": {},
   "outputs": [
    {
     "ename": "NameError",
     "evalue": "name 'someday' is not defined",
     "output_type": "error",
     "traceback": [
      "\u001b[1;31m---------------------------------------------------------------------------\u001b[0m",
      "\u001b[1;31mNameError\u001b[0m                                 Traceback (most recent call last)",
      "Cell \u001b[1;32mIn[19], line 1\u001b[0m\n\u001b[1;32m----> 1\u001b[0m diff \u001b[38;5;241m=\u001b[39m \u001b[43msomeday\u001b[49m \u001b[38;5;241m-\u001b[39m today1\n\u001b[0;32m      2\u001b[0m \u001b[38;5;28mprint\u001b[39m(diff)\n\u001b[0;32m      3\u001b[0m \u001b[38;5;28mprint\u001b[39m(diff\u001b[38;5;241m.\u001b[39mdays)\n",
      "\u001b[1;31mNameError\u001b[0m: name 'someday' is not defined"
     ]
    }
   ],
   "source": [
    "diff = someday - today1\n",
    "print(diff)\n",
    "print(diff.days)"
   ]
  },
  {
   "cell_type": "markdown",
   "id": "ee913895",
   "metadata": {},
   "source": [
    "## 7.3 시간"
   ]
  },
  {
   "cell_type": "code",
   "execution_count": 20,
   "id": "2582916b",
   "metadata": {},
   "outputs": [
    {
     "data": {
      "text/plain": [
       "datetime.time(14, 39)"
      ]
     },
     "execution_count": 20,
     "metadata": {},
     "output_type": "execute_result"
    }
   ],
   "source": [
    "# 특정 시간 저장하는 time 객체 생성\n",
    "t = time(14, 39, 0)\n",
    "t"
   ]
  },
  {
   "cell_type": "code",
   "execution_count": 22,
   "id": "4abebde1",
   "metadata": {},
   "outputs": [
    {
     "ename": "NameError",
     "evalue": "name 'strftime' is not defined",
     "output_type": "error",
     "traceback": [
      "\u001b[1;31m---------------------------------------------------------------------------\u001b[0m",
      "\u001b[1;31mNameError\u001b[0m                                 Traceback (most recent call last)",
      "Cell \u001b[1;32mIn[22], line 1\u001b[0m\n\u001b[1;32m----> 1\u001b[0m \u001b[38;5;28mprint\u001b[39m(t,\u001b[43mstrftime\u001b[49m(\u001b[38;5;124m\"\u001b[39m\u001b[38;5;124m%\u001b[39m\u001b[38;5;124mp \u001b[39m\u001b[38;5;124m%\u001b[39m\u001b[38;5;124mI:\u001b[39m\u001b[38;5;124m%\u001b[39m\u001b[38;5;124mM\u001b[39m\u001b[38;5;124m\"\u001b[39m))\n",
      "\u001b[1;31mNameError\u001b[0m: name 'strftime' is not defined"
     ]
    }
   ],
   "source": [
    "print(t,strftime(\"%p %I:%M\"))\n",
    "print"
   ]
  },
  {
   "cell_type": "code",
   "execution_count": 24,
   "id": "6ba5838c",
   "metadata": {},
   "outputs": [
    {
     "name": "stdout",
     "output_type": "stream",
     "text": [
      "14:44:38.771449\n"
     ]
    }
   ],
   "source": [
    "# 현재 시간\n",
    "nowtime = datetime.now().time()\n",
    "print(nowtime)"
   ]
  },
  {
   "cell_type": "markdown",
   "id": "ad545800",
   "metadata": {},
   "source": [
    "#  8절. 연습문제"
   ]
  },
  {
   "cell_type": "code",
   "execution_count": 2,
   "id": "2f64af98",
   "metadata": {},
   "outputs": [
    {
     "name": "stdout",
     "output_type": "stream",
     "text": [
      "홍길동의 나이는 23살입니다.\n"
     ]
    }
   ],
   "source": [
    "#. 1. 이름과 나이 변수를 출력하도록 format() 함수를 이용하여 형식화 하세요,\n",
    "# 출력 형식:  홍길동님의  나이는 23살입니다.  \n",
    "name =\"홍길동\"\n",
    "age = 23\n",
    "print(\"{}의 나이는 {}살입니다.\".format(name, age))"
   ]
  },
  {
   "cell_type": "code",
   "execution_count": 3,
   "id": "93c50d1d",
   "metadata": {},
   "outputs": [
    {
     "name": "stdout",
     "output_type": "stream",
     "text": [
      "첫번째 정수를 입력하세요: 10 5\n",
      "두번째 정수를 입력하세요: 3 5\n",
      "합: 10\n",
      "차: 0\n",
      "곱: 25\n",
      "몫: 1\n",
      "나머지; 0\n"
     ]
    }
   ],
   "source": [
    "#  2. 두 정수를 입력받아 두 수의 가감승제, 몫, 나머지를 출력하세요.\n",
    "a = int(input(\"첫번째 정수를 입력하세요: 10 \"))\n",
    "b = int(input(\"두번째 정수를 입력하세요: 3 \"))\n",
    "print(\"합:\", a+b)\n",
    "print(\"차:\", a-b)\n",
    "print(\"곱:\", a*b)\n",
    "if b != 0:\n",
    "    print(\"몫:\", a//b)\n",
    "    print(\"나머지;\",a%b)\n",
    "else:\n",
    "    print(\"두번째 수가 0이므로 나눗셈을 수행할 수 없습니다.\")"
   ]
  },
  {
   "cell_type": "code",
   "execution_count": 25,
   "id": "c9c22c0a",
   "metadata": {},
   "outputs": [
    {
     "data": {
      "text/plain": [
       "['Hwllo', 'World']"
      ]
     },
     "execution_count": 25,
     "metadata": {},
     "output_type": "execute_result"
    }
   ],
   "source": [
    "# 3.\n",
    "message =\"Hwllo World\"\n",
    "message.split()"
   ]
  },
  {
   "cell_type": "code",
   "execution_count": 9,
   "id": "217229a6",
   "metadata": {},
   "outputs": [
    {
     "name": "stdout",
     "output_type": "stream",
     "text": [
      "World Hello\n"
     ]
    }
   ],
   "source": [
    "# 3. 문자열의 분리하기와 합치기 기능을 이용하여'Hello World'가 할당된 변수를 이용하여 'World Hello'를 출력하세요\n",
    "text = \"Hello World\"\n",
    "words = text.split()\n",
    "result = \" \".join([words[1], words[0]])\n",
    "print(result)"
   ]
  },
  {
   "cell_type": "code",
   "execution_count": 10,
   "id": "920cc02c",
   "metadata": {},
   "outputs": [
    {
     "name": "stdout",
     "output_type": "stream",
     "text": [
      "bcdefa\n",
      "bcdefa\n"
     ]
    }
   ],
   "source": [
    "# 4. x= 'abcdef'를 이용하여 'bcdefa'로 출력하세요(문자열 슬라이싱을 이용)\n",
    "x = 'abcdef'\n",
    "print(x[1:] + x[0])\n",
    "print(x[1:] , x[0], sep='')"
   ]
  },
  {
   "cell_type": "code",
   "execution_count": null,
   "id": "f6a408aa",
   "metadata": {},
   "outputs": [],
   "source": [
    "# 5. x= 'abcdef'를 이용하여 'FEDCBA'로 출력하세요\n",
    "x = 'abcdef'\n",
    "result = x.upper()[::-1]\n",
    "print(result)"
   ]
  },
  {
   "cell_type": "code",
   "execution_count": 11,
   "id": "71a9d545",
   "metadata": {},
   "outputs": [
    {
     "ename": "NameError",
     "evalue": "name 'F' is not defined",
     "output_type": "error",
     "traceback": [
      "\u001b[1;31m---------------------------------------------------------------------------\u001b[0m",
      "\u001b[1;31mNameError\u001b[0m                                 Traceback (most recent call last)",
      "Cell \u001b[1;32mIn[11], line 2\u001b[0m\n\u001b[0;32m      1\u001b[0m \u001b[38;5;66;03m# 6. 오늘의 온도를 섭씨온도로 입력받아 화씨 온도로 변환하는 프로그램을 작성하세요. 화씨 온도는 소수점이 있을 경우만  두번째 자리까지 출력되고, 소수점이하 값이 없는 경우 소수점을 출력하지 않도록 합니다.(다음은 섭씨와 화씨의 변환 공식입니다. C는 섭씨, F는 화씨)\u001b[39;00m\n\u001b[1;32m----> 2\u001b[0m C \u001b[38;5;241m=\u001b[39m (\u001b[43mF\u001b[49m\u001b[38;5;241m-\u001b[39m\u001b[38;5;241m32\u001b[39m) \u001b[38;5;241m/\u001b[39m \u001b[38;5;241m1.8\u001b[39m\n\u001b[0;32m      3\u001b[0m F \u001b[38;5;241m=\u001b[39m (C\u001b[38;5;241m*\u001b[39m\u001b[38;5;241m1.8\u001b[39m) \u001b[38;5;241m+\u001b[39m \u001b[38;5;241m32\u001b[39m\n",
      "\u001b[1;31mNameError\u001b[0m: name 'F' is not defined"
     ]
    }
   ],
   "source": [
    "# 6. 오늘의 온도를 섭씨온도로 입력받아 화씨 온도로 변환하는 프로그램을 작성하세요. 화씨 온도는 소수점이 있을 경우만  두번째 자리까지 출력되고, 소수점이하 값이 없는 경우 소수점을 출력하지 않도록 합니다.(다음은 섭씨와 화씨의 변환 공식입니다. C는 섭씨, F는 화씨)\n",
    "C = (F-32) / 1.8\n",
    "F = (C*1.8) + 32\n",
    "# print(\"입력하신 섭씨 {}도는 화씨온도 {:,0f}도입니다\".format(c,f))\n",
    "# if f%1==0\n",
    "# if f.is_integer():\n",
    "if f == round(f):\n",
    "    print(\"입력하신 섭씨 {}도는 화씨온도 {:,0f}도입니다\".format(c,f)\")\n"
   ]
  },
  {
   "cell_type": "code",
   "execution_count": null,
   "id": "5f1dcfd2",
   "metadata": {},
   "outputs": [],
   "source": [
    "# 7. 다음 중 변수 선언으로 잘못된 것을 모두 고르시오? 1, 2, 3,\n",
    "for\n",
    "10th\n",
    "Student.name\n",
    "_1234\n"
   ]
  },
  {
   "cell_type": "code",
   "execution_count": null,
   "id": "77a5c7d8",
   "metadata": {},
   "outputs": [],
   "source": [
    "# 8. 다음의 코드의 실행결과는?\n",
    "\n"
   ]
  },
  {
   "cell_type": "code",
   "execution_count": null,
   "id": "b26cf74a",
   "metadata": {},
   "outputs": [],
   "source": [
    "# 9. 다음 중 파이썬 3.x 버전에서 연산식과 그 결과의 출력이 잘못된 것은? 1\n",
    "1. 수식 8//2 결과 4\n",
    "2. 수식 8/2  결과 4\n",
    "3. 수식 8 **2 결과 64 \n"
   ]
  },
  {
   "cell_type": "code",
   "execution_count": null,
   "id": "88bbbb37",
   "metadata": {},
   "outputs": [],
   "source": [
    "# 10. 아래 프로그램의 결과는?\n",
    "x = 5\n",
    "y = \"John\"\n",
    "print(x + y)\n",
    "x는 정수형(int), y는 문자열(str)인데 + 연산자는 서로 다르 자료형을 직접 더할 수 없기 때문니다.\n",
    "\n",
    "해결 방법은 숫자를 문자열로 변환 후 연결하기\n",
    "x = 5\n",
    "y = \"John\"\n",
    "print(str(x) + y)\n",
    "\n",
    "문자열과 숫자를 함께 출력하기(쉼표 사용)\n",
    "x = 5\n",
    "y = \"John\"\n",
    "print(x , y)"
   ]
  },
  {
   "cell_type": "code",
   "execution_count": 15,
   "id": "f0500b3f",
   "metadata": {},
   "outputs": [
    {
     "data": {
      "text/plain": [
       "'나라'"
      ]
     },
     "execution_count": 15,
     "metadata": {},
     "output_type": "execute_result"
    }
   ],
   "source": [
    "# 11. split()함수를 이용하여 str_의 값 중 ＂나라＂를 출력하는 프로그램을 완성하시오\n",
    "# str_ = \"우리 나라 대한 민국\"\n",
    "str_ = \"우리 나라 대한 민국\"\n",
    "str_.split()[1]"
   ]
  },
  {
   "cell_type": "code",
   "execution_count": 16,
   "id": "50b1db73",
   "metadata": {},
   "outputs": [
    {
     "ename": "IndexError",
     "evalue": "list index out of range",
     "output_type": "error",
     "traceback": [
      "\u001b[1;31m---------------------------------------------------------------------------\u001b[0m",
      "\u001b[1;31mIndexError\u001b[0m                                Traceback (most recent call last)",
      "Cell \u001b[1;32mIn[16], line 2\u001b[0m\n\u001b[0;32m      1\u001b[0m str_ \u001b[38;5;241m=\u001b[39m \u001b[38;5;124m\"\u001b[39m\u001b[38;5;124m우리 나라 대한 민국\u001b[39m\u001b[38;5;124m\"\u001b[39m\n\u001b[1;32m----> 2\u001b[0m \u001b[38;5;28mprint\u001b[39m(\u001b[43m[\u001b[49m\u001b[43mw\u001b[49m\u001b[43m \u001b[49m\u001b[38;5;28;43;01mfor\u001b[39;49;00m\u001b[43m \u001b[49m\u001b[43mw\u001b[49m\u001b[43m \u001b[49m\u001b[38;5;129;43;01min\u001b[39;49;00m\u001b[43m \u001b[49m\u001b[43mstr_\u001b[49m\u001b[38;5;241;43m.\u001b[39;49m\u001b[43msplit\u001b[49m\u001b[43m(\u001b[49m\u001b[38;5;124;43m\"\u001b[39;49m\u001b[38;5;124;43m,\u001b[39;49m\u001b[38;5;124;43m\"\u001b[39;49m\u001b[43m)\u001b[49m\u001b[43m \u001b[49m\u001b[38;5;28;43;01mif\u001b[39;49;00m\u001b[43m \u001b[49m\u001b[43mw\u001b[49m\u001b[43m \u001b[49m\u001b[38;5;241;43m==\u001b[39;49m\u001b[43m \u001b[49m\u001b[38;5;124;43m\"\u001b[39;49m\u001b[38;5;124;43m나라\u001b[39;49m\u001b[38;5;124;43m\"\u001b[39;49m\u001b[43m]\u001b[49m\u001b[43m[\u001b[49m\u001b[38;5;241;43m0\u001b[39;49m\u001b[43m]\u001b[49m)\n",
      "\u001b[1;31mIndexError\u001b[0m: list index out of range"
     ]
    }
   ],
   "source": [
    "str_ = \"우리 나라 대한 민국\"\n",
    "print([w for w in str_.split(\",\") if w == \"나라\"][0])"
   ]
  },
  {
   "cell_type": "markdown",
   "id": "2d43f860",
   "metadata": {},
   "source": [
    "## "
   ]
  },
  {
   "cell_type": "code",
   "execution_count": null,
   "id": "de009c72",
   "metadata": {},
   "outputs": [],
   "source": []
  },
  {
   "cell_type": "code",
   "execution_count": null,
   "id": "0de95b71",
   "metadata": {},
   "outputs": [],
   "source": []
  },
  {
   "cell_type": "code",
   "execution_count": null,
   "id": "81fd3b25",
   "metadata": {},
   "outputs": [],
   "source": []
  },
  {
   "cell_type": "code",
   "execution_count": null,
   "id": "b4148f24",
   "metadata": {},
   "outputs": [],
   "source": []
  },
  {
   "cell_type": "code",
   "execution_count": null,
   "id": "eeb79dff",
   "metadata": {},
   "outputs": [],
   "source": []
  },
  {
   "cell_type": "code",
   "execution_count": null,
   "id": "a6fed411",
   "metadata": {},
   "outputs": [],
   "source": []
  },
  {
   "cell_type": "code",
   "execution_count": null,
   "id": "d9048bdd",
   "metadata": {},
   "outputs": [],
   "source": []
  },
  {
   "cell_type": "code",
   "execution_count": null,
   "id": "8bc3ba3f",
   "metadata": {},
   "outputs": [],
   "source": []
  },
  {
   "cell_type": "code",
   "execution_count": null,
   "id": "cb4bf905",
   "metadata": {},
   "outputs": [],
   "source": []
  },
  {
   "cell_type": "code",
   "execution_count": null,
   "id": "c6f9c071",
   "metadata": {},
   "outputs": [],
   "source": []
  },
  {
   "cell_type": "code",
   "execution_count": null,
   "id": "f709a9ed",
   "metadata": {},
   "outputs": [],
   "source": []
  },
  {
   "cell_type": "code",
   "execution_count": null,
   "id": "f5e50835",
   "metadata": {},
   "outputs": [],
   "source": []
  },
  {
   "cell_type": "code",
   "execution_count": null,
   "id": "38d1fee4",
   "metadata": {},
   "outputs": [],
   "source": []
  },
  {
   "cell_type": "code",
   "execution_count": null,
   "id": "83cde3e8",
   "metadata": {},
   "outputs": [],
   "source": []
  },
  {
   "cell_type": "code",
   "execution_count": null,
   "id": "24c8cf22",
   "metadata": {},
   "outputs": [],
   "source": []
  },
  {
   "cell_type": "code",
   "execution_count": null,
   "id": "f161feaa",
   "metadata": {},
   "outputs": [],
   "source": []
  },
  {
   "cell_type": "code",
   "execution_count": null,
   "id": "f6944c16",
   "metadata": {},
   "outputs": [],
   "source": []
  },
  {
   "cell_type": "code",
   "execution_count": null,
   "id": "ba1744fc",
   "metadata": {},
   "outputs": [],
   "source": []
  },
  {
   "cell_type": "code",
   "execution_count": null,
   "id": "f1d8b51d",
   "metadata": {},
   "outputs": [],
   "source": []
  },
  {
   "cell_type": "code",
   "execution_count": null,
   "id": "f3522aa9",
   "metadata": {},
   "outputs": [],
   "source": []
  },
  {
   "cell_type": "code",
   "execution_count": null,
   "id": "591bef11",
   "metadata": {},
   "outputs": [],
   "source": []
  },
  {
   "cell_type": "code",
   "execution_count": null,
   "id": "99840d90",
   "metadata": {},
   "outputs": [],
   "source": []
  },
  {
   "cell_type": "code",
   "execution_count": null,
   "id": "979bb04c",
   "metadata": {},
   "outputs": [],
   "source": []
  },
  {
   "cell_type": "code",
   "execution_count": null,
   "id": "10ea9184",
   "metadata": {},
   "outputs": [],
   "source": []
  },
  {
   "cell_type": "code",
   "execution_count": null,
   "id": "d53d54d0",
   "metadata": {},
   "outputs": [],
   "source": []
  },
  {
   "cell_type": "code",
   "execution_count": null,
   "id": "8dd3eedf",
   "metadata": {},
   "outputs": [],
   "source": []
  },
  {
   "cell_type": "code",
   "execution_count": null,
   "id": "fa1f3210",
   "metadata": {},
   "outputs": [],
   "source": []
  },
  {
   "cell_type": "code",
   "execution_count": null,
   "id": "7a846cc3",
   "metadata": {},
   "outputs": [],
   "source": []
  },
  {
   "cell_type": "code",
   "execution_count": null,
   "id": "56425d5f",
   "metadata": {},
   "outputs": [],
   "source": []
  },
  {
   "cell_type": "code",
   "execution_count": null,
   "id": "afebdd96",
   "metadata": {},
   "outputs": [],
   "source": []
  },
  {
   "cell_type": "code",
   "execution_count": null,
   "id": "7a07aef8",
   "metadata": {},
   "outputs": [],
   "source": []
  },
  {
   "cell_type": "code",
   "execution_count": null,
   "id": "da3ab468",
   "metadata": {},
   "outputs": [],
   "source": []
  },
  {
   "cell_type": "code",
   "execution_count": null,
   "id": "3be98a6a",
   "metadata": {},
   "outputs": [],
   "source": []
  },
  {
   "cell_type": "code",
   "execution_count": null,
   "id": "11b36e3b",
   "metadata": {},
   "outputs": [],
   "source": []
  },
  {
   "cell_type": "code",
   "execution_count": null,
   "id": "6c1a0831",
   "metadata": {},
   "outputs": [],
   "source": []
  },
  {
   "cell_type": "code",
   "execution_count": null,
   "id": "e17c716b",
   "metadata": {},
   "outputs": [],
   "source": []
  },
  {
   "cell_type": "code",
   "execution_count": null,
   "id": "1b1994bd",
   "metadata": {},
   "outputs": [],
   "source": []
  },
  {
   "cell_type": "code",
   "execution_count": null,
   "id": "899b4ebb",
   "metadata": {},
   "outputs": [],
   "source": []
  },
  {
   "cell_type": "code",
   "execution_count": null,
   "id": "2031cc2e",
   "metadata": {},
   "outputs": [],
   "source": []
  },
  {
   "cell_type": "code",
   "execution_count": null,
   "id": "eef68739",
   "metadata": {},
   "outputs": [],
   "source": []
  },
  {
   "cell_type": "code",
   "execution_count": null,
   "id": "cc9d511f",
   "metadata": {},
   "outputs": [],
   "source": []
  }
 ],
 "metadata": {
  "kernelspec": {
   "display_name": "Python 3 (ipykernel)",
   "language": "python",
   "name": "python3"
  },
  "language_info": {
   "codemirror_mode": {
    "name": "ipython",
    "version": 3
   },
   "file_extension": ".py",
   "mimetype": "text/x-python",
   "name": "python",
   "nbconvert_exporter": "python",
   "pygments_lexer": "ipython3",
   "version": "3.10.9"
  },
  "toc": {
   "base_numbering": 1,
   "nav_menu": {},
   "number_sections": false,
   "sideBar": true,
   "skip_h1_title": false,
   "title_cell": "Table of Contents",
   "title_sidebar": "Contents",
   "toc_cell": false,
   "toc_position": {
    "height": "calc(100% - 180px)",
    "left": "10px",
    "top": "150px",
    "width": "165px"
   },
   "toc_section_display": true,
   "toc_window_display": true
  }
 },
 "nbformat": 4,
 "nbformat_minor": 5
}
