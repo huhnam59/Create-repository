{
 "cells": [
  {
   "cell_type": "code",
   "execution_count": 55,
   "id": "546318f0",
   "metadata": {},
   "outputs": [
    {
     "data": {
      "text/html": [
       "\n",
       "<style>\n",
       "div.container{width:90% !important;}\n",
       "div.cell.code_cell.rendered{width:100%;}\n",
       "div.input_prompt{padding:0px;}\n",
       "div.CodeMirror {font-family:Consolas; font-size:22pt;}\n",
       "div.text_cell_render.rendered_html{font-size:18pt;}\n",
       "div.output {font-size:22pt; font-weight:bold;}\n",
       "div.input {font-family:Consolas; font-size:22pt;}\n",
       "div.prompt {min-width:70px;}\n",
       "div#toc-wrapper{padding-top:120px;}\n",
       "div.text_cell_render ul li{font-size:22pt;padding:5px;}\n",
       "table.dataframe{font-size:22px;}\n",
       "</style>\n"
      ],
      "text/plain": [
       "<IPython.core.display.HTML object>"
      ]
     },
     "metadata": {},
     "output_type": "display_data"
    }
   ],
   "source": [
    "from IPython.display import display, HTML\n",
    "display(HTML(\"\"\"\n",
    "<style>\n",
    "div.container{width:90% !important;}\n",
    "div.cell.code_cell.rendered{width:100%;}\n",
    "div.input_prompt{padding:0px;}\n",
    "div.CodeMirror {font-family:Consolas; font-size:22pt;}\n",
    "div.text_cell_render.rendered_html{font-size:18pt;}\n",
    "div.output {font-size:22pt; font-weight:bold;}\n",
    "div.input {font-family:Consolas; font-size:22pt;}\n",
    "div.prompt {min-width:70px;}\n",
    "div#toc-wrapper{padding-top:120px;}\n",
    "div.text_cell_render ul li{font-size:22pt;padding:5px;}\n",
    "table.dataframe{font-size:22px;}\n",
    "</style>\n",
    "\"\"\"))"
   ]
  },
  {
   "cell_type": "markdown",
   "id": "108ff7b3",
   "metadata": {},
   "source": [
    "<b><font size=\"7\" color=\"red\">ch05. 함수</font></b>\n",
    "- 반복해서 사용할 코드를 묶어 놓고 그것에 이름을 붙인 것\n",
    "- 오버로딩 불가(같은 이름의 함수는 덮어씀)\n",
    "- 함수 정의\n",
    "```\n",
    "def 함수명([매개변수1, 매개변수2, ..]):\n",
    "    명령어1\n",
    "    명령어2.....\n",
    "```\n",
    "# 1절 함수의 정의 및 사용\n",
    "## 1.1 함수 정의"
   ]
  },
  {
   "cell_type": "code",
   "execution_count": 2,
   "id": "1e082853",
   "metadata": {},
   "outputs": [],
   "source": [
    "def my_message(x, msg): # msg를 x번 출력하는 함수 정의\n",
    "    for i in range(x):\n",
    "        print(i, msg)"
   ]
  },
  {
   "cell_type": "code",
   "execution_count": 3,
   "id": "c8e1eaef",
   "metadata": {},
   "outputs": [
    {
     "name": "stdout",
     "output_type": "stream",
     "text": [
      "0 Hello\n",
      "1 Hello\n",
      "2 Hello\n"
     ]
    }
   ],
   "source": [
    "# 함수 사용 == 함수 호출\n",
    "my_message(3, 'Hello')"
   ]
  },
  {
   "cell_type": "code",
   "execution_count": 4,
   "id": "86aa1da9",
   "metadata": {},
   "outputs": [
    {
     "name": "stdout",
     "output_type": "stream",
     "text": [
      "0 Hello\n",
      "1 Hello\n",
      "0 Python\n",
      "1 Python\n",
      "2 Python\n"
     ]
    }
   ],
   "source": [
    "# 함수 이름 변경\n",
    "my_msg = my_message\n",
    "my_message(2, 'Hello')\n",
    "my_msg(3, 'Python')"
   ]
  },
  {
   "cell_type": "code",
   "execution_count": 5,
   "id": "a91a8e3e",
   "metadata": {},
   "outputs": [
    {
     "data": {
      "text/plain": [
       "(function, function)"
      ]
     },
     "execution_count": 5,
     "metadata": {},
     "output_type": "execute_result"
    }
   ],
   "source": [
    "type(my_msg), type(my_message)"
   ]
  },
  {
   "cell_type": "code",
   "execution_count": 6,
   "id": "56a6773b",
   "metadata": {},
   "outputs": [
    {
     "name": "stdout",
     "output_type": "stream",
     "text": [
      "Hello\n"
     ]
    },
    {
     "ename": "TypeError",
     "evalue": "'int' object is not callable",
     "output_type": "error",
     "traceback": [
      "\u001b[1;31m--------------------------------------------------\u001b[0m",
      "\u001b[1;31mTypeError\u001b[0m        Traceback (most recent call last)",
      "Cell \u001b[1;32mIn[6], line 3\u001b[0m\n\u001b[0;32m      1\u001b[0m \u001b[38;5;28mprint\u001b[39m(\u001b[38;5;124m'\u001b[39m\u001b[38;5;124mHello\u001b[39m\u001b[38;5;124m'\u001b[39m) \u001b[38;5;66;03m# 파이썬 내장 함수(import 하지 않고 사용할 수 있는 함수)\u001b[39;00m\n\u001b[0;32m      2\u001b[0m \u001b[38;5;28mprint\u001b[39m \u001b[38;5;241m=\u001b[39m \u001b[38;5;241m5\u001b[39m\n\u001b[1;32m----> 3\u001b[0m \u001b[38;5;28;43mprint\u001b[39;49m\u001b[43m(\u001b[49m\u001b[38;5;124;43m'\u001b[39;49m\u001b[38;5;124;43mHello\u001b[39;49m\u001b[38;5;124;43m'\u001b[39;49m\u001b[43m)\u001b[49m\n",
      "\u001b[1;31mTypeError\u001b[0m: 'int' object is not callable"
     ]
    }
   ],
   "source": [
    "print('Hello') # 파이썬 내장 함수(import 하지 않고 사용할 수 있는 함수)\n",
    "print = 5\n",
    "print('Hello')"
   ]
  },
  {
   "cell_type": "code",
   "execution_count": 10,
   "id": "bfa3b1b3",
   "metadata": {},
   "outputs": [
    {
     "name": "stdout",
     "output_type": "stream",
     "text": [
      "Hello\n"
     ]
    }
   ],
   "source": [
    "del print\n",
    "print('Hello')"
   ]
  },
  {
   "cell_type": "code",
   "execution_count": 11,
   "id": "cc374e33",
   "metadata": {},
   "outputs": [
    {
     "name": "stdout",
     "output_type": "stream",
     "text": [
      "0 Hello\n",
      "1 Hello\n"
     ]
    }
   ],
   "source": [
    "my_message(2, 'Hello')"
   ]
  },
  {
   "cell_type": "code",
   "execution_count": 12,
   "id": "1b856026",
   "metadata": {},
   "outputs": [
    {
     "name": "stdout",
     "output_type": "stream",
     "text": [
      "0 Hello\n",
      "1 Hello\n"
     ]
    }
   ],
   "source": [
    "my_message = 5\n",
    "my_msg(2, 'Hello')"
   ]
  },
  {
   "cell_type": "code",
   "execution_count": 13,
   "id": "d7a21b3e",
   "metadata": {},
   "outputs": [
    {
     "ename": "TypeError",
     "evalue": "'int' object is not callable",
     "output_type": "error",
     "traceback": [
      "\u001b[1;31m--------------------------------------------------\u001b[0m",
      "\u001b[1;31mTypeError\u001b[0m        Traceback (most recent call last)",
      "Cell \u001b[1;32mIn[13], line 1\u001b[0m\n\u001b[1;32m----> 1\u001b[0m \u001b[43mmy_message\u001b[49m\u001b[43m(\u001b[49m\u001b[38;5;241;43m2\u001b[39;49m\u001b[43m,\u001b[49m\u001b[43m \u001b[49m\u001b[38;5;124;43m'\u001b[39;49m\u001b[38;5;124;43mHello\u001b[39;49m\u001b[38;5;124;43m'\u001b[39;49m\u001b[43m)\u001b[49m\n",
      "\u001b[1;31mTypeError\u001b[0m: 'int' object is not callable"
     ]
    }
   ],
   "source": [
    "my_message(2, 'Hello')"
   ]
  },
  {
   "cell_type": "code",
   "execution_count": 14,
   "id": "aeaaf941",
   "metadata": {},
   "outputs": [
    {
     "ename": "NameError",
     "evalue": "name 'my_message' is not defined",
     "output_type": "error",
     "traceback": [
      "\u001b[1;31m--------------------------------------------------\u001b[0m",
      "\u001b[1;31mNameError\u001b[0m        Traceback (most recent call last)",
      "Cell \u001b[1;32mIn[14], line 2\u001b[0m\n\u001b[0;32m      1\u001b[0m \u001b[38;5;28;01mdel\u001b[39;00m my_message\n\u001b[1;32m----> 2\u001b[0m \u001b[43mmy_message\u001b[49m(\u001b[38;5;241m2\u001b[39m, \u001b[38;5;124m'\u001b[39m\u001b[38;5;124mHello\u001b[39m\u001b[38;5;124m'\u001b[39m)\n",
      "\u001b[1;31mNameError\u001b[0m: name 'my_message' is not defined"
     ]
    }
   ],
   "source": [
    "del my_message # 변수및 함수 제거하여도\n",
    "my_message(2, 'Hello')# 사용자 정의함수, 라이브러리 함수는 사용불가"
   ]
  },
  {
   "cell_type": "code",
   "execution_count": 15,
   "id": "efeb586c",
   "metadata": {},
   "outputs": [],
   "source": [
    "# 함수 중복 정의 불가(오버로딩 불가)\n",
    "def my_hello():\n",
    "    print('Hello Python')\n",
    "    print('Hello world')\n",
    "def my_hello(cnt): # cnt번 출력\n",
    "    for i in range(cnt):\n",
    "        print('Hello, Python', end=\"\\t\")\n",
    "        print('Hello, World')"
   ]
  },
  {
   "cell_type": "code",
   "execution_count": 16,
   "id": "c15913af",
   "metadata": {},
   "outputs": [
    {
     "ename": "TypeError",
     "evalue": "my_hello() missing 1 required positional argument: 'cnt'",
     "output_type": "error",
     "traceback": [
      "\u001b[1;31m--------------------------------------------------\u001b[0m",
      "\u001b[1;31mTypeError\u001b[0m        Traceback (most recent call last)",
      "Cell \u001b[1;32mIn[16], line 1\u001b[0m\n\u001b[1;32m----> 1\u001b[0m \u001b[43mmy_hello\u001b[49m\u001b[43m(\u001b[49m\u001b[43m)\u001b[49m\n",
      "\u001b[1;31mTypeError\u001b[0m: my_hello() missing 1 required positional argument: 'cnt'"
     ]
    }
   ],
   "source": [
    "my_hello()"
   ]
  },
  {
   "cell_type": "code",
   "execution_count": 17,
   "id": "98b821eb",
   "metadata": {},
   "outputs": [
    {
     "name": "stdout",
     "output_type": "stream",
     "text": [
      "Hello, Python\tHello, World\n",
      "Hello, Python\tHello, World\n"
     ]
    }
   ],
   "source": [
    "my_hello(2)"
   ]
  },
  {
   "cell_type": "code",
   "execution_count": 18,
   "id": "543f719e",
   "metadata": {},
   "outputs": [
    {
     "data": {
      "text/plain": [
       "<function __main__.my_hello(cnt)>"
      ]
     },
     "execution_count": 18,
     "metadata": {},
     "output_type": "execute_result"
    }
   ],
   "source": [
    "my_hello"
   ]
  },
  {
   "cell_type": "code",
   "execution_count": 19,
   "id": "16684fd7",
   "metadata": {},
   "outputs": [
    {
     "data": {
      "text/plain": [
       "'__main__'"
      ]
     },
     "execution_count": 19,
     "metadata": {},
     "output_type": "execute_result"
    }
   ],
   "source": [
    "__name__"
   ]
  },
  {
   "cell_type": "code",
   "execution_count": 20,
   "id": "e02f4bb4",
   "metadata": {},
   "outputs": [
    {
     "name": "stdout",
     "output_type": "stream",
     "text": [
      "Hello, Python\tHello, World\n",
      "Hello, Python\tHello, World\n"
     ]
    }
   ],
   "source": [
    "if __name__ == '__main__':\n",
    "    my_hello(2)"
   ]
  },
  {
   "cell_type": "code",
   "execution_count": 1,
   "id": "0ba27184",
   "metadata": {},
   "outputs": [],
   "source": [
    "import ch05 # ch05모듈이 해석되서 메모리 로드"
   ]
  },
  {
   "cell_type": "code",
   "execution_count": 2,
   "id": "1338892a",
   "metadata": {},
   "outputs": [
    {
     "name": "stdout",
     "output_type": "stream",
     "text": [
      "ch05\n",
      "Hello, Python\tHello, World\n",
      "Hello, Python\tHello, World\n",
      "Hello, Python\tHello, World\n"
     ]
    }
   ],
   "source": [
    "ch05.my_hello(3)"
   ]
  },
  {
   "cell_type": "code",
   "execution_count": 4,
   "id": "b234b6bb",
   "metadata": {},
   "outputs": [],
   "source": [
    "from ch05 import my_hello # ch05모듈안의 my_hello만 메모리 로드"
   ]
  },
  {
   "cell_type": "code",
   "execution_count": 5,
   "id": "d68d14b4",
   "metadata": {},
   "outputs": [
    {
     "name": "stdout",
     "output_type": "stream",
     "text": [
      "ch05\n",
      "Hello, Python\tHello, World\n",
      "Hello, Python\tHello, World\n",
      "Hello, Python\tHello, World\n"
     ]
    }
   ],
   "source": [
    "my_hello(3)"
   ]
  },
  {
   "cell_type": "markdown",
   "id": "cb26dff9",
   "metadata": {},
   "source": [
    "## 1.2 docstring"
   ]
  },
  {
   "cell_type": "code",
   "execution_count": 6,
   "id": "5ac0acef",
   "metadata": {},
   "outputs": [],
   "source": [
    "def my_function():\n",
    "    \"\"\"\n",
    "    함수의 첫 라인에 독스트링을 포함할 수 있습니다\n",
    "    독스트링은 함수의 설명서를 달아주는 역할\n",
    "    주석보다 많은 기능(함수 호출시 shift+tab으로 독스트링을 볼 수 있음)\n",
    "    \"\"\"\n",
    "    pass"
   ]
  },
  {
   "cell_type": "code",
   "execution_count": 8,
   "id": "cc296c9f",
   "metadata": {},
   "outputs": [
    {
     "name": "stdout",
     "output_type": "stream",
     "text": [
      "\n",
      "    함수의 첫 라인에 독스트링을 포함할 수 있습니다\n",
      "    독스트링은 함수의 설명서를 달아주는 역할\n",
      "    주석보다 많은 기능(함수 호출시 shift+tab으로 독스트링을 볼 수 있음)\n",
      "    \n"
     ]
    }
   ],
   "source": [
    "print(my_function.__doc__)"
   ]
  },
  {
   "cell_type": "code",
   "execution_count": 9,
   "id": "9db4741b",
   "metadata": {},
   "outputs": [],
   "source": [
    "def fibonacci(n):\n",
    "    '''\n",
    "    매개변수로 들어온 n값 미만의 피보나치 수열을 출력하는 함수\n",
    "    ex. n=10 : 0 1 1 2 3 5 8 \n",
    "       n=100 : 0 1 1 2 3 5 8 13 21 34 55 89\n",
    "    '''\n",
    "    a, b = 0, 1 # 함수 내에 선언한 변수 : 지역변수 (반:전역변수)\n",
    "    while a < n:\n",
    "        print(a, end=' ')\n",
    "        a, b = b, a+b\n",
    "    print() # 개행"
   ]
  },
  {
   "cell_type": "code",
   "execution_count": 13,
   "id": "0cb7c7b6",
   "metadata": {},
   "outputs": [
    {
     "name": "stdout",
     "output_type": "stream",
     "text": [
      "0 1 1 2 3 5 8 13 21 34 55 89 144 233 377 610 987 1597 2584 4181 6765 \n"
     ]
    }
   ],
   "source": [
    "fibonacci(10000)"
   ]
  },
  {
   "cell_type": "code",
   "execution_count": 16,
   "id": "95eb2684",
   "metadata": {},
   "outputs": [
    {
     "ename": "NameError",
     "evalue": "name 'a' is not defined",
     "output_type": "error",
     "traceback": [
      "\u001b[1;31m--------------------------------------------------\u001b[0m",
      "\u001b[1;31mNameError\u001b[0m        Traceback (most recent call last)",
      "Cell \u001b[1;32mIn[16], line 1\u001b[0m\n\u001b[1;32m----> 1\u001b[0m \u001b[43ma\u001b[49m, b\n",
      "\u001b[1;31mNameError\u001b[0m: name 'a' is not defined"
     ]
    }
   ],
   "source": [
    "a, b # 지역변수는 함수내에서만 사용가능"
   ]
  },
  {
   "cell_type": "markdown",
   "id": "f5b1462d",
   "metadata": {},
   "source": [
    "## 1.3 지역변수(local var)와 전역변수(global var)"
   ]
  },
  {
   "cell_type": "code",
   "execution_count": 17,
   "id": "cfcf58ce",
   "metadata": {},
   "outputs": [
    {
     "name": "stdout",
     "output_type": "stream",
     "text": [
      "함수안 : 100\n",
      "함수밖 : 100\n"
     ]
    }
   ],
   "source": [
    "global_var = 100 \n",
    "def func1():\n",
    "    print('함수안 :', global_var)\n",
    "func1()\n",
    "print('함수밖 :', global_var)"
   ]
  },
  {
   "cell_type": "code",
   "execution_count": 18,
   "id": "6cc44e8b",
   "metadata": {},
   "outputs": [
    {
     "name": "stdout",
     "output_type": "stream",
     "text": [
      "함수안 : 200\n"
     ]
    }
   ],
   "source": [
    "def func2():\n",
    "    local_var = 200 # 지역변수(함수내에서 할당)\n",
    "    print('함수안 :', local_var)\n",
    "func2()"
   ]
  },
  {
   "cell_type": "code",
   "execution_count": 20,
   "id": "3f3afb09",
   "metadata": {},
   "outputs": [],
   "source": [
    "# print('함수밖에서 지역변수 :', local_var) # 에러"
   ]
  },
  {
   "cell_type": "code",
   "execution_count": 21,
   "id": "5030e22f",
   "metadata": {},
   "outputs": [
    {
     "name": "stdout",
     "output_type": "stream",
     "text": [
      "지역변수 g_var : 200\n",
      "전역변수 g_var : 100\n"
     ]
    }
   ],
   "source": [
    "g_var = 100 # 전역변수\n",
    "def func3():\n",
    "    g_var = 200 # 지역변수 (함수내에서 할당)\n",
    "    print('지역변수 g_var :', g_var)\n",
    "func3()\n",
    "print('전역변수 g_var :', g_var)"
   ]
  },
  {
   "cell_type": "code",
   "execution_count": 22,
   "id": "c4548b63",
   "metadata": {},
   "outputs": [
    {
     "ename": "UnboundLocalError",
     "evalue": "local variable 'g_var' referenced before assignment",
     "output_type": "error",
     "traceback": [
      "\u001b[1;31m--------------------------------------------------\u001b[0m",
      "\u001b[1;31mUnboundLocalError\u001b[0mTraceback (most recent call last)",
      "Cell \u001b[1;32mIn[22], line 7\u001b[0m\n\u001b[0;32m      5\u001b[0m     \u001b[38;5;28mprint\u001b[39m(\u001b[38;5;124m'\u001b[39m\u001b[38;5;124m지역변수 g_var :\u001b[39m\u001b[38;5;124m'\u001b[39m, g_var)\n\u001b[0;32m      6\u001b[0m     g_var \u001b[38;5;241m=\u001b[39m \u001b[38;5;241m200\u001b[39m \u001b[38;5;66;03m# 지역변수 (함수내에서 할당)\u001b[39;00m\n\u001b[1;32m----> 7\u001b[0m \u001b[43mfunc3\u001b[49m\u001b[43m(\u001b[49m\u001b[43m)\u001b[49m\n\u001b[0;32m      8\u001b[0m \u001b[38;5;28mprint\u001b[39m(\u001b[38;5;124m'\u001b[39m\u001b[38;5;124m전역변수 g_var :\u001b[39m\u001b[38;5;124m'\u001b[39m, g_var)\n",
      "Cell \u001b[1;32mIn[22], line 5\u001b[0m, in \u001b[0;36mfunc3\u001b[1;34m()\u001b[0m\n\u001b[0;32m      4\u001b[0m \u001b[38;5;28;01mdef\u001b[39;00m \u001b[38;5;21mfunc3\u001b[39m():    \n\u001b[1;32m----> 5\u001b[0m     \u001b[38;5;28mprint\u001b[39m(\u001b[38;5;124m'\u001b[39m\u001b[38;5;124m지역변수 g_var :\u001b[39m\u001b[38;5;124m'\u001b[39m, \u001b[43mg_var\u001b[49m)\n\u001b[0;32m      6\u001b[0m     g_var \u001b[38;5;241m=\u001b[39m \u001b[38;5;241m200\u001b[39m\n",
      "\u001b[1;31mUnboundLocalError\u001b[0m: local variable 'g_var' referenced before assignment"
     ]
    }
   ],
   "source": [
    "# 렉시컬 특성 : 변수가 어디서 선언되었는지에 따라 \n",
    "# 변수의 범위가 정해짐(지역vs전역)\n",
    "g_var = 100 # 전역변수\n",
    "def func3():    \n",
    "    print('지역변수 g_var :', g_var)\n",
    "    g_var = 200 # 지역변수 (함수내에서 할당)\n",
    "func3()\n",
    "print('전역변수 g_var :', g_var)"
   ]
  },
  {
   "cell_type": "code",
   "execution_count": 29,
   "id": "2d7ceff8",
   "metadata": {},
   "outputs": [
    {
     "name": "stdout",
     "output_type": "stream",
     "text": [
      "전역변수 g_var : 100\n",
      "전역변수 g_var : 200\n"
     ]
    }
   ],
   "source": [
    "# 렉시컬 특성 \n",
    "g_var = 100 # 전역변수\n",
    "def func3():   \n",
    "    global g_var # 함수내에서의 g_var는 전역변수를 쓰겠다\n",
    "    print('전역변수 g_var :', g_var)\n",
    "    g_var = 200 # 전역변수 g_var에 200할당\n",
    "func3()\n",
    "print('전역변수 g_var :', g_var)"
   ]
  },
  {
   "cell_type": "markdown",
   "id": "f5a46827",
   "metadata": {},
   "source": [
    "## 1.4 값에 의한 호출\n",
    "- 함수에 인수로 전달되는 변수가 스칼라변수(문자, 숫자, 논리형)일 때"
   ]
  },
  {
   "cell_type": "code",
   "execution_count": 32,
   "id": "8354f9f7",
   "metadata": {},
   "outputs": [
    {
     "data": {
      "text/plain": [
       "2187739948848"
      ]
     },
     "execution_count": 32,
     "metadata": {},
     "output_type": "execute_result"
    }
   ],
   "source": [
    "foo = 'a' # 전역변수\n",
    "id(foo)"
   ]
  },
  {
   "cell_type": "code",
   "execution_count": 33,
   "id": "dcefc53c",
   "metadata": {},
   "outputs": [
    {
     "name": "stdout",
     "output_type": "stream",
     "text": [
      "Before : a 의 주소는  2187739948848\n",
      "After : aaa 의 주소는  2187817289008\n"
     ]
    }
   ],
   "source": [
    "def func1(f): # 매개변수는 지역변수\n",
    "    print('Before :', f, '의 주소는 ', id(f))\n",
    "    f = f*3 \n",
    "    print('After :', f, '의 주소는 ', id(f))\n",
    "func1(foo)"
   ]
  },
  {
   "cell_type": "code",
   "execution_count": 34,
   "id": "ca048ed3",
   "metadata": {},
   "outputs": [
    {
     "name": "stdout",
     "output_type": "stream",
     "text": [
      "foo =  a 의 주소는 2187739948848\n"
     ]
    }
   ],
   "source": [
    "print('foo = ', foo, '의 주소는',id(foo))"
   ]
  },
  {
   "cell_type": "markdown",
   "id": "fe4f578d",
   "metadata": {},
   "source": [
    "## 1.5 참조에 의한 호출\n",
    "- 함수에 인수로 전달되는 변수가 리스트, 튜플, 셋, 딕셔너리, 기타 객체일 경우"
   ]
  },
  {
   "cell_type": "code",
   "execution_count": 43,
   "id": "9b0e2716",
   "metadata": {},
   "outputs": [
    {
     "data": {
      "text/plain": [
       "2187852452224"
      ]
     },
     "execution_count": 43,
     "metadata": {},
     "output_type": "execute_result"
    }
   ],
   "source": [
    "L = [1, 2, 3, 4, 5]\n",
    "id(L)"
   ]
  },
  {
   "cell_type": "code",
   "execution_count": 45,
   "id": "1c05cf72",
   "metadata": {},
   "outputs": [
    {
     "name": "stdout",
     "output_type": "stream",
     "text": [
      "Before : [1, 2, 3, 4, 5] 의 주소는  2187852452224\n",
      "After : [1, 2, 3, 4, 5, 6] 의 주소는  2187852452224\n"
     ]
    }
   ],
   "source": [
    "def func2(f): # 매개변수는 지역변수\n",
    "    print('Before :', f, '의 주소는 ', id(f))\n",
    "    f.append(6)\n",
    "    print('After :', f, '의 주소는 ', id(f))\n",
    "func2(L)"
   ]
  },
  {
   "cell_type": "code",
   "execution_count": 37,
   "id": "4f7ed0ef",
   "metadata": {},
   "outputs": [
    {
     "name": "stdout",
     "output_type": "stream",
     "text": [
      "L= [1, 2, 3, 4, 5, 6] 의 주소는 2187852077632\n"
     ]
    }
   ],
   "source": [
    "print('L=', L, '의 주소는', id(L))"
   ]
  },
  {
   "cell_type": "markdown",
   "id": "65c5adb7",
   "metadata": {},
   "source": [
    "# 2절 함수의 실행결과를 반환하는 return"
   ]
  },
  {
   "cell_type": "code",
   "execution_count": 39,
   "id": "f640408b",
   "metadata": {},
   "outputs": [],
   "source": [
    "def fibonacci_print(n):\n",
    "    '매개변수로 들어온 n값 미만의 피보나치 수열을 출력하는 함수'\n",
    "    a, b = 0, 1 # 함수 내에 선언한 변수 : 지역변수 (반:전역변수)\n",
    "    while a < n:\n",
    "        print(a, end=' ') # 출력\n",
    "        a, b = b, a+b\n",
    "    print() # 개행\n",
    "def fibonacci(n):\n",
    "    \"n미만의 피보나치수열을 리스트로 return\"\n",
    "    result = [] # 피보나치수열을 append할 리스트\n",
    "    a, b = 0, 1\n",
    "    while a<n:\n",
    "        result.append(a) # 리스트에 append\n",
    "        a, b = b, a+b\n",
    "    return result"
   ]
  },
  {
   "cell_type": "code",
   "execution_count": 41,
   "id": "34c868b8",
   "metadata": {},
   "outputs": [
    {
     "name": "stdout",
     "output_type": "stream",
     "text": [
      "[0, 1, 1, 2, 3, 5, 8]\n",
      "<class 'list'>\n"
     ]
    }
   ],
   "source": [
    "x = fibonacci(10)\n",
    "print(x)\n",
    "print(type(x))"
   ]
  },
  {
   "cell_type": "code",
   "execution_count": 42,
   "id": "7d766fef",
   "metadata": {},
   "outputs": [
    {
     "name": "stdout",
     "output_type": "stream",
     "text": [
      "0 1 1 2 3 5 8 \n",
      "x= None\n",
      "<class 'NoneType'>\n"
     ]
    }
   ],
   "source": [
    "x = fibonacci_print(10)\n",
    "print('x=',x)\n",
    "print(type(x))"
   ]
  },
  {
   "cell_type": "markdown",
   "id": "0468bec0",
   "metadata": {},
   "source": [
    "### 여러개 값 return\n",
    "- 여러개값을 갖는 튜플로 return"
   ]
  },
  {
   "cell_type": "code",
   "execution_count": 46,
   "id": "166a70dc",
   "metadata": {},
   "outputs": [],
   "source": [
    "def swap(a, b):\n",
    "    '매개변수의 순서를 바꿔서 return'\n",
    "    return b, a # return (b, a)"
   ]
  },
  {
   "cell_type": "code",
   "execution_count": 48,
   "id": "6dc4cba8",
   "metadata": {},
   "outputs": [
    {
     "name": "stdout",
     "output_type": "stream",
     "text": [
      "함수 실행 전 x, y = 5 10\n",
      "함수 실행 후 x, y = 10 5\n"
     ]
    }
   ],
   "source": [
    "x = 5; y = 10\n",
    "print('함수 실행 전 x, y =', x, y)\n",
    "x, y = swap(x, y)\n",
    "print('함수 실행 후 x, y =', x, y)"
   ]
  },
  {
   "cell_type": "markdown",
   "id": "3ef14a88",
   "metadata": {},
   "source": [
    "# 3절 함수의 매개변수 ★\n",
    "## 3.1 기본값을 갖는 매개변수"
   ]
  },
  {
   "cell_type": "code",
   "execution_count": 53,
   "id": "1a21cd29",
   "metadata": {},
   "outputs": [],
   "source": [
    "def make_url(ip, port=80): # 순서인수 > 기본값을갖는매개변수\n",
    "    return \"http://{}:{}\".format(ip, port)"
   ]
  },
  {
   "cell_type": "code",
   "execution_count": 54,
   "id": "e03523c9",
   "metadata": {},
   "outputs": [
    {
     "name": "stdout",
     "output_type": "stream",
     "text": [
      "http://localhost:8090\n",
      "http://www.naver.com:80\n",
      "http://localhost:9090\n"
     ]
    }
   ],
   "source": [
    "print(make_url(\"localhost\", 8090))\n",
    "print(make_url(\"www.naver.com\"))\n",
    "print(make_url(port=9090, ip=\"localhost\"))"
   ]
  },
  {
   "cell_type": "code",
   "execution_count": 56,
   "id": "e5382624",
   "metadata": {},
   "outputs": [],
   "source": [
    "# def make_url(port=80, ip):  # 순서인수 > 기본값을갖는매개변수 순으로 배치\n",
    "#     return \"http://{}:{}\".format(ip, port) 에러남"
   ]
  },
  {
   "cell_type": "markdown",
   "id": "3b64bf14",
   "metadata": {},
   "source": [
    "## 3.2 기본변수를 갖는 매개변수\n",
    "- 기본변수가 스칼라변수(문자, 숫자, 논리형)일 때\n",
    "- 기본변수가 리스트, 셋, 딕셔너리, 기타 객체일 때"
   ]
  },
  {
   "cell_type": "code",
   "execution_count": 58,
   "id": "12924a2d",
   "metadata": {},
   "outputs": [],
   "source": [
    "i = 80\n",
    "# 기본변수가 스칼라변수일 때 : 함수가 정의되는 시점으로 기본값 셋팅\n",
    "def make_url(ip, port=i):\n",
    "    return \"http://{}:{}\".format(ip, port)"
   ]
  },
  {
   "cell_type": "code",
   "execution_count": 61,
   "id": "daab9b2f",
   "metadata": {},
   "outputs": [
    {
     "data": {
      "text/plain": [
       "'http://localhost:80'"
      ]
     },
     "execution_count": 61,
     "metadata": {},
     "output_type": "execute_result"
    }
   ],
   "source": [
    "i = 99999\n",
    "make_url(\"localhost\")"
   ]
  },
  {
   "cell_type": "code",
   "execution_count": 62,
   "id": "749a9f17",
   "metadata": {},
   "outputs": [
    {
     "name": "stdout",
     "output_type": "stream",
     "text": [
      "[10]\n"
     ]
    }
   ],
   "source": [
    "list_ = []\n",
    "# 기본변수가 리스트, 셋, 딕셔너리, 객체일 때 : 함수가 실행되는시점으로 기본값 셋팅\n",
    "def func3(a, L=list_):\n",
    "    L.append(a)\n",
    "    return L\n",
    "print(func3(10))"
   ]
  },
  {
   "cell_type": "code",
   "execution_count": 63,
   "id": "bdbffe95",
   "metadata": {},
   "outputs": [
    {
     "name": "stdout",
     "output_type": "stream",
     "text": [
      "[10, 20]\n"
     ]
    }
   ],
   "source": [
    "print(func3(20))"
   ]
  },
  {
   "cell_type": "code",
   "execution_count": 64,
   "id": "e7d67d6b",
   "metadata": {},
   "outputs": [
    {
     "name": "stdout",
     "output_type": "stream",
     "text": [
      "list_ = [10, 20]\n"
     ]
    }
   ],
   "source": [
    "print(\"list_ =\", list_)"
   ]
  },
  {
   "cell_type": "code",
   "execution_count": 65,
   "id": "de83b0c8",
   "metadata": {},
   "outputs": [
    {
     "name": "stdout",
     "output_type": "stream",
     "text": [
      "[10, 20, 50]\n"
     ]
    }
   ],
   "source": [
    "print(func3(50))"
   ]
  },
  {
   "cell_type": "code",
   "execution_count": 72,
   "id": "ee811bc8",
   "metadata": {},
   "outputs": [
    {
     "name": "stdout",
     "output_type": "stream",
     "text": [
      "[10]\n",
      "[10]\n",
      "[10]\n",
      "[1, 2, 3, 10]\n",
      "[10]\n"
     ]
    }
   ],
   "source": [
    "# 실행할 때마다 L을 공유하는게 싫으면\n",
    "def func3(a, L=None):\n",
    "    if L is None:\n",
    "        L = []\n",
    "    L.append(a)\n",
    "    return L\n",
    "print(func3(10))\n",
    "print(func3(10))\n",
    "print(func3(10))\n",
    "print(func3(10, [1,2,3]))\n",
    "print(func3(10))"
   ]
  },
  {
   "cell_type": "markdown",
   "id": "e296784c",
   "metadata": {},
   "source": [
    "## 3.3 순서인수, 키워드인수\n",
    "- 순서인수 : 함수에 정의된 순서대로 전달방식\n",
    "- 키워드인수 : 인수의 이름을 명시하는 방식\n",
    "- 함수 정의시 순서인수와 키워드인수가 같이 올 때는 순서인수 > 키워드인수 순으로"
   ]
  },
  {
   "cell_type": "code",
   "execution_count": 77,
   "id": "f1ec924e",
   "metadata": {},
   "outputs": [],
   "source": [
    "def func3(a, L=None):\n",
    "    if L is None:\n",
    "        L = []\n",
    "    L.append(a)\n",
    "    return L"
   ]
  },
  {
   "cell_type": "code",
   "execution_count": 81,
   "id": "38c4d8c7",
   "metadata": {},
   "outputs": [
    {
     "name": "stdout",
     "output_type": "stream",
     "text": [
      "[10]\n",
      "[10, 20]\n"
     ]
    }
   ],
   "source": [
    "lst = []\n",
    "print(func3(10, lst))     # 순서인수 : 함수 정의된 순서대로 전달하는 방식\n",
    "print(func3(L=lst, a=20)) # 키워드인수 : 인수의 이름을 명시하여 전달하는 방식"
   ]
  },
  {
   "cell_type": "markdown",
   "id": "802e144e",
   "metadata": {},
   "source": [
    "## 3.4 튜플매개변수를 이용한 가변인수 설정\n",
    "- 가변인수 : 매개변수의 갯수가 가변"
   ]
  },
  {
   "cell_type": "code",
   "execution_count": 86,
   "id": "a4b27eff",
   "metadata": {},
   "outputs": [],
   "source": [
    "# 파이썬은 함수의 중복정의(오버로딩)을 지원하지 않음\n",
    "def add(a, b):\n",
    "    return a+b\n",
    "def add(a, b, c):\n",
    "    return a+b+c"
   ]
  },
  {
   "cell_type": "code",
   "execution_count": 87,
   "id": "82be5710",
   "metadata": {},
   "outputs": [
    {
     "ename": "TypeError",
     "evalue": "add() missing 1 required positional argument: 'c'",
     "output_type": "error",
     "traceback": [
      "\u001b[1;31m--------------------------------------------------\u001b[0m",
      "\u001b[1;31mTypeError\u001b[0m        Traceback (most recent call last)",
      "Cell \u001b[1;32mIn[87], line 1\u001b[0m\n\u001b[1;32m----> 1\u001b[0m \u001b[43madd\u001b[49m\u001b[43m(\u001b[49m\u001b[38;5;241;43m3\u001b[39;49m\u001b[43m,\u001b[49m\u001b[43m \u001b[49m\u001b[38;5;241;43m5\u001b[39;49m\u001b[43m)\u001b[49m\n",
      "\u001b[1;31mTypeError\u001b[0m: add() missing 1 required positional argument: 'c'"
     ]
    }
   ],
   "source": [
    "add(3, 5)"
   ]
  },
  {
   "cell_type": "code",
   "execution_count": 97,
   "id": "c5ea8942",
   "metadata": {},
   "outputs": [],
   "source": [
    "# args앞에 * : args가 튜플로 전달받는다\n",
    "def add(*args):\n",
    "    # print('args =', args)\n",
    "    '전달받은 매개변수들의 합을 return. 매개변수가 없는 경우 0을 return'\n",
    "    sum = 0 # 누적변수\n",
    "    for num in args:\n",
    "        sum += num # sum = sum+num\n",
    "    return sum"
   ]
  },
  {
   "cell_type": "code",
   "execution_count": 100,
   "id": "bcc25ca9",
   "metadata": {},
   "outputs": [
    {
     "name": "stdout",
     "output_type": "stream",
     "text": [
      "0\n",
      "1\n",
      "4\n",
      "25\n"
     ]
    }
   ],
   "source": [
    "print(add())\n",
    "print(add(1))\n",
    "print(add(1, 3))\n",
    "print(add(1, 2, 5, 7, 9, 1))"
   ]
  },
  {
   "cell_type": "code",
   "execution_count": 103,
   "id": "f9b6e98e",
   "metadata": {},
   "outputs": [
    {
     "data": {
      "text/plain": [
       "'Python-web-JavaScript-DBMS'"
      ]
     },
     "execution_count": 103,
     "metadata": {},
     "output_type": "execute_result"
    }
   ],
   "source": [
    "subject = ('Python', 'web', 'JavaScript', 'DBMS')\n",
    "'-'.join(subject)"
   ]
  },
  {
   "cell_type": "code",
   "execution_count": 104,
   "id": "91e1ef6c",
   "metadata": {},
   "outputs": [],
   "source": [
    "# 튜플 매개변수와 일반 매개변수가 같이 있을 때\n",
    "def concat(*subject, sep):\n",
    "    return sep.join(subject)"
   ]
  },
  {
   "cell_type": "code",
   "execution_count": 105,
   "id": "6d3f0b89",
   "metadata": {},
   "outputs": [
    {
     "ename": "TypeError",
     "evalue": "concat() missing 1 required keyword-only argument: 'sep'",
     "output_type": "error",
     "traceback": [
      "\u001b[1;31m--------------------------------------------------\u001b[0m",
      "\u001b[1;31mTypeError\u001b[0m        Traceback (most recent call last)",
      "Cell \u001b[1;32mIn[105], line 1\u001b[0m\n\u001b[1;32m----> 1\u001b[0m \u001b[43mconcat\u001b[49m\u001b[43m(\u001b[49m\u001b[38;5;124;43m'\u001b[39;49m\u001b[38;5;124;43mPython\u001b[39;49m\u001b[38;5;124;43m'\u001b[39;49m\u001b[43m,\u001b[49m\u001b[43m \u001b[49m\u001b[38;5;124;43m'\u001b[39;49m\u001b[38;5;124;43mweb\u001b[39;49m\u001b[38;5;124;43m'\u001b[39;49m\u001b[43m,\u001b[49m\u001b[43m \u001b[49m\u001b[38;5;124;43m'\u001b[39;49m\u001b[38;5;124;43mJavaScript\u001b[39;49m\u001b[38;5;124;43m'\u001b[39;49m\u001b[43m,\u001b[49m\u001b[43m \u001b[49m\u001b[38;5;124;43m'\u001b[39;49m\u001b[38;5;124;43mDBMS\u001b[39;49m\u001b[38;5;124;43m'\u001b[39;49m\u001b[43m,\u001b[49m\u001b[43m \u001b[49m\u001b[38;5;124;43m'\u001b[39;49m\u001b[38;5;124;43m-\u001b[39;49m\u001b[38;5;124;43m'\u001b[39;49m\u001b[43m)\u001b[49m\n",
      "\u001b[1;31mTypeError\u001b[0m: concat() missing 1 required keyword-only argument: 'sep'"
     ]
    }
   ],
   "source": [
    "concat('Python', 'web', 'JavaScript', 'DBMS', '-')"
   ]
  },
  {
   "cell_type": "code",
   "execution_count": 106,
   "id": "a962ca09",
   "metadata": {},
   "outputs": [
    {
     "data": {
      "text/plain": [
       "'Python-web-JavaScript-DBMS'"
      ]
     },
     "execution_count": 106,
     "metadata": {},
     "output_type": "execute_result"
    }
   ],
   "source": [
    "# 해결책1 : 매개변수 이름을 지정해서 호출\n",
    "concat('Python', 'web', 'JavaScript', 'DBMS', sep='-')"
   ]
  },
  {
   "cell_type": "code",
   "execution_count": 112,
   "id": "03dcc53f",
   "metadata": {},
   "outputs": [
    {
     "name": "stdout",
     "output_type": "stream",
     "text": [
      "Python ~ Web ~ JS ~ DBMS ~ -\n",
      "Python-Web-JS-DBMS\n"
     ]
    }
   ],
   "source": [
    "# 해결책2 : 기본값을 갖는 키워드인수 사용\n",
    "def concat(*subject, sep=' ~ '): # 튜플매개변수 > 키워드인수\n",
    "    return sep.join(subject)\n",
    "print(concat('Python', 'Web', 'JS', 'DBMS', '-'))\n",
    "print(concat('Python', 'Web', 'JS', 'DBMS', sep='-'))"
   ]
  },
  {
   "cell_type": "code",
   "execution_count": 114,
   "id": "47bad197",
   "metadata": {},
   "outputs": [
    {
     "name": "stdout",
     "output_type": "stream",
     "text": [
      "python=web=js\n"
     ]
    }
   ],
   "source": [
    "print('python', 'web', 'js', sep='=')"
   ]
  },
  {
   "cell_type": "code",
   "execution_count": 129,
   "id": "b2657248",
   "metadata": {},
   "outputs": [],
   "source": [
    "# 해결책3 : sep을 순서인수로 앞으로 (추천)\n",
    "def concat(sep, *subject):\n",
    "    return sep.join(subject)"
   ]
  },
  {
   "cell_type": "code",
   "execution_count": 116,
   "id": "d3939710",
   "metadata": {},
   "outputs": [
    {
     "data": {
      "text/plain": [
       "'Python~Web~DB~MLDL'"
      ]
     },
     "execution_count": 116,
     "metadata": {},
     "output_type": "execute_result"
    }
   ],
   "source": [
    "concat('~', 'Python', 'Web', 'DB', 'MLDL')"
   ]
  },
  {
   "cell_type": "markdown",
   "id": "12a86e35",
   "metadata": {},
   "source": [
    "## 3.5 딕셔너리 매개변수\n",
    "- 딕셔너리 인수 : 여러개의 키워드 인수를 딕셔너리 형태로 받아서 가변인수로 처리"
   ]
  },
  {
   "cell_type": "code",
   "execution_count": 155,
   "id": "1a4ce909",
   "metadata": {},
   "outputs": [],
   "source": [
    "def func5(**args):\n",
    "    '''딕셔너리 매개변수로 받아 address 키가 없으면 서울시 관악구로 추가하고\n",
    "    키-값을 출력'''\n",
    "    print(args)\n",
    "    print(type(args))\n",
    "    if 'address' not in args: # args에 address 키가 없으면 if문 True\n",
    "        # args['address'] = '서울시 관악구'\n",
    "        # args.update({'address':'서울시 관악구'})\n",
    "        args.update(address='서울시 관악구')\n",
    "    for key, value in args.items():\n",
    "        print(\"{} : {}\".format(key, value))"
   ]
  },
  {
   "cell_type": "code",
   "execution_count": 156,
   "id": "06f5593f",
   "metadata": {},
   "outputs": [
    {
     "name": "stdout",
     "output_type": "stream",
     "text": [
      "{'nam': '홍길동', 'age': 30, 'tel': '010-9999-9999'}\n",
      "<class 'dict'>\n",
      "nam : 홍길동\n",
      "age : 30\n",
      "tel : 010-9999-9999\n",
      "address : 서울시 관악구\n"
     ]
    }
   ],
   "source": [
    "func5(nam='홍길동', \n",
    "      age=30, \n",
    "      tel='010-9999-9999')"
   ]
  },
  {
   "cell_type": "markdown",
   "id": "d41a1eb6",
   "metadata": {},
   "source": [
    "## 3.6 함수 정의시 매개변수의 순서\n",
    "- 순서인수 > 튜플인수(*) > 키워드인수(기본값) > 딕셔너리인수(**)"
   ]
  },
  {
   "cell_type": "code",
   "execution_count": 157,
   "id": "1e9b3bc7",
   "metadata": {},
   "outputs": [],
   "source": [
    "# 순서인수 > 튜플인수 > 딕셔너리인수\n",
    "def func6(a, b, *c, **d):\n",
    "    print('순서인수 a = ', a)\n",
    "    print('순서인수 b = ', b)\n",
    "    print('튜플인수 c = ', c)\n",
    "    print('딕셔너리인수 d = ', d)"
   ]
  },
  {
   "cell_type": "code",
   "execution_count": 162,
   "id": "a4e8a3e9",
   "metadata": {},
   "outputs": [
    {
     "name": "stdout",
     "output_type": "stream",
     "text": [
      "순서인수 a =  10\n",
      "순서인수 b =  20\n",
      "튜플인수 c =  (1, 2, 3, 4, 5, 6, 7, 8, 9, 'a', 'b', True)\n",
      "딕셔너리인수 d =  {'name': '홍', 'age': 30, 'address': '신림'}\n"
     ]
    }
   ],
   "source": [
    "func6(10, 20, 1,2,3,4,5,6,7,8,9,'a','b',True, name='홍', age=30, address='신림')"
   ]
  },
  {
   "cell_type": "code",
   "execution_count": 163,
   "id": "d3996854",
   "metadata": {},
   "outputs": [],
   "source": [
    "# 순서인수 > 튜플인수(*) > 키워드인수(기본값) > 딕셔너리인수(**)\n",
    "def func7(a, b, c, *d, e=10, **f):\n",
    "    print('순서인수 a =', a)\n",
    "    print('순서인수 b =', b)\n",
    "    print('순서인수 c =', c)\n",
    "    print('튜플인수 d =', d)\n",
    "    print('키워드인수(기본값 10) e =', e)\n",
    "    print('딕셔너리인수 f =', f)"
   ]
  },
  {
   "cell_type": "code",
   "execution_count": 167,
   "id": "0fdbdee7",
   "metadata": {},
   "outputs": [
    {
     "name": "stdout",
     "output_type": "stream",
     "text": [
      "순서인수 a = 10\n",
      "순서인수 b = 20\n",
      "순서인수 c = 30\n",
      "튜플인수 d = ()\n",
      "키워드인수(기본값 10) e = 100\n",
      "딕셔너리인수 f = {}\n"
     ]
    }
   ],
   "source": [
    "func7(10, 20, 30, e=100)"
   ]
  },
  {
   "cell_type": "code",
   "execution_count": 166,
   "id": "4d5b0118",
   "metadata": {},
   "outputs": [
    {
     "name": "stdout",
     "output_type": "stream",
     "text": [
      "순서인수 a = 10\n",
      "순서인수 b = 20\n",
      "순서인수 c = 30\n",
      "튜플인수 d = ()\n",
      "키워드인수(기본값 10) e = 10\n",
      "딕셔너리인수 f = {}\n"
     ]
    }
   ],
   "source": [
    "func7(10, 20, 30)"
   ]
  },
  {
   "cell_type": "code",
   "execution_count": 165,
   "id": "30a86651",
   "metadata": {},
   "outputs": [
    {
     "name": "stdout",
     "output_type": "stream",
     "text": [
      "순서인수 a = 10\n",
      "순서인수 b = 20\n",
      "순서인수 c = 30\n",
      "튜플인수 d = (1, 2, 3, 4, 5)\n",
      "키워드인수(기본값 10) e = 100\n",
      "딕셔너리인수 f = {'shape': 'rect', 'width': 20, 'height': 30}\n"
     ]
    }
   ],
   "source": [
    "func7(10, 20, 30, 1,2,3,4,5, e=100, shape='rect', width=20, height=30)"
   ]
  },
  {
   "cell_type": "markdown",
   "id": "7316529d",
   "metadata": {},
   "source": [
    "## 3.7 인수의 언패킹\n",
    "### 튜플인수 언패킹\n",
    "- 언패킹 : 함수 호출시 매개변수 앞에 * 붙임\n",
    "- 패킹 : 함수 정의시 매개변수앞에 * 붙임(튜플매개변수)"
   ]
  },
  {
   "cell_type": "code",
   "execution_count": 173,
   "id": "41ee7dde",
   "metadata": {},
   "outputs": [],
   "source": [
    "def add(*args):\n",
    "#    print(args)\n",
    "    sum = 0\n",
    "    for num in args:\n",
    "        sum += num\n",
    "    return sum"
   ]
  },
  {
   "cell_type": "code",
   "execution_count": 174,
   "id": "52cb18a5",
   "metadata": {},
   "outputs": [
    {
     "data": {
      "text/plain": [
       "6"
      ]
     },
     "execution_count": 174,
     "metadata": {},
     "output_type": "execute_result"
    }
   ],
   "source": [
    "add(1, 2, 3)"
   ]
  },
  {
   "cell_type": "code",
   "execution_count": 177,
   "id": "ad6cb4c0",
   "metadata": {},
   "outputs": [
    {
     "data": {
      "text/plain": [
       "6"
      ]
     },
     "execution_count": 177,
     "metadata": {},
     "output_type": "execute_result"
    }
   ],
   "source": [
    "numbers = (1, 2, 3)\n",
    "add( *numbers )"
   ]
  },
  {
   "cell_type": "markdown",
   "id": "2b880800",
   "metadata": {},
   "source": [
    "### 딕셔너리 인수 언패킹\n",
    "- 언패킹 : 함수 호출시 매개변수 앞에 ** 붙임\n",
    "- 패킹 : 함수 정의시 매개변수앞에 ** 붙임(튜플매개변수)"
   ]
  },
  {
   "cell_type": "code",
   "execution_count": 178,
   "id": "87b423d4",
   "metadata": {},
   "outputs": [],
   "source": [
    "def func8(**data):\n",
    "    print(data)\n",
    "    for item in data.items():\n",
    "        print(item)"
   ]
  },
  {
   "cell_type": "code",
   "execution_count": 180,
   "id": "721d35b7",
   "metadata": {
    "collapsed": true
   },
   "outputs": [
    {
     "name": "stdout",
     "output_type": "stream",
     "text": [
      "{'shape': 'rect', 'width': 40, 'height': 30}\n",
      "('shape', 'rect')\n",
      "('width', 40)\n",
      "('height', 30)\n"
     ]
    }
   ],
   "source": [
    "func8(shape='rect', width=40, height=30)"
   ]
  },
  {
   "cell_type": "code",
   "execution_count": 182,
   "id": "c23d3cfa",
   "metadata": {},
   "outputs": [
    {
     "name": "stdout",
     "output_type": "stream",
     "text": [
      "{'shape': 'rect', 'width': 40, 'height': 30}\n",
      "('shape', 'rect')\n",
      "('width', 40)\n",
      "('height', 30)\n"
     ]
    }
   ],
   "source": [
    "info = {'shape':'rect', 'width':40, 'height':30}\n",
    "func8(**info)"
   ]
  },
  {
   "cell_type": "markdown",
   "id": "ede9b9d8",
   "metadata": {},
   "source": [
    "# 4절 람다식\n",
    "- return 한 줄짜리 작은 익명 함수\n",
    "## 4.1. 람다식 연습"
   ]
  },
  {
   "cell_type": "code",
   "execution_count": 5,
   "id": "fae7c2dc",
   "metadata": {},
   "outputs": [
    {
     "ename": "NameError",
     "evalue": "name 'add2' is not defined",
     "output_type": "error",
     "traceback": [
      "\u001b[1;31m---------------------------------------------------------------------------\u001b[0m",
      "\u001b[1;31mNameError\u001b[0m                                 Traceback (most recent call last)",
      "Cell \u001b[1;32mIn[5], line 3\u001b[0m\n\u001b[0;32m      1\u001b[0m \u001b[38;5;28;01mdef\u001b[39;00m \u001b[38;5;21madd\u001b[39m(a, b):\n\u001b[0;32m      2\u001b[0m     \u001b[38;5;28;01mreturn\u001b[39;00m a\u001b[38;5;241m+\u001b[39mb\n\u001b[1;32m----> 3\u001b[0m \u001b[38;5;28mprint\u001b[39m(\u001b[43madd2\u001b[49m(\u001b[38;5;241m3\u001b[39m, \u001b[38;5;241m5\u001b[39m))\n\u001b[0;32m      4\u001b[0m \u001b[38;5;28mprint\u001b[39m(\u001b[38;5;28mtype\u001b[39m(add2))\n",
      "\u001b[1;31mNameError\u001b[0m: name 'add2' is not defined"
     ]
    }
   ],
   "source": [
    "def add(a, b):\n",
    "    return a+b\n",
    "print(add2(3, 5))\n",
    "print(type(add2))"
   ]
  },
  {
   "cell_type": "code",
   "execution_count": 6,
   "id": "bd0471bc",
   "metadata": {},
   "outputs": [
    {
     "ename": "SyntaxError",
     "evalue": "invalid syntax (984819461.py, line 1)",
     "output_type": "error",
     "traceback": [
      "\u001b[1;36m  Cell \u001b[1;32mIn[6], line 1\u001b[1;36m\u001b[0m\n\u001b[1;33m    add2 = lambda a,, b :  a + b\u001b[0m\n\u001b[1;37m                    ^\u001b[0m\n\u001b[1;31mSyntaxError\u001b[0m\u001b[1;31m:\u001b[0m invalid syntax\n"
     ]
    }
   ],
   "source": [
    "add2 = lambda a,, b :  a + b\n",
    "print(add2(3, 5))\n",
    "print(type(add2))"
   ]
  },
  {
   "cell_type": "code",
   "execution_count": 8,
   "id": "3e82788c",
   "metadata": {},
   "outputs": [
    {
     "data": {
      "text/plain": [
       "('홀수', '짝수')"
      ]
     },
     "execution_count": 8,
     "metadata": {},
     "output_type": "execute_result"
    }
   ],
   "source": [
    "# ex1.  매개변수로 돌어온 값이 짝수인지 return 함수를 람다식으로 만들어보세요.\n",
    "def even_odd_chk(num):\n",
    "    if num%2:\n",
    "        result = \"홀수\"\n",
    "    else:\n",
    "        result = \"짝수\"\n",
    "    return result\n",
    "even_odd_chk(5), even_odd_chk(-4) "
   ]
  },
  {
   "cell_type": "code",
   "execution_count": null,
   "id": "ec630624",
   "metadata": {},
   "outputs": [],
   "source": [
    "# ex2  두 개 매개변수의 차이를 return 함수를 람다식으로 만들어보세요."
   ]
  },
  {
   "cell_type": "code",
   "execution_count": 15,
   "id": "1f882002",
   "metadata": {},
   "outputs": [
    {
     "data": {
      "text/plain": [
       "('홀수', '짝수')"
      ]
     },
     "execution_count": 15,
     "metadata": {},
     "output_type": "execute_result"
    }
   ],
   "source": [
    "# ex1.  매개변수로 돌어온 값이 짝수인지 return 함수를 람다식으로 만들어보세요.\n",
    "def even_odd_chk(num):\n",
    "#    if num%2:\n",
    "#        result = \"홀수\"\n",
    "#    else:\n",
    "#        result = \"짝수\"\n",
    "     return \"홀수\" if num%2 else \"짝수\"\n",
    "even_odd_chk1 = lambda num : \"홀수\" if num%2 else \"짝수\"\n",
    "even_odd_chk(5), even_odd_chk(-4) "
   ]
  },
  {
   "cell_type": "code",
   "execution_count": 16,
   "id": "9f0e3e36",
   "metadata": {},
   "outputs": [
    {
     "data": {
      "text/plain": [
       "(4, 4)"
      ]
     },
     "execution_count": 16,
     "metadata": {},
     "output_type": "execute_result"
    }
   ],
   "source": [
    "# ex2  두 개 매개변수의 차이를 return 함수를 람다식으로 만들어보세요.\n",
    "diff =lambda a, b : a-b if a>b else b-a\n",
    "diff(5, 1), diff(1, 5)"
   ]
  },
  {
   "cell_type": "code",
   "execution_count": 17,
   "id": "ed1ae145",
   "metadata": {},
   "outputs": [
    {
     "data": {
      "text/plain": [
       "(4, 4)"
      ]
     },
     "execution_count": 17,
     "metadata": {},
     "output_type": "execute_result"
    }
   ],
   "source": [
    "# ex2  두 개 매개변수의 차이를 return 함수를 람다식으로 만들어보세요.\n",
    "def diff(a, b):\n",
    "    if a>b:\n",
    "        result = a-b\n",
    "    else: \n",
    "        result = b-a\n",
    "    return rssult\n",
    "diff =lambda a, b : a-b if a>b else b-a\n",
    "diff(5, 1), diff(1, 5)"
   ]
  },
  {
   "cell_type": "code",
   "execution_count": 20,
   "id": "9956f323",
   "metadata": {},
   "outputs": [
    {
     "data": {
      "text/plain": [
       "(1000, 'negative')"
      ]
     },
     "execution_count": 20,
     "metadata": {},
     "output_type": "execute_result"
    }
   ],
   "source": [
    "# ex3.  매개변수로 잔액을 받아  잔액이 양수면 잔액을 return, 음수면 'negative'를 rturn의 차이를 return \n",
    "ex3 = lambda balance : balance if balance>=0 else 'negative'\n",
    "ex3(1000), ex3(-100)"
   ]
  },
  {
   "cell_type": "code",
   "execution_count": 25,
   "id": "e42b5349",
   "metadata": {},
   "outputs": [
    {
     "name": "stdout",
     "output_type": "stream",
     "text": [
      "A팀\n",
      "B팀\n",
      "재시험\n",
      "유효하지 않음\n"
     ]
    }
   ],
   "source": [
    "# ex4.  점수를 입력받아 80점 이상은 'A팀', 60점 이상은 'B팀', 60점 미만은 '재시험' \n",
    "                        # 1OO점 초과, 0점 미만은 '유효하지 않음'을 Rreturn\n",
    "def check_team(score):\n",
    "    if score > 100 or score < 0:   \n",
    "# 100점 초과, 0점 미만\n",
    "        return \"유효하지 않음\"\n",
    "    elif score >= 80:              \n",
    "# 80점 이상\n",
    "        return \"A팀\"\n",
    "    elif score >= 60:              \n",
    "# 60점 이상 ~ 79점\n",
    "        return \"B팀\"\n",
    "    else:                         \n",
    "# 60점 미만\n",
    "        return \"재시험\"\n",
    "print(check_team(85))\n",
    "print(check_team(75))\n",
    "print(check_team(50))\n",
    "print(check_team(120))"
   ]
  },
  {
   "cell_type": "code",
   "execution_count": 27,
   "id": "e843b102",
   "metadata": {},
   "outputs": [
    {
     "data": {
      "text/plain": [
       "('재시험', '유효하지 않음')"
      ]
     },
     "execution_count": 27,
     "metadata": {},
     "output_type": "execute_result"
    }
   ],
   "source": [
    "# ex4.  점수를 입력받아 80점 이상은 'A팀', 60점 이상은 'B팀', 60점 미만은 '재시험' \n",
    "                        # 1OO점 초과, 0점 미만은 '유효하지 않음'을 Rreturn\n",
    "def levelChk(score):\n",
    "    if 80<=score<100:\n",
    "        return 'A팀'\n",
    "    elif 600<=score<80:\n",
    "        return 'B팀'\n",
    "    elif 0<=score<60:\n",
    "        return '재시험'\n",
    "    else:\n",
    "        return '유효하지 않음'\n",
    "ex4 = lambda score : 'A팀' if 80<=score<100 else \\\n",
    "                      'B팀'  if 60<=score<80 else \\\n",
    "                      '재시험'  if 0<=score<60 else \\\n",
    "                     '유효하지 않음'\n",
    "levelChk(8), ex4(160)"
   ]
  },
  {
   "cell_type": "code",
   "execution_count": 28,
   "id": "bce197d9",
   "metadata": {},
   "outputs": [
    {
     "data": {
      "text/plain": [
       "('D학점', '유효하지 않음')"
      ]
     },
     "execution_count": 28,
     "metadata": {},
     "output_type": "execute_result"
    }
   ],
   "source": [
    "# 점수를 입력받아 학점을 return\n",
    "score_geade = lambda score :  'A학점' if 90<=score<100 else \\\n",
    "                               'B학점' if 80<=score<90 else \\\n",
    "                               'C학점' if 70<=score<80 else \\\n",
    "                               'D학점' if 60<=score<70 else \\\n",
    "                               'F학점' if 0<=score<60 else \\\n",
    "                               '유효하지 않음'\n",
    "score_geade(60), score_geade(120)  "
   ]
  },
  {
   "cell_type": "code",
   "execution_count": 36,
   "id": "a3c6d7a4",
   "metadata": {},
   "outputs": [
    {
     "data": {
      "text/plain": [
       "(-1, 2)"
      ]
     },
     "execution_count": 36,
     "metadata": {},
     "output_type": "execute_result"
    }
   ],
   "source": [
    "# ex5. safe_index 함수를 담라식으로\n",
    "def safe_index(lst, item, start=0):\n",
    "    return lst.index(item, start) if item in lst[start:] else -1\n",
    "#      if item in Lst[start:]:\n",
    "#          return LST.index(itemm start) # start번째부터 item이 있는 index를 반ㄴ환\n",
    "#     else:\n",
    "#          return -1\n",
    "ex5 = lambda lst, item, start=0 : lst.index(item, start) if item in lst[start:] else \\\n",
    "                                   -1\n",
    "lst = [3, 2, 3]\n",
    "safe_index(lst, 4), ex5(lst, 3, 1)                          "
   ]
  },
  {
   "cell_type": "code",
   "execution_count": null,
   "id": "6bb6ef30",
   "metadata": {},
   "outputs": [],
   "source": [
    "# 람다시식을 List에 들어갈 수 있음.\n",
    "add = 1\n",
    "sub = 2\n",
    "operations = [add, sub] # 사칙연산 함수들"
   ]
  },
  {
   "cell_type": "code",
   "execution_count": 37,
   "id": "f84f2ad2",
   "metadata": {},
   "outputs": [
    {
     "data": {
      "text/plain": [
       "[25, 15, 100, 4.0]"
      ]
     },
     "execution_count": 37,
     "metadata": {},
     "output_type": "execute_result"
    }
   ],
   "source": [
    "# 람다시식을 List에 들어갈 수 있음.\n",
    "add = lambda a, b : a + b\n",
    "sub = lambda a, b : a - b\n",
    "mul = lambda a, b : a * b\n",
    "div = lambda a, b : a / b #  if  b else '두번째 인자가 0이면 못 나눠요'\n",
    "operations = [add, sub, mul, div] # 사칙연산 함수들\n",
    "\n",
    "def act_operations(a,b, operations=operations): # a, b의 연산 결과를 return\n",
    "    result =[]\n",
    "    for op in operations:\n",
    "        result.append(op(a,b))\n",
    "    return result \n",
    "    \n",
    "act_operations(20, 5)"
   ]
  },
  {
   "cell_type": "code",
   "execution_count": 38,
   "id": "e668cee6",
   "metadata": {},
   "outputs": [
    {
     "data": {
      "text/plain": [
       "[64, 82]"
      ]
     },
     "execution_count": 38,
     "metadata": {},
     "output_type": "execute_result"
    }
   ],
   "source": [
    "act_operations(8, 2, [lambda x, y:x**y, operations])"
   ]
  },
  {
   "cell_type": "code",
   "execution_count": 39,
   "id": "b7efe9df",
   "metadata": {},
   "outputs": [
    {
     "data": {
      "text/plain": [
       "53"
      ]
     },
     "execution_count": 39,
     "metadata": {},
     "output_type": "execute_result"
    }
   ],
   "source": [
    "(lambda x,y:10*x+y)(5,3)"
   ]
  },
  {
   "cell_type": "code",
   "execution_count": 41,
   "id": "5a1d82de",
   "metadata": {},
   "outputs": [
    {
     "data": {
      "text/plain": [
       "6"
      ]
     },
     "execution_count": 41,
     "metadata": {},
     "output_type": "execute_result"
    }
   ],
   "source": [
    "operations.append(lambda x, y:x**y)\n",
    "len(operations)"
   ]
  },
  {
   "cell_type": "code",
   "execution_count": 42,
   "id": "bd1d3c5b",
   "metadata": {},
   "outputs": [
    {
     "data": {
      "text/plain": [
       "[10, 6, 16, 4.0, 64, 64]"
      ]
     },
     "execution_count": 42,
     "metadata": {},
     "output_type": "execute_result"
    }
   ],
   "source": [
    "act_operations(8, 2)  # 기본값을 갖는 변수(기본 변수)가 리스트면 기본값으을 호출할 시점"
   ]
  },
  {
   "cell_type": "markdown",
   "id": "9262fbd8",
   "metadata": {},
   "source": [
    "# 4. 2. 함수의 매개변수(인수)에 람다식 사용\n",
    "람다식을 사용하는곳\" 함수의  매개변수 >return 문\n",
    "###(1) map 함수"
   ]
  },
  {
   "cell_type": "code",
   "execution_count": null,
   "id": "0ac5a14d",
   "metadata": {},
   "outputs": [],
   "source": [
    "변수명 = 람다식"
   ]
  },
  {
   "cell_type": "code",
   "execution_count": 52,
   "id": "225da516",
   "metadata": {},
   "outputs": [],
   "source": [
    "def map_template(func, L=[]):\n",
    "    result  =[]\n",
    "    for item in L:\n",
    "        result.append( func(item))\n",
    "    return result    "
   ]
  },
  {
   "cell_type": "code",
   "execution_count": 53,
   "id": "83a47255",
   "metadata": {},
   "outputs": [
    {
     "data": {
      "text/plain": [
       "[2, 4, 6, 8, 10, 12, 14, 16, 18]"
      ]
     },
     "execution_count": 53,
     "metadata": {},
     "output_type": "execute_result"
    }
   ],
   "source": [
    "list_data = [1, 2, 3, 4, 5, 6, 7, 8, 9]\n",
    "def x_2(x):\n",
    "    return x*2\n",
    "map_template(x_2, list_data)"
   ]
  },
  {
   "cell_type": "code",
   "execution_count": 54,
   "id": "5a4c4aa3",
   "metadata": {},
   "outputs": [
    {
     "data": {
      "text/plain": [
       "[2, 4, 6, 8, 10, 12, 14, 16, 18]"
      ]
     },
     "execution_count": 54,
     "metadata": {},
     "output_type": "execute_result"
    }
   ],
   "source": [
    "map_template(lambda x:x*2, list_data)"
   ]
  },
  {
   "cell_type": "code",
   "execution_count": 56,
   "id": "885bf677",
   "metadata": {},
   "outputs": [
    {
     "data": {
      "text/plain": [
       "[4, 4, 4, 4, 4, 4, 4, 4, 4]"
      ]
     },
     "execution_count": 56,
     "metadata": {},
     "output_type": "execute_result"
    }
   ],
   "source": [
    "list_data = [1, 2, 3, 4, 5, 6, 7, 8, 9]\n",
    "# def x_2(x):\n",
    "#    return x*2\n",
    "x_2=lambda x:2*2\n",
    "map_template(x_2, list_data)"
   ]
  },
  {
   "cell_type": "code",
   "execution_count": 57,
   "id": "16852fef",
   "metadata": {},
   "outputs": [
    {
     "data": {
      "text/plain": [
       "[2, 4, 6, 8, 10, 12, 14, 16, 18]"
      ]
     },
     "execution_count": 57,
     "metadata": {},
     "output_type": "execute_result"
    }
   ],
   "source": [
    "# 리스트 컴프리헨션\n",
    "[item*2 for item in list_data]"
   ]
  },
  {
   "cell_type": "code",
   "execution_count": 58,
   "id": "4c4df16f",
   "metadata": {},
   "outputs": [
    {
     "data": {
      "text/plain": [
       "<map at 0x239df076770>"
      ]
     },
     "execution_count": 58,
     "metadata": {},
     "output_type": "execute_result"
    }
   ],
   "source": [
    "map(lambda x:x*2, list_data)"
   ]
  },
  {
   "cell_type": "code",
   "execution_count": 59,
   "id": "4223a59a",
   "metadata": {},
   "outputs": [
    {
     "data": {
      "text/plain": [
       "[2, 4, 6, 8, 10, 12, 14, 16, 18]"
      ]
     },
     "execution_count": 59,
     "metadata": {},
     "output_type": "execute_result"
    }
   ],
   "source": [
    "list(map(lambda x:x*2, list_data))"
   ]
  },
  {
   "cell_type": "code",
   "execution_count": 61,
   "id": "9224d6d1",
   "metadata": {},
   "outputs": [
    {
     "name": "stdout",
     "output_type": "stream",
     "text": [
      "2 4 6 8 10 12 14 16 18 "
     ]
    }
   ],
   "source": [
    "for data in map(lambda x:x*2, list_data):\n",
    "    print(data, end=' ')"
   ]
  },
  {
   "cell_type": "code",
   "execution_count": 62,
   "id": "b92fc28d",
   "metadata": {},
   "outputs": [
    {
     "ename": "SyntaxError",
     "evalue": "unterminated string literal (detected at line 2) (812601010.py, line 2)",
     "output_type": "error",
     "traceback": [
      "\u001b[1;36m  Cell \u001b[1;32mIn[62], line 2\u001b[1;36m\u001b[0m\n\u001b[1;33m    예제1. prices = ['5,000','5000', '6,000', '1000','5,000', '5000', '6,000', '1000’]를\u001b[0m\n\u001b[1;37m                                                                             ^\u001b[0m\n\u001b[1;31mSyntaxError\u001b[0m\u001b[1;31m:\u001b[0m unterminated string literal (detected at line 2)\n"
     ]
    }
   ],
   "source": [
    "```\n",
    "예제1. prices = ['5,000','5000', '6,000', '1000','5,000', '5000', '6,000', '1000’]를 \n",
    "[5000,5000,6000,1000]식으로 바꾸시오\n",
    "```\n",
    "prices = ['5,000','5000', '6,000', '1000','5,000', '5000', '6,000', '1000’] \n",
    "def toint(value):\n",
    "    return int(value.replace('',''))\n",
    "toint('5000')"
   ]
  },
  {
   "cell_type": "code",
   "execution_count": 71,
   "id": "a7319f26",
   "metadata": {},
   "outputs": [],
   "source": [
    "'''\n",
    "예제1. prices = ['5,000','5000', '6,000', '1000','5,000', '5000', '6,000', '1000’]를 [5000,5000,6000,1000]식으로 바꾸시오\n",
    "'''\n",
    "\n",
    "prices = ['5,000','5000', '6,000', '1000','5,000', '5000', '6,000', '1000'] \n",
    "def toint(value):\n",
    "    return int(value.replace(',',''))\n"
   ]
  },
  {
   "cell_type": "code",
   "execution_count": 76,
   "id": "9ddff9dd",
   "metadata": {},
   "outputs": [
    {
     "name": "stdout",
     "output_type": "stream",
     "text": [
      "5000 5000 6000 1000 5000 5000 6000 1000 "
     ]
    }
   ],
   "source": [
    "prices_int=map(lambda value : int(value.replace(',', '')), prices)\n",
    "for price in prices_int:\n",
    "          print(price, end=' ')"
   ]
  },
  {
   "cell_type": "code",
   "execution_count": null,
   "id": "ca5122ce",
   "metadata": {},
   "outputs": [],
   "source": [
    "''' 예제2: members1dmf members2fh\n",
    "members1 = [{'name':'홍길동', 'birth':'2000-01-01’},\n",
    "            {'name':'신길동', 'birth':'1995-12-18'},]를\n",
    "    members2 = [\n",
    "        {'name':'홍길동', 'year':2000, 'month':1,'day':1},\n",
    "        {'name':'신길동', 'year':1995, 'month':12, 'day':18},] 변환\n",
    "'''"
   ]
  },
  {
   "cell_type": "code",
   "execution_count": null,
   "id": "0b35aa5d",
   "metadata": {},
   "outputs": [],
   "source": [
    "# "
   ]
  },
  {
   "cell_type": "code",
   "execution_count": 83,
   "id": "a763bf3d",
   "metadata": {},
   "outputs": [],
   "source": [
    "members1 = [{'name':'홍길동', 'birth':'2000-01-01'},\n",
    "            {'name':'신길동', 'birth':'1995-12-18'},]"
   ]
  },
  {
   "cell_type": "code",
   "execution_count": 84,
   "id": "42b72499",
   "metadata": {},
   "outputs": [
    {
     "ename": "TypeError",
     "evalue": "'builtin_function_or_method' object is not subscriptable",
     "output_type": "error",
     "traceback": [
      "\u001b[1;31m---------------------------------------------------------------------------\u001b[0m",
      "\u001b[1;31mTypeError\u001b[0m                                 Traceback (most recent call last)",
      "Cell \u001b[1;32mIn[84], line 8\u001b[0m\n\u001b[0;32m      2\u001b[0m \u001b[38;5;28;01mdef\u001b[39;00m \u001b[38;5;21msplit_data\u001b[39m(data):\n\u001b[0;32m      3\u001b[0m     \u001b[38;5;28;01mreturn\u001b[39;00m { \n\u001b[0;32m      4\u001b[0m             \u001b[38;5;124m'\u001b[39m\u001b[38;5;124myear\u001b[39m\u001b[38;5;124m'\u001b[39m:\u001b[38;5;28mint\u001b[39m(data\u001b[38;5;241m.\u001b[39msplit[\u001b[38;5;241m0\u001b[39m]),\n\u001b[0;32m      5\u001b[0m             \u001b[38;5;124m'\u001b[39m\u001b[38;5;124mmonth\u001b[39m\u001b[38;5;124m'\u001b[39m:\u001b[38;5;28mint\u001b[39m(data\u001b[38;5;241m.\u001b[39msplit[\u001b[38;5;241m1\u001b[39m]),\n\u001b[0;32m      6\u001b[0m             \u001b[38;5;124m'\u001b[39m\u001b[38;5;124mday\u001b[39m\u001b[38;5;124m'\u001b[39m:\u001b[38;5;28mint\u001b[39m(data\u001b[38;5;241m.\u001b[39msplit[\u001b[38;5;241m2\u001b[39m])\n\u001b[0;32m      7\u001b[0m         }\n\u001b[1;32m----> 8\u001b[0m \u001b[43msplit_data\u001b[49m\u001b[43m(\u001b[49m\u001b[38;5;124;43m'\u001b[39;49m\u001b[38;5;124;43m2025-01-01\u001b[39;49m\u001b[38;5;124;43m'\u001b[39;49m\u001b[43m)\u001b[49m, split_data(\u001b[38;5;124m'\u001b[39m\u001b[38;5;124m1995-12-12\u001b[39m\u001b[38;5;124m'\u001b[39m)\n",
      "Cell \u001b[1;32mIn[84], line 4\u001b[0m, in \u001b[0;36msplit_data\u001b[1;34m(data)\u001b[0m\n\u001b[0;32m      2\u001b[0m \u001b[38;5;28;01mdef\u001b[39;00m \u001b[38;5;21msplit_data\u001b[39m(data):\n\u001b[0;32m      3\u001b[0m     \u001b[38;5;28;01mreturn\u001b[39;00m { \n\u001b[1;32m----> 4\u001b[0m             \u001b[38;5;124m'\u001b[39m\u001b[38;5;124myear\u001b[39m\u001b[38;5;124m'\u001b[39m:\u001b[38;5;28mint\u001b[39m(\u001b[43mdata\u001b[49m\u001b[38;5;241;43m.\u001b[39;49m\u001b[43msplit\u001b[49m\u001b[43m[\u001b[49m\u001b[38;5;241;43m0\u001b[39;49m\u001b[43m]\u001b[49m),\n\u001b[0;32m      5\u001b[0m             \u001b[38;5;124m'\u001b[39m\u001b[38;5;124mmonth\u001b[39m\u001b[38;5;124m'\u001b[39m:\u001b[38;5;28mint\u001b[39m(data\u001b[38;5;241m.\u001b[39msplit[\u001b[38;5;241m1\u001b[39m]),\n\u001b[0;32m      6\u001b[0m             \u001b[38;5;124m'\u001b[39m\u001b[38;5;124mday\u001b[39m\u001b[38;5;124m'\u001b[39m:\u001b[38;5;28mint\u001b[39m(data\u001b[38;5;241m.\u001b[39msplit[\u001b[38;5;241m2\u001b[39m])\n\u001b[0;32m      7\u001b[0m         }\n",
      "\u001b[1;31mTypeError\u001b[0m: 'builtin_function_or_method' object is not subscriptable"
     ]
    }
   ],
   "source": [
    "# {'2000-01-01' =>{'year':2000, 'month':1, 'day':1}\n",
    "def split_data(data):\n",
    "    return { \n",
    "            'year':int(data.split[0]),\n",
    "            'month':int(data.split[1]),\n",
    "            'day':int(data.split[2])\n",
    "        }\n",
    "split_data('2025-01-01'), split_data('1995-12-12')\n",
    "    "
   ]
  },
  {
   "cell_type": "code",
   "execution_count": 77,
   "id": "cd07266f",
   "metadata": {},
   "outputs": [],
   "source": [
    "# [{'name':'홍길동', 'birth':'2000-01-01’}=>{'name':'홍길동', 'year':'2000, 'month':1, 'day':1}]"
   ]
  },
  {
   "cell_type": "code",
   "execution_count": 87,
   "id": "3daaf1d9",
   "metadata": {},
   "outputs": [
    {
     "data": {
      "text/plain": [
       "{'year': 2025, 'month': 1, 'day': 1}"
      ]
     },
     "execution_count": 87,
     "metadata": {},
     "output_type": "execute_result"
    }
   ],
   "source": [
    "# {'birth': 2025-01-01'} =>{'year':2000, 'month':1, 'day':1}\n",
    "def split_date(data):\n",
    "    return { \n",
    "            'year':int(data['birth'].split('-')[0]),\n",
    "            'month':int(data['birth'].split('-')[1]),\n",
    "            'day':int(data['birth'].split('-')[2])\n",
    "        }\n",
    "split_date({'birth': '2025-01-01'})"
   ]
  },
  {
   "cell_type": "code",
   "execution_count": 90,
   "id": "549018b4",
   "metadata": {},
   "outputs": [
    {
     "ename": "SyntaxError",
     "evalue": "closing parenthesis '}' does not match opening parenthesis '(' on line 7 (1324771734.py, line 8)",
     "output_type": "error",
     "traceback": [
      "\u001b[1;36m  Cell \u001b[1;32mIn[90], line 8\u001b[1;36m\u001b[0m\n\u001b[1;33m    }\u001b[0m\n\u001b[1;37m    ^\u001b[0m\n\u001b[1;31mSyntaxError\u001b[0m\u001b[1;31m:\u001b[0m closing parenthesis '}' does not match opening parenthesis '(' on line 7\n"
     ]
    }
   ],
   "source": [
    "# {'name':'홍길동', 'birth':'2000-01-01’}=>{'name':'홍길동', 'year':'2000, 'month':1, 'day':1}\n",
    "def member_preprocessing(member):\n",
    "    return {\n",
    "        'name': member.get('name', '이름없음'), #member['name']\n",
    "        'year': int(member.get('birth').split('-'[0]),\n",
    "        'month': int(member.get('birth').split('-'[1]),\n",
    "        'day': int(member.get('birth').split('-'[2]),\n",
    "    }\n",
    "member_preprocessing({'name':'홍길동', 'birth':'2000-01-01’})"
   ]
  },
  {
   "cell_type": "code",
   "execution_count": 91,
   "id": "7b96981d",
   "metadata": {},
   "outputs": [
    {
     "data": {
      "text/plain": [
       "[{'name': '홍길동', 'year': 2000, 'month': 1, 'day': 1},\n",
       " {'name': '신길동', 'year': 1995, 'month': 12, 'day': 18}]"
      ]
     },
     "execution_count": 91,
     "metadata": {},
     "output_type": "execute_result"
    }
   ],
   "source": [
    "members2=list(map(lambda member:{\n",
    "        'name': member.get('name', '이름없음'), \n",
    "        'year': int(member.get('birth').split('-')[0]),\n",
    "        'month': int(member.get('birth').split('-')[1]),\n",
    "        'day': int(member.get('birth').split('-')[2]),}, members1\n",
    "                  )\n",
    "                    )\n",
    "members2\n",
    "                   "
   ]
  },
  {
   "cell_type": "code",
   "execution_count": 92,
   "id": "4e65862b",
   "metadata": {},
   "outputs": [
    {
     "data": {
      "text/plain": [
       "[{'name': '홍길동', 'birth': '2000-01-01'},\n",
       " {'name': '신길동', 'birth': '1995-12-18'}]"
      ]
     },
     "execution_count": 92,
     "metadata": {},
     "output_type": "execute_result"
    }
   ],
   "source": [
    "'''\n",
    "예제3, members2를 members1로 전환\n",
    "'''\n",
    "members1"
   ]
  },
  {
   "cell_type": "code",
   "execution_count": 98,
   "id": "b481655e",
   "metadata": {},
   "outputs": [
    {
     "data": {
      "text/plain": [
       "'2000-1-1'"
      ]
     },
     "execution_count": 98,
     "metadata": {},
     "output_type": "execute_result"
    }
   ],
   "source": [
    "# {'year':2000, 'month':1, 'day':1} ==> '2025-01-01'\n",
    "def join_date(data):\n",
    "    return \"{}-{}-{}\".format(data.get('year'), data.get('month'), data.get('day'))\n",
    "join_date({'year':2000, 'month':1, 'day':1})"
   ]
  },
  {
   "cell_type": "code",
   "execution_count": 99,
   "id": "f99c52aa",
   "metadata": {},
   "outputs": [
    {
     "data": {
      "text/plain": [
       "'2000-9-9'"
      ]
     },
     "execution_count": 99,
     "metadata": {},
     "output_type": "execute_result"
    }
   ],
   "source": [
    "# {'year':2000, 'month':1, 'day':1} ==> '2025-01-01'\n",
    "def join_date(data):\n",
    "    return \"{}-{}-{}\".format(data.get('year'), data.get('month'), data.get('day'))\n",
    "join_date({'year':2000, 'month':9, 'day':9})"
   ]
  },
  {
   "cell_type": "code",
   "execution_count": 100,
   "id": "33bd756e",
   "metadata": {},
   "outputs": [
    {
     "data": {
      "text/plain": [
       "'2000-09-9'"
      ]
     },
     "execution_count": 100,
     "metadata": {},
     "output_type": "execute_result"
    }
   ],
   "source": [
    "# {'year':2000, 'month':1, 'day':1} ==> '2025-01-01'\n",
    "def join_date(data):\n",
    "    return \"{}-{:02}-{}\".format(data.get('year'), data.get('month'), data.get('day'))\n",
    "join_date({'year':2000, 'month':9, 'day':9})"
   ]
  },
  {
   "cell_type": "code",
   "execution_count": 115,
   "id": "ed794ed1",
   "metadata": {},
   "outputs": [
    {
     "data": {
      "text/plain": [
       "'2000-09-09'"
      ]
     },
     "execution_count": 115,
     "metadata": {},
     "output_type": "execute_result"
    }
   ],
   "source": [
    "# {'year':2000, 'month':1, 'day':1} ==> '2025-01-01'\n",
    "def join_date(data):\n",
    "    return \"{}-{:02}-{:02}\".format(data.get('year'), data.get('month'), data.get('day'))\n",
    "join_date({'year':2000, 'month':9, 'day':9})"
   ]
  },
  {
   "cell_type": "code",
   "execution_count": 116,
   "id": "eb4b489c",
   "metadata": {},
   "outputs": [
    {
     "data": {
      "text/plain": [
       "'2000-09-09'"
      ]
     },
     "execution_count": 116,
     "metadata": {},
     "output_type": "execute_result"
    }
   ],
   "source": [
    "# {'year':2000, 'month':1, 'day':1} ==> '2025-01-01'\n",
    "def join_date(data):\n",
    "    return \"{year}-{month:02}-{day:02}\".format(**data)\n",
    "join_date({'year':2000, 'month':9, 'day':9})"
   ]
  },
  {
   "cell_type": "code",
   "execution_count": 117,
   "id": "2c7a93ad",
   "metadata": {},
   "outputs": [
    {
     "data": {
      "text/plain": [
       "{'birth': '2000-09-09'}"
      ]
     },
     "execution_count": 117,
     "metadata": {},
     "output_type": "execute_result"
    }
   ],
   "source": [
    "# {'year':2000, 'month':1, 'day':1} ==> {'birth: 2025-01-01'}\n",
    "def join_date(data):\n",
    "    return {'birth': \"{year}-{month:02}-{day:02}\".format(**data)}\n",
    "join_date({'year':2000, 'month':9, 'day':9})"
   ]
  },
  {
   "cell_type": "code",
   "execution_count": 120,
   "id": "16d42ebb",
   "metadata": {},
   "outputs": [
    {
     "data": {
      "text/plain": [
       "{'name': 'hong', 'birth': '2000-01-01'}"
      ]
     },
     "execution_count": 120,
     "metadata": {},
     "output_type": "execute_result"
    }
   ],
   "source": [
    "# {'name':hong, 'year': 2000, month':1, 'day':1} ==> {'name'= 'hong', birth: 2025-01-01'}\n",
    "def members_preprocessing(member):\n",
    "    return {\n",
    "        'name': member.get('name'),\n",
    "        'birth':\"{year}-{month:02}-{day:02}\".format(**member)\n",
    "    }\n",
    "members_preprocessing({'name':'hong', 'year':2000, 'month':1, 'day':1})"
   ]
  },
  {
   "cell_type": "code",
   "execution_count": 122,
   "id": "f383718a",
   "metadata": {
    "scrolled": true
   },
   "outputs": [
    {
     "data": {
      "text/plain": [
       "[{'name': '홍길동', 'birth': '2000-01-01'},\n",
       " {'name': '신길동', 'birth': '1995-12-18'}]"
      ]
     },
     "execution_count": 122,
     "metadata": {},
     "output_type": "execute_result"
    }
   ],
   "source": [
    "list(map(lambda member: {\n",
    "        'name': member.get('name'),\n",
    "        'birth':\"{year}-{month:02}-{day:02}\".format(**member)\n",
    "    }, members2))\n",
    "    "
   ]
  },
  {
   "cell_type": "markdown",
   "id": "1ffd5000",
   "metadata": {},
   "source": [
    "## (2) filter, 특정 조건에 맞는 것만"
   ]
  },
  {
   "cell_type": "code",
   "execution_count": null,
   "id": "10aa4ddb",
   "metadata": {},
   "outputs": [],
   "source": [
    "def filter_template(func, L=[]):\n",
    "    result =[  ]\n",
    "    for item in L:\n",
    "        if func(item):\n",
    "            result.append(item)\n",
    "        return result"
   ]
  },
  {
   "cell_type": "code",
   "execution_count": 123,
   "id": "61f6081b",
   "metadata": {},
   "outputs": [
    {
     "ename": "NameError",
     "evalue": "name 'filter_template' is not defined",
     "output_type": "error",
     "traceback": [
      "\u001b[1;31m---------------------------------------------------------------------------\u001b[0m",
      "\u001b[1;31mNameError\u001b[0m                                 Traceback (most recent call last)",
      "Cell \u001b[1;32mIn[123], line 8\u001b[0m\n\u001b[0;32m      3\u001b[0m     \u001b[38;5;28;01mreturn\u001b[39;00m value\u001b[38;5;241m%\u001b[39m\u001b[38;5;241m2\u001b[39m\n\u001b[0;32m      4\u001b[0m \u001b[38;5;66;03m#    if value%2:\u001b[39;00m\n\u001b[0;32m      5\u001b[0m \u001b[38;5;66;03m#        reutrn True\u001b[39;00m\n\u001b[0;32m      6\u001b[0m \u001b[38;5;66;03m#    else:\u001b[39;00m\n\u001b[0;32m      7\u001b[0m \u001b[38;5;66;03m#        return False\u001b[39;00m\n\u001b[1;32m----> 8\u001b[0m \u001b[43mfilter_template\u001b[49m(\u001b[38;5;28;01mlambda\u001b[39;00m value : value\u001b[38;5;241m%\u001b[39m\u001b[38;5;241m2\u001b[39m\u001b[38;5;241m!=\u001b[39m\u001b[38;5;241m0\u001b[39m, list_data)\n",
      "\u001b[1;31mNameError\u001b[0m: name 'filter_template' is not defined"
     ]
    }
   ],
   "source": [
    "list_data =[1,2,3,4,5,6,7,8,9]\n",
    "def odd_chk(value):\n",
    "    return value%2\n",
    "#    if value%2:\n",
    "#        reutrn True\n",
    "#    else:\n",
    "#        return False\n",
    "filter_template(lambda value : value%2!=0, list_data)"
   ]
  },
  {
   "cell_type": "code",
   "execution_count": 124,
   "id": "ec46dc7d",
   "metadata": {},
   "outputs": [
    {
     "data": {
      "text/plain": [
       "[1, 3, 5, 7, 9]"
      ]
     },
     "execution_count": 124,
     "metadata": {},
     "output_type": "execute_result"
    }
   ],
   "source": [
    "# 리스트 컴프리헨션\n",
    "[value for value,  향후 보완"
   ]
  },
  {
   "cell_type": "code",
   "execution_count": null,
   "id": "a753511d",
   "metadata": {},
   "outputs": [],
   "source": [
    "list(filterIlambda"
   ]
  },
  {
   "cell_type": "code",
   "execution_count": 126,
   "id": "6312fdca",
   "metadata": {},
   "outputs": [
    {
     "ename": "NameError",
     "evalue": "name 'x' is not defined",
     "output_type": "error",
     "traceback": [
      "\u001b[1;31m---------------------------------------------------------------------------\u001b[0m",
      "\u001b[1;31mNameError\u001b[0m                                 Traceback (most recent call last)",
      "Cell \u001b[1;32mIn[126], line 3\u001b[0m\n\u001b[0;32m      1\u001b[0m \u001b[38;5;66;03m# 예제: 다음 리스트에서 소수점 이하기 0인 수만 추출하시오(filter/릿그트컴프리헨숀)\u001b[39;00m\n\u001b[0;32m      2\u001b[0m L\u001b[38;5;241m=\u001b[39m[\u001b[38;5;241m1\u001b[39m, \u001b[38;5;241m1.2\u001b[39m, \u001b[38;5;241m1.5\u001b[39m, \u001b[38;5;241m3.0\u001b[39m, \u001b[38;5;241m10.5\u001b[39m, \u001b[38;5;241m100\u001b[39m, \u001b[38;5;241m-\u001b[39m\u001b[38;5;241m2.0\u001b[39m, \u001b[38;5;241m-\u001b[39m\u001b[38;5;241m12.2\u001b[39m]\n\u001b[1;32m----> 3\u001b[0m \u001b[38;5;28;43mlist\u001b[39;49m\u001b[43m(\u001b[49m\u001b[38;5;28;43mfilter\u001b[39;49m\u001b[43m(\u001b[49m\u001b[38;5;28;43;01mlambda\u001b[39;49;00m\u001b[43m \u001b[49m\u001b[43mX\u001b[49m\u001b[43m \u001b[49m\u001b[43m:\u001b[49m\u001b[43m \u001b[49m\u001b[43mx\u001b[49m\u001b[38;5;241;43m%\u001b[39;49m\u001b[38;5;241;43m1\u001b[39;49m\u001b[38;5;241;43m==\u001b[39;49m\u001b[38;5;241;43m0\u001b[39;49m\u001b[43m,\u001b[49m\u001b[43m \u001b[49m\u001b[43mL\u001b[49m\u001b[43m)\u001b[49m\u001b[43m)\u001b[49m\n",
      "Cell \u001b[1;32mIn[126], line 3\u001b[0m, in \u001b[0;36m<lambda>\u001b[1;34m(X)\u001b[0m\n\u001b[0;32m      1\u001b[0m \u001b[38;5;66;03m# 예제: 다음 리스트에서 소수점 이하기 0인 수만 추출하시오(filter/릿그트컴프리헨숀)\u001b[39;00m\n\u001b[0;32m      2\u001b[0m L\u001b[38;5;241m=\u001b[39m[\u001b[38;5;241m1\u001b[39m, \u001b[38;5;241m1.2\u001b[39m, \u001b[38;5;241m1.5\u001b[39m, \u001b[38;5;241m3.0\u001b[39m, \u001b[38;5;241m10.5\u001b[39m, \u001b[38;5;241m100\u001b[39m, \u001b[38;5;241m-\u001b[39m\u001b[38;5;241m2.0\u001b[39m, \u001b[38;5;241m-\u001b[39m\u001b[38;5;241m12.2\u001b[39m]\n\u001b[1;32m----> 3\u001b[0m \u001b[38;5;28mlist\u001b[39m(\u001b[38;5;28mfilter\u001b[39m(\u001b[38;5;28;01mlambda\u001b[39;00m X : \u001b[43mx\u001b[49m\u001b[38;5;241m%\u001b[39m\u001b[38;5;241m1\u001b[39m\u001b[38;5;241m==\u001b[39m\u001b[38;5;241m0\u001b[39m, L))\n",
      "\u001b[1;31mNameError\u001b[0m: name 'x' is not defined"
     ]
    }
   ],
   "source": [
    "# 예제: 다음 리스트에서 소수점 이하기 0인 수만 추출하시오(filter/릿그트컴프리헨숀)\n",
    "L=[1, 1.2, 1.5, 3.0, 10.5, 100, -2.0, -12.2]\n",
    "list(filter(lambda X : x%1==0, L))"
   ]
  },
  {
   "cell_type": "code",
   "execution_count": 127,
   "id": "b006222f",
   "metadata": {},
   "outputs": [
    {
     "ename": "SyntaxError",
     "evalue": "invalid syntax (3695892210.py, line 1)",
     "output_type": "error",
     "traceback": [
      "\u001b[1;36m  Cell \u001b[1;32mIn[127], line 1\u001b[1;36m\u001b[0m\n\u001b[1;33m    item for item in L if x%1==0\u001b[0m\n\u001b[1;37m         ^\u001b[0m\n\u001b[1;31mSyntaxError\u001b[0m\u001b[1;31m:\u001b[0m invalid syntax\n"
     ]
    }
   ],
   "source": [
    "item for item in L if x%1==0 향후 보완"
   ]
  },
  {
   "cell_type": "markdown",
   "id": "2de2ea72",
   "metadata": {},
   "source": [
    "# (3) sort"
   ]
  },
  {
   "cell_type": "code",
   "execution_count": 129,
   "id": "d2e10cbd",
   "metadata": {},
   "outputs": [
    {
     "data": {
      "text/plain": [
       "[10, 6, 3, 1]"
      ]
     },
     "execution_count": 129,
     "metadata": {},
     "output_type": "execute_result"
    }
   ],
   "source": [
    "p=[10, 3, 6, 1]\n",
    "p.sort(reverse=True)\n",
    "p"
   ]
  },
  {
   "cell_type": "code",
   "execution_count": null,
   "id": "b8468234",
   "metadata": {},
   "outputs": [],
   "source": [
    "lst"
   ]
  },
  {
   "cell_type": "code",
   "execution_count": 131,
   "id": "e384d295",
   "metadata": {},
   "outputs": [
    {
     "data": {
      "text/plain": [
       "[(1, 'one'), (2, 'two'), (3, 'tree'), (4, 'four')]"
      ]
     },
     "execution_count": 131,
     "metadata": {},
     "output_type": "execute_result"
    }
   ],
   "source": [
    "# 무조건 0번째 item을 기준으로 오름차순 정렬\n",
    "pairs=[(2, 'two'), (1, 'one'), (3, 'tree'), (4, 'four')]\n",
    "pairs.sort() data:"
   ]
  },
  {
   "cell_type": "code",
   "execution_count": 135,
   "id": "706e2951",
   "metadata": {},
   "outputs": [
    {
     "ename": "SyntaxError",
     "evalue": "invalid syntax. Maybe you meant '==' or ':=' instead of '='? (1533139827.py, line 2)",
     "output_type": "error",
     "traceback": [
      "\u001b[1;36m  Cell \u001b[1;32mIn[135], line 2\u001b[1;36m\u001b[0m\n\u001b[1;33m    pairs.sort(key=lambda data:data[1]), reverse=T\u001b[0m\n\u001b[1;37m                                         ^\u001b[0m\n\u001b[1;31mSyntaxError\u001b[0m\u001b[1;31m:\u001b[0m invalid syntax. Maybe you meant '==' or ':=' instead of '='?\n"
     ]
    }
   ],
   "source": [
    "# 1번째  item 기준, 내림차순 정렬\n",
    "pairs.sort(key=lambda data:data[1]), reverse=T\n",
    "pairs"
   ]
  },
  {
   "cell_type": "code",
   "execution_count": 142,
   "id": "de0e56e5",
   "metadata": {},
   "outputs": [
    {
     "ename": "SyntaxError",
     "evalue": "unterminated string literal (detected at line 2) (3727415193.py, line 2)",
     "output_type": "error",
     "traceback": [
      "\u001b[1;36m  Cell \u001b[1;32mIn[142], line 2\u001b[1;36m\u001b[0m\n\u001b[1;33m    pairs.sort(key=lambda data:data[1]), reverse=True'\u001b[0m\n\u001b[1;37m                                                     ^\u001b[0m\n\u001b[1;31mSyntaxError\u001b[0m\u001b[1;31m:\u001b[0m unterminated string literal (detected at line 2)\n"
     ]
    }
   ],
   "source": [
    "# 1번째  item 기준, 내림차순 정렬\n",
    "pairs.sort(key=lambda data:data[1]), reverse=True)\n",
    "pairs"
   ]
  },
  {
   "cell_type": "code",
   "execution_count": 137,
   "id": "dbc01d97",
   "metadata": {},
   "outputs": [
    {
     "data": {
      "text/plain": [
       "[[1, 100], [9, 9], [10, 1]]"
      ]
     },
     "execution_count": 137,
     "metadata": {},
     "output_type": "execute_result"
    }
   ],
   "source": [
    "# 합이 큰 순으로 정렬\n",
    "number_2d=[[9,9], [1, 100], [10,1]]\n",
    "number_2d.sort()\n",
    "number_2d"
   ]
  },
  {
   "cell_type": "code",
   "execution_count": 140,
   "id": "0d334fae",
   "metadata": {},
   "outputs": [
    {
     "data": {
      "text/plain": [
       "[[1, 100], [9, 9], [10, 200]]"
      ]
     },
     "execution_count": 140,
     "metadata": {},
     "output_type": "execute_result"
    }
   ],
   "source": [
    "# 0번째 itemdl 큰 순으로 정렬(오름차순)\n",
    "number_2d=[[9,9], [1, 100], [10,200]]\n",
    "number_2d.sort()\n",
    "number_2d\n",
    "#  합이 큰 순으로 정렬"
   ]
  },
  {
   "cell_type": "code",
   "execution_count": 148,
   "id": "c7c6116f",
   "metadata": {},
   "outputs": [
    {
     "name": "stdout",
     "output_type": "stream",
     "text": [
      "[[10, 200, 2], [1, 100], [9, 9]]\n"
     ]
    }
   ],
   "source": [
    "# 0번째 itemdl 큰 순으로 정렬(오름차순)\n",
    "number_2d=[[9,9], [1, 100], [10,200, 2]]\n",
    "number_2d.sort()\n",
    "number_2d\n",
    "#  합이 큰 순으로 정렬\n",
    "number_2d.sort(key=lambda items:sum(items), reverse=True)\n",
    "print(number_2d)"
   ]
  },
  {
   "cell_type": "code",
   "execution_count": 154,
   "id": "0d879fce",
   "metadata": {},
   "outputs": [
    {
     "ename": "TypeError",
     "evalue": "'<' not supported between instances of 'dict' and 'dict'",
     "output_type": "error",
     "traceback": [
      "\u001b[1;31m---------------------------------------------------------------------------\u001b[0m",
      "\u001b[1;31mTypeError\u001b[0m                                 Traceback (most recent call last)",
      "Cell \u001b[1;32mIn[154], line 5\u001b[0m\n\u001b[0;32m      1\u001b[0m students\u001b[38;5;241m=\u001b[39m[{\u001b[38;5;124m'\u001b[39m\u001b[38;5;124mname\u001b[39m\u001b[38;5;124m'\u001b[39m:\u001b[38;5;124m'\u001b[39m\u001b[38;5;124m홍\u001b[39m\u001b[38;5;124m'\u001b[39m, \u001b[38;5;124m'\u001b[39m\u001b[38;5;124mscore\u001b[39m\u001b[38;5;124m'\u001b[39m:\u001b[38;5;241m99\u001b[39m},\n\u001b[0;32m      2\u001b[0m           {\u001b[38;5;124m'\u001b[39m\u001b[38;5;124mname\u001b[39m\u001b[38;5;124m'\u001b[39m:\u001b[38;5;124m'\u001b[39m\u001b[38;5;124m김\u001b[39m\u001b[38;5;124m'\u001b[39m, \u001b[38;5;124m'\u001b[39m\u001b[38;5;124mscore\u001b[39m\u001b[38;5;124m'\u001b[39m:\u001b[38;5;241m50\u001b[39m},\n\u001b[0;32m      3\u001b[0m           {\u001b[38;5;124m'\u001b[39m\u001b[38;5;124mname\u001b[39m\u001b[38;5;124m'\u001b[39m:\u001b[38;5;124m'\u001b[39m\u001b[38;5;124m박\u001b[39m\u001b[38;5;124m'\u001b[39m, \u001b[38;5;124m'\u001b[39m\u001b[38;5;124mscore\u001b[39m\u001b[38;5;124m'\u001b[39m:\u001b[38;5;241m77\u001b[39m},\n\u001b[0;32m      4\u001b[0m           {\u001b[38;5;124m'\u001b[39m\u001b[38;5;124mscore\u001b[39m\u001b[38;5;124m'\u001b[39m:\u001b[38;5;241m100\u001b[39m},]\n\u001b[1;32m----> 5\u001b[0m \u001b[43mstudents\u001b[49m\u001b[38;5;241;43m.\u001b[39;49m\u001b[43msort\u001b[49m\u001b[43m(\u001b[49m\u001b[43m)\u001b[49m\n",
      "\u001b[1;31mTypeError\u001b[0m: '<' not supported between instances of 'dict' and 'dict'"
     ]
    }
   ],
   "source": [
    "students=[{'name':'홍', 'score':99},\n",
    "          {'name':'김', 'score':50},\n",
    "          {'name':'박', 'score':77},\n",
    "          {'score':100},]\n",
    "students.sort()"
   ]
  },
  {
   "cell_type": "code",
   "execution_count": 155,
   "id": "e644943e",
   "metadata": {},
   "outputs": [
    {
     "data": {
      "text/plain": [
       "'홍'"
      ]
     },
     "execution_count": 155,
     "metadata": {},
     "output_type": "execute_result"
    }
   ],
   "source": [
    "name_select=lambda data : data.get('name')\n",
    "name_select({'name': '홍', 'score': 99, '별명': '박'})"
   ]
  },
  {
   "cell_type": "code",
   "execution_count": 159,
   "id": "d8d2c18b",
   "metadata": {},
   "outputs": [
    {
     "data": {
      "text/plain": [
       "[{'score': 100},\n",
       " {'name': '김', 'score': 50},\n",
       " {'name': '박', 'score': 77},\n",
       " {'name': '홍', 'score': 99}]"
      ]
     },
     "execution_count": 159,
     "metadata": {},
     "output_type": "execute_result"
    }
   ],
   "source": [
    "# students 를 name 순으로 정렬(ㄱㄴㄷ순)\n",
    "students.sort(key=lambda data: data.get('name','가'))\n",
    "students"
   ]
  },
  {
   "cell_type": "code",
   "execution_count": 160,
   "id": "abdaf021",
   "metadata": {},
   "outputs": [
    {
     "data": {
      "text/plain": [
       "[{'score': 100},\n",
       " {'name': '홍', 'score': 99},\n",
       " {'name': '박', 'score': 77},\n",
       " {'name': '김', 'score': 50}]"
      ]
     },
     "execution_count": 160,
     "metadata": {},
     "output_type": "execute_result"
    }
   ],
   "source": [
    "# students를 score 큰  순 정렬\n",
    "students.sort(key=lambda data:data.get('score', 0), reverse=True)\n",
    "students"
   ]
  },
  {
   "cell_type": "code",
   "execution_count": 163,
   "id": "513ccef9",
   "metadata": {},
   "outputs": [
    {
     "ename": "SyntaxError",
     "evalue": "invalid character '’' (U+2019) (2284802727.py, line 2)",
     "output_type": "error",
     "traceback": [
      "\u001b[1;36m  Cell \u001b[1;32mIn[163], line 2\u001b[1;36m\u001b[0m\n\u001b[1;33m    [{'no':2, 'title':’더트릭컬', 'writer':＇폴빠＇,＇price’:’19,800'},\u001b[0m\n\u001b[1;37m                      ^\u001b[0m\n\u001b[1;31mSyntaxError\u001b[0m\u001b[1;31m:\u001b[0m invalid character '’' (U+2019)\n"
     ]
    }
   ],
   "source": [
    "books = \\\n",
    "[{'no':2, 'title':’더트릭컬', 'writer':＇폴빠＇,＇price’:’19,800'},\n",
    "{'no':1, 'title’:’흔한남매', 'writer’:’백난도', 'price’:’15,120'},\n",
    "{'no':3, 'title':'단 한 번의 삶', 'writer':'김영하', 'price':'15,120'},\n",
    "{'no':4, 'title':'가격잘못', 'writer':'홍길동', 'price':'ㅁ'},\n",
    "{'no':5, 'title':'가격이숫자', 'writer':'백난도', 'price':30200},\n",
    "{'no':6, 'title':'가격이없음', 'writer':'이길동’},]"
   ]
  },
  {
   "cell_type": "code",
   "execution_count": 203,
   "id": "c6713e23",
   "metadata": {},
   "outputs": [],
   "source": [
    "books = \\\n",
    "   [{'no':1, 'title':'더트릭컬', 'writer':'폴빠','price':'19,800'},\n",
    "    {'no':2, 'title':'흔한남매', 'writer':'백난도', 'price':'15,120'},\n",
    "    {'no':3, 'title':'단 한 번의 삶', 'writer':'김영하', 'price':'15,120'},\n",
    "    {'no':4, 'title':'가격잘못', 'writer':'홍길동', 'price':'ㅁ'},\n",
    "    {'no':5, 'title':'가격이숫자', 'writer':'백난도', 'price':30200},\n",
    "    {'no':6, 'title':'가격이없음', 'writer':'이길동'},] "
   ]
  },
  {
   "cell_type": "code",
   "execution_count": 204,
   "id": "ac3d99d0",
   "metadata": {},
   "outputs": [
    {
     "ename": "TypeError",
     "evalue": "'builtin_function_or_method' object is not subscriptable",
     "output_type": "error",
     "traceback": [
      "\u001b[1;31m---------------------------------------------------------------------------\u001b[0m",
      "\u001b[1;31mTypeError\u001b[0m                                 Traceback (most recent call last)",
      "Cell \u001b[1;32mIn[204], line 2\u001b[0m\n\u001b[0;32m      1\u001b[0m \u001b[38;5;66;03m# no 기준으로 sort\u001b[39;00m\n\u001b[1;32m----> 2\u001b[0m \u001b[43mbooks\u001b[49m\u001b[38;5;241;43m.\u001b[39;49m\u001b[43msort\u001b[49m\u001b[43m(\u001b[49m\u001b[43mkey\u001b[49m\u001b[38;5;241;43m=\u001b[39;49m\u001b[38;5;28;43;01mlambda\u001b[39;49;00m\u001b[43m \u001b[49m\u001b[43mbook\u001b[49m\u001b[43m:\u001b[49m\u001b[43mbook\u001b[49m\u001b[38;5;241;43m.\u001b[39;49m\u001b[43mget\u001b[49m\u001b[43m[\u001b[49m\u001b[38;5;124;43m'\u001b[39;49m\u001b[38;5;124;43mno\u001b[39;49m\u001b[38;5;124;43m'\u001b[39;49m\u001b[43m]\u001b[49m\u001b[43m)\u001b[49m\n\u001b[0;32m      3\u001b[0m books\n",
      "Cell \u001b[1;32mIn[204], line 2\u001b[0m, in \u001b[0;36m<lambda>\u001b[1;34m(book)\u001b[0m\n\u001b[0;32m      1\u001b[0m \u001b[38;5;66;03m# no 기준으로 sort\u001b[39;00m\n\u001b[1;32m----> 2\u001b[0m books\u001b[38;5;241m.\u001b[39msort(key\u001b[38;5;241m=\u001b[39m\u001b[38;5;28;01mlambda\u001b[39;00m book:\u001b[43mbook\u001b[49m\u001b[38;5;241;43m.\u001b[39;49m\u001b[43mget\u001b[49m\u001b[43m[\u001b[49m\u001b[38;5;124;43m'\u001b[39;49m\u001b[38;5;124;43mno\u001b[39;49m\u001b[38;5;124;43m'\u001b[39;49m\u001b[43m]\u001b[49m)\n\u001b[0;32m      3\u001b[0m books\n",
      "\u001b[1;31mTypeError\u001b[0m: 'builtin_function_or_method' object is not subscriptable"
     ]
    }
   ],
   "source": [
    "# no 기준으로 sort\n",
    "books.sort(key=lambda book:book.get['no'])\n",
    "books"
   ]
  },
  {
   "cell_type": "code",
   "execution_count": 205,
   "id": "0d67192e",
   "metadata": {},
   "outputs": [
    {
     "ename": "TypeError",
     "evalue": "'builtin_function_or_method' object is not subscriptable",
     "output_type": "error",
     "traceback": [
      "\u001b[1;31m---------------------------------------------------------------------------\u001b[0m",
      "\u001b[1;31mTypeError\u001b[0m                                 Traceback (most recent call last)",
      "Cell \u001b[1;32mIn[205], line 2\u001b[0m\n\u001b[0;32m      1\u001b[0m \u001b[38;5;66;03m# title 기준으로 sort\u001b[39;00m\n\u001b[1;32m----> 2\u001b[0m \u001b[43mbooks\u001b[49m\u001b[38;5;241;43m.\u001b[39;49m\u001b[43msort\u001b[49m\u001b[43m(\u001b[49m\u001b[43mkey\u001b[49m\u001b[38;5;241;43m=\u001b[39;49m\u001b[38;5;28;43;01mlambda\u001b[39;49;00m\u001b[43m \u001b[49m\u001b[43mbook\u001b[49m\u001b[43m:\u001b[49m\u001b[43mbook\u001b[49m\u001b[38;5;241;43m.\u001b[39;49m\u001b[43mget\u001b[49m\u001b[43m[\u001b[49m\u001b[38;5;124;43m'\u001b[39;49m\u001b[38;5;124;43mtitle\u001b[39;49m\u001b[38;5;124;43m'\u001b[39;49m\u001b[43m]\u001b[49m\u001b[43m)\u001b[49m\n\u001b[0;32m      3\u001b[0m books\n",
      "Cell \u001b[1;32mIn[205], line 2\u001b[0m, in \u001b[0;36m<lambda>\u001b[1;34m(book)\u001b[0m\n\u001b[0;32m      1\u001b[0m \u001b[38;5;66;03m# title 기준으로 sort\u001b[39;00m\n\u001b[1;32m----> 2\u001b[0m books\u001b[38;5;241m.\u001b[39msort(key\u001b[38;5;241m=\u001b[39m\u001b[38;5;28;01mlambda\u001b[39;00m book:\u001b[43mbook\u001b[49m\u001b[38;5;241;43m.\u001b[39;49m\u001b[43mget\u001b[49m\u001b[43m[\u001b[49m\u001b[38;5;124;43m'\u001b[39;49m\u001b[38;5;124;43mtitle\u001b[39;49m\u001b[38;5;124;43m'\u001b[39;49m\u001b[43m]\u001b[49m)\n\u001b[0;32m      3\u001b[0m books\n",
      "\u001b[1;31mTypeError\u001b[0m: 'builtin_function_or_method' object is not subscriptable"
     ]
    }
   ],
   "source": [
    "# title 기준으로 sort\n",
    "books.sort(key=lambda book:book.get['title'])\n",
    "books"
   ]
  },
  {
   "cell_type": "code",
   "execution_count": 206,
   "id": "bd72e702",
   "metadata": {},
   "outputs": [
    {
     "ename": "TypeError",
     "evalue": "'builtin_function_or_method' object is not subscriptable",
     "output_type": "error",
     "traceback": [
      "\u001b[1;31m---------------------------------------------------------------------------\u001b[0m",
      "\u001b[1;31mTypeError\u001b[0m                                 Traceback (most recent call last)",
      "Cell \u001b[1;32mIn[206], line 2\u001b[0m\n\u001b[0;32m      1\u001b[0m \u001b[38;5;66;03m# price 기준으로 sort\u001b[39;00m\n\u001b[1;32m----> 2\u001b[0m \u001b[43mbooks\u001b[49m\u001b[38;5;241;43m.\u001b[39;49m\u001b[43msort\u001b[49m\u001b[43m(\u001b[49m\u001b[43mkey\u001b[49m\u001b[38;5;241;43m=\u001b[39;49m\u001b[38;5;28;43;01mlambda\u001b[39;49;00m\u001b[43m \u001b[49m\u001b[43mbook\u001b[49m\u001b[43m:\u001b[49m\u001b[43mbook\u001b[49m\u001b[38;5;241;43m.\u001b[39;49m\u001b[43mget\u001b[49m\u001b[43m[\u001b[49m\u001b[38;5;124;43m'\u001b[39;49m\u001b[38;5;124;43mprice\u001b[39;49m\u001b[38;5;124;43m'\u001b[39;49m\u001b[43m]\u001b[49m\u001b[43m)\u001b[49m\n\u001b[0;32m      3\u001b[0m books\n",
      "Cell \u001b[1;32mIn[206], line 2\u001b[0m, in \u001b[0;36m<lambda>\u001b[1;34m(book)\u001b[0m\n\u001b[0;32m      1\u001b[0m \u001b[38;5;66;03m# price 기준으로 sort\u001b[39;00m\n\u001b[1;32m----> 2\u001b[0m books\u001b[38;5;241m.\u001b[39msort(key\u001b[38;5;241m=\u001b[39m\u001b[38;5;28;01mlambda\u001b[39;00m book:\u001b[43mbook\u001b[49m\u001b[38;5;241;43m.\u001b[39;49m\u001b[43mget\u001b[49m\u001b[43m[\u001b[49m\u001b[38;5;124;43m'\u001b[39;49m\u001b[38;5;124;43mprice\u001b[39;49m\u001b[38;5;124;43m'\u001b[39;49m\u001b[43m]\u001b[49m)\n\u001b[0;32m      3\u001b[0m books\n",
      "\u001b[1;31mTypeError\u001b[0m: 'builtin_function_or_method' object is not subscriptable"
     ]
    }
   ],
   "source": [
    "# price 기준으로 sort\n",
    "books.sort(key=lambda book:book.get['price'])\n",
    "books"
   ]
  },
  {
   "cell_type": "code",
   "execution_count": 210,
   "id": "0412f514",
   "metadata": {},
   "outputs": [
    {
     "ename": "TypeError",
     "evalue": "'<' not supported between instances of 'int' and 'str'",
     "output_type": "error",
     "traceback": [
      "\u001b[1;31m---------------------------------------------------------------------------\u001b[0m",
      "\u001b[1;31mTypeError\u001b[0m                                 Traceback (most recent call last)",
      "Cell \u001b[1;32mIn[210], line 2\u001b[0m\n\u001b[0;32m      1\u001b[0m \u001b[38;5;66;03m# price 기준으로 sort\u001b[39;00m\n\u001b[1;32m----> 2\u001b[0m \u001b[43mbooks\u001b[49m\u001b[38;5;241;43m.\u001b[39;49m\u001b[43msort\u001b[49m\u001b[43m(\u001b[49m\u001b[43mkey\u001b[49m\u001b[38;5;241;43m=\u001b[39;49m\u001b[38;5;28;43;01mlambda\u001b[39;49;00m\u001b[43m \u001b[49m\u001b[43mbook\u001b[49m\u001b[43m:\u001b[49m\u001b[43mbook\u001b[49m\u001b[38;5;241;43m.\u001b[39;49m\u001b[43mget\u001b[49m\u001b[43m(\u001b[49m\u001b[38;5;124;43m'\u001b[39;49m\u001b[38;5;124;43mprice\u001b[39;49m\u001b[38;5;124;43m'\u001b[39;49m\u001b[43m,\u001b[49m\u001b[43m \u001b[49m\u001b[38;5;241;43m0\u001b[39;49m\u001b[43m)\u001b[49m\u001b[43m)\u001b[49m\n\u001b[0;32m      3\u001b[0m books\n",
      "\u001b[1;31mTypeError\u001b[0m: '<' not supported between instances of 'int' and 'str'"
     ]
    }
   ],
   "source": [
    "# price 기준으로 sort\n",
    "books.sort(key=lambda book:book.get('price', 0))\n",
    "books"
   ]
  },
  {
   "cell_type": "code",
   "execution_count": 212,
   "id": "98cd145d",
   "metadata": {},
   "outputs": [
    {
     "name": "stdout",
     "output_type": "stream",
     "text": [
      "<class 'str'>\n"
     ]
    }
   ],
   "source": [
    "# 30200=>30200, '12,000'=>12000, '5000'=>5000, 'ㅁ'=>0, None =>0\n",
    "def parse_int(price):\n",
    "    print(type(price))\n",
    "parse_int('5000')"
   ]
  },
  {
   "cell_type": "code",
   "execution_count": 209,
   "id": "d5ccc26d",
   "metadata": {},
   "outputs": [],
   "source": [
    "# {'no':5, 'title':'가격이숫자', 'writer':'백난도', 'price':12,000}=>12000"
   ]
  },
  {
   "cell_type": "code",
   "execution_count": 216,
   "id": "48d5c03b",
   "metadata": {},
   "outputs": [
    {
     "data": {
      "text/plain": [
       "5000"
      ]
     },
     "execution_count": 216,
     "metadata": {},
     "output_type": "execute_result"
    }
   ],
   "source": [
    "# 30200=>30200, '12,000'=>12000, '5000'=>5000, 'ㅁ'=>0, None =>0\n",
    "def parse_int(price):\n",
    "    if isinstance(price, str) and price.replace(',','').isdigit():\n",
    "        return int(price.replace(',','')) \n",
    "parse_int('5000')"
   ]
  },
  {
   "cell_type": "code",
   "execution_count": 218,
   "id": "8fe45567",
   "metadata": {},
   "outputs": [],
   "source": [
    "# 30200=>30200, '12,000'=>12000, '5000'=>5000, 'ㅁ'=>0, None =>0\n",
    "def parse_int(price):\n",
    "    if isinstance(price, str) and price.replace(',','').isdigit():\n",
    "        return int(price.replace(',','')) \n",
    "parse_int('ㅁ')"
   ]
  },
  {
   "cell_type": "code",
   "execution_count": 219,
   "id": "e1c87812",
   "metadata": {},
   "outputs": [
    {
     "name": "stdout",
     "output_type": "stream",
     "text": [
      "12000 30200 0 0\n"
     ]
    }
   ],
   "source": [
    "# 30200=>30200, '12000'=>12000, '5000'=>5000, 'ㅁ'=>0, None =>0\n",
    "def parse_int(price):\n",
    "    if isinstance(price, str) and price.replace(',','').isdigit():\n",
    "        return int(price.replace(',','')) \n",
    "    elif isinstance(price, int):\n",
    "        return price\n",
    "    else:\n",
    "        return 0\n",
    "print(parse_int('12000'), parse_int('30200'), parse_int('ㅁ'), parse_int('None') )"
   ]
  },
  {
   "cell_type": "code",
   "execution_count": 223,
   "id": "5502f24f",
   "metadata": {},
   "outputs": [
    {
     "name": "stdout",
     "output_type": "stream",
     "text": [
      "12000 30200 0 0\n"
     ]
    }
   ],
   "source": [
    "# 30200=>30200, '12000'=>12000, '5000'=>5000, 'ㅁ'=>0, None =>0\n",
    "def parse_int(price):\n",
    "    if isinstance(price, str) and price.replace(',','').isdigit():\n",
    "        return int(price.replace(',','')) \n",
    "    elif isinstance(price, int):\n",
    "        return price\n",
    "    else:\n",
    "        return 0\n",
    "    \n",
    "parse_int=lambda price : \\\n",
    "          int(price.replace(',','')) \\\n",
    "                if isinstance(price, str) and price.replace(',','').isdigit() else \\\n",
    "          price if isinstance(price, int) else \\\n",
    "          0\n",
    "print(parse_int('12000'), parse_int('30200'), parse_int('ㅁ'), parse_int('None') )"
   ]
  },
  {
   "cell_type": "code",
   "execution_count": 225,
   "id": "1b1b61c9",
   "metadata": {},
   "outputs": [
    {
     "data": {
      "text/plain": [
       "0"
      ]
     },
     "execution_count": 225,
     "metadata": {},
     "output_type": "execute_result"
    }
   ],
   "source": [
    "# {'no':5, 'title':'가격이숫자', 'writer':'백난도', 'price':12,000}=>12000\n",
    "parse_int=lambda book: \\\n",
    "          int(book.get('price').replace(',','')) \\\n",
    "                if isinstance(book.get('price'), str) and \\\n",
    "                              book.get('price').replace(',','').isdigit() else \\\n",
    "          book.get('price') if isinstance(book.get('price'), int) else \\\n",
    "          0\n",
    "         \n",
    "parse_int({'no': 5, 'title': '가격이숫자', 'writer':'백난도', 'price': 'ㅁ'})"
   ]
  },
  {
   "cell_type": "code",
   "execution_count": 227,
   "id": "456cc2fa",
   "metadata": {},
   "outputs": [
    {
     "data": {
      "text/plain": [
       "[{'no': 5, 'title': '가격이숫자', 'writer': '백난도', 'price': 30200},\n",
       " {'no': 1, 'title': '더트릭컬', 'writer': '폴빠', 'price': '19,800'},\n",
       " {'no': 2, 'title': '흔한남매', 'writer': '백난도', 'price': '15,120'},\n",
       " {'no': 3, 'title': '단 한 번의 삶', 'writer': '김영하', 'price': '15,120'},\n",
       " {'no': 4, 'title': '가격잘못', 'writer': '홍길동', 'price': 'ㅁ'},\n",
       " {'no': 6, 'title': '가격이없음', 'writer': '이길동'}]"
      ]
     },
     "execution_count": 227,
     "metadata": {},
     "output_type": "execute_result"
    }
   ],
   "source": [
    "copyBooks=books.copy() # 복제\n",
    "copyBooks.sort(key=lambda book: \\\n",
    "          int(book.get('price').replace(',','')) \\\n",
    "                if isinstance(book.get('price'), str) and \\\n",
    "                              book.get('price').replace(',','').isdigit() else \\\n",
    "          book.get('price') if isinstance(book.get('price'), int) else \\\n",
    "          0,\n",
    "         reverse=True)\n",
    "copyBooks"
   ]
  },
  {
   "cell_type": "markdown",
   "id": "c88d3e33",
   "metadata": {},
   "source": [
    "# 5절 파이썬 내장 함수\n",
    "- import 하지 않고 바로 사용 가능한 변수\n",
    "- 키워드(if, while, ..)처럼 간주되므로, 식별자(변수명, 함수명, 클래스명)로 사용하는 것을 피한다."
   ]
  },
  {
   "cell_type": "code",
   "execution_count": 229,
   "id": "0fadf8eb",
   "metadata": {},
   "outputs": [
    {
     "data": {
      "text/plain": [
       "{'__name__': '__main__',\n",
       " '__doc__': '\\n예제3, members2를 members1로 전환\\n',\n",
       " '__package__': None,\n",
       " '__loader__': None,\n",
       " '__spec__': None,\n",
       " '__builtin__': <module 'builtins' (built-in)>,\n",
       " '__builtins__': <module 'builtins' (built-in)>,\n",
       " '_ih': ['',\n",
       "  'def add(a, b):\\n    return a+b\\nadd(3, 5)',\n",
       "  'def add(a, b):\\n    return a+b\\nprint(add(3, 5))',\n",
       "  'def add(a, b):\\n    return a+b\\nprint(add(3, 5))\\nprint(type(add))',\n",
       "  'add2 = lambda a,, b :  a + b\\nprint(add(3, 5))\\nprint(type(add))',\n",
       "  'def add(a, b):\\n    return a+b\\nprint(add2(3, 5))\\nprint(type(add2))',\n",
       "  'add2 = lambda a,, b :  a + b\\nprint(add2(3, 5))\\nprint(type(add2))',\n",
       "  '# ex1.  매개변수로 돌어온 값이 짝수인지 return 함수를 람다식으로 만들어보세요.\\ndef even_odd_chk(num):\\n    if num%2:\\n        result = \"홀수\"\\n    else:\\n        result = \"짝수\"\\n    return result',\n",
       "  '# ex1.  매개변수로 돌어온 값이 짝수인지 return 함수를 람다식으로 만들어보세요.\\ndef even_odd_chk(num):\\n    if num%2:\\n        result = \"홀수\"\\n    else:\\n        result = \"짝수\"\\n    return result\\neven_odd_chk(5), even_odd_chk(-4) ',\n",
       "  '# ex1.  매개변수로 돌어온 값이 짝수인지 return 함수를 람다식으로 만들어보세요.\\n# def even_odd_chk(num):\\n#    if num%2:\\n#        result = \"홀수\"\\n#    else:\\n#        result = \"짝수\"\\n   result = \"짝수\" if num%2 else \"짝수\"\\neven_odd_chk = lambda num : \"홀수\" if num%2 else \"짝수\"\\neven_odd_chk(5), even_odd_chk(-4) ',\n",
       "  '# ex1.  매개변수로 돌어온 값이 짝수인지 return 함수를 람다식으로 만들어보세요.\\n# def even_odd_chk(num):\\n#    if num%2:\\n#        result = \"홀수\"\\n#    else:\\n#        result = \"짝수\"\\n   result = \"짝수\" if num%2 else \"짝수\"\\neven_odd_chk1 = lambda num : \"홀수\" if num%2 else \"짝수\"\\neven_odd_chk(5), even_odd_chk(-4) ',\n",
       "  '# ex1.  매개변수로 돌어온 값이 짝수인지 return 함수를 람다식으로 만들어보세요.\\n# def even_odd_chk(num):\\n#    if num%2:\\n#        result = \"홀수\"\\n#    else:\\n#        result = \"짝수\"\\n   result \"짝수\" if num%2 else \"짝수\"\\neven_odd_chk1 = lambda num : \"홀수\" if num%2 else \"짝수\"\\neven_odd_chk(5), even_odd_chk(-4) ',\n",
       "  '# ex1.  매개변수로 돌어온 값이 짝수인지 return 함수를 람다식으로 만들어보세요.\\n# def even_odd_chk(num):\\n#    if num%2:\\n#        result = \"홀수\"\\n#    else:\\n#        result = \"짝수\"\\n     result \"짝수\" if num%2 else \"짝수\"\\neven_odd_chk1 = lambda num : \"홀수\" if num%2 else \"짝수\"\\neven_odd_chk(5), even_odd_chk(-4) ',\n",
       "  '# ex1.  매개변수로 돌어온 값이 짝수인지 return 함수를 람다식으로 만들어보세요.\\n# def even_odd_chk(num):\\n#    if num%2:\\n#        result = \"홀수\"\\n#    else:\\n#        result = \"짝수\"\\n     return \"짝수\" if num%2 else \"짝수\"\\neven_odd_chk1 = lambda num : \"홀수\" if num%2 else \"짝수\"\\neven_odd_chk(5), even_odd_chk(-4) ',\n",
       "  '# ex1.  매개변수로 돌어온 값이 짝수인지 return 함수를 람다식으로 만들어보세요.\\n# def even_odd_chk(num):\\n#    if num%2:\\n#        result = \"홀수\"\\n#    else:\\n#        result = \"짝수\"\\n     return \"홀수\" if num%2 else \"짝수\"\\neven_odd_chk1 = lambda num : \"홀수\" if num%2 else \"짝수\"\\neven_odd_chk(5), even_odd_chk(-4) ',\n",
       "  '# ex1.  매개변수로 돌어온 값이 짝수인지 return 함수를 람다식으로 만들어보세요.\\ndef even_odd_chk(num):\\n#    if num%2:\\n#        result = \"홀수\"\\n#    else:\\n#        result = \"짝수\"\\n     return \"홀수\" if num%2 else \"짝수\"\\neven_odd_chk1 = lambda num : \"홀수\" if num%2 else \"짝수\"\\neven_odd_chk(5), even_odd_chk(-4) ',\n",
       "  '# ex2  두 개 매개변수의 차이를 return 함수를 람다식으로 만들어보세요.\\ndiff =lambda a, b : a-b if a>b else b-a\\ndiff(5, 1), diff(1, 5)',\n",
       "  '# ex2  두 개 매개변수의 차이를 return 함수를 람다식으로 만들어보세요.\\ndef diff(a, b):\\n    if a>b:\\n        result = a-b\\n    else: \\n        result = b-a\\n    return rssult\\ndiff =lambda a, b : a-b if a>b else b-a\\ndiff(5, 1), diff(1, 5)',\n",
       "  \"# ex3.  매개변수로 잔액을 받아  잔액이 양수면 잔액을 return, 음수면 'negative'를 rturn의 차이를 return \\nex3 = lambda balance : balance if balnce>=0 else 'negative'\\nex3(1000, ex3(-100)\",\n",
       "  \"# ex3.  매개변수로 잔액을 받아  잔액이 양수면 잔액을 return, 음수면 'negative'를 rturn의 차이를 return \\nex3 = lambda balance : balance if balnce>=0 else 'negative'\\nex3(1000), ex3(-100)\",\n",
       "  \"# ex3.  매개변수로 잔액을 받아  잔액이 양수면 잔액을 return, 음수면 'negative'를 rturn의 차이를 return \\nex3 = lambda balance : balance if balance>=0 else 'negative'\\nex3(1000), ex3(-100)\",\n",
       "  '# ex4.  점수를 입력받아 80점 이상은 \\'A팀\\', 60점 이상은 \\'B팀\\', 60점 미만은 \\'재시험\\' \\n                        # 1OO점 초과, 0점 미만은 \\'유효하지 않음\\'을 Rreturn\\n    def check_team(score):\\n    if score > 100 or score < 0:   # 100점 초과, 0점 미만\\n        return \"유효하지 않음\"\\n    elif score >= 80:              # 80점 이상\\n        return \"A팀\"\\n    elif score >= 60:              # 60점 이상 ~ 79점\\n        return \"B팀\"\\n    else:                          # 60점 미만\\n        return \"재시험\"',\n",
       "  '# ex4.  점수를 입력받아 80점 이상은 \\'A팀\\', 60점 이상은 \\'B팀\\', 60점 미만은 \\'재시험\\' \\n                        # 1OO점 초과, 0점 미만은 \\'유효하지 않음\\'을 Rreturn\\ndef check_team(score):\\n    if score > 100 or score < 0:   \\n# 100점 초과, 0점 미만\\n        return \"유효하지 않음\"\\n    elif score >= 80:              \\n# 80점 이상\\n        return \"A팀\"\\n    elif score >= 60:              \\n# 60점 이상 ~ 79점\\n        return \"B팀\"\\n    else:                         \\n# 60점 미만\\n        return \"재시험\"',\n",
       "  '# ex4.  점수를 입력받아 80점 이상은 \\'A팀\\', 60점 이상은 \\'B팀\\', 60점 미만은 \\'재시험\\' \\n                        # 1OO점 초과, 0점 미만은 \\'유효하지 않음\\'을 Rreturn\\ndef check_team(score):\\n    if score > 100 or score < 0:   \\n# 100점 초과, 0점 미만\\n        return \"유효하지 않음\"\\n    elif score >= 80:              \\n# 80점 이상\\n        return \"A팀\"\\n    elif score >= 60:              \\n# 60점 이상 ~ 79점\\n        return \"B팀\"\\n    else:                         \\n# 60점 미만\\n        return \"재시험\"',\n",
       "  '# ex4.  점수를 입력받아 80점 이상은 \\'A팀\\', 60점 이상은 \\'B팀\\', 60점 미만은 \\'재시험\\' \\n                        # 1OO점 초과, 0점 미만은 \\'유효하지 않음\\'을 Rreturn\\ndef check_team(score):\\n    if score > 100 or score < 0:   \\n# 100점 초과, 0점 미만\\n        return \"유효하지 않음\"\\n    elif score >= 80:              \\n# 80점 이상\\n        return \"A팀\"\\n    elif score >= 60:              \\n# 60점 이상 ~ 79점\\n        return \"B팀\"\\n    else:                         \\n# 60점 미만\\n        return \"재시험\"\\nprint(check_team(85))\\nprint(check_team(85))',\n",
       "  '# ex4.  점수를 입력받아 80점 이상은 \\'A팀\\', 60점 이상은 \\'B팀\\', 60점 미만은 \\'재시험\\' \\n                        # 1OO점 초과, 0점 미만은 \\'유효하지 않음\\'을 Rreturn\\ndef check_team(score):\\n    if score > 100 or score < 0:   \\n# 100점 초과, 0점 미만\\n        return \"유효하지 않음\"\\n    elif score >= 80:              \\n# 80점 이상\\n        return \"A팀\"\\n    elif score >= 60:              \\n# 60점 이상 ~ 79점\\n        return \"B팀\"\\n    else:                         \\n# 60점 미만\\n        return \"재시험\"\\nprint(check_team(85))\\nprint(check_team(75))\\nprint(check_team(50))\\nprint(check_team(120))',\n",
       "  \"# ex4.  점수를 입력받아 80점 이상은 'A팀', 60점 이상은 'B팀', 60점 미만은 '재시험' \\n                        # 1OO점 초과, 0점 미만은 '유효하지 않음'을 Rreturn\\ndef levelchck(score):\\n    if 80<=score<100:\\n        return 'A팀'\\n    elif 600<=score<80:\\n        return 'B팀'\\n    elif 0<=score<60:\\n        return '재시험'\\n    else:\\n        return '유효하지 않음'\\nex4 = lambda score : 'A팀' if 80<=score<100 else \\\\\\n                      'B팀'  if 60<=score<80 else \\\\\\n                      '재시험'  if 0<=score<60 else \\\\\\n                     '유효하지 않음'\\nlevelchk(8), ex4(160)\",\n",
       "  \"# ex4.  점수를 입력받아 80점 이상은 'A팀', 60점 이상은 'B팀', 60점 미만은 '재시험' \\n                        # 1OO점 초과, 0점 미만은 '유효하지 않음'을 Rreturn\\ndef levelChk(score):\\n    if 80<=score<100:\\n        return 'A팀'\\n    elif 600<=score<80:\\n        return 'B팀'\\n    elif 0<=score<60:\\n        return '재시험'\\n    else:\\n        return '유효하지 않음'\\nex4 = lambda score : 'A팀' if 80<=score<100 else \\\\\\n                      'B팀'  if 60<=score<80 else \\\\\\n                      '재시험'  if 0<=score<60 else \\\\\\n                     '유효하지 않음'\\nlevelChk(8), ex4(160)\",\n",
       "  \"# 점수를 입력받아 학점을 return\\nscore_geade = lambda score :  'A학점' if 90<=score<100 else \\\\\\n                               'B학점' if 80<=score<90 else \\\\\\n                               'C학점' if 70<=score<80 else \\\\\\n                               'D학점' if 60<=score<70 else \\\\\\n                               'F학점' if 0<=score<60 else \\\\\\n                               '유효하지 않음'\\nscore_geade(60), score_geade(120)  \",\n",
       "  '# ex5. safe_index 함수를 담라식으로\\ndef safe_index(lst, tem, start=0):\\n    return lst.index(item, start) if item in lst[start:] else -1\\n#      if item in Lst[start:]:\\n#          return LST.index(itemm start) # start번째부터 item이 있는 index를 반ㄴ환\\n#     else:\\n#          return -1\\nex5 = lambda lst, item, start=0, : lst.index)item, start) if item in lst[start:] else \\\\\\n\\nlst = [3, 3, 3]\\nsafe_index(lst, 4), ex5Olst, 3, 1)                          -1',\n",
       "  '# ex5. safe_index 함수를 담라식으로\\ndef safe_index(lst, tem, start=0):\\n    return lst.index(item, start) if item in lst[start:] else -1\\n#      if item in Lst[start:]:\\n#          return LST.index(itemm start) # start번째부터 item이 있는 index를 반ㄴ환\\n#     else:\\n#          return -1\\nex5 = lambda lst, item, start=0 : lst.index)item, start) if item in lst[start:] else \\\\\\n\\nlst = [3, 3, 3]\\nsafe_index(lst, 4), ex5Olst, 3, 1)                          -1',\n",
       "  '# ex5. safe_index 함수를 담라식으로\\ndef safe_index(lst, tem, start=0):\\n    return lst.index(item, start) if item in lst[start:] else -1\\n#      if item in Lst[start:]:\\n#          return LST.index(itemm start) # start번째부터 item이 있는 index를 반ㄴ환\\n#     else:\\n#          return -1\\nex5 = lambda lst, item, start=0 : lst.index(item, start) if item in lst[start:] else \\\\\\n\\nlst = [3, 3, 3]\\nsafe_index(lst, 4), ex5Olst, 3, 1)                          -1',\n",
       "  '# ex5. safe_index 함수를 담라식으로\\ndef safe_index(lst, tem, start=0):\\n    return lst.index(item, start) if item in lst[start:] else -1\\n#      if item in Lst[start:]:\\n#          return LST.index(itemm start) # start번째부터 item이 있는 index를 반ㄴ환\\n#     else:\\n#          return -1\\nex5 = lambda lst, item, start=0 : lst.index(item, start) if item in lst[start:] else \\\\\\n\\nlst = [3, 3, 3]\\nsafe_index(lst, 4), ex5(lst, 3, 1)                          -1',\n",
       "  '# ex5. safe_index 함수를 담라식으로\\ndef safe_index(lst, tem, start=0):\\n    return lst.index(item, start) if item in lst[start:] else -1\\n#      if item in Lst[start:]:\\n#          return LST.index(itemm start) # start번째부터 item이 있는 index를 반ㄴ환\\n#     else:\\n#          return -1\\nex5 = lambda lst, item, start=0 : lst.index(item, start) if item in lst[start:] else \\\\\\n                                   -1\\nlst = [3, 3, 3]\\nsafe_index(lst, 4), ex5(lst, 3, 1)                          ',\n",
       "  '# ex5. safe_index 함수를 담라식으로\\ndef safe_index(lst, tem, start=0):\\n    return lst.index(item, start) if item in lst[start:] else -1\\n#      if item in Lst[start:]:\\n#          return LST.index(itemm start) # start번째부터 item이 있는 index를 반ㄴ환\\n#     else:\\n#          return -1\\nex5 = lambda lst, item, start=0 : lst.index(item, start) if item in lst[start:] else \\\\\\n                                   -1\\nlst = [3, 3, 3]\\nsafe_index(lst, 4), ex5(lst, 3, 1)                          ',\n",
       "  '# ex5. safe_index 함수를 담라식으로\\ndef safe_index(lst, tem, start=0):\\n    return lst.index(item, start) if item in lst[start:] else -1\\n#      if item in Lst[start:]:\\n#          return LST.index(itemm start) # start번째부터 item이 있는 index를 반ㄴ환\\n#     else:\\n#          return -1\\nex5 = lambda lst, item, start=0 : lst.index(item, start) if item in lst[start:] else \\\\\\n                                   -1\\nlst = [3, 2, 3]\\nsafe_index(lst, 4), ex5(lst, 3, 1)                          ',\n",
       "  '# ex5. safe_index 함수를 담라식으로\\ndef safe_index(lst, item, start=0):\\n    return lst.index(item, start) if item in lst[start:] else -1\\n#      if item in Lst[start:]:\\n#          return LST.index(itemm start) # start번째부터 item이 있는 index를 반ㄴ환\\n#     else:\\n#          return -1\\nex5 = lambda lst, item, start=0 : lst.index(item, start) if item in lst[start:] else \\\\\\n                                   -1\\nlst = [3, 2, 3]\\nsafe_index(lst, 4), ex5(lst, 3, 1)                          ',\n",
       "  \"# 람다시식을 List에 들어갈 수 있음.\\nadd = lambda a, b : a + b\\nsub = lambda a, b : a - b\\nmul = lambda a, b : a * b\\ndiv = lambda a, b : a / b #  if  b else '두번째 인자가 0이면 못 나눠요'\\noperations = [add, sub, mul, div] # 사칙연산 함수들\\n\\ndef act_operations(a,b, operations=operations): # a, b의 연산 결과를 return\\n    result =[]\\n    for op in operations:\\n        result.append(op(a,b))\\n    return result \\n    \\nact_operations(20, 5)\",\n",
       "  'act_operations(8, 2, [lambda x, y:x**y, lambda x,y:10*x+y])',\n",
       "  '(lambda x,y:10*x+y)(5,3)',\n",
       "  'operations.append(lambda x, y:x**y)',\n",
       "  'operations.append(lambda x, y:x**y)\\nlen(operations)',\n",
       "  'act_operations(8, 2)  # 기본값을 갖는 변수(기본 변수)가 리스트면 기본값으을 호출할 시점',\n",
       "  'def map_template(func, L=[]):\\n    result  =[]\\n    for item in L;\\n        result.append.itmem)\\n    return result    ',\n",
       "  'def map_template(func, L=[]):\\n    result  =[]\\n    for item in L;\\n        result.append( func(itmem))\\n    return result    ',\n",
       "  'def map_template(func, L=[]):\\n    result  =[]\\n    for item in L:\\n        result.append( func(itmem))\\n    return result    ',\n",
       "  'def map_template(func, L=[]):\\n    result  =[]\\n    for item in L:\\n        result.append( func(itmem))\\n    return result    ',\n",
       "  'def map_template(func, L=[]):\\n    result  =[]\\n    for item in L:\\n        result.append( func(itmem))\\n    return result    ',\n",
       "  'def map_template(func, L=[]):\\n    result  =[]\\n    for item in L:\\n        result.append( func(item))\\n    return result    ',\n",
       "  'def map_template(func, L=[]):\\n    result  =[]\\n    for item in L:\\n        result.append( func(item))\\n    return result    ',\n",
       "  'def map_template(func, L=[]):\\n    result  =[]\\n    for item in L:\\n        result.append( func(item))\\n    return result    ',\n",
       "  'def map_template(func, L=[]):\\n    result  =[]\\n    for item in L:\\n        result.append( func(item))\\n    return result    ',\n",
       "  'def map_template(func, L=[]):\\n    result  =[]\\n    for item in L:\\n        result.append( func(item))\\n    return result    ',\n",
       "  'list_data = [1, 2, 3, 4, 5, 6, 7, 8, 9]\\ndef x_2(x):\\n    return x*2\\nmap_template(x_2, list_data)',\n",
       "  'map_template(lambda x:x*2, list_data)',\n",
       "  'from IPython.display import display, HTML\\ndisplay(HTML(\"\"\"\\n<style>\\ndiv.container{width:90% !important;}\\ndiv.cell.code_cell.rendered{width:100%;}\\ndiv.input_prompt{padding:0px;}\\ndiv.CodeMirror {font-family:Consolas; font-size:22pt;}\\ndiv.text_cell_render.rendered_html{font-size:18pt;}\\ndiv.output {font-size:22pt; font-weight:bold;}\\ndiv.input {font-family:Consolas; font-size:22pt;}\\ndiv.prompt {min-width:70px;}\\ndiv#toc-wrapper{padding-top:120px;}\\ndiv.text_cell_render ul li{font-size:22pt;padding:5px;}\\ntable.dataframe{font-size:22px;}\\n</style>\\n\"\"\"))',\n",
       "  'list_data = [1, 2, 3, 4, 5, 6, 7, 8, 9]\\n# def x_2(x):\\n#    return x*2\\nx_2=lambda x:2*2\\nmap_template(x_2, list_data)',\n",
       "  '# 리스트 컴프리헨션\\n[item*2 for item in list_data]',\n",
       "  'map(lambda x:x*2, list_data)',\n",
       "  'list(map(lambda x:x*2, list_data))',\n",
       "  \"for date in map(lambda x:x*2, list_data):\\n    print(data, end=' ')\",\n",
       "  \"for data in map(lambda x:x*2, list_data):\\n    print(data, end=' ')\",\n",
       "  \"```\\n예제1. prices = ['5,000','5000', '6,000', '1000','5,000', '5000', '6,000', '1000’]를 \\n[5000,5000,6000,1000]식으로 바꾸시오\\n```\\nprices = ['5,000','5000', '6,000', '1000','5,000', '5000', '6,000', '1000’] \\ndef toint(value):\\n    return int(value.replace('',''))\\ntoint('5000')\",\n",
       "  \"```\\n예제1. prices = ['5,000','5000', '6,000', '1000','5,000', '5000', '6,000', '1000’]를 \\n[5000,5000,6000,1000]식으로 바꾸시오\\n```\\nprices = ['5,000','5000', '6,000', '1000','5,000', '5000', '6,000', '1000’] \\ndef toint(value):\\n    return int(value.replace('',''))\\nprices_int=map(lambda value : int(value_repalce('', '')), prices)\\nfor price in prices_int:\\n          print(price, end;'')\",\n",
       "  \"```\\n예제1. prices = ['5,000','5000', '6,000', '1000','5,000', '5000', '6,000', '1000’]를 [5000,5000,6000,1000]식으로 바꾸시오\\n```\\nprices = ['5,000','5000', '6,000', '1000','5,000', '5000', '6,000', '1000’] \\ndef toint(value):\\n    return int(value.replace('',''))\\nprices_int=map(lambda value : int(value_repalce('', '')), prices)\\nfor price in prices_int:\\n          print(price, end;'')\",\n",
       "  \"'''\\n예제1. prices = ['5,000','5000', '6,000', '1000','5,000', '5000', '6,000', '1000’]를 [5000,5000,6000,1000]식으로 바꾸시오\\n'''\\n\\nprices = ['5,000','5000', '6,000', '1000','5,000', '5000', '6,000', '1000’] \\ndef toint(value):\\n    return int(value.replace('',''))\\nprices_int=map(lambda value : int(value_repalce('', '')), prices)\\nfor price in prices_int:\\n          print(price, end;'')\",\n",
       "  \"'''\\n예제1. prices = ['5,000','5000', '6,000', '1000','5,000', '5000', '6,000', '1000’]를 [5000,5000,6000,1000]식으로 바꾸시오\\n'''\\n\\nprices = ['5,000','5000', '6,000', '1000','5,000', '5000', '6,000', '1000'] \\ndef toint(value):\\n    return int(value.replace('',''))\\nprices_int=map(lambda value : int(value_repalce('', '')), prices)\\nfor price in prices_int:\\n          print(price, end;'')\",\n",
       "  \"'''\\n예제1. prices = ['5,000','5000', '6,000', '1000','5,000', '5000', '6,000', '1000’]를 [5000,5000,6000,1000]식으로 바꾸시오\\n'''\\n\\nprices = ['5,000','5000', '6,000', '1000','5,000', '5000', '6,000', '1000'] \\ndef toint(value):\\n    return int(value.replace('',''))\\nprices_int=map(lambda value : int(value_repalce('', '')), prices)\\nfor price in prices_int:\\n          print(price, end:'')\",\n",
       "  \"'''\\n예제1. prices = ['5,000','5000', '6,000', '1000','5,000', '5000', '6,000', '1000’]를 [5000,5000,6000,1000]식으로 바꾸시오\\n'''\\n\\nprices = ['5,000','5000', '6,000', '1000','5,000', '5000', '6,000', '1000'] \\ndef toint(value):\\n    return int(value.replace('',''))\\nprices_int=map(lambda value : int(value_repalce('', '')), prices)\\nfor price in prices_int:\\n          print(price, end='')\",\n",
       "  \"'''\\n예제1. prices = ['5,000','5000', '6,000', '1000','5,000', '5000', '6,000', '1000’]를 [5000,5000,6000,1000]식으로 바꾸시오\\n'''\\n\\nprices = ['5,000','5000', '6,000', '1000','5,000', '5000', '6,000', '1000'] \\ndef toint(value):\\n    return int(value.replace(',',''))\\nprices_int=map(lambda value : int(value_repalce(',', '')), prices)\\nfor price in prices_int:\\n          print(price, end='')\",\n",
       "  \"'''\\n예제1. prices = ['5,000','5000', '6,000', '1000','5,000', '5000', '6,000', '1000’]를 [5000,5000,6000,1000]식으로 바꾸시오\\n'''\\n\\nprices = ['5,000','5000', '6,000', '1000','5,000', '5000', '6,000', '1000'] \\ndef toint(value):\\n    return int(value.replace(',',''))\\nprices_int=map(lambda value : int(value.repalce(',', '')), prices)\\nfor price in prices_int:\\n          print(price, end='')\",\n",
       "  \"'''\\n예제1. prices = ['5,000','5000', '6,000', '1000','5,000', '5000', '6,000', '1000’]를 [5000,5000,6000,1000]식으로 바꾸시오\\n'''\\n\\nprices = ['5,000','5000', '6,000', '1000','5,000', '5000', '6,000', '1000'] \\ndef toint(value):\\n    return int(value.replace(',',''))\",\n",
       "  \"prices_int=map(lambda value : int(value.repalce(',', '')), prices)\\nfor price in prices_int:\\n          print(price, end='')\",\n",
       "  \"prices_int=map(lambda value : int(value.replace(',', '')), prices)\\nfor price in prices_int:\\n          print(price, end='')\",\n",
       "  \"prices_int=map(lambda value : int(value.replace(',', ' ')), prices)\\nfor price in prices_int:\\n          print(price, end='')\",\n",
       "  \"prices_int=map(lambda value : int(value.replace(',', ' ')), prices)\\nfor price in prices_int:\\n          print(price, end=' ')\",\n",
       "  \"prices_int=map(lambda value : int(value.replace(',', '')), prices)\\nfor price in prices_int:\\n          print(price, end=' ')\",\n",
       "  \"# [{'name':'홍길동', 'birth':'2000-01-01’}=>{'name':'홍길동', 'year':'2000, 'month':1, 'day':1}]\",\n",
       "  \"# '2000-01-01' =>{'year':2000, 'month':1, 'day':1}\\ndef split_data(data)\\n    split_data = data.split\\n    return split_data\\n            'year:int(split_data[0]),\\n            'month':int(split_data[1]),\\n            'day':int(split_data[2])\\nsplit_data('2025-01-01'), split_data('1995-12-12')\\n    \",\n",
       "  \"# '2000-01-01' =>{'year':2000, 'month':1, 'day':1}\\ndef split_data(data)\\n    split_data = data.split\\n    return split_data\\n            'year:int(data.split[0]),\\n            'month':int(data.split[1]),\\n            'day':int(data.split[2])\\nsplit_data('2025-01-01'), split_data('1995-12-12')\\n    \",\n",
       "  \"# '2000-01-01' =>{'year':2000, 'month':1, 'day':1}\\ndef split_data(data)\\n    split_data = data.split\\n    return split_data\\n            'year':int(data.split[0]),\\n            'month':int(data.split[1]),\\n            'day':int(data.split[2])\\nsplit_data('2025-01-01'), split_data('1995-12-12')\\n    \",\n",
       "  \"# '2000-01-01' =>{'year':2000, 'month':1, 'day':1}\\ndef split_data(data):\\n    return split_data\\n            'year':int(data.split[0]),\\n            'month':int(data.split[1]),\\n            'day':int(data.split[2])\\nsplit_data('2025-01-01'), split_data('1995-12-12')\\n    \",\n",
       "  \"# '2000-01-01' =>{'year':2000, 'month':1, 'day':1}\\ndef split_data(data):\\n    return { \\n            'year':int(data.split[0]),\\n            'month':int(data.split[1]),\\n            'day':int(data.split[2])\\n        }\\nsplit_data('2025-01-01'), split_data('1995-12-12')\\n    \",\n",
       "  \"members1 = [{'name':'홍길동', 'birth':'2000-01-01'},\\n            {'name':'신길동', 'birth':'1995-12-18'},]\",\n",
       "  \"# '2000-01-01' =>{'year':2000, 'month':1, 'day':1}\\ndef split_data(data):\\n    return { \\n            'year':int(data.split[0]),\\n            'month':int(data.split[1]),\\n            'day':int(data.split[2])\\n        }\\nsplit_data('2025-01-01'), split_data('1995-12-12')\\n    \",\n",
       "  \"# {'birth': 2025-01-01'} =>{'year':2000, 'month':1, 'day':1}\\ndef split_date(data):\\n    return { \\n            'year':int(data['birth'].split('-')[0]),\\n            'month':int(data['birth'].split('-')[1]),\\n            'day':int(data['birth'].split('-')[2])\\n        }\\nsplit_data({'birth': 2025-01-01'})\",\n",
       "  \"# {'birth': 2025-01-01'} =>{'year':2000, 'month':1, 'day':1}\\ndef split_date(data):\\n    return { \\n            'year':int(data['birth'].split('-')[0]),\\n            'month':int(data['birth'].split('-')[1]),\\n            'day':int(data['birth'].split('-')[2])\\n        }\\nsplit_data({'birth': '2025-01-01'})\",\n",
       "  \"# {'birth': 2025-01-01'} =>{'year':2000, 'month':1, 'day':1}\\ndef split_date(data):\\n    return { \\n            'year':int(data['birth'].split('-')[0]),\\n            'month':int(data['birth'].split('-')[1]),\\n            'day':int(data['birth'].split('-')[2])\\n        }\\nsplit_date({'birth': '2025-01-01'})\",\n",
       "  \"# {'name':'홍길동', 'birth':'2000-01-01’}=>{'name':'홍길동', 'year':'2000, 'month':1, 'day':1}\\ndef member_preprocessing(member):\\n    return {\\n        'name': member.get('name', '이름없음'), #member['name']\\n    }\",\n",
       "  \"# {'name':'홍길동', 'birth':'2000-01-01’}=>{'name':'홍길동', 'year':'2000, 'month':1, 'day':1}\\ndef member_preprocessing(member):\\n    return {\\n        'name': member.get('name', '이름없음'), #member['name']\\n        'year': int(member.get('birth').split('-'[0],\\n        'month': int(member.get('birth').split('-'[1],\\n        'day': int(member.get('birth').split('-'[2],\\n    }\\nmember_preprocessing({'name':'홍길동', 'birth':'2000-01-01’})\",\n",
       "  \"# {'name':'홍길동', 'birth':'2000-01-01’}=>{'name':'홍길동', 'year':'2000, 'month':1, 'day':1}\\ndef member_preprocessing(member):\\n    return {\\n        'name': member.get('name', '이름없음'), #member['name']\\n        'year': int(member.get('birth').split('-'[0]),\\n        'month': int(member.get('birth').split('-'[1]),\\n        'day': int(member.get('birth').split('-'[2]),\\n    }\\nmember_preprocessing({'name':'홍길동', 'birth':'2000-01-01’})\",\n",
       "  \"members2=list(map(lambda member:{\\n        'name': member.get('name', '이름없음'), \\n        'year': int(member.get('birth').split('-')[0]),\\n        'month': int(member.get('birth').split('-')[1]),\\n        'day': int(member.get('birth').split('-')[2]),}, members1\\n                  )\\n                    )\\nmembers2\\n                   \",\n",
       "  \"'''\\n예제3, members2를 members1로 전환\\n'''\\nmembers1\",\n",
       "  '# {\\'year\\':2000, \\'month\\':1, \\'day\\':1} ==> \\'2025-01-01\\'\\ndef join_date(data):\\n    return \"{}-{}\".format(data.get(\\'year\\'), data.get(\\'month\\')data.get(\\'day\\'))\\njoin_data({\\'year\\':2000, \\'month\\';1, \\'day\\';1})',\n",
       "  '# {\\'year\\':2000, \\'month\\':1, \\'day\\':1} ==> \\'2025-01-01\\'\\ndef join_date(data):\\n    return \"{}-{}-{}\".format(data.get(\\'year\\'), data.get(\\'month\\')data.get(\\'day\\'))\\njoin_data({\\'year\\':2000, \\'month\\';1, \\'day\\';1})',\n",
       "  '# {\\'year\\':2000, \\'month\\':1, \\'day\\':1} ==> \\'2025-01-01\\'\\ndef join_date(data):\\n    return \"{}-{}-{}\".format(data.get(\\'year\\'), data.get(\\'month\\'), data.get(\\'day\\'))\\njoin_data({\\'year\\':2000, \\'month\\';1, \\'day\\';1})',\n",
       "  '# {\\'year\\':2000, \\'month\\':1, \\'day\\':1} ==> \\'2025-01-01\\'\\ndef join_date(data):\\n    return \"{}-{}-{}\".format(data.get(\\'year\\'), data.get(\\'month\\'), data.get(\\'day\\'))\\njoin_data({\\'year\\':2000, \\'month\\':1, \\'day\\':1})',\n",
       "  '# {\\'year\\':2000, \\'month\\':1, \\'day\\':1} ==> \\'2025-01-01\\'\\ndef join_date(data):\\n    return \"{}-{}-{}\".format(data.get(\\'year\\'), data.get(\\'month\\'), data.get(\\'day\\'))\\njoin_data({\\'year\\':2000, \\'month\\':9, \\'day\\':9})',\n",
       "  '# {\\'year\\':2000, \\'month\\':1, \\'day\\':1} ==> \\'2025-01-01\\'\\ndef join_date(data):\\n    return \"{}-{}-{}\".format(data.get(\\'year\\'), data.get(\\'month\\'), data.get(\\'day\\'))\\njoin_date({\\'year\\':2000, \\'month\\':1, \\'day\\':1})',\n",
       "  '# {\\'year\\':2000, \\'month\\':1, \\'day\\':1} ==> \\'2025-01-01\\'\\ndef join_date(data):\\n    return \"{}-{}-{}\".format(data.get(\\'year\\'), data.get(\\'month\\'), data.get(\\'day\\'))\\njoin_date({\\'year\\':2000, \\'month\\':9, \\'day\\':9})',\n",
       "  '# {\\'year\\':2000, \\'month\\':1, \\'day\\':1} ==> \\'2025-01-01\\'\\ndef join_date(data):\\n    return \"{}-{:02}-{}\".format(data.get(\\'year\\'), data.get(\\'month\\'), data.get(\\'day\\'))\\njoin_date({\\'year\\':2000, \\'month\\':9, \\'day\\':9})',\n",
       "  '# {\\'year\\':2000, \\'month\\':1, \\'day\\':1} ==> \\'2025-01-01\\'\\ndef join_date(data):\\n    return \"{}-{:02}-{:02}\".format(data.get(\\'year\\'), data.get(\\'month\\'), data.get(\\'day\\'))\\njoin_date({\\'year\\':2000, \\'month\\':9, \\'day\\':9})',\n",
       "  '# {\\'year\\':2000, \\'month\\':1, \\'day\\':1} ==> \\'2025-01-01\\'\\ndef join_date(data):\\n    return \"{year}-{month:02}-{data:02}.format(**data)\\njoin_date({\\'year\\':2000, \\'month\\':9, \\'day\\':9})',\n",
       "  '# {\\'year\\':2000, \\'month\\':1, \\'day\\':1} ==> \\'2025-01-01\\'\\ndef join_date(data):\\n    return \"{year}-{month:02}-{data:02}\".format(**data)\\njoin_date({\\'year\\':2000, \\'month\\':9, \\'day\\':9})',\n",
       "  '# {\\'year\\':2000, \\'month\\':1, \\'day\\':1} ==> \\'2025-01-01\\'\\ndef join_date(data):\\n    return \"{year}-{month:02}-{data:02}\".format(**data)}\\njoin_date({\\'year\\':2000, \\'month\\':9, \\'day\\':9})',\n",
       "  '# {\\'year\\':2000, \\'month\\':1, \\'day\\':1} ==> {\\'birth: 2025-01-01\\'}\\ndef join_date(data):\\n    return \"{year}-{month:02}-{data:02}\".format(**data)}\\njoin_date({\\'year\\':2000, \\'month\\':9, \\'day\\':9})',\n",
       "  '# {\\'year\\':2000, \\'month\\':1, \\'day\\':1} ==> {\\'birth: 2025-01-01\\'}\\ndef join_date(data):\\n    return \"birth\": {year}-{month:02}-{data:02}\".format(**data)}\\njoin_date({\\'year\\':2000, \\'month\\':9, \\'day\\':9})',\n",
       "  '# {\\'year\\':2000, \\'month\\':1, \\'day\\':1} ==> {\\'birth: 2025-01-01\\'}\\ndef join_date(data):\\n    return {\"birth\": {year}-{month:02}-{data:02}\".format(**data)}\\njoin_date({\\'year\\':2000, \\'month\\':9, \\'day\\':9})',\n",
       "  '# {\\'year\\':2000, \\'month\\':1, \\'day\\':1} ==> {\\'birth: 2025-01-01\\'}\\ndef join_date(data):\\n    return {\"birth\": \"{year}-{month:02}-{data:02}\".format(**data)}\\njoin_date({\\'year\\':2000, \\'month\\':9, \\'day\\':9})',\n",
       "  '# {\\'year\\':2000, \\'month\\':1, \\'day\\':1} ==> {\\'birth: 2025-01-01\\'}\\ndef join_date(data):\\n    return {\\'birt\\': \"{year}-{month:02}-{data:02}\".format(**data)}\\njoin_date({\\'year\\':2000, \\'month\\':9, \\'day\\':9})',\n",
       "  '# {\\'year\\':2000, \\'month\\':1, \\'day\\':1} ==> {\\'birth: 2025-01-01\\'}\\ndef join_date(data):\\n    return {\\'birth\\': \"{year}-{month:02}-{data:02}\".format(**data)}\\njoin_date({\\'year\\':2000, \\'month\\':9, \\'day\\':9})',\n",
       "  '# {\\'name\\':hong, \\'year\\': 2000, month\\':1, \\'day\\':1} ==> {\\'name\\'= \\'hong\\', birth: 2025-01-01\\'}\\ndef members_preprocessing(nembers):\\n    return {\\n        \\'name\\': member.get(\\'name\\'),\\n        \\'birth\\': \"{year}-{month:02}-{data:02}\"\\n    }\\nmembers_preprocessing({\\'name\\':\\'hong\\', \\'year\\':2000, \\'month\\';1, \\'day\\':})',\n",
       "  '# {\\'name\\':hong, \\'year\\': 2000, month\\':1, \\'day\\':1} ==> {\\'name\\'= \\'hong\\', birth: 2025-01-01\\'}\\ndef members_preprocessing(nembers):\\n    return {\\n        \\'name\\': member.get(\\'name\\'),\\n        \\'birth\\': \"{year}-{month:02}-{data:02}\"\\n    }\\nmembers_preprocessing({\\'name\\':\\'hong\\', \\'year\\':2000, \\'month\\':1, \\'day\\':})',\n",
       "  '# {\\'year\\':2000, \\'month\\':1, \\'day\\':1} ==> \\'2025-01-01\\'\\ndef join_date(data):\\n    return \"{year}-{month:02}-{data:02}\".format(**data)\\njoin_date({\\'year\\':2000, \\'month\\':9, \\'day\\':9})',\n",
       "  '# {\\'year\\':2000, \\'month\\':1, \\'day\\':1} ==> \\'2025-01-01\\'\\ndef join_date(data):\\n    return \"{year}-{month:02}-{data:02}\".format(**data)\\njoin_date({\\'year\\':2000, \\'month\\':9, \\'day\\':9})',\n",
       "  '# {\\'year\\':2000, \\'month\\':1, \\'day\\':1} ==> \\'2025-01-01\\'\\ndef join_date(data):\\n    return \"{}-{:02}-{:02}\".format(data.get(\\'year\\'), data.get(\\'month\\'), data.get(\\'day\\'))\\njoin_date({\\'year\\':2000, \\'month\\':9, \\'day\\':9})',\n",
       "  '# {\\'year\\':2000, \\'month\\':1, \\'day\\':1} ==> \\'2025-01-01\\'\\ndef join_date(data):\\n    return \"{year}-{month:02}-{day:02}\".format(**data)\\njoin_date({\\'year\\':2000, \\'month\\':9, \\'day\\':9})',\n",
       "  '# {\\'year\\':2000, \\'month\\':1, \\'day\\':1} ==> {\\'birth: 2025-01-01\\'}\\ndef join_date(data):\\n    return {\\'birth\\': \"{year}-{month:02}-{day:02}\".format(**data)}\\njoin_date({\\'year\\':2000, \\'month\\':9, \\'day\\':9})',\n",
       "  '# {\\'name\\':hong, \\'year\\': 2000, month\\':1, \\'day\\':1} ==> {\\'name\\'= \\'hong\\', birth: 2025-01-01\\'}\\ndef members_preprocessing(nember):\\n    return {\\n        \\'name\\': member.get(\\'name\\'),\\n        \\'birth\\':\"{year}-{month:02}-{day:02}\".format(**nember)\\n    }\\nmembers_preprocessing({\\'name\\':\\'hong\\', \\'year\\':2000, \\'month\\':1, \\'day\\':})',\n",
       "  '# {\\'name\\':hong, \\'year\\': 2000, month\\':1, \\'day\\':1} ==> {\\'name\\'= \\'hong\\', birth: 2025-01-01\\'}\\ndef members_preprocessing(nember):\\n    return {\\n        \\'name\\': member.get(\\'name\\'),\\n        \\'birth\\':\"{year}-{month:02}-{day:02}\".format(**nember)\\n    }\\nmembers_preprocessing({\\'name\\':\\'hong\\', \\'year\\':2000, \\'month\\':1, \\'day\\':1})',\n",
       "  '# {\\'name\\':hong, \\'year\\': 2000, month\\':1, \\'day\\':1} ==> {\\'name\\'= \\'hong\\', birth: 2025-01-01\\'}\\ndef members_preprocessing(member):\\n    return {\\n        \\'name\\': member.get(\\'name\\'),\\n        \\'birth\\':\"{year}-{month:02}-{day:02}\".format(**member)\\n    }\\nmembers_preprocessing({\\'name\\':\\'hong\\', \\'year\\':2000, \\'month\\':1, \\'day\\':1})',\n",
       "  'list(map(lambda member: {\\n         \\'name\\': member.get(\\'name\\'),\\n        \\'birth\\': \"{year}-{month:02}-{data:02}\".format(**member)\\n    } members2))\\n    ',\n",
       "  'list(map(lambda member: {\\n        \\'name\\': member.get(\\'name\\'),\\n        \\'birth\\':\"{year}-{month:02}-{day:02}\".format(**member)\\n    }, members2))\\n    ',\n",
       "  'list_data =[1,2,3,4,5,6,7,8,9]\\ndef odd_chk(value):\\n    return value%2\\n#    if value%2:\\n#        reutrn True\\n#    else:\\n#        return False\\nfilter_template(lambda value : value%2!=0, list_data)',\n",
       "  '# 리스트 컴프리헨션\\n[value for value in list_data if value%2!=0]',\n",
       "  '# 예제: 다음 리스트에서 소수점 이하기 0인 수만 추출하시오(filter/릿그트컴프리헨숀)\\nL=-[1, 1.2, 1.5, 3.0, 10.5, 100, -2.0, -12.2]\\nlist(filter(lambda X : x%1==0, L))',\n",
       "  '# 예제: 다음 리스트에서 소수점 이하기 0인 수만 추출하시오(filter/릿그트컴프리헨숀)\\nL=[1, 1.2, 1.5, 3.0, 10.5, 100, -2.0, -12.2]\\nlist(filter(lambda X : x%1==0, L))',\n",
       "  'item for item in L if x%1==0',\n",
       "  'p=[10, 3, 6, 1]\\np.sort(reverse=Truse)\\np',\n",
       "  'p=[10, 3, 6, 1]\\np.sort(reverse=True)\\np',\n",
       "  \"# 무조건 0번째 item을 기준으로 오름차순 정렬\\npairs=[(2, 'two'), (1, 'one'), (3, 'tree'), (4, 'four')]\\npairs.sort(\\npairs\",\n",
       "  \"# 무조건 0번째 item을 기준으로 오름차순 정렬\\npairs=[(2, 'two'), (1, 'one'), (3, 'tree'), (4, 'four')]\\npairs.sort()\\npairs\",\n",
       "  '# 1번째  item 기준, 내림차순 정렬\\npairs.sort(key=lambda data:data[1])\\npairs',\n",
       "  '# 1번째  item 기준, 내림차순 정렬\\npairs.sort(key=lambda data:data[1]), revers = True)\\npairs',\n",
       "  '# 1번째  item 기준, 내림차순 정렬\\npairs.sort(key=lambda data:data[1]), revers=True)\\npairs',\n",
       "  '# 1번째  item 기준, 내림차순 정렬\\npairs.sort(key=lambda data:data[1]), reverse=T\\npairs',\n",
       "  '# 1번째  item 기준, 내림차순 정렬\\npairs.sort(key=lambda data:data[1]), reverse=True)\\npairs',\n",
       "  '# 합이 큰 순으로 정렬\\nnumber_2d=[[9,9], [1, 100], [10,1]]\\nnumber_2d.sort()\\nnumber_2d',\n",
       "  '# 0번째 itemdl 큰 순으로 정렬(오름차순)\\nnumber_2d=[[9,9], [1, 100], [10,1]]\\nnumber_2d.sort()\\nnumber_2d',\n",
       "  '# 0번째 itemdl 큰 순으로 정렬(오름차순)\\nnumber_2d=[[9,9], [1, 100], [10,1]]\\nnumber_2d.sort()\\nnumber_2d',\n",
       "  '# 0번째 itemdl 큰 순으로 정렬(오름차순)\\nnumber_2d=[[9,9], [1, 100], [10,200]]\\nnumber_2d.sort()\\nnumber_2d\\n#  합이 큰 순으로 정렬',\n",
       "  '# 1번째  item 기준, 내림차순 정렬\\npairs.sort(key=lambda data:data[1]), reverse=True\\npairs',\n",
       "  \"# 1번째  item 기준, 내림차순 정렬\\npairs.sort(key=lambda data:data[1]), reverse=True'\\npairs\",\n",
       "  '# 0번째 itemdl 큰 순으로 정렬(오름차순)\\nnumber_2d=[[9,9], [1, 100], [10,200, 2]]\\nnumber_2d.sort()\\nnumber_2d\\n#  합이 큰 순으로 정렬\\nnumber_2d.sort(key=)',\n",
       "  '# 0번째 itemdl 큰 순으로 정렬(오름차순)\\nnumber_2d=[[9,9], [1, 100], [10,200, 2]]\\nnumber_2d.sort()\\nnumber_2d\\n#  합이 큰 순으로 정렬\\nnumber_2d.sort()',\n",
       "  '# 0번째 itemdl 큰 순으로 정렬(오름차순)\\nnumber_2d=[[9,9], [1, 100], [10,200, 2]]\\nnumber_2d.sort()\\nnumber_2d\\n#  합이 큰 순으로 정렬\\nnumber_2d.sort(key=lambda items)',\n",
       "  '# 0번째 itemdl 큰 순으로 정렬(오름차순)\\nnumber_2d=[[9,9], [1, 100], [10,200, 2]]\\nnumber_2d.sort()\\nnumber_2d\\n#  합이 큰 순으로 정렬\\nnumber_2d.sort(key=lambda items:sum(items), reverse=True)',\n",
       "  '# 0번째 itemdl 큰 순으로 정렬(오름차순)\\nnumber_2d=[[9,9], [1, 100], [10,200, 2]]\\nnumber_2d.sort()\\nnumber_2d\\n#  합이 큰 순으로 정렬\\nnumber_2d.sort(key=lambda items:sum(items), reverse=True)\\nprint(number-2d)',\n",
       "  '# 0번째 itemdl 큰 순으로 정렬(오름차순)\\nnumber_2d=[[9,9], [1, 100], [10,200, 2]]\\nnumber_2d.sort()\\nnumber_2d\\n#  합이 큰 순으로 정렬\\nnumber_2d.sort(key=lambda items:sum(items), reverse=True)\\nprint(number_2d)',\n",
       "  \"students=[{'name':'홍', 'score:99'},\\n          {'name':'김', 'score:50'},\\n          {'name':'박', 'score:77'},\\n          {'scor':100},]\\nstudents.sort()\",\n",
       "  \"students=[{'name':'홍', 'score:99},\\n          {'name':'김', 'score:50},\\n          {'name':'박', 'score:77},\\n          {'scor':100},]\\nstudents.sort()\",\n",
       "  \"name_select=lambda data : data.get('score')\",\n",
       "  \"# students 를 name 순으로 정렬(ㄱㄴㄷ순)\\nstudents.sort(key=lambda data: data.get('name', '가'))\\nstudents\",\n",
       "  \"students=[{'name':'홍', 'score:99},\\n          {'name':'김', 'score:50},\\n          {'name':'박', 'score:77},\\n          {'score':100},]\\nstudents.sort()\",\n",
       "  \"students=[{'name':'홍', 'score':99},\\n          {'name':'김', 'score':50},\\n          {'name':'박', 'score':77},\\n          {'score':100},]\\nstudents.sort()\",\n",
       "  \"name_select=lambda data : data.get('name')\\nname_select({'name': '홍', 'score': 99, '별명': '박'})\",\n",
       "  \"# students 를 name 순으로 정렬(ㄱㄴㄷ순)\\nstudents.sort(key=lambda data: data.get('name', '가'))\\nstudents\",\n",
       "  \"# students 를 name 순으로 정렬(ㄱㄴㄷ순)\\nstudents.sort(key=lambda data: data.get('name'))\\nstudents\",\n",
       "  \"# students 를 name 순으로 정렬(ㄱㄴㄷ순)\\nstudents.sort(key=lambda data: data.get('name','힣'))\\nstudents\",\n",
       "  \"# students 를 name 순으로 정렬(ㄱㄴㄷ순)\\nstudents.sort(key=lambda data: data.get('name','가'))\\nstudents\",\n",
       "  \"# students를 score 큰  순 정렬\\nstudents.sort(key=lambda data:data.get('score', 0), reverse=True)\\nstudents\",\n",
       "  \"books = \\\\\\n[{'no':1, 'title':’더트릭컬', 'writer':＇폴빠＇,＇price’:’19,800'},\\n{'no':2, 'title’:’흔한남매', 'writer’:’백난도', 'price’:’15,120'},\\n{'no':3, 'title':'단 한 번의 삶', 'writer':'김영하', 'price':'15,120'},\\n{'no':4, 'title':'가격잘못', 'writer':'홍길동', 'price':'ㅁ'},\\n{'no':5, 'title':'가격이숫자', 'writer':'백난도', 'price':30200},\\n{'no':6, 'title':'가격이없음', 'writer':'이길동’},] 정렬\",\n",
       "  \"books = \\\\\\n[{'no':1, 'title':’더트릭컬', 'writer':＇폴빠＇,＇price’:’19,800'},\\n{'no':2, 'title’:’흔한남매', 'writer’:’백난도', 'price’:’15,120'},\\n{'no':3, 'title':'단 한 번의 삶', 'writer':'김영하', 'price':'15,120'},\\n{'no':4, 'title':'가격잘못', 'writer':'홍길동', 'price':'ㅁ'},\\n{'no':5, 'title':'가격이숫자', 'writer':'백난도', 'price':30200},\\n{'no':6, 'title':'가격이없음', 'writer':'이길동’},]\",\n",
       "  \"books = \\\\\\n[{'no':2, 'title':’더트릭컬', 'writer':＇폴빠＇,＇price’:’19,800'},\\n{'no':1, 'title’:’흔한남매', 'writer’:’백난도', 'price’:’15,120'},\\n{'no':3, 'title':'단 한 번의 삶', 'writer':'김영하', 'price':'15,120'},\\n{'no':4, 'title':'가격잘못', 'writer':'홍길동', 'price':'ㅁ'},\\n{'no':5, 'title':'가격이숫자', 'writer':'백난도', 'price':30200},\\n{'no':6, 'title':'가격이없음', 'writer':'이길동’},]\",\n",
       "  \"# no 기준으로 sort\\nbooks.sort(key=lambda book:book['no'])\\nbooks\",\n",
       "  \"# no 기준으로 sort\\nbooks.sort(key=lambda book:book['tltle'])\\nbooks\",\n",
       "  \"# no 기준으로 sort\\nbooks.sort(key=lambda book:book['price'])\\nbooks\",\n",
       "  \"# no 기준으로 sort\\nbooks.sort(key=lambda book:book['title'])\\nbooks\",\n",
       "  \"# no 기준으로 sort\\nbooks.sort(key=lambda book:book.get['price'])\\nbooks\",\n",
       "  \"# no 기준으로 sort\\nbooks.sort(key=lambda book:book.get['title'])\\nbooks\",\n",
       "  \"# price 기준으로 sort\\nbooks.sort(key=lambda book:book.get['title'])\\nbooks\",\n",
       "  \"# no 기준으로 sort\\nbooks.sort(key=lambda book:book.get['no'])\\nbooks\",\n",
       "  \"# title 기준으로 sort\\nbooks.sort(key=lambda book:book.get['title'])\\nbooks\",\n",
       "  \"# price 기준으로 sort\\nbooks.sort(key=lambda book:book.get['price'])\\nbooks\",\n",
       "  \"# price 기준으로 sort\\nbooks.sort(key=lambda book:book.get['price', o)])\\nbooks\",\n",
       "  \"# price 기준으로 sort\\nbooks.sort(key=lambda book:book.get['price', o))\\nbooks\",\n",
       "  \"# price 기준으로 sort\\nbooks.sort(key=lambda book:book.get('price', o))\\nbooks\",\n",
       "  \"# 30200=>30200, '12,000'=>12000, '5000'=>5000, 'ㅁ'=>0, None =>0\\ndef parse_int(price):\\n    print(type(pruce))\\nparse_int('5000')\",\n",
       "  \"# 30200=>30200, '12,000'=>12000, '5000'=>5000, 'ㅁ'=>0, None =>0\\ndef parse_int(price):\\n    print(type(price, str) and price.replace(',',''),.isdigit():\\n          \\nparse_int('5000')\",\n",
       "  \"# 30200=>30200, '12,000'=>12000, '5000'=>5000, 'ㅁ'=>0, None =>0\\ndef parse_int(price):\\n    if isinstance(price, str) and price.replace(',',''),.isdigit():\\n        return int(price.replace)(',','')) \\nparse_int('5000')\",\n",
       "  \"# 30200=>30200, '12,000'=>12000, '5000'=>5000, 'ㅁ'=>0, None =>0\\ndef parse_int(price):\\n    if isinstance(price, str) and price.replace(',',''),.isdigit():\\n        return int(price.replace)(',','')) \\nparse_int('ㅁ')\",\n",
       "  \"# 30200=>30200, '12,000'=>12000, '5000'=>5000, 'ㅁ'=>0, None =>0\\ndef parse_int(price):\\n    if isinstance(price, str) and price.replace(',',''),.isdigit():\\n        return int(price.replace)(',','')) \\n    elif isinstance(price, int):\\n        return price\\nprint(parse_int('12000'), parse_int('30200'), parse_int('ㅁ'), parse_int('None')\",\n",
       "  \"# 30200=>30200, '12000'=>12000, '5000'=>5000, 'ㅁ'=>0, None =>0\\ndef parse_int(price):\\n    if isinstance(price, str) and price.replace(',','').isdigit():\\n        return int(price.replace(',','')) \\n    elif isinstance(price, int):\\n        return price\\nprint(parse_int('12000'), parse_int('30200'), parse_int('ㅁ'), parse_int('None')\",\n",
       "  \"# 30200=>30200, '12000'=>12000, '5000'=>5000, 'ㅁ'=>0, None =>0\\ndef parse_int(price):\\n    if isinstance(price, str) and price.replace(',','').isdigit():\\n        return int(price.replace(',','')) \\n    elif isinstance(price, int):\\n        return price\\nprint(parse_int('12000'), parse_int('30200'), parse_int('ㅁ'), parse_int('None') )\",\n",
       "  \"# 30200=>30200, '12000'=>12000, '5000'=>5000, 'ㅁ'=>0, None =>0\\ndef parse_int(price):\\n    if isinstance(price, str) and price.replace(',','').isdigit():\\n        return int(price.replace(',','')) \\n    elif isinstance(price, int):\\n        return price\\nprint(parse_int('12000'), parse_int('30200'), parse_int('ㅁ'), parse_int('None') )\",\n",
       "  \"# 30200=>30200, '12000'=>12000, '5000'=>5000, 'ㅁ'=>0, None =>0\\ndef parse_int(price):\\n    if isinstance(price, str) and price.replace(',','').isdigit():\\n        return int(price.replace(',','')) \\n    elif isinstance(price, int):\\n        return price\\n    else:\\n        return 0\\nprint(parse_int('12000'), parse_int('30200'), parse_int('ㅁ'), parse_int('None') )\",\n",
       "  \"# 30200=>30200, '12000'=>12000, '5000'=>5000, 'ㅁ'=>0, None =>0\\ndef parse_int(price):\\n    if isinstance(price, str) and price.replace(',','').isdigit():\\n        return int(price.replace(',','')) \\n    elif isinstance(price, int):\\n        return price\\n    else:\\n        return 0\\nparse_int=lambda price:\\n          int(price.replace(',',''))\\n                if isinstance(price,str) and price,replace(',','').isdigit() else \\\\\\n          price if isinstance(price, int) else \\\\\\n          ㅇ\\nprint(parse_int('12000'), parse_int('30200'), parse_int('ㅁ'), parse_int('None') )\",\n",
       "  \"# 30200=>30200, '12000'=>12000, '5000'=>5000, 'ㅁ'=>0, None =>0\\ndef parse_int(price):\\n    if isinstance(price, str) and price.replace(',','').isdigit():\\n        return int(price.replace(',','')) \\n    elif isinstance(price, int):\\n        return price\\n    else:\\n        return 0\\n    \\nparse_int=lambda price:\\n          int(price.replace(',',''))\\n                if isinstance(price,str) and price,replace(',','').isdigit() else \\\\\\n          price if isinstance(price, int) else \\\\\\n          ㅇ\\nprint(parse_int('12000'), parse_int('30200'), parse_int('ㅁ'), parse_int('None') )\",\n",
       "  \"# 30200=>30200, '12000'=>12000, '5000'=>5000, 'ㅁ'=>0, None =>0\\ndef parse_int(price):\\n    if isinstance(price, str) and price.replace(',','').isdigit():\\n        return int(price.replace(',','')) \\n    elif isinstance(price, int):\\n        return price\\n    else:\\n        return 0\\n    \\nparse_int=lambda price: \\\\\\n          int(price.replace(',',''))\\n                if isinstance(price,str) and price,replace(',','').isdigit() else \\\\\\n          price if isinstance(price, int) else \\\\\\n          ㅇ\\nprint(parse_int('12000'), parse_int('30200'), parse_int('ㅁ'), parse_int('None') )\",\n",
       "  \"# 30200=>30200, '12000'=>12000, '5000'=>5000, 'ㅁ'=>0, None =>0\\ndef parse_int(price):\\n    if isinstance(price, str) and price.replace(',','').isdigit():\\n        return int(price.replace(',','')) \\n    elif isinstance(price, int):\\n        return price\\n    else:\\n        return 0\\n    \\nparse_int=lambda price: \\\\\\n          int(price.replace(',',''))\\n                if isinstance(price, str) and price,replace(',','').isdigit() else \\\\\\n          price if isinstance(price, int) else \\\\\\n          0\\nprint(parse_int('12000'), parse_int('30200'), parse_int('ㅁ'), parse_int('None') )\",\n",
       "  \"# {'no':5, 'title':'가격이숫자', 'writer':'백난도', 'price':12,000}=>12000\\nparse_int=lambda book: \\\\\\n          int(book.get('price').replace(',','')) \\\\\\n                if isinstance(book.get('price', str) and \\\\price,replace(',','').isdigit() else \\\\\\n          price if isinstance(price, int) else \\\\\\n          0\",\n",
       "  \"# {'no':5, 'title':'가격이숫자', 'writer':'백난도', 'price':12,000}=>12000\\nparse_int=lambda book: \\\\\\n          int(book.get('price').replace(',','')) \\\\\\n                if isinstance(book.get('price', str) and \\\\\\n                              book.get('price',replace(',','').isdigit() else \\\\\\n          book.get('price' if isinstance(book.get('price'), int) else \\\\\\n          0\\n         \\nparse_int{'no':5, 'title':'가격이숫자', 'writer':'백난도', 'price': 'ㅁ''})\",\n",
       "  \"# {'no':5, 'title':'가격이숫자', 'writer':'백난도', 'price':12,000}=>12000\\nparse_int=lambda book: \\\\\\n          int(book.get('price').replace(',','')) \\\\\\n                if isinstance(book.get('price', str) and \\\\\\n                              book.get('price',replace(',','').isdigit() else \\\\\\n          book.get('price' if isinstance(book.get('price'), int) else \\\\\\n          0\\n         \\nparse_int{'no': 5, 'title':'가격이숫자', 'writer':'백난도', 'price': 'ㅁ''})\",\n",
       "  \"# {'no':5, 'title':'가격이숫자', 'writer':'백난도', 'price':12,000}=>12000\\nparse_int=lambda book: \\\\\\n          int(book.get('price').replace(',','')) \\\\\\n                if isinstance(book.get('price', str) and \\\\\\n                              book.get('price',replace(',','').isdigit() else \\\\\\n          book.get('price' if isinstance(book.get('price'), int) else \\\\\\n          0\\n         \\nparse_int({'no': 5, 'title':'가격이숫자', 'writer':'백난도', 'price': 'ㅁ''})\",\n",
       "  \"# {'no':5, 'title':'가격이숫자', 'writer':'백난도', 'price':12,000}=>12000\\nparse_int=lambda book: \\\\\\n          int(book.get('price').replace(',','')) \\\\\\n                if isinstance(book.get('price', str) and \\\\\\n                              book.get('price',replace(',','').isdigit() else \\\\\\n          book.get('price' if isinstance(book.get('price'), int) else \\\\\\n          0\\n         \\nparse_int({'no': 5, 'title': '가격이숫자', 'writer':'백난도', 'price': 'ㅁ'})\",\n",
       "  \"# {'no':5, 'title':'가격이숫자', 'writer':'백난도', 'price':12,000}=>12000\\nparse_int=lambda book: \\\\\\n          int(book.get('price').replace(',','')) \\\\\\n                if isinstance(book.get('price', str) and \\\\\\n                              book.get('price',replace(',','').isdigit() else \\\\\\n          book.get('price' if isinstance(book.get('price'), int) else \\\\\\n          0\\n         \\nparse_int({'no': 5, 'title': '가격이숫자', 'writer':'백난도', 'price': 'ㅁ'})\",\n",
       "  \"copyBooks=books.copy() # 복제\\ncopyBooks.sort(key=lambda book: \\\\\\n          int(book.get('price').replace(',','')) \\\\\\n                if isinstance(book.get('price', str) and \\\\\\n                              book.get('price',replace(',','').isdigit() else \\\\\\n          book.get('price' if isinstance(book.get('price'), int) else \\\\\\n          0,\\n         reverse=Truse)\\ncopyBooks\",\n",
       "  \"# {'no':5, 'title':'가격이숫자', 'writer':'백난도', 'price':12,000}=>12000\\nparse_int=lambda book: \\\\\\n          int(book.get('price').replace(',','')) \\\\\\n                if isinstance(book.get('price', str) and \\\\\\n                              book.get('price',replace(',','').isdigit() else \\\\\\n          book.get('price' if isinstance(book.get('price'), int) else \\\\\\n          0\\n         \\nparse_int({'no': 5, 'title': '가격이숫자', 'writer':'백난도', 'price': 'ㅁ'})\",\n",
       "  \"# {'no':5, 'title':'가격이숫자', 'writer':'백난도', 'price':12,000}=>12000\\nparse_int=lambda book: \\\\\\n          int(book.get('price').replace(',','')) \\\\\\n                if isinstance(book.get('price', str) and \\\\\\n                              book.get('price',replace(',','').isdigit() else \\\\\\n          book.get('price') if isinstance(book.get('price'), int) else \\\\\\n          0\\n         \\nparse_int({'no': 5, 'title': '가격이숫자', 'writer':'백난도', 'price': 'ㅁ'})\",\n",
       "  \"# {'no':5, 'title':'가격이숫자', 'writer':'백난도', 'price':12,000}=>12000\\nparse_int=lambda book: \\\\\\n          int(book.get('price').replace(',','')) \\\\\\n                if isinstance(book.get('price'), str) and \\\\\\n                              book.get('price'),replace(',','').isdigit() else \\\\\\n          book.get('price') if isinstance(book.get('price'), int) else \\\\\\n          0\\n         \\nparse_int({'no': 5, 'title': '가격이숫자', 'writer':'백난도', 'price': 'ㅁ'})\",\n",
       "  \"# {'no':5, 'title':'가격이숫자', 'writer':'백난도', 'price':12,000}=>12000\\nparse_int=lambda book: \\\\\\n          int(book.get('price').replace(',','')) \\\\\\n                if isinstance(book.get('price'), str) and \\\\\\n                              book.get('price').replace(',','').isdigit() else \\\\\\n          book.get('price') if isinstance(book.get('price'), int) else \\\\\\n          0\\n         \\nparse_int({'no': 5, 'title': '가격이숫자', 'writer':'백난도', 'price': 'ㅁ'})\",\n",
       "  \"copyBooks=books.copy() # 복제\\ncopyBooks.sort(key=lambda book: \\\\\\n          int(book.get('price').replace(',','')) \\\\\\n                if isinstance(book.get('price'), str) and \\\\\\n                              book.get('price').replace(',','').isdigit() else \\\\\\n          book.get('price') if isinstance(book.get('price'), int) else \\\\\\n          0,\\n         reverse=Truse)\\ncopyBooks\",\n",
       "  \"books =\\n[{'no':1, 'title':’더트릭컬', 'writer':＇폴빠＇,＇price’:’19,800'},\\n{'no':2, 'title’:’흔한남매', 'writer’:’백난도', 'price’:’15,120'},\\n{'no':3, 'title':'단 한 번의 삶', 'writer':'김영하', 'price':'15,120'},\\n{'no':4, 'title':'가격잘못', 'writer':'홍길동', 'price':'ㅁ'},\\n{'no':5, 'title':'가격이숫자', 'writer':'백난도', 'price':30200},\\n{'no':6, 'title':'가격이없음', 'writer':'이길동’},]\",\n",
       "  \"books = \\\\\\n   [{'no':1, 'title':'더트릭컬', 'writer':'폴빠','price':'19,800'},\\n    {'no':2, 'title':'흔한남매', 'writer':'백난도', 'price':'15,120'},\\n    {'no':3, 'title':'단 한 번의 삶', 'writer':'김영하', 'price':'15,120'},\\n    {'no':4, 'title':'가격잘못', 'writer':'홍길동', 'price':'ㅁ'},\\n    {'no':5, 'title':'가격이숫자', 'writer':'백난도', 'price':30200},\\n    {'no':6, 'title':'가격이없음', 'writer':'이길동'},] \",\n",
       "  \"# no 기준으로 sort\\nbooks.sort(key=lambda book:book.get['no'])\\nbooks\",\n",
       "  \"# title 기준으로 sort\\nbooks.sort(key=lambda book:book.get['title'])\\nbooks\",\n",
       "  \"# price 기준으로 sort\\nbooks.sort(key=lambda book:book.get['price'])\\nbooks\",\n",
       "  \"# price 기준으로 sort\\nbooks.sort(key=lambda book:book.get('price', o))\\nbooks\",\n",
       "  \"# 30200=>30200, '12,000'=>12000, '5000'=>5000, 'ㅁ'=>0, None =>0\\ndef parse_int(price):\\n    print(type(pruce))\\nparse_int('5000')\",\n",
       "  \"# {'no':5, 'title':'가격이숫자', 'writer':'백난도', 'price':12,000}=>12000\",\n",
       "  \"# price 기준으로 sort\\nbooks.sort(key=lambda book:book.get('price', 0))\\nbooks\",\n",
       "  \"# 30200=>30200, '12,000'=>12000, '5000'=>5000, 'ㅁ'=>0, None =>0\\ndef parse_int(price):\\n    print(type(pruce))\\nparse_int('5000')\",\n",
       "  \"# 30200=>30200, '12,000'=>12000, '5000'=>5000, 'ㅁ'=>0, None =>0\\ndef parse_int(price):\\n    print(type(price))\\nparse_int('5000')\",\n",
       "  \"# 30200=>30200, '12,000'=>12000, '5000'=>5000, 'ㅁ'=>0, None =>0\\ndef parse_int(price):\\n    print(type(price, str) and price.replace(',','').isdigit():\\n          \\nparse_int('5000')\",\n",
       "  \"# 30200=>30200, '12,000'=>12000, '5000'=>5000, 'ㅁ'=>0, None =>0\\ndef parse_int(price):\\n    print(type(price, str) and price.replace(',','').isdigit())\\n          \\nparse_int('5000')\",\n",
       "  \"# 30200=>30200, '12,000'=>12000, '5000'=>5000, 'ㅁ'=>0, None =>0\\ndef parse_int(price):\\n    if isinstance(price, str) and price.replace(',',''),.isdigit():\\n        return int(price.replace)(',','')) \\nparse_int('5000')\",\n",
       "  \"# 30200=>30200, '12,000'=>12000, '5000'=>5000, 'ㅁ'=>0, None =>0\\ndef parse_int(price):\\n    if isinstance(price, str) and price.replace(',','').isdigit():\\n        return int(price.replace(',','')) \\nparse_int('5000')\",\n",
       "  \"# 30200=>30200, '12,000'=>12000, '5000'=>5000, 'ㅁ'=>0, None =>0\\ndef parse_int(price):\\n    if isinstance(price, str) and price.replace(',',''),.isdigit():\\n        return int(price.replace(',','')) \\nparse_int('ㅁ')\",\n",
       "  \"# 30200=>30200, '12,000'=>12000, '5000'=>5000, 'ㅁ'=>0, None =>0\\ndef parse_int(price):\\n    if isinstance(price, str) and price.replace(',','').isdigit():\\n        return int(price.replace(',','')) \\nparse_int('ㅁ')\",\n",
       "  \"# 30200=>30200, '12000'=>12000, '5000'=>5000, 'ㅁ'=>0, None =>0\\ndef parse_int(price):\\n    if isinstance(price, str) and price.replace(',','').isdigit():\\n        return int(price.replace(',','')) \\n    elif isinstance(price, int):\\n        return price\\n    else:\\n        return 0\\nprint(parse_int('12000'), parse_int('30200'), parse_int('ㅁ'), parse_int('None') )\",\n",
       "  \"# 30200=>30200, '12000'=>12000, '5000'=>5000, 'ㅁ'=>0, None =>0\\ndef parse_int(price):\\n    if isinstance(price, str) and price.replace(',','').isdigit():\\n        return int(price.replace(',','')) \\n    elif isinstance(price, int):\\n        return price\\n    else:\\n        return 0\\n    \\nparse_int=lambda price: \\\\\\n          int(price.replace(',',''))\\n                if isinstance(price, str) and price,replace(',','').isdigit() else \\\\\\n          price if isinstance(price, int) else \\\\\\n          0\\nprint(parse_int('12000'), parse_int('30200'), parse_int('ㅁ'), parse_int('None') )\",\n",
       "  \"# 30200=>30200, '12000'=>12000, '5000'=>5000, 'ㅁ'=>0, None =>0\\ndef parse_int(price):\\n    if isinstance(price, str) and price.replace(',','').isdigit():\\n        return int(price.replace(',','')) \\n    elif isinstance(price, int):\\n        return price\\n    else:\\n        return 0\\nprint(parse_int('12000'), parse_int('30200'), parse_int('ㅁ'), parse_int('None') )\",\n",
       "  \"# 30200=>30200, '12000'=>12000, '5000'=>5000, 'ㅁ'=>0, None =>0\\ndef parse_int(price):\\n    if isinstance(price, str) and price.replace(',','').isdigit():\\n        return int(price.replace(',','')) \\n    elif isinstance(price, int):\\n        return price\\n    else:\\n        return 0\\n    \\nparse_int=lambda price : \\\\\\n          int(price.replace(',',''))\\n                if isinstance(price, str) and price.replace(',','').isdigit() else \\\\\\n          price if isinstance(price, int) else \\\\\\n          0\\nprint(parse_int('12000'), parse_int('30200'), parse_int('ㅁ'), parse_int('None') )\",\n",
       "  \"# 30200=>30200, '12000'=>12000, '5000'=>5000, 'ㅁ'=>0, None =>0\\ndef parse_int(price):\\n    if isinstance(price, str) and price.replace(',','').isdigit():\\n        return int(price.replace(',','')) \\n    elif isinstance(price, int):\\n        return price\\n    else:\\n        return 0\\n    \\nparse_int=lambda price : \\\\\\n          int(price.replace(',','')) \\\\\\n                if isinstance(price, str) and price.replace(',','').isdigit() else \\\\\\n          price if isinstance(price, int) else \\\\\\n          0\\nprint(parse_int('12000'), parse_int('30200'), parse_int('ㅁ'), parse_int('None') )\",\n",
       "  \"# {'no':5, 'title':'가격이숫자', 'writer':'백난도', 'price':12,000}=>12000\\nparse_int=lambda book: \\\\\\n          int(book.get('price').replace(',','')) \\\\\\n                if isinstance(book.get('price'), str) and \\\\\\n                              book.get('price').replace(',','').isdigit() else \\\\\\n          book.get('price') if isinstance(book.get('price'), int) else \\\\\\n          0\\n         \\nparse_int({'no': 5, 'title': '가격이숫자', 'writer':'백난도', 'price': 'ㅁ'})\",\n",
       "  \"# {'no':5, 'title':'가격이숫자', 'writer':'백난도', 'price':12,000}=>12000\\nparse_int=lambda book: \\\\\\n          int(book.get('price').replace(',','')) \\\\\\n                if isinstance(book.get('price'), str) and \\\\\\n                              book.get('price').replace(',','').isdigit() else \\\\\\n          book.get('price') if isinstance(book.get('price'), int) else \\\\\\n          0\\n         \\nparse_int({'no': 5, 'title': '가격이숫자', 'writer':'백난도', 'price': 'ㅁ'})\",\n",
       "  \"copyBooks=books.copy() # 복제\\ncopyBooks.sort(key=lambda book: \\\\\\n          int(book.get('price').replace(',','')) \\\\\\n                if isinstance(book.get('price'), str) and \\\\\\n                              book.get('price').replace(',','').isdigit() else \\\\\\n          book.get('price') if isinstance(book.get('price'), int) else \\\\\\n          0,\\n         reverse=Truse)\\ncopyBooks\",\n",
       "  \"copyBooks=books.copy() # 복제\\ncopyBooks.sort(key=lambda book: \\\\\\n          int(book.get('price').replace(',','')) \\\\\\n                if isinstance(book.get('price'), str) and \\\\\\n                              book.get('price').replace(',','').isdigit() else \\\\\\n          book.get('price') if isinstance(book.get('price'), int) else \\\\\\n          0,\\n         reverse=True)\\ncopyBooks\",\n",
       "  'globals(\"\") # 전역변수 리스트',\n",
       "  'globals() # 전역변수 리스트'],\n",
       " '_oh': {1: 8,\n",
       "  8: ('홀수', '짝수'),\n",
       "  15: ('홀수', '짝수'),\n",
       "  16: (4, 4),\n",
       "  17: (4, 4),\n",
       "  20: (1000, 'negative'),\n",
       "  27: ('재시험', '유효하지 않음'),\n",
       "  28: ('D학점', '유효하지 않음'),\n",
       "  36: (-1, 2),\n",
       "  37: [25, 15, 100, 4.0],\n",
       "  38: [64, 82],\n",
       "  39: 53,\n",
       "  41: 6,\n",
       "  42: [10, 6, 16, 4.0, 64, 64],\n",
       "  53: [2, 4, 6, 8, 10, 12, 14, 16, 18],\n",
       "  54: [2, 4, 6, 8, 10, 12, 14, 16, 18],\n",
       "  56: [4, 4, 4, 4, 4, 4, 4, 4, 4],\n",
       "  57: [2, 4, 6, 8, 10, 12, 14, 16, 18],\n",
       "  58: <map at 0x239df076770>,\n",
       "  59: [2, 4, 6, 8, 10, 12, 14, 16, 18],\n",
       "  87: {'year': 2025, 'month': 1, 'day': 1},\n",
       "  91: [{'name': '홍길동', 'year': 2000, 'month': 1, 'day': 1},\n",
       "   {'name': '신길동', 'year': 1995, 'month': 12, 'day': 18}],\n",
       "  92: [{'name': '홍길동', 'birth': '2000-01-01'},\n",
       "   {'name': '신길동', 'birth': '1995-12-18'}],\n",
       "  98: '2000-1-1',\n",
       "  99: '2000-9-9',\n",
       "  100: '2000-09-9',\n",
       "  101: '2000-09-09',\n",
       "  115: '2000-09-09',\n",
       "  116: '2000-09-09',\n",
       "  117: {'birth': '2000-09-09'},\n",
       "  120: {'name': 'hong', 'birth': '2000-01-01'},\n",
       "  122: [{'name': '홍길동', 'birth': '2000-01-01'},\n",
       "   {'name': '신길동', 'birth': '1995-12-18'}],\n",
       "  124: [1, 3, 5, 7, 9],\n",
       "  129: [10, 6, 3, 1],\n",
       "  131: [(4, 'four'), (1, 'one'), (3, 'tree'), (2, 'two')],\n",
       "  132: [(4, 'four'), (1, 'one'), (3, 'tree'), (2, 'two')],\n",
       "  137: [[1, 100], [9, 9], [10, 1]],\n",
       "  138: [[1, 100], [9, 9], [10, 1]],\n",
       "  139: [[1, 100], [9, 9], [10, 1]],\n",
       "  140: [[1, 100], [9, 9], [10, 200]],\n",
       "  155: '홍',\n",
       "  156: [{'score': 100},\n",
       "   {'name': '홍', 'score': 99},\n",
       "   {'name': '박', 'score': 77},\n",
       "   {'name': '김', 'score': 50}],\n",
       "  158: [{'score': 100},\n",
       "   {'name': '홍', 'score': 99},\n",
       "   {'name': '박', 'score': 77},\n",
       "   {'name': '김', 'score': 50}],\n",
       "  159: [{'score': 100},\n",
       "   {'name': '홍', 'score': 99},\n",
       "   {'name': '박', 'score': 77},\n",
       "   {'name': '김', 'score': 50}],\n",
       "  160: [{'score': 100},\n",
       "   {'name': '홍', 'score': 99},\n",
       "   {'name': '박', 'score': 77},\n",
       "   {'name': '김', 'score': 50}],\n",
       "  200: 0,\n",
       "  216: 5000,\n",
       "  224: 0,\n",
       "  225: 0,\n",
       "  227: [{'no': 5, 'title': '가격이숫자', 'writer': '백난도', 'price': 30200},\n",
       "   {'no': 1, 'title': '더트릭컬', 'writer': '폴빠', 'price': '19,800'},\n",
       "   {'no': 2, 'title': '흔한남매', 'writer': '백난도', 'price': '15,120'},\n",
       "   {'no': 3, 'title': '단 한 번의 삶', 'writer': '김영하', 'price': '15,120'},\n",
       "   {'no': 4, 'title': '가격잘못', 'writer': '홍길동', 'price': 'ㅁ'},\n",
       "   {'no': 6, 'title': '가격이없음', 'writer': '이길동'}]},\n",
       " '_dh': [WindowsPath('C:/ai/source/01-python')],\n",
       " 'In': ['',\n",
       "  'def add(a, b):\\n    return a+b\\nadd(3, 5)',\n",
       "  'def add(a, b):\\n    return a+b\\nprint(add(3, 5))',\n",
       "  'def add(a, b):\\n    return a+b\\nprint(add(3, 5))\\nprint(type(add))',\n",
       "  'add2 = lambda a,, b :  a + b\\nprint(add(3, 5))\\nprint(type(add))',\n",
       "  'def add(a, b):\\n    return a+b\\nprint(add2(3, 5))\\nprint(type(add2))',\n",
       "  'add2 = lambda a,, b :  a + b\\nprint(add2(3, 5))\\nprint(type(add2))',\n",
       "  '# ex1.  매개변수로 돌어온 값이 짝수인지 return 함수를 람다식으로 만들어보세요.\\ndef even_odd_chk(num):\\n    if num%2:\\n        result = \"홀수\"\\n    else:\\n        result = \"짝수\"\\n    return result',\n",
       "  '# ex1.  매개변수로 돌어온 값이 짝수인지 return 함수를 람다식으로 만들어보세요.\\ndef even_odd_chk(num):\\n    if num%2:\\n        result = \"홀수\"\\n    else:\\n        result = \"짝수\"\\n    return result\\neven_odd_chk(5), even_odd_chk(-4) ',\n",
       "  '# ex1.  매개변수로 돌어온 값이 짝수인지 return 함수를 람다식으로 만들어보세요.\\n# def even_odd_chk(num):\\n#    if num%2:\\n#        result = \"홀수\"\\n#    else:\\n#        result = \"짝수\"\\n   result = \"짝수\" if num%2 else \"짝수\"\\neven_odd_chk = lambda num : \"홀수\" if num%2 else \"짝수\"\\neven_odd_chk(5), even_odd_chk(-4) ',\n",
       "  '# ex1.  매개변수로 돌어온 값이 짝수인지 return 함수를 람다식으로 만들어보세요.\\n# def even_odd_chk(num):\\n#    if num%2:\\n#        result = \"홀수\"\\n#    else:\\n#        result = \"짝수\"\\n   result = \"짝수\" if num%2 else \"짝수\"\\neven_odd_chk1 = lambda num : \"홀수\" if num%2 else \"짝수\"\\neven_odd_chk(5), even_odd_chk(-4) ',\n",
       "  '# ex1.  매개변수로 돌어온 값이 짝수인지 return 함수를 람다식으로 만들어보세요.\\n# def even_odd_chk(num):\\n#    if num%2:\\n#        result = \"홀수\"\\n#    else:\\n#        result = \"짝수\"\\n   result \"짝수\" if num%2 else \"짝수\"\\neven_odd_chk1 = lambda num : \"홀수\" if num%2 else \"짝수\"\\neven_odd_chk(5), even_odd_chk(-4) ',\n",
       "  '# ex1.  매개변수로 돌어온 값이 짝수인지 return 함수를 람다식으로 만들어보세요.\\n# def even_odd_chk(num):\\n#    if num%2:\\n#        result = \"홀수\"\\n#    else:\\n#        result = \"짝수\"\\n     result \"짝수\" if num%2 else \"짝수\"\\neven_odd_chk1 = lambda num : \"홀수\" if num%2 else \"짝수\"\\neven_odd_chk(5), even_odd_chk(-4) ',\n",
       "  '# ex1.  매개변수로 돌어온 값이 짝수인지 return 함수를 람다식으로 만들어보세요.\\n# def even_odd_chk(num):\\n#    if num%2:\\n#        result = \"홀수\"\\n#    else:\\n#        result = \"짝수\"\\n     return \"짝수\" if num%2 else \"짝수\"\\neven_odd_chk1 = lambda num : \"홀수\" if num%2 else \"짝수\"\\neven_odd_chk(5), even_odd_chk(-4) ',\n",
       "  '# ex1.  매개변수로 돌어온 값이 짝수인지 return 함수를 람다식으로 만들어보세요.\\n# def even_odd_chk(num):\\n#    if num%2:\\n#        result = \"홀수\"\\n#    else:\\n#        result = \"짝수\"\\n     return \"홀수\" if num%2 else \"짝수\"\\neven_odd_chk1 = lambda num : \"홀수\" if num%2 else \"짝수\"\\neven_odd_chk(5), even_odd_chk(-4) ',\n",
       "  '# ex1.  매개변수로 돌어온 값이 짝수인지 return 함수를 람다식으로 만들어보세요.\\ndef even_odd_chk(num):\\n#    if num%2:\\n#        result = \"홀수\"\\n#    else:\\n#        result = \"짝수\"\\n     return \"홀수\" if num%2 else \"짝수\"\\neven_odd_chk1 = lambda num : \"홀수\" if num%2 else \"짝수\"\\neven_odd_chk(5), even_odd_chk(-4) ',\n",
       "  '# ex2  두 개 매개변수의 차이를 return 함수를 람다식으로 만들어보세요.\\ndiff =lambda a, b : a-b if a>b else b-a\\ndiff(5, 1), diff(1, 5)',\n",
       "  '# ex2  두 개 매개변수의 차이를 return 함수를 람다식으로 만들어보세요.\\ndef diff(a, b):\\n    if a>b:\\n        result = a-b\\n    else: \\n        result = b-a\\n    return rssult\\ndiff =lambda a, b : a-b if a>b else b-a\\ndiff(5, 1), diff(1, 5)',\n",
       "  \"# ex3.  매개변수로 잔액을 받아  잔액이 양수면 잔액을 return, 음수면 'negative'를 rturn의 차이를 return \\nex3 = lambda balance : balance if balnce>=0 else 'negative'\\nex3(1000, ex3(-100)\",\n",
       "  \"# ex3.  매개변수로 잔액을 받아  잔액이 양수면 잔액을 return, 음수면 'negative'를 rturn의 차이를 return \\nex3 = lambda balance : balance if balnce>=0 else 'negative'\\nex3(1000), ex3(-100)\",\n",
       "  \"# ex3.  매개변수로 잔액을 받아  잔액이 양수면 잔액을 return, 음수면 'negative'를 rturn의 차이를 return \\nex3 = lambda balance : balance if balance>=0 else 'negative'\\nex3(1000), ex3(-100)\",\n",
       "  '# ex4.  점수를 입력받아 80점 이상은 \\'A팀\\', 60점 이상은 \\'B팀\\', 60점 미만은 \\'재시험\\' \\n                        # 1OO점 초과, 0점 미만은 \\'유효하지 않음\\'을 Rreturn\\n    def check_team(score):\\n    if score > 100 or score < 0:   # 100점 초과, 0점 미만\\n        return \"유효하지 않음\"\\n    elif score >= 80:              # 80점 이상\\n        return \"A팀\"\\n    elif score >= 60:              # 60점 이상 ~ 79점\\n        return \"B팀\"\\n    else:                          # 60점 미만\\n        return \"재시험\"',\n",
       "  '# ex4.  점수를 입력받아 80점 이상은 \\'A팀\\', 60점 이상은 \\'B팀\\', 60점 미만은 \\'재시험\\' \\n                        # 1OO점 초과, 0점 미만은 \\'유효하지 않음\\'을 Rreturn\\ndef check_team(score):\\n    if score > 100 or score < 0:   \\n# 100점 초과, 0점 미만\\n        return \"유효하지 않음\"\\n    elif score >= 80:              \\n# 80점 이상\\n        return \"A팀\"\\n    elif score >= 60:              \\n# 60점 이상 ~ 79점\\n        return \"B팀\"\\n    else:                         \\n# 60점 미만\\n        return \"재시험\"',\n",
       "  '# ex4.  점수를 입력받아 80점 이상은 \\'A팀\\', 60점 이상은 \\'B팀\\', 60점 미만은 \\'재시험\\' \\n                        # 1OO점 초과, 0점 미만은 \\'유효하지 않음\\'을 Rreturn\\ndef check_team(score):\\n    if score > 100 or score < 0:   \\n# 100점 초과, 0점 미만\\n        return \"유효하지 않음\"\\n    elif score >= 80:              \\n# 80점 이상\\n        return \"A팀\"\\n    elif score >= 60:              \\n# 60점 이상 ~ 79점\\n        return \"B팀\"\\n    else:                         \\n# 60점 미만\\n        return \"재시험\"',\n",
       "  '# ex4.  점수를 입력받아 80점 이상은 \\'A팀\\', 60점 이상은 \\'B팀\\', 60점 미만은 \\'재시험\\' \\n                        # 1OO점 초과, 0점 미만은 \\'유효하지 않음\\'을 Rreturn\\ndef check_team(score):\\n    if score > 100 or score < 0:   \\n# 100점 초과, 0점 미만\\n        return \"유효하지 않음\"\\n    elif score >= 80:              \\n# 80점 이상\\n        return \"A팀\"\\n    elif score >= 60:              \\n# 60점 이상 ~ 79점\\n        return \"B팀\"\\n    else:                         \\n# 60점 미만\\n        return \"재시험\"\\nprint(check_team(85))\\nprint(check_team(85))',\n",
       "  '# ex4.  점수를 입력받아 80점 이상은 \\'A팀\\', 60점 이상은 \\'B팀\\', 60점 미만은 \\'재시험\\' \\n                        # 1OO점 초과, 0점 미만은 \\'유효하지 않음\\'을 Rreturn\\ndef check_team(score):\\n    if score > 100 or score < 0:   \\n# 100점 초과, 0점 미만\\n        return \"유효하지 않음\"\\n    elif score >= 80:              \\n# 80점 이상\\n        return \"A팀\"\\n    elif score >= 60:              \\n# 60점 이상 ~ 79점\\n        return \"B팀\"\\n    else:                         \\n# 60점 미만\\n        return \"재시험\"\\nprint(check_team(85))\\nprint(check_team(75))\\nprint(check_team(50))\\nprint(check_team(120))',\n",
       "  \"# ex4.  점수를 입력받아 80점 이상은 'A팀', 60점 이상은 'B팀', 60점 미만은 '재시험' \\n                        # 1OO점 초과, 0점 미만은 '유효하지 않음'을 Rreturn\\ndef levelchck(score):\\n    if 80<=score<100:\\n        return 'A팀'\\n    elif 600<=score<80:\\n        return 'B팀'\\n    elif 0<=score<60:\\n        return '재시험'\\n    else:\\n        return '유효하지 않음'\\nex4 = lambda score : 'A팀' if 80<=score<100 else \\\\\\n                      'B팀'  if 60<=score<80 else \\\\\\n                      '재시험'  if 0<=score<60 else \\\\\\n                     '유효하지 않음'\\nlevelchk(8), ex4(160)\",\n",
       "  \"# ex4.  점수를 입력받아 80점 이상은 'A팀', 60점 이상은 'B팀', 60점 미만은 '재시험' \\n                        # 1OO점 초과, 0점 미만은 '유효하지 않음'을 Rreturn\\ndef levelChk(score):\\n    if 80<=score<100:\\n        return 'A팀'\\n    elif 600<=score<80:\\n        return 'B팀'\\n    elif 0<=score<60:\\n        return '재시험'\\n    else:\\n        return '유효하지 않음'\\nex4 = lambda score : 'A팀' if 80<=score<100 else \\\\\\n                      'B팀'  if 60<=score<80 else \\\\\\n                      '재시험'  if 0<=score<60 else \\\\\\n                     '유효하지 않음'\\nlevelChk(8), ex4(160)\",\n",
       "  \"# 점수를 입력받아 학점을 return\\nscore_geade = lambda score :  'A학점' if 90<=score<100 else \\\\\\n                               'B학점' if 80<=score<90 else \\\\\\n                               'C학점' if 70<=score<80 else \\\\\\n                               'D학점' if 60<=score<70 else \\\\\\n                               'F학점' if 0<=score<60 else \\\\\\n                               '유효하지 않음'\\nscore_geade(60), score_geade(120)  \",\n",
       "  '# ex5. safe_index 함수를 담라식으로\\ndef safe_index(lst, tem, start=0):\\n    return lst.index(item, start) if item in lst[start:] else -1\\n#      if item in Lst[start:]:\\n#          return LST.index(itemm start) # start번째부터 item이 있는 index를 반ㄴ환\\n#     else:\\n#          return -1\\nex5 = lambda lst, item, start=0, : lst.index)item, start) if item in lst[start:] else \\\\\\n\\nlst = [3, 3, 3]\\nsafe_index(lst, 4), ex5Olst, 3, 1)                          -1',\n",
       "  '# ex5. safe_index 함수를 담라식으로\\ndef safe_index(lst, tem, start=0):\\n    return lst.index(item, start) if item in lst[start:] else -1\\n#      if item in Lst[start:]:\\n#          return LST.index(itemm start) # start번째부터 item이 있는 index를 반ㄴ환\\n#     else:\\n#          return -1\\nex5 = lambda lst, item, start=0 : lst.index)item, start) if item in lst[start:] else \\\\\\n\\nlst = [3, 3, 3]\\nsafe_index(lst, 4), ex5Olst, 3, 1)                          -1',\n",
       "  '# ex5. safe_index 함수를 담라식으로\\ndef safe_index(lst, tem, start=0):\\n    return lst.index(item, start) if item in lst[start:] else -1\\n#      if item in Lst[start:]:\\n#          return LST.index(itemm start) # start번째부터 item이 있는 index를 반ㄴ환\\n#     else:\\n#          return -1\\nex5 = lambda lst, item, start=0 : lst.index(item, start) if item in lst[start:] else \\\\\\n\\nlst = [3, 3, 3]\\nsafe_index(lst, 4), ex5Olst, 3, 1)                          -1',\n",
       "  '# ex5. safe_index 함수를 담라식으로\\ndef safe_index(lst, tem, start=0):\\n    return lst.index(item, start) if item in lst[start:] else -1\\n#      if item in Lst[start:]:\\n#          return LST.index(itemm start) # start번째부터 item이 있는 index를 반ㄴ환\\n#     else:\\n#          return -1\\nex5 = lambda lst, item, start=0 : lst.index(item, start) if item in lst[start:] else \\\\\\n\\nlst = [3, 3, 3]\\nsafe_index(lst, 4), ex5(lst, 3, 1)                          -1',\n",
       "  '# ex5. safe_index 함수를 담라식으로\\ndef safe_index(lst, tem, start=0):\\n    return lst.index(item, start) if item in lst[start:] else -1\\n#      if item in Lst[start:]:\\n#          return LST.index(itemm start) # start번째부터 item이 있는 index를 반ㄴ환\\n#     else:\\n#          return -1\\nex5 = lambda lst, item, start=0 : lst.index(item, start) if item in lst[start:] else \\\\\\n                                   -1\\nlst = [3, 3, 3]\\nsafe_index(lst, 4), ex5(lst, 3, 1)                          ',\n",
       "  '# ex5. safe_index 함수를 담라식으로\\ndef safe_index(lst, tem, start=0):\\n    return lst.index(item, start) if item in lst[start:] else -1\\n#      if item in Lst[start:]:\\n#          return LST.index(itemm start) # start번째부터 item이 있는 index를 반ㄴ환\\n#     else:\\n#          return -1\\nex5 = lambda lst, item, start=0 : lst.index(item, start) if item in lst[start:] else \\\\\\n                                   -1\\nlst = [3, 3, 3]\\nsafe_index(lst, 4), ex5(lst, 3, 1)                          ',\n",
       "  '# ex5. safe_index 함수를 담라식으로\\ndef safe_index(lst, tem, start=0):\\n    return lst.index(item, start) if item in lst[start:] else -1\\n#      if item in Lst[start:]:\\n#          return LST.index(itemm start) # start번째부터 item이 있는 index를 반ㄴ환\\n#     else:\\n#          return -1\\nex5 = lambda lst, item, start=0 : lst.index(item, start) if item in lst[start:] else \\\\\\n                                   -1\\nlst = [3, 2, 3]\\nsafe_index(lst, 4), ex5(lst, 3, 1)                          ',\n",
       "  '# ex5. safe_index 함수를 담라식으로\\ndef safe_index(lst, item, start=0):\\n    return lst.index(item, start) if item in lst[start:] else -1\\n#      if item in Lst[start:]:\\n#          return LST.index(itemm start) # start번째부터 item이 있는 index를 반ㄴ환\\n#     else:\\n#          return -1\\nex5 = lambda lst, item, start=0 : lst.index(item, start) if item in lst[start:] else \\\\\\n                                   -1\\nlst = [3, 2, 3]\\nsafe_index(lst, 4), ex5(lst, 3, 1)                          ',\n",
       "  \"# 람다시식을 List에 들어갈 수 있음.\\nadd = lambda a, b : a + b\\nsub = lambda a, b : a - b\\nmul = lambda a, b : a * b\\ndiv = lambda a, b : a / b #  if  b else '두번째 인자가 0이면 못 나눠요'\\noperations = [add, sub, mul, div] # 사칙연산 함수들\\n\\ndef act_operations(a,b, operations=operations): # a, b의 연산 결과를 return\\n    result =[]\\n    for op in operations:\\n        result.append(op(a,b))\\n    return result \\n    \\nact_operations(20, 5)\",\n",
       "  'act_operations(8, 2, [lambda x, y:x**y, lambda x,y:10*x+y])',\n",
       "  '(lambda x,y:10*x+y)(5,3)',\n",
       "  'operations.append(lambda x, y:x**y)',\n",
       "  'operations.append(lambda x, y:x**y)\\nlen(operations)',\n",
       "  'act_operations(8, 2)  # 기본값을 갖는 변수(기본 변수)가 리스트면 기본값으을 호출할 시점',\n",
       "  'def map_template(func, L=[]):\\n    result  =[]\\n    for item in L;\\n        result.append.itmem)\\n    return result    ',\n",
       "  'def map_template(func, L=[]):\\n    result  =[]\\n    for item in L;\\n        result.append( func(itmem))\\n    return result    ',\n",
       "  'def map_template(func, L=[]):\\n    result  =[]\\n    for item in L:\\n        result.append( func(itmem))\\n    return result    ',\n",
       "  'def map_template(func, L=[]):\\n    result  =[]\\n    for item in L:\\n        result.append( func(itmem))\\n    return result    ',\n",
       "  'def map_template(func, L=[]):\\n    result  =[]\\n    for item in L:\\n        result.append( func(itmem))\\n    return result    ',\n",
       "  'def map_template(func, L=[]):\\n    result  =[]\\n    for item in L:\\n        result.append( func(item))\\n    return result    ',\n",
       "  'def map_template(func, L=[]):\\n    result  =[]\\n    for item in L:\\n        result.append( func(item))\\n    return result    ',\n",
       "  'def map_template(func, L=[]):\\n    result  =[]\\n    for item in L:\\n        result.append( func(item))\\n    return result    ',\n",
       "  'def map_template(func, L=[]):\\n    result  =[]\\n    for item in L:\\n        result.append( func(item))\\n    return result    ',\n",
       "  'def map_template(func, L=[]):\\n    result  =[]\\n    for item in L:\\n        result.append( func(item))\\n    return result    ',\n",
       "  'list_data = [1, 2, 3, 4, 5, 6, 7, 8, 9]\\ndef x_2(x):\\n    return x*2\\nmap_template(x_2, list_data)',\n",
       "  'map_template(lambda x:x*2, list_data)',\n",
       "  'from IPython.display import display, HTML\\ndisplay(HTML(\"\"\"\\n<style>\\ndiv.container{width:90% !important;}\\ndiv.cell.code_cell.rendered{width:100%;}\\ndiv.input_prompt{padding:0px;}\\ndiv.CodeMirror {font-family:Consolas; font-size:22pt;}\\ndiv.text_cell_render.rendered_html{font-size:18pt;}\\ndiv.output {font-size:22pt; font-weight:bold;}\\ndiv.input {font-family:Consolas; font-size:22pt;}\\ndiv.prompt {min-width:70px;}\\ndiv#toc-wrapper{padding-top:120px;}\\ndiv.text_cell_render ul li{font-size:22pt;padding:5px;}\\ntable.dataframe{font-size:22px;}\\n</style>\\n\"\"\"))',\n",
       "  'list_data = [1, 2, 3, 4, 5, 6, 7, 8, 9]\\n# def x_2(x):\\n#    return x*2\\nx_2=lambda x:2*2\\nmap_template(x_2, list_data)',\n",
       "  '# 리스트 컴프리헨션\\n[item*2 for item in list_data]',\n",
       "  'map(lambda x:x*2, list_data)',\n",
       "  'list(map(lambda x:x*2, list_data))',\n",
       "  \"for date in map(lambda x:x*2, list_data):\\n    print(data, end=' ')\",\n",
       "  \"for data in map(lambda x:x*2, list_data):\\n    print(data, end=' ')\",\n",
       "  \"```\\n예제1. prices = ['5,000','5000', '6,000', '1000','5,000', '5000', '6,000', '1000’]를 \\n[5000,5000,6000,1000]식으로 바꾸시오\\n```\\nprices = ['5,000','5000', '6,000', '1000','5,000', '5000', '6,000', '1000’] \\ndef toint(value):\\n    return int(value.replace('',''))\\ntoint('5000')\",\n",
       "  \"```\\n예제1. prices = ['5,000','5000', '6,000', '1000','5,000', '5000', '6,000', '1000’]를 \\n[5000,5000,6000,1000]식으로 바꾸시오\\n```\\nprices = ['5,000','5000', '6,000', '1000','5,000', '5000', '6,000', '1000’] \\ndef toint(value):\\n    return int(value.replace('',''))\\nprices_int=map(lambda value : int(value_repalce('', '')), prices)\\nfor price in prices_int:\\n          print(price, end;'')\",\n",
       "  \"```\\n예제1. prices = ['5,000','5000', '6,000', '1000','5,000', '5000', '6,000', '1000’]를 [5000,5000,6000,1000]식으로 바꾸시오\\n```\\nprices = ['5,000','5000', '6,000', '1000','5,000', '5000', '6,000', '1000’] \\ndef toint(value):\\n    return int(value.replace('',''))\\nprices_int=map(lambda value : int(value_repalce('', '')), prices)\\nfor price in prices_int:\\n          print(price, end;'')\",\n",
       "  \"'''\\n예제1. prices = ['5,000','5000', '6,000', '1000','5,000', '5000', '6,000', '1000’]를 [5000,5000,6000,1000]식으로 바꾸시오\\n'''\\n\\nprices = ['5,000','5000', '6,000', '1000','5,000', '5000', '6,000', '1000’] \\ndef toint(value):\\n    return int(value.replace('',''))\\nprices_int=map(lambda value : int(value_repalce('', '')), prices)\\nfor price in prices_int:\\n          print(price, end;'')\",\n",
       "  \"'''\\n예제1. prices = ['5,000','5000', '6,000', '1000','5,000', '5000', '6,000', '1000’]를 [5000,5000,6000,1000]식으로 바꾸시오\\n'''\\n\\nprices = ['5,000','5000', '6,000', '1000','5,000', '5000', '6,000', '1000'] \\ndef toint(value):\\n    return int(value.replace('',''))\\nprices_int=map(lambda value : int(value_repalce('', '')), prices)\\nfor price in prices_int:\\n          print(price, end;'')\",\n",
       "  \"'''\\n예제1. prices = ['5,000','5000', '6,000', '1000','5,000', '5000', '6,000', '1000’]를 [5000,5000,6000,1000]식으로 바꾸시오\\n'''\\n\\nprices = ['5,000','5000', '6,000', '1000','5,000', '5000', '6,000', '1000'] \\ndef toint(value):\\n    return int(value.replace('',''))\\nprices_int=map(lambda value : int(value_repalce('', '')), prices)\\nfor price in prices_int:\\n          print(price, end:'')\",\n",
       "  \"'''\\n예제1. prices = ['5,000','5000', '6,000', '1000','5,000', '5000', '6,000', '1000’]를 [5000,5000,6000,1000]식으로 바꾸시오\\n'''\\n\\nprices = ['5,000','5000', '6,000', '1000','5,000', '5000', '6,000', '1000'] \\ndef toint(value):\\n    return int(value.replace('',''))\\nprices_int=map(lambda value : int(value_repalce('', '')), prices)\\nfor price in prices_int:\\n          print(price, end='')\",\n",
       "  \"'''\\n예제1. prices = ['5,000','5000', '6,000', '1000','5,000', '5000', '6,000', '1000’]를 [5000,5000,6000,1000]식으로 바꾸시오\\n'''\\n\\nprices = ['5,000','5000', '6,000', '1000','5,000', '5000', '6,000', '1000'] \\ndef toint(value):\\n    return int(value.replace(',',''))\\nprices_int=map(lambda value : int(value_repalce(',', '')), prices)\\nfor price in prices_int:\\n          print(price, end='')\",\n",
       "  \"'''\\n예제1. prices = ['5,000','5000', '6,000', '1000','5,000', '5000', '6,000', '1000’]를 [5000,5000,6000,1000]식으로 바꾸시오\\n'''\\n\\nprices = ['5,000','5000', '6,000', '1000','5,000', '5000', '6,000', '1000'] \\ndef toint(value):\\n    return int(value.replace(',',''))\\nprices_int=map(lambda value : int(value.repalce(',', '')), prices)\\nfor price in prices_int:\\n          print(price, end='')\",\n",
       "  \"'''\\n예제1. prices = ['5,000','5000', '6,000', '1000','5,000', '5000', '6,000', '1000’]를 [5000,5000,6000,1000]식으로 바꾸시오\\n'''\\n\\nprices = ['5,000','5000', '6,000', '1000','5,000', '5000', '6,000', '1000'] \\ndef toint(value):\\n    return int(value.replace(',',''))\",\n",
       "  \"prices_int=map(lambda value : int(value.repalce(',', '')), prices)\\nfor price in prices_int:\\n          print(price, end='')\",\n",
       "  \"prices_int=map(lambda value : int(value.replace(',', '')), prices)\\nfor price in prices_int:\\n          print(price, end='')\",\n",
       "  \"prices_int=map(lambda value : int(value.replace(',', ' ')), prices)\\nfor price in prices_int:\\n          print(price, end='')\",\n",
       "  \"prices_int=map(lambda value : int(value.replace(',', ' ')), prices)\\nfor price in prices_int:\\n          print(price, end=' ')\",\n",
       "  \"prices_int=map(lambda value : int(value.replace(',', '')), prices)\\nfor price in prices_int:\\n          print(price, end=' ')\",\n",
       "  \"# [{'name':'홍길동', 'birth':'2000-01-01’}=>{'name':'홍길동', 'year':'2000, 'month':1, 'day':1}]\",\n",
       "  \"# '2000-01-01' =>{'year':2000, 'month':1, 'day':1}\\ndef split_data(data)\\n    split_data = data.split\\n    return split_data\\n            'year:int(split_data[0]),\\n            'month':int(split_data[1]),\\n            'day':int(split_data[2])\\nsplit_data('2025-01-01'), split_data('1995-12-12')\\n    \",\n",
       "  \"# '2000-01-01' =>{'year':2000, 'month':1, 'day':1}\\ndef split_data(data)\\n    split_data = data.split\\n    return split_data\\n            'year:int(data.split[0]),\\n            'month':int(data.split[1]),\\n            'day':int(data.split[2])\\nsplit_data('2025-01-01'), split_data('1995-12-12')\\n    \",\n",
       "  \"# '2000-01-01' =>{'year':2000, 'month':1, 'day':1}\\ndef split_data(data)\\n    split_data = data.split\\n    return split_data\\n            'year':int(data.split[0]),\\n            'month':int(data.split[1]),\\n            'day':int(data.split[2])\\nsplit_data('2025-01-01'), split_data('1995-12-12')\\n    \",\n",
       "  \"# '2000-01-01' =>{'year':2000, 'month':1, 'day':1}\\ndef split_data(data):\\n    return split_data\\n            'year':int(data.split[0]),\\n            'month':int(data.split[1]),\\n            'day':int(data.split[2])\\nsplit_data('2025-01-01'), split_data('1995-12-12')\\n    \",\n",
       "  \"# '2000-01-01' =>{'year':2000, 'month':1, 'day':1}\\ndef split_data(data):\\n    return { \\n            'year':int(data.split[0]),\\n            'month':int(data.split[1]),\\n            'day':int(data.split[2])\\n        }\\nsplit_data('2025-01-01'), split_data('1995-12-12')\\n    \",\n",
       "  \"members1 = [{'name':'홍길동', 'birth':'2000-01-01'},\\n            {'name':'신길동', 'birth':'1995-12-18'},]\",\n",
       "  \"# '2000-01-01' =>{'year':2000, 'month':1, 'day':1}\\ndef split_data(data):\\n    return { \\n            'year':int(data.split[0]),\\n            'month':int(data.split[1]),\\n            'day':int(data.split[2])\\n        }\\nsplit_data('2025-01-01'), split_data('1995-12-12')\\n    \",\n",
       "  \"# {'birth': 2025-01-01'} =>{'year':2000, 'month':1, 'day':1}\\ndef split_date(data):\\n    return { \\n            'year':int(data['birth'].split('-')[0]),\\n            'month':int(data['birth'].split('-')[1]),\\n            'day':int(data['birth'].split('-')[2])\\n        }\\nsplit_data({'birth': 2025-01-01'})\",\n",
       "  \"# {'birth': 2025-01-01'} =>{'year':2000, 'month':1, 'day':1}\\ndef split_date(data):\\n    return { \\n            'year':int(data['birth'].split('-')[0]),\\n            'month':int(data['birth'].split('-')[1]),\\n            'day':int(data['birth'].split('-')[2])\\n        }\\nsplit_data({'birth': '2025-01-01'})\",\n",
       "  \"# {'birth': 2025-01-01'} =>{'year':2000, 'month':1, 'day':1}\\ndef split_date(data):\\n    return { \\n            'year':int(data['birth'].split('-')[0]),\\n            'month':int(data['birth'].split('-')[1]),\\n            'day':int(data['birth'].split('-')[2])\\n        }\\nsplit_date({'birth': '2025-01-01'})\",\n",
       "  \"# {'name':'홍길동', 'birth':'2000-01-01’}=>{'name':'홍길동', 'year':'2000, 'month':1, 'day':1}\\ndef member_preprocessing(member):\\n    return {\\n        'name': member.get('name', '이름없음'), #member['name']\\n    }\",\n",
       "  \"# {'name':'홍길동', 'birth':'2000-01-01’}=>{'name':'홍길동', 'year':'2000, 'month':1, 'day':1}\\ndef member_preprocessing(member):\\n    return {\\n        'name': member.get('name', '이름없음'), #member['name']\\n        'year': int(member.get('birth').split('-'[0],\\n        'month': int(member.get('birth').split('-'[1],\\n        'day': int(member.get('birth').split('-'[2],\\n    }\\nmember_preprocessing({'name':'홍길동', 'birth':'2000-01-01’})\",\n",
       "  \"# {'name':'홍길동', 'birth':'2000-01-01’}=>{'name':'홍길동', 'year':'2000, 'month':1, 'day':1}\\ndef member_preprocessing(member):\\n    return {\\n        'name': member.get('name', '이름없음'), #member['name']\\n        'year': int(member.get('birth').split('-'[0]),\\n        'month': int(member.get('birth').split('-'[1]),\\n        'day': int(member.get('birth').split('-'[2]),\\n    }\\nmember_preprocessing({'name':'홍길동', 'birth':'2000-01-01’})\",\n",
       "  \"members2=list(map(lambda member:{\\n        'name': member.get('name', '이름없음'), \\n        'year': int(member.get('birth').split('-')[0]),\\n        'month': int(member.get('birth').split('-')[1]),\\n        'day': int(member.get('birth').split('-')[2]),}, members1\\n                  )\\n                    )\\nmembers2\\n                   \",\n",
       "  \"'''\\n예제3, members2를 members1로 전환\\n'''\\nmembers1\",\n",
       "  '# {\\'year\\':2000, \\'month\\':1, \\'day\\':1} ==> \\'2025-01-01\\'\\ndef join_date(data):\\n    return \"{}-{}\".format(data.get(\\'year\\'), data.get(\\'month\\')data.get(\\'day\\'))\\njoin_data({\\'year\\':2000, \\'month\\';1, \\'day\\';1})',\n",
       "  '# {\\'year\\':2000, \\'month\\':1, \\'day\\':1} ==> \\'2025-01-01\\'\\ndef join_date(data):\\n    return \"{}-{}-{}\".format(data.get(\\'year\\'), data.get(\\'month\\')data.get(\\'day\\'))\\njoin_data({\\'year\\':2000, \\'month\\';1, \\'day\\';1})',\n",
       "  '# {\\'year\\':2000, \\'month\\':1, \\'day\\':1} ==> \\'2025-01-01\\'\\ndef join_date(data):\\n    return \"{}-{}-{}\".format(data.get(\\'year\\'), data.get(\\'month\\'), data.get(\\'day\\'))\\njoin_data({\\'year\\':2000, \\'month\\';1, \\'day\\';1})',\n",
       "  '# {\\'year\\':2000, \\'month\\':1, \\'day\\':1} ==> \\'2025-01-01\\'\\ndef join_date(data):\\n    return \"{}-{}-{}\".format(data.get(\\'year\\'), data.get(\\'month\\'), data.get(\\'day\\'))\\njoin_data({\\'year\\':2000, \\'month\\':1, \\'day\\':1})',\n",
       "  '# {\\'year\\':2000, \\'month\\':1, \\'day\\':1} ==> \\'2025-01-01\\'\\ndef join_date(data):\\n    return \"{}-{}-{}\".format(data.get(\\'year\\'), data.get(\\'month\\'), data.get(\\'day\\'))\\njoin_data({\\'year\\':2000, \\'month\\':9, \\'day\\':9})',\n",
       "  '# {\\'year\\':2000, \\'month\\':1, \\'day\\':1} ==> \\'2025-01-01\\'\\ndef join_date(data):\\n    return \"{}-{}-{}\".format(data.get(\\'year\\'), data.get(\\'month\\'), data.get(\\'day\\'))\\njoin_date({\\'year\\':2000, \\'month\\':1, \\'day\\':1})',\n",
       "  '# {\\'year\\':2000, \\'month\\':1, \\'day\\':1} ==> \\'2025-01-01\\'\\ndef join_date(data):\\n    return \"{}-{}-{}\".format(data.get(\\'year\\'), data.get(\\'month\\'), data.get(\\'day\\'))\\njoin_date({\\'year\\':2000, \\'month\\':9, \\'day\\':9})',\n",
       "  '# {\\'year\\':2000, \\'month\\':1, \\'day\\':1} ==> \\'2025-01-01\\'\\ndef join_date(data):\\n    return \"{}-{:02}-{}\".format(data.get(\\'year\\'), data.get(\\'month\\'), data.get(\\'day\\'))\\njoin_date({\\'year\\':2000, \\'month\\':9, \\'day\\':9})',\n",
       "  '# {\\'year\\':2000, \\'month\\':1, \\'day\\':1} ==> \\'2025-01-01\\'\\ndef join_date(data):\\n    return \"{}-{:02}-{:02}\".format(data.get(\\'year\\'), data.get(\\'month\\'), data.get(\\'day\\'))\\njoin_date({\\'year\\':2000, \\'month\\':9, \\'day\\':9})',\n",
       "  '# {\\'year\\':2000, \\'month\\':1, \\'day\\':1} ==> \\'2025-01-01\\'\\ndef join_date(data):\\n    return \"{year}-{month:02}-{data:02}.format(**data)\\njoin_date({\\'year\\':2000, \\'month\\':9, \\'day\\':9})',\n",
       "  '# {\\'year\\':2000, \\'month\\':1, \\'day\\':1} ==> \\'2025-01-01\\'\\ndef join_date(data):\\n    return \"{year}-{month:02}-{data:02}\".format(**data)\\njoin_date({\\'year\\':2000, \\'month\\':9, \\'day\\':9})',\n",
       "  '# {\\'year\\':2000, \\'month\\':1, \\'day\\':1} ==> \\'2025-01-01\\'\\ndef join_date(data):\\n    return \"{year}-{month:02}-{data:02}\".format(**data)}\\njoin_date({\\'year\\':2000, \\'month\\':9, \\'day\\':9})',\n",
       "  '# {\\'year\\':2000, \\'month\\':1, \\'day\\':1} ==> {\\'birth: 2025-01-01\\'}\\ndef join_date(data):\\n    return \"{year}-{month:02}-{data:02}\".format(**data)}\\njoin_date({\\'year\\':2000, \\'month\\':9, \\'day\\':9})',\n",
       "  '# {\\'year\\':2000, \\'month\\':1, \\'day\\':1} ==> {\\'birth: 2025-01-01\\'}\\ndef join_date(data):\\n    return \"birth\": {year}-{month:02}-{data:02}\".format(**data)}\\njoin_date({\\'year\\':2000, \\'month\\':9, \\'day\\':9})',\n",
       "  '# {\\'year\\':2000, \\'month\\':1, \\'day\\':1} ==> {\\'birth: 2025-01-01\\'}\\ndef join_date(data):\\n    return {\"birth\": {year}-{month:02}-{data:02}\".format(**data)}\\njoin_date({\\'year\\':2000, \\'month\\':9, \\'day\\':9})',\n",
       "  '# {\\'year\\':2000, \\'month\\':1, \\'day\\':1} ==> {\\'birth: 2025-01-01\\'}\\ndef join_date(data):\\n    return {\"birth\": \"{year}-{month:02}-{data:02}\".format(**data)}\\njoin_date({\\'year\\':2000, \\'month\\':9, \\'day\\':9})',\n",
       "  '# {\\'year\\':2000, \\'month\\':1, \\'day\\':1} ==> {\\'birth: 2025-01-01\\'}\\ndef join_date(data):\\n    return {\\'birt\\': \"{year}-{month:02}-{data:02}\".format(**data)}\\njoin_date({\\'year\\':2000, \\'month\\':9, \\'day\\':9})',\n",
       "  '# {\\'year\\':2000, \\'month\\':1, \\'day\\':1} ==> {\\'birth: 2025-01-01\\'}\\ndef join_date(data):\\n    return {\\'birth\\': \"{year}-{month:02}-{data:02}\".format(**data)}\\njoin_date({\\'year\\':2000, \\'month\\':9, \\'day\\':9})',\n",
       "  '# {\\'name\\':hong, \\'year\\': 2000, month\\':1, \\'day\\':1} ==> {\\'name\\'= \\'hong\\', birth: 2025-01-01\\'}\\ndef members_preprocessing(nembers):\\n    return {\\n        \\'name\\': member.get(\\'name\\'),\\n        \\'birth\\': \"{year}-{month:02}-{data:02}\"\\n    }\\nmembers_preprocessing({\\'name\\':\\'hong\\', \\'year\\':2000, \\'month\\';1, \\'day\\':})',\n",
       "  '# {\\'name\\':hong, \\'year\\': 2000, month\\':1, \\'day\\':1} ==> {\\'name\\'= \\'hong\\', birth: 2025-01-01\\'}\\ndef members_preprocessing(nembers):\\n    return {\\n        \\'name\\': member.get(\\'name\\'),\\n        \\'birth\\': \"{year}-{month:02}-{data:02}\"\\n    }\\nmembers_preprocessing({\\'name\\':\\'hong\\', \\'year\\':2000, \\'month\\':1, \\'day\\':})',\n",
       "  '# {\\'year\\':2000, \\'month\\':1, \\'day\\':1} ==> \\'2025-01-01\\'\\ndef join_date(data):\\n    return \"{year}-{month:02}-{data:02}\".format(**data)\\njoin_date({\\'year\\':2000, \\'month\\':9, \\'day\\':9})',\n",
       "  '# {\\'year\\':2000, \\'month\\':1, \\'day\\':1} ==> \\'2025-01-01\\'\\ndef join_date(data):\\n    return \"{year}-{month:02}-{data:02}\".format(**data)\\njoin_date({\\'year\\':2000, \\'month\\':9, \\'day\\':9})',\n",
       "  '# {\\'year\\':2000, \\'month\\':1, \\'day\\':1} ==> \\'2025-01-01\\'\\ndef join_date(data):\\n    return \"{}-{:02}-{:02}\".format(data.get(\\'year\\'), data.get(\\'month\\'), data.get(\\'day\\'))\\njoin_date({\\'year\\':2000, \\'month\\':9, \\'day\\':9})',\n",
       "  '# {\\'year\\':2000, \\'month\\':1, \\'day\\':1} ==> \\'2025-01-01\\'\\ndef join_date(data):\\n    return \"{year}-{month:02}-{day:02}\".format(**data)\\njoin_date({\\'year\\':2000, \\'month\\':9, \\'day\\':9})',\n",
       "  '# {\\'year\\':2000, \\'month\\':1, \\'day\\':1} ==> {\\'birth: 2025-01-01\\'}\\ndef join_date(data):\\n    return {\\'birth\\': \"{year}-{month:02}-{day:02}\".format(**data)}\\njoin_date({\\'year\\':2000, \\'month\\':9, \\'day\\':9})',\n",
       "  '# {\\'name\\':hong, \\'year\\': 2000, month\\':1, \\'day\\':1} ==> {\\'name\\'= \\'hong\\', birth: 2025-01-01\\'}\\ndef members_preprocessing(nember):\\n    return {\\n        \\'name\\': member.get(\\'name\\'),\\n        \\'birth\\':\"{year}-{month:02}-{day:02}\".format(**nember)\\n    }\\nmembers_preprocessing({\\'name\\':\\'hong\\', \\'year\\':2000, \\'month\\':1, \\'day\\':})',\n",
       "  '# {\\'name\\':hong, \\'year\\': 2000, month\\':1, \\'day\\':1} ==> {\\'name\\'= \\'hong\\', birth: 2025-01-01\\'}\\ndef members_preprocessing(nember):\\n    return {\\n        \\'name\\': member.get(\\'name\\'),\\n        \\'birth\\':\"{year}-{month:02}-{day:02}\".format(**nember)\\n    }\\nmembers_preprocessing({\\'name\\':\\'hong\\', \\'year\\':2000, \\'month\\':1, \\'day\\':1})',\n",
       "  '# {\\'name\\':hong, \\'year\\': 2000, month\\':1, \\'day\\':1} ==> {\\'name\\'= \\'hong\\', birth: 2025-01-01\\'}\\ndef members_preprocessing(member):\\n    return {\\n        \\'name\\': member.get(\\'name\\'),\\n        \\'birth\\':\"{year}-{month:02}-{day:02}\".format(**member)\\n    }\\nmembers_preprocessing({\\'name\\':\\'hong\\', \\'year\\':2000, \\'month\\':1, \\'day\\':1})',\n",
       "  'list(map(lambda member: {\\n         \\'name\\': member.get(\\'name\\'),\\n        \\'birth\\': \"{year}-{month:02}-{data:02}\".format(**member)\\n    } members2))\\n    ',\n",
       "  'list(map(lambda member: {\\n        \\'name\\': member.get(\\'name\\'),\\n        \\'birth\\':\"{year}-{month:02}-{day:02}\".format(**member)\\n    }, members2))\\n    ',\n",
       "  'list_data =[1,2,3,4,5,6,7,8,9]\\ndef odd_chk(value):\\n    return value%2\\n#    if value%2:\\n#        reutrn True\\n#    else:\\n#        return False\\nfilter_template(lambda value : value%2!=0, list_data)',\n",
       "  '# 리스트 컴프리헨션\\n[value for value in list_data if value%2!=0]',\n",
       "  '# 예제: 다음 리스트에서 소수점 이하기 0인 수만 추출하시오(filter/릿그트컴프리헨숀)\\nL=-[1, 1.2, 1.5, 3.0, 10.5, 100, -2.0, -12.2]\\nlist(filter(lambda X : x%1==0, L))',\n",
       "  '# 예제: 다음 리스트에서 소수점 이하기 0인 수만 추출하시오(filter/릿그트컴프리헨숀)\\nL=[1, 1.2, 1.5, 3.0, 10.5, 100, -2.0, -12.2]\\nlist(filter(lambda X : x%1==0, L))',\n",
       "  'item for item in L if x%1==0',\n",
       "  'p=[10, 3, 6, 1]\\np.sort(reverse=Truse)\\np',\n",
       "  'p=[10, 3, 6, 1]\\np.sort(reverse=True)\\np',\n",
       "  \"# 무조건 0번째 item을 기준으로 오름차순 정렬\\npairs=[(2, 'two'), (1, 'one'), (3, 'tree'), (4, 'four')]\\npairs.sort(\\npairs\",\n",
       "  \"# 무조건 0번째 item을 기준으로 오름차순 정렬\\npairs=[(2, 'two'), (1, 'one'), (3, 'tree'), (4, 'four')]\\npairs.sort()\\npairs\",\n",
       "  '# 1번째  item 기준, 내림차순 정렬\\npairs.sort(key=lambda data:data[1])\\npairs',\n",
       "  '# 1번째  item 기준, 내림차순 정렬\\npairs.sort(key=lambda data:data[1]), revers = True)\\npairs',\n",
       "  '# 1번째  item 기준, 내림차순 정렬\\npairs.sort(key=lambda data:data[1]), revers=True)\\npairs',\n",
       "  '# 1번째  item 기준, 내림차순 정렬\\npairs.sort(key=lambda data:data[1]), reverse=T\\npairs',\n",
       "  '# 1번째  item 기준, 내림차순 정렬\\npairs.sort(key=lambda data:data[1]), reverse=True)\\npairs',\n",
       "  '# 합이 큰 순으로 정렬\\nnumber_2d=[[9,9], [1, 100], [10,1]]\\nnumber_2d.sort()\\nnumber_2d',\n",
       "  '# 0번째 itemdl 큰 순으로 정렬(오름차순)\\nnumber_2d=[[9,9], [1, 100], [10,1]]\\nnumber_2d.sort()\\nnumber_2d',\n",
       "  '# 0번째 itemdl 큰 순으로 정렬(오름차순)\\nnumber_2d=[[9,9], [1, 100], [10,1]]\\nnumber_2d.sort()\\nnumber_2d',\n",
       "  '# 0번째 itemdl 큰 순으로 정렬(오름차순)\\nnumber_2d=[[9,9], [1, 100], [10,200]]\\nnumber_2d.sort()\\nnumber_2d\\n#  합이 큰 순으로 정렬',\n",
       "  '# 1번째  item 기준, 내림차순 정렬\\npairs.sort(key=lambda data:data[1]), reverse=True\\npairs',\n",
       "  \"# 1번째  item 기준, 내림차순 정렬\\npairs.sort(key=lambda data:data[1]), reverse=True'\\npairs\",\n",
       "  '# 0번째 itemdl 큰 순으로 정렬(오름차순)\\nnumber_2d=[[9,9], [1, 100], [10,200, 2]]\\nnumber_2d.sort()\\nnumber_2d\\n#  합이 큰 순으로 정렬\\nnumber_2d.sort(key=)',\n",
       "  '# 0번째 itemdl 큰 순으로 정렬(오름차순)\\nnumber_2d=[[9,9], [1, 100], [10,200, 2]]\\nnumber_2d.sort()\\nnumber_2d\\n#  합이 큰 순으로 정렬\\nnumber_2d.sort()',\n",
       "  '# 0번째 itemdl 큰 순으로 정렬(오름차순)\\nnumber_2d=[[9,9], [1, 100], [10,200, 2]]\\nnumber_2d.sort()\\nnumber_2d\\n#  합이 큰 순으로 정렬\\nnumber_2d.sort(key=lambda items)',\n",
       "  '# 0번째 itemdl 큰 순으로 정렬(오름차순)\\nnumber_2d=[[9,9], [1, 100], [10,200, 2]]\\nnumber_2d.sort()\\nnumber_2d\\n#  합이 큰 순으로 정렬\\nnumber_2d.sort(key=lambda items:sum(items), reverse=True)',\n",
       "  '# 0번째 itemdl 큰 순으로 정렬(오름차순)\\nnumber_2d=[[9,9], [1, 100], [10,200, 2]]\\nnumber_2d.sort()\\nnumber_2d\\n#  합이 큰 순으로 정렬\\nnumber_2d.sort(key=lambda items:sum(items), reverse=True)\\nprint(number-2d)',\n",
       "  '# 0번째 itemdl 큰 순으로 정렬(오름차순)\\nnumber_2d=[[9,9], [1, 100], [10,200, 2]]\\nnumber_2d.sort()\\nnumber_2d\\n#  합이 큰 순으로 정렬\\nnumber_2d.sort(key=lambda items:sum(items), reverse=True)\\nprint(number_2d)',\n",
       "  \"students=[{'name':'홍', 'score:99'},\\n          {'name':'김', 'score:50'},\\n          {'name':'박', 'score:77'},\\n          {'scor':100},]\\nstudents.sort()\",\n",
       "  \"students=[{'name':'홍', 'score:99},\\n          {'name':'김', 'score:50},\\n          {'name':'박', 'score:77},\\n          {'scor':100},]\\nstudents.sort()\",\n",
       "  \"name_select=lambda data : data.get('score')\",\n",
       "  \"# students 를 name 순으로 정렬(ㄱㄴㄷ순)\\nstudents.sort(key=lambda data: data.get('name', '가'))\\nstudents\",\n",
       "  \"students=[{'name':'홍', 'score:99},\\n          {'name':'김', 'score:50},\\n          {'name':'박', 'score:77},\\n          {'score':100},]\\nstudents.sort()\",\n",
       "  \"students=[{'name':'홍', 'score':99},\\n          {'name':'김', 'score':50},\\n          {'name':'박', 'score':77},\\n          {'score':100},]\\nstudents.sort()\",\n",
       "  \"name_select=lambda data : data.get('name')\\nname_select({'name': '홍', 'score': 99, '별명': '박'})\",\n",
       "  \"# students 를 name 순으로 정렬(ㄱㄴㄷ순)\\nstudents.sort(key=lambda data: data.get('name', '가'))\\nstudents\",\n",
       "  \"# students 를 name 순으로 정렬(ㄱㄴㄷ순)\\nstudents.sort(key=lambda data: data.get('name'))\\nstudents\",\n",
       "  \"# students 를 name 순으로 정렬(ㄱㄴㄷ순)\\nstudents.sort(key=lambda data: data.get('name','힣'))\\nstudents\",\n",
       "  \"# students 를 name 순으로 정렬(ㄱㄴㄷ순)\\nstudents.sort(key=lambda data: data.get('name','가'))\\nstudents\",\n",
       "  \"# students를 score 큰  순 정렬\\nstudents.sort(key=lambda data:data.get('score', 0), reverse=True)\\nstudents\",\n",
       "  \"books = \\\\\\n[{'no':1, 'title':’더트릭컬', 'writer':＇폴빠＇,＇price’:’19,800'},\\n{'no':2, 'title’:’흔한남매', 'writer’:’백난도', 'price’:’15,120'},\\n{'no':3, 'title':'단 한 번의 삶', 'writer':'김영하', 'price':'15,120'},\\n{'no':4, 'title':'가격잘못', 'writer':'홍길동', 'price':'ㅁ'},\\n{'no':5, 'title':'가격이숫자', 'writer':'백난도', 'price':30200},\\n{'no':6, 'title':'가격이없음', 'writer':'이길동’},] 정렬\",\n",
       "  \"books = \\\\\\n[{'no':1, 'title':’더트릭컬', 'writer':＇폴빠＇,＇price’:’19,800'},\\n{'no':2, 'title’:’흔한남매', 'writer’:’백난도', 'price’:’15,120'},\\n{'no':3, 'title':'단 한 번의 삶', 'writer':'김영하', 'price':'15,120'},\\n{'no':4, 'title':'가격잘못', 'writer':'홍길동', 'price':'ㅁ'},\\n{'no':5, 'title':'가격이숫자', 'writer':'백난도', 'price':30200},\\n{'no':6, 'title':'가격이없음', 'writer':'이길동’},]\",\n",
       "  \"books = \\\\\\n[{'no':2, 'title':’더트릭컬', 'writer':＇폴빠＇,＇price’:’19,800'},\\n{'no':1, 'title’:’흔한남매', 'writer’:’백난도', 'price’:’15,120'},\\n{'no':3, 'title':'단 한 번의 삶', 'writer':'김영하', 'price':'15,120'},\\n{'no':4, 'title':'가격잘못', 'writer':'홍길동', 'price':'ㅁ'},\\n{'no':5, 'title':'가격이숫자', 'writer':'백난도', 'price':30200},\\n{'no':6, 'title':'가격이없음', 'writer':'이길동’},]\",\n",
       "  \"# no 기준으로 sort\\nbooks.sort(key=lambda book:book['no'])\\nbooks\",\n",
       "  \"# no 기준으로 sort\\nbooks.sort(key=lambda book:book['tltle'])\\nbooks\",\n",
       "  \"# no 기준으로 sort\\nbooks.sort(key=lambda book:book['price'])\\nbooks\",\n",
       "  \"# no 기준으로 sort\\nbooks.sort(key=lambda book:book['title'])\\nbooks\",\n",
       "  \"# no 기준으로 sort\\nbooks.sort(key=lambda book:book.get['price'])\\nbooks\",\n",
       "  \"# no 기준으로 sort\\nbooks.sort(key=lambda book:book.get['title'])\\nbooks\",\n",
       "  \"# price 기준으로 sort\\nbooks.sort(key=lambda book:book.get['title'])\\nbooks\",\n",
       "  \"# no 기준으로 sort\\nbooks.sort(key=lambda book:book.get['no'])\\nbooks\",\n",
       "  \"# title 기준으로 sort\\nbooks.sort(key=lambda book:book.get['title'])\\nbooks\",\n",
       "  \"# price 기준으로 sort\\nbooks.sort(key=lambda book:book.get['price'])\\nbooks\",\n",
       "  \"# price 기준으로 sort\\nbooks.sort(key=lambda book:book.get['price', o)])\\nbooks\",\n",
       "  \"# price 기준으로 sort\\nbooks.sort(key=lambda book:book.get['price', o))\\nbooks\",\n",
       "  \"# price 기준으로 sort\\nbooks.sort(key=lambda book:book.get('price', o))\\nbooks\",\n",
       "  \"# 30200=>30200, '12,000'=>12000, '5000'=>5000, 'ㅁ'=>0, None =>0\\ndef parse_int(price):\\n    print(type(pruce))\\nparse_int('5000')\",\n",
       "  \"# 30200=>30200, '12,000'=>12000, '5000'=>5000, 'ㅁ'=>0, None =>0\\ndef parse_int(price):\\n    print(type(price, str) and price.replace(',',''),.isdigit():\\n          \\nparse_int('5000')\",\n",
       "  \"# 30200=>30200, '12,000'=>12000, '5000'=>5000, 'ㅁ'=>0, None =>0\\ndef parse_int(price):\\n    if isinstance(price, str) and price.replace(',',''),.isdigit():\\n        return int(price.replace)(',','')) \\nparse_int('5000')\",\n",
       "  \"# 30200=>30200, '12,000'=>12000, '5000'=>5000, 'ㅁ'=>0, None =>0\\ndef parse_int(price):\\n    if isinstance(price, str) and price.replace(',',''),.isdigit():\\n        return int(price.replace)(',','')) \\nparse_int('ㅁ')\",\n",
       "  \"# 30200=>30200, '12,000'=>12000, '5000'=>5000, 'ㅁ'=>0, None =>0\\ndef parse_int(price):\\n    if isinstance(price, str) and price.replace(',',''),.isdigit():\\n        return int(price.replace)(',','')) \\n    elif isinstance(price, int):\\n        return price\\nprint(parse_int('12000'), parse_int('30200'), parse_int('ㅁ'), parse_int('None')\",\n",
       "  \"# 30200=>30200, '12000'=>12000, '5000'=>5000, 'ㅁ'=>0, None =>0\\ndef parse_int(price):\\n    if isinstance(price, str) and price.replace(',','').isdigit():\\n        return int(price.replace(',','')) \\n    elif isinstance(price, int):\\n        return price\\nprint(parse_int('12000'), parse_int('30200'), parse_int('ㅁ'), parse_int('None')\",\n",
       "  \"# 30200=>30200, '12000'=>12000, '5000'=>5000, 'ㅁ'=>0, None =>0\\ndef parse_int(price):\\n    if isinstance(price, str) and price.replace(',','').isdigit():\\n        return int(price.replace(',','')) \\n    elif isinstance(price, int):\\n        return price\\nprint(parse_int('12000'), parse_int('30200'), parse_int('ㅁ'), parse_int('None') )\",\n",
       "  \"# 30200=>30200, '12000'=>12000, '5000'=>5000, 'ㅁ'=>0, None =>0\\ndef parse_int(price):\\n    if isinstance(price, str) and price.replace(',','').isdigit():\\n        return int(price.replace(',','')) \\n    elif isinstance(price, int):\\n        return price\\nprint(parse_int('12000'), parse_int('30200'), parse_int('ㅁ'), parse_int('None') )\",\n",
       "  \"# 30200=>30200, '12000'=>12000, '5000'=>5000, 'ㅁ'=>0, None =>0\\ndef parse_int(price):\\n    if isinstance(price, str) and price.replace(',','').isdigit():\\n        return int(price.replace(',','')) \\n    elif isinstance(price, int):\\n        return price\\n    else:\\n        return 0\\nprint(parse_int('12000'), parse_int('30200'), parse_int('ㅁ'), parse_int('None') )\",\n",
       "  \"# 30200=>30200, '12000'=>12000, '5000'=>5000, 'ㅁ'=>0, None =>0\\ndef parse_int(price):\\n    if isinstance(price, str) and price.replace(',','').isdigit():\\n        return int(price.replace(',','')) \\n    elif isinstance(price, int):\\n        return price\\n    else:\\n        return 0\\nparse_int=lambda price:\\n          int(price.replace(',',''))\\n                if isinstance(price,str) and price,replace(',','').isdigit() else \\\\\\n          price if isinstance(price, int) else \\\\\\n          ㅇ\\nprint(parse_int('12000'), parse_int('30200'), parse_int('ㅁ'), parse_int('None') )\",\n",
       "  \"# 30200=>30200, '12000'=>12000, '5000'=>5000, 'ㅁ'=>0, None =>0\\ndef parse_int(price):\\n    if isinstance(price, str) and price.replace(',','').isdigit():\\n        return int(price.replace(',','')) \\n    elif isinstance(price, int):\\n        return price\\n    else:\\n        return 0\\n    \\nparse_int=lambda price:\\n          int(price.replace(',',''))\\n                if isinstance(price,str) and price,replace(',','').isdigit() else \\\\\\n          price if isinstance(price, int) else \\\\\\n          ㅇ\\nprint(parse_int('12000'), parse_int('30200'), parse_int('ㅁ'), parse_int('None') )\",\n",
       "  \"# 30200=>30200, '12000'=>12000, '5000'=>5000, 'ㅁ'=>0, None =>0\\ndef parse_int(price):\\n    if isinstance(price, str) and price.replace(',','').isdigit():\\n        return int(price.replace(',','')) \\n    elif isinstance(price, int):\\n        return price\\n    else:\\n        return 0\\n    \\nparse_int=lambda price: \\\\\\n          int(price.replace(',',''))\\n                if isinstance(price,str) and price,replace(',','').isdigit() else \\\\\\n          price if isinstance(price, int) else \\\\\\n          ㅇ\\nprint(parse_int('12000'), parse_int('30200'), parse_int('ㅁ'), parse_int('None') )\",\n",
       "  \"# 30200=>30200, '12000'=>12000, '5000'=>5000, 'ㅁ'=>0, None =>0\\ndef parse_int(price):\\n    if isinstance(price, str) and price.replace(',','').isdigit():\\n        return int(price.replace(',','')) \\n    elif isinstance(price, int):\\n        return price\\n    else:\\n        return 0\\n    \\nparse_int=lambda price: \\\\\\n          int(price.replace(',',''))\\n                if isinstance(price, str) and price,replace(',','').isdigit() else \\\\\\n          price if isinstance(price, int) else \\\\\\n          0\\nprint(parse_int('12000'), parse_int('30200'), parse_int('ㅁ'), parse_int('None') )\",\n",
       "  \"# {'no':5, 'title':'가격이숫자', 'writer':'백난도', 'price':12,000}=>12000\\nparse_int=lambda book: \\\\\\n          int(book.get('price').replace(',','')) \\\\\\n                if isinstance(book.get('price', str) and \\\\price,replace(',','').isdigit() else \\\\\\n          price if isinstance(price, int) else \\\\\\n          0\",\n",
       "  \"# {'no':5, 'title':'가격이숫자', 'writer':'백난도', 'price':12,000}=>12000\\nparse_int=lambda book: \\\\\\n          int(book.get('price').replace(',','')) \\\\\\n                if isinstance(book.get('price', str) and \\\\\\n                              book.get('price',replace(',','').isdigit() else \\\\\\n          book.get('price' if isinstance(book.get('price'), int) else \\\\\\n          0\\n         \\nparse_int{'no':5, 'title':'가격이숫자', 'writer':'백난도', 'price': 'ㅁ''})\",\n",
       "  \"# {'no':5, 'title':'가격이숫자', 'writer':'백난도', 'price':12,000}=>12000\\nparse_int=lambda book: \\\\\\n          int(book.get('price').replace(',','')) \\\\\\n                if isinstance(book.get('price', str) and \\\\\\n                              book.get('price',replace(',','').isdigit() else \\\\\\n          book.get('price' if isinstance(book.get('price'), int) else \\\\\\n          0\\n         \\nparse_int{'no': 5, 'title':'가격이숫자', 'writer':'백난도', 'price': 'ㅁ''})\",\n",
       "  \"# {'no':5, 'title':'가격이숫자', 'writer':'백난도', 'price':12,000}=>12000\\nparse_int=lambda book: \\\\\\n          int(book.get('price').replace(',','')) \\\\\\n                if isinstance(book.get('price', str) and \\\\\\n                              book.get('price',replace(',','').isdigit() else \\\\\\n          book.get('price' if isinstance(book.get('price'), int) else \\\\\\n          0\\n         \\nparse_int({'no': 5, 'title':'가격이숫자', 'writer':'백난도', 'price': 'ㅁ''})\",\n",
       "  \"# {'no':5, 'title':'가격이숫자', 'writer':'백난도', 'price':12,000}=>12000\\nparse_int=lambda book: \\\\\\n          int(book.get('price').replace(',','')) \\\\\\n                if isinstance(book.get('price', str) and \\\\\\n                              book.get('price',replace(',','').isdigit() else \\\\\\n          book.get('price' if isinstance(book.get('price'), int) else \\\\\\n          0\\n         \\nparse_int({'no': 5, 'title': '가격이숫자', 'writer':'백난도', 'price': 'ㅁ'})\",\n",
       "  \"# {'no':5, 'title':'가격이숫자', 'writer':'백난도', 'price':12,000}=>12000\\nparse_int=lambda book: \\\\\\n          int(book.get('price').replace(',','')) \\\\\\n                if isinstance(book.get('price', str) and \\\\\\n                              book.get('price',replace(',','').isdigit() else \\\\\\n          book.get('price' if isinstance(book.get('price'), int) else \\\\\\n          0\\n         \\nparse_int({'no': 5, 'title': '가격이숫자', 'writer':'백난도', 'price': 'ㅁ'})\",\n",
       "  \"copyBooks=books.copy() # 복제\\ncopyBooks.sort(key=lambda book: \\\\\\n          int(book.get('price').replace(',','')) \\\\\\n                if isinstance(book.get('price', str) and \\\\\\n                              book.get('price',replace(',','').isdigit() else \\\\\\n          book.get('price' if isinstance(book.get('price'), int) else \\\\\\n          0,\\n         reverse=Truse)\\ncopyBooks\",\n",
       "  \"# {'no':5, 'title':'가격이숫자', 'writer':'백난도', 'price':12,000}=>12000\\nparse_int=lambda book: \\\\\\n          int(book.get('price').replace(',','')) \\\\\\n                if isinstance(book.get('price', str) and \\\\\\n                              book.get('price',replace(',','').isdigit() else \\\\\\n          book.get('price' if isinstance(book.get('price'), int) else \\\\\\n          0\\n         \\nparse_int({'no': 5, 'title': '가격이숫자', 'writer':'백난도', 'price': 'ㅁ'})\",\n",
       "  \"# {'no':5, 'title':'가격이숫자', 'writer':'백난도', 'price':12,000}=>12000\\nparse_int=lambda book: \\\\\\n          int(book.get('price').replace(',','')) \\\\\\n                if isinstance(book.get('price', str) and \\\\\\n                              book.get('price',replace(',','').isdigit() else \\\\\\n          book.get('price') if isinstance(book.get('price'), int) else \\\\\\n          0\\n         \\nparse_int({'no': 5, 'title': '가격이숫자', 'writer':'백난도', 'price': 'ㅁ'})\",\n",
       "  \"# {'no':5, 'title':'가격이숫자', 'writer':'백난도', 'price':12,000}=>12000\\nparse_int=lambda book: \\\\\\n          int(book.get('price').replace(',','')) \\\\\\n                if isinstance(book.get('price'), str) and \\\\\\n                              book.get('price'),replace(',','').isdigit() else \\\\\\n          book.get('price') if isinstance(book.get('price'), int) else \\\\\\n          0\\n         \\nparse_int({'no': 5, 'title': '가격이숫자', 'writer':'백난도', 'price': 'ㅁ'})\",\n",
       "  \"# {'no':5, 'title':'가격이숫자', 'writer':'백난도', 'price':12,000}=>12000\\nparse_int=lambda book: \\\\\\n          int(book.get('price').replace(',','')) \\\\\\n                if isinstance(book.get('price'), str) and \\\\\\n                              book.get('price').replace(',','').isdigit() else \\\\\\n          book.get('price') if isinstance(book.get('price'), int) else \\\\\\n          0\\n         \\nparse_int({'no': 5, 'title': '가격이숫자', 'writer':'백난도', 'price': 'ㅁ'})\",\n",
       "  \"copyBooks=books.copy() # 복제\\ncopyBooks.sort(key=lambda book: \\\\\\n          int(book.get('price').replace(',','')) \\\\\\n                if isinstance(book.get('price'), str) and \\\\\\n                              book.get('price').replace(',','').isdigit() else \\\\\\n          book.get('price') if isinstance(book.get('price'), int) else \\\\\\n          0,\\n         reverse=Truse)\\ncopyBooks\",\n",
       "  \"books =\\n[{'no':1, 'title':’더트릭컬', 'writer':＇폴빠＇,＇price’:’19,800'},\\n{'no':2, 'title’:’흔한남매', 'writer’:’백난도', 'price’:’15,120'},\\n{'no':3, 'title':'단 한 번의 삶', 'writer':'김영하', 'price':'15,120'},\\n{'no':4, 'title':'가격잘못', 'writer':'홍길동', 'price':'ㅁ'},\\n{'no':5, 'title':'가격이숫자', 'writer':'백난도', 'price':30200},\\n{'no':6, 'title':'가격이없음', 'writer':'이길동’},]\",\n",
       "  \"books = \\\\\\n   [{'no':1, 'title':'더트릭컬', 'writer':'폴빠','price':'19,800'},\\n    {'no':2, 'title':'흔한남매', 'writer':'백난도', 'price':'15,120'},\\n    {'no':3, 'title':'단 한 번의 삶', 'writer':'김영하', 'price':'15,120'},\\n    {'no':4, 'title':'가격잘못', 'writer':'홍길동', 'price':'ㅁ'},\\n    {'no':5, 'title':'가격이숫자', 'writer':'백난도', 'price':30200},\\n    {'no':6, 'title':'가격이없음', 'writer':'이길동'},] \",\n",
       "  \"# no 기준으로 sort\\nbooks.sort(key=lambda book:book.get['no'])\\nbooks\",\n",
       "  \"# title 기준으로 sort\\nbooks.sort(key=lambda book:book.get['title'])\\nbooks\",\n",
       "  \"# price 기준으로 sort\\nbooks.sort(key=lambda book:book.get['price'])\\nbooks\",\n",
       "  \"# price 기준으로 sort\\nbooks.sort(key=lambda book:book.get('price', o))\\nbooks\",\n",
       "  \"# 30200=>30200, '12,000'=>12000, '5000'=>5000, 'ㅁ'=>0, None =>0\\ndef parse_int(price):\\n    print(type(pruce))\\nparse_int('5000')\",\n",
       "  \"# {'no':5, 'title':'가격이숫자', 'writer':'백난도', 'price':12,000}=>12000\",\n",
       "  \"# price 기준으로 sort\\nbooks.sort(key=lambda book:book.get('price', 0))\\nbooks\",\n",
       "  \"# 30200=>30200, '12,000'=>12000, '5000'=>5000, 'ㅁ'=>0, None =>0\\ndef parse_int(price):\\n    print(type(pruce))\\nparse_int('5000')\",\n",
       "  \"# 30200=>30200, '12,000'=>12000, '5000'=>5000, 'ㅁ'=>0, None =>0\\ndef parse_int(price):\\n    print(type(price))\\nparse_int('5000')\",\n",
       "  \"# 30200=>30200, '12,000'=>12000, '5000'=>5000, 'ㅁ'=>0, None =>0\\ndef parse_int(price):\\n    print(type(price, str) and price.replace(',','').isdigit():\\n          \\nparse_int('5000')\",\n",
       "  \"# 30200=>30200, '12,000'=>12000, '5000'=>5000, 'ㅁ'=>0, None =>0\\ndef parse_int(price):\\n    print(type(price, str) and price.replace(',','').isdigit())\\n          \\nparse_int('5000')\",\n",
       "  \"# 30200=>30200, '12,000'=>12000, '5000'=>5000, 'ㅁ'=>0, None =>0\\ndef parse_int(price):\\n    if isinstance(price, str) and price.replace(',',''),.isdigit():\\n        return int(price.replace)(',','')) \\nparse_int('5000')\",\n",
       "  \"# 30200=>30200, '12,000'=>12000, '5000'=>5000, 'ㅁ'=>0, None =>0\\ndef parse_int(price):\\n    if isinstance(price, str) and price.replace(',','').isdigit():\\n        return int(price.replace(',','')) \\nparse_int('5000')\",\n",
       "  \"# 30200=>30200, '12,000'=>12000, '5000'=>5000, 'ㅁ'=>0, None =>0\\ndef parse_int(price):\\n    if isinstance(price, str) and price.replace(',',''),.isdigit():\\n        return int(price.replace(',','')) \\nparse_int('ㅁ')\",\n",
       "  \"# 30200=>30200, '12,000'=>12000, '5000'=>5000, 'ㅁ'=>0, None =>0\\ndef parse_int(price):\\n    if isinstance(price, str) and price.replace(',','').isdigit():\\n        return int(price.replace(',','')) \\nparse_int('ㅁ')\",\n",
       "  \"# 30200=>30200, '12000'=>12000, '5000'=>5000, 'ㅁ'=>0, None =>0\\ndef parse_int(price):\\n    if isinstance(price, str) and price.replace(',','').isdigit():\\n        return int(price.replace(',','')) \\n    elif isinstance(price, int):\\n        return price\\n    else:\\n        return 0\\nprint(parse_int('12000'), parse_int('30200'), parse_int('ㅁ'), parse_int('None') )\",\n",
       "  \"# 30200=>30200, '12000'=>12000, '5000'=>5000, 'ㅁ'=>0, None =>0\\ndef parse_int(price):\\n    if isinstance(price, str) and price.replace(',','').isdigit():\\n        return int(price.replace(',','')) \\n    elif isinstance(price, int):\\n        return price\\n    else:\\n        return 0\\n    \\nparse_int=lambda price: \\\\\\n          int(price.replace(',',''))\\n                if isinstance(price, str) and price,replace(',','').isdigit() else \\\\\\n          price if isinstance(price, int) else \\\\\\n          0\\nprint(parse_int('12000'), parse_int('30200'), parse_int('ㅁ'), parse_int('None') )\",\n",
       "  \"# 30200=>30200, '12000'=>12000, '5000'=>5000, 'ㅁ'=>0, None =>0\\ndef parse_int(price):\\n    if isinstance(price, str) and price.replace(',','').isdigit():\\n        return int(price.replace(',','')) \\n    elif isinstance(price, int):\\n        return price\\n    else:\\n        return 0\\nprint(parse_int('12000'), parse_int('30200'), parse_int('ㅁ'), parse_int('None') )\",\n",
       "  \"# 30200=>30200, '12000'=>12000, '5000'=>5000, 'ㅁ'=>0, None =>0\\ndef parse_int(price):\\n    if isinstance(price, str) and price.replace(',','').isdigit():\\n        return int(price.replace(',','')) \\n    elif isinstance(price, int):\\n        return price\\n    else:\\n        return 0\\n    \\nparse_int=lambda price : \\\\\\n          int(price.replace(',',''))\\n                if isinstance(price, str) and price.replace(',','').isdigit() else \\\\\\n          price if isinstance(price, int) else \\\\\\n          0\\nprint(parse_int('12000'), parse_int('30200'), parse_int('ㅁ'), parse_int('None') )\",\n",
       "  \"# 30200=>30200, '12000'=>12000, '5000'=>5000, 'ㅁ'=>0, None =>0\\ndef parse_int(price):\\n    if isinstance(price, str) and price.replace(',','').isdigit():\\n        return int(price.replace(',','')) \\n    elif isinstance(price, int):\\n        return price\\n    else:\\n        return 0\\n    \\nparse_int=lambda price : \\\\\\n          int(price.replace(',','')) \\\\\\n                if isinstance(price, str) and price.replace(',','').isdigit() else \\\\\\n          price if isinstance(price, int) else \\\\\\n          0\\nprint(parse_int('12000'), parse_int('30200'), parse_int('ㅁ'), parse_int('None') )\",\n",
       "  \"# {'no':5, 'title':'가격이숫자', 'writer':'백난도', 'price':12,000}=>12000\\nparse_int=lambda book: \\\\\\n          int(book.get('price').replace(',','')) \\\\\\n                if isinstance(book.get('price'), str) and \\\\\\n                              book.get('price').replace(',','').isdigit() else \\\\\\n          book.get('price') if isinstance(book.get('price'), int) else \\\\\\n          0\\n         \\nparse_int({'no': 5, 'title': '가격이숫자', 'writer':'백난도', 'price': 'ㅁ'})\",\n",
       "  \"# {'no':5, 'title':'가격이숫자', 'writer':'백난도', 'price':12,000}=>12000\\nparse_int=lambda book: \\\\\\n          int(book.get('price').replace(',','')) \\\\\\n                if isinstance(book.get('price'), str) and \\\\\\n                              book.get('price').replace(',','').isdigit() else \\\\\\n          book.get('price') if isinstance(book.get('price'), int) else \\\\\\n          0\\n         \\nparse_int({'no': 5, 'title': '가격이숫자', 'writer':'백난도', 'price': 'ㅁ'})\",\n",
       "  \"copyBooks=books.copy() # 복제\\ncopyBooks.sort(key=lambda book: \\\\\\n          int(book.get('price').replace(',','')) \\\\\\n                if isinstance(book.get('price'), str) and \\\\\\n                              book.get('price').replace(',','').isdigit() else \\\\\\n          book.get('price') if isinstance(book.get('price'), int) else \\\\\\n          0,\\n         reverse=Truse)\\ncopyBooks\",\n",
       "  \"copyBooks=books.copy() # 복제\\ncopyBooks.sort(key=lambda book: \\\\\\n          int(book.get('price').replace(',','')) \\\\\\n                if isinstance(book.get('price'), str) and \\\\\\n                              book.get('price').replace(',','').isdigit() else \\\\\\n          book.get('price') if isinstance(book.get('price'), int) else \\\\\\n          0,\\n         reverse=True)\\ncopyBooks\",\n",
       "  'globals(\"\") # 전역변수 리스트',\n",
       "  'globals() # 전역변수 리스트'],\n",
       " 'Out': {1: 8,\n",
       "  8: ('홀수', '짝수'),\n",
       "  15: ('홀수', '짝수'),\n",
       "  16: (4, 4),\n",
       "  17: (4, 4),\n",
       "  20: (1000, 'negative'),\n",
       "  27: ('재시험', '유효하지 않음'),\n",
       "  28: ('D학점', '유효하지 않음'),\n",
       "  36: (-1, 2),\n",
       "  37: [25, 15, 100, 4.0],\n",
       "  38: [64, 82],\n",
       "  39: 53,\n",
       "  41: 6,\n",
       "  42: [10, 6, 16, 4.0, 64, 64],\n",
       "  53: [2, 4, 6, 8, 10, 12, 14, 16, 18],\n",
       "  54: [2, 4, 6, 8, 10, 12, 14, 16, 18],\n",
       "  56: [4, 4, 4, 4, 4, 4, 4, 4, 4],\n",
       "  57: [2, 4, 6, 8, 10, 12, 14, 16, 18],\n",
       "  58: <map at 0x239df076770>,\n",
       "  59: [2, 4, 6, 8, 10, 12, 14, 16, 18],\n",
       "  87: {'year': 2025, 'month': 1, 'day': 1},\n",
       "  91: [{'name': '홍길동', 'year': 2000, 'month': 1, 'day': 1},\n",
       "   {'name': '신길동', 'year': 1995, 'month': 12, 'day': 18}],\n",
       "  92: [{'name': '홍길동', 'birth': '2000-01-01'},\n",
       "   {'name': '신길동', 'birth': '1995-12-18'}],\n",
       "  98: '2000-1-1',\n",
       "  99: '2000-9-9',\n",
       "  100: '2000-09-9',\n",
       "  101: '2000-09-09',\n",
       "  115: '2000-09-09',\n",
       "  116: '2000-09-09',\n",
       "  117: {'birth': '2000-09-09'},\n",
       "  120: {'name': 'hong', 'birth': '2000-01-01'},\n",
       "  122: [{'name': '홍길동', 'birth': '2000-01-01'},\n",
       "   {'name': '신길동', 'birth': '1995-12-18'}],\n",
       "  124: [1, 3, 5, 7, 9],\n",
       "  129: [10, 6, 3, 1],\n",
       "  131: [(4, 'four'), (1, 'one'), (3, 'tree'), (2, 'two')],\n",
       "  132: [(4, 'four'), (1, 'one'), (3, 'tree'), (2, 'two')],\n",
       "  137: [[1, 100], [9, 9], [10, 1]],\n",
       "  138: [[1, 100], [9, 9], [10, 1]],\n",
       "  139: [[1, 100], [9, 9], [10, 1]],\n",
       "  140: [[1, 100], [9, 9], [10, 200]],\n",
       "  155: '홍',\n",
       "  156: [{'score': 100},\n",
       "   {'name': '홍', 'score': 99},\n",
       "   {'name': '박', 'score': 77},\n",
       "   {'name': '김', 'score': 50}],\n",
       "  158: [{'score': 100},\n",
       "   {'name': '홍', 'score': 99},\n",
       "   {'name': '박', 'score': 77},\n",
       "   {'name': '김', 'score': 50}],\n",
       "  159: [{'score': 100},\n",
       "   {'name': '홍', 'score': 99},\n",
       "   {'name': '박', 'score': 77},\n",
       "   {'name': '김', 'score': 50}],\n",
       "  160: [{'score': 100},\n",
       "   {'name': '홍', 'score': 99},\n",
       "   {'name': '박', 'score': 77},\n",
       "   {'name': '김', 'score': 50}],\n",
       "  200: 0,\n",
       "  216: 5000,\n",
       "  224: 0,\n",
       "  225: 0,\n",
       "  227: [{'no': 5, 'title': '가격이숫자', 'writer': '백난도', 'price': 30200},\n",
       "   {'no': 1, 'title': '더트릭컬', 'writer': '폴빠', 'price': '19,800'},\n",
       "   {'no': 2, 'title': '흔한남매', 'writer': '백난도', 'price': '15,120'},\n",
       "   {'no': 3, 'title': '단 한 번의 삶', 'writer': '김영하', 'price': '15,120'},\n",
       "   {'no': 4, 'title': '가격잘못', 'writer': '홍길동', 'price': 'ㅁ'},\n",
       "   {'no': 6, 'title': '가격이없음', 'writer': '이길동'}]},\n",
       " 'get_ipython': <bound method InteractiveShell.get_ipython of <ipykernel.zmqshell.ZMQInteractiveShell object at 0x00000239DC343730>>,\n",
       " 'exit': <IPython.core.autocall.ZMQExitAutocall at 0x239dc34fee0>,\n",
       " 'quit': <IPython.core.autocall.ZMQExitAutocall at 0x239dc34fee0>,\n",
       " 'open': <function io.open(file, mode='r', buffering=-1, encoding=None, errors=None, newline=None, closefd=True, opener=None)>,\n",
       " '_': [{'no': 5, 'title': '가격이숫자', 'writer': '백난도', 'price': 30200},\n",
       "  {'no': 1, 'title': '더트릭컬', 'writer': '폴빠', 'price': '19,800'},\n",
       "  {'no': 2, 'title': '흔한남매', 'writer': '백난도', 'price': '15,120'},\n",
       "  {'no': 3, 'title': '단 한 번의 삶', 'writer': '김영하', 'price': '15,120'},\n",
       "  {'no': 4, 'title': '가격잘못', 'writer': '홍길동', 'price': 'ㅁ'},\n",
       "  {'no': 6, 'title': '가격이없음', 'writer': '이길동'}],\n",
       " '__': 0,\n",
       " '___': 0,\n",
       " '_i': 'globals(\"\") # 전역변수 리스트',\n",
       " '_ii': \"copyBooks=books.copy() # 복제\\ncopyBooks.sort(key=lambda book: \\\\\\n          int(book.get('price').replace(',','')) \\\\\\n                if isinstance(book.get('price'), str) and \\\\\\n                              book.get('price').replace(',','').isdigit() else \\\\\\n          book.get('price') if isinstance(book.get('price'), int) else \\\\\\n          0,\\n         reverse=True)\\ncopyBooks\",\n",
       " '_iii': \"copyBooks=books.copy() # 복제\\ncopyBooks.sort(key=lambda book: \\\\\\n          int(book.get('price').replace(',','')) \\\\\\n                if isinstance(book.get('price'), str) and \\\\\\n                              book.get('price').replace(',','').isdigit() else \\\\\\n          book.get('price') if isinstance(book.get('price'), int) else \\\\\\n          0,\\n         reverse=Truse)\\ncopyBooks\",\n",
       " '_i1': 'def add(a, b):\\n    return a+b\\nadd(3, 5)',\n",
       " 'add': <function __main__.<lambda>(a, b)>,\n",
       " '_1': 8,\n",
       " '_i2': 'def add(a, b):\\n    return a+b\\nprint(add(3, 5))',\n",
       " '_i3': 'def add(a, b):\\n    return a+b\\nprint(add(3, 5))\\nprint(type(add))',\n",
       " '_i4': 'add2 = lambda a,, b :  a + b\\nprint(add(3, 5))\\nprint(type(add))',\n",
       " '_i5': 'def add(a, b):\\n    return a+b\\nprint(add2(3, 5))\\nprint(type(add2))',\n",
       " '_i6': 'add2 = lambda a,, b :  a + b\\nprint(add2(3, 5))\\nprint(type(add2))',\n",
       " '_i7': '# ex1.  매개변수로 돌어온 값이 짝수인지 return 함수를 람다식으로 만들어보세요.\\ndef even_odd_chk(num):\\n    if num%2:\\n        result = \"홀수\"\\n    else:\\n        result = \"짝수\"\\n    return result',\n",
       " 'even_odd_chk': <function __main__.even_odd_chk(num)>,\n",
       " '_i8': '# ex1.  매개변수로 돌어온 값이 짝수인지 return 함수를 람다식으로 만들어보세요.\\ndef even_odd_chk(num):\\n    if num%2:\\n        result = \"홀수\"\\n    else:\\n        result = \"짝수\"\\n    return result\\neven_odd_chk(5), even_odd_chk(-4) ',\n",
       " '_8': ('홀수', '짝수'),\n",
       " '_i9': '# ex1.  매개변수로 돌어온 값이 짝수인지 return 함수를 람다식으로 만들어보세요.\\n# def even_odd_chk(num):\\n#    if num%2:\\n#        result = \"홀수\"\\n#    else:\\n#        result = \"짝수\"\\n   result = \"짝수\" if num%2 else \"짝수\"\\neven_odd_chk = lambda num : \"홀수\" if num%2 else \"짝수\"\\neven_odd_chk(5), even_odd_chk(-4) ',\n",
       " '_i10': '# ex1.  매개변수로 돌어온 값이 짝수인지 return 함수를 람다식으로 만들어보세요.\\n# def even_odd_chk(num):\\n#    if num%2:\\n#        result = \"홀수\"\\n#    else:\\n#        result = \"짝수\"\\n   result = \"짝수\" if num%2 else \"짝수\"\\neven_odd_chk1 = lambda num : \"홀수\" if num%2 else \"짝수\"\\neven_odd_chk(5), even_odd_chk(-4) ',\n",
       " '_i11': '# ex1.  매개변수로 돌어온 값이 짝수인지 return 함수를 람다식으로 만들어보세요.\\n# def even_odd_chk(num):\\n#    if num%2:\\n#        result = \"홀수\"\\n#    else:\\n#        result = \"짝수\"\\n   result \"짝수\" if num%2 else \"짝수\"\\neven_odd_chk1 = lambda num : \"홀수\" if num%2 else \"짝수\"\\neven_odd_chk(5), even_odd_chk(-4) ',\n",
       " '_i12': '# ex1.  매개변수로 돌어온 값이 짝수인지 return 함수를 람다식으로 만들어보세요.\\n# def even_odd_chk(num):\\n#    if num%2:\\n#        result = \"홀수\"\\n#    else:\\n#        result = \"짝수\"\\n     result \"짝수\" if num%2 else \"짝수\"\\neven_odd_chk1 = lambda num : \"홀수\" if num%2 else \"짝수\"\\neven_odd_chk(5), even_odd_chk(-4) ',\n",
       " '_i13': '# ex1.  매개변수로 돌어온 값이 짝수인지 return 함수를 람다식으로 만들어보세요.\\n# def even_odd_chk(num):\\n#    if num%2:\\n#        result = \"홀수\"\\n#    else:\\n#        result = \"짝수\"\\n     return \"짝수\" if num%2 else \"짝수\"\\neven_odd_chk1 = lambda num : \"홀수\" if num%2 else \"짝수\"\\neven_odd_chk(5), even_odd_chk(-4) ',\n",
       " '_i14': '# ex1.  매개변수로 돌어온 값이 짝수인지 return 함수를 람다식으로 만들어보세요.\\n# def even_odd_chk(num):\\n#    if num%2:\\n#        result = \"홀수\"\\n#    else:\\n#        result = \"짝수\"\\n     return \"홀수\" if num%2 else \"짝수\"\\neven_odd_chk1 = lambda num : \"홀수\" if num%2 else \"짝수\"\\neven_odd_chk(5), even_odd_chk(-4) ',\n",
       " '_i15': '# ex1.  매개변수로 돌어온 값이 짝수인지 return 함수를 람다식으로 만들어보세요.\\ndef even_odd_chk(num):\\n#    if num%2:\\n#        result = \"홀수\"\\n#    else:\\n#        result = \"짝수\"\\n     return \"홀수\" if num%2 else \"짝수\"\\neven_odd_chk1 = lambda num : \"홀수\" if num%2 else \"짝수\"\\neven_odd_chk(5), even_odd_chk(-4) ',\n",
       " 'even_odd_chk1': <function __main__.<lambda>(num)>,\n",
       " '_15': ('홀수', '짝수'),\n",
       " '_i16': '# ex2  두 개 매개변수의 차이를 return 함수를 람다식으로 만들어보세요.\\ndiff =lambda a, b : a-b if a>b else b-a\\ndiff(5, 1), diff(1, 5)',\n",
       " 'diff': <function __main__.<lambda>(a, b)>,\n",
       " '_16': (4, 4),\n",
       " '_i17': '# ex2  두 개 매개변수의 차이를 return 함수를 람다식으로 만들어보세요.\\ndef diff(a, b):\\n    if a>b:\\n        result = a-b\\n    else: \\n        result = b-a\\n    return rssult\\ndiff =lambda a, b : a-b if a>b else b-a\\ndiff(5, 1), diff(1, 5)',\n",
       " '_17': (4, 4),\n",
       " '_i18': \"# ex3.  매개변수로 잔액을 받아  잔액이 양수면 잔액을 return, 음수면 'negative'를 rturn의 차이를 return \\nex3 = lambda balance : balance if balnce>=0 else 'negative'\\nex3(1000, ex3(-100)\",\n",
       " '_i19': \"# ex3.  매개변수로 잔액을 받아  잔액이 양수면 잔액을 return, 음수면 'negative'를 rturn의 차이를 return \\nex3 = lambda balance : balance if balnce>=0 else 'negative'\\nex3(1000), ex3(-100)\",\n",
       " 'ex3': <function __main__.<lambda>(balance)>,\n",
       " '_i20': \"# ex3.  매개변수로 잔액을 받아  잔액이 양수면 잔액을 return, 음수면 'negative'를 rturn의 차이를 return \\nex3 = lambda balance : balance if balance>=0 else 'negative'\\nex3(1000), ex3(-100)\",\n",
       " '_20': (1000, 'negative'),\n",
       " '_i21': '# ex4.  점수를 입력받아 80점 이상은 \\'A팀\\', 60점 이상은 \\'B팀\\', 60점 미만은 \\'재시험\\' \\n                        # 1OO점 초과, 0점 미만은 \\'유효하지 않음\\'을 Rreturn\\n    def check_team(score):\\n    if score > 100 or score < 0:   # 100점 초과, 0점 미만\\n        return \"유효하지 않음\"\\n    elif score >= 80:              # 80점 이상\\n        return \"A팀\"\\n    elif score >= 60:              # 60점 이상 ~ 79점\\n        return \"B팀\"\\n    else:                          # 60점 미만\\n        return \"재시험\"',\n",
       " '_i22': '# ex4.  점수를 입력받아 80점 이상은 \\'A팀\\', 60점 이상은 \\'B팀\\', 60점 미만은 \\'재시험\\' \\n                        # 1OO점 초과, 0점 미만은 \\'유효하지 않음\\'을 Rreturn\\ndef check_team(score):\\n    if score > 100 or score < 0:   \\n# 100점 초과, 0점 미만\\n        return \"유효하지 않음\"\\n    elif score >= 80:              \\n# 80점 이상\\n        return \"A팀\"\\n    elif score >= 60:              \\n# 60점 이상 ~ 79점\\n        return \"B팀\"\\n    else:                         \\n# 60점 미만\\n        return \"재시험\"',\n",
       " 'check_team': <function __main__.check_team(score)>,\n",
       " '_i23': '# ex4.  점수를 입력받아 80점 이상은 \\'A팀\\', 60점 이상은 \\'B팀\\', 60점 미만은 \\'재시험\\' \\n                        # 1OO점 초과, 0점 미만은 \\'유효하지 않음\\'을 Rreturn\\ndef check_team(score):\\n    if score > 100 or score < 0:   \\n# 100점 초과, 0점 미만\\n        return \"유효하지 않음\"\\n    elif score >= 80:              \\n# 80점 이상\\n        return \"A팀\"\\n    elif score >= 60:              \\n# 60점 이상 ~ 79점\\n        return \"B팀\"\\n    else:                         \\n# 60점 미만\\n        return \"재시험\"',\n",
       " '_i24': '# ex4.  점수를 입력받아 80점 이상은 \\'A팀\\', 60점 이상은 \\'B팀\\', 60점 미만은 \\'재시험\\' \\n                        # 1OO점 초과, 0점 미만은 \\'유효하지 않음\\'을 Rreturn\\ndef check_team(score):\\n    if score > 100 or score < 0:   \\n# 100점 초과, 0점 미만\\n        return \"유효하지 않음\"\\n    elif score >= 80:              \\n# 80점 이상\\n        return \"A팀\"\\n    elif score >= 60:              \\n# 60점 이상 ~ 79점\\n        return \"B팀\"\\n    else:                         \\n# 60점 미만\\n        return \"재시험\"\\nprint(check_team(85))\\nprint(check_team(85))',\n",
       " '_i25': '# ex4.  점수를 입력받아 80점 이상은 \\'A팀\\', 60점 이상은 \\'B팀\\', 60점 미만은 \\'재시험\\' \\n                        # 1OO점 초과, 0점 미만은 \\'유효하지 않음\\'을 Rreturn\\ndef check_team(score):\\n    if score > 100 or score < 0:   \\n# 100점 초과, 0점 미만\\n        return \"유효하지 않음\"\\n    elif score >= 80:              \\n# 80점 이상\\n        return \"A팀\"\\n    elif score >= 60:              \\n# 60점 이상 ~ 79점\\n        return \"B팀\"\\n    else:                         \\n# 60점 미만\\n        return \"재시험\"\\nprint(check_team(85))\\nprint(check_team(75))\\nprint(check_team(50))\\nprint(check_team(120))',\n",
       " '_i26': \"# ex4.  점수를 입력받아 80점 이상은 'A팀', 60점 이상은 'B팀', 60점 미만은 '재시험' \\n                        # 1OO점 초과, 0점 미만은 '유효하지 않음'을 Rreturn\\ndef levelchck(score):\\n    if 80<=score<100:\\n        return 'A팀'\\n    elif 600<=score<80:\\n        return 'B팀'\\n    elif 0<=score<60:\\n        return '재시험'\\n    else:\\n        return '유효하지 않음'\\nex4 = lambda score : 'A팀' if 80<=score<100 else \\\\\\n                      'B팀'  if 60<=score<80 else \\\\\\n                      '재시험'  if 0<=score<60 else \\\\\\n                     '유효하지 않음'\\nlevelchk(8), ex4(160)\",\n",
       " 'levelchck': <function __main__.levelchck(score)>,\n",
       " 'ex4': <function __main__.<lambda>(score)>,\n",
       " '_i27': \"# ex4.  점수를 입력받아 80점 이상은 'A팀', 60점 이상은 'B팀', 60점 미만은 '재시험' \\n                        # 1OO점 초과, 0점 미만은 '유효하지 않음'을 Rreturn\\ndef levelChk(score):\\n    if 80<=score<100:\\n        return 'A팀'\\n    elif 600<=score<80:\\n        return 'B팀'\\n    elif 0<=score<60:\\n        return '재시험'\\n    else:\\n        return '유효하지 않음'\\nex4 = lambda score : 'A팀' if 80<=score<100 else \\\\\\n                      'B팀'  if 60<=score<80 else \\\\\\n                      '재시험'  if 0<=score<60 else \\\\\\n                     '유효하지 않음'\\nlevelChk(8), ex4(160)\",\n",
       " 'levelChk': <function __main__.levelChk(score)>,\n",
       " '_27': ('재시험', '유효하지 않음'),\n",
       " '_i28': \"# 점수를 입력받아 학점을 return\\nscore_geade = lambda score :  'A학점' if 90<=score<100 else \\\\\\n                               'B학점' if 80<=score<90 else \\\\\\n                               'C학점' if 70<=score<80 else \\\\\\n                               'D학점' if 60<=score<70 else \\\\\\n                               'F학점' if 0<=score<60 else \\\\\\n                               '유효하지 않음'\\nscore_geade(60), score_geade(120)  \",\n",
       " 'score_geade': <function __main__.<lambda>(score)>,\n",
       " '_28': ('D학점', '유효하지 않음'),\n",
       " '_i29': '# ex5. safe_index 함수를 담라식으로\\ndef safe_index(lst, tem, start=0):\\n    return lst.index(item, start) if item in lst[start:] else -1\\n#      if item in Lst[start:]:\\n#          return LST.index(itemm start) # start번째부터 item이 있는 index를 반ㄴ환\\n#     else:\\n#          return -1\\nex5 = lambda lst, item, start=0, : lst.index)item, start) if item in lst[start:] else \\\\\\n\\nlst = [3, 3, 3]\\nsafe_index(lst, 4), ex5Olst, 3, 1)                          -1',\n",
       " '_i30': '# ex5. safe_index 함수를 담라식으로\\ndef safe_index(lst, tem, start=0):\\n    return lst.index(item, start) if item in lst[start:] else -1\\n#      if item in Lst[start:]:\\n#          return LST.index(itemm start) # start번째부터 item이 있는 index를 반ㄴ환\\n#     else:\\n#          return -1\\nex5 = lambda lst, item, start=0 : lst.index)item, start) if item in lst[start:] else \\\\\\n\\nlst = [3, 3, 3]\\nsafe_index(lst, 4), ex5Olst, 3, 1)                          -1',\n",
       " '_i31': '# ex5. safe_index 함수를 담라식으로\\ndef safe_index(lst, tem, start=0):\\n    return lst.index(item, start) if item in lst[start:] else -1\\n#      if item in Lst[start:]:\\n#          return LST.index(itemm start) # start번째부터 item이 있는 index를 반ㄴ환\\n#     else:\\n#          return -1\\nex5 = lambda lst, item, start=0 : lst.index(item, start) if item in lst[start:] else \\\\\\n\\nlst = [3, 3, 3]\\nsafe_index(lst, 4), ex5Olst, 3, 1)                          -1',\n",
       " '_i32': '# ex5. safe_index 함수를 담라식으로\\ndef safe_index(lst, tem, start=0):\\n    return lst.index(item, start) if item in lst[start:] else -1\\n#      if item in Lst[start:]:\\n#          return LST.index(itemm start) # start번째부터 item이 있는 index를 반ㄴ환\\n#     else:\\n#          return -1\\nex5 = lambda lst, item, start=0 : lst.index(item, start) if item in lst[start:] else \\\\\\n\\nlst = [3, 3, 3]\\nsafe_index(lst, 4), ex5(lst, 3, 1)                          -1',\n",
       " '_i33': '# ex5. safe_index 함수를 담라식으로\\ndef safe_index(lst, tem, start=0):\\n    return lst.index(item, start) if item in lst[start:] else -1\\n#      if item in Lst[start:]:\\n#          return LST.index(itemm start) # start번째부터 item이 있는 index를 반ㄴ환\\n#     else:\\n#          return -1\\nex5 = lambda lst, item, start=0 : lst.index(item, start) if item in lst[start:] else \\\\\\n                                   -1\\nlst = [3, 3, 3]\\nsafe_index(lst, 4), ex5(lst, 3, 1)                          ',\n",
       " 'safe_index': <function __main__.safe_index(lst, item, start=0)>,\n",
       " 'ex5': <function __main__.<lambda>(lst, item, start=0)>,\n",
       " 'lst': [3, 2, 3],\n",
       " '_i34': '# ex5. safe_index 함수를 담라식으로\\ndef safe_index(lst, tem, start=0):\\n    return lst.index(item, start) if item in lst[start:] else -1\\n#      if item in Lst[start:]:\\n#          return LST.index(itemm start) # start번째부터 item이 있는 index를 반ㄴ환\\n#     else:\\n#          return -1\\nex5 = lambda lst, item, start=0 : lst.index(item, start) if item in lst[start:] else \\\\\\n                                   -1\\nlst = [3, 3, 3]\\nsafe_index(lst, 4), ex5(lst, 3, 1)                          ',\n",
       " '_i35': '# ex5. safe_index 함수를 담라식으로\\ndef safe_index(lst, tem, start=0):\\n    return lst.index(item, start) if item in lst[start:] else -1\\n#      if item in Lst[start:]:\\n#          return LST.index(itemm start) # start번째부터 item이 있는 index를 반ㄴ환\\n#     else:\\n#          return -1\\nex5 = lambda lst, item, start=0 : lst.index(item, start) if item in lst[start:] else \\\\\\n                                   -1\\nlst = [3, 2, 3]\\nsafe_index(lst, 4), ex5(lst, 3, 1)                          ',\n",
       " '_i36': '# ex5. safe_index 함수를 담라식으로\\ndef safe_index(lst, item, start=0):\\n    return lst.index(item, start) if item in lst[start:] else -1\\n#      if item in Lst[start:]:\\n#          return LST.index(itemm start) # start번째부터 item이 있는 index를 반ㄴ환\\n#     else:\\n#          return -1\\nex5 = lambda lst, item, start=0 : lst.index(item, start) if item in lst[start:] else \\\\\\n                                   -1\\nlst = [3, 2, 3]\\nsafe_index(lst, 4), ex5(lst, 3, 1)                          ',\n",
       " '_36': (-1, 2),\n",
       " '_i37': \"# 람다시식을 List에 들어갈 수 있음.\\nadd = lambda a, b : a + b\\nsub = lambda a, b : a - b\\nmul = lambda a, b : a * b\\ndiv = lambda a, b : a / b #  if  b else '두번째 인자가 0이면 못 나눠요'\\noperations = [add, sub, mul, div] # 사칙연산 함수들\\n\\ndef act_operations(a,b, operations=operations): # a, b의 연산 결과를 return\\n    result =[]\\n    for op in operations:\\n        result.append(op(a,b))\\n    return result \\n    \\nact_operations(20, 5)\",\n",
       " 'sub': <function __main__.<lambda>(a, b)>,\n",
       " 'mul': <function __main__.<lambda>(a, b)>,\n",
       " 'div': <function __main__.<lambda>(a, b)>,\n",
       " 'operations': [<function __main__.<lambda>(a, b)>,\n",
       "  <function __main__.<lambda>(a, b)>,\n",
       "  <function __main__.<lambda>(a, b)>,\n",
       "  <function __main__.<lambda>(a, b)>,\n",
       "  <function __main__.<lambda>(x, y)>,\n",
       "  <function __main__.<lambda>(x, y)>],\n",
       " 'act_operations': <function __main__.act_operations(a, b, operations=[<function <lambda> at 0x00000239DEFFD630>, <function <lambda> at 0x00000239DEFFD240>, <function <lambda> at 0x00000239DEFFF910>, <function <lambda> at 0x00000239DEFFDE10>, <function <lambda> at 0x00000239DEFFD7E0>, <function <lambda> at 0x00000239DEFFCEE0>])>,\n",
       " '_37': [25, 15, 100, 4.0],\n",
       " '_i38': 'act_operations(8, 2, [lambda x, y:x**y, lambda x,y:10*x+y])',\n",
       " '_38': [64, 82],\n",
       " '_i39': '(lambda x,y:10*x+y)(5,3)',\n",
       " '_39': 53,\n",
       " '_i40': 'operations.append(lambda x, y:x**y)',\n",
       " '_i41': 'operations.append(lambda x, y:x**y)\\nlen(operations)',\n",
       " '_41': 6,\n",
       " '_i42': 'act_operations(8, 2)  # 기본값을 갖는 변수(기본 변수)가 리스트면 기본값으을 호출할 시점',\n",
       " '_42': [10, 6, 16, 4.0, 64, 64],\n",
       " '_i43': 'def map_template(func, L=[]):\\n    result  =[]\\n    for item in L;\\n        result.append.itmem)\\n    return result    ',\n",
       " '_i44': 'def map_template(func, L=[]):\\n    result  =[]\\n    for item in L;\\n        result.append( func(itmem))\\n    return result    ',\n",
       " '_i45': 'def map_template(func, L=[]):\\n    result  =[]\\n    for item in L:\\n        result.append( func(itmem))\\n    return result    ',\n",
       " 'map_template': <function __main__.map_template(func, L=[])>,\n",
       " '_i46': 'def map_template(func, L=[]):\\n    result  =[]\\n    for item in L:\\n        result.append( func(itmem))\\n    return result    ',\n",
       " '_i47': 'def map_template(func, L=[]):\\n    result  =[]\\n    for item in L:\\n        result.append( func(itmem))\\n    return result    ',\n",
       " '_i48': 'def map_template(func, L=[]):\\n    result  =[]\\n    for item in L:\\n        result.append( func(item))\\n    return result    ',\n",
       " '_i49': 'def map_template(func, L=[]):\\n    result  =[]\\n    for item in L:\\n        result.append( func(item))\\n    return result    ',\n",
       " '_i50': 'def map_template(func, L=[]):\\n    result  =[]\\n    for item in L:\\n        result.append( func(item))\\n    return result    ',\n",
       " '_i51': 'def map_template(func, L=[]):\\n    result  =[]\\n    for item in L:\\n        result.append( func(item))\\n    return result    ',\n",
       " '_i52': 'def map_template(func, L=[]):\\n    result  =[]\\n    for item in L:\\n        result.append( func(item))\\n    return result    ',\n",
       " '_i53': 'list_data = [1, 2, 3, 4, 5, 6, 7, 8, 9]\\ndef x_2(x):\\n    return x*2\\nmap_template(x_2, list_data)',\n",
       " 'list_data': [1, 2, 3, 4, 5, 6, 7, 8, 9],\n",
       " 'x_2': <function __main__.<lambda>(x)>,\n",
       " '_53': [2, 4, 6, 8, 10, 12, 14, 16, 18],\n",
       " '_i54': 'map_template(lambda x:x*2, list_data)',\n",
       " '_54': [2, 4, 6, 8, 10, 12, 14, 16, 18],\n",
       " '_i55': 'from IPython.display import display, HTML\\ndisplay(HTML(\"\"\"\\n<style>\\ndiv.container{width:90% !important;}\\ndiv.cell.code_cell.rendered{width:100%;}\\ndiv.input_prompt{padding:0px;}\\ndiv.CodeMirror {font-family:Consolas; font-size:22pt;}\\ndiv.text_cell_render.rendered_html{font-size:18pt;}\\ndiv.output {font-size:22pt; font-weight:bold;}\\ndiv.input {font-family:Consolas; font-size:22pt;}\\ndiv.prompt {min-width:70px;}\\ndiv#toc-wrapper{padding-top:120px;}\\ndiv.text_cell_render ul li{font-size:22pt;padding:5px;}\\ntable.dataframe{font-size:22px;}\\n</style>\\n\"\"\"))',\n",
       " 'display': <function IPython.core.display_functions.display(*objs, include=None, exclude=None, metadata=None, transient=None, display_id=None, raw=False, clear=False, **kwargs)>,\n",
       " 'HTML': IPython.core.display.HTML,\n",
       " '_i56': 'list_data = [1, 2, 3, 4, 5, 6, 7, 8, 9]\\n# def x_2(x):\\n#    return x*2\\nx_2=lambda x:2*2\\nmap_template(x_2, list_data)',\n",
       " '_56': [4, 4, 4, 4, 4, 4, 4, 4, 4],\n",
       " '_i57': '# 리스트 컴프리헨션\\n[item*2 for item in list_data]',\n",
       " '_57': [2, 4, 6, 8, 10, 12, 14, 16, 18],\n",
       " '_i58': 'map(lambda x:x*2, list_data)',\n",
       " '_58': <map at 0x239df076770>,\n",
       " '_i59': 'list(map(lambda x:x*2, list_data))',\n",
       " '_59': [2, 4, 6, 8, 10, 12, 14, 16, 18],\n",
       " '_i60': \"for date in map(lambda x:x*2, list_data):\\n    print(data, end=' ')\",\n",
       " 'date': 2,\n",
       " '_i61': \"for data in map(lambda x:x*2, list_data):\\n    print(data, end=' ')\",\n",
       " 'data': 18,\n",
       " '_i62': \"```\\n예제1. prices = ['5,000','5000', '6,000', '1000','5,000', '5000', '6,000', '1000’]를 \\n[5000,5000,6000,1000]식으로 바꾸시오\\n```\\nprices = ['5,000','5000', '6,000', '1000','5,000', '5000', '6,000', '1000’] \\ndef toint(value):\\n    return int(value.replace('',''))\\ntoint('5000')\",\n",
       " '_i63': \"```\\n예제1. prices = ['5,000','5000', '6,000', '1000','5,000', '5000', '6,000', '1000’]를 \\n[5000,5000,6000,1000]식으로 바꾸시오\\n```\\nprices = ['5,000','5000', '6,000', '1000','5,000', '5000', '6,000', '1000’] \\ndef toint(value):\\n    return int(value.replace('',''))\\nprices_int=map(lambda value : int(value_repalce('', '')), prices)\\nfor price in prices_int:\\n          print(price, end;'')\",\n",
       " '_i64': \"```\\n예제1. prices = ['5,000','5000', '6,000', '1000','5,000', '5000', '6,000', '1000’]를 [5000,5000,6000,1000]식으로 바꾸시오\\n```\\nprices = ['5,000','5000', '6,000', '1000','5,000', '5000', '6,000', '1000’] \\ndef toint(value):\\n    return int(value.replace('',''))\\nprices_int=map(lambda value : int(value_repalce('', '')), prices)\\nfor price in prices_int:\\n          print(price, end;'')\",\n",
       " '_i65': \"'''\\n예제1. prices = ['5,000','5000', '6,000', '1000','5,000', '5000', '6,000', '1000’]를 [5000,5000,6000,1000]식으로 바꾸시오\\n'''\\n\\nprices = ['5,000','5000', '6,000', '1000','5,000', '5000', '6,000', '1000’] \\ndef toint(value):\\n    return int(value.replace('',''))\\nprices_int=map(lambda value : int(value_repalce('', '')), prices)\\nfor price in prices_int:\\n          print(price, end;'')\",\n",
       " '_i66': \"'''\\n예제1. prices = ['5,000','5000', '6,000', '1000','5,000', '5000', '6,000', '1000’]를 [5000,5000,6000,1000]식으로 바꾸시오\\n'''\\n\\nprices = ['5,000','5000', '6,000', '1000','5,000', '5000', '6,000', '1000'] \\ndef toint(value):\\n    return int(value.replace('',''))\\nprices_int=map(lambda value : int(value_repalce('', '')), prices)\\nfor price in prices_int:\\n          print(price, end;'')\",\n",
       " '_i67': \"'''\\n예제1. prices = ['5,000','5000', '6,000', '1000','5,000', '5000', '6,000', '1000’]를 [5000,5000,6000,1000]식으로 바꾸시오\\n'''\\n\\nprices = ['5,000','5000', '6,000', '1000','5,000', '5000', '6,000', '1000'] \\ndef toint(value):\\n    return int(value.replace('',''))\\nprices_int=map(lambda value : int(value_repalce('', '')), prices)\\nfor price in prices_int:\\n          print(price, end:'')\",\n",
       " '_i68': \"'''\\n예제1. prices = ['5,000','5000', '6,000', '1000','5,000', '5000', '6,000', '1000’]를 [5000,5000,6000,1000]식으로 바꾸시오\\n'''\\n\\nprices = ['5,000','5000', '6,000', '1000','5,000', '5000', '6,000', '1000'] \\ndef toint(value):\\n    return int(value.replace('',''))\\nprices_int=map(lambda value : int(value_repalce('', '')), prices)\\nfor price in prices_int:\\n          print(price, end='')\",\n",
       " 'prices': ['5,000',\n",
       "  '5000',\n",
       "  '6,000',\n",
       "  '1000',\n",
       "  '5,000',\n",
       "  '5000',\n",
       "  '6,000',\n",
       "  '1000'],\n",
       " 'toint': <function __main__.toint(value)>,\n",
       " 'prices_int': <map at 0x239decc9840>,\n",
       " '_i69': \"'''\\n예제1. prices = ['5,000','5000', '6,000', '1000','5,000', '5000', '6,000', '1000’]를 [5000,5000,6000,1000]식으로 바꾸시오\\n'''\\n\\nprices = ['5,000','5000', '6,000', '1000','5,000', '5000', '6,000', '1000'] \\ndef toint(value):\\n    return int(value.replace(',',''))\\nprices_int=map(lambda value : int(value_repalce(',', '')), prices)\\nfor price in prices_int:\\n          print(price, end='')\",\n",
       " '_i70': \"'''\\n예제1. prices = ['5,000','5000', '6,000', '1000','5,000', '5000', '6,000', '1000’]를 [5000,5000,6000,1000]식으로 바꾸시오\\n'''\\n\\nprices = ['5,000','5000', '6,000', '1000','5,000', '5000', '6,000', '1000'] \\ndef toint(value):\\n    return int(value.replace(',',''))\\nprices_int=map(lambda value : int(value.repalce(',', '')), prices)\\nfor price in prices_int:\\n          print(price, end='')\",\n",
       " '_i71': \"'''\\n예제1. prices = ['5,000','5000', '6,000', '1000','5,000', '5000', '6,000', '1000’]를 [5000,5000,6000,1000]식으로 바꾸시오\\n'''\\n\\nprices = ['5,000','5000', '6,000', '1000','5,000', '5000', '6,000', '1000'] \\ndef toint(value):\\n    return int(value.replace(',',''))\",\n",
       " '_i72': \"prices_int=map(lambda value : int(value.repalce(',', '')), prices)\\nfor price in prices_int:\\n          print(price, end='')\",\n",
       " '_i73': \"prices_int=map(lambda value : int(value.replace(',', '')), prices)\\nfor price in prices_int:\\n          print(price, end='')\",\n",
       " 'price': 1000,\n",
       " '_i74': \"prices_int=map(lambda value : int(value.replace(',', ' ')), prices)\\nfor price in prices_int:\\n          print(price, end='')\",\n",
       " '_i75': \"prices_int=map(lambda value : int(value.replace(',', ' ')), prices)\\nfor price in prices_int:\\n          print(price, end=' ')\",\n",
       " '_i76': \"prices_int=map(lambda value : int(value.replace(',', '')), prices)\\nfor price in prices_int:\\n          print(price, end=' ')\",\n",
       " '_i77': \"# [{'name':'홍길동', 'birth':'2000-01-01’}=>{'name':'홍길동', 'year':'2000, 'month':1, 'day':1}]\",\n",
       " '_i78': \"# '2000-01-01' =>{'year':2000, 'month':1, 'day':1}\\ndef split_data(data)\\n    split_data = data.split\\n    return split_data\\n            'year:int(split_data[0]),\\n            'month':int(split_data[1]),\\n            'day':int(split_data[2])\\nsplit_data('2025-01-01'), split_data('1995-12-12')\\n    \",\n",
       " '_i79': \"# '2000-01-01' =>{'year':2000, 'month':1, 'day':1}\\ndef split_data(data)\\n    split_data = data.split\\n    return split_data\\n            'year:int(data.split[0]),\\n            'month':int(data.split[1]),\\n            'day':int(data.split[2])\\nsplit_data('2025-01-01'), split_data('1995-12-12')\\n    \",\n",
       " '_i80': \"# '2000-01-01' =>{'year':2000, 'month':1, 'day':1}\\ndef split_data(data)\\n    split_data = data.split\\n    return split_data\\n            'year':int(data.split[0]),\\n            'month':int(data.split[1]),\\n            'day':int(data.split[2])\\nsplit_data('2025-01-01'), split_data('1995-12-12')\\n    \",\n",
       " '_i81': \"# '2000-01-01' =>{'year':2000, 'month':1, 'day':1}\\ndef split_data(data):\\n    return split_data\\n            'year':int(data.split[0]),\\n            'month':int(data.split[1]),\\n            'day':int(data.split[2])\\nsplit_data('2025-01-01'), split_data('1995-12-12')\\n    \",\n",
       " '_i82': \"# '2000-01-01' =>{'year':2000, 'month':1, 'day':1}\\ndef split_data(data):\\n    return { \\n            'year':int(data.split[0]),\\n            'month':int(data.split[1]),\\n            'day':int(data.split[2])\\n        }\\nsplit_data('2025-01-01'), split_data('1995-12-12')\\n    \",\n",
       " 'split_data': <function __main__.split_data(data)>,\n",
       " '_i83': \"members1 = [{'name':'홍길동', 'birth':'2000-01-01'},\\n            {'name':'신길동', 'birth':'1995-12-18'},]\",\n",
       " 'members1': [{'name': '홍길동', 'birth': '2000-01-01'},\n",
       "  {'name': '신길동', 'birth': '1995-12-18'}],\n",
       " '_i84': \"# '2000-01-01' =>{'year':2000, 'month':1, 'day':1}\\ndef split_data(data):\\n    return { \\n            'year':int(data.split[0]),\\n            'month':int(data.split[1]),\\n            'day':int(data.split[2])\\n        }\\nsplit_data('2025-01-01'), split_data('1995-12-12')\\n    \",\n",
       " '_i85': \"# {'birth': 2025-01-01'} =>{'year':2000, 'month':1, 'day':1}\\ndef split_date(data):\\n    return { \\n            'year':int(data['birth'].split('-')[0]),\\n            'month':int(data['birth'].split('-')[1]),\\n            'day':int(data['birth'].split('-')[2])\\n        }\\nsplit_data({'birth': 2025-01-01'})\",\n",
       " '_i86': \"# {'birth': 2025-01-01'} =>{'year':2000, 'month':1, 'day':1}\\ndef split_date(data):\\n    return { \\n            'year':int(data['birth'].split('-')[0]),\\n            'month':int(data['birth'].split('-')[1]),\\n            'day':int(data['birth'].split('-')[2])\\n        }\\nsplit_data({'birth': '2025-01-01'})\",\n",
       " 'split_date': <function __main__.split_date(data)>,\n",
       " '_i87': \"# {'birth': 2025-01-01'} =>{'year':2000, 'month':1, 'day':1}\\ndef split_date(data):\\n    return { \\n            'year':int(data['birth'].split('-')[0]),\\n            'month':int(data['birth'].split('-')[1]),\\n            'day':int(data['birth'].split('-')[2])\\n        }\\nsplit_date({'birth': '2025-01-01'})\",\n",
       " '_87': {'year': 2025, 'month': 1, 'day': 1},\n",
       " '_i88': \"# {'name':'홍길동', 'birth':'2000-01-01’}=>{'name':'홍길동', 'year':'2000, 'month':1, 'day':1}\\ndef member_preprocessing(member):\\n    return {\\n        'name': member.get('name', '이름없음'), #member['name']\\n    }\",\n",
       " 'member_preprocessing': <function __main__.member_preprocessing(member)>,\n",
       " '_i89': \"# {'name':'홍길동', 'birth':'2000-01-01’}=>{'name':'홍길동', 'year':'2000, 'month':1, 'day':1}\\ndef member_preprocessing(member):\\n    return {\\n        'name': member.get('name', '이름없음'), #member['name']\\n        'year': int(member.get('birth').split('-'[0],\\n        'month': int(member.get('birth').split('-'[1],\\n        'day': int(member.get('birth').split('-'[2],\\n    }\\nmember_preprocessing({'name':'홍길동', 'birth':'2000-01-01’})\",\n",
       " '_i90': \"# {'name':'홍길동', 'birth':'2000-01-01’}=>{'name':'홍길동', 'year':'2000, 'month':1, 'day':1}\\ndef member_preprocessing(member):\\n    return {\\n        'name': member.get('name', '이름없음'), #member['name']\\n        'year': int(member.get('birth').split('-'[0]),\\n        'month': int(member.get('birth').split('-'[1]),\\n        'day': int(member.get('birth').split('-'[2]),\\n    }\\nmember_preprocessing({'name':'홍길동', 'birth':'2000-01-01’})\",\n",
       " '_i91': \"members2=list(map(lambda member:{\\n        'name': member.get('name', '이름없음'), \\n        'year': int(member.get('birth').split('-')[0]),\\n        'month': int(member.get('birth').split('-')[1]),\\n        'day': int(member.get('birth').split('-')[2]),}, members1\\n                  )\\n                    )\\nmembers2\\n                   \",\n",
       " 'members2': [{'name': '홍길동', 'year': 2000, 'month': 1, 'day': 1},\n",
       "  {'name': '신길동', 'year': 1995, 'month': 12, 'day': 18}],\n",
       " '_91': [{'name': '홍길동', 'year': 2000, 'month': 1, 'day': 1},\n",
       "  {'name': '신길동', 'year': 1995, 'month': 12, 'day': 18}],\n",
       " '_i92': \"'''\\n예제3, members2를 members1로 전환\\n'''\\nmembers1\",\n",
       " '_92': [{'name': '홍길동', 'birth': '2000-01-01'},\n",
       "  {'name': '신길동', 'birth': '1995-12-18'}],\n",
       " '_i93': '# {\\'year\\':2000, \\'month\\':1, \\'day\\':1} ==> \\'2025-01-01\\'\\ndef join_date(data):\\n    return \"{}-{}\".format(data.get(\\'year\\'), data.get(\\'month\\')data.get(\\'day\\'))\\njoin_data({\\'year\\':2000, \\'month\\';1, \\'day\\';1})',\n",
       " '_i94': '# {\\'year\\':2000, \\'month\\':1, \\'day\\':1} ==> \\'2025-01-01\\'\\ndef join_date(data):\\n    return \"{}-{}-{}\".format(data.get(\\'year\\'), data.get(\\'month\\')data.get(\\'day\\'))\\njoin_data({\\'year\\':2000, \\'month\\';1, \\'day\\';1})',\n",
       " '_i95': '# {\\'year\\':2000, \\'month\\':1, \\'day\\':1} ==> \\'2025-01-01\\'\\ndef join_date(data):\\n    return \"{}-{}-{}\".format(data.get(\\'year\\'), data.get(\\'month\\'), data.get(\\'day\\'))\\njoin_data({\\'year\\':2000, \\'month\\';1, \\'day\\';1})',\n",
       " '_i96': '# {\\'year\\':2000, \\'month\\':1, \\'day\\':1} ==> \\'2025-01-01\\'\\ndef join_date(data):\\n    return \"{}-{}-{}\".format(data.get(\\'year\\'), data.get(\\'month\\'), data.get(\\'day\\'))\\njoin_data({\\'year\\':2000, \\'month\\':1, \\'day\\':1})',\n",
       " 'join_date': <function __main__.join_date(data)>,\n",
       " '_i97': '# {\\'year\\':2000, \\'month\\':1, \\'day\\':1} ==> \\'2025-01-01\\'\\ndef join_date(data):\\n    return \"{}-{}-{}\".format(data.get(\\'year\\'), data.get(\\'month\\'), data.get(\\'day\\'))\\njoin_data({\\'year\\':2000, \\'month\\':9, \\'day\\':9})',\n",
       " '_i98': '# {\\'year\\':2000, \\'month\\':1, \\'day\\':1} ==> \\'2025-01-01\\'\\ndef join_date(data):\\n    return \"{}-{}-{}\".format(data.get(\\'year\\'), data.get(\\'month\\'), data.get(\\'day\\'))\\njoin_date({\\'year\\':2000, \\'month\\':1, \\'day\\':1})',\n",
       " '_98': '2000-1-1',\n",
       " '_i99': '# {\\'year\\':2000, \\'month\\':1, \\'day\\':1} ==> \\'2025-01-01\\'\\ndef join_date(data):\\n    return \"{}-{}-{}\".format(data.get(\\'year\\'), data.get(\\'month\\'), data.get(\\'day\\'))\\njoin_date({\\'year\\':2000, \\'month\\':9, \\'day\\':9})',\n",
       " '_99': '2000-9-9',\n",
       " '_i100': '# {\\'year\\':2000, \\'month\\':1, \\'day\\':1} ==> \\'2025-01-01\\'\\ndef join_date(data):\\n    return \"{}-{:02}-{}\".format(data.get(\\'year\\'), data.get(\\'month\\'), data.get(\\'day\\'))\\njoin_date({\\'year\\':2000, \\'month\\':9, \\'day\\':9})',\n",
       " '_100': '2000-09-9',\n",
       " '_i101': '# {\\'year\\':2000, \\'month\\':1, \\'day\\':1} ==> \\'2025-01-01\\'\\ndef join_date(data):\\n    return \"{}-{:02}-{:02}\".format(data.get(\\'year\\'), data.get(\\'month\\'), data.get(\\'day\\'))\\njoin_date({\\'year\\':2000, \\'month\\':9, \\'day\\':9})',\n",
       " '_101': '2000-09-09',\n",
       " '_i102': '# {\\'year\\':2000, \\'month\\':1, \\'day\\':1} ==> \\'2025-01-01\\'\\ndef join_date(data):\\n    return \"{year}-{month:02}-{data:02}.format(**data)\\njoin_date({\\'year\\':2000, \\'month\\':9, \\'day\\':9})',\n",
       " '_i103': '# {\\'year\\':2000, \\'month\\':1, \\'day\\':1} ==> \\'2025-01-01\\'\\ndef join_date(data):\\n    return \"{year}-{month:02}-{data:02}\".format(**data)\\njoin_date({\\'year\\':2000, \\'month\\':9, \\'day\\':9})',\n",
       " '_i104': '# {\\'year\\':2000, \\'month\\':1, \\'day\\':1} ==> \\'2025-01-01\\'\\ndef join_date(data):\\n    return \"{year}-{month:02}-{data:02}\".format(**data)}\\njoin_date({\\'year\\':2000, \\'month\\':9, \\'day\\':9})',\n",
       " '_i105': '# {\\'year\\':2000, \\'month\\':1, \\'day\\':1} ==> {\\'birth: 2025-01-01\\'}\\ndef join_date(data):\\n    return \"{year}-{month:02}-{data:02}\".format(**data)}\\njoin_date({\\'year\\':2000, \\'month\\':9, \\'day\\':9})',\n",
       " '_i106': '# {\\'year\\':2000, \\'month\\':1, \\'day\\':1} ==> {\\'birth: 2025-01-01\\'}\\ndef join_date(data):\\n    return \"birth\": {year}-{month:02}-{data:02}\".format(**data)}\\njoin_date({\\'year\\':2000, \\'month\\':9, \\'day\\':9})',\n",
       " '_i107': '# {\\'year\\':2000, \\'month\\':1, \\'day\\':1} ==> {\\'birth: 2025-01-01\\'}\\ndef join_date(data):\\n    return {\"birth\": {year}-{month:02}-{data:02}\".format(**data)}\\njoin_date({\\'year\\':2000, \\'month\\':9, \\'day\\':9})',\n",
       " '_i108': '# {\\'year\\':2000, \\'month\\':1, \\'day\\':1} ==> {\\'birth: 2025-01-01\\'}\\ndef join_date(data):\\n    return {\"birth\": \"{year}-{month:02}-{data:02}\".format(**data)}\\njoin_date({\\'year\\':2000, \\'month\\':9, \\'day\\':9})',\n",
       " '_i109': '# {\\'year\\':2000, \\'month\\':1, \\'day\\':1} ==> {\\'birth: 2025-01-01\\'}\\ndef join_date(data):\\n    return {\\'birt\\': \"{year}-{month:02}-{data:02}\".format(**data)}\\njoin_date({\\'year\\':2000, \\'month\\':9, \\'day\\':9})',\n",
       " '_i110': '# {\\'year\\':2000, \\'month\\':1, \\'day\\':1} ==> {\\'birth: 2025-01-01\\'}\\ndef join_date(data):\\n    return {\\'birth\\': \"{year}-{month:02}-{data:02}\".format(**data)}\\njoin_date({\\'year\\':2000, \\'month\\':9, \\'day\\':9})',\n",
       " '_i111': '# {\\'name\\':hong, \\'year\\': 2000, month\\':1, \\'day\\':1} ==> {\\'name\\'= \\'hong\\', birth: 2025-01-01\\'}\\ndef members_preprocessing(nembers):\\n    return {\\n        \\'name\\': member.get(\\'name\\'),\\n        \\'birth\\': \"{year}-{month:02}-{data:02}\"\\n    }\\nmembers_preprocessing({\\'name\\':\\'hong\\', \\'year\\':2000, \\'month\\';1, \\'day\\':})',\n",
       " '_i112': '# {\\'name\\':hong, \\'year\\': 2000, month\\':1, \\'day\\':1} ==> {\\'name\\'= \\'hong\\', birth: 2025-01-01\\'}\\ndef members_preprocessing(nembers):\\n    return {\\n        \\'name\\': member.get(\\'name\\'),\\n        \\'birth\\': \"{year}-{month:02}-{data:02}\"\\n    }\\nmembers_preprocessing({\\'name\\':\\'hong\\', \\'year\\':2000, \\'month\\':1, \\'day\\':})',\n",
       " '_i113': '# {\\'year\\':2000, \\'month\\':1, \\'day\\':1} ==> \\'2025-01-01\\'\\ndef join_date(data):\\n    return \"{year}-{month:02}-{data:02}\".format(**data)\\njoin_date({\\'year\\':2000, \\'month\\':9, \\'day\\':9})',\n",
       " '_i114': '# {\\'year\\':2000, \\'month\\':1, \\'day\\':1} ==> \\'2025-01-01\\'\\ndef join_date(data):\\n    return \"{year}-{month:02}-{data:02}\".format(**data)\\njoin_date({\\'year\\':2000, \\'month\\':9, \\'day\\':9})',\n",
       " '_i115': '# {\\'year\\':2000, \\'month\\':1, \\'day\\':1} ==> \\'2025-01-01\\'\\ndef join_date(data):\\n    return \"{}-{:02}-{:02}\".format(data.get(\\'year\\'), data.get(\\'month\\'), data.get(\\'day\\'))\\njoin_date({\\'year\\':2000, \\'month\\':9, \\'day\\':9})',\n",
       " '_115': '2000-09-09',\n",
       " '_i116': '# {\\'year\\':2000, \\'month\\':1, \\'day\\':1} ==> \\'2025-01-01\\'\\ndef join_date(data):\\n    return \"{year}-{month:02}-{day:02}\".format(**data)\\njoin_date({\\'year\\':2000, \\'month\\':9, \\'day\\':9})',\n",
       " '_116': '2000-09-09',\n",
       " '_i117': '# {\\'year\\':2000, \\'month\\':1, \\'day\\':1} ==> {\\'birth: 2025-01-01\\'}\\ndef join_date(data):\\n    return {\\'birth\\': \"{year}-{month:02}-{day:02}\".format(**data)}\\njoin_date({\\'year\\':2000, \\'month\\':9, \\'day\\':9})',\n",
       " '_117': {'birth': '2000-09-09'},\n",
       " '_i118': '# {\\'name\\':hong, \\'year\\': 2000, month\\':1, \\'day\\':1} ==> {\\'name\\'= \\'hong\\', birth: 2025-01-01\\'}\\ndef members_preprocessing(nember):\\n    return {\\n        \\'name\\': member.get(\\'name\\'),\\n        \\'birth\\':\"{year}-{month:02}-{day:02}\".format(**nember)\\n    }\\nmembers_preprocessing({\\'name\\':\\'hong\\', \\'year\\':2000, \\'month\\':1, \\'day\\':})',\n",
       " '_i119': '# {\\'name\\':hong, \\'year\\': 2000, month\\':1, \\'day\\':1} ==> {\\'name\\'= \\'hong\\', birth: 2025-01-01\\'}\\ndef members_preprocessing(nember):\\n    return {\\n        \\'name\\': member.get(\\'name\\'),\\n        \\'birth\\':\"{year}-{month:02}-{day:02}\".format(**nember)\\n    }\\nmembers_preprocessing({\\'name\\':\\'hong\\', \\'year\\':2000, \\'month\\':1, \\'day\\':1})',\n",
       " 'members_preprocessing': <function __main__.members_preprocessing(member)>,\n",
       " '_i120': '# {\\'name\\':hong, \\'year\\': 2000, month\\':1, \\'day\\':1} ==> {\\'name\\'= \\'hong\\', birth: 2025-01-01\\'}\\ndef members_preprocessing(member):\\n    return {\\n        \\'name\\': member.get(\\'name\\'),\\n        \\'birth\\':\"{year}-{month:02}-{day:02}\".format(**member)\\n    }\\nmembers_preprocessing({\\'name\\':\\'hong\\', \\'year\\':2000, \\'month\\':1, \\'day\\':1})',\n",
       " '_120': {'name': 'hong', 'birth': '2000-01-01'},\n",
       " '_i121': 'list(map(lambda member: {\\n         \\'name\\': member.get(\\'name\\'),\\n        \\'birth\\': \"{year}-{month:02}-{data:02}\".format(**member)\\n    } members2))\\n    ',\n",
       " '_i122': 'list(map(lambda member: {\\n        \\'name\\': member.get(\\'name\\'),\\n        \\'birth\\':\"{year}-{month:02}-{day:02}\".format(**member)\\n    }, members2))\\n    ',\n",
       " '_122': [{'name': '홍길동', 'birth': '2000-01-01'},\n",
       "  {'name': '신길동', 'birth': '1995-12-18'}],\n",
       " '_i123': 'list_data =[1,2,3,4,5,6,7,8,9]\\ndef odd_chk(value):\\n    return value%2\\n#    if value%2:\\n#        reutrn True\\n#    else:\\n#        return False\\nfilter_template(lambda value : value%2!=0, list_data)',\n",
       " 'odd_chk': <function __main__.odd_chk(value)>,\n",
       " '_i124': '# 리스트 컴프리헨션\\n[value for value in list_data if value%2!=0]',\n",
       " '_124': [1, 3, 5, 7, 9],\n",
       " '_i125': '# 예제: 다음 리스트에서 소수점 이하기 0인 수만 추출하시오(filter/릿그트컴프리헨숀)\\nL=-[1, 1.2, 1.5, 3.0, 10.5, 100, -2.0, -12.2]\\nlist(filter(lambda X : x%1==0, L))',\n",
       " '_i126': '# 예제: 다음 리스트에서 소수점 이하기 0인 수만 추출하시오(filter/릿그트컴프리헨숀)\\nL=[1, 1.2, 1.5, 3.0, 10.5, 100, -2.0, -12.2]\\nlist(filter(lambda X : x%1==0, L))',\n",
       " 'L': [1, 1.2, 1.5, 3.0, 10.5, 100, -2.0, -12.2],\n",
       " '_i127': 'item for item in L if x%1==0',\n",
       " '_i128': 'p=[10, 3, 6, 1]\\np.sort(reverse=Truse)\\np',\n",
       " 'p': [10, 6, 3, 1],\n",
       " '_i129': 'p=[10, 3, 6, 1]\\np.sort(reverse=True)\\np',\n",
       " '_129': [10, 6, 3, 1],\n",
       " '_i130': \"# 무조건 0번째 item을 기준으로 오름차순 정렬\\npairs=[(2, 'two'), (1, 'one'), (3, 'tree'), (4, 'four')]\\npairs.sort(\\npairs\",\n",
       " '_i131': \"# 무조건 0번째 item을 기준으로 오름차순 정렬\\npairs=[(2, 'two'), (1, 'one'), (3, 'tree'), (4, 'four')]\\npairs.sort()\\npairs\",\n",
       " 'pairs': [(4, 'four'), (1, 'one'), (3, 'tree'), (2, 'two')],\n",
       " '_131': [(4, 'four'), (1, 'one'), (3, 'tree'), (2, 'two')],\n",
       " '_i132': '# 1번째  item 기준, 내림차순 정렬\\npairs.sort(key=lambda data:data[1])\\npairs',\n",
       " '_132': [(4, 'four'), (1, 'one'), (3, 'tree'), (2, 'two')],\n",
       " '_i133': '# 1번째  item 기준, 내림차순 정렬\\npairs.sort(key=lambda data:data[1]), revers = True)\\npairs',\n",
       " '_i134': '# 1번째  item 기준, 내림차순 정렬\\npairs.sort(key=lambda data:data[1]), revers=True)\\npairs',\n",
       " '_i135': '# 1번째  item 기준, 내림차순 정렬\\npairs.sort(key=lambda data:data[1]), reverse=T\\npairs',\n",
       " '_i136': '# 1번째  item 기준, 내림차순 정렬\\npairs.sort(key=lambda data:data[1]), reverse=True)\\npairs',\n",
       " '_i137': '# 합이 큰 순으로 정렬\\nnumber_2d=[[9,9], [1, 100], [10,1]]\\nnumber_2d.sort()\\nnumber_2d',\n",
       " 'number_2d': [[10, 200, 2], [1, 100], [9, 9]],\n",
       " '_137': [[1, 100], [9, 9], [10, 1]],\n",
       " '_i138': '# 0번째 itemdl 큰 순으로 정렬(오름차순)\\nnumber_2d=[[9,9], [1, 100], [10,1]]\\nnumber_2d.sort()\\nnumber_2d',\n",
       " '_138': [[1, 100], [9, 9], [10, 1]],\n",
       " '_i139': '# 0번째 itemdl 큰 순으로 정렬(오름차순)\\nnumber_2d=[[9,9], [1, 100], [10,1]]\\nnumber_2d.sort()\\nnumber_2d',\n",
       " '_139': [[1, 100], [9, 9], [10, 1]],\n",
       " '_i140': '# 0번째 itemdl 큰 순으로 정렬(오름차순)\\nnumber_2d=[[9,9], [1, 100], [10,200]]\\nnumber_2d.sort()\\nnumber_2d\\n#  합이 큰 순으로 정렬',\n",
       " '_140': [[1, 100], [9, 9], [10, 200]],\n",
       " '_i141': '# 1번째  item 기준, 내림차순 정렬\\npairs.sort(key=lambda data:data[1]), reverse=True\\npairs',\n",
       " '_i142': \"# 1번째  item 기준, 내림차순 정렬\\npairs.sort(key=lambda data:data[1]), reverse=True'\\npairs\",\n",
       " '_i143': '# 0번째 itemdl 큰 순으로 정렬(오름차순)\\nnumber_2d=[[9,9], [1, 100], [10,200, 2]]\\nnumber_2d.sort()\\nnumber_2d\\n#  합이 큰 순으로 정렬\\nnumber_2d.sort(key=)',\n",
       " '_i144': '# 0번째 itemdl 큰 순으로 정렬(오름차순)\\nnumber_2d=[[9,9], [1, 100], [10,200, 2]]\\nnumber_2d.sort()\\nnumber_2d\\n#  합이 큰 순으로 정렬\\nnumber_2d.sort()',\n",
       " '_i145': '# 0번째 itemdl 큰 순으로 정렬(오름차순)\\nnumber_2d=[[9,9], [1, 100], [10,200, 2]]\\nnumber_2d.sort()\\nnumber_2d\\n#  합이 큰 순으로 정렬\\nnumber_2d.sort(key=lambda items)',\n",
       " '_i146': '# 0번째 itemdl 큰 순으로 정렬(오름차순)\\nnumber_2d=[[9,9], [1, 100], [10,200, 2]]\\nnumber_2d.sort()\\nnumber_2d\\n#  합이 큰 순으로 정렬\\nnumber_2d.sort(key=lambda items:sum(items), reverse=True)',\n",
       " '_i147': '# 0번째 itemdl 큰 순으로 정렬(오름차순)\\nnumber_2d=[[9,9], [1, 100], [10,200, 2]]\\nnumber_2d.sort()\\nnumber_2d\\n#  합이 큰 순으로 정렬\\nnumber_2d.sort(key=lambda items:sum(items), reverse=True)\\nprint(number-2d)',\n",
       " '_i148': '# 0번째 itemdl 큰 순으로 정렬(오름차순)\\nnumber_2d=[[9,9], [1, 100], [10,200, 2]]\\nnumber_2d.sort()\\nnumber_2d\\n#  합이 큰 순으로 정렬\\nnumber_2d.sort(key=lambda items:sum(items), reverse=True)\\nprint(number_2d)',\n",
       " '_i149': \"students=[{'name':'홍', 'score:99'},\\n          {'name':'김', 'score:50'},\\n          {'name':'박', 'score:77'},\\n          {'scor':100},]\\nstudents.sort()\",\n",
       " '_i150': \"students=[{'name':'홍', 'score:99},\\n          {'name':'김', 'score:50},\\n          {'name':'박', 'score:77},\\n          {'scor':100},]\\nstudents.sort()\",\n",
       " '_i151': \"name_select=lambda data : data.get('score')\",\n",
       " 'name_select': <function __main__.<lambda>(data)>,\n",
       " '_i152': \"# students 를 name 순으로 정렬(ㄱㄴㄷ순)\\nstudents.sort(key=lambda data: data.get('name', '가'))\\nstudents\",\n",
       " '_i153': \"students=[{'name':'홍', 'score:99},\\n          {'name':'김', 'score:50},\\n          {'name':'박', 'score:77},\\n          {'score':100},]\\nstudents.sort()\",\n",
       " '_i154': \"students=[{'name':'홍', 'score':99},\\n          {'name':'김', 'score':50},\\n          {'name':'박', 'score':77},\\n          {'score':100},]\\nstudents.sort()\",\n",
       " 'students': [{'score': 100},\n",
       "  {'name': '홍', 'score': 99},\n",
       "  {'name': '박', 'score': 77},\n",
       "  {'name': '김', 'score': 50}],\n",
       " '_i155': \"name_select=lambda data : data.get('name')\\nname_select({'name': '홍', 'score': 99, '별명': '박'})\",\n",
       " '_155': '홍',\n",
       " '_i156': \"# students 를 name 순으로 정렬(ㄱㄴㄷ순)\\nstudents.sort(key=lambda data: data.get('name', '가'))\\nstudents\",\n",
       " '_156': [{'score': 100},\n",
       "  {'name': '홍', 'score': 99},\n",
       "  {'name': '박', 'score': 77},\n",
       "  {'name': '김', 'score': 50}],\n",
       " '_i157': \"# students 를 name 순으로 정렬(ㄱㄴㄷ순)\\nstudents.sort(key=lambda data: data.get('name'))\\nstudents\",\n",
       " '_i158': \"# students 를 name 순으로 정렬(ㄱㄴㄷ순)\\nstudents.sort(key=lambda data: data.get('name','힣'))\\nstudents\",\n",
       " '_158': [{'score': 100},\n",
       "  {'name': '홍', 'score': 99},\n",
       "  {'name': '박', 'score': 77},\n",
       "  {'name': '김', 'score': 50}],\n",
       " '_i159': \"# students 를 name 순으로 정렬(ㄱㄴㄷ순)\\nstudents.sort(key=lambda data: data.get('name','가'))\\nstudents\",\n",
       " '_159': [{'score': 100},\n",
       "  {'name': '홍', 'score': 99},\n",
       "  {'name': '박', 'score': 77},\n",
       "  {'name': '김', 'score': 50}],\n",
       " '_i160': \"# students를 score 큰  순 정렬\\nstudents.sort(key=lambda data:data.get('score', 0), reverse=True)\\nstudents\",\n",
       " '_160': [{'score': 100},\n",
       "  {'name': '홍', 'score': 99},\n",
       "  {'name': '박', 'score': 77},\n",
       "  {'name': '김', 'score': 50}],\n",
       " '_i161': \"books = \\\\\\n[{'no':1, 'title':’더트릭컬', 'writer':＇폴빠＇,＇price’:’19,800'},\\n{'no':2, 'title’:’흔한남매', 'writer’:’백난도', 'price’:’15,120'},\\n{'no':3, 'title':'단 한 번의 삶', 'writer':'김영하', 'price':'15,120'},\\n{'no':4, 'title':'가격잘못', 'writer':'홍길동', 'price':'ㅁ'},\\n{'no':5, 'title':'가격이숫자', 'writer':'백난도', 'price':30200},\\n{'no':6, 'title':'가격이없음', 'writer':'이길동’},] 정렬\",\n",
       " '_i162': \"books = \\\\\\n[{'no':1, 'title':’더트릭컬', 'writer':＇폴빠＇,＇price’:’19,800'},\\n{'no':2, 'title’:’흔한남매', 'writer’:’백난도', 'price’:’15,120'},\\n{'no':3, 'title':'단 한 번의 삶', 'writer':'김영하', 'price':'15,120'},\\n{'no':4, 'title':'가격잘못', 'writer':'홍길동', 'price':'ㅁ'},\\n{'no':5, 'title':'가격이숫자', 'writer':'백난도', 'price':30200},\\n{'no':6, 'title':'가격이없음', 'writer':'이길동’},]\",\n",
       " '_i163': \"books = \\\\\\n[{'no':2, 'title':’더트릭컬', 'writer':＇폴빠＇,＇price’:’19,800'},\\n{'no':1, 'title’:’흔한남매', 'writer’:’백난도', 'price’:’15,120'},\\n{'no':3, 'title':'단 한 번의 삶', 'writer':'김영하', 'price':'15,120'},\\n{'no':4, 'title':'가격잘못', 'writer':'홍길동', 'price':'ㅁ'},\\n{'no':5, 'title':'가격이숫자', 'writer':'백난도', 'price':30200},\\n{'no':6, 'title':'가격이없음', 'writer':'이길동’},]\",\n",
       " '_i164': \"# no 기준으로 sort\\nbooks.sort(key=lambda book:book['no'])\\nbooks\",\n",
       " '_i165': \"# no 기준으로 sort\\nbooks.sort(key=lambda book:book['tltle'])\\nbooks\",\n",
       " '_i166': \"# no 기준으로 sort\\nbooks.sort(key=lambda book:book['price'])\\nbooks\",\n",
       " '_i167': \"# no 기준으로 sort\\nbooks.sort(key=lambda book:book['title'])\\nbooks\",\n",
       " '_i168': \"# no 기준으로 sort\\nbooks.sort(key=lambda book:book.get['price'])\\nbooks\",\n",
       " '_i169': \"# no 기준으로 sort\\nbooks.sort(key=lambda book:book.get['title'])\\nbooks\",\n",
       " '_i170': \"# price 기준으로 sort\\nbooks.sort(key=lambda book:book.get['title'])\\nbooks\",\n",
       " '_i171': \"# no 기준으로 sort\\nbooks.sort(key=lambda book:book.get['no'])\\nbooks\",\n",
       " '_i172': \"# title 기준으로 sort\\nbooks.sort(key=lambda book:book.get['title'])\\nbooks\",\n",
       " '_i173': \"# price 기준으로 sort\\nbooks.sort(key=lambda book:book.get['price'])\\nbooks\",\n",
       " '_i174': \"# price 기준으로 sort\\nbooks.sort(key=lambda book:book.get['price', o)])\\nbooks\",\n",
       " '_i175': \"# price 기준으로 sort\\nbooks.sort(key=lambda book:book.get['price', o))\\nbooks\",\n",
       " '_i176': \"# price 기준으로 sort\\nbooks.sort(key=lambda book:book.get('price', o))\\nbooks\",\n",
       " '_i177': \"# 30200=>30200, '12,000'=>12000, '5000'=>5000, 'ㅁ'=>0, None =>0\\ndef parse_int(price):\\n    print(type(pruce))\\nparse_int('5000')\",\n",
       " 'parse_int': <function __main__.<lambda>(book)>,\n",
       " '_i178': \"# 30200=>30200, '12,000'=>12000, '5000'=>5000, 'ㅁ'=>0, None =>0\\ndef parse_int(price):\\n    print(type(price, str) and price.replace(',',''),.isdigit():\\n          \\nparse_int('5000')\",\n",
       " '_i179': \"# 30200=>30200, '12,000'=>12000, '5000'=>5000, 'ㅁ'=>0, None =>0\\ndef parse_int(price):\\n    if isinstance(price, str) and price.replace(',',''),.isdigit():\\n        return int(price.replace)(',','')) \\nparse_int('5000')\",\n",
       " '_i180': \"# 30200=>30200, '12,000'=>12000, '5000'=>5000, 'ㅁ'=>0, None =>0\\ndef parse_int(price):\\n    if isinstance(price, str) and price.replace(',',''),.isdigit():\\n        return int(price.replace)(',','')) \\nparse_int('ㅁ')\",\n",
       " '_i181': \"# 30200=>30200, '12,000'=>12000, '5000'=>5000, 'ㅁ'=>0, None =>0\\ndef parse_int(price):\\n    if isinstance(price, str) and price.replace(',',''),.isdigit():\\n        return int(price.replace)(',','')) \\n    elif isinstance(price, int):\\n        return price\\nprint(parse_int('12000'), parse_int('30200'), parse_int('ㅁ'), parse_int('None')\",\n",
       " '_i182': \"# 30200=>30200, '12000'=>12000, '5000'=>5000, 'ㅁ'=>0, None =>0\\ndef parse_int(price):\\n    if isinstance(price, str) and price.replace(',','').isdigit():\\n        return int(price.replace(',','')) \\n    elif isinstance(price, int):\\n        return price\\nprint(parse_int('12000'), parse_int('30200'), parse_int('ㅁ'), parse_int('None')\",\n",
       " '_i183': \"# 30200=>30200, '12000'=>12000, '5000'=>5000, 'ㅁ'=>0, None =>0\\ndef parse_int(price):\\n    if isinstance(price, str) and price.replace(',','').isdigit():\\n        return int(price.replace(',','')) \\n    elif isinstance(price, int):\\n        return price\\nprint(parse_int('12000'), parse_int('30200'), parse_int('ㅁ'), parse_int('None') )\",\n",
       " '_i184': \"# 30200=>30200, '12000'=>12000, '5000'=>5000, 'ㅁ'=>0, None =>0\\ndef parse_int(price):\\n    if isinstance(price, str) and price.replace(',','').isdigit():\\n        return int(price.replace(',','')) \\n    elif isinstance(price, int):\\n        return price\\nprint(parse_int('12000'), parse_int('30200'), parse_int('ㅁ'), parse_int('None') )\",\n",
       " '_i185': \"# 30200=>30200, '12000'=>12000, '5000'=>5000, 'ㅁ'=>0, None =>0\\ndef parse_int(price):\\n    if isinstance(price, str) and price.replace(',','').isdigit():\\n        return int(price.replace(',','')) \\n    elif isinstance(price, int):\\n        return price\\n    else:\\n        return 0\\nprint(parse_int('12000'), parse_int('30200'), parse_int('ㅁ'), parse_int('None') )\",\n",
       " '_i186': \"# 30200=>30200, '12000'=>12000, '5000'=>5000, 'ㅁ'=>0, None =>0\\ndef parse_int(price):\\n    if isinstance(price, str) and price.replace(',','').isdigit():\\n        return int(price.replace(',','')) \\n    elif isinstance(price, int):\\n        return price\\n    else:\\n        return 0\\nparse_int=lambda price:\\n          int(price.replace(',',''))\\n                if isinstance(price,str) and price,replace(',','').isdigit() else \\\\\\n          price if isinstance(price, int) else \\\\\\n          ㅇ\\nprint(parse_int('12000'), parse_int('30200'), parse_int('ㅁ'), parse_int('None') )\",\n",
       " '_i187': \"# 30200=>30200, '12000'=>12000, '5000'=>5000, 'ㅁ'=>0, None =>0\\ndef parse_int(price):\\n    if isinstance(price, str) and price.replace(',','').isdigit():\\n        return int(price.replace(',','')) \\n    elif isinstance(price, int):\\n        return price\\n    else:\\n        return 0\\n    \\nparse_int=lambda price:\\n          int(price.replace(',',''))\\n                if isinstance(price,str) and price,replace(',','').isdigit() else \\\\\\n          price if isinstance(price, int) else \\\\\\n          ㅇ\\nprint(parse_int('12000'), parse_int('30200'), parse_int('ㅁ'), parse_int('None') )\",\n",
       " '_i188': \"# 30200=>30200, '12000'=>12000, '5000'=>5000, 'ㅁ'=>0, None =>0\\ndef parse_int(price):\\n    if isinstance(price, str) and price.replace(',','').isdigit():\\n        return int(price.replace(',','')) \\n    elif isinstance(price, int):\\n        return price\\n    else:\\n        return 0\\n    \\nparse_int=lambda price: \\\\\\n          int(price.replace(',',''))\\n                if isinstance(price,str) and price,replace(',','').isdigit() else \\\\\\n          price if isinstance(price, int) else \\\\\\n          ㅇ\\nprint(parse_int('12000'), parse_int('30200'), parse_int('ㅁ'), parse_int('None') )\",\n",
       " '_i189': \"# 30200=>30200, '12000'=>12000, '5000'=>5000, 'ㅁ'=>0, None =>0\\ndef parse_int(price):\\n    if isinstance(price, str) and price.replace(',','').isdigit():\\n        return int(price.replace(',','')) \\n    elif isinstance(price, int):\\n        return price\\n    else:\\n        return 0\\n    \\nparse_int=lambda price: \\\\\\n          int(price.replace(',',''))\\n                if isinstance(price, str) and price,replace(',','').isdigit() else \\\\\\n          price if isinstance(price, int) else \\\\\\n          0\\nprint(parse_int('12000'), parse_int('30200'), parse_int('ㅁ'), parse_int('None') )\",\n",
       " '_i190': \"# {'no':5, 'title':'가격이숫자', 'writer':'백난도', 'price':12,000}=>12000\\nparse_int=lambda book: \\\\\\n          int(book.get('price').replace(',','')) \\\\\\n                if isinstance(book.get('price', str) and \\\\price,replace(',','').isdigit() else \\\\\\n          price if isinstance(price, int) else \\\\\\n          0\",\n",
       " '_i191': \"# {'no':5, 'title':'가격이숫자', 'writer':'백난도', 'price':12,000}=>12000\\nparse_int=lambda book: \\\\\\n          int(book.get('price').replace(',','')) \\\\\\n                if isinstance(book.get('price', str) and \\\\\\n                              book.get('price',replace(',','').isdigit() else \\\\\\n          book.get('price' if isinstance(book.get('price'), int) else \\\\\\n          0\\n         \\nparse_int{'no':5, 'title':'가격이숫자', 'writer':'백난도', 'price': 'ㅁ''})\",\n",
       " '_i192': \"# {'no':5, 'title':'가격이숫자', 'writer':'백난도', 'price':12,000}=>12000\\nparse_int=lambda book: \\\\\\n          int(book.get('price').replace(',','')) \\\\\\n                if isinstance(book.get('price', str) and \\\\\\n                              book.get('price',replace(',','').isdigit() else \\\\\\n          book.get('price' if isinstance(book.get('price'), int) else \\\\\\n          0\\n         \\nparse_int{'no': 5, 'title':'가격이숫자', 'writer':'백난도', 'price': 'ㅁ''})\",\n",
       " '_i193': \"# {'no':5, 'title':'가격이숫자', 'writer':'백난도', 'price':12,000}=>12000\\nparse_int=lambda book: \\\\\\n          int(book.get('price').replace(',','')) \\\\\\n                if isinstance(book.get('price', str) and \\\\\\n                              book.get('price',replace(',','').isdigit() else \\\\\\n          book.get('price' if isinstance(book.get('price'), int) else \\\\\\n          0\\n         \\nparse_int({'no': 5, 'title':'가격이숫자', 'writer':'백난도', 'price': 'ㅁ''})\",\n",
       " '_i194': \"# {'no':5, 'title':'가격이숫자', 'writer':'백난도', 'price':12,000}=>12000\\nparse_int=lambda book: \\\\\\n          int(book.get('price').replace(',','')) \\\\\\n                if isinstance(book.get('price', str) and \\\\\\n                              book.get('price',replace(',','').isdigit() else \\\\\\n          book.get('price' if isinstance(book.get('price'), int) else \\\\\\n          0\\n         \\nparse_int({'no': 5, 'title': '가격이숫자', 'writer':'백난도', 'price': 'ㅁ'})\",\n",
       " '_i195': \"# {'no':5, 'title':'가격이숫자', 'writer':'백난도', 'price':12,000}=>12000\\nparse_int=lambda book: \\\\\\n          int(book.get('price').replace(',','')) \\\\\\n                if isinstance(book.get('price', str) and \\\\\\n                              book.get('price',replace(',','').isdigit() else \\\\\\n          book.get('price' if isinstance(book.get('price'), int) else \\\\\\n          0\\n         \\nparse_int({'no': 5, 'title': '가격이숫자', 'writer':'백난도', 'price': 'ㅁ'})\",\n",
       " '_i196': \"copyBooks=books.copy() # 복제\\ncopyBooks.sort(key=lambda book: \\\\\\n          int(book.get('price').replace(',','')) \\\\\\n                if isinstance(book.get('price', str) and \\\\\\n                              book.get('price',replace(',','').isdigit() else \\\\\\n          book.get('price' if isinstance(book.get('price'), int) else \\\\\\n          0,\\n         reverse=Truse)\\ncopyBooks\",\n",
       " '_i197': \"# {'no':5, 'title':'가격이숫자', 'writer':'백난도', 'price':12,000}=>12000\\nparse_int=lambda book: \\\\\\n          int(book.get('price').replace(',','')) \\\\\\n                if isinstance(book.get('price', str) and \\\\\\n                              book.get('price',replace(',','').isdigit() else \\\\\\n          book.get('price' if isinstance(book.get('price'), int) else \\\\\\n          0\\n         \\nparse_int({'no': 5, 'title': '가격이숫자', 'writer':'백난도', 'price': 'ㅁ'})\",\n",
       " '_i198': \"# {'no':5, 'title':'가격이숫자', 'writer':'백난도', 'price':12,000}=>12000\\nparse_int=lambda book: \\\\\\n          int(book.get('price').replace(',','')) \\\\\\n                if isinstance(book.get('price', str) and \\\\\\n                              book.get('price',replace(',','').isdigit() else \\\\\\n          book.get('price') if isinstance(book.get('price'), int) else \\\\\\n          0\\n         \\nparse_int({'no': 5, 'title': '가격이숫자', 'writer':'백난도', 'price': 'ㅁ'})\",\n",
       " '_i199': \"# {'no':5, 'title':'가격이숫자', 'writer':'백난도', 'price':12,000}=>12000\\nparse_int=lambda book: \\\\\\n          int(book.get('price').replace(',','')) \\\\\\n                if isinstance(book.get('price'), str) and \\\\\\n                              book.get('price'),replace(',','').isdigit() else \\\\\\n          book.get('price') if isinstance(book.get('price'), int) else \\\\\\n          0\\n         \\nparse_int({'no': 5, 'title': '가격이숫자', 'writer':'백난도', 'price': 'ㅁ'})\",\n",
       " '_i200': \"# {'no':5, 'title':'가격이숫자', 'writer':'백난도', 'price':12,000}=>12000\\nparse_int=lambda book: \\\\\\n          int(book.get('price').replace(',','')) \\\\\\n                if isinstance(book.get('price'), str) and \\\\\\n                              book.get('price').replace(',','').isdigit() else \\\\\\n          book.get('price') if isinstance(book.get('price'), int) else \\\\\\n          0\\n         \\nparse_int({'no': 5, 'title': '가격이숫자', 'writer':'백난도', 'price': 'ㅁ'})\",\n",
       " '_200': 0,\n",
       " '_i201': \"copyBooks=books.copy() # 복제\\ncopyBooks.sort(key=lambda book: \\\\\\n          int(book.get('price').replace(',','')) \\\\\\n                if isinstance(book.get('price'), str) and \\\\\\n                              book.get('price').replace(',','').isdigit() else \\\\\\n          book.get('price') if isinstance(book.get('price'), int) else \\\\\\n          0,\\n         reverse=Truse)\\ncopyBooks\",\n",
       " '_i202': \"books =\\n[{'no':1, 'title':’더트릭컬', 'writer':＇폴빠＇,＇price’:’19,800'},\\n{'no':2, 'title’:’흔한남매', 'writer’:’백난도', 'price’:’15,120'},\\n{'no':3, 'title':'단 한 번의 삶', 'writer':'김영하', 'price':'15,120'},\\n{'no':4, 'title':'가격잘못', 'writer':'홍길동', 'price':'ㅁ'},\\n{'no':5, 'title':'가격이숫자', 'writer':'백난도', 'price':30200},\\n{'no':6, 'title':'가격이없음', 'writer':'이길동’},]\",\n",
       " '_i203': \"books = \\\\\\n   [{'no':1, 'title':'더트릭컬', 'writer':'폴빠','price':'19,800'},\\n    {'no':2, 'title':'흔한남매', 'writer':'백난도', 'price':'15,120'},\\n    {'no':3, 'title':'단 한 번의 삶', 'writer':'김영하', 'price':'15,120'},\\n    {'no':4, 'title':'가격잘못', 'writer':'홍길동', 'price':'ㅁ'},\\n    {'no':5, 'title':'가격이숫자', 'writer':'백난도', 'price':30200},\\n    {'no':6, 'title':'가격이없음', 'writer':'이길동'},] \",\n",
       " 'books': [{'no': 2, 'title': '흔한남매', 'writer': '백난도', 'price': '15,120'},\n",
       "  {'no': 3, 'title': '단 한 번의 삶', 'writer': '김영하', 'price': '15,120'},\n",
       "  {'no': 1, 'title': '더트릭컬', 'writer': '폴빠', 'price': '19,800'},\n",
       "  {'no': 4, 'title': '가격잘못', 'writer': '홍길동', 'price': 'ㅁ'},\n",
       "  {'no': 5, 'title': '가격이숫자', 'writer': '백난도', 'price': 30200},\n",
       "  {'no': 6, 'title': '가격이없음', 'writer': '이길동'}],\n",
       " '_i204': \"# no 기준으로 sort\\nbooks.sort(key=lambda book:book.get['no'])\\nbooks\",\n",
       " '_i205': \"# title 기준으로 sort\\nbooks.sort(key=lambda book:book.get['title'])\\nbooks\",\n",
       " '_i206': \"# price 기준으로 sort\\nbooks.sort(key=lambda book:book.get['price'])\\nbooks\",\n",
       " '_i207': \"# price 기준으로 sort\\nbooks.sort(key=lambda book:book.get('price', o))\\nbooks\",\n",
       " '_i208': \"# 30200=>30200, '12,000'=>12000, '5000'=>5000, 'ㅁ'=>0, None =>0\\ndef parse_int(price):\\n    print(type(pruce))\\nparse_int('5000')\",\n",
       " '_i209': \"# {'no':5, 'title':'가격이숫자', 'writer':'백난도', 'price':12,000}=>12000\",\n",
       " '_i210': \"# price 기준으로 sort\\nbooks.sort(key=lambda book:book.get('price', 0))\\nbooks\",\n",
       " '_i211': \"# 30200=>30200, '12,000'=>12000, '5000'=>5000, 'ㅁ'=>0, None =>0\\ndef parse_int(price):\\n    print(type(pruce))\\nparse_int('5000')\",\n",
       " '_i212': \"# 30200=>30200, '12,000'=>12000, '5000'=>5000, 'ㅁ'=>0, None =>0\\ndef parse_int(price):\\n    print(type(price))\\nparse_int('5000')\",\n",
       " '_i213': \"# 30200=>30200, '12,000'=>12000, '5000'=>5000, 'ㅁ'=>0, None =>0\\ndef parse_int(price):\\n    print(type(price, str) and price.replace(',','').isdigit():\\n          \\nparse_int('5000')\",\n",
       " '_i214': \"# 30200=>30200, '12,000'=>12000, '5000'=>5000, 'ㅁ'=>0, None =>0\\ndef parse_int(price):\\n    print(type(price, str) and price.replace(',','').isdigit())\\n          \\nparse_int('5000')\",\n",
       " '_i215': \"# 30200=>30200, '12,000'=>12000, '5000'=>5000, 'ㅁ'=>0, None =>0\\ndef parse_int(price):\\n    if isinstance(price, str) and price.replace(',',''),.isdigit():\\n        return int(price.replace)(',','')) \\nparse_int('5000')\",\n",
       " '_i216': \"# 30200=>30200, '12,000'=>12000, '5000'=>5000, 'ㅁ'=>0, None =>0\\ndef parse_int(price):\\n    if isinstance(price, str) and price.replace(',','').isdigit():\\n        return int(price.replace(',','')) \\nparse_int('5000')\",\n",
       " '_216': 5000,\n",
       " '_i217': \"# 30200=>30200, '12,000'=>12000, '5000'=>5000, 'ㅁ'=>0, None =>0\\ndef parse_int(price):\\n    if isinstance(price, str) and price.replace(',',''),.isdigit():\\n        return int(price.replace(',','')) \\nparse_int('ㅁ')\",\n",
       " '_i218': \"# 30200=>30200, '12,000'=>12000, '5000'=>5000, 'ㅁ'=>0, None =>0\\ndef parse_int(price):\\n    if isinstance(price, str) and price.replace(',','').isdigit():\\n        return int(price.replace(',','')) \\nparse_int('ㅁ')\",\n",
       " '_i219': \"# 30200=>30200, '12000'=>12000, '5000'=>5000, 'ㅁ'=>0, None =>0\\ndef parse_int(price):\\n    if isinstance(price, str) and price.replace(',','').isdigit():\\n        return int(price.replace(',','')) \\n    elif isinstance(price, int):\\n        return price\\n    else:\\n        return 0\\nprint(parse_int('12000'), parse_int('30200'), parse_int('ㅁ'), parse_int('None') )\",\n",
       " '_i220': \"# 30200=>30200, '12000'=>12000, '5000'=>5000, 'ㅁ'=>0, None =>0\\ndef parse_int(price):\\n    if isinstance(price, str) and price.replace(',','').isdigit():\\n        return int(price.replace(',','')) \\n    elif isinstance(price, int):\\n        return price\\n    else:\\n        return 0\\n    \\nparse_int=lambda price: \\\\\\n          int(price.replace(',',''))\\n                if isinstance(price, str) and price,replace(',','').isdigit() else \\\\\\n          price if isinstance(price, int) else \\\\\\n          0\\nprint(parse_int('12000'), parse_int('30200'), parse_int('ㅁ'), parse_int('None') )\",\n",
       " '_i221': \"# 30200=>30200, '12000'=>12000, '5000'=>5000, 'ㅁ'=>0, None =>0\\ndef parse_int(price):\\n    if isinstance(price, str) and price.replace(',','').isdigit():\\n        return int(price.replace(',','')) \\n    elif isinstance(price, int):\\n        return price\\n    else:\\n        return 0\\nprint(parse_int('12000'), parse_int('30200'), parse_int('ㅁ'), parse_int('None') )\",\n",
       " '_i222': \"# 30200=>30200, '12000'=>12000, '5000'=>5000, 'ㅁ'=>0, None =>0\\ndef parse_int(price):\\n    if isinstance(price, str) and price.replace(',','').isdigit():\\n        return int(price.replace(',','')) \\n    elif isinstance(price, int):\\n        return price\\n    else:\\n        return 0\\n    \\nparse_int=lambda price : \\\\\\n          int(price.replace(',',''))\\n                if isinstance(price, str) and price.replace(',','').isdigit() else \\\\\\n          price if isinstance(price, int) else \\\\\\n          0\\nprint(parse_int('12000'), parse_int('30200'), parse_int('ㅁ'), parse_int('None') )\",\n",
       " '_i223': \"# 30200=>30200, '12000'=>12000, '5000'=>5000, 'ㅁ'=>0, None =>0\\ndef parse_int(price):\\n    if isinstance(price, str) and price.replace(',','').isdigit():\\n        return int(price.replace(',','')) \\n    elif isinstance(price, int):\\n        return price\\n    else:\\n        return 0\\n    \\nparse_int=lambda price : \\\\\\n          int(price.replace(',','')) \\\\\\n                if isinstance(price, str) and price.replace(',','').isdigit() else \\\\\\n          price if isinstance(price, int) else \\\\\\n          0\\nprint(parse_int('12000'), parse_int('30200'), parse_int('ㅁ'), parse_int('None') )\",\n",
       " '_i224': \"# {'no':5, 'title':'가격이숫자', 'writer':'백난도', 'price':12,000}=>12000\\nparse_int=lambda book: \\\\\\n          int(book.get('price').replace(',','')) \\\\\\n                if isinstance(book.get('price'), str) and \\\\\\n                              book.get('price').replace(',','').isdigit() else \\\\\\n          book.get('price') if isinstance(book.get('price'), int) else \\\\\\n          0\\n         \\nparse_int({'no': 5, 'title': '가격이숫자', 'writer':'백난도', 'price': 'ㅁ'})\",\n",
       " '_224': 0,\n",
       " '_i225': \"# {'no':5, 'title':'가격이숫자', 'writer':'백난도', 'price':12,000}=>12000\\nparse_int=lambda book: \\\\\\n          int(book.get('price').replace(',','')) \\\\\\n                if isinstance(book.get('price'), str) and \\\\\\n                              book.get('price').replace(',','').isdigit() else \\\\\\n          book.get('price') if isinstance(book.get('price'), int) else \\\\\\n          0\\n         \\nparse_int({'no': 5, 'title': '가격이숫자', 'writer':'백난도', 'price': 'ㅁ'})\",\n",
       " '_225': 0,\n",
       " '_i226': \"copyBooks=books.copy() # 복제\\ncopyBooks.sort(key=lambda book: \\\\\\n          int(book.get('price').replace(',','')) \\\\\\n                if isinstance(book.get('price'), str) and \\\\\\n                              book.get('price').replace(',','').isdigit() else \\\\\\n          book.get('price') if isinstance(book.get('price'), int) else \\\\\\n          0,\\n         reverse=Truse)\\ncopyBooks\",\n",
       " 'copyBooks': [{'no': 5, 'title': '가격이숫자', 'writer': '백난도', 'price': 30200},\n",
       "  {'no': 1, 'title': '더트릭컬', 'writer': '폴빠', 'price': '19,800'},\n",
       "  {'no': 2, 'title': '흔한남매', 'writer': '백난도', 'price': '15,120'},\n",
       "  {'no': 3, 'title': '단 한 번의 삶', 'writer': '김영하', 'price': '15,120'},\n",
       "  {'no': 4, 'title': '가격잘못', 'writer': '홍길동', 'price': 'ㅁ'},\n",
       "  {'no': 6, 'title': '가격이없음', 'writer': '이길동'}],\n",
       " '_i227': \"copyBooks=books.copy() # 복제\\ncopyBooks.sort(key=lambda book: \\\\\\n          int(book.get('price').replace(',','')) \\\\\\n                if isinstance(book.get('price'), str) and \\\\\\n                              book.get('price').replace(',','').isdigit() else \\\\\\n          book.get('price') if isinstance(book.get('price'), int) else \\\\\\n          0,\\n         reverse=True)\\ncopyBooks\",\n",
       " '_227': [{'no': 5, 'title': '가격이숫자', 'writer': '백난도', 'price': 30200},\n",
       "  {'no': 1, 'title': '더트릭컬', 'writer': '폴빠', 'price': '19,800'},\n",
       "  {'no': 2, 'title': '흔한남매', 'writer': '백난도', 'price': '15,120'},\n",
       "  {'no': 3, 'title': '단 한 번의 삶', 'writer': '김영하', 'price': '15,120'},\n",
       "  {'no': 4, 'title': '가격잘못', 'writer': '홍길동', 'price': 'ㅁ'},\n",
       "  {'no': 6, 'title': '가격이없음', 'writer': '이길동'}],\n",
       " '_i228': 'globals(\"\") # 전역변수 리스트',\n",
       " '_i229': 'globals() # 전역변수 리스트'}"
      ]
     },
     "execution_count": 229,
     "metadata": {},
     "output_type": "execute_result"
    }
   ],
   "source": [
    "globals() # 전역변수 리스트"
   ]
  },
  {
   "cell_type": "code",
   "execution_count": null,
   "id": "2daf56ff",
   "metadata": {},
   "outputs": [],
   "source": [
    "all(True, True, True, False)"
   ]
  },
  {
   "cell_type": "markdown",
   "id": "0ce6b08e",
   "metadata": {},
   "source": [
    "# 연습\n",
    "## 실습형"
   ]
  },
  {
   "cell_type": "code",
   "execution_count": 231,
   "id": "80689823",
   "metadata": {},
   "outputs": [
    {
     "data": {
      "text/plain": [
       "{'넓이': 6.0, '둘레': 12.0}"
      ]
     },
     "execution_count": 231,
     "metadata": {},
     "output_type": "execute_result"
    }
   ],
   "source": [
    "# 실습형 3: 직각삼강형 w, h로 area, perimeter(넓이, 둘레)\n",
    "import math\n",
    "def get_triangle(w, h):\n",
    "    area=w*h*0.5\n",
    "    # math.sqrt():제곱금\n",
    "    perimeter=w+h+math.sqrt(w*w+h*h)\n",
    "    # return area, perimeter\n",
    "    return{'넓이':area, '둘레':perimeter}\n",
    "get_triangle(3, 4)"
   ]
  },
  {
   "cell_type": "markdown",
   "id": "8de96b73",
   "metadata": {},
   "source": [
    "## 서술형"
   ]
  },
  {
   "cell_type": "code",
   "execution_count": null,
   "id": "8ab8a6d9",
   "metadata": {},
   "outputs": [],
   "source": []
  },
  {
   "cell_type": "code",
   "execution_count": null,
   "id": "bfb43853",
   "metadata": {},
   "outputs": [],
   "source": []
  },
  {
   "cell_type": "code",
   "execution_count": null,
   "id": "12baeafc",
   "metadata": {},
   "outputs": [],
   "source": []
  },
  {
   "cell_type": "code",
   "execution_count": null,
   "id": "f041f664",
   "metadata": {},
   "outputs": [],
   "source": []
  },
  {
   "cell_type": "code",
   "execution_count": null,
   "id": "d0342fc6",
   "metadata": {},
   "outputs": [],
   "source": []
  },
  {
   "cell_type": "code",
   "execution_count": null,
   "id": "556646e5",
   "metadata": {},
   "outputs": [],
   "source": []
  },
  {
   "cell_type": "code",
   "execution_count": null,
   "id": "0cc4f57d",
   "metadata": {},
   "outputs": [],
   "source": []
  },
  {
   "cell_type": "code",
   "execution_count": null,
   "id": "c07bbd87",
   "metadata": {},
   "outputs": [],
   "source": []
  },
  {
   "cell_type": "code",
   "execution_count": null,
   "id": "ca7b8e53",
   "metadata": {},
   "outputs": [],
   "source": []
  },
  {
   "cell_type": "code",
   "execution_count": null,
   "id": "f297e5fa",
   "metadata": {},
   "outputs": [],
   "source": []
  },
  {
   "cell_type": "code",
   "execution_count": null,
   "id": "8bef277a",
   "metadata": {},
   "outputs": [],
   "source": []
  },
  {
   "cell_type": "code",
   "execution_count": null,
   "id": "fd049abe",
   "metadata": {},
   "outputs": [],
   "source": []
  },
  {
   "cell_type": "code",
   "execution_count": null,
   "id": "75f5b74c",
   "metadata": {},
   "outputs": [],
   "source": []
  },
  {
   "cell_type": "code",
   "execution_count": null,
   "id": "98e6fd96",
   "metadata": {},
   "outputs": [],
   "source": []
  },
  {
   "cell_type": "code",
   "execution_count": null,
   "id": "42db970c",
   "metadata": {},
   "outputs": [],
   "source": []
  },
  {
   "cell_type": "code",
   "execution_count": null,
   "id": "ed09505e",
   "metadata": {},
   "outputs": [],
   "source": []
  },
  {
   "cell_type": "code",
   "execution_count": null,
   "id": "0bcec2a8",
   "metadata": {},
   "outputs": [],
   "source": []
  },
  {
   "cell_type": "code",
   "execution_count": null,
   "id": "97c95569",
   "metadata": {},
   "outputs": [],
   "source": []
  },
  {
   "cell_type": "code",
   "execution_count": null,
   "id": "313263e6",
   "metadata": {},
   "outputs": [],
   "source": []
  },
  {
   "cell_type": "code",
   "execution_count": null,
   "id": "dee48ec1",
   "metadata": {},
   "outputs": [],
   "source": []
  },
  {
   "cell_type": "code",
   "execution_count": null,
   "id": "24477717",
   "metadata": {},
   "outputs": [],
   "source": []
  },
  {
   "cell_type": "code",
   "execution_count": null,
   "id": "4b3700d2",
   "metadata": {},
   "outputs": [],
   "source": []
  },
  {
   "cell_type": "code",
   "execution_count": null,
   "id": "757aacb2",
   "metadata": {},
   "outputs": [],
   "source": []
  },
  {
   "cell_type": "code",
   "execution_count": null,
   "id": "1bacfcaf",
   "metadata": {},
   "outputs": [],
   "source": []
  },
  {
   "cell_type": "code",
   "execution_count": null,
   "id": "5945b87b",
   "metadata": {},
   "outputs": [],
   "source": []
  },
  {
   "cell_type": "code",
   "execution_count": null,
   "id": "644ab7e0",
   "metadata": {},
   "outputs": [],
   "source": []
  },
  {
   "cell_type": "code",
   "execution_count": null,
   "id": "1720d0ca",
   "metadata": {},
   "outputs": [],
   "source": []
  },
  {
   "cell_type": "code",
   "execution_count": null,
   "id": "708c3448",
   "metadata": {},
   "outputs": [],
   "source": []
  },
  {
   "cell_type": "code",
   "execution_count": null,
   "id": "0156139a",
   "metadata": {},
   "outputs": [],
   "source": []
  },
  {
   "cell_type": "code",
   "execution_count": null,
   "id": "8716af17",
   "metadata": {},
   "outputs": [],
   "source": []
  },
  {
   "cell_type": "code",
   "execution_count": null,
   "id": "ff5b13b1",
   "metadata": {},
   "outputs": [],
   "source": []
  },
  {
   "cell_type": "code",
   "execution_count": null,
   "id": "be4b1bd3",
   "metadata": {},
   "outputs": [],
   "source": []
  },
  {
   "cell_type": "code",
   "execution_count": null,
   "id": "b607f478",
   "metadata": {},
   "outputs": [],
   "source": []
  },
  {
   "cell_type": "code",
   "execution_count": null,
   "id": "c4a29348",
   "metadata": {},
   "outputs": [],
   "source": []
  },
  {
   "cell_type": "code",
   "execution_count": null,
   "id": "67ac4466",
   "metadata": {},
   "outputs": [],
   "source": []
  },
  {
   "cell_type": "code",
   "execution_count": null,
   "id": "e7c477a2",
   "metadata": {},
   "outputs": [],
   "source": []
  },
  {
   "cell_type": "code",
   "execution_count": null,
   "id": "133f55b5",
   "metadata": {},
   "outputs": [],
   "source": []
  },
  {
   "cell_type": "code",
   "execution_count": null,
   "id": "1ad162ac",
   "metadata": {},
   "outputs": [],
   "source": []
  },
  {
   "cell_type": "code",
   "execution_count": null,
   "id": "73855eaf",
   "metadata": {},
   "outputs": [],
   "source": []
  },
  {
   "cell_type": "code",
   "execution_count": null,
   "id": "60a83ae5",
   "metadata": {},
   "outputs": [],
   "source": []
  },
  {
   "cell_type": "code",
   "execution_count": null,
   "id": "736b23b4",
   "metadata": {},
   "outputs": [],
   "source": []
  },
  {
   "cell_type": "code",
   "execution_count": null,
   "id": "f694d22d",
   "metadata": {},
   "outputs": [],
   "source": []
  },
  {
   "cell_type": "code",
   "execution_count": null,
   "id": "91fa4585",
   "metadata": {},
   "outputs": [],
   "source": []
  },
  {
   "cell_type": "code",
   "execution_count": null,
   "id": "24c74d36",
   "metadata": {},
   "outputs": [],
   "source": []
  },
  {
   "cell_type": "code",
   "execution_count": null,
   "id": "d9421113",
   "metadata": {},
   "outputs": [],
   "source": []
  },
  {
   "cell_type": "code",
   "execution_count": null,
   "id": "b06a6f41",
   "metadata": {},
   "outputs": [],
   "source": []
  },
  {
   "cell_type": "code",
   "execution_count": null,
   "id": "5a3e3998",
   "metadata": {},
   "outputs": [],
   "source": []
  },
  {
   "cell_type": "code",
   "execution_count": null,
   "id": "0e9ef9be",
   "metadata": {},
   "outputs": [],
   "source": []
  },
  {
   "cell_type": "code",
   "execution_count": null,
   "id": "549b008e",
   "metadata": {},
   "outputs": [],
   "source": []
  },
  {
   "cell_type": "code",
   "execution_count": null,
   "id": "8d2fcf57",
   "metadata": {},
   "outputs": [],
   "source": []
  },
  {
   "cell_type": "code",
   "execution_count": null,
   "id": "fc82b1ad",
   "metadata": {},
   "outputs": [],
   "source": []
  },
  {
   "cell_type": "code",
   "execution_count": null,
   "id": "7f568264",
   "metadata": {},
   "outputs": [],
   "source": []
  },
  {
   "cell_type": "code",
   "execution_count": null,
   "id": "9e1969ce",
   "metadata": {},
   "outputs": [],
   "source": []
  },
  {
   "cell_type": "code",
   "execution_count": null,
   "id": "d05aadbd",
   "metadata": {},
   "outputs": [],
   "source": []
  },
  {
   "cell_type": "code",
   "execution_count": null,
   "id": "3bcc84d3",
   "metadata": {},
   "outputs": [],
   "source": []
  },
  {
   "cell_type": "code",
   "execution_count": null,
   "id": "645fa9f2",
   "metadata": {},
   "outputs": [],
   "source": []
  },
  {
   "cell_type": "code",
   "execution_count": null,
   "id": "edb5fffb",
   "metadata": {},
   "outputs": [],
   "source": []
  },
  {
   "cell_type": "code",
   "execution_count": null,
   "id": "daec1231",
   "metadata": {},
   "outputs": [],
   "source": []
  },
  {
   "cell_type": "code",
   "execution_count": null,
   "id": "ba25f100",
   "metadata": {},
   "outputs": [],
   "source": []
  },
  {
   "cell_type": "code",
   "execution_count": null,
   "id": "49fc0b1c",
   "metadata": {},
   "outputs": [],
   "source": []
  },
  {
   "cell_type": "code",
   "execution_count": null,
   "id": "d9a89e67",
   "metadata": {},
   "outputs": [],
   "source": []
  },
  {
   "cell_type": "code",
   "execution_count": null,
   "id": "ba4e034a",
   "metadata": {},
   "outputs": [],
   "source": []
  },
  {
   "cell_type": "code",
   "execution_count": null,
   "id": "f2fa61bf",
   "metadata": {},
   "outputs": [],
   "source": []
  },
  {
   "cell_type": "code",
   "execution_count": null,
   "id": "63bc1f0a",
   "metadata": {},
   "outputs": [],
   "source": []
  },
  {
   "cell_type": "code",
   "execution_count": null,
   "id": "42cae4f7",
   "metadata": {},
   "outputs": [],
   "source": []
  },
  {
   "cell_type": "code",
   "execution_count": null,
   "id": "62cd1518",
   "metadata": {},
   "outputs": [],
   "source": []
  },
  {
   "cell_type": "code",
   "execution_count": null,
   "id": "a8368814",
   "metadata": {},
   "outputs": [],
   "source": []
  },
  {
   "cell_type": "code",
   "execution_count": null,
   "id": "b1a88a5b",
   "metadata": {},
   "outputs": [],
   "source": []
  },
  {
   "cell_type": "code",
   "execution_count": null,
   "id": "540cdb88",
   "metadata": {},
   "outputs": [],
   "source": []
  },
  {
   "cell_type": "code",
   "execution_count": null,
   "id": "726ac21f",
   "metadata": {},
   "outputs": [],
   "source": []
  },
  {
   "cell_type": "code",
   "execution_count": null,
   "id": "6e598d74",
   "metadata": {},
   "outputs": [],
   "source": []
  },
  {
   "cell_type": "code",
   "execution_count": null,
   "id": "6b18d682",
   "metadata": {},
   "outputs": [],
   "source": []
  },
  {
   "cell_type": "code",
   "execution_count": null,
   "id": "1c5b31df",
   "metadata": {},
   "outputs": [],
   "source": []
  },
  {
   "cell_type": "code",
   "execution_count": null,
   "id": "c909756d",
   "metadata": {},
   "outputs": [],
   "source": []
  },
  {
   "cell_type": "code",
   "execution_count": null,
   "id": "c7943d5e",
   "metadata": {},
   "outputs": [],
   "source": []
  },
  {
   "cell_type": "code",
   "execution_count": null,
   "id": "e040de46",
   "metadata": {},
   "outputs": [],
   "source": []
  },
  {
   "cell_type": "code",
   "execution_count": null,
   "id": "28a989d6",
   "metadata": {},
   "outputs": [],
   "source": []
  },
  {
   "cell_type": "code",
   "execution_count": null,
   "id": "02a91ad2",
   "metadata": {},
   "outputs": [],
   "source": []
  },
  {
   "cell_type": "code",
   "execution_count": null,
   "id": "c4996f8b",
   "metadata": {},
   "outputs": [],
   "source": []
  },
  {
   "cell_type": "code",
   "execution_count": null,
   "id": "49b4193e",
   "metadata": {},
   "outputs": [],
   "source": []
  },
  {
   "cell_type": "code",
   "execution_count": null,
   "id": "9c6854c2",
   "metadata": {},
   "outputs": [],
   "source": []
  },
  {
   "cell_type": "code",
   "execution_count": null,
   "id": "8c467e43",
   "metadata": {},
   "outputs": [],
   "source": []
  },
  {
   "cell_type": "code",
   "execution_count": null,
   "id": "37b45602",
   "metadata": {},
   "outputs": [],
   "source": []
  },
  {
   "cell_type": "code",
   "execution_count": null,
   "id": "e40f5748",
   "metadata": {},
   "outputs": [],
   "source": []
  },
  {
   "cell_type": "code",
   "execution_count": null,
   "id": "6e24da2a",
   "metadata": {},
   "outputs": [],
   "source": []
  },
  {
   "cell_type": "code",
   "execution_count": null,
   "id": "417cdb55",
   "metadata": {},
   "outputs": [],
   "source": []
  },
  {
   "cell_type": "code",
   "execution_count": null,
   "id": "8701f4c8",
   "metadata": {},
   "outputs": [],
   "source": []
  },
  {
   "cell_type": "code",
   "execution_count": null,
   "id": "1483ce00",
   "metadata": {},
   "outputs": [],
   "source": []
  },
  {
   "cell_type": "code",
   "execution_count": null,
   "id": "dfb7399b",
   "metadata": {},
   "outputs": [],
   "source": []
  },
  {
   "cell_type": "code",
   "execution_count": null,
   "id": "cd8e571a",
   "metadata": {},
   "outputs": [],
   "source": []
  },
  {
   "cell_type": "code",
   "execution_count": null,
   "id": "cf71abd0",
   "metadata": {},
   "outputs": [],
   "source": []
  },
  {
   "cell_type": "code",
   "execution_count": null,
   "id": "7aed0b4e",
   "metadata": {},
   "outputs": [],
   "source": []
  },
  {
   "cell_type": "code",
   "execution_count": null,
   "id": "ce16c3e5",
   "metadata": {},
   "outputs": [],
   "source": []
  },
  {
   "cell_type": "code",
   "execution_count": null,
   "id": "fb85a71f",
   "metadata": {},
   "outputs": [],
   "source": []
  },
  {
   "cell_type": "code",
   "execution_count": null,
   "id": "dc5a44ed",
   "metadata": {},
   "outputs": [],
   "source": []
  },
  {
   "cell_type": "code",
   "execution_count": null,
   "id": "ff35878c",
   "metadata": {},
   "outputs": [],
   "source": []
  },
  {
   "cell_type": "code",
   "execution_count": null,
   "id": "33730411",
   "metadata": {},
   "outputs": [],
   "source": []
  },
  {
   "cell_type": "code",
   "execution_count": null,
   "id": "1eca143f",
   "metadata": {},
   "outputs": [],
   "source": []
  },
  {
   "cell_type": "code",
   "execution_count": null,
   "id": "c682db33",
   "metadata": {},
   "outputs": [],
   "source": []
  },
  {
   "cell_type": "code",
   "execution_count": null,
   "id": "27362cb2",
   "metadata": {},
   "outputs": [],
   "source": []
  },
  {
   "cell_type": "code",
   "execution_count": null,
   "id": "963c6cf9",
   "metadata": {},
   "outputs": [],
   "source": []
  },
  {
   "cell_type": "code",
   "execution_count": null,
   "id": "4a83651d",
   "metadata": {},
   "outputs": [],
   "source": []
  },
  {
   "cell_type": "code",
   "execution_count": null,
   "id": "833dd79f",
   "metadata": {},
   "outputs": [],
   "source": []
  },
  {
   "cell_type": "code",
   "execution_count": null,
   "id": "5cf4f082",
   "metadata": {},
   "outputs": [],
   "source": []
  },
  {
   "cell_type": "code",
   "execution_count": null,
   "id": "7b39b1af",
   "metadata": {},
   "outputs": [],
   "source": []
  },
  {
   "cell_type": "code",
   "execution_count": null,
   "id": "b6750796",
   "metadata": {},
   "outputs": [],
   "source": []
  },
  {
   "cell_type": "code",
   "execution_count": null,
   "id": "3a2b50df",
   "metadata": {},
   "outputs": [],
   "source": []
  },
  {
   "cell_type": "code",
   "execution_count": null,
   "id": "fabc96f1",
   "metadata": {},
   "outputs": [],
   "source": []
  },
  {
   "cell_type": "code",
   "execution_count": null,
   "id": "3cc78dfc",
   "metadata": {},
   "outputs": [],
   "source": []
  },
  {
   "cell_type": "code",
   "execution_count": null,
   "id": "cd310d36",
   "metadata": {},
   "outputs": [],
   "source": []
  },
  {
   "cell_type": "code",
   "execution_count": null,
   "id": "1c52ecd9",
   "metadata": {},
   "outputs": [],
   "source": []
  },
  {
   "cell_type": "code",
   "execution_count": null,
   "id": "9c0c097e",
   "metadata": {},
   "outputs": [],
   "source": []
  },
  {
   "cell_type": "code",
   "execution_count": null,
   "id": "b0db67e4",
   "metadata": {},
   "outputs": [],
   "source": []
  },
  {
   "cell_type": "code",
   "execution_count": null,
   "id": "329fcc5b",
   "metadata": {},
   "outputs": [],
   "source": []
  },
  {
   "cell_type": "code",
   "execution_count": null,
   "id": "558d551f",
   "metadata": {},
   "outputs": [],
   "source": []
  },
  {
   "cell_type": "code",
   "execution_count": null,
   "id": "4c32b5f5",
   "metadata": {},
   "outputs": [],
   "source": []
  },
  {
   "cell_type": "code",
   "execution_count": null,
   "id": "6bea7faf",
   "metadata": {},
   "outputs": [],
   "source": []
  },
  {
   "cell_type": "code",
   "execution_count": null,
   "id": "fe5555a1",
   "metadata": {},
   "outputs": [],
   "source": []
  },
  {
   "cell_type": "code",
   "execution_count": null,
   "id": "e635eef4",
   "metadata": {},
   "outputs": [],
   "source": []
  },
  {
   "cell_type": "code",
   "execution_count": null,
   "id": "ab356434",
   "metadata": {},
   "outputs": [],
   "source": []
  },
  {
   "cell_type": "code",
   "execution_count": null,
   "id": "bc9df621",
   "metadata": {},
   "outputs": [],
   "source": []
  },
  {
   "cell_type": "code",
   "execution_count": null,
   "id": "eb1c04f4",
   "metadata": {},
   "outputs": [],
   "source": []
  },
  {
   "cell_type": "code",
   "execution_count": null,
   "id": "d8fad56e",
   "metadata": {},
   "outputs": [],
   "source": []
  },
  {
   "cell_type": "code",
   "execution_count": null,
   "id": "3b208474",
   "metadata": {},
   "outputs": [],
   "source": []
  },
  {
   "cell_type": "code",
   "execution_count": null,
   "id": "7b4134fb",
   "metadata": {},
   "outputs": [],
   "source": []
  },
  {
   "cell_type": "code",
   "execution_count": null,
   "id": "ce4cba32",
   "metadata": {},
   "outputs": [],
   "source": []
  },
  {
   "cell_type": "code",
   "execution_count": null,
   "id": "527978aa",
   "metadata": {},
   "outputs": [],
   "source": []
  },
  {
   "cell_type": "code",
   "execution_count": null,
   "id": "321e47fc",
   "metadata": {},
   "outputs": [],
   "source": []
  },
  {
   "cell_type": "code",
   "execution_count": null,
   "id": "848b3180",
   "metadata": {},
   "outputs": [],
   "source": []
  },
  {
   "cell_type": "code",
   "execution_count": null,
   "id": "9388dbf3",
   "metadata": {},
   "outputs": [],
   "source": []
  },
  {
   "cell_type": "code",
   "execution_count": null,
   "id": "346bbb4e",
   "metadata": {},
   "outputs": [],
   "source": []
  },
  {
   "cell_type": "code",
   "execution_count": null,
   "id": "6aba9b1d",
   "metadata": {},
   "outputs": [],
   "source": []
  },
  {
   "cell_type": "code",
   "execution_count": null,
   "id": "665f1ad6",
   "metadata": {},
   "outputs": [],
   "source": []
  },
  {
   "cell_type": "code",
   "execution_count": null,
   "id": "665ff181",
   "metadata": {},
   "outputs": [],
   "source": []
  },
  {
   "cell_type": "code",
   "execution_count": null,
   "id": "ba96edb6",
   "metadata": {},
   "outputs": [],
   "source": []
  },
  {
   "cell_type": "code",
   "execution_count": null,
   "id": "353757e8",
   "metadata": {},
   "outputs": [],
   "source": []
  },
  {
   "cell_type": "code",
   "execution_count": null,
   "id": "519d52e9",
   "metadata": {},
   "outputs": [],
   "source": []
  },
  {
   "cell_type": "code",
   "execution_count": null,
   "id": "fd28c687",
   "metadata": {},
   "outputs": [],
   "source": []
  },
  {
   "cell_type": "code",
   "execution_count": null,
   "id": "1a369ed3",
   "metadata": {},
   "outputs": [],
   "source": []
  },
  {
   "cell_type": "code",
   "execution_count": null,
   "id": "fbcba53a",
   "metadata": {},
   "outputs": [],
   "source": []
  },
  {
   "cell_type": "code",
   "execution_count": null,
   "id": "431fa3e4",
   "metadata": {},
   "outputs": [],
   "source": []
  },
  {
   "cell_type": "code",
   "execution_count": null,
   "id": "c1e8235f",
   "metadata": {},
   "outputs": [],
   "source": []
  },
  {
   "cell_type": "code",
   "execution_count": null,
   "id": "026df5ce",
   "metadata": {},
   "outputs": [],
   "source": []
  },
  {
   "cell_type": "code",
   "execution_count": null,
   "id": "2cfc6e3b",
   "metadata": {},
   "outputs": [],
   "source": []
  },
  {
   "cell_type": "code",
   "execution_count": null,
   "id": "546c16c4",
   "metadata": {},
   "outputs": [],
   "source": []
  },
  {
   "cell_type": "code",
   "execution_count": null,
   "id": "331b212b",
   "metadata": {},
   "outputs": [],
   "source": []
  },
  {
   "cell_type": "code",
   "execution_count": null,
   "id": "83e38ceb",
   "metadata": {},
   "outputs": [],
   "source": []
  },
  {
   "cell_type": "code",
   "execution_count": null,
   "id": "884280ad",
   "metadata": {},
   "outputs": [],
   "source": []
  },
  {
   "cell_type": "code",
   "execution_count": null,
   "id": "8c894650",
   "metadata": {},
   "outputs": [],
   "source": []
  },
  {
   "cell_type": "code",
   "execution_count": null,
   "id": "3f6a0828",
   "metadata": {},
   "outputs": [],
   "source": []
  },
  {
   "cell_type": "code",
   "execution_count": null,
   "id": "d675ffa2",
   "metadata": {},
   "outputs": [],
   "source": []
  },
  {
   "cell_type": "code",
   "execution_count": null,
   "id": "009e7875",
   "metadata": {},
   "outputs": [],
   "source": []
  },
  {
   "cell_type": "code",
   "execution_count": null,
   "id": "9c4b5d76",
   "metadata": {},
   "outputs": [],
   "source": []
  },
  {
   "cell_type": "code",
   "execution_count": null,
   "id": "e4bce378",
   "metadata": {},
   "outputs": [],
   "source": []
  },
  {
   "cell_type": "code",
   "execution_count": null,
   "id": "e16f9e00",
   "metadata": {},
   "outputs": [],
   "source": []
  },
  {
   "cell_type": "code",
   "execution_count": null,
   "id": "2bc9147f",
   "metadata": {},
   "outputs": [],
   "source": []
  },
  {
   "cell_type": "code",
   "execution_count": null,
   "id": "c36fa9e5",
   "metadata": {},
   "outputs": [],
   "source": []
  },
  {
   "cell_type": "code",
   "execution_count": null,
   "id": "34816754",
   "metadata": {},
   "outputs": [],
   "source": []
  },
  {
   "cell_type": "code",
   "execution_count": null,
   "id": "33db8a17",
   "metadata": {},
   "outputs": [],
   "source": []
  },
  {
   "cell_type": "code",
   "execution_count": null,
   "id": "2542989c",
   "metadata": {},
   "outputs": [],
   "source": []
  },
  {
   "cell_type": "code",
   "execution_count": null,
   "id": "6d4430ca",
   "metadata": {},
   "outputs": [],
   "source": []
  },
  {
   "cell_type": "code",
   "execution_count": null,
   "id": "ab6c7bb4",
   "metadata": {},
   "outputs": [],
   "source": []
  },
  {
   "cell_type": "code",
   "execution_count": null,
   "id": "446565cc",
   "metadata": {},
   "outputs": [],
   "source": []
  },
  {
   "cell_type": "code",
   "execution_count": null,
   "id": "77a06067",
   "metadata": {},
   "outputs": [],
   "source": []
  },
  {
   "cell_type": "code",
   "execution_count": null,
   "id": "e17b410d",
   "metadata": {},
   "outputs": [],
   "source": []
  },
  {
   "cell_type": "code",
   "execution_count": null,
   "id": "898b4c11",
   "metadata": {},
   "outputs": [],
   "source": []
  },
  {
   "cell_type": "code",
   "execution_count": null,
   "id": "1e186afc",
   "metadata": {},
   "outputs": [],
   "source": []
  }
 ],
 "metadata": {
  "kernelspec": {
   "display_name": "Python 3 (ipykernel)",
   "language": "python",
   "name": "python3"
  },
  "language_info": {
   "codemirror_mode": {
    "name": "ipython",
    "version": 3
   },
   "file_extension": ".py",
   "mimetype": "text/x-python",
   "name": "python",
   "nbconvert_exporter": "python",
   "pygments_lexer": "ipython3",
   "version": "3.10.9"
  },
  "toc": {
   "base_numbering": 1,
   "nav_menu": {},
   "number_sections": false,
   "sideBar": true,
   "skip_h1_title": false,
   "title_cell": "Table of Contents",
   "title_sidebar": "Contents",
   "toc_cell": false,
   "toc_position": {
    "height": "calc(100% - 180px)",
    "left": "10px",
    "top": "150px",
    "width": "165px"
   },
   "toc_section_display": true,
   "toc_window_display": true
  }
 },
 "nbformat": 4,
 "nbformat_minor": 5
}
