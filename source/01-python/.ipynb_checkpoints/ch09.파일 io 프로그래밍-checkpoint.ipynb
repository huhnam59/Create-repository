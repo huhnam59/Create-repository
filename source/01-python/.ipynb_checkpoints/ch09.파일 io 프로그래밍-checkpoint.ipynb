{
 "cells": [
  {
   "cell_type": "code",
   "execution_count": 12,
   "id": "3ea0631c",
   "metadata": {},
   "outputs": [
    {
     "data": {
      "text/html": [
       "\n",
       "<style>\n",
       "div.container{width:90% !important;}\n",
       "div.cell.code_cell.rendered{width:100%;}\n",
       "div.input_prompt{padding:0px;}\n",
       "div.CodeMirror {font-family:Consolas; font-size:22pt;}\n",
       "div.text_cell_render.rendered_html{font-size:10pt;}\n",
       "div.output {font-size:22pt; font-weight:bold;}\n",
       "div.input {font-family:Consolas; font-size:22pt;}\n",
       "div.prompt {min-width:70px;}\n",
       "div#toc-wrapper{padding-top:120px;}\n",
       "div.text_cell_render ul li{font-size:22pt;padding:5px;}\n",
       "table.dataframe{font-size:22px;}\n",
       "</style>\n"
      ],
      "text/plain": [
       "<IPython.core.display.HTML object>"
      ]
     },
     "metadata": {},
     "output_type": "display_data"
    }
   ],
   "source": [
    "from IPython.display import display, HTML\n",
    "display(HTML(\"\"\"\n",
    "<style>\n",
    "div.container{width:90% !important;}\n",
    "div.cell.code_cell.rendered{width:100%;}\n",
    "div.input_prompt{padding:0px;}\n",
    "div.CodeMirror {font-family:Consolas; font-size:22pt;}\n",
    "div.text_cell_render.rendered_html{font-size:18pt;}\n",
    "div.output {font-size:22pt; font-weight:bold;}\n",
    "div.input {font-family:Consolas; font-size:22pt;}\n",
    "div.prompt {min-width:70px;}\n",
    "div#toc-wrapper{padding-top:120px;}\n",
    "div.text_cell_render ul li{font-size:22pt;padding:5px;}\n",
    "table.dataframe{font-size:22px;}\n",
    "</style>\n",
    "\"\"\"))"
   ]
  },
  {
   "cell_type": "code",
   "execution_count": null,
   "id": "1728918d",
   "metadata": {},
   "outputs": [],
   "source": [
    "<b><font size=\"7\" color=\"red\">ch09. 파일 i/o  프로그래밍/font></b>\n",
    "- 파일: txt, pickle(머신러링 모델저장, 배열 저장 ),csv, json,h5(딥러닝모델 저장) * 다단계 선형. 비선형 모델\n",
    "1절 txt 파일에 데이터 자장하고 불러오기"
   ]
  },
  {
   "cell_type": "code",
   "execution_count": 5,
   "id": "c5780219",
   "metadata": {},
   "outputs": [
    {
     "name": "stdout",
     "output_type": "stream",
     "text": [
      "쓰기 가능한지: True\n"
     ]
    }
   ],
   "source": [
    "# mode = 'r' 또는 'rt' : 텍스트 읽기 모드로 열기, 파일이 없을 경우 예외 발생\n",
    "# mode = 'w' 또는 'wt' : 텍스트 쓰기 모드로 열기, 폴더가 없을 경우 예외 발생\n",
    "                    # 파일이 없으면 생성, 있으면 덮어씀\n",
    "# mode= 'a' 똔ㄴ 'at': 텍스트 쓰기모드로 열기, 폴더가 없을 경우 예외 발생\n",
    "                    # 파일이 없으면 생성, 있으면 뒤에 append\n",
    "f=open('data/ch09.txt','w', encoding='utf-8') # encoding='cp949'\n",
    "print('쓰기 가능한지:', f.writable())\n",
    "f.write('안녕\\n파이썬\\hello\\nworld\\n')\n",
    "f.close()"
   ]
  },
  {
   "cell_type": "code",
   "execution_count": 3,
   "id": "6965b1d0",
   "metadata": {},
   "outputs": [
    {
     "data": {
      "text/plain": [
       "12"
      ]
     },
     "execution_count": 3,
     "metadata": {},
     "output_type": "execute_result"
    }
   ],
   "source": [
    "f.write('hello\\nworld\\n')"
   ]
  },
  {
   "cell_type": "code",
   "execution_count": 4,
   "id": "071c47b8",
   "metadata": {},
   "outputs": [],
   "source": [
    "f.close()"
   ]
  },
  {
   "cell_type": "code",
   "execution_count": 8,
   "id": "5ab97a1e",
   "metadata": {},
   "outputs": [
    {
     "name": "stdout",
     "output_type": "stream",
     "text": [
      "쓰기 가능한지: True\n"
     ]
    }
   ],
   "source": [
    "# with 구문 사용하면 매면 close()하는 코드 필요\n",
    "with open('data/ch09.txt', 'wt') as f:\n",
    "          print('쓰기 가능한지:', f.writable())\n",
    "          f.write('Python is easy.\\nPython is smart.\\n')"
   ]
  },
  {
   "cell_type": "code",
   "execution_count": 10,
   "id": "cf77e2e3",
   "metadata": {},
   "outputs": [
    {
     "name": "stdout",
     "output_type": "stream",
     "text": [
      "프린트함수로 파일 쓰기 가능. -콘솔출력\n"
     ]
    }
   ],
   "source": [
    "with open('data/ch09.txt', 'a') as f:\n",
    "          print('프린트함수로 파일 쓰기 가능. -파일출력', file=f)\n",
    "          print('프린트함수로 파일 쓰기 가능. -콘솔출력')"
   ]
  },
  {
   "cell_type": "code",
   "execution_count": null,
   "id": "6ec45967",
   "metadata": {},
   "outputs": [],
   "source": [
    "- 한글 읽기/쓰기\n",
    "* cp949(한글완성형 확장형): open 함수의 기본 인코딩(win)\n",
    "* utf-8(한글조합형): 주피터노트북에서 열기"
   ]
  },
  {
   "cell_type": "code",
   "execution_count": null,
   "id": "700205bf",
   "metadata": {},
   "outputs": [],
   "source": [
    "*.txt(텍스트 저장) \n",
    "*.pickle, *.pkl, *.data(객체 list, diclist)\n",
    "*.csv: 다수의 데이터\n",
    "*.json: 다수의 데이터\n",
    "*.h5, *,hdf5(객체, diclist)"
   ]
  },
  {
   "cell_type": "code",
   "execution_count": 6,
   "id": "0472d773",
   "metadata": {},
   "outputs": [],
   "source": [
    "with open('data/ch09.txt', 'w', encoding='UTF-8') as f:\n",
    "    # 방법1\n",
    "    f.write('홍길동, 30, 서울\\n')\n",
    "    f.write('김길동, 45, 서울\\n')\n",
    "    # 방법2\n",
    "    textlist=['홍길동, 30, 서울\\n', '김길동, 45, 서울\\n']\n",
    "    for line in textlist:\n",
    "        f.write(line)\n",
    "    # 방법3\n",
    "    f.writelines(textlist) # 리스트를 한번에 write"
   ]
  },
  {
   "cell_type": "code",
   "execution_count": 7,
   "id": "fede9003",
   "metadata": {},
   "outputs": [
    {
     "data": {
      "text/plain": [
       "'홍길동, 30, 서울\\n김길동, 45, 서울\\n홍길동, 30, 서울\\n김길동, 45, 서울\\n홍길동, 30, 서울\\n김길동, 45, 서울\\n'"
      ]
     },
     "execution_count": 7,
     "metadata": {},
     "output_type": "execute_result"
    }
   ],
   "source": [
    "# 파일을 한번에 읽어오기\n",
    "with open('data/ch09.txt', 'rt', encoding='utf-8') as f:\n",
    "    filecotent = f.read()\n",
    "filecotent"
   ]
  },
  {
   "cell_type": "code",
   "execution_count": 8,
   "id": "01cb576b",
   "metadata": {},
   "outputs": [
    {
     "name": "stdout",
     "output_type": "stream",
     "text": [
      "홍길동, 30, 서울\n",
      "김길동, 45, 서울\n",
      "홍길동, 30, 서울\n",
      "김길동, 45, 서울\n",
      "홍길동, 30, 서울\n",
      "김길동, 45, 서울\n"
     ]
    }
   ],
   "source": [
    "# 파일을 한줄 읽고 출력, 한줄읽고 출력,...\n",
    "with open('data/ch09.txt', 'r', encoding='utf-8') as txtfile:\n",
    "    line=txtfile.readline()\n",
    "    while line !='':\n",
    "        print(line, end='')# Line에 \\m이 포함되어 있어 출력시  개행은 제거\n",
    "        line=txtfile.readline()"
   ]
  },
  {
   "cell_type": "code",
   "execution_count": 9,
   "id": "fb087486",
   "metadata": {},
   "outputs": [
    {
     "name": "stdout",
     "output_type": "stream",
     "text": [
      "['홍길동, 30, 서울\\n', '김길동, 45, 서울\\n', '홍길동, 30, 서울\\n', '김길동, 45, 서울\\n', '홍길동, 30, 서울\\n', '김길동, 45, 서울\\n']\n"
     ]
    }
   ],
   "source": [
    "# 파일을 한번에 여려줄 읽어 한줄씩 LIST 담아 return \n",
    "with open('data/ch09.txt', 'r', encoding='utf-8') as txtfile:\n",
    "    lines=txtfile.readlines()\n",
    "print(lines)"
   ]
  },
  {
   "cell_type": "code",
   "execution_count": 11,
   "id": "10ce4b15",
   "metadata": {},
   "outputs": [
    {
     "name": "stdout",
     "output_type": "stream",
     "text": [
      "홍길동, 30, 서울\n",
      "김길동, 45, 서울\n",
      "홍길동, 30, 서울\n",
      "김길동, 45, 서울\n",
      "홍길동, 30, 서울\n",
      "김길동, 45, 서울\n"
     ]
    }
   ],
   "source": [
    "for line in lines:\n",
    "    print(line, end='')"
   ]
  },
  {
   "cell_type": "markdown",
   "id": "b40e4f9b",
   "metadata": {},
   "source": [
    "# 2절 피클을 이용한 객체 저장, 불러오기\n",
    "- 머신러닝 모델 저장,ㅇ, 배열 저장, 객체저장\n",
    "## 2.1 형식이 있는 텍스트 데이터 불러오기"
   ]
  },
  {
   "cell_type": "code",
   "execution_count": 12,
   "id": "0de2c044",
   "metadata": {},
   "outputs": [
    {
     "name": "stdout",
     "output_type": "stream",
     "text": [
      "['홍길동, 20, kildong@hong.com, 서울시 관악구\\n', '홍길숙, 25, kilsuk1@hong.com, 서울시 영등포구\\n', '신길동, 30, shinkil@hong.com, 서울시 동작구']\n"
     ]
    }
   ],
   "source": [
    "with open('data/ch09_member.txt', 'r', encoding='UTF-8') as f:\n",
    "    lines=f.readlines()\n",
    "print(lines)"
   ]
  },
  {
   "cell_type": "code",
   "execution_count": 17,
   "id": "e0b83299",
   "metadata": {},
   "outputs": [
    {
     "name": "stdout",
     "output_type": "stream",
     "text": [
      "{'name': '홍길동', 'age': 20, 'email': ' kildong@hong.com', 'address': '서울시 관악구'}\n",
      "{'name': '홍길숙', 'age': 25, 'email': ' kilsuk1@hong.com', 'address': '서울시 영등포구'}\n",
      "{'name': '신길동', 'age': 30, 'email': ' shinkil@hong.com', 'address': '서울시 동작구'}\n"
     ]
    }
   ],
   "source": [
    "with open('data/ch09_member.txt', 'r', encoding='UTF-8') as f:\n",
    "    lines=f.readlines()\n",
    "# print(lines)\n",
    "for line in lines:\n",
    "    # print(line)\n",
    "    data=line.split(',')\n",
    "    # print(data)\n",
    "    name=data[0]\n",
    "    age=int(data[1])\n",
    "    email=data[2]\n",
    "    address=data[3].strip()\n",
    "    print({'name': name,\n",
    "          'age':age,\n",
    "          'email':email,\n",
    "          'address': address})"
   ]
  },
  {
   "cell_type": "code",
   "execution_count": 23,
   "id": "0a0d170a",
   "metadata": {},
   "outputs": [],
   "source": [
    "class Member:\n",
    "    def __init__(self, name, age, emali, address):\n",
    "        self.name=name\n",
    "        self.age=age\n",
    "        self.email=email\n",
    "        self.address=address\n",
    "    def __str__(self):\n",
    "        return \"{}, {}, {}, {}\".format(self.name, self.age, self.email, self.address)"
   ]
  },
  {
   "cell_type": "code",
   "execution_count": 22,
   "id": "81c01f9a",
   "metadata": {},
   "outputs": [
    {
     "name": "stdout",
     "output_type": "stream",
     "text": [
      "신길동, 30,  shinkil@hong.com, 서울시 동작구\n",
      "신길동, 30,  shinkil@hong.com, 서울시 동작구\n",
      "False\n"
     ]
    }
   ],
   "source": [
    "member1=Member(\"신길동\", 30, 'shink1@hong,com', '서울시 동작구')\n",
    "member2=Member(\"신길동\", 30, 'shink1@hong,com', '서울시 동작구')\n",
    "print(member1)\n",
    "print(member2)\n",
    "print(member2==member1)"
   ]
  },
  {
   "cell_type": "code",
   "execution_count": 25,
   "id": "6c9ac67b",
   "metadata": {},
   "outputs": [
    {
     "name": "stdout",
     "output_type": "stream",
     "text": [
      "신길동, 30,  shinkil@hong.com, 서울시 동작구\n",
      "신길동, 30,  shinkil@hong.com, 서울시 동작구\n",
      "False\n",
      "NotImplemented\n"
     ]
    }
   ],
   "source": [
    "\n",
    "member1 = Member(\"신길동\", 30, 'shinkil@hong.com', '서울시 동작구')\n",
    "member2 = Member(\"신길동\", 30, 'shinkil@hong.com', '서울시 동작구')\n",
    "print(member1.__str__())\n",
    "print(member2)\n",
    "print(member2==member1)\n",
    "print(member2.__eq__(member1))\n",
    "print(member1.__dict__)\n",
    "print(member1.as_dict())"
   ]
  },
  {
   "cell_type": "code",
   "execution_count": 29,
   "id": "53da95c8",
   "metadata": {},
   "outputs": [],
   "source": [
    "class Member:\n",
    "    def __init__(self, name, age, emali, address):\n",
    "        self.name=name\n",
    "        self.age=age\n",
    "        self.email=email\n",
    "        self.address=address\n",
    "    def __str__(self):\n",
    "        return \"{}, {}, {}, {}\".format(self.name, self.age, self.email, self.address)\n",
    "    def __eq__(self, other):\n",
    "        return self.name == other.name and\\\n",
    "                self.age==other.age and\\\n",
    "                self.email==other.email and\\\n",
    "                self.address==other.address\n",
    "    def __eq__(self, other):\n",
    "        return self.__str__()==other.__str__()"
   ]
  },
  {
   "cell_type": "code",
   "execution_count": 30,
   "id": "67f40a39",
   "metadata": {},
   "outputs": [
    {
     "ename": "IndentationError",
     "evalue": "unexpected indent (3017247425.py, line 18)",
     "output_type": "error",
     "traceback": [
      "\u001b[1;36m  Cell \u001b[1;32mIn[30], line 18\u001b[1;36m\u001b[0m\n\u001b[1;33m    return self.__dict__\u001b[0m\n\u001b[1;37m    ^\u001b[0m\n\u001b[1;31mIndentationError\u001b[0m\u001b[1;31m:\u001b[0m unexpected indent\n"
     ]
    }
   ],
   "source": [
    "class Member:\n",
    "    def __init__(self, name, age, email, address):\n",
    "        self.name = name\n",
    "        self.age  = age\n",
    "        self.email = email\n",
    "        self.address = address\n",
    "    def __str__(self):\n",
    "        return \"{},{},{},{}\".format(self.name, self.age, self.email, self.address)\n",
    "#     def __eq__(self, other):\n",
    "#         return self.name == other.name and \\\n",
    "#                 self.age == other.age and \\\n",
    "#                 self.email == other.email and \\\n",
    "#                 self.address == other.address\n",
    "    def __eq__(self, other):\n",
    "        return self.__str__() == other.__str__()\n",
    "    def as_dict(self):\n",
    "        '객체를 딕셔너리로 바꿔 return(json파일 저장시 필요)'\n",
    "        return self.__dict"
   ]
  },
  {
   "cell_type": "code",
   "execution_count": null,
   "id": "df744277",
   "metadata": {},
   "outputs": [],
   "source": []
  },
  {
   "cell_type": "markdown",
   "id": "8b25ffde",
   "metadata": {},
   "source": [
    "##  2.2 피클링\n",
    "- 객체리스트--> 피클파일로 쓰기\n",
    "- "
   ]
  },
  {
   "cell_type": "code",
   "execution_count": 32,
   "id": "43d6d44d",
   "metadata": {},
   "outputs": [],
   "source": [
    "# ch09_member.txt파일 -> 객체list, 딕셔너리list로 읽어오기\n",
    "member_list = [] # Member객체 list\n",
    "dict_list   = [] # 딕셔너리 list\n",
    "with open('data/ch09_member.txt', 'r', encoding='UTF-8') as f:\n",
    "    lines = f.readlines()\n",
    "for line in lines:\n",
    "    data = line.split(',')\n",
    "    data = [item.strip() for item in data]\n",
    "    name = data[0]\n",
    "    age = int(data[1])\n",
    "    email = data[2]\n",
    "    address = data[3]\n",
    "    member = Member(name, age, email, address)\n",
    "    member_list.append(member)\n",
    "    dict_list.append(member.__dict__)    "
   ]
  },
  {
   "cell_type": "code",
   "execution_count": 33,
   "id": "db563405",
   "metadata": {},
   "outputs": [
    {
     "name": "stdout",
     "output_type": "stream",
     "text": [
      "홍길동, 20, kildong@hong.com, 서울시 관악구\n",
      "홍길숙, 25, kilsuk1@hong.com, 서울시 영등포구\n",
      "신길동, 30, shinkil@hong.com, 서울시 동작구\n"
     ]
    }
   ],
   "source": [
    "for member in member_list: # 객체 list\n",
    "    print(member)"
   ]
  },
  {
   "cell_type": "code",
   "execution_count": 34,
   "id": "c0ba8f1c",
   "metadata": {},
   "outputs": [],
   "source": [
    "# 피클링(확장자: pkl, pickle, data)을 이용하 객체를 파일에 저장\n",
    "import pickle\n",
    "with open('data/ch09_member.pkl', 'wb') as f:\n",
    "    pickle.dump(member_list,f)"
   ]
  },
  {
   "cell_type": "code",
   "execution_count": null,
   "id": "e0a7b863",
   "metadata": {},
   "outputs": [],
   "source": []
  },
  {
   "cell_type": "code",
   "execution_count": 86,
   "id": "9c72be2e",
   "metadata": {},
   "outputs": [],
   "source": [
    "# 피클링을 이용한 파일을 객체리스트로 읽기\n",
    "with open('data/ch09_member.pkl', 'rb') as f:\n",
    "    load_member_list = pickle.load(f)\n",
    "    \n",
    "    "
   ]
  },
  {
   "cell_type": "code",
   "execution_count": 37,
   "id": "c062cefe",
   "metadata": {},
   "outputs": [
    {
     "data": {
      "text/plain": [
       "(2245074338048, 2245075746560)"
      ]
     },
     "execution_count": 37,
     "metadata": {},
     "output_type": "execute_result"
    }
   ],
   "source": [
    "id(member_list), id(load_member_list)"
   ]
  },
  {
   "cell_type": "code",
   "execution_count": 39,
   "id": "b5292f6b",
   "metadata": {},
   "outputs": [
    {
     "name": "stdout",
     "output_type": "stream",
     "text": [
      "0 번째 비교: True\n",
      "1 번째 비교: True\n",
      "2 번째 비교: True\n"
     ]
    }
   ],
   "source": [
    "for idx in range(len(member_list)):\n",
    "    print(idx, '번째 비교:', (member_list[idx]==load_member_list[idx]))"
   ]
  },
  {
   "cell_type": "code",
   "execution_count": 40,
   "id": "0f4ab374",
   "metadata": {},
   "outputs": [
    {
     "name": "stdout",
     "output_type": "stream",
     "text": [
      "0 번째 비교: True\n",
      "1 번째 비교: True\n",
      "2 번째 비교: True\n"
     ]
    }
   ],
   "source": [
    "for idx, (member, load_member) in enumerate(zip(member_list, load_member_list)):\n",
    "    print(idx, '번째 비교:', member==load_member)"
   ]
  },
  {
   "cell_type": "code",
   "execution_count": 41,
   "id": "7ad2c8b0",
   "metadata": {},
   "outputs": [
    {
     "data": {
      "text/plain": [
       "[True, True, True]"
      ]
     },
     "execution_count": 41,
     "metadata": {},
     "output_type": "execute_result"
    }
   ],
   "source": [
    "result=[] # 비교결과(True/False)를 append\n",
    "for member, load_member in zip(member_list, load_member_list):\n",
    "    result.append(member==load_member)\n",
    "result"
   ]
  },
  {
   "cell_type": "code",
   "execution_count": 42,
   "id": "ebd78414",
   "metadata": {},
   "outputs": [
    {
     "data": {
      "text/plain": [
       "True"
      ]
     },
     "execution_count": 42,
     "metadata": {},
     "output_type": "execute_result"
    }
   ],
   "source": [
    "all(result) # 모든 요소들이 Truse인지 여부"
   ]
  },
  {
   "cell_type": "code",
   "execution_count": null,
   "id": "fe4b6226",
   "metadata": {},
   "outputs": [],
   "source": [
    "all([True])"
   ]
  },
  {
   "cell_type": "markdown",
   "id": "b0911f5a",
   "metadata": {},
   "source": [
    "# 3절 csv 파일 읽기/쓰기\n",
    "- csv파일자료를 리스트 데이터로 읽고 쓰기(3.1과 3.2)\n",
    "- csv파일 자료를 딕셔너리 데이터로 읽고 쓰기(3.3.과 3.4)\n",
    "## 3.1- reader"
   ]
  },
  {
   "cell_type": "code",
   "execution_count": 43,
   "id": "d0a62820",
   "metadata": {},
   "outputs": [
    {
     "data": {
      "text/plain": [
       "[['홍길동', '20', 'kildong@hong.com', '서울시 관악구'],\n",
       " ['김길동', '40', 'kimdong@hong.com', '서울시 영등포구'],\n",
       " ['신길동', '30', 'sindong@hong.com', '서울시 동작구']]"
      ]
     },
     "execution_count": 43,
     "metadata": {},
     "output_type": "execute_result"
    }
   ],
   "source": [
    "import csv\n",
    "with open('data/ch09_member1.csv', 'r', encoding='utf-8') as f:\n",
    "    reader = csv.reader(f)\n",
    "    result=list(reader)\n",
    "result"
   ]
  },
  {
   "cell_type": "code",
   "execution_count": 44,
   "id": "ca9aa3c7",
   "metadata": {},
   "outputs": [
    {
     "name": "stdout",
     "output_type": "stream",
     "text": [
      "['홍길동', '20', 'kildong@hong.com', '서울시 관악구', '']\n",
      "['김길동', '40', 'kimdong@hong.com', '서울시 영등포구', '팀장']\n",
      "['신길동', '30', 'sindong@hong.com', '서울시 동작구', '']\n"
     ]
    }
   ],
   "source": [
    "with open('data/ch09_member1-cp.csv', 'r') as f:\n",
    "    reader=csv.reader(f)\n",
    "    for row in reader:\n",
    "        print(row)"
   ]
  },
  {
   "cell_type": "code",
   "execution_count": null,
   "id": "83585f11",
   "metadata": {},
   "outputs": [],
   "source": [
    "# ''(따옴표)가 없는 데이트는 numeric으로 읽어"
   ]
  },
  {
   "cell_type": "code",
   "execution_count": 45,
   "id": "e672dee0",
   "metadata": {
    "scrolled": false
   },
   "outputs": [
    {
     "name": "stdout",
     "output_type": "stream",
     "text": [
      "['홍길동', 20.0, 'kildong@hong.com', '서울시 관악구']\n",
      "['김길동', 40.0, 'kimdong@hong.com', '서울시 영등포구']\n",
      "['신길동', 30.0, 'sindong@hong.com', '서울시 동작구']\n"
     ]
    }
   ],
   "source": [
    "import csv\n",
    "with open('data/ch09_member1.csv', 'r', encoding='utf-8') as f:\n",
    "    reader=csv.reader(f,\n",
    "                      quoting=csv.QUOTE_NONNUMERIC)\n",
    "    for row in reader:\n",
    "        print(row)"
   ]
  },
  {
   "cell_type": "markdown",
   "id": "987c4459",
   "metadata": {},
   "source": [
    "## 3.2\n",
    "- list->csv로 저장"
   ]
  },
  {
   "cell_type": "code",
   "execution_count": 49,
   "id": "6c5b34da",
   "metadata": {},
   "outputs": [],
   "source": [
    "user_list=[['홍길동', 20.0, 'kildong@hong.com', '서울시 관악구'],\n",
    "            ['김길동', 40.0, 'kimdong@hong.com', '서울시 영등포구'],\n",
    "            ['신길동', 30.0, 'sindong@hong.com', '서울시 동작구']]"
   ]
  },
  {
   "cell_type": "code",
   "execution_count": 53,
   "id": "a7fd942b",
   "metadata": {},
   "outputs": [],
   "source": [
    "# newLine=' ' 옵션 빼면 개행이 2번(python 3.10.9)\n",
    "try:\n",
    "    with open('data/ch09_member2-write.csv','w', newline='') as f: # 모드는 텍스트 모두도 있고, \n",
    "        writer=csv.writer(f)\n",
    "#         for user in user_list:\n",
    "#             writer.writerow(user)\n",
    "        writer.writerows(user_list)\n",
    "except FileNotFoundError as e:\n",
    "    print(e)"
   ]
  },
  {
   "cell_type": "markdown",
   "id": "41850d31",
   "metadata": {},
   "source": [
    "## 3.3  DictReader\n",
    "-csv  파일을 딕셔너리 데이터로 읽기\n"
   ]
  },
  {
   "cell_type": "code",
   "execution_count": 54,
   "id": "e7e0a7f2",
   "metadata": {},
   "outputs": [
    {
     "data": {
      "text/plain": [
       "[{'name': '홍길동',\n",
       "  'age': '20',\n",
       "  'email': 'h@h.com',\n",
       "  'address': '서울시 관악구',\n",
       "  'job': None},\n",
       " {'name': '신길동',\n",
       "  'age': '40',\n",
       "  'email': 's@h.com',\n",
       "  'address': '서울시 영등포구',\n",
       "  'job': '팀장'},\n",
       " {'name': '김길동',\n",
       "  'age': '30',\n",
       "  'email': 'k@h.com',\n",
       "  'address': '서울시 동작구',\n",
       "  'job': None}]"
      ]
     },
     "execution_count": 54,
     "metadata": {},
     "output_type": "execute_result"
    }
   ],
   "source": [
    "import csv\n",
    "# header가 있는 csv 파일을 딕셔너리로 읽기(data/ch09_member3.csv)\n",
    "with open('data/ch09_member3.csv', 'r', encoding='utf-8') as f:\n",
    "    dict_reader=csv.DictReader(f)\n",
    "    result=list(dict_reader)\n",
    "result"
   ]
  },
  {
   "cell_type": "code",
   "execution_count": 55,
   "id": "22c2f6e4",
   "metadata": {},
   "outputs": [
    {
     "name": "stdout",
     "output_type": "stream",
     "text": [
      "{'name': '홍길동', 'age': '20', 'email': 'h@h.com', 'address': '서울시 관악구', 'job': '없음'}\n",
      "{'name': '신길동', 'age': '40', 'email': 's@h.com', 'address': '서울시 영등포구', 'job': '팀장'}\n",
      "{'name': '김길동', 'age': '30', 'email': 'k@h.com', 'address': '서울시 동작구', 'job': '없음'}\n"
     ]
    }
   ],
   "source": [
    "import csv\n",
    "# header가 있는 csv 파일을 딕셔너리로 읽기(data/ch09_member3.csv)\n",
    "with open('data/ch09_member3.csv', 'r', encoding='utf-8') as f:\n",
    "    dict_reader=csv.DictReader(f, restval=\"없음\")\n",
    "    for row in dict_reader:\n",
    "        print(row)"
   ]
  },
  {
   "cell_type": "code",
   "execution_count": 56,
   "id": "194bd960",
   "metadata": {},
   "outputs": [
    {
     "data": {
      "text/html": [
       "<div>\n",
       "<style scoped>\n",
       "    .dataframe tbody tr th:only-of-type {\n",
       "        vertical-align: middle;\n",
       "    }\n",
       "\n",
       "    .dataframe tbody tr th {\n",
       "        vertical-align: top;\n",
       "    }\n",
       "\n",
       "    .dataframe thead th {\n",
       "        text-align: right;\n",
       "    }\n",
       "</style>\n",
       "<table border=\"1\" class=\"dataframe\">\n",
       "  <thead>\n",
       "    <tr style=\"text-align: right;\">\n",
       "      <th></th>\n",
       "      <th>name</th>\n",
       "      <th>age</th>\n",
       "      <th>email</th>\n",
       "      <th>address</th>\n",
       "      <th>job</th>\n",
       "    </tr>\n",
       "  </thead>\n",
       "  <tbody>\n",
       "    <tr>\n",
       "      <th>0</th>\n",
       "      <td>홍길동</td>\n",
       "      <td>20</td>\n",
       "      <td>h@h.com</td>\n",
       "      <td>서울시 관악구</td>\n",
       "      <td>NaN</td>\n",
       "    </tr>\n",
       "    <tr>\n",
       "      <th>1</th>\n",
       "      <td>신길동</td>\n",
       "      <td>40</td>\n",
       "      <td>s@h.com</td>\n",
       "      <td>서울시 영등포구</td>\n",
       "      <td>팀장</td>\n",
       "    </tr>\n",
       "    <tr>\n",
       "      <th>2</th>\n",
       "      <td>김길동</td>\n",
       "      <td>30</td>\n",
       "      <td>k@h.com</td>\n",
       "      <td>서울시 동작구</td>\n",
       "      <td>NaN</td>\n",
       "    </tr>\n",
       "  </tbody>\n",
       "</table>\n",
       "</div>"
      ],
      "text/plain": [
       "  name  age    email   address  job\n",
       "0  홍길동   20  h@h.com   서울시 관악구  NaN\n",
       "1  신길동   40  s@h.com  서울시 영등포구   팀장\n",
       "2  김길동   30  k@h.com   서울시 동작구  NaN"
      ]
     },
     "execution_count": 56,
     "metadata": {},
     "output_type": "execute_result"
    }
   ],
   "source": [
    "# csv 파일을 데이터프렘 데이터로 읽기\n",
    "import pandas as pd\n",
    "members=pd.read_csv('data/ch09_member3.csv')# 기본 인코딩 방식이 encoding=utf-8\n",
    "members"
   ]
  },
  {
   "cell_type": "code",
   "execution_count": 57,
   "id": "68211748",
   "metadata": {},
   "outputs": [
    {
     "data": {
      "text/plain": [
       "pandas.core.frame.DataFrame"
      ]
     },
     "execution_count": 57,
     "metadata": {},
     "output_type": "execute_result"
    }
   ],
   "source": [
    "type(members)"
   ]
  },
  {
   "cell_type": "code",
   "execution_count": 88,
   "id": "bedbd765",
   "metadata": {},
   "outputs": [
    {
     "data": {
      "text/html": [
       "<div>\n",
       "<style scoped>\n",
       "    .dataframe tbody tr th:only-of-type {\n",
       "        vertical-align: middle;\n",
       "    }\n",
       "\n",
       "    .dataframe tbody tr th {\n",
       "        vertical-align: top;\n",
       "    }\n",
       "\n",
       "    .dataframe thead th {\n",
       "        text-align: right;\n",
       "    }\n",
       "</style>\n",
       "<table border=\"1\" class=\"dataframe\">\n",
       "  <thead>\n",
       "    <tr style=\"text-align: right;\">\n",
       "      <th></th>\n",
       "      <th>0</th>\n",
       "    </tr>\n",
       "  </thead>\n",
       "  <tbody>\n",
       "    <tr>\n",
       "      <th>0</th>\n",
       "      <td>True</td>\n",
       "    </tr>\n",
       "    <tr>\n",
       "      <th>1</th>\n",
       "      <td>True</td>\n",
       "    </tr>\n",
       "    <tr>\n",
       "      <th>2</th>\n",
       "      <td>True</td>\n",
       "    </tr>\n",
       "    <tr>\n",
       "      <th>3</th>\n",
       "      <td>False</td>\n",
       "    </tr>\n",
       "    <tr>\n",
       "      <th>4</th>\n",
       "      <td>True</td>\n",
       "    </tr>\n",
       "  </tbody>\n",
       "</table>\n",
       "</div>"
      ],
      "text/plain": [
       "       0\n",
       "0   True\n",
       "1   True\n",
       "2   True\n",
       "3  False\n",
       "4   True"
      ]
     },
     "execution_count": 88,
     "metadata": {},
     "output_type": "execute_result"
    }
   ],
   "source": [
    "pd.DataFrame(data=result)"
   ]
  },
  {
   "cell_type": "code",
   "execution_count": 91,
   "id": "e30c5d11",
   "metadata": {},
   "outputs": [
    {
     "name": "stdout",
     "output_type": "stream",
     "text": [
      "{'name': '홍길동', 'age': '20', 'email': 'kildong@hong.com', 'address': '서울시 관악구', 'job': ''}\n",
      "{'name': '김길동', 'age': '40', 'email': 'kimdong@hong.com', 'address': '서울시 영등포구', 'job': '팀장'}\n",
      "{'name': '신길동', 'age': '30', 'email': 'sindong@hong.com', 'address': '서울시 동작구', 'job': ''}\n"
     ]
    }
   ],
   "source": [
    "# header가 없는 csv 파일을 딕셔너리 데이터로 읽기(ch09_member1-cp.csv)\n",
    "with open('data/ch09_member1-cp.csv', 'r') as f:\n",
    "    dict_reader=csv.DictReader(f, fieldnames=['name', 'age','email','address','job'])\n",
    "    for row in dict_reader:\n",
    "        print(row)"
   ]
  },
  {
   "cell_type": "code",
   "execution_count": 60,
   "id": "1b4bc116",
   "metadata": {},
   "outputs": [
    {
     "name": "stdout",
     "output_type": "stream",
     "text": [
      "{'name': '홍길동', 'age': '20', 'Email': 'kildong@hong.com', 'Address': '서울시 관악구', 'Job': ['']}\n",
      "{'name': '김길동', 'age': '40', 'Email': 'kimdong@hong.com', 'Address': '서울시 영등포구', 'Job': ['팀장']}\n",
      "{'name': '신길동', 'age': '30', 'Email': 'sindong@hong.com', 'Address': '서울시 동작구', 'Job': ['']}\n"
     ]
    }
   ],
   "source": [
    "# header가 없는 csv파일을 딕셔너리 데이터로 읽기(ch09_member1-cp.csv)\n",
    "with open('data/ch09_member1-cp.csv','r') as f:\n",
    "    dict_reader=csv.DictReader(f, fieldnames=['name', 'age', 'Email', 'Address'],\n",
    "                               restkey='Job')\n",
    "    for row in dict_reader:\n",
    "        print(row)"
   ]
  },
  {
   "cell_type": "markdown",
   "id": "03abc5df",
   "metadata": {},
   "source": [
    "## 3.4 DictWriter\n",
    "- 딕션너리  데이터를 csv파일로 쓰기"
   ]
  },
  {
   "cell_type": "code",
   "execution_count": 62,
   "id": "46457f64",
   "metadata": {},
   "outputs": [
    {
     "data": {
      "text/plain": [
       "[{'name': '신길동', 'age': '30', 'email': 'sg@hong.com', 'address': '서울'},\n",
       " {'name': '홍길동', 'age': '20', 'email': 'hg@hong.com', 'address': '경기'},\n",
       " {'name': '김길동', 'age': '25', 'email': 'kg@hong.com', 'address': '서울'}]"
      ]
     },
     "execution_count": 62,
     "metadata": {},
     "output_type": "execute_result"
    }
   ],
   "source": [
    "user1={'name': '신길동', 'age': '30', 'email': 'sg@hong.com', 'address': '서울'}\n",
    "user2={'name': '홍길동', 'age': '20', 'email': 'hg@hong.com',  'address': '경기'}\n",
    "user3={'name': '김길동', 'age': '25', 'email': 'kg@hong.com', 'address': '서울'}\n",
    "user_list=[user1, user2, user3]\n",
    "user_list\n"
   ]
  },
  {
   "cell_type": "code",
   "execution_count": 92,
   "id": "84c14ba5",
   "metadata": {},
   "outputs": [
    {
     "data": {
      "text/plain": [
       "['name', 'age', 'email', 'address']"
      ]
     },
     "execution_count": 92,
     "metadata": {},
     "output_type": "execute_result"
    }
   ],
   "source": [
    "fieldnames=list(user1.keys())\n",
    "fieldnames"
   ]
  },
  {
   "cell_type": "code",
   "execution_count": 94,
   "id": "e9331b91",
   "metadata": {},
   "outputs": [],
   "source": [
    "with open('data/ch09_member4.csv', 'w', encoding='utf-8', newline='') as f:\n",
    "    dict_writer=csv.DictWriter(f, fieldnames=fieldnames)\n",
    "    dict_writer.writeheader() # header 한줄 쓰기\n",
    "#      for user in user_list:\n",
    "#          dict_writer.writerow(user)\n",
    "    dict_writer.writerows(user_list)\n",
    "    "
   ]
  },
  {
   "cell_type": "code",
   "execution_count": null,
   "id": "e02b9324",
   "metadata": {},
   "outputs": [],
   "source": []
  },
  {
   "cell_type": "code",
   "execution_count": null,
   "id": "d5a979c5",
   "metadata": {},
   "outputs": [],
   "source": []
  },
  {
   "cell_type": "markdown",
   "id": "280ab178",
   "metadata": {},
   "source": [
    "# 4절, JSON 파일에 저장하고 불러오기(dump, load)\n",
    "[{'title':'국가정보원 화재', 'url': 'http://~', 'content:'무시시기무시기~'},\n",
    "## 4.1 json dump(파일에 저장)\n",
    "### 1. 딕셔너리 listfmf json\n",
    "###"
   ]
  },
  {
   "cell_type": "code",
   "execution_count": null,
   "id": "68d68e57",
   "metadata": {},
   "outputs": [],
   "source": [
    "####"
   ]
  },
  {
   "cell_type": "code",
   "execution_count": 66,
   "id": "6eae26bb",
   "metadata": {},
   "outputs": [
    {
     "data": {
      "text/plain": [
       "[{'name': '신길동', 'age': 30, 'email': 'sg@hong.com', 'address': '서울'},\n",
       " {'name': '홍길동', 'age': 20, 'email': 'hg@hong.com', 'address': '부산'},\n",
       " {'name': '김길동', 'age': 25, 'email': 'kg@hong.com', 'address': '대전'}]"
      ]
     },
     "execution_count": 66,
     "metadata": {},
     "output_type": "execute_result"
    }
   ],
   "source": [
    "data =[{'name': '신길동', 'age': 30, 'email': 'sg@hong.com', 'address': '서울'},\n",
    "     {'name': '홍길동', 'age': 20, 'email': 'hg@hong.com', 'address': '부산'},\n",
    "     {'name': '김길동', 'age': 25, 'email': 'kg@hong.com', 'address': '대전'}]\n",
    "data"
   ]
  },
  {
   "cell_type": "code",
   "execution_count": 95,
   "id": "eb81a0af",
   "metadata": {},
   "outputs": [],
   "source": [
    "# ensure_ascii 옵션의 역할: ASCII 코드를 넘어선 문자를 어떻게 처리할지\n",
    "# 기본값(True): ascii 코드 범위를 넘어선 글자는 유니코드로 저장\n",
    "# False: 비 ascii 문자는 원래 형태로 그대로 저장\n",
    "import json\n",
    "with open('data/ch09-member1.json', 'w') as jsonfile:\n",
    "    json.dump(data, # 딕셔너리 리스트\n",
    "              jsonfile, # 제이션 파일스트림\n",
    "              ensure_ascii=False,# 비ascii 코드 문자 처리 여부\n",
    "              indent='') # 들여쓰기 여부"
   ]
  },
  {
   "cell_type": "markdown",
   "id": "024e0ba2",
   "metadata": {},
   "source": [
    "### 2. 객체 list를 json 파일로 저장 "
   ]
  },
  {
   "cell_type": "code",
   "execution_count": 70,
   "id": "f52329a0",
   "metadata": {},
   "outputs": [],
   "source": [
    "class Member:\n",
    "    def __init__(self, name, age, email, address):\n",
    "        self.name = name\n",
    "        self.age  = age\n",
    "        self.email = email\n",
    "        self.address = address\n",
    "    def __str__(self):\n",
    "        return \"{},{},{},{}\".format(self.name, self.age, self.email, self.address)\n",
    "    def __eq__(self, other):\n",
    "        return self.__str__() == other.__str__()\n",
    "    def as_dict(self):\n",
    "        '객체를 딕셔너리로 바꿔 return(json파일 저장시 필요)'\n",
    "        return self.__dict"
   ]
  },
  {
   "cell_type": "code",
   "execution_count": 72,
   "id": "961ea990",
   "metadata": {},
   "outputs": [
    {
     "data": {
      "text/plain": [
       "['홍길동,30,h@h.com,서울', '마길동,30,m@h.com,하남', '박길동,30,p@h.com,대전']"
      ]
     },
     "execution_count": 72,
     "metadata": {},
     "output_type": "execute_result"
    }
   ],
   "source": [
    "member_list=[Member('홍길동', 30, 'h@h.com', '서울'),\n",
    "            Member('마길동', 30,  'm@h.com', '하남'),\n",
    "            Member('박길동', 30, 'p@h.com', '대전')]\n",
    "[member.__str__() for member in member_list ]"
   ]
  },
  {
   "cell_type": "code",
   "execution_count": 75,
   "id": "3a188108",
   "metadata": {},
   "outputs": [],
   "source": [
    "with open('data/ch09_member2.json', 'w', encoding='utf-8') as jsonfile:\n",
    "    json.dump(member_list,\n",
    "              jsonfile,\n",
    "              ensure_ascii=False,\n",
    "              indent='\\t',\n",
    "              default=Member.as_dict)"
   ]
  },
  {
   "cell_type": "code",
   "execution_count": 76,
   "id": "707d5192",
   "metadata": {},
   "outputs": [
    {
     "ename": "AttributeError",
     "evalue": "'Member' object has no attribute '_Member__dict'",
     "output_type": "error",
     "traceback": [
      "\u001b[1;31m---------------------------------------------------------------------------\u001b[0m",
      "\u001b[1;31mAttributeError\u001b[0m                            Traceback (most recent call last)",
      "Cell \u001b[1;32mIn[76], line 2\u001b[0m\n\u001b[0;32m      1\u001b[0m \u001b[38;5;28;01mwith\u001b[39;00m \u001b[38;5;28mopen\u001b[39m(\u001b[38;5;124m'\u001b[39m\u001b[38;5;124mdata/ch09_member2.json\u001b[39m\u001b[38;5;124m'\u001b[39m, \u001b[38;5;124m'\u001b[39m\u001b[38;5;124mw\u001b[39m\u001b[38;5;124m'\u001b[39m, encoding\u001b[38;5;241m=\u001b[39m\u001b[38;5;124m'\u001b[39m\u001b[38;5;124mutf-8\u001b[39m\u001b[38;5;124m'\u001b[39m) \u001b[38;5;28;01mas\u001b[39;00m jsonfile:\n\u001b[1;32m----> 2\u001b[0m     \u001b[43mjson\u001b[49m\u001b[38;5;241;43m.\u001b[39;49m\u001b[43mdump\u001b[49m\u001b[43m(\u001b[49m\u001b[43mmember_list\u001b[49m\u001b[43m,\u001b[49m\u001b[43m \u001b[49m\u001b[38;5;66;43;03m# 저장할 리스트(객체 리스트)\u001b[39;49;00m\n\u001b[0;32m      3\u001b[0m \u001b[43m             \u001b[49m\u001b[43mjsonfile\u001b[49m\u001b[43m,\u001b[49m\n\u001b[0;32m      4\u001b[0m \u001b[43m             \u001b[49m\u001b[43mensure_ascii\u001b[49m\u001b[38;5;241;43m=\u001b[39;49m\u001b[38;5;28;43;01mFalse\u001b[39;49;00m\u001b[43m,\u001b[49m\n\u001b[0;32m      5\u001b[0m \u001b[43m             \u001b[49m\u001b[43mindent\u001b[49m\u001b[38;5;241;43m=\u001b[39;49m\u001b[38;5;124;43m'\u001b[39;49m\u001b[38;5;130;43;01m\\t\u001b[39;49;00m\u001b[38;5;124;43m'\u001b[39;49m\u001b[43m,\u001b[49m\n\u001b[0;32m      6\u001b[0m \u001b[43m             \u001b[49m\u001b[43mdefault\u001b[49m\u001b[38;5;241;43m=\u001b[39;49m\u001b[43mMember\u001b[49m\u001b[38;5;241;43m.\u001b[39;49m\u001b[43mas_dict\u001b[49m\u001b[43m)\u001b[49m\n",
      "File \u001b[1;32m~\\anaconda3\\lib\\json\\__init__.py:179\u001b[0m, in \u001b[0;36mdump\u001b[1;34m(obj, fp, skipkeys, ensure_ascii, check_circular, allow_nan, cls, indent, separators, default, sort_keys, **kw)\u001b[0m\n\u001b[0;32m    173\u001b[0m     iterable \u001b[38;5;241m=\u001b[39m \u001b[38;5;28mcls\u001b[39m(skipkeys\u001b[38;5;241m=\u001b[39mskipkeys, ensure_ascii\u001b[38;5;241m=\u001b[39mensure_ascii,\n\u001b[0;32m    174\u001b[0m         check_circular\u001b[38;5;241m=\u001b[39mcheck_circular, allow_nan\u001b[38;5;241m=\u001b[39mallow_nan, indent\u001b[38;5;241m=\u001b[39mindent,\n\u001b[0;32m    175\u001b[0m         separators\u001b[38;5;241m=\u001b[39mseparators,\n\u001b[0;32m    176\u001b[0m         default\u001b[38;5;241m=\u001b[39mdefault, sort_keys\u001b[38;5;241m=\u001b[39msort_keys, \u001b[38;5;241m*\u001b[39m\u001b[38;5;241m*\u001b[39mkw)\u001b[38;5;241m.\u001b[39miterencode(obj)\n\u001b[0;32m    177\u001b[0m \u001b[38;5;66;03m# could accelerate with writelines in some versions of Python, at\u001b[39;00m\n\u001b[0;32m    178\u001b[0m \u001b[38;5;66;03m# a debuggability cost\u001b[39;00m\n\u001b[1;32m--> 179\u001b[0m \u001b[38;5;28;01mfor\u001b[39;00m chunk \u001b[38;5;129;01min\u001b[39;00m iterable:\n\u001b[0;32m    180\u001b[0m     fp\u001b[38;5;241m.\u001b[39mwrite(chunk)\n",
      "File \u001b[1;32m~\\anaconda3\\lib\\json\\encoder.py:429\u001b[0m, in \u001b[0;36m_make_iterencode.<locals>._iterencode\u001b[1;34m(o, _current_indent_level)\u001b[0m\n\u001b[0;32m    427\u001b[0m     \u001b[38;5;28;01myield\u001b[39;00m _floatstr(o)\n\u001b[0;32m    428\u001b[0m \u001b[38;5;28;01melif\u001b[39;00m \u001b[38;5;28misinstance\u001b[39m(o, (\u001b[38;5;28mlist\u001b[39m, \u001b[38;5;28mtuple\u001b[39m)):\n\u001b[1;32m--> 429\u001b[0m     \u001b[38;5;28;01myield from\u001b[39;00m _iterencode_list(o, _current_indent_level)\n\u001b[0;32m    430\u001b[0m \u001b[38;5;28;01melif\u001b[39;00m \u001b[38;5;28misinstance\u001b[39m(o, \u001b[38;5;28mdict\u001b[39m):\n\u001b[0;32m    431\u001b[0m     \u001b[38;5;28;01myield from\u001b[39;00m _iterencode_dict(o, _current_indent_level)\n",
      "File \u001b[1;32m~\\anaconda3\\lib\\json\\encoder.py:325\u001b[0m, in \u001b[0;36m_make_iterencode.<locals>._iterencode_list\u001b[1;34m(lst, _current_indent_level)\u001b[0m\n\u001b[0;32m    323\u001b[0m         \u001b[38;5;28;01melse\u001b[39;00m:\n\u001b[0;32m    324\u001b[0m             chunks \u001b[38;5;241m=\u001b[39m _iterencode(value, _current_indent_level)\n\u001b[1;32m--> 325\u001b[0m         \u001b[38;5;28;01myield from\u001b[39;00m chunks\n\u001b[0;32m    326\u001b[0m \u001b[38;5;28;01mif\u001b[39;00m newline_indent \u001b[38;5;129;01mis\u001b[39;00m \u001b[38;5;129;01mnot\u001b[39;00m \u001b[38;5;28;01mNone\u001b[39;00m:\n\u001b[0;32m    327\u001b[0m     _current_indent_level \u001b[38;5;241m-\u001b[39m\u001b[38;5;241m=\u001b[39m \u001b[38;5;241m1\u001b[39m\n",
      "File \u001b[1;32m~\\anaconda3\\lib\\json\\encoder.py:438\u001b[0m, in \u001b[0;36m_make_iterencode.<locals>._iterencode\u001b[1;34m(o, _current_indent_level)\u001b[0m\n\u001b[0;32m    436\u001b[0m         \u001b[38;5;28;01mraise\u001b[39;00m \u001b[38;5;167;01mValueError\u001b[39;00m(\u001b[38;5;124m\"\u001b[39m\u001b[38;5;124mCircular reference detected\u001b[39m\u001b[38;5;124m\"\u001b[39m)\n\u001b[0;32m    437\u001b[0m     markers[markerid] \u001b[38;5;241m=\u001b[39m o\n\u001b[1;32m--> 438\u001b[0m o \u001b[38;5;241m=\u001b[39m \u001b[43m_default\u001b[49m\u001b[43m(\u001b[49m\u001b[43mo\u001b[49m\u001b[43m)\u001b[49m\n\u001b[0;32m    439\u001b[0m \u001b[38;5;28;01myield from\u001b[39;00m _iterencode(o, _current_indent_level)\n\u001b[0;32m    440\u001b[0m \u001b[38;5;28;01mif\u001b[39;00m markers \u001b[38;5;129;01mis\u001b[39;00m \u001b[38;5;129;01mnot\u001b[39;00m \u001b[38;5;28;01mNone\u001b[39;00m:\n",
      "Cell \u001b[1;32mIn[70], line 13\u001b[0m, in \u001b[0;36mMember.as_dict\u001b[1;34m(self)\u001b[0m\n\u001b[0;32m     11\u001b[0m \u001b[38;5;28;01mdef\u001b[39;00m \u001b[38;5;21mas_dict\u001b[39m(\u001b[38;5;28mself\u001b[39m):\n\u001b[0;32m     12\u001b[0m     \u001b[38;5;124m'\u001b[39m\u001b[38;5;124m객체를 딕셔너리로 바꿔 return(json파일 저장시 필요)\u001b[39m\u001b[38;5;124m'\u001b[39m\n\u001b[1;32m---> 13\u001b[0m     \u001b[38;5;28;01mreturn\u001b[39;00m \u001b[38;5;28;43mself\u001b[39;49m\u001b[38;5;241;43m.\u001b[39;49m\u001b[43m__dict\u001b[49m\n",
      "\u001b[1;31mAttributeError\u001b[0m: 'Member' object has no attribute '_Member__dict'"
     ]
    }
   ],
   "source": [
    "with open('data/ch09_member2.json', 'w', encoding='utf-8') as jsonfile:\n",
    "    json.dump(member_list, # 저장할 리스트(객체 리스트)\n",
    "             jsonfile,\n",
    "             ensure_ascii=False,\n",
    "             indent='\\t',\n",
    "             default=Member.as_dict) # 객체를 딕셔너리형태로 return하는 함수"
   ]
  },
  {
   "cell_type": "code",
   "execution_count": null,
   "id": "4798e894",
   "metadata": {},
   "outputs": [],
   "source": []
  },
  {
   "cell_type": "code",
   "execution_count": 96,
   "id": "35c93036",
   "metadata": {},
   "outputs": [
    {
     "data": {
      "text/plain": [
       "[{'name': '홍길동', 'age': 20, 'email': 'h@h.com', 'address': '서울'},\n",
       " {'name': '김길동', 'age': 30, 'email': 'k@h.com', 'address': '부산'},\n",
       " {'name': '신길동', 'age': 40, 'email': 's@h.com', 'address': '안양'}]"
      ]
     },
     "execution_count": 96,
     "metadata": {},
     "output_type": "execute_result"
    }
   ],
   "source": [
    "### (1) json 파일을 딕셔너리 리스트로 읽기\n",
    "with open('data/ch09_member1.json', 'r') as jsonfile:\n",
    "    load_data=json.load(jsonfile)\n",
    "load_data\n",
    "    "
   ]
  },
  {
   "cell_type": "code",
   "execution_count": 97,
   "id": "f0d45444",
   "metadata": {},
   "outputs": [],
   "source": [
    "###(2)  json 파일을 객체 리스트로 읽기\n",
    "# {'name':'홍','age';3, 'email:', 'address': '설'} => Member('홍', 3, 'h@h','설')\n",
    "def as_member(dic):\n",
    "    #return Member(dic['name'], dic['age'], dic['email'], dic['address']\n",
    "    return Member(dic.get('name'),\n",
    "                  dic.get('age'),\n",
    "                  dic.get('email'),\n",
    "                  dic.get('address')\n",
    "                  )"
   ]
  },
  {
   "cell_type": "code",
   "execution_count": 78,
   "id": "10569988",
   "metadata": {},
   "outputs": [
    {
     "ename": "NameError",
     "evalue": "name 'as_member' is not defined",
     "output_type": "error",
     "traceback": [
      "\u001b[1;31m---------------------------------------------------------------------------\u001b[0m",
      "\u001b[1;31mNameError\u001b[0m                                 Traceback (most recent call last)",
      "Cell \u001b[1;32mIn[78], line 3\u001b[0m\n\u001b[0;32m      1\u001b[0m \u001b[38;5;28;01mwith\u001b[39;00m \u001b[38;5;28mopen\u001b[39m(\u001b[38;5;124m'\u001b[39m\u001b[38;5;124mdata/ch09_member2.json\u001b[39m\u001b[38;5;124m'\u001b[39m, \u001b[38;5;124m'\u001b[39m\u001b[38;5;124mr\u001b[39m\u001b[38;5;124m'\u001b[39m, encoding\u001b[38;5;241m=\u001b[39m\u001b[38;5;124m'\u001b[39m\u001b[38;5;124mutf-8\u001b[39m\u001b[38;5;124m'\u001b[39m) \u001b[38;5;28;01mas\u001b[39;00m jsonfile:\n\u001b[0;32m      2\u001b[0m     load_member_list\u001b[38;5;241m=\u001b[39mjson\u001b[38;5;241m.\u001b[39mload(jsonfile,\n\u001b[1;32m----> 3\u001b[0m                               object_hook\u001b[38;5;241m=\u001b[39m\u001b[43mas_member\u001b[49m)\n\u001b[0;32m      4\u001b[0m \u001b[38;5;28;01mfor\u001b[39;00m load_member \u001b[38;5;129;01min\u001b[39;00m load_member_list:\n\u001b[0;32m      5\u001b[0m     \u001b[38;5;28mprint\u001b[39m(load_member)\n",
      "\u001b[1;31mNameError\u001b[0m: name 'as_member' is not defined"
     ]
    }
   ],
   "source": [
    "with open('data/ch09_member2.json', 'r', encoding='utf-8') as jsonfile:\n",
    "    load_member_list=json.load(jsonfile,\n",
    "                              object_hook=as_member) # 딕셔너리를 객체로 return 함수\n",
    "for load_member in load_member_list:\n",
    "    print(load_member)"
   ]
  },
  {
   "cell_type": "code",
   "execution_count": null,
   "id": "15ef217e",
   "metadata": {},
   "outputs": [],
   "source": [
    "# member_list==> ch09_member2.json=> load_member_list\n",
    "# member_list와 load_member_list가 같은 내용인지 검사"
   ]
  },
  {
   "cell_type": "code",
   "execution_count": 98,
   "id": "55b684cb",
   "metadata": {},
   "outputs": [
    {
     "name": "stdout",
     "output_type": "stream",
     "text": [
      "두 객체 리스트의 모든 데이터가 일치 부여:  False\n"
     ]
    }
   ],
   "source": [
    "result=[] # list 내 객체들끼리 비교 결과\n",
    "for member, load_member in zip(member_list, load_member_list):\n",
    "    result.append(member==load_member)\n",
    "print('두 객체 리스트의 모든 데이터가 일치 부여: ', all(result))"
   ]
  },
  {
   "cell_type": "code",
   "execution_count": 83,
   "id": "61414bb1",
   "metadata": {},
   "outputs": [
    {
     "data": {
      "text/plain": [
       "False"
      ]
     },
     "execution_count": 83,
     "metadata": {},
     "output_type": "execute_result"
    }
   ],
   "source": [
    "import numpy as np\n",
    "result=[True, True,True, False, True]\n",
    "all(result)"
   ]
  },
  {
   "cell_type": "code",
   "execution_count": 85,
   "id": "09510b44",
   "metadata": {},
   "outputs": [
    {
     "data": {
      "text/plain": [
       "(array([3], dtype=int64),)"
      ]
     },
     "execution_count": 85,
     "metadata": {},
     "output_type": "execute_result"
    }
   ],
   "source": [
    "import numpy as np\n",
    "result=np.array([True, True,True, False, True])\n",
    "np.where(result==False)"
   ]
  },
  {
   "cell_type": "code",
   "execution_count": null,
   "id": "6c3866e3",
   "metadata": {},
   "outputs": [],
   "source": []
  },
  {
   "cell_type": "markdown",
   "id": "0a16e749",
   "metadata": {},
   "source": [
    "# 5절. HDF5  파일 쓰기/읽기\n",
    "- *.hdf5나 *.h5 파일을 볼 수 있는 hdfviwer를 설치\n",
    "- 딕셔너리 리스트, 데이터프레임(전처리), 딥러닝 모델"
   ]
  },
  {
   "cell_type": "code",
   "execution_count": 5,
   "id": "2192255b",
   "metadata": {},
   "outputs": [
    {
     "data": {
      "text/html": [
       "<div>\n",
       "<style scoped>\n",
       "    .dataframe tbody tr th:only-of-type {\n",
       "        vertical-align: middle;\n",
       "    }\n",
       "\n",
       "    .dataframe tbody tr th {\n",
       "        vertical-align: top;\n",
       "    }\n",
       "\n",
       "    .dataframe thead th {\n",
       "        text-align: right;\n",
       "    }\n",
       "</style>\n",
       "<table border=\"1\" class=\"dataframe\">\n",
       "  <thead>\n",
       "    <tr style=\"text-align: right;\">\n",
       "      <th></th>\n",
       "      <th>sepal_length</th>\n",
       "      <th>sepal_width</th>\n",
       "      <th>petal_length</th>\n",
       "      <th>petal_width</th>\n",
       "      <th>species</th>\n",
       "    </tr>\n",
       "  </thead>\n",
       "  <tbody>\n",
       "    <tr>\n",
       "      <th>0</th>\n",
       "      <td>5.1</td>\n",
       "      <td>3.5</td>\n",
       "      <td>1.4</td>\n",
       "      <td>0.2</td>\n",
       "      <td>setosa</td>\n",
       "    </tr>\n",
       "    <tr>\n",
       "      <th>1</th>\n",
       "      <td>4.9</td>\n",
       "      <td>3.0</td>\n",
       "      <td>1.4</td>\n",
       "      <td>0.2</td>\n",
       "      <td>setosa</td>\n",
       "    </tr>\n",
       "    <tr>\n",
       "      <th>2</th>\n",
       "      <td>4.7</td>\n",
       "      <td>3.2</td>\n",
       "      <td>1.3</td>\n",
       "      <td>0.2</td>\n",
       "      <td>setosa</td>\n",
       "    </tr>\n",
       "    <tr>\n",
       "      <th>3</th>\n",
       "      <td>4.6</td>\n",
       "      <td>3.1</td>\n",
       "      <td>1.5</td>\n",
       "      <td>0.2</td>\n",
       "      <td>setosa</td>\n",
       "    </tr>\n",
       "    <tr>\n",
       "      <th>4</th>\n",
       "      <td>5.0</td>\n",
       "      <td>3.6</td>\n",
       "      <td>1.4</td>\n",
       "      <td>0.2</td>\n",
       "      <td>setosa</td>\n",
       "    </tr>\n",
       "    <tr>\n",
       "      <th>...</th>\n",
       "      <td>...</td>\n",
       "      <td>...</td>\n",
       "      <td>...</td>\n",
       "      <td>...</td>\n",
       "      <td>...</td>\n",
       "    </tr>\n",
       "    <tr>\n",
       "      <th>145</th>\n",
       "      <td>6.7</td>\n",
       "      <td>3.0</td>\n",
       "      <td>5.2</td>\n",
       "      <td>2.3</td>\n",
       "      <td>virginica</td>\n",
       "    </tr>\n",
       "    <tr>\n",
       "      <th>146</th>\n",
       "      <td>6.3</td>\n",
       "      <td>2.5</td>\n",
       "      <td>5.0</td>\n",
       "      <td>1.9</td>\n",
       "      <td>virginica</td>\n",
       "    </tr>\n",
       "    <tr>\n",
       "      <th>147</th>\n",
       "      <td>6.5</td>\n",
       "      <td>3.0</td>\n",
       "      <td>5.2</td>\n",
       "      <td>2.0</td>\n",
       "      <td>virginica</td>\n",
       "    </tr>\n",
       "    <tr>\n",
       "      <th>148</th>\n",
       "      <td>6.2</td>\n",
       "      <td>3.4</td>\n",
       "      <td>5.4</td>\n",
       "      <td>2.3</td>\n",
       "      <td>virginica</td>\n",
       "    </tr>\n",
       "    <tr>\n",
       "      <th>149</th>\n",
       "      <td>5.9</td>\n",
       "      <td>3.0</td>\n",
       "      <td>5.1</td>\n",
       "      <td>1.8</td>\n",
       "      <td>virginica</td>\n",
       "    </tr>\n",
       "  </tbody>\n",
       "</table>\n",
       "<p>150 rows × 5 columns</p>\n",
       "</div>"
      ],
      "text/plain": [
       "     sepal_length  sepal_width  petal_length  petal_width    species\n",
       "0             5.1          3.5           1.4          0.2     setosa\n",
       "1             4.9          3.0           1.4          0.2     setosa\n",
       "2             4.7          3.2           1.3          0.2     setosa\n",
       "3             4.6          3.1           1.5          0.2     setosa\n",
       "4             5.0          3.6           1.4          0.2     setosa\n",
       "..            ...          ...           ...          ...        ...\n",
       "145           6.7          3.0           5.2          2.3  virginica\n",
       "146           6.3          2.5           5.0          1.9  virginica\n",
       "147           6.5          3.0           5.2          2.0  virginica\n",
       "148           6.2          3.4           5.4          2.3  virginica\n",
       "149           5.9          3.0           5.1          1.8  virginica\n",
       "\n",
       "[150 rows x 5 columns]"
      ]
     },
     "metadata": {},
     "output_type": "display_data"
    }
   ],
   "source": [
    "# seaborn: 파이썬에성 데이터 시각화를 도와주는 라이브러리로 자주 사용 데이터 셋\n",
    "import seaborn as sns\n",
    "iris_df=sns.load_dataset(\"iris\")\n",
    "display(iris_df) # print 쓰지 말라. display 써라."
   ]
  },
  {
   "cell_type": "code",
   "execution_count": 4,
   "id": "d17b1e15",
   "metadata": {},
   "outputs": [
    {
     "data": {
      "text/html": [
       "<div>\n",
       "<style scoped>\n",
       "    .dataframe tbody tr th:only-of-type {\n",
       "        vertical-align: middle;\n",
       "    }\n",
       "\n",
       "    .dataframe tbody tr th {\n",
       "        vertical-align: top;\n",
       "    }\n",
       "\n",
       "    .dataframe thead th {\n",
       "        text-align: right;\n",
       "    }\n",
       "</style>\n",
       "<table border=\"1\" class=\"dataframe\">\n",
       "  <thead>\n",
       "    <tr style=\"text-align: right;\">\n",
       "      <th></th>\n",
       "      <th>sepal_length</th>\n",
       "      <th>sepal_width</th>\n",
       "      <th>petal_length</th>\n",
       "      <th>petal_width</th>\n",
       "      <th>species</th>\n",
       "    </tr>\n",
       "  </thead>\n",
       "  <tbody>\n",
       "    <tr>\n",
       "      <th>0</th>\n",
       "      <td>5.1</td>\n",
       "      <td>3.5</td>\n",
       "      <td>1.4</td>\n",
       "      <td>0.2</td>\n",
       "      <td>setosa</td>\n",
       "    </tr>\n",
       "    <tr>\n",
       "      <th>1</th>\n",
       "      <td>4.9</td>\n",
       "      <td>3.0</td>\n",
       "      <td>1.4</td>\n",
       "      <td>0.2</td>\n",
       "      <td>setosa</td>\n",
       "    </tr>\n",
       "    <tr>\n",
       "      <th>2</th>\n",
       "      <td>4.7</td>\n",
       "      <td>3.2</td>\n",
       "      <td>1.3</td>\n",
       "      <td>0.2</td>\n",
       "      <td>setosa</td>\n",
       "    </tr>\n",
       "    <tr>\n",
       "      <th>3</th>\n",
       "      <td>4.6</td>\n",
       "      <td>3.1</td>\n",
       "      <td>1.5</td>\n",
       "      <td>0.2</td>\n",
       "      <td>setosa</td>\n",
       "    </tr>\n",
       "    <tr>\n",
       "      <th>4</th>\n",
       "      <td>5.0</td>\n",
       "      <td>3.6</td>\n",
       "      <td>1.4</td>\n",
       "      <td>0.2</td>\n",
       "      <td>setosa</td>\n",
       "    </tr>\n",
       "    <tr>\n",
       "      <th>...</th>\n",
       "      <td>...</td>\n",
       "      <td>...</td>\n",
       "      <td>...</td>\n",
       "      <td>...</td>\n",
       "      <td>...</td>\n",
       "    </tr>\n",
       "    <tr>\n",
       "      <th>145</th>\n",
       "      <td>6.7</td>\n",
       "      <td>3.0</td>\n",
       "      <td>5.2</td>\n",
       "      <td>2.3</td>\n",
       "      <td>virginica</td>\n",
       "    </tr>\n",
       "    <tr>\n",
       "      <th>146</th>\n",
       "      <td>6.3</td>\n",
       "      <td>2.5</td>\n",
       "      <td>5.0</td>\n",
       "      <td>1.9</td>\n",
       "      <td>virginica</td>\n",
       "    </tr>\n",
       "    <tr>\n",
       "      <th>147</th>\n",
       "      <td>6.5</td>\n",
       "      <td>3.0</td>\n",
       "      <td>5.2</td>\n",
       "      <td>2.0</td>\n",
       "      <td>virginica</td>\n",
       "    </tr>\n",
       "    <tr>\n",
       "      <th>148</th>\n",
       "      <td>6.2</td>\n",
       "      <td>3.4</td>\n",
       "      <td>5.4</td>\n",
       "      <td>2.3</td>\n",
       "      <td>virginica</td>\n",
       "    </tr>\n",
       "    <tr>\n",
       "      <th>149</th>\n",
       "      <td>5.9</td>\n",
       "      <td>3.0</td>\n",
       "      <td>5.1</td>\n",
       "      <td>1.8</td>\n",
       "      <td>virginica</td>\n",
       "    </tr>\n",
       "  </tbody>\n",
       "</table>\n",
       "<p>150 rows × 5 columns</p>\n",
       "</div>"
      ],
      "text/plain": [
       "     sepal_length  sepal_width  petal_length  petal_width    species\n",
       "0             5.1          3.5           1.4          0.2     setosa\n",
       "1             4.9          3.0           1.4          0.2     setosa\n",
       "2             4.7          3.2           1.3          0.2     setosa\n",
       "3             4.6          3.1           1.5          0.2     setosa\n",
       "4             5.0          3.6           1.4          0.2     setosa\n",
       "..            ...          ...           ...          ...        ...\n",
       "145           6.7          3.0           5.2          2.3  virginica\n",
       "146           6.3          2.5           5.0          1.9  virginica\n",
       "147           6.5          3.0           5.2          2.0  virginica\n",
       "148           6.2          3.4           5.4          2.3  virginica\n",
       "149           5.9          3.0           5.1          1.8  virginica\n",
       "\n",
       "[150 rows x 5 columns]"
      ]
     },
     "execution_count": 4,
     "metadata": {},
     "output_type": "execute_result"
    }
   ],
   "source": [
    "# seaborn: 파이썬에성 데이터 시각화를 도와주는 라이브러리로 자주 사용 데이터 셋\n",
    "import seaborn as sns\n",
    "iris_df=sns.load_dataset(\"iris\")\n",
    "iris_df # 꽃의 종, 꽃받침 길이, 꽃받침 너비, 꽃잎 길이, 꽃임 너비"
   ]
  },
  {
   "cell_type": "code",
   "execution_count": 6,
   "id": "2d159199",
   "metadata": {},
   "outputs": [],
   "source": [
    "# 데아터 프레임을 hdf파알로 쓰기\n",
    "iris_df.to_hdf('data/ch09_irisdf.hdf5', key='iris')"
   ]
  },
  {
   "cell_type": "code",
   "execution_count": 7,
   "id": "24ffdf83",
   "metadata": {},
   "outputs": [
    {
     "data": {
      "text/html": [
       "<div>\n",
       "<style scoped>\n",
       "    .dataframe tbody tr th:only-of-type {\n",
       "        vertical-align: middle;\n",
       "    }\n",
       "\n",
       "    .dataframe tbody tr th {\n",
       "        vertical-align: top;\n",
       "    }\n",
       "\n",
       "    .dataframe thead th {\n",
       "        text-align: right;\n",
       "    }\n",
       "</style>\n",
       "<table border=\"1\" class=\"dataframe\">\n",
       "  <thead>\n",
       "    <tr style=\"text-align: right;\">\n",
       "      <th></th>\n",
       "      <th>sepal_length</th>\n",
       "      <th>sepal_width</th>\n",
       "      <th>petal_length</th>\n",
       "      <th>petal_width</th>\n",
       "      <th>species</th>\n",
       "    </tr>\n",
       "  </thead>\n",
       "  <tbody>\n",
       "    <tr>\n",
       "      <th>0</th>\n",
       "      <td>5.1</td>\n",
       "      <td>3.5</td>\n",
       "      <td>1.4</td>\n",
       "      <td>0.2</td>\n",
       "      <td>setosa</td>\n",
       "    </tr>\n",
       "    <tr>\n",
       "      <th>1</th>\n",
       "      <td>4.9</td>\n",
       "      <td>3.0</td>\n",
       "      <td>1.4</td>\n",
       "      <td>0.2</td>\n",
       "      <td>setosa</td>\n",
       "    </tr>\n",
       "    <tr>\n",
       "      <th>2</th>\n",
       "      <td>4.7</td>\n",
       "      <td>3.2</td>\n",
       "      <td>1.3</td>\n",
       "      <td>0.2</td>\n",
       "      <td>setosa</td>\n",
       "    </tr>\n",
       "    <tr>\n",
       "      <th>3</th>\n",
       "      <td>4.6</td>\n",
       "      <td>3.1</td>\n",
       "      <td>1.5</td>\n",
       "      <td>0.2</td>\n",
       "      <td>setosa</td>\n",
       "    </tr>\n",
       "    <tr>\n",
       "      <th>4</th>\n",
       "      <td>5.0</td>\n",
       "      <td>3.6</td>\n",
       "      <td>1.4</td>\n",
       "      <td>0.2</td>\n",
       "      <td>setosa</td>\n",
       "    </tr>\n",
       "    <tr>\n",
       "      <th>...</th>\n",
       "      <td>...</td>\n",
       "      <td>...</td>\n",
       "      <td>...</td>\n",
       "      <td>...</td>\n",
       "      <td>...</td>\n",
       "    </tr>\n",
       "    <tr>\n",
       "      <th>145</th>\n",
       "      <td>6.7</td>\n",
       "      <td>3.0</td>\n",
       "      <td>5.2</td>\n",
       "      <td>2.3</td>\n",
       "      <td>virginica</td>\n",
       "    </tr>\n",
       "    <tr>\n",
       "      <th>146</th>\n",
       "      <td>6.3</td>\n",
       "      <td>2.5</td>\n",
       "      <td>5.0</td>\n",
       "      <td>1.9</td>\n",
       "      <td>virginica</td>\n",
       "    </tr>\n",
       "    <tr>\n",
       "      <th>147</th>\n",
       "      <td>6.5</td>\n",
       "      <td>3.0</td>\n",
       "      <td>5.2</td>\n",
       "      <td>2.0</td>\n",
       "      <td>virginica</td>\n",
       "    </tr>\n",
       "    <tr>\n",
       "      <th>148</th>\n",
       "      <td>6.2</td>\n",
       "      <td>3.4</td>\n",
       "      <td>5.4</td>\n",
       "      <td>2.3</td>\n",
       "      <td>virginica</td>\n",
       "    </tr>\n",
       "    <tr>\n",
       "      <th>149</th>\n",
       "      <td>5.9</td>\n",
       "      <td>3.0</td>\n",
       "      <td>5.1</td>\n",
       "      <td>1.8</td>\n",
       "      <td>virginica</td>\n",
       "    </tr>\n",
       "  </tbody>\n",
       "</table>\n",
       "<p>150 rows × 5 columns</p>\n",
       "</div>"
      ],
      "text/plain": [
       "     sepal_length  sepal_width  petal_length  petal_width    species\n",
       "0             5.1          3.5           1.4          0.2     setosa\n",
       "1             4.9          3.0           1.4          0.2     setosa\n",
       "2             4.7          3.2           1.3          0.2     setosa\n",
       "3             4.6          3.1           1.5          0.2     setosa\n",
       "4             5.0          3.6           1.4          0.2     setosa\n",
       "..            ...          ...           ...          ...        ...\n",
       "145           6.7          3.0           5.2          2.3  virginica\n",
       "146           6.3          2.5           5.0          1.9  virginica\n",
       "147           6.5          3.0           5.2          2.0  virginica\n",
       "148           6.2          3.4           5.4          2.3  virginica\n",
       "149           5.9          3.0           5.1          1.8  virginica\n",
       "\n",
       "[150 rows x 5 columns]"
      ]
     },
     "execution_count": 7,
     "metadata": {},
     "output_type": "execute_result"
    }
   ],
   "source": [
    "# hdf 파일을 데이터프레임으로 읽어오기\n",
    "import pandas as pd\n",
    "load_iris_df=pd.read_hdf('data/ch09_irisdf.hdf5', key='iris')\n",
    "load_iris_df"
   ]
  },
  {
   "cell_type": "code",
   "execution_count": 8,
   "id": "370ff1f6",
   "metadata": {},
   "outputs": [
    {
     "data": {
      "text/plain": [
       "True"
      ]
     },
     "execution_count": 8,
     "metadata": {},
     "output_type": "execute_result"
    }
   ],
   "source": [
    "# 두 데이터 프레임이 같은지 여부\n",
    "iris_df.equals(load_iris_df)"
   ]
  },
  {
   "cell_type": "code",
   "execution_count": 9,
   "id": "ac019f1c",
   "metadata": {},
   "outputs": [
    {
     "data": {
      "text/html": [
       "<div>\n",
       "<style scoped>\n",
       "    .dataframe tbody tr th:only-of-type {\n",
       "        vertical-align: middle;\n",
       "    }\n",
       "\n",
       "    .dataframe tbody tr th {\n",
       "        vertical-align: top;\n",
       "    }\n",
       "\n",
       "    .dataframe thead th {\n",
       "        text-align: right;\n",
       "    }\n",
       "</style>\n",
       "<table border=\"1\" class=\"dataframe\">\n",
       "  <thead>\n",
       "    <tr style=\"text-align: right;\">\n",
       "      <th></th>\n",
       "      <th>sepal_length</th>\n",
       "      <th>sepal_width</th>\n",
       "      <th>petal_length</th>\n",
       "      <th>petal_width</th>\n",
       "      <th>species</th>\n",
       "    </tr>\n",
       "  </thead>\n",
       "  <tbody>\n",
       "    <tr>\n",
       "      <th>0</th>\n",
       "      <td>True</td>\n",
       "      <td>True</td>\n",
       "      <td>True</td>\n",
       "      <td>True</td>\n",
       "      <td>True</td>\n",
       "    </tr>\n",
       "    <tr>\n",
       "      <th>1</th>\n",
       "      <td>True</td>\n",
       "      <td>True</td>\n",
       "      <td>True</td>\n",
       "      <td>True</td>\n",
       "      <td>True</td>\n",
       "    </tr>\n",
       "    <tr>\n",
       "      <th>2</th>\n",
       "      <td>True</td>\n",
       "      <td>True</td>\n",
       "      <td>True</td>\n",
       "      <td>True</td>\n",
       "      <td>True</td>\n",
       "    </tr>\n",
       "    <tr>\n",
       "      <th>3</th>\n",
       "      <td>True</td>\n",
       "      <td>True</td>\n",
       "      <td>True</td>\n",
       "      <td>True</td>\n",
       "      <td>True</td>\n",
       "    </tr>\n",
       "    <tr>\n",
       "      <th>4</th>\n",
       "      <td>True</td>\n",
       "      <td>True</td>\n",
       "      <td>True</td>\n",
       "      <td>True</td>\n",
       "      <td>True</td>\n",
       "    </tr>\n",
       "    <tr>\n",
       "      <th>...</th>\n",
       "      <td>...</td>\n",
       "      <td>...</td>\n",
       "      <td>...</td>\n",
       "      <td>...</td>\n",
       "      <td>...</td>\n",
       "    </tr>\n",
       "    <tr>\n",
       "      <th>145</th>\n",
       "      <td>True</td>\n",
       "      <td>True</td>\n",
       "      <td>True</td>\n",
       "      <td>True</td>\n",
       "      <td>True</td>\n",
       "    </tr>\n",
       "    <tr>\n",
       "      <th>146</th>\n",
       "      <td>True</td>\n",
       "      <td>True</td>\n",
       "      <td>True</td>\n",
       "      <td>True</td>\n",
       "      <td>True</td>\n",
       "    </tr>\n",
       "    <tr>\n",
       "      <th>147</th>\n",
       "      <td>True</td>\n",
       "      <td>True</td>\n",
       "      <td>True</td>\n",
       "      <td>True</td>\n",
       "      <td>True</td>\n",
       "    </tr>\n",
       "    <tr>\n",
       "      <th>148</th>\n",
       "      <td>True</td>\n",
       "      <td>True</td>\n",
       "      <td>True</td>\n",
       "      <td>True</td>\n",
       "      <td>True</td>\n",
       "    </tr>\n",
       "    <tr>\n",
       "      <th>149</th>\n",
       "      <td>True</td>\n",
       "      <td>True</td>\n",
       "      <td>True</td>\n",
       "      <td>True</td>\n",
       "      <td>True</td>\n",
       "    </tr>\n",
       "  </tbody>\n",
       "</table>\n",
       "<p>150 rows × 5 columns</p>\n",
       "</div>"
      ],
      "text/plain": [
       "     sepal_length  sepal_width  petal_length  petal_width  species\n",
       "0            True         True          True         True     True\n",
       "1            True         True          True         True     True\n",
       "2            True         True          True         True     True\n",
       "3            True         True          True         True     True\n",
       "4            True         True          True         True     True\n",
       "..            ...          ...           ...          ...      ...\n",
       "145          True         True          True         True     True\n",
       "146          True         True          True         True     True\n",
       "147          True         True          True         True     True\n",
       "148          True         True          True         True     True\n",
       "149          True         True          True         True     True\n",
       "\n",
       "[150 rows x 5 columns]"
      ]
     },
     "execution_count": 9,
     "metadata": {},
     "output_type": "execute_result"
    }
   ],
   "source": [
    "iris_df==load_iris_df"
   ]
  },
  {
   "cell_type": "markdown",
   "id": "bec1b805",
   "metadata": {},
   "source": [
    "# 6절 연습문제: 고객관리(제1장-9장, 8장 예외처리 제외), 10장부터 15장까지\n",
    "- 프로그램 시작시\n",
    "    * data/ch09_customers.txt(프로그램 종료시 백업용 데이터) 파일이 있으면 파일을 customer_list)\n",
    "    * data/ch09_customers.txt 파일이 없으면 빈 파일 생성(w모드 열어 close)\n",
    "    * data/ch09_customers.txt 파일 내용\n",
    "    ```\n",
    "        홍길동, 010-9999-9999, k@hong.com, 30, 5, vvip\n",
    "        유길동, 010-5432-2222, y@hong.com, 20, 2, 가칠해\n",
    "    ```\n",
    "## customer 클래스 및 to_customer() 함수 작성\n",
    "    * customer(\"홍길동\", \"010-9999-9999\", \"h@h,   30,  2,    '기타') 객체 생성\n",
    "    * 변수:  name       phone           email  age  grade  etc\n",
    "    * 함수:__init__, __str__, as_dic(객체를 딕셔너리로 return), to_txt_style(객체를 text로) "
   ]
  },
  {
   "cell_type": "code",
   "execution_count": 2,
   "id": "038301b0",
   "metadata": {},
   "outputs": [],
   "source": [
    "class Customer:\n",
    "    '고객 데이터'\n",
    "    def __init__(self, name, phone, email, age, grade, etc):\n",
    "        self.name = name\n",
    "        self.phone = phone\n",
    "        self.email = email\n",
    "        self.age = age\n",
    "        self.grade = grade\n",
    "        self.etc = etc\n",
    "    def as_dic(self):\n",
    "        return self.__dict__\n",
    "    def to_txt_style(self):\n",
    "        return \"{}, {}, {}, {}, {}, {}\".format(self.name, self.phone, self.email,\n",
    "                                              self.age, self.grade, self.etc)\n",
    "    def __str__(self):\n",
    "        return \"{:>5}\\t{}\\t{}\\t{}\\t{}\\t{}\".format('*'*self.grade,\n",
    "                                                    self.name,\n",
    "                                                    self.phone,\n",
    "                                                    self.email,\n",
    "                                                    self.age,\n",
    "                                                    self.etc)"
   ]
  },
  {
   "cell_type": "code",
   "execution_count": null,
   "id": "b0624c63",
   "metadata": {},
   "outputs": [],
   "source": []
  },
  {
   "cell_type": "code",
   "execution_count": 5,
   "id": "02d41592",
   "metadata": {},
   "outputs": [
    {
     "name": "stdout",
     "output_type": "stream",
     "text": [
      "  ***\t홍길동\t010-9999-9999\th@h.com\t20\t기타\n",
      "*****\t홍길동\t010-9999-9999\th@h.com\t20\t기타\n",
      "홍길동, 010-9999-9999, h@h.com, 20, 3, 기타\n",
      "{'name': '홍길동', 'phone': '010-9999-9999', 'email': 'h@h.com', 'age': 20, 'grade': 3, 'etc': '기타'}\n"
     ]
    }
   ],
   "source": [
    "c1 = Customer(\"홍길동\",\"010-9999-9999\",\"h@h.com\", 20, 3, \"기타\")\n",
    "c2 = Customer(\"홍길동\",\"010-9999-9999\",\"h@h.com\", 20, 5, \"기타\")\n",
    "print(c1)\n",
    "print(c2)\n",
    "print(c1.to_txt_style())\n",
    "print(c1.as_dic())"
   ]
  },
  {
   "cell_type": "code",
   "execution_count": 3,
   "id": "8758fcd5",
   "metadata": {},
   "outputs": [],
   "source": [
    "def to_customer(text):\n",
    "    'txt 파일 내용 한줄(홍길동, 010-8999-9999, e@e.com, 20, 3, 까칠해)을 Customer 객체로 반환'\n",
    "    data = text.strip().split(', ')\n",
    "    name = data[0]\n",
    "    phone = data[1]\n",
    "    email = data[2]\n",
    "    age = int(data[3])\n",
    "    grade = int(data[4])\n",
    "    etc = data[5]\n",
    "    return Customer(name, phone, email, age, grade, etc)"
   ]
  },
  {
   "cell_type": "code",
   "execution_count": 4,
   "id": "8ca0baee",
   "metadata": {},
   "outputs": [
    {
     "name": "stdout",
     "output_type": "stream",
     "text": [
      "   **\t유길동\t010-5432-2222\ty@hong.com\t20\t가칠해\n"
     ]
    }
   ],
   "source": [
    "customer = to_customer('유길동, 010-5432-2222, y@hong.com, 20, 2, 가칠해')\n",
    "print(customer)"
   ]
  },
  {
   "cell_type": "code",
   "execution_count": null,
   "id": "62a53675",
   "metadata": {},
   "outputs": [],
   "source": []
  },
  {
   "cell_type": "markdown",
   "id": "04970d97",
   "metadata": {},
   "source": [
    "## 0, 처음 실행\n",
    "```\n",
    "data/ch09_customer.txt 파일 내용을 \n",
    "data/ch09_customer.txt\n",
    "    빈 data/ch09_customer.txt 파일 생성(w모드로 열고 닫으면) f.write('') customer_list=[]\n",
    "```"
   ]
  },
  {
   "cell_type": "code",
   "execution_count": 5,
   "id": "468cd401",
   "metadata": {},
   "outputs": [],
   "source": [
    "def load_customer():\n",
    "    customer_list=[]\n",
    "    # 파일 내용을 customer_listdp append한다. 예외 발생시 파일 작성\n",
    "    try:\n",
    "        with open('data/ch09_customers.txt','r', encoding='utf-8') as f:\n",
    "            # 방법 1, 한줄씩 읽어서 customer_list에 append하기\n",
    "            line=f.readline()\n",
    "            while line !=\"\":\n",
    "                customer=to_customer(line)\n",
    "                customer_list.append(customer)\n",
    "                line=f.readline()\n",
    "    except FileNoteFoundError as e:\n",
    "        with open('data/ch09_customers.txt','w', encoding='utf-8') as f:\n",
    "            f.write('')\n",
    "    return customer_list"
   ]
  },
  {
   "cell_type": "code",
   "execution_count": 6,
   "id": "cff66159",
   "metadata": {},
   "outputs": [],
   "source": [
    "def load_customers():\n",
    "    customer_list = []\n",
    "    # 파일 내용을 customer_list에 append한다. 예외발생시 파일 작성\n",
    "    try:\n",
    "        with open('data/ch09_customers.txt', 'r', encoding='utf-8') as f:\n",
    "            # 방법1. 한줄씩 읽어서 customer_list에 append하기\n",
    "#             line = f.readline()\n",
    "#             while line != '':\n",
    "#                 customer = to_customer(line)\n",
    "#                 customer_list.append(customer)\n",
    "#                 line = f.readline()\n",
    "            # 방법2. 여러줄을 한꺼번에 읽어서 for문으로 append하기\n",
    "            lines = f.readlines()\n",
    "        for line in lines:\n",
    "            customer = to_customer(line)\n",
    "            customer_list.append(customer)\n",
    "    except FileNotFoundError as e:\n",
    "        with open('data/ch09_customers.txt', 'w', encoding='utf-8') as f:\n",
    "            f.write('')\n",
    "    return customer_list"
   ]
  },
  {
   "cell_type": "code",
   "execution_count": 7,
   "id": "30b51f50",
   "metadata": {},
   "outputs": [
    {
     "data": {
      "text/plain": [
       "['*****\\t홍길동\\t010-9999-9999\\tk@hong.com\\t30\\tvvip',\n",
       " '   **\\t유길동\\t010-5432-2222\\ty@hong.com\\t20\\t가칠해',\n",
       " '  ***\\t신림동\\t010-8888-8888\\ts@song.com\\t33\\t글쎄',\n",
       " ' ****\\t홍길동\\t010-7777-7777\\th@hong.com\\t33\\tvip']"
      ]
     },
     "execution_count": 7,
     "metadata": {},
     "output_type": "execute_result"
    }
   ],
   "source": [
    "# 위 함수 test\n",
    "customer_list = load_customers()\n",
    "[customer.__str__() for customer in customer_list]"
   ]
  },
  {
   "cell_type": "code",
   "execution_count": null,
   "id": "1d27e7c3",
   "metadata": {},
   "outputs": [],
   "source": []
  },
  {
   "cell_type": "markdown",
   "id": "55c2705a",
   "metadata": {},
   "source": [
    "## 1. 입력"
   ]
  },
  {
   "cell_type": "code",
   "execution_count": 9,
   "id": "e2354e56",
   "metadata": {},
   "outputs": [
    {
     "name": "stdout",
     "output_type": "stream",
     "text": [
      "None\n"
     ]
    }
   ],
   "source": [
    "import re\n",
    "name = \"홍\"\n",
    "name_pattern = r'[a-zA-Z]{2,}'\n",
    "print(re.search(name_pattern, name))"
   ]
  },
  {
   "cell_type": "code",
   "execution_count": 9,
   "id": "5fc6bc3e",
   "metadata": {},
   "outputs": [],
   "source": []
  },
  {
   "cell_type": "code",
   "execution_count": 10,
   "id": "f8051614",
   "metadata": {},
   "outputs": [
    {
     "name": "stdout",
     "output_type": "stream",
     "text": [
      "이름 :123\n",
      "이름을 제대로 입력하세요(한글 2글자 이상)\n",
      "이름 :마\n",
      "이름을 제대로 입력하세요(한글 2글자 이상)\n",
      "이름 :마길동\n",
      "전화 :010-9999-9999\n",
      "메일 :m@m.com\n",
      "나이 :100\n",
      "등급(1~5) : a\n",
      "유효하지 않은 등급 입력시 1등급으로 초기화\n",
      "기타 정보 :몰라요\n",
      "*****\t홍길동\t010-9999-9999\tk@hong.com\t30\tvvip\n",
      "   **\t유길동\t010-5432-2222\ty@hong.com\t20\t가칠해\n",
      "  ***\t신림동\t010-8888-8888\ts@song.com\t33\t글쎄\n",
      " ****\t홍길동\t010-7777-7777\th@hong.com\t33\tvip\n",
      "    *\t마길동\t010-9999-9999\tm@m.com\t100\t몰라요\n"
     ]
    }
   ],
   "source": [
    "# 1번 함수 테스트\n",
    "customer_list = load_customers()\n",
    "customer = fn1_insert_customer_info()\n",
    "customer_list.append(customer)\n",
    "for customer in customer_list:\n",
    "    print(customer)"
   ]
  },
  {
   "cell_type": "code",
   "execution_count": null,
   "id": "b6794615",
   "metadata": {},
   "outputs": [],
   "source": []
  },
  {
   "cell_type": "markdown",
   "id": "69764781",
   "metadata": {},
   "source": [
    "## 2. 전체 출력"
   ]
  },
  {
   "cell_type": "code",
   "execution_count": 12,
   "id": "136e0072",
   "metadata": {},
   "outputs": [],
   "source": [
    "def fn2_print_customers(customer_list):\n",
    "    'customer_list 출력'\n",
    "    print('='*70)\n",
    "    print('{:^70}'.format('고객 정보'))\n",
    "    print('='*70)\n",
    "    print(\"{:>5}\\t{:^3}\\t{:^13}\\t{:^10}\\t{}\\t{}\".format('grade','이름','전화','메일','나이','기타') )\n",
    "    print('-'*70)\n",
    "    for customer in customer_list:\n",
    "        print(customer)"
   ]
  },
  {
   "cell_type": "code",
   "execution_count": 13,
   "id": "73830ad2",
   "metadata": {},
   "outputs": [
    {
     "name": "stdout",
     "output_type": "stream",
     "text": [
      "======================================================================\n",
      "                                고객 정보                                 \n",
      "======================================================================\n",
      "grade\t이름 \t     전화      \t    메일    \t나이\t기타\n",
      "----------------------------------------------------------------------\n",
      "*****\t홍길동\t010-9999-9999\tk@hong.com\t30\tvvip\n",
      "   **\t유길동\t010-5432-2222\ty@hong.com\t20\t가칠해\n",
      "  ***\t신림동\t010-8888-8888\ts@song.com\t33\t글쎄\n",
      " ****\t홍길동\t010-7777-7777\th@hong.com\t33\tvip\n",
      "    *\t마길동\t010-9999-9999\tm@m.com\t100\t몰라요\n"
     ]
    }
   ],
   "source": [
    "# 위 2번 함수 test\n",
    "fn2_print_customers(customer_list)"
   ]
  },
  {
   "cell_type": "code",
   "execution_count": null,
   "id": "3217008e",
   "metadata": {},
   "outputs": [],
   "source": []
  },
  {
   "cell_type": "markdown",
   "id": "0dbd6af0",
   "metadata": {},
   "source": [
    "## 3. 삭제"
   ]
  },
  {
   "cell_type": "code",
   "execution_count": 15,
   "id": "249d33b7",
   "metadata": {},
   "outputs": [],
   "source": [
    "# 동명이인이 없을 경우 삭제 구현\n",
    "def fn3_delete_customer(customer_list):\n",
    "    '삭제하고자 하는 고객이름을 받아 customer_list에서 삭제'\n",
    "    name = input('삭제할 고객의 이름은?')\n",
    "    for idx, customer in enumerate(customer_list):\n",
    "        if customer.name == name:\n",
    "            # 리스트에서 customer 삭제\n",
    "            # customer_list.remove(customer)\n",
    "            # 리스트에서 idx번째 삭제\n",
    "            del customer_list[idx]\n",
    "            print(name, '님 데이터를 삭제하였습니다')\n",
    "            break\n",
    "    else:\n",
    "        print(name, '님이 데이터에 존재하지 않습니다')"
   ]
  },
  {
   "cell_type": "code",
   "execution_count": 16,
   "id": "29e37dd3",
   "metadata": {},
   "outputs": [
    {
     "name": "stdout",
     "output_type": "stream",
     "text": [
      "삭제할 고객의 이름은?김길동\n",
      "김길동 님이 데이터에 존재하지 않습니다\n"
     ]
    }
   ],
   "source": [
    "# 위 3번 함수 test\n",
    "fn3_delete_customer(customer_list)"
   ]
  },
  {
   "cell_type": "code",
   "execution_count": null,
   "id": "a61e0b7f",
   "metadata": {},
   "outputs": [],
   "source": [
    "# 동명이인이 있을 경우(해당 동명이인을 다 삭제) 삭제 구현\n",
    "def fn3_delete_customer(customer_list):\n",
    "    pass"
   ]
  },
  {
   "cell_type": "code",
   "execution_count": 23,
   "id": "bf826e20",
   "metadata": {},
   "outputs": [],
   "source": [
    "\n",
    "# 동명이인이 있을 경우(해당 동명이인을 다 삭제) 삭제 구현\n",
    "def fn3_delete_customer(customer_list):\n",
    "    '삭제하고자 하는 고객이름을 받아 customer_list에서 삭제'\n",
    "    name = input('삭제할 고객의 이름은?')\n",
    "    delete_idx = [] # 삭제할 인덱스 저장 용도\n",
    "    for idx, customer in enumerate(customer_list):\n",
    "        if customer.name == name:\n",
    "            delete_idx.append(idx) # 삭제할 인덱스 추가함\n",
    "    if delete_idx:\n",
    "        for idx in delete_idx[::-1]: # [2,1]\n",
    "            del customer_list[idx]\n",
    "        print(f'{name}님 {len(delete_idx)}명을 삭제하였습니다')\n",
    "    else:\n",
    "        print(name, '님이 데이터에 존재하지 않습니다')"
   ]
  },
  {
   "cell_type": "code",
   "execution_count": 24,
   "id": "815268c2",
   "metadata": {},
   "outputs": [
    {
     "name": "stdout",
     "output_type": "stream",
     "text": [
      "삭제할 고객의 이름은?홍길동\n",
      "홍길동님 2명을 삭제하였습니다\n"
     ]
    }
   ],
   "source": [
    "\n",
    "# 위 3번 함수 test\n",
    "customer_list = load_customers()\n",
    "fn3_delete_customer(customer_list)"
   ]
  },
  {
   "cell_type": "code",
   "execution_count": null,
   "id": "aac80e02",
   "metadata": {},
   "outputs": [],
   "source": []
  },
  {
   "cell_type": "code",
   "execution_count": null,
   "id": "3786bbbf",
   "metadata": {},
   "outputs": [],
   "source": [
    "# 동명이인이 있을 경우 해당 customer를 삭제할지 붇고 Y를 입력시 삭제 구현\n",
    "def fn3_delete_customer(customer_list):\n",
    "    pass"
   ]
  },
  {
   "cell_type": "code",
   "execution_count": null,
   "id": "82f98c24",
   "metadata": {},
   "outputs": [],
   "source": [
    "# 위 3번 함수 test"
   ]
  },
  {
   "cell_type": "code",
   "execution_count": null,
   "id": "8a135534",
   "metadata": {},
   "outputs": [],
   "source": []
  },
  {
   "cell_type": "markdown",
   "id": "512f838b",
   "metadata": {},
   "source": [
    "## 4. 이름찾기"
   ]
  },
  {
   "cell_type": "code",
   "execution_count": 26,
   "id": "a2b26ac4",
   "metadata": {},
   "outputs": [],
   "source": [
    "# 동명이인이 없을 경우 삭제 구현\n",
    "def fn4_search_customer(customer_list):\n",
    "    '찾고자 하는 이름을 input 받아 customer_list에서 검색하여 fn2_print_customer()이용하여 출력'\n",
    "    name=input('검색할 이름은?')\n",
    "    search_list=[] # 검색한 결과 append\n",
    "    for customer in customer_list:\n",
    "        search_list.append(customer)\n",
    "    if search_list:\n",
    "        fn2_print_customers(search_list)\n",
    "    else:\n",
    "        print(f\"{name}님 데이터는 존재하지 않습니다\")"
   ]
  },
  {
   "cell_type": "code",
   "execution_count": 27,
   "id": "b274e052",
   "metadata": {},
   "outputs": [
    {
     "name": "stdout",
     "output_type": "stream",
     "text": [
      "검색할 이름은?홍홍호\n",
      "======================================================================\n",
      "                                고객 정보                                 \n",
      "======================================================================\n",
      "grade\t이름 \t     전화      \t    메일    \t나이\t기타\n",
      "----------------------------------------------------------------------\n",
      "*****\t홍길동\t010-9999-9999\tk@hong.com\t30\tvvip\n",
      "   **\t유길동\t010-5432-2222\ty@hong.com\t20\t가칠해\n",
      "  ***\t신림동\t010-8888-8888\ts@song.com\t33\t글쎄\n",
      " ****\t홍길동\t010-7777-7777\th@hong.com\t33\tvip\n"
     ]
    }
   ],
   "source": [
    "# 위 4번 함수 test\n",
    "customer_list=load_customers()\n",
    "fn4_search_customer(customer_list)"
   ]
  },
  {
   "cell_type": "code",
   "execution_count": null,
   "id": "494c4a22",
   "metadata": {},
   "outputs": [],
   "source": []
  },
  {
   "cell_type": "markdown",
   "id": "80192f6a",
   "metadata": {},
   "source": [
    "## 5. 내보내기(csv)"
   ]
  },
  {
   "cell_type": "code",
   "execution_count": 28,
   "id": "b454e721",
   "metadata": {},
   "outputs": [],
   "source": [
    "\n",
    "def fn5_save_customer_csv(customer_list):\n",
    "    '매개변수로 받은 customer_list를 딕셔너리리스트로 변환하여 csv출력'\n",
    "    import csv\n",
    "    if customer_list:\n",
    "        customer_dict_list = []\n",
    "        for customer in customer_list:\n",
    "            customer_dict_list.append(customer.__dict__)\n",
    "        fieldnames = list(customer_dict_list[0].keys())\n",
    "        filename = input('저장할 csv파일명은(확장자제외)?')\n",
    "        with open('data/{}.csv'.format(filename), 'w', encoding='UTF-8', newline='') as f:\n",
    "            dict_writer = csv.DictWriter(f, fieldnames=fieldnames)\n",
    "            dict_writer.writeheader() # 해더 쓰기\n",
    "            dict_writer.writerows(customer_dict_list) # 데이터 쓰기\n",
    "            print(f'data/{filename}.csv 내보내기 완료')\n",
    "    else:\n",
    "        print('입력된 회원 데이터가 없어서 csv 내보내기를 취소합니다')"
   ]
  },
  {
   "cell_type": "code",
   "execution_count": 29,
   "id": "568ed8a7",
   "metadata": {},
   "outputs": [
    {
     "name": "stdout",
     "output_type": "stream",
     "text": [
      "저장할 csv파일명은(확장자제외)?0\n",
      "data/0.csv 내보내기 완료\n"
     ]
    }
   ],
   "source": [
    "\n",
    "# 위 5번 함수 test\n",
    "customer_list = load_customers()\n",
    "fn5_save_customer_csv(customer_list)"
   ]
  },
  {
   "cell_type": "code",
   "execution_count": null,
   "id": "54bb1d05",
   "metadata": {},
   "outputs": [],
   "source": []
  },
  {
   "cell_type": "markdown",
   "id": "397777d4",
   "metadata": {},
   "source": [
    "## 종료\n",
    "- 종료하기 전 customer_list 자료 저장하고 종료"
   ]
  },
  {
   "cell_type": "code",
   "execution_count": null,
   "id": "2062907b",
   "metadata": {},
   "outputs": [],
   "source": []
  },
  {
   "cell_type": "code",
   "execution_count": null,
   "id": "fe26babe",
   "metadata": {},
   "outputs": [],
   "source": [
    "def fn9_save_customer_txt(customer_list):\n",
    "    'customer_list의 내용을 data/ch09_customers.txt에 저장'\n",
    "    customer_text_list = []\n",
    "    for customer in customer_list:\n",
    "        customer_text_list.append(customer.to_txt_style()+\"\\n\")\n",
    "    with open('data/ch09_customers.txt', 'w', encoding='UTF-8') as f:\n",
    "        f.writelines(customer_text_list)"
   ]
  },
  {
   "cell_type": "code",
   "execution_count": null,
   "id": "15ea6904",
   "metadata": {},
   "outputs": [],
   "source": [
    "# 위 9번 함수 test\n",
    "fn9_save_customer_txt(customer_list)"
   ]
  },
  {
   "cell_type": "code",
   "execution_count": null,
   "id": "6a90fa12",
   "metadata": {},
   "outputs": [],
   "source": []
  },
  {
   "cell_type": "code",
   "execution_count": null,
   "id": "1e83c6e1",
   "metadata": {},
   "outputs": [],
   "source": []
  },
  {
   "cell_type": "markdown",
   "id": "b07e840d",
   "metadata": {},
   "source": [
    "## main()"
   ]
  },
  {
   "cell_type": "code",
   "execution_count": null,
   "id": "28c811ec",
   "metadata": {},
   "outputs": [],
   "source": [
    "\n",
    "def main():\n",
    "    global customer_list\n",
    "    customer_list = load_customers() # ch09_customers.txt의 내용을 load\n",
    "    while True:\n",
    "        print(\"1:입력\",\"2:전체출력\",\"3:삭제\",\"4:이름찾기\",\"5:내보내기(CSV)\", \"9:종료\", \n",
    "              sep=' | ', end=' ')\n",
    "        fn = int(input('메뉴선택 : '))\n",
    "        if fn == 1:\n",
    "            customer = fn1_insert_customer_info() # 입력받은 내용으로 customer객체를 반환\n",
    "            customer_list.append(customer)\n",
    "        elif fn == 2:\n",
    "            fn2_print_customers(customer_list) # 전체 customer_list 출력\n",
    "        elif fn == 3:\n",
    "            fn3_delete_customer(customer_list) # goekd, 이름으로 삭제\n",
    "        elif fn == 4:\n",
    "            fn4_search_customer(customer_list) # 이름 검색\n",
    "        elif fn == 5:\n",
    "            fn5_save_customer_csv(customer_list) # csv 백업\n",
    "        elif fn == 9:\n",
    "            fn9_save_customer_txt(customer_list) # txt 백업\n",
    "            break\n",
    "if __name__ == '__main__':\n",
    "    main()"
   ]
  },
  {
   "cell_type": "code",
   "execution_count": null,
   "id": "2f3e8dae",
   "metadata": {},
   "outputs": [],
   "source": []
  },
  {
   "cell_type": "code",
   "execution_count": null,
   "id": "ed1dfb12",
   "metadata": {},
   "outputs": [],
   "source": []
  },
  {
   "cell_type": "code",
   "execution_count": null,
   "id": "fd09fd33",
   "metadata": {},
   "outputs": [],
   "source": []
  },
  {
   "cell_type": "code",
   "execution_count": null,
   "id": "a99e4411",
   "metadata": {},
   "outputs": [],
   "source": []
  },
  {
   "cell_type": "code",
   "execution_count": null,
   "id": "f0f53d87",
   "metadata": {},
   "outputs": [],
   "source": []
  },
  {
   "cell_type": "code",
   "execution_count": null,
   "id": "68b41a15",
   "metadata": {},
   "outputs": [],
   "source": []
  },
  {
   "cell_type": "code",
   "execution_count": null,
   "id": "b0e15e75",
   "metadata": {},
   "outputs": [],
   "source": []
  },
  {
   "cell_type": "code",
   "execution_count": null,
   "id": "086f7891",
   "metadata": {},
   "outputs": [],
   "source": []
  },
  {
   "cell_type": "code",
   "execution_count": null,
   "id": "f4c8c753",
   "metadata": {},
   "outputs": [],
   "source": []
  },
  {
   "cell_type": "code",
   "execution_count": null,
   "id": "6f9e47fe",
   "metadata": {},
   "outputs": [],
   "source": []
  },
  {
   "cell_type": "code",
   "execution_count": null,
   "id": "00ebd02a",
   "metadata": {},
   "outputs": [],
   "source": []
  },
  {
   "cell_type": "code",
   "execution_count": null,
   "id": "fe6614c9",
   "metadata": {},
   "outputs": [],
   "source": []
  },
  {
   "cell_type": "code",
   "execution_count": null,
   "id": "029c5f9d",
   "metadata": {},
   "outputs": [],
   "source": []
  },
  {
   "cell_type": "code",
   "execution_count": null,
   "id": "f65e2940",
   "metadata": {},
   "outputs": [],
   "source": []
  },
  {
   "cell_type": "code",
   "execution_count": null,
   "id": "f98ff84e",
   "metadata": {},
   "outputs": [],
   "source": []
  },
  {
   "cell_type": "code",
   "execution_count": null,
   "id": "c2797df2",
   "metadata": {},
   "outputs": [],
   "source": []
  },
  {
   "cell_type": "code",
   "execution_count": null,
   "id": "b5718810",
   "metadata": {},
   "outputs": [],
   "source": []
  },
  {
   "cell_type": "code",
   "execution_count": null,
   "id": "0e0ee643",
   "metadata": {},
   "outputs": [],
   "source": []
  },
  {
   "cell_type": "code",
   "execution_count": null,
   "id": "8ec4172c",
   "metadata": {},
   "outputs": [],
   "source": []
  },
  {
   "cell_type": "code",
   "execution_count": null,
   "id": "d7f9d22f",
   "metadata": {},
   "outputs": [],
   "source": []
  },
  {
   "cell_type": "code",
   "execution_count": null,
   "id": "9c23e1b5",
   "metadata": {},
   "outputs": [],
   "source": []
  },
  {
   "cell_type": "code",
   "execution_count": null,
   "id": "6774668a",
   "metadata": {},
   "outputs": [],
   "source": []
  },
  {
   "cell_type": "code",
   "execution_count": null,
   "id": "54adf4bb",
   "metadata": {},
   "outputs": [],
   "source": []
  },
  {
   "cell_type": "code",
   "execution_count": null,
   "id": "6193af72",
   "metadata": {},
   "outputs": [],
   "source": []
  },
  {
   "cell_type": "code",
   "execution_count": null,
   "id": "0f670b44",
   "metadata": {},
   "outputs": [],
   "source": []
  },
  {
   "cell_type": "code",
   "execution_count": null,
   "id": "3bffbc62",
   "metadata": {},
   "outputs": [],
   "source": []
  },
  {
   "cell_type": "code",
   "execution_count": null,
   "id": "76aa9e8e",
   "metadata": {},
   "outputs": [],
   "source": []
  },
  {
   "cell_type": "code",
   "execution_count": null,
   "id": "84370faf",
   "metadata": {},
   "outputs": [],
   "source": []
  },
  {
   "cell_type": "code",
   "execution_count": null,
   "id": "7e270ba0",
   "metadata": {},
   "outputs": [],
   "source": []
  },
  {
   "cell_type": "code",
   "execution_count": null,
   "id": "d3f4d9ae",
   "metadata": {},
   "outputs": [],
   "source": []
  },
  {
   "cell_type": "code",
   "execution_count": null,
   "id": "ca11902c",
   "metadata": {},
   "outputs": [],
   "source": []
  },
  {
   "cell_type": "code",
   "execution_count": null,
   "id": "d9b03c03",
   "metadata": {},
   "outputs": [],
   "source": []
  },
  {
   "cell_type": "code",
   "execution_count": null,
   "id": "a510ea97",
   "metadata": {},
   "outputs": [],
   "source": []
  },
  {
   "cell_type": "code",
   "execution_count": null,
   "id": "a812de2e",
   "metadata": {},
   "outputs": [],
   "source": []
  },
  {
   "cell_type": "code",
   "execution_count": null,
   "id": "1211acad",
   "metadata": {},
   "outputs": [],
   "source": []
  },
  {
   "cell_type": "code",
   "execution_count": null,
   "id": "b3dbbac5",
   "metadata": {},
   "outputs": [],
   "source": []
  },
  {
   "cell_type": "code",
   "execution_count": null,
   "id": "a6e36c3c",
   "metadata": {},
   "outputs": [],
   "source": []
  },
  {
   "cell_type": "code",
   "execution_count": null,
   "id": "5f1673ae",
   "metadata": {},
   "outputs": [],
   "source": []
  },
  {
   "cell_type": "code",
   "execution_count": null,
   "id": "46c1aa65",
   "metadata": {},
   "outputs": [],
   "source": []
  },
  {
   "cell_type": "code",
   "execution_count": null,
   "id": "221f7858",
   "metadata": {},
   "outputs": [],
   "source": []
  },
  {
   "cell_type": "code",
   "execution_count": null,
   "id": "ed3eefdd",
   "metadata": {},
   "outputs": [],
   "source": []
  },
  {
   "cell_type": "code",
   "execution_count": null,
   "id": "0732eae2",
   "metadata": {},
   "outputs": [],
   "source": []
  },
  {
   "cell_type": "code",
   "execution_count": null,
   "id": "819867e2",
   "metadata": {},
   "outputs": [],
   "source": []
  },
  {
   "cell_type": "code",
   "execution_count": null,
   "id": "536cb327",
   "metadata": {},
   "outputs": [],
   "source": []
  },
  {
   "cell_type": "code",
   "execution_count": null,
   "id": "b9c0aa9b",
   "metadata": {},
   "outputs": [],
   "source": []
  },
  {
   "cell_type": "code",
   "execution_count": null,
   "id": "05de5f59",
   "metadata": {},
   "outputs": [],
   "source": []
  },
  {
   "cell_type": "code",
   "execution_count": null,
   "id": "6cc974e8",
   "metadata": {},
   "outputs": [],
   "source": []
  },
  {
   "cell_type": "code",
   "execution_count": null,
   "id": "04e972f2",
   "metadata": {},
   "outputs": [],
   "source": []
  },
  {
   "cell_type": "code",
   "execution_count": null,
   "id": "931230ba",
   "metadata": {},
   "outputs": [],
   "source": []
  },
  {
   "cell_type": "code",
   "execution_count": null,
   "id": "7d64fde9",
   "metadata": {},
   "outputs": [],
   "source": []
  },
  {
   "cell_type": "code",
   "execution_count": null,
   "id": "0f278582",
   "metadata": {},
   "outputs": [],
   "source": []
  },
  {
   "cell_type": "code",
   "execution_count": null,
   "id": "62508198",
   "metadata": {},
   "outputs": [],
   "source": []
  },
  {
   "cell_type": "code",
   "execution_count": null,
   "id": "9bf41f99",
   "metadata": {},
   "outputs": [],
   "source": []
  },
  {
   "cell_type": "code",
   "execution_count": null,
   "id": "0fa0f009",
   "metadata": {},
   "outputs": [],
   "source": []
  },
  {
   "cell_type": "code",
   "execution_count": null,
   "id": "66d6bea6",
   "metadata": {},
   "outputs": [],
   "source": []
  },
  {
   "cell_type": "code",
   "execution_count": null,
   "id": "0736a7d5",
   "metadata": {},
   "outputs": [],
   "source": []
  },
  {
   "cell_type": "code",
   "execution_count": null,
   "id": "4eb6b8a9",
   "metadata": {},
   "outputs": [],
   "source": []
  },
  {
   "cell_type": "code",
   "execution_count": null,
   "id": "615cf0b6",
   "metadata": {},
   "outputs": [],
   "source": []
  },
  {
   "cell_type": "code",
   "execution_count": null,
   "id": "0cb8534d",
   "metadata": {},
   "outputs": [],
   "source": []
  },
  {
   "cell_type": "code",
   "execution_count": null,
   "id": "ba5c2483",
   "metadata": {},
   "outputs": [],
   "source": []
  },
  {
   "cell_type": "code",
   "execution_count": null,
   "id": "12c12c38",
   "metadata": {},
   "outputs": [],
   "source": []
  },
  {
   "cell_type": "code",
   "execution_count": null,
   "id": "8a7b9a94",
   "metadata": {},
   "outputs": [],
   "source": []
  },
  {
   "cell_type": "code",
   "execution_count": null,
   "id": "5f26fbf0",
   "metadata": {},
   "outputs": [],
   "source": []
  },
  {
   "cell_type": "code",
   "execution_count": null,
   "id": "4b308c4a",
   "metadata": {},
   "outputs": [],
   "source": []
  },
  {
   "cell_type": "code",
   "execution_count": null,
   "id": "0143c65f",
   "metadata": {},
   "outputs": [],
   "source": []
  },
  {
   "cell_type": "code",
   "execution_count": null,
   "id": "3c32d0aa",
   "metadata": {},
   "outputs": [],
   "source": []
  },
  {
   "cell_type": "code",
   "execution_count": null,
   "id": "7378df13",
   "metadata": {},
   "outputs": [],
   "source": []
  },
  {
   "cell_type": "code",
   "execution_count": null,
   "id": "c7f72d29",
   "metadata": {},
   "outputs": [],
   "source": []
  },
  {
   "cell_type": "code",
   "execution_count": null,
   "id": "b07bad1a",
   "metadata": {},
   "outputs": [],
   "source": []
  },
  {
   "cell_type": "code",
   "execution_count": null,
   "id": "b29fb24a",
   "metadata": {},
   "outputs": [],
   "source": []
  },
  {
   "cell_type": "code",
   "execution_count": null,
   "id": "afb5428d",
   "metadata": {},
   "outputs": [],
   "source": []
  },
  {
   "cell_type": "code",
   "execution_count": null,
   "id": "9d35802a",
   "metadata": {},
   "outputs": [],
   "source": []
  },
  {
   "cell_type": "code",
   "execution_count": null,
   "id": "75ce20fa",
   "metadata": {},
   "outputs": [],
   "source": []
  },
  {
   "cell_type": "code",
   "execution_count": null,
   "id": "411eb6da",
   "metadata": {},
   "outputs": [],
   "source": []
  },
  {
   "cell_type": "code",
   "execution_count": null,
   "id": "b839e58b",
   "metadata": {},
   "outputs": [],
   "source": []
  },
  {
   "cell_type": "code",
   "execution_count": null,
   "id": "f3746af2",
   "metadata": {},
   "outputs": [],
   "source": []
  },
  {
   "cell_type": "code",
   "execution_count": null,
   "id": "892d6bc3",
   "metadata": {},
   "outputs": [],
   "source": []
  },
  {
   "cell_type": "code",
   "execution_count": null,
   "id": "30eeede7",
   "metadata": {},
   "outputs": [],
   "source": []
  },
  {
   "cell_type": "code",
   "execution_count": null,
   "id": "c7c27ce8",
   "metadata": {},
   "outputs": [],
   "source": []
  },
  {
   "cell_type": "code",
   "execution_count": null,
   "id": "bb0c8a9a",
   "metadata": {},
   "outputs": [],
   "source": []
  },
  {
   "cell_type": "code",
   "execution_count": null,
   "id": "9b7d72f0",
   "metadata": {},
   "outputs": [],
   "source": []
  },
  {
   "cell_type": "code",
   "execution_count": null,
   "id": "53010e9a",
   "metadata": {},
   "outputs": [],
   "source": []
  },
  {
   "cell_type": "code",
   "execution_count": null,
   "id": "34c18a7c",
   "metadata": {},
   "outputs": [],
   "source": []
  },
  {
   "cell_type": "code",
   "execution_count": null,
   "id": "609eae40",
   "metadata": {},
   "outputs": [],
   "source": []
  },
  {
   "cell_type": "code",
   "execution_count": null,
   "id": "e1faee95",
   "metadata": {},
   "outputs": [],
   "source": []
  },
  {
   "cell_type": "code",
   "execution_count": null,
   "id": "dd044d41",
   "metadata": {},
   "outputs": [],
   "source": []
  },
  {
   "cell_type": "code",
   "execution_count": null,
   "id": "0a5b749c",
   "metadata": {},
   "outputs": [],
   "source": []
  },
  {
   "cell_type": "code",
   "execution_count": null,
   "id": "88561d75",
   "metadata": {},
   "outputs": [],
   "source": []
  },
  {
   "cell_type": "code",
   "execution_count": null,
   "id": "d2bb62fe",
   "metadata": {},
   "outputs": [],
   "source": []
  },
  {
   "cell_type": "code",
   "execution_count": null,
   "id": "605689b7",
   "metadata": {},
   "outputs": [],
   "source": []
  },
  {
   "cell_type": "code",
   "execution_count": null,
   "id": "554b3498",
   "metadata": {},
   "outputs": [],
   "source": []
  },
  {
   "cell_type": "code",
   "execution_count": null,
   "id": "c7f334e7",
   "metadata": {},
   "outputs": [],
   "source": []
  },
  {
   "cell_type": "code",
   "execution_count": null,
   "id": "17dfeb08",
   "metadata": {},
   "outputs": [],
   "source": []
  },
  {
   "cell_type": "code",
   "execution_count": null,
   "id": "4840308f",
   "metadata": {},
   "outputs": [],
   "source": []
  },
  {
   "cell_type": "code",
   "execution_count": null,
   "id": "06de1b48",
   "metadata": {},
   "outputs": [],
   "source": []
  },
  {
   "cell_type": "code",
   "execution_count": null,
   "id": "d9259e68",
   "metadata": {},
   "outputs": [],
   "source": []
  },
  {
   "cell_type": "code",
   "execution_count": null,
   "id": "721c4399",
   "metadata": {},
   "outputs": [],
   "source": []
  },
  {
   "cell_type": "code",
   "execution_count": null,
   "id": "ac83a61d",
   "metadata": {},
   "outputs": [],
   "source": []
  },
  {
   "cell_type": "code",
   "execution_count": null,
   "id": "78b38a7c",
   "metadata": {},
   "outputs": [],
   "source": []
  },
  {
   "cell_type": "code",
   "execution_count": null,
   "id": "8385cc9f",
   "metadata": {},
   "outputs": [],
   "source": []
  },
  {
   "cell_type": "code",
   "execution_count": null,
   "id": "b8f40d39",
   "metadata": {},
   "outputs": [],
   "source": []
  },
  {
   "cell_type": "code",
   "execution_count": null,
   "id": "b147ff2b",
   "metadata": {},
   "outputs": [],
   "source": []
  },
  {
   "cell_type": "code",
   "execution_count": null,
   "id": "120fa8d9",
   "metadata": {},
   "outputs": [],
   "source": []
  },
  {
   "cell_type": "code",
   "execution_count": null,
   "id": "dd5c809c",
   "metadata": {},
   "outputs": [],
   "source": []
  },
  {
   "cell_type": "code",
   "execution_count": null,
   "id": "f3630aef",
   "metadata": {},
   "outputs": [],
   "source": []
  },
  {
   "cell_type": "code",
   "execution_count": null,
   "id": "006a5fdd",
   "metadata": {},
   "outputs": [],
   "source": []
  },
  {
   "cell_type": "code",
   "execution_count": null,
   "id": "8e6d1b79",
   "metadata": {},
   "outputs": [],
   "source": []
  },
  {
   "cell_type": "code",
   "execution_count": null,
   "id": "c461019c",
   "metadata": {},
   "outputs": [],
   "source": []
  },
  {
   "cell_type": "code",
   "execution_count": null,
   "id": "e405cf3b",
   "metadata": {},
   "outputs": [],
   "source": []
  },
  {
   "cell_type": "code",
   "execution_count": null,
   "id": "c3a279d3",
   "metadata": {},
   "outputs": [],
   "source": []
  },
  {
   "cell_type": "code",
   "execution_count": null,
   "id": "a05a273f",
   "metadata": {},
   "outputs": [],
   "source": []
  },
  {
   "cell_type": "code",
   "execution_count": null,
   "id": "755a36ab",
   "metadata": {},
   "outputs": [],
   "source": []
  },
  {
   "cell_type": "code",
   "execution_count": null,
   "id": "d0de7ecd",
   "metadata": {},
   "outputs": [],
   "source": []
  },
  {
   "cell_type": "code",
   "execution_count": null,
   "id": "bfbfa331",
   "metadata": {},
   "outputs": [],
   "source": []
  },
  {
   "cell_type": "code",
   "execution_count": null,
   "id": "a0a3bf3f",
   "metadata": {},
   "outputs": [],
   "source": []
  },
  {
   "cell_type": "code",
   "execution_count": null,
   "id": "010a1a1c",
   "metadata": {},
   "outputs": [],
   "source": []
  },
  {
   "cell_type": "code",
   "execution_count": null,
   "id": "7c30bc17",
   "metadata": {},
   "outputs": [],
   "source": []
  },
  {
   "cell_type": "code",
   "execution_count": null,
   "id": "45e1f3d5",
   "metadata": {},
   "outputs": [],
   "source": []
  },
  {
   "cell_type": "code",
   "execution_count": null,
   "id": "3f9dd76b",
   "metadata": {},
   "outputs": [],
   "source": []
  },
  {
   "cell_type": "code",
   "execution_count": null,
   "id": "c2ad0ce5",
   "metadata": {},
   "outputs": [],
   "source": []
  },
  {
   "cell_type": "code",
   "execution_count": null,
   "id": "304d8bf4",
   "metadata": {},
   "outputs": [],
   "source": []
  },
  {
   "cell_type": "code",
   "execution_count": null,
   "id": "8baa2533",
   "metadata": {},
   "outputs": [],
   "source": []
  },
  {
   "cell_type": "code",
   "execution_count": null,
   "id": "5fc3ceec",
   "metadata": {},
   "outputs": [],
   "source": []
  },
  {
   "cell_type": "code",
   "execution_count": null,
   "id": "9160089a",
   "metadata": {},
   "outputs": [],
   "source": []
  },
  {
   "cell_type": "code",
   "execution_count": null,
   "id": "3a6ed096",
   "metadata": {},
   "outputs": [],
   "source": []
  },
  {
   "cell_type": "code",
   "execution_count": null,
   "id": "74be6ea5",
   "metadata": {},
   "outputs": [],
   "source": []
  },
  {
   "cell_type": "code",
   "execution_count": null,
   "id": "03aee7dc",
   "metadata": {},
   "outputs": [],
   "source": []
  },
  {
   "cell_type": "code",
   "execution_count": null,
   "id": "8d772348",
   "metadata": {},
   "outputs": [],
   "source": []
  },
  {
   "cell_type": "code",
   "execution_count": null,
   "id": "afd415d0",
   "metadata": {},
   "outputs": [],
   "source": []
  },
  {
   "cell_type": "code",
   "execution_count": null,
   "id": "dfa06839",
   "metadata": {},
   "outputs": [],
   "source": []
  },
  {
   "cell_type": "code",
   "execution_count": null,
   "id": "e6489492",
   "metadata": {},
   "outputs": [],
   "source": []
  },
  {
   "cell_type": "code",
   "execution_count": null,
   "id": "77b4f058",
   "metadata": {},
   "outputs": [],
   "source": []
  },
  {
   "cell_type": "code",
   "execution_count": null,
   "id": "eb8c7f45",
   "metadata": {},
   "outputs": [],
   "source": []
  },
  {
   "cell_type": "code",
   "execution_count": null,
   "id": "4e08e1e1",
   "metadata": {},
   "outputs": [],
   "source": []
  },
  {
   "cell_type": "code",
   "execution_count": null,
   "id": "63ded031",
   "metadata": {},
   "outputs": [],
   "source": []
  },
  {
   "cell_type": "code",
   "execution_count": null,
   "id": "1ee9d846",
   "metadata": {},
   "outputs": [],
   "source": []
  },
  {
   "cell_type": "code",
   "execution_count": null,
   "id": "278e66ba",
   "metadata": {},
   "outputs": [],
   "source": []
  },
  {
   "cell_type": "code",
   "execution_count": null,
   "id": "07968633",
   "metadata": {},
   "outputs": [],
   "source": []
  },
  {
   "cell_type": "code",
   "execution_count": null,
   "id": "746d982a",
   "metadata": {},
   "outputs": [],
   "source": []
  },
  {
   "cell_type": "code",
   "execution_count": null,
   "id": "816993d8",
   "metadata": {},
   "outputs": [],
   "source": []
  },
  {
   "cell_type": "code",
   "execution_count": null,
   "id": "8c82acdd",
   "metadata": {},
   "outputs": [],
   "source": []
  },
  {
   "cell_type": "code",
   "execution_count": null,
   "id": "15222ef8",
   "metadata": {},
   "outputs": [],
   "source": []
  },
  {
   "cell_type": "code",
   "execution_count": null,
   "id": "6a79eb52",
   "metadata": {},
   "outputs": [],
   "source": []
  },
  {
   "cell_type": "code",
   "execution_count": null,
   "id": "7f60f962",
   "metadata": {},
   "outputs": [],
   "source": []
  },
  {
   "cell_type": "code",
   "execution_count": null,
   "id": "9a4ccb96",
   "metadata": {},
   "outputs": [],
   "source": []
  },
  {
   "cell_type": "code",
   "execution_count": null,
   "id": "b9fa2cfb",
   "metadata": {},
   "outputs": [],
   "source": []
  },
  {
   "cell_type": "code",
   "execution_count": null,
   "id": "a9234619",
   "metadata": {},
   "outputs": [],
   "source": []
  },
  {
   "cell_type": "code",
   "execution_count": null,
   "id": "5197bf78",
   "metadata": {},
   "outputs": [],
   "source": []
  },
  {
   "cell_type": "code",
   "execution_count": null,
   "id": "97b6a4a5",
   "metadata": {},
   "outputs": [],
   "source": []
  },
  {
   "cell_type": "code",
   "execution_count": null,
   "id": "c6d35235",
   "metadata": {},
   "outputs": [],
   "source": []
  },
  {
   "cell_type": "code",
   "execution_count": null,
   "id": "539729f8",
   "metadata": {},
   "outputs": [],
   "source": []
  },
  {
   "cell_type": "code",
   "execution_count": null,
   "id": "6c41403e",
   "metadata": {},
   "outputs": [],
   "source": []
  },
  {
   "cell_type": "code",
   "execution_count": null,
   "id": "74af6bea",
   "metadata": {},
   "outputs": [],
   "source": []
  },
  {
   "cell_type": "code",
   "execution_count": null,
   "id": "8c0d88a9",
   "metadata": {},
   "outputs": [],
   "source": []
  },
  {
   "cell_type": "code",
   "execution_count": null,
   "id": "c4d24c6e",
   "metadata": {},
   "outputs": [],
   "source": []
  },
  {
   "cell_type": "code",
   "execution_count": null,
   "id": "5d5b4375",
   "metadata": {},
   "outputs": [],
   "source": []
  },
  {
   "cell_type": "code",
   "execution_count": null,
   "id": "66a2fd3e",
   "metadata": {},
   "outputs": [],
   "source": []
  },
  {
   "cell_type": "code",
   "execution_count": null,
   "id": "ec462fcd",
   "metadata": {},
   "outputs": [],
   "source": []
  },
  {
   "cell_type": "code",
   "execution_count": null,
   "id": "91b3c2d5",
   "metadata": {},
   "outputs": [],
   "source": []
  },
  {
   "cell_type": "code",
   "execution_count": null,
   "id": "a47d7174",
   "metadata": {},
   "outputs": [],
   "source": []
  },
  {
   "cell_type": "code",
   "execution_count": null,
   "id": "32c7385d",
   "metadata": {},
   "outputs": [],
   "source": []
  },
  {
   "cell_type": "code",
   "execution_count": null,
   "id": "5ad10d8c",
   "metadata": {},
   "outputs": [],
   "source": []
  },
  {
   "cell_type": "code",
   "execution_count": null,
   "id": "475d13a6",
   "metadata": {},
   "outputs": [],
   "source": []
  },
  {
   "cell_type": "code",
   "execution_count": null,
   "id": "41934c5d",
   "metadata": {},
   "outputs": [],
   "source": []
  },
  {
   "cell_type": "code",
   "execution_count": null,
   "id": "db9682d9",
   "metadata": {},
   "outputs": [],
   "source": []
  },
  {
   "cell_type": "code",
   "execution_count": null,
   "id": "890d4ff7",
   "metadata": {},
   "outputs": [],
   "source": []
  },
  {
   "cell_type": "code",
   "execution_count": null,
   "id": "acd5e5a3",
   "metadata": {},
   "outputs": [],
   "source": []
  },
  {
   "cell_type": "code",
   "execution_count": null,
   "id": "3bfbf0e0",
   "metadata": {},
   "outputs": [],
   "source": []
  },
  {
   "cell_type": "code",
   "execution_count": null,
   "id": "3ce98cd3",
   "metadata": {},
   "outputs": [],
   "source": []
  },
  {
   "cell_type": "code",
   "execution_count": null,
   "id": "0bd5b02e",
   "metadata": {},
   "outputs": [],
   "source": []
  },
  {
   "cell_type": "code",
   "execution_count": null,
   "id": "0621965b",
   "metadata": {},
   "outputs": [],
   "source": []
  },
  {
   "cell_type": "code",
   "execution_count": null,
   "id": "0e7c58f5",
   "metadata": {},
   "outputs": [],
   "source": []
  },
  {
   "cell_type": "code",
   "execution_count": null,
   "id": "da7e657e",
   "metadata": {},
   "outputs": [],
   "source": []
  },
  {
   "cell_type": "code",
   "execution_count": null,
   "id": "2f54486d",
   "metadata": {},
   "outputs": [],
   "source": []
  }
 ],
 "metadata": {
  "kernelspec": {
   "display_name": "Python 3 (ipykernel)",
   "language": "python",
   "name": "python3"
  },
  "language_info": {
   "codemirror_mode": {
    "name": "ipython",
    "version": 3
   },
   "file_extension": ".py",
   "mimetype": "text/x-python",
   "name": "python",
   "nbconvert_exporter": "python",
   "pygments_lexer": "ipython3",
   "version": "3.10.9"
  },
  "toc": {
   "base_numbering": 1,
   "nav_menu": {},
   "number_sections": false,
   "sideBar": true,
   "skip_h1_title": false,
   "title_cell": "Table of Contents",
   "title_sidebar": "Contents",
   "toc_cell": false,
   "toc_position": {},
   "toc_section_display": true,
   "toc_window_display": false
  }
 },
 "nbformat": 4,
 "nbformat_minor": 5
}
