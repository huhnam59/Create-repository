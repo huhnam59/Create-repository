{
 "cells": [
  {
   "cell_type": "code",
   "execution_count": null,
   "id": "8b14d30a",
   "metadata": {},
   "outputs": [],
   "source": [
    "from IPython.display import display, HTML\n",
    "display(HTML(\"\"\"\n",
    "<style>\n",
    "div.container{width:90% !important;}\n",
    "div.cell.code_cell.rendered{width:100%;}\n",
    "div.input_prompt{padding:0px;}\n",
    "div.CodeMirror {font-family:Consolas; font-size:22pt;}\n",
    "div.text_cell_render.rendered_html{font-size:22pt;}\n",
    "div.output {font-size:22pt; font-weight:bold;}\n",
    "div.input {font-family:Consolas; font-size:22pt;}\n",
    "div.prompt {min-width:100px;}\n",
    "div#toc-wrapper{padding-top:120px;}\n",
    "div.text_cell_render ul li{font-size:22pt;padding:5px;}\n",
    "table.dataframe{font-size:22px;}\n",
    "</style>\n",
    "\"\"\"))n"
   ]
  },
  {
   "cell_type": "markdown",
   "id": "1ab6607d",
   "metadata": {},
   "source": [
    "<b>font size=\"7\" color=\"red\">cho3. 데이터구조</font></b>\n",
    "- 리스트.[80,20]., 튜플(90,20), 딕셔너리{\"name\": \"홍\", \"source\":50}, 셋{10, 20}\n",
    "\n",
    "# 1절 리스터\n",
    "## 1.1 리스트 만들기\n",
    "- []를 이용해서 만들며, 여러 개 값(여러 타입)을 하나의 변수에 저장/관리할 수 있음.\n",
    "- list()함수 이용도 가능\n",
    "- 인덱스 : 각 요소의 위치, 인덱스는 0부터 시작, 맨 마지막 인덱스는 -1\n",
    "- 슬라이싱([from:to:step].): 부분 데이터셋 추출\n",
    "- 인덱스와 슬라이싱을 이용해서 쓰기와 읽기 지원"
   ]
  },
  {
   "cell_type": "code",
   "execution_count": 2,
   "id": "c1f172b3",
   "metadata": {},
   "outputs": [
    {
     "data": {
      "text/plain": [
       "['apple', 'apple', 'orange', 'grape']"
      ]
     },
     "execution_count": 2,
     "metadata": {},
     "output_type": "execute_result"
    }
   ],
   "source": [
    "fruit = 'banana'\n",
    "fruits = ['banana', 'apple', 'orange', 'grape']\n",
    "fruits[0] = 'apple'\n",
    "fruits"
   ]
  },
  {
   "cell_type": "code",
   "execution_count": null,
   "id": "81fad911",
   "metadata": {},
   "outputs": [],
   "source": [
    "동행이냐? 끌려가느냐?"
   ]
  },
  {
   "cell_type": "code",
   "execution_count": null,
   "id": "7518b7a9",
   "metadata": {},
   "outputs": [],
   "source": [
    "변수 하나에 여려개 데이터"
   ]
  },
  {
   "cell_type": "code",
   "execution_count": null,
   "id": "de0bef3e",
   "metadata": {},
   "outputs": [],
   "source": [
    "파이선 기본 문법이 아니고, 데이터 함수,  날짜"
   ]
  },
  {
   "cell_type": "code",
   "execution_count": null,
   "id": "b9b8c79a",
   "metadata": {},
   "outputs": [],
   "source": [
    "아나콘다는 1500개"
   ]
  },
  {
   "cell_type": "code",
   "execution_count": null,
   "id": "9d9a5858",
   "metadata": {},
   "outputs": [],
   "source": [
    "N차원 배열 다루기(10월 10일, 13, 14, 15일 예정), 변수 하나에 여려개 데이터, 배열은 동일"
   ]
  },
  {
   "cell_type": "code",
   "execution_count": null,
   "id": "54a36140",
   "metadata": {},
   "outputs": [],
   "source": [
    "전처리, 시각화,  AI 개발, "
   ]
  },
  {
   "cell_type": "code",
   "execution_count": null,
   "id": "d4a14c82",
   "metadata": {},
   "outputs": [],
   "source": [
    "요즘 인턴 사원 채용, 3개월, "
   ]
  },
  {
   "cell_type": "code",
   "execution_count": null,
   "id": "b1c825d9",
   "metadata": {},
   "outputs": [],
   "source": [
    "웹데이터 가져오기"
   ]
  },
  {
   "cell_type": "code",
   "execution_count": null,
   "id": "78bb607b",
   "metadata": {},
   "outputs": [],
   "source": [
    "인덱스와 슬라이싱을 이용해서 쓰기와 읽기 지원"
   ]
  },
  {
   "cell_type": "code",
   "execution_count": 3,
   "id": "8d003274",
   "metadata": {},
   "outputs": [
    {
     "name": "stdout",
     "output_type": "stream",
     "text": [
      "['apple', 'apple', 'orange', 'grape']\n",
      "grape\n"
     ]
    }
   ],
   "source": [
    "print(fruits)\n",
    "print(fruits[3]) # 인덱싱을 이용한 읽기\n",
    "# fprint(fruits[4]) # 없는 인덱싱 시 에러"
   ]
  },
  {
   "cell_type": "code",
   "execution_count": 5,
   "id": "7c83bf15",
   "metadata": {},
   "outputs": [
    {
     "name": "stdout",
     "output_type": "stream",
     "text": [
      "['mango', 'apple', 'orange', 'grape']\n"
     ]
    }
   ],
   "source": [
    "fruits[0] = 'mango' # 인덱싱 이용\n",
    "print(fruits)"
   ]
  },
  {
   "cell_type": "code",
   "execution_count": null,
   "id": "d5302b49",
   "metadata": {},
   "outputs": [],
   "source": [
    "영방 1방, 2방, 3방, 영방에 mango 입력"
   ]
  },
  {
   "cell_type": "code",
   "execution_count": null,
   "id": "ed7a8cc2",
   "metadata": {},
   "outputs": [],
   "source": [
    "슬라이싱, 읽기, 쓰기 가능"
   ]
  },
  {
   "cell_type": "code",
   "execution_count": 11,
   "id": "da725718",
   "metadata": {},
   "outputs": [
    {
     "ename": "SyntaxError",
     "evalue": "unterminated string literal (detected at line 2) (4163754150.py, line 2)",
     "output_type": "error",
     "traceback": [
      "\u001b[1;36m  Cell \u001b[1;32mIn[11], line 2\u001b[1;36m\u001b[0m\n\u001b[1;33m    x, y, z = ''mango', 'apple', 'orange'\u001b[0m\n\u001b[1;37m                                        ^\u001b[0m\n\u001b[1;31mSyntaxError\u001b[0m\u001b[1;31m:\u001b[0m unterminated string literal (detected at line 2)\n"
     ]
    }
   ],
   "source": [
    "fruits = ['mango', 'apple', 'orange']\n",
    "x, y, z = ''mango', 'apple', 'orange'\n",
    "print(f\"x는; {x}\")\n",
    "print(f\"y는: {y}\")\n",
    "print(f\"z는: {z}\")"
   ]
  },
  {
   "cell_type": "code",
   "execution_count": 6,
   "id": "ec2385ce",
   "metadata": {},
   "outputs": [
    {
     "data": {
      "text/plain": [
       "range(0, 10)"
      ]
     },
     "execution_count": 6,
     "metadata": {},
     "output_type": "execute_result"
    }
   ],
   "source": [
    "# range(from, to, by) :  from부터 to 앞까지 by\n",
    "#  숫자를 순차적 사용\n",
    "# from 생략시 0, by 샹랙시 1\n",
    "range(0, 10, 1)"
   ]
  },
  {
   "cell_type": "code",
   "execution_count": 7,
   "id": "e1904e74",
   "metadata": {},
   "outputs": [
    {
     "data": {
      "text/plain": [
       "[0, 1, 2, 3, 4, 5, 6, 7, 8, 9]"
      ]
     },
     "execution_count": 7,
     "metadata": {},
     "output_type": "execute_result"
    }
   ],
   "source": [
    "list(range(10))"
   ]
  },
  {
   "cell_type": "code",
   "execution_count": 8,
   "id": "479b3a9c",
   "metadata": {},
   "outputs": [
    {
     "data": {
      "text/plain": [
       "[10, 8, 6, 4, 2, 0]"
      ]
     },
     "execution_count": 8,
     "metadata": {},
     "output_type": "execute_result"
    }
   ],
   "source": [
    "list(range(10, -1, -2))"
   ]
  },
  {
   "cell_type": "code",
   "execution_count": 13,
   "id": "59ca942d",
   "metadata": {},
   "outputs": [
    {
     "name": "stdout",
     "output_type": "stream",
     "text": [
      "0\n",
      "1\n",
      "2\n",
      "3\n",
      "4\n",
      "5\n",
      "6\n",
      "7\n",
      "8\n",
      "9\n",
      "10\n"
     ]
    }
   ],
   "source": [
    "for i in [0, 1, 2, 3, 4, 5, 6, 7, 8, 9, 10]:\n",
    "    print(i)"
   ]
  },
  {
   "cell_type": "code",
   "execution_count": 18,
   "id": "c735a911",
   "metadata": {},
   "outputs": [
    {
     "name": "stdout",
     "output_type": "stream",
     "text": [
      "0\n",
      "1\n",
      "2\n",
      "3\n",
      "4\n",
      "5\n",
      "6\n",
      "7\n",
      "8\n",
      "9\n"
     ]
    }
   ],
   "source": [
    "for i in range(10):\n",
    "    print(i)"
   ]
  },
  {
   "cell_type": "code",
   "execution_count": 19,
   "id": "1aabe1a4",
   "metadata": {},
   "outputs": [
    {
     "name": "stdout",
     "output_type": "stream",
     "text": [
      "0번째 과일은 banana\n",
      "1번째 과일은 apple\n",
      "2번째 과일은 orange\n"
     ]
    }
   ],
   "source": [
    "fruits = ['banana', 'apple', 'orange']\n",
    "print(\"{}번째 과일은 {}\".format(0,fruits[0]))\n",
    "print(\"{}번째 과일은 {}\".format(1,fruits[1]))\n",
    "print(\"{}번째 과일은 {}\".format(2,fruits[2]))"
   ]
  },
  {
   "cell_type": "code",
   "execution_count": 22,
   "id": "4c004899",
   "metadata": {},
   "outputs": [
    {
     "name": "stdout",
     "output_type": "stream",
     "text": [
      "0번째 과일은 banana\n",
      "1번째 과일은 apple\n",
      "2번째 과일은 orange\n"
     ]
    }
   ],
   "source": [
    "fruits = ['banana', 'apple', 'orange']\n",
    "# print(\"{}번째 과일은 {}\".format(0,fruits[0]))\n",
    "# print(\"{}번째 과일은 {}\".format(1,fruits[1]))\n",
    "# print(\"{}번째 과일은 {}\".format(2,fruits[2]))\n",
    "for idx in range(3):\n",
    "    print(\"{}번째 과일은 {}\".format(idx, fruits[idx]))"
   ]
  },
  {
   "cell_type": "code",
   "execution_count": 23,
   "id": "991937e4",
   "metadata": {},
   "outputs": [
    {
     "name": "stdout",
     "output_type": "stream",
     "text": [
      "0번째 과일은 banana\n",
      "1번째 과일은 apple\n",
      "2번째 과일은 orange\n"
     ]
    }
   ],
   "source": [
    "fruits = ['banana', 'apple', 'orange']\n",
    "# print(\"{}번째 과일은 {}\".format(0,fruits[0]))\n",
    "# print(\"{}번째 과일은 {}\".format(1,fruits[1]))\n",
    "# print(\"{}번째 과일은 {}\".format(2,fruits[2]))\n",
    "for idx in range(len(fruits)):\n",
    "    print(\"{}번째 과일은 {}\".format(idx, fruits[idx]))"
   ]
  },
  {
   "cell_type": "code",
   "execution_count": null,
   "id": "d373a986",
   "metadata": {},
   "outputs": [],
   "source": [
    "시니어 개발자 구하기 쉽지 않다."
   ]
  },
  {
   "cell_type": "code",
   "execution_count": null,
   "id": "2997f9aa",
   "metadata": {},
   "outputs": [],
   "source": [
    "이소영 교수님은 3년 놀았다. 노는 것도 쉽지 않다. "
   ]
  },
  {
   "cell_type": "code",
   "execution_count": null,
   "id": "f39d3aad",
   "metadata": {},
   "outputs": [],
   "source": [
    "취업 가능한 수준으로 진도를 나가고 있다. "
   ]
  },
  {
   "cell_type": "code",
   "execution_count": null,
   "id": "9c7eed20",
   "metadata": {},
   "outputs": [],
   "source": [
    "친정 오빠가 개발자다."
   ]
  },
  {
   "cell_type": "code",
   "execution_count": null,
   "id": "d7c65cbf",
   "metadata": {},
   "outputs": [],
   "source": [
    "재택근무의 장단점"
   ]
  },
  {
   "cell_type": "code",
   "execution_count": null,
   "id": "8aec02ef",
   "metadata": {},
   "outputs": [],
   "source": [
    "업체는 프리랜서 개발자가 젊은 자와 비슷한 연령, 나이든 개발자는 꺼려한다."
   ]
  },
  {
   "cell_type": "code",
   "execution_count": null,
   "id": "f733dc37",
   "metadata": {},
   "outputs": [],
   "source": [
    "오빠는 침대에 누워서 개발했다. "
   ]
  },
  {
   "cell_type": "code",
   "execution_count": null,
   "id": "b00354d7",
   "metadata": {},
   "outputs": [],
   "source": [
    "프리랜서 개발자는 경력이 있어야 한다."
   ]
  },
  {
   "cell_type": "code",
   "execution_count": null,
   "id": "894441bd",
   "metadata": {},
   "outputs": [],
   "source": []
  },
  {
   "cell_type": "code",
   "execution_count": 25,
   "id": "a19ebad5",
   "metadata": {},
   "outputs": [
    {
     "data": {
      "text/plain": [
       "[(0, 'banana'), (1, 'apple'), (2, 'orange')]"
      ]
     },
     "execution_count": 25,
     "metadata": {},
     "output_type": "execute_result"
    }
   ],
   "source": [
    "list(enumerate(fruits))\n",
    "[(0,'banana'), (1,'apple'), (2,'orange')]"
   ]
  },
  {
   "cell_type": "code",
   "execution_count": 26,
   "id": "6e1fc048",
   "metadata": {},
   "outputs": [
    {
     "name": "stdout",
     "output_type": "stream",
     "text": [
      "{}번재 과일은 {fruit}\n",
      "{}번재 과일은 {fruit}\n",
      "{}번재 과일은 {fruit}\n"
     ]
    }
   ],
   "source": [
    "for i, fruit in [(0,'banana'), (1,'apple'), (2,'orange')]:\n",
    "    print(\"{}번재 과일은 {fruit}\")"
   ]
  },
  {
   "cell_type": "code",
   "execution_count": 28,
   "id": "06a49918",
   "metadata": {},
   "outputs": [
    {
     "name": "stdout",
     "output_type": "stream",
     "text": [
      "0번재 과일은 banana\n",
      "1번재 과일은 apple\n",
      "2번재 과일은 orange\n"
     ]
    }
   ],
   "source": [
    "for i, fruit in enumerate(fruits): #[(0,'banana'), (1,'apple'), (2,'orange')]:\n",
    "    print(f\"{i}번재 과일은 {fruit}\")"
   ]
  },
  {
   "cell_type": "code",
   "execution_count": 29,
   "id": "94597b7d",
   "metadata": {},
   "outputs": [
    {
     "name": "stdout",
     "output_type": "stream",
     "text": [
      "banana입니다\n",
      "apple입니다\n",
      "orange입니다\n"
     ]
    }
   ],
   "source": [
    "for x in fruits: #[(0,'banana'), (1,'apple'), (2,'orange')]:\n",
    "    print(f\"{x}입니다\")"
   ]
  },
  {
   "cell_type": "code",
   "execution_count": 32,
   "id": "cb21cff4",
   "metadata": {},
   "outputs": [
    {
     "data": {
      "text/plain": [
       "[0, True, '2', [2, 3], [4, 5, 6]]"
      ]
     },
     "execution_count": 32,
     "metadata": {},
     "output_type": "execute_result"
    }
   ],
   "source": [
    "# 리스트는 여러 타입 데이터를 담을 수 있음.\n",
    "numbers = [0, True, \"2\", [2,3], [4, 5, 6]]\n",
    "numbers"
   ]
  },
  {
   "cell_type": "code",
   "execution_count": null,
   "id": "b7b6f9b1",
   "metadata": {},
   "outputs": [],
   "source": [
    "# 리스트는 여러 타입 데이터를 담을 수 있음.\n",
    "numbers = [0, True, \"2\"]\n",
    "numbers"
   ]
  },
  {
   "cell_type": "code",
   "execution_count": 33,
   "id": "d44241af",
   "metadata": {},
   "outputs": [
    {
     "data": {
      "text/plain": [
       "('2', [4, 5, 6])"
      ]
     },
     "execution_count": 33,
     "metadata": {},
     "output_type": "execute_result"
    }
   ],
   "source": [
    "# 리스트는 여러 타입 데이터를 담을 수 있음.\n",
    "numbers = [0, True, \"2\", [2,3], [4, 5, 6]]\n",
    "numbers[2], numbers[4]"
   ]
  },
  {
   "cell_type": "code",
   "execution_count": 34,
   "id": "48caf29c",
   "metadata": {},
   "outputs": [
    {
     "data": {
      "text/plain": [
       "('2', 5)"
      ]
     },
     "execution_count": 34,
     "metadata": {},
     "output_type": "execute_result"
    }
   ],
   "source": [
    "# 리스트는 여러 타입 데이터를 담을 수 있음. \n",
    "# numbers 안에 \n",
    "numbers = [0, True, \"2\", [2,3], [4, 5, 6]]\n",
    "numbers[2], numbers[4][1]"
   ]
  },
  {
   "cell_type": "code",
   "execution_count": 39,
   "id": "8fc7636c",
   "metadata": {},
   "outputs": [
    {
     "name": "stdout",
     "output_type": "stream",
     "text": [
      "[[1, 2, 3, 4, 5], [10, 20, 30, 40, 50], [1, 3, 5, 7, 9], [2, 4, 6, 8, 10]]\n"
     ]
    }
   ],
   "source": [
    "# 2차원 리스트, 논리적인  것,  다차원 리스트,  2차원 데이터가 아님.\n",
    "numbers = [1, 2, 3, 4, 5]\n",
    "numbers_2d = [[1, 2, 3, 4, 5],\n",
    "              [10, 20, 30, 40, 50],\n",
    "              [1, 3, 5, 7, 9],\n",
    "              [2, 4, 6, 8, 10]]\n",
    "print(numbers_2d)                     "
   ]
  },
  {
   "cell_type": "code",
   "execution_count": 41,
   "id": "3c7c4fe1",
   "metadata": {},
   "outputs": [
    {
     "data": {
      "text/plain": [
       "50"
      ]
     },
     "execution_count": 41,
     "metadata": {},
     "output_type": "execute_result"
    }
   ],
   "source": [
    "numbers_2d[1][4]"
   ]
  },
  {
   "cell_type": "code",
   "execution_count": 42,
   "id": "2680e378",
   "metadata": {},
   "outputs": [
    {
     "name": "stdout",
     "output_type": "stream",
     "text": [
      "[[1, 2, 3, 4, 5], [10, 20, 30, 40, 50], [1, 3, 5, 7, 9], [2, 4, 6, 8, 10]]\n"
     ]
    }
   ],
   "source": [
    "# 2차원 리스트, 논리적인  것,  다차원 리스트,  2차원 데이터가 아님.\n",
    "numbers = [1, 2, 3, 4, 5]\n",
    "# 0열 1열 2열 3열 4열\n",
    "numbers_2d = [[1, 2, 3, 4, 5], # 0행\n",
    "              [10, 20, 30, 40, 50], # 1행\n",
    "              [1, 3, 5, 7, 9], # 2행\n",
    "              [2, 4, 6, 8, 10]] # 3행\n",
    "print(numbers_2d) "
   ]
  },
  {
   "cell_type": "code",
   "execution_count": 44,
   "id": "528d65e2",
   "metadata": {},
   "outputs": [
    {
     "data": {
      "text/plain": [
       "50"
      ]
     },
     "execution_count": 44,
     "metadata": {},
     "output_type": "execute_result"
    }
   ],
   "source": [
    "# 특정행, 특정열 데이터 인덱싱\n",
    "numbers_2d[1][4]"
   ]
  },
  {
   "cell_type": "code",
   "execution_count": 45,
   "id": "dfc42721",
   "metadata": {},
   "outputs": [
    {
     "name": "stdout",
     "output_type": "stream",
     "text": [
      "4 5\n"
     ]
    }
   ],
   "source": [
    "print(len(numbers_2d), len(numbers_2d[0]))"
   ]
  },
  {
   "cell_type": "code",
   "execution_count": 48,
   "id": "34ce72fe",
   "metadata": {},
   "outputs": [
    {
     "name": "stdout",
     "output_type": "stream",
     "text": [
      "1\n",
      "2\n",
      "3\n",
      "4\n",
      "5\n",
      "10\n",
      "20\n",
      "30\n",
      "40\n",
      "50\n",
      "1\n",
      "3\n",
      "5\n",
      "7\n",
      "9\n",
      "2\n",
      "4\n",
      "6\n",
      "8\n",
      "10\n"
     ]
    }
   ],
   "source": [
    "for row in numbers_2d: \n",
    "    for item in row:\n",
    "        print(item)"
   ]
  },
  {
   "cell_type": "code",
   "execution_count": 50,
   "id": "c884b98b",
   "metadata": {},
   "outputs": [
    {
     "name": "stdout",
     "output_type": "stream",
     "text": [
      "1\t2\t3\t4\t5\t10\t20\t30\t40\t50\t1\t3\t5\t7\t9\t2\t4\t6\t8\t10\t"
     ]
    }
   ],
   "source": [
    "for row in numbers_2d: \n",
    "    for item in row:\n",
    "        print(item, end='\\t')"
   ]
  },
  {
   "cell_type": "code",
   "execution_count": 51,
   "id": "0d6f7be7",
   "metadata": {},
   "outputs": [
    {
     "name": "stdout",
     "output_type": "stream",
     "text": [
      "1\t2\t3\t4\t5\t10\t20\t30\t40\t50\t1\t3\t5\t7\t9\t2\t4\t6\t8\t10\t"
     ]
    }
   ],
   "source": [
    "for row in numbers_2d: \n",
    "    for item in row:\n",
    "        print(item, end='\\t')"
   ]
  },
  {
   "cell_type": "code",
   "execution_count": 52,
   "id": "2b666665",
   "metadata": {},
   "outputs": [
    {
     "name": "stdout",
     "output_type": "stream",
     "text": [
      "1\t2\t3\t4\t5\t\n",
      "10\t20\t30\t40\t50\t\n",
      "1\t3\t5\t7\t9\t\n",
      "2\t4\t6\t8\t10\t\n"
     ]
    }
   ],
   "source": [
    "for row in numbers_2d: \n",
    "    for item in row:\n",
    "        print(item, end='\\t')\n",
    "    print()"
   ]
  },
  {
   "cell_type": "code",
   "execution_count": 64,
   "id": "befbcc68",
   "metadata": {},
   "outputs": [
    {
     "name": "stdout",
     "output_type": "stream",
     "text": [
      "0\n",
      "0\n",
      "1\n",
      "0\n",
      "2\n",
      "0\n",
      "3\n",
      "0\n",
      "4\n",
      "0\n",
      "0\n",
      "1\n",
      "1\n",
      "1\n",
      "2\n",
      "1\n",
      "3\n",
      "1\n",
      "4\n",
      "1\n",
      "0\n",
      "2\n",
      "1\n",
      "2\n",
      "2\n",
      "2\n",
      "3\n",
      "2\n",
      "4\n",
      "2\n",
      "0\n",
      "3\n",
      "1\n",
      "3\n",
      "2\n",
      "3\n",
      "3\n",
      "3\n",
      "4\n",
      "3\n"
     ]
    }
   ],
   "source": [
    "for i in range(len(numbers_2d)): # i : 행\n",
    "    for j in range(len(numbers_2d[i])): # j : 열\n",
    "        print(j)\n",
    "        print(i)"
   ]
  },
  {
   "cell_type": "code",
   "execution_count": 60,
   "id": "fa6ced9d",
   "metadata": {},
   "outputs": [
    {
     "name": "stdout",
     "output_type": "stream",
     "text": [
      "0행0:1)\t0행1:2)\t0행2:3)\t0행3:4)\t0행4:5)\t\n",
      "1행0:10)\t1행1:20)\t1행2:30)\t1행3:40)\t1행4:50)\t\n",
      "2행0:1)\t2행1:3)\t2행2:5)\t2행3:7)\t2행4:9)\t\n",
      "3행0:2)\t3행1:4)\t3행2:6)\t3행3:8)\t3행4:10)\t\n"
     ]
    }
   ],
   "source": [
    "for i in range(len(numbers_2d)): # j : 행\n",
    "    for j in range(len(numbers_2d[i])): # j : 열\n",
    "        print(f\"{i}행{j}:{numbers_2d[i][j]})\", end=\"\\t\")\n",
    "        \n",
    "    print()"
   ]
  },
  {
   "cell_type": "code",
   "execution_count": 65,
   "id": "6aad338f",
   "metadata": {},
   "outputs": [
    {
     "name": "stdout",
     "output_type": "stream",
     "text": [
      "0행0:1)\t0행1:2)\t0행2:3)\t0행3:4)\t0행4:5)\t\n",
      "1행0:10)\t1행1:20)\t1행2:30)\t1행3:40)\t1행4:50)\t\n",
      "2행0:1)\t2행1:3)\t2행2:5)\t2행3:7)\t2행4:9)\t\n",
      "3행0:2)\t3행1:4)\t3행2:6)\t3행3:8)\t3행4:10)\t\n"
     ]
    }
   ],
   "source": [
    "for i in range(len(numbers_2d)): # j : 행\n",
    "    for j in range(len(numbers_2d[i])): # j : 열\n",
    "        print(f\"{i}행{j}:{numbers_2d[i][j]})\", end=\"\\t\")\n",
    "        \n",
    "    print() # 개행"
   ]
  },
  {
   "cell_type": "code",
   "execution_count": 66,
   "id": "44161777",
   "metadata": {},
   "outputs": [
    {
     "data": {
      "text/plain": [
       "([(0, [1, 2, 3, 4, 5]),\n",
       "  (1, [10, 20, 30, 40, 50]),\n",
       "  (2, [1, 3, 5, 7, 9]),\n",
       "  (3, [2, 4, 6, 8, 10])],\n",
       " [(0, 1), (1, 2), (2, 3), (3, 4), (4, 5)])"
      ]
     },
     "execution_count": 66,
     "metadata": {},
     "output_type": "execute_result"
    }
   ],
   "source": [
    "list(enumerate(numbers_2d)), list(enumerate(numbers_2d[0]))"
   ]
  },
  {
   "cell_type": "code",
   "execution_count": null,
   "id": "22864a8c",
   "metadata": {},
   "outputs": [],
   "source": [
    "for 데이터 변수 in enumerate(numbers_2d):"
   ]
  },
  {
   "cell_type": "code",
   "execution_count": null,
   "id": "496993ab",
   "metadata": {},
   "outputs": [],
   "source": [
    "for i, row in enumerate(numbers_2d):\n",
    "    for 데이터 변수 in enumerate(numbers_2d[i]):"
   ]
  },
  {
   "cell_type": "code",
   "execution_count": 68,
   "id": "6c4bebda",
   "metadata": {},
   "outputs": [
    {
     "ename": "TypeError",
     "evalue": "format expected at most 2 arguments, got 3",
     "output_type": "error",
     "traceback": [
      "\u001b[1;31m---------------------------------------------------------------------------\u001b[0m",
      "\u001b[1;31mTypeError\u001b[0m                                 Traceback (most recent call last)",
      "Cell \u001b[1;32mIn[68], line 3\u001b[0m\n\u001b[0;32m      1\u001b[0m \u001b[38;5;28;01mfor\u001b[39;00m i, row \u001b[38;5;129;01min\u001b[39;00m \u001b[38;5;28menumerate\u001b[39m(numbers_2d):\n\u001b[0;32m      2\u001b[0m     \u001b[38;5;28;01mfor\u001b[39;00m j, item \u001b[38;5;129;01min\u001b[39;00m \u001b[38;5;28menumerate\u001b[39m(numbers_2d[i]):\n\u001b[1;32m----> 3\u001b[0m         \u001b[38;5;28mprint\u001b[39m(\u001b[38;5;124m\"\u001b[39m\u001b[38;5;132;01m{}\u001b[39;00m\u001b[38;5;124m행\u001b[39m\u001b[38;5;132;01m{열}\u001b[39;00m\u001b[38;5;124m; \u001b[39m\u001b[38;5;132;01m{}\u001b[39;00m\u001b[38;5;124m\"\u001b[39m,\u001b[38;5;28;43mformat\u001b[39;49m\u001b[43m(\u001b[49m\u001b[43mi\u001b[49m\u001b[43m,\u001b[49m\u001b[43m \u001b[49m\u001b[43mj\u001b[49m\u001b[43m,\u001b[49m\u001b[43m \u001b[49m\u001b[43mnumbers_2d\u001b[49m\u001b[43m[\u001b[49m\u001b[43mi\u001b[49m\u001b[43m]\u001b[49m\u001b[43m[\u001b[49m\u001b[43mj\u001b[49m\u001b[43m]\u001b[49m\u001b[43m)\u001b[49m, end\u001b[38;5;241m=\u001b[39m\u001b[38;5;124m\"\u001b[39m\u001b[38;5;130;01m\\t\u001b[39;00m\u001b[38;5;124m\"\u001b[39m)\n\u001b[0;32m      4\u001b[0m     \u001b[38;5;28mprint\u001b[39m()\n",
      "\u001b[1;31mTypeError\u001b[0m: format expected at most 2 arguments, got 3"
     ]
    }
   ],
   "source": [
    "for i, row in enumerate(numbers_2d):\n",
    "    for j, item in enumerate(numbers_2d[i]):\n",
    "        print(\"{}행{열}; {}\",format(i, j, numbers_2d[i][j]), end=\"\\t\")\n",
    "    print() # 개행"
   ]
  },
  {
   "cell_type": "markdown",
   "id": "69ac2168",
   "metadata": {},
   "source": [
    "## 1.2 기본 정보 조회"
   ]
  },
  {
   "cell_type": "code",
   "execution_count": null,
   "id": "71d2ff5e",
   "metadata": {},
   "outputs": [],
   "source": [
    "numbers = [1, 12, 3, 4, 5]\n",
    "numbers_2d = [[100, 0, 1],\n",
    "              [9, 100, 100],\n",
    "              [1, 3, 5, 7, 9],\n",
    "              [59, 100, 130]]"
   ]
  },
  {
   "cell_type": "code",
   "execution_count": 69,
   "id": "5fbfcc0c",
   "metadata": {},
   "outputs": [
    {
     "data": {
      "text/plain": [
       "(5, 4)"
      ]
     },
     "execution_count": 69,
     "metadata": {},
     "output_type": "execute_result"
    }
   ],
   "source": [
    "# item 수\n",
    "len(numbers),len(numbers_2d)"
   ]
  },
  {
   "cell_type": "code",
   "execution_count": 73,
   "id": "5d3b2636",
   "metadata": {},
   "outputs": [
    {
     "data": {
      "text/plain": [
       "(1, [1, 2, 3, 4, 5])"
      ]
     },
     "execution_count": 73,
     "metadata": {},
     "output_type": "execute_result"
    }
   ],
   "source": [
    "# 최소값\n",
    "min(numbers),min(numbers_2d)"
   ]
  },
  {
   "cell_type": "code",
   "execution_count": 71,
   "id": "0d7f2e68",
   "metadata": {},
   "outputs": [
    {
     "data": {
      "text/plain": [
       "(1, 4, [10, 20, 30, 40, 50])"
      ]
     },
     "execution_count": 71,
     "metadata": {},
     "output_type": "execute_result"
    }
   ],
   "source": [
    "# 최대값 등\n",
    "min(numbers),len(numbers_2d), max(numbers_2d)"
   ]
  },
  {
   "cell_type": "code",
   "execution_count": 72,
   "id": "d5b0c6a0",
   "metadata": {},
   "outputs": [
    {
     "data": {
      "text/plain": [
       "(1, [1, 2, 3, 4, 5], 5, [10, 20, 30, 40, 50])"
      ]
     },
     "execution_count": 72,
     "metadata": {},
     "output_type": "execute_result"
    }
   ],
   "source": [
    "# 최소값, 최대값\n",
    "# 2차원 list의 최소갑, 최대값: 부분 리스트 중 첫ㅎ 요소가 가장 작은 값/큰 값\n",
    "min(numbers),min(numbers_2d), max(numbers), max(numbers_2d)"
   ]
  },
  {
   "cell_type": "code",
   "execution_count": 75,
   "id": "7ac9e56b",
   "metadata": {},
   "outputs": [
    {
     "data": {
      "text/plain": [
       "('apple', 'orange')"
      ]
     },
     "execution_count": 75,
     "metadata": {},
     "output_type": "execute_result"
    }
   ],
   "source": [
    "fruits = ['banana', 'apple', 'orange'] \n",
    "min(fruits), max(fruits)"
   ]
  },
  {
   "cell_type": "code",
   "execution_count": 74,
   "id": "b348dd54",
   "metadata": {},
   "outputs": [
    {
     "name": "stdout",
     "output_type": "stream",
     "text": [
      "오름차순 정렬: [1, 2, 3, 4, 5]\n"
     ]
    }
   ],
   "source": [
    "# 정렬하기\n",
    "numbers = [1, 2, 3, 4, 5]\n",
    "print(\"오름차순 정렬:\", sorted(numbers))"
   ]
  },
  {
   "cell_type": "code",
   "execution_count": 77,
   "id": "138749eb",
   "metadata": {},
   "outputs": [
    {
     "name": "stdout",
     "output_type": "stream",
     "text": [
      "오름차순 정렬: [1, 3, 4, 5, 12]\n",
      "내림차순 정렬: [12, 5, 4, 3, 1]\n"
     ]
    }
   ],
   "source": [
    "# 정렬하기\n",
    "numbers = [1, 12, 3, 4, 5]\n",
    "print(\"오름차순 정렬:\", sorted(numbers))\n",
    "print(\"내림차순 정렬:\", sorted(numbers, reverse=True))"
   ]
  },
  {
   "cell_type": "code",
   "execution_count": 105,
   "id": "48bcb7b7",
   "metadata": {},
   "outputs": [
    {
     "name": "stdout",
     "output_type": "stream",
     "text": [
      "오름차순 정렬: [1, 3, 4, 5, 12]\n",
      "내림차순 정렬: [12, 5, 4, 3, 1]\n",
      "합: 25\n",
      "평균: 5.0\n",
      "sorted 함수 사용시 리스트의 내용이 바뀌지 않음: [1, 12, 3, 4, 5]\n"
     ]
    }
   ],
   "source": [
    "# 정렬하기\n",
    "numbers = [1, 12, 3, 4, 5]\n",
    "print(\"오름차순 정렬:\", sorted(numbers))\n",
    "print(\"내림차순 정렬:\", sorted(numbers, reverse=True))\n",
    "print(\"합:\", sum(numbers))\n",
    "print(\"평균:\", sum(numbers)/len(numbers))\n",
    "print(\"sorted 함수 사용시 리스트의 내용이 바뀌지 않음:\", numbers)"
   ]
  },
  {
   "cell_type": "markdown",
   "id": "4f5e405d",
   "metadata": {},
   "source": [
    "## 1.3 요소 추가\n",
    "```\n",
    "- + : 두 리스트 연결: abc, def\n",
    "- * : 리스를 곱한 수만큼 반복\n",
    "```\n",
    "\n",
    "- append(): 요소 맨 뒤에 추가, 제일 많이 사용\n",
    "- extend(리스트): 리스트를 요소별로 맨 뒤에 추가\n",
    "- insert(idx, 값): idx번째 인덱스 위치에 값 추가"
   ]
  },
  {
   "cell_type": "code",
   "execution_count": 83,
   "id": "269265d5",
   "metadata": {},
   "outputs": [
    {
     "data": {
      "text/plain": [
       "[1, 12, 3, 1, 12, 3]"
      ]
     },
     "execution_count": 83,
     "metadata": {},
     "output_type": "execute_result"
    }
   ],
   "source": [
    "numbers = [1, 12, 3]\n",
    "numbers = numbers + numbers  # 리스트 연결\n",
    "numbers"
   ]
  },
  {
   "cell_type": "code",
   "execution_count": null,
   "id": "44c347c0",
   "metadata": {},
   "outputs": [],
   "source": [
    "웹데이터 분석, 빅 리스트 추가, 베스트셀러 추가"
   ]
  },
  {
   "cell_type": "code",
   "execution_count": null,
   "id": "8e94a315",
   "metadata": {},
   "outputs": [],
   "source": [
    "yes24 베스트 셀러 추가 계속, 연습문제, 24, 48, 96번"
   ]
  },
  {
   "cell_type": "code",
   "execution_count": null,
   "id": "78f354fc",
   "metadata": {},
   "outputs": [],
   "source": [
    "영화개봉날짜, 흥행할까?"
   ]
  },
  {
   "cell_type": "code",
   "execution_count": 87,
   "id": "a447b3c7",
   "metadata": {},
   "outputs": [
    {
     "name": "stdout",
     "output_type": "stream",
     "text": [
      "[1, 2, 3, 1, 2, 3, 1, 2, 3]\n"
     ]
    }
   ],
   "source": [
    "numbers = [1, 2, 3]\n",
    "print(numbers*3) # 곱한 수만큼 반복"
   ]
  },
  {
   "cell_type": "code",
   "execution_count": 86,
   "id": "c74f4d43",
   "metadata": {},
   "outputs": [
    {
     "name": "stdout",
     "output_type": "stream",
     "text": [
      "[1, 2, 3, 1, 2, 3, 1, 2, 3]\n",
      "[1, 2, 3, 1, 2, 3, 1, 2, 3]\n"
     ]
    }
   ],
   "source": [
    "numbers = [1, 2, 3]\n",
    "print(numbers*3) # 곱한 수만큼 반복\n",
    "print(3*numbers)"
   ]
  },
  {
   "cell_type": "code",
   "execution_count": 88,
   "id": "a25a10a6",
   "metadata": {},
   "outputs": [
    {
     "data": {
      "text/plain": [
       "[1, 2, 3, 4]"
      ]
     },
     "execution_count": 88,
     "metadata": {},
     "output_type": "execute_result"
    }
   ],
   "source": [
    "numbers.append(4) # 맨 뒤에 4 추가\n",
    "numbers"
   ]
  },
  {
   "cell_type": "code",
   "execution_count": 91,
   "id": "4cf2c59b",
   "metadata": {},
   "outputs": [
    {
     "data": {
      "text/plain": [
       "[1, 2, 3, 4, [5, 6, 7]]"
      ]
     },
     "execution_count": 91,
     "metadata": {},
     "output_type": "execute_result"
    }
   ],
   "source": [
    "numbers.append([5,6,7]) # 맨  요소에 5, 6, 7 추가\n",
    "numbers"
   ]
  },
  {
   "cell_type": "code",
   "execution_count": 92,
   "id": "d3b60e6a",
   "metadata": {},
   "outputs": [
    {
     "data": {
      "text/plain": [
       "[1, 2, 3, 5, 6, 7]"
      ]
     },
     "execution_count": 92,
     "metadata": {},
     "output_type": "execute_result"
    }
   ],
   "source": [
    "numbers = [1, 2, 3]\n",
    "numbers.extend([5,6,7]) # 맨  뒤에 요소별로 5, 6, 7  각각 추가\n",
    "numbers"
   ]
  },
  {
   "cell_type": "code",
   "execution_count": 93,
   "id": "45236161",
   "metadata": {},
   "outputs": [
    {
     "data": {
      "text/plain": [
       "['a', 'b', 'c', 'd']"
      ]
     },
     "execution_count": 93,
     "metadata": {},
     "output_type": "execute_result"
    }
   ],
   "source": [
    "lst = ['a', 'b', 'c']\n",
    "lst.append('d')\n",
    "lst"
   ]
  },
  {
   "cell_type": "code",
   "execution_count": 94,
   "id": "6083544c",
   "metadata": {},
   "outputs": [
    {
     "data": {
      "text/plain": [
       "['a', 'b', 'c', 'd', 'hello']"
      ]
     },
     "execution_count": 94,
     "metadata": {},
     "output_type": "execute_result"
    }
   ],
   "source": [
    "lst.append('hello')\n",
    "lst"
   ]
  },
  {
   "cell_type": "code",
   "execution_count": 95,
   "id": "226224a5",
   "metadata": {},
   "outputs": [
    {
     "data": {
      "text/plain": [
       "['a', 'b', 'c', 'd', 'hello', 'h', 'e', 'l', 'l', 'o']"
      ]
     },
     "execution_count": 95,
     "metadata": {},
     "output_type": "execute_result"
    }
   ],
   "source": [
    "lst.extend('hello')\n",
    "lst"
   ]
  },
  {
   "cell_type": "code",
   "execution_count": null,
   "id": "43f18150",
   "metadata": {},
   "outputs": [],
   "source": [
    "numbers = [1, 2, 3, 4, 5]\n",
    "numbers.insert('xx')"
   ]
  },
  {
   "cell_type": "code",
   "execution_count": 98,
   "id": "f8e74269",
   "metadata": {},
   "outputs": [
    {
     "data": {
      "text/plain": [
       "[1, 'xx', 2, 3, 4, 5]"
      ]
     },
     "execution_count": 98,
     "metadata": {},
     "output_type": "execute_result"
    }
   ],
   "source": [
    "numbers = [1, 2, 3, 4, 5]\n",
    "numbers.insert(1,'xx') # 번째 인덱스에 'xx' 추가) \n",
    "numbers    "
   ]
  },
  {
   "cell_type": "markdown",
   "id": "918c8e8c",
   "metadata": {},
   "source": [
    "## 1.4 인덱싱과 요소 추가\n",
    "- 변수[index] : 인덱스 이용 접근\n",
    "- index(찾을 데이터): 해당 찾을 데이터가 있는 요소의 index를 반환\n",
    "- 찾을데이터 in list 변수: 찾을 데이터가 리스트변수의 요소인지 여부\n",
    "- count(찾을데이터): 리스트에서 해당 찾을 데이터의 갯수 반환\n",
    "- "
   ]
  },
  {
   "cell_type": "code",
   "execution_count": null,
   "id": "53ab56ed",
   "metadata": {},
   "outputs": [],
   "source": [
    "리스트는 find가 없음. 에러가 나면 어떻게, "
   ]
  },
  {
   "cell_type": "code",
   "execution_count": 121,
   "id": "35f98a1b",
   "metadata": {},
   "outputs": [
    {
     "data": {
      "text/plain": [
       "[1, 2, 3, [1, 2, 3], 1, 2, 3]"
      ]
     },
     "execution_count": 121,
     "metadata": {},
     "output_type": "execute_result"
    }
   ],
   "source": [
    "numbers = [1, 2, 3, [1,2, 3,], 1, 2, 3]\n",
    "numbers"
   ]
  },
  {
   "cell_type": "code",
   "execution_count": 100,
   "id": "fe66207a",
   "metadata": {},
   "outputs": [
    {
     "data": {
      "text/plain": [
       "2"
      ]
     },
     "execution_count": 100,
     "metadata": {},
     "output_type": "execute_result"
    }
   ],
   "source": [
    "numbers = [1, 2, 3, [1,2, 3,], 1, 2, 3]\n",
    "numbers.count(2)"
   ]
  },
  {
   "cell_type": "code",
   "execution_count": 122,
   "id": "f8594925",
   "metadata": {},
   "outputs": [
    {
     "data": {
      "text/plain": [
       "(2, 1)"
      ]
     },
     "execution_count": 122,
     "metadata": {},
     "output_type": "execute_result"
    }
   ],
   "source": [
    "numbers = [1, 2, 3, [1,2, 3,], 1, 2, 3]\n",
    "numbers.count(2), numbers.count([1, 2, 3])"
   ]
  },
  {
   "cell_type": "code",
   "execution_count": 123,
   "id": "b781b66c",
   "metadata": {},
   "outputs": [
    {
     "data": {
      "text/plain": [
       "0"
      ]
     },
     "execution_count": 123,
     "metadata": {},
     "output_type": "execute_result"
    }
   ],
   "source": [
    "numbers.count(5)"
   ]
  },
  {
   "cell_type": "code",
   "execution_count": 124,
   "id": "3b1152b4",
   "metadata": {},
   "outputs": [
    {
     "name": "stdout",
     "output_type": "stream",
     "text": [
      "True\n",
      "False\n"
     ]
    }
   ],
   "source": [
    "print(2 in numbers) # 2가 numbers 요소가 있는지\n",
    "print(5 in numbers)"
   ]
  },
  {
   "cell_type": "code",
   "execution_count": null,
   "id": "f1f979ad",
   "metadata": {},
   "outputs": [],
   "source": [
    "#네가 어디 있어?"
   ]
  },
  {
   "cell_type": "code",
   "execution_count": 125,
   "id": "5ce31f3d",
   "metadata": {},
   "outputs": [
    {
     "ename": "ValueError",
     "evalue": "5 is not in list",
     "output_type": "error",
     "traceback": [
      "\u001b[1;31m---------------------------------------------------------------------------\u001b[0m",
      "\u001b[1;31mValueError\u001b[0m                                Traceback (most recent call last)",
      "Cell \u001b[1;32mIn[125], line 1\u001b[0m\n\u001b[1;32m----> 1\u001b[0m \u001b[43mnumbers\u001b[49m\u001b[38;5;241;43m.\u001b[39;49m\u001b[43mindex\u001b[49m\u001b[43m(\u001b[49m\u001b[38;5;241;43m5\u001b[39;49m\u001b[43m)\u001b[49m\n",
      "\u001b[1;31mValueError\u001b[0m: 5 is not in list"
     ]
    }
   ],
   "source": [
    "numbers.index(5)"
   ]
  },
  {
   "cell_type": "code",
   "execution_count": 126,
   "id": "6148d524",
   "metadata": {},
   "outputs": [
    {
     "data": {
      "text/plain": [
       "1"
      ]
     },
     "execution_count": 126,
     "metadata": {},
     "output_type": "execute_result"
    }
   ],
   "source": [
    "numbers.index(2)"
   ]
  },
  {
   "cell_type": "code",
   "execution_count": 127,
   "id": "016e128f",
   "metadata": {},
   "outputs": [
    {
     "name": "stdout",
     "output_type": "stream",
     "text": [
      "5가 요소에 포함되지 않습니다\n"
     ]
    }
   ],
   "source": [
    "if 5 in numbers: \n",
    "    print(numbers.index(5))\n",
    "else:\n",
    "    print('5가 요소에 포함되지 않습니다')"
   ]
  },
  {
   "cell_type": "code",
   "execution_count": 128,
   "id": "229450c8",
   "metadata": {},
   "outputs": [
    {
     "name": "stdout",
     "output_type": "stream",
     "text": [
      "5가 요소에 포함되지 않습니다\n"
     ]
    }
   ],
   "source": [
    "if numbers.count(5): \n",
    "    print(numbers.index(5))\n",
    "else:\n",
    "    print('5가 요소에 포함되지 않습니다')"
   ]
  },
  {
   "cell_type": "code",
   "execution_count": null,
   "id": "29148338",
   "metadata": {},
   "outputs": [],
   "source": [
    "# 위 내용 확인 필요, 이소영 교수님께서 확인 후 조치해 주셨ㅇ,ㅡㅁ. \n",
    "# 함수, 700만개"
   ]
  },
  {
   "cell_type": "code",
   "execution_count": 129,
   "id": "2b83e985",
   "metadata": {},
   "outputs": [],
   "source": [
    "def safe_index(lst, item): \n",
    "    \"\"\"첫번째 매개변수 lst에서 item 요소가 있는 index를 반환.\n",
    "    item 요소가 없으면 -1 반환\"\"\"\n",
    "    if item in lst: \n",
    "        return lst.index(item)\n",
    "    return -1"
   ]
  },
  {
   "cell_type": "code",
   "execution_count": 131,
   "id": "ce1166bc",
   "metadata": {},
   "outputs": [
    {
     "data": {
      "text/plain": [
       "1"
      ]
     },
     "execution_count": 131,
     "metadata": {},
     "output_type": "execute_result"
    }
   ],
   "source": [
    "safe_index(numbers, 2)"
   ]
  },
  {
   "cell_type": "code",
   "execution_count": null,
   "id": "01b5cf04",
   "metadata": {},
   "outputs": [],
   "source": [
    "def safe_index(lst, item): \n",
    "    \"\"\"첫번째 매개변수 lst에서 item 요소가 있는 index를 반환.\n",
    "    item 요소가 없으면 -1 반환\"\"\"\n",
    "    if item in lst: \n",
    "        return lst.index(item)\n",
    "    return -1"
   ]
  },
  {
   "cell_type": "code",
   "execution_count": 132,
   "id": "5029756d",
   "metadata": {},
   "outputs": [
    {
     "data": {
      "text/plain": [
       "-1"
      ]
     },
     "execution_count": 132,
     "metadata": {},
     "output_type": "execute_result"
    }
   ],
   "source": [
    "safe_index(numbers, 5)"
   ]
  },
  {
   "cell_type": "code",
   "execution_count": 133,
   "id": "a852de87",
   "metadata": {},
   "outputs": [
    {
     "data": {
      "text/plain": [
       "<function lst.safe_index(lst, item)>"
      ]
     },
     "execution_count": 133,
     "metadata": {},
     "output_type": "execute_result"
    }
   ],
   "source": [
    "import lst\n",
    "numbers = [1, 2, 3]\n",
    "lst.safe_index"
   ]
  },
  {
   "cell_type": "code",
   "execution_count": 134,
   "id": "06e12a13",
   "metadata": {},
   "outputs": [
    {
     "ename": "TypeError",
     "evalue": "safe_index() missing 2 required positional arguments: 'lst' and 'item'",
     "output_type": "error",
     "traceback": [
      "\u001b[1;31m---------------------------------------------------------------------------\u001b[0m",
      "\u001b[1;31mTypeError\u001b[0m                                 Traceback (most recent call last)",
      "Cell \u001b[1;32mIn[134], line 3\u001b[0m\n\u001b[0;32m      1\u001b[0m \u001b[38;5;28;01mfrom\u001b[39;00m \u001b[38;5;21;01mlst\u001b[39;00m \u001b[38;5;28;01mimport\u001b[39;00m safe_index \u001b[38;5;66;03m# lst.py 모듈안의 safe_index를 메모리에 load\u001b[39;00m\n\u001b[0;32m      2\u001b[0m numbers \u001b[38;5;241m=\u001b[39m [\u001b[38;5;241m1\u001b[39m, \u001b[38;5;241m2\u001b[39m, \u001b[38;5;241m3\u001b[39m]\n\u001b[1;32m----> 3\u001b[0m \u001b[43mlst\u001b[49m\u001b[38;5;241;43m.\u001b[39;49m\u001b[43msafe_index\u001b[49m\u001b[43m(\u001b[49m\u001b[43m)\u001b[49m\n",
      "\u001b[1;31mTypeError\u001b[0m: safe_index() missing 2 required positional arguments: 'lst' and 'item'"
     ]
    }
   ],
   "source": [
    "from lst import safe_index # lst.py 모듈안의 safe_index를 메모리에 load\n",
    "numbers = [1, 2, 3]\n",
    "lst.safe_index()"
   ]
  },
  {
   "cell_type": "code",
   "execution_count": 135,
   "id": "bdf9237c",
   "metadata": {},
   "outputs": [
    {
     "data": {
      "text/plain": [
       "(1, -1)"
      ]
     },
     "execution_count": 135,
     "metadata": {},
     "output_type": "execute_result"
    }
   ],
   "source": [
    "from lst import safe_index # lst.py 모듈안의 safe_index를 메모리에 load\n",
    "numbers = [1, 2, 3]\n",
    "lst.safe_index(numbers,2),safe_index(numbers, 5)"
   ]
  },
  {
   "cell_type": "code",
   "execution_count": 136,
   "id": "91753ba4",
   "metadata": {},
   "outputs": [
    {
     "ename": "IndexError",
     "evalue": "list index out of range",
     "output_type": "error",
     "traceback": [
      "\u001b[1;31m---------------------------------------------------------------------------\u001b[0m",
      "\u001b[1;31mIndexError\u001b[0m                                Traceback (most recent call last)",
      "Cell \u001b[1;32mIn[136], line 1\u001b[0m\n\u001b[1;32m----> 1\u001b[0m \u001b[43mnumbers\u001b[49m\u001b[43m[\u001b[49m\u001b[38;5;241;43m5\u001b[39;49m\u001b[43m]\u001b[49m\n",
      "\u001b[1;31mIndexError\u001b[0m: list index out of range"
     ]
    }
   ],
   "source": [
    "numbers[5] # 벗어난 인덱싱 시 에러"
   ]
  },
  {
   "cell_type": "code",
   "execution_count": 137,
   "id": "661ff67e",
   "metadata": {},
   "outputs": [
    {
     "data": {
      "text/plain": [
       "[3]"
      ]
     },
     "execution_count": 137,
     "metadata": {},
     "output_type": "execute_result"
    }
   ],
   "source": [
    "numbers[2:5] # 벗어난 인덱스로 슬라이싱 시 에러가 안 남"
   ]
  },
  {
   "cell_type": "markdown",
   "id": "7a723144",
   "metadata": {},
   "source": [
    "## 1.5 원하는 요소 추출\n",
    "1. 리스트 슬라이싱: 원하는 정보\n",
    "  - [from:to:step] from부터 to앞까지 stem씩 증가하는 index값 추출\n",
    "  - 인덱스 범위를 벗어난 값도 에러나지 않음.\n",
    "  - 인덱스는 음수도 가능\n",
    "\n",
    "2. **리스트컴프리헨션**: 원하는 조건의 데이터 추출, # 편안한 삶"
   ]
  },
  {
   "cell_type": "code",
   "execution_count": null,
   "id": "1aedacdc",
   "metadata": {},
   "outputs": [],
   "source": [
    "## 1.5 원하는 요소 추출\n",
    "1. 리스트 슬라이싱: 원하는 정보\n",
    "  - [from:to:step] from부터 to앞까지 stem씩 증가하는 index값 추출\n",
    "  - 인덱스 범위를 벗어난 값도 에러나지 않음.\n",
    "  - 인덱스는 음수도 가능\n",
    "\n",
    "2. <font color=\"red\">**스트컴프리헨션**: 원하는 조건의 데이터 추출, # 편안한 삶"
   ]
  },
  {
   "cell_type": "code",
   "execution_count": null,
   "id": "24909fe9",
   "metadata": {},
   "outputs": [],
   "source": [
    "## 1.5 원하는 요소 추출\n",
    "1. 리스트 슬라이싱: 원하는 정보\n",
    "  - [from:to:step] from부터 to앞까지 stem씩 증가하는 index값 추출\n",
    "     * from 생략시 처음, to 생략시 끝. stem 생략시 1\n",
    "  - 인덱스 범위를 벗어난 값도 에러나지 않음.\n",
    "  - 인덱스는 음수도 가능\n",
    "\n",
    "2. **리스트컴프리헨션**: 원하는 조건의 데이터 추출, # 편안한 삶"
   ]
  },
  {
   "cell_type": "code",
   "execution_count": 139,
   "id": "6a1a3acf",
   "metadata": {},
   "outputs": [
    {
     "name": "stdout",
     "output_type": "stream",
     "text": [
      "[20, 19, 18, 13, 12, 10, 9, 5, 3, 1]\n",
      "[1, 5, 10, 13, 19]\n",
      "[5]\n"
     ]
    }
   ],
   "source": [
    "numbers=[1, 3, 5, 9, 10, 12, 13, 18, 19, 20]\n",
    "print(numbers[::-1]) # 꺼꾸로 출력\n",
    "print(numbers[0::2]) # 짟 index 값 출력\n",
    "print(numbers[2::100]) # 인덱스를 벗어난 슬라이싱 가능"
   ]
  },
  {
   "cell_type": "code",
   "execution_count": 140,
   "id": "24170afb",
   "metadata": {},
   "outputs": [
    {
     "name": "stdout",
     "output_type": "stream",
     "text": [
      "1\t3\t5\t9\t10\t12\t13\t18\t19\t20\t"
     ]
    }
   ],
   "source": [
    "# 모든 데이터 출력\n",
    "numbers=[1, 3, 5, 9, 10, 12, 13, 18, 19, 20]\n",
    "for data in numbers: \n",
    "    print(data, end=\"\\t\")"
   ]
  },
  {
   "cell_type": "code",
   "execution_count": null,
   "id": "161d958f",
   "metadata": {},
   "outputs": [],
   "source": [
    "# 짝수 데이터 출력"
   ]
  },
  {
   "cell_type": "code",
   "execution_count": 141,
   "id": "e4089050",
   "metadata": {},
   "outputs": [
    {
     "data": {
      "text/plain": [
       "[1, 3, 5, 9, 10, 12, 13, 18, 19, 20]"
      ]
     },
     "execution_count": 141,
     "metadata": {},
     "output_type": "execute_result"
    }
   ],
   "source": [
    "# 모든 데이터 출력\n",
    "numbers=[1, 3, 5, 9, 10, 12, 13, 18, 19, 20]\n",
    "# for data in numbers: \n",
    "# print(data, end=\"\\t\")\n",
    "[data for data in numbers]"
   ]
  },
  {
   "cell_type": "code",
   "execution_count": 144,
   "id": "9fc40426",
   "metadata": {},
   "outputs": [
    {
     "name": "stdout",
     "output_type": "stream",
     "text": [
      "10121820"
     ]
    }
   ],
   "source": [
    "# 짝수 데이터 출력\n",
    "for data in numbers: \n",
    "    if data%2==0:\n",
    "        print(data, end=\"\")"
   ]
  },
  {
   "cell_type": "code",
   "execution_count": 145,
   "id": "19e294a5",
   "metadata": {},
   "outputs": [
    {
     "data": {
      "text/plain": [
       "[10, 12, 18, 20]"
      ]
     },
     "execution_count": 145,
     "metadata": {},
     "output_type": "execute_result"
    }
   ],
   "source": [
    "# 짝수 데이터 출력\n",
    "# for data in numbers: \n",
    "#    if data%2==0:\n",
    "#        print(data, end=\"\")\n",
    "[data for data in numbers if data%2==0]"
   ]
  },
  {
   "cell_type": "code",
   "execution_count": 146,
   "id": "463e1beb",
   "metadata": {},
   "outputs": [
    {
     "name": "stdout",
     "output_type": "stream",
     "text": [
      "[10, 12, 13, 18, 19, 20]\n"
     ]
    }
   ],
   "source": [
    "#  ex1. numbers에서 10이상인 요소만 추출\n",
    "result = [n for n in numbers if n>=10]\n",
    "print(result)"
   ]
  },
  {
   "cell_type": "code",
   "execution_count": 149,
   "id": "e422633f",
   "metadata": {},
   "outputs": [
    {
     "name": "stdout",
     "output_type": "stream",
     "text": [
      "['orange', 'apple', 'mango']\n"
     ]
    }
   ],
   "source": [
    "#  ex2. fruits에서 과일의 글자가 5글자 이상인 과알만 추출\n",
    "fruits = ['orange', 'apple', 'mango', 'kiwi']\n",
    "result = [f for f in fruits if len(f) >=5]\n",
    "print(result)"
   ]
  },
  {
   "cell_type": "code",
   "execution_count": 154,
   "id": "35539d88",
   "metadata": {},
   "outputs": [
    {
     "ename": "SyntaxError",
     "evalue": "expected 'else' after 'if' expression (1196564393.py, line 3)",
     "output_type": "error",
     "traceback": [
      "\u001b[1;36m  Cell \u001b[1;32mIn[154], line 3\u001b[1;36m\u001b[0m\n\u001b[1;33m    [1**2 for 1 in L if 1>=3]\u001b[0m\n\u001b[1;37m              ^\u001b[0m\n\u001b[1;31mSyntaxError\u001b[0m\u001b[1;31m:\u001b[0m expected 'else' after 'if' expression\n"
     ]
    }
   ],
   "source": [
    "#  ex3. 3이상인 요소들의 제곱을 추출\n",
    "L = [1, 2, 3, 4, 5]\n",
    "[1**2 for 1 in L if 1>=3]"
   ]
  },
  {
   "cell_type": "code",
   "execution_count": null,
   "id": "f31ba243",
   "metadata": {},
   "outputs": [],
   "source": [
    "# ex4. 리스트 요소의 값의 2배를 추출\n"
   ]
  },
  {
   "cell_type": "code",
   "execution_count": 150,
   "id": "7534eb74",
   "metadata": {},
   "outputs": [
    {
     "ename": "SyntaxError",
     "evalue": "unmatched ']' (2421952086.py, line 2)",
     "output_type": "error",
     "traceback": [
      "\u001b[1;36m  Cell \u001b[1;32mIn[150], line 2\u001b[1;36m\u001b[0m\n\u001b[1;33m    item for item in numbers if n>=10]\u001b[0m\n\u001b[1;37m                                     ^\u001b[0m\n\u001b[1;31mSyntaxError\u001b[0m\u001b[1;31m:\u001b[0m unmatched ']'\n"
     ]
    }
   ],
   "source": [
    "#  ex1. numbers에서 10이상인 요소만 추출\n",
    "item for item in numbers if n>=10]\n",
    "print(item)"
   ]
  },
  {
   "cell_type": "markdown",
   "id": "701c2b2f",
   "metadata": {},
   "source": [
    "## 1.6. 요소 수정하기\n",
    "- 인덱스 슬라이싱을 이용해서 수정"
   ]
  },
  {
   "cell_type": "code",
   "execution_count": 168,
   "id": "3a19d693",
   "metadata": {},
   "outputs": [
    {
     "data": {
      "text/plain": [
       "[0, 1, 222, 3, 4, 5, 6, 7, 8, 9]"
      ]
     },
     "execution_count": 168,
     "metadata": {},
     "output_type": "execute_result"
    }
   ],
   "source": [
    "numbers = [0, 1, 2, 3, 4, 5, 6,7, 8, 9]\n",
    "numbers[2] = 222 \n",
    "numbers"
   ]
  },
  {
   "cell_type": "code",
   "execution_count": 169,
   "id": "2b9087f6",
   "metadata": {},
   "outputs": [
    {
     "name": "stdout",
     "output_type": "stream",
     "text": [
      "['xx', 'xx', 'xx', 'xx', 'xx', 'xx', 'xx', 'xx', 'xx', 'xx', 222, 3, 4, 5, 6, 7, 8, 9]\n"
     ]
    }
   ],
   "source": [
    "# 슬라이싱(stem 부분 미포함) 이용하여 부분 리스트를 통째로 수정\n",
    "numbers[0:2] = ['xx', 'xx', 'xx', 'xx', 'xx', 'xx', 'xx', 'xx', 'xx', 'xx']\n",
    "print(numbers)"
   ]
  },
  {
   "cell_type": "code",
   "execution_count": 158,
   "id": "a3e58099",
   "metadata": {},
   "outputs": [
    {
     "name": "stdout",
     "output_type": "stream",
     "text": [
      "수정전 : [0, 0, 0, 0, 0, 0, 0, 0, 0, 0]\n",
      "수정후 : [9, 9, 9, 9, 9, 0, 0, 0, 0, 0, 0, 0, 0]\n"
     ]
    }
   ],
   "source": [
    "# 슬라이싱(stem 부분 포함) \n",
    "numbers = [0]*10\n",
    "print('수정전 :', numbers)\n",
    "numbers[0:2] = [9, 9, 9, 9, 9]\n",
    "print('수정후 :', numbers)"
   ]
  },
  {
   "cell_type": "code",
   "execution_count": 159,
   "id": "4714fa20",
   "metadata": {},
   "outputs": [
    {
     "name": "stdout",
     "output_type": "stream",
     "text": [
      "수정전 : [0, 0, 0, 0, 0, 0, 0, 0, 0, 0]\n"
     ]
    }
   ],
   "source": [
    "# 슬라이싱(stem 부분 포함) \n",
    "numbers = [0]*10\n",
    "print('수정전 :', numbers)"
   ]
  },
  {
   "cell_type": "markdown",
   "id": "158decd7",
   "metadata": {},
   "source": [
    "## 1.7 요소 삭제\n",
    "- pop(): 가장 마지막에 인덱스의 요소가 반환되고 삭제\n",
    "- pop(idx): idx번째 요소가  반환디고 삭제\n",
    "- remove(data) : list 안의 data가 삭제\n",
    "- de"
   ]
  },
  {
   "cell_type": "code",
   "execution_count": 174,
   "id": "5414fa74",
   "metadata": {},
   "outputs": [
    {
     "name": "stdout",
     "output_type": "stream",
     "text": [
      "삭제한 데이터:  5\n",
      "삭제 후  numbers  [1, 2, 3, 4]\n",
      "1번째 삭제한 데이터:  2\n",
      "1번째 삭제후 numbers :  [1, 3, 4]\n",
      "데이더 1 삭제\n",
      "데이더 1 삭제 후 number : [3, 4]\n",
      "del numbers[1]\n",
      "[3]\n"
     ]
    }
   ],
   "source": [
    "numbers = [1, 2, 3, 4, 5]\n",
    "print(\"삭제한 데이터: \", numbers.pop())\n",
    "print(\"삭제 후  numbers \", numbers)\n",
    "print(\"1번째 삭제한 데이터: \", numbers.pop(1))\n",
    "print(\"1번째 삭제후 numbers : \", numbers)\n",
    "print(\"데이더 1 삭제\")\n",
    "numbers.remove(1)\n",
    "print(\"데이더 1 삭제 후 number :\", numbers)\n",
    "print(\"del numbers[1]\")\n",
    "del numbers[1]\n",
    "print(numbers)"
   ]
  },
  {
   "cell_type": "code",
   "execution_count": 175,
   "id": "b76116c7",
   "metadata": {},
   "outputs": [
    {
     "name": "stdout",
     "output_type": "stream",
     "text": [
      "해당 데이터는 없는 item입니다\n"
     ]
    }
   ],
   "source": [
    "# numbers.remove(9)\n",
    "if 9 in numbers:\n",
    "    numbers.remove(9)\n",
    "else:\n",
    "    print(\"해당 데이터는 없는 item입니다\")"
   ]
  },
  {
   "cell_type": "code",
   "execution_count": 176,
   "id": "d380ceea",
   "metadata": {},
   "outputs": [
    {
     "data": {
      "text/plain": [
       "[]"
      ]
     },
     "execution_count": 176,
     "metadata": {},
     "output_type": "execute_result"
    }
   ],
   "source": [
    "numbers.clear() #  모드 요소 삭제\n",
    "numbers"
   ]
  },
  {
   "cell_type": "markdown",
   "id": "a6fdc229",
   "metadata": {},
   "source": [
    "## 정렬하기"
   ]
  },
  {
   "cell_type": "code",
   "execution_count": 178,
   "id": "ece644b3",
   "metadata": {},
   "outputs": [
    {
     "name": "stdout",
     "output_type": "stream",
     "text": [
      "numbers는 변경하지 않고 정렬결과: [0, 5, 6, 8, 9]\n",
      "numbers ; [9, 5, 0, 8, 6]\n"
     ]
    }
   ],
   "source": [
    "numbers = [9, 5, 0, 8, 6]\n",
    "print(\"numbers는 변경하지 않고 정렬결과:\", sorted(numbers))\n",
    "print(\"numbers ;\", numbers)"
   ]
  },
  {
   "cell_type": "code",
   "execution_count": 179,
   "id": "878a4421",
   "metadata": {},
   "outputs": [
    {
     "data": {
      "text/plain": [
       "[0, 5, 6, 8, 9]"
      ]
     },
     "execution_count": 179,
     "metadata": {},
     "output_type": "execute_result"
    }
   ],
   "source": [
    "numbers.sort() # 오름차춘 결과로 numbers 자체가 오름차순 졍렬결과로 바꿈\n",
    "numbers"
   ]
  },
  {
   "cell_type": "code",
   "execution_count": 181,
   "id": "feffcefc",
   "metadata": {},
   "outputs": [
    {
     "data": {
      "text/plain": [
       "[9, 8, 6, 5, 0]"
      ]
     },
     "execution_count": 181,
     "metadata": {},
     "output_type": "execute_result"
    }
   ],
   "source": [
    "numbers.sort(reverse=True) # 내림 차순?\n",
    "numbers"
   ]
  },
  {
   "cell_type": "code",
   "execution_count": 182,
   "id": "bdc72c7e",
   "metadata": {},
   "outputs": [
    {
     "data": {
      "text/plain": [
       "[0, 5, 6, 8, 9]"
      ]
     },
     "execution_count": 182,
     "metadata": {},
     "output_type": "execute_result"
    }
   ],
   "source": [
    "numbers.reverse() # 리스트를 역순으로 변경\n",
    "numbers"
   ]
  },
  {
   "cell_type": "markdown",
   "id": "2dd96f0e",
   "metadata": {},
   "source": [
    "## 1.9 리스트 복제"
   ]
  },
  {
   "cell_type": "code",
   "execution_count": 185,
   "id": "d7ed56ec",
   "metadata": {},
   "outputs": [
    {
     "name": "stdout",
     "output_type": "stream",
     "text": [
      "원본i = 10, 복사본 cp_i=10)/원본 주소=1419979457040, 복사본 주소=1419979457040\n",
      "원본i = 10, 복사본 cp_i=99)/원본 주소=1419979457040, 복사본 주소=1419979459888\n"
     ]
    }
   ],
   "source": [
    "# 3장, 10장, 11장 동일 방식\n",
    "# 스칼라 데이터 복제\n",
    "i = 10\n",
    "cp_i = i\n",
    "print(f\"원본i = {i}, 복사본 cp_i={cp_i})/원본 주소={id(i)}, 복사본 주소={id(cp_i)}\")\n",
    "cp_i=99\n",
    "print(f\"원본i = {i}, 복사본 cp_i={cp_i})/원본 주소={id(i)}, 복사본 주소={id(cp_i)}\")"
   ]
  },
  {
   "cell_type": "code",
   "execution_count": 187,
   "id": "bfc8e652",
   "metadata": {},
   "outputs": [],
   "source": [
    "# 데이터 구조의 복제\n",
    "numbers =[5, 6, 1, 9]\n",
    "new_numbers=numbers"
   ]
  },
  {
   "cell_type": "code",
   "execution_count": 189,
   "id": "07ac3dd0",
   "metadata": {},
   "outputs": [
    {
     "name": "stdout",
     "output_type": "stream",
     "text": [
      "원본 주소: 1420092696512\n",
      "벅제본 주소: 1420092696512\n"
     ]
    }
   ],
   "source": [
    "# 데이터 구조의 복제\n",
    "numbers =[5, 6, 1, 9]\n",
    "new_numbers=numbers\n",
    "print('원본 주소:', id(numbers))\n",
    "print('벅제본 주소:', id(new_numbers))"
   ]
  },
  {
   "cell_type": "code",
   "execution_count": 192,
   "id": "37c4b077",
   "metadata": {},
   "outputs": [
    {
     "name": "stdout",
     "output_type": "stream",
     "text": [
      "원본 주소: 1420092797184\n",
      "복제본 주소: 1420092797184\n"
     ]
    }
   ],
   "source": [
    "# 데이터 구조의 복제\n",
    "numbers =[5, 6, 1, 9]\n",
    "new_numbers=numbers\n",
    "print('원본 주소:', id(numbers))\n",
    "print('복제본 주소:', id(new_numbers))\n",
    "new_numbers[0]=99"
   ]
  },
  {
   "cell_type": "code",
   "execution_count": 194,
   "id": "783e6744",
   "metadata": {},
   "outputs": [
    {
     "name": "stdout",
     "output_type": "stream",
     "text": [
      "원본 주소: 1420092697536\n",
      "복제본 주소: 1420092697536\n",
      "원본 내용: 1420092697536\n",
      "복제본 주소: 1420092697536\n",
      "원본 내용: 1420092697536\n",
      "복제본 주소: 1420092697536\n"
     ]
    }
   ],
   "source": [
    "# 데이터 구조의 복제\n",
    "numbers =[5, 6, 1, 9]\n",
    "new_numbers=numbers\n",
    "print('원본 주소:', id(numbers))\n",
    "print('복제본 주소:', id(new_numbers))\n",
    "new_numbers[0]=99\n",
    "print('원본 내용:', id(numbers))\n",
    "print('복제본 주소:', id(new_numbers))\n",
    "print('원본 내용:', id(numbers))\n",
    "print('복제본 주소:', id(new_numbers))"
   ]
  },
  {
   "cell_type": "code",
   "execution_count": 195,
   "id": "e088d76c",
   "metadata": {},
   "outputs": [
    {
     "name": "stdout",
     "output_type": "stream",
     "text": [
      "원본 내용: [1, 5, 6, 9]\n",
      "복제본 주소: [1, 5, 6, 9]\n",
      "원본 내용: [1, 5, 6, 9]\n",
      "복제본 주소: [1, 5, 6, 9]\n"
     ]
    }
   ],
   "source": [
    "# 할당\n",
    "numbers=[5, 6, 1, 9]\n",
    "new_numbers=numbers\n",
    "new_numbers.sort()\n",
    "print('원본 내용:', numbers)\n",
    "print('복제본 주소:', new_numbers)\n",
    "print('원본 내용:', numbers)\n",
    "print('복제본 주소:', new_numbers)"
   ]
  },
  {
   "cell_type": "code",
   "execution_count": null,
   "id": "9752d6cc",
   "metadata": {},
   "outputs": [],
   "source": [
    "# 리스트 복제(깊은 복사)\n",
    "numbers=[5, 6, 1, 9]\n",
    "new_numbers=numbers,copy() # numbers를 복제(깊은 복사)"
   ]
  },
  {
   "cell_type": "code",
   "execution_count": null,
   "id": "8bd6f7e5",
   "metadata": {},
   "outputs": [],
   "source": [
    "# 리스트 복제(깊은 복사)\n",
    "numbers=[5, 6, 1, 9]\n",
    "new_numbers=numbers,copy() # numbers를 복제(깊은 복사)\n"
   ]
  },
  {
   "cell_type": "code",
   "execution_count": 197,
   "id": "460a5956",
   "metadata": {},
   "outputs": [
    {
     "name": "stdout",
     "output_type": "stream",
     "text": [
      "원본: [5, 6, 1, 9]\n",
      "정렬본: [5, 6, 1, 9]\n"
     ]
    }
   ],
   "source": [
    "numbers=[5, 6, 1, 9]\n",
    "new_numbers=sorted(numbers)\n"
   ]
  },
  {
   "cell_type": "code",
   "execution_count": 199,
   "id": "57a9de91",
   "metadata": {},
   "outputs": [
    {
     "ename": "AttributeError",
     "evalue": "'builtin_function_or_method' object has no attribute 'sort'",
     "output_type": "error",
     "traceback": [
      "\u001b[1;31m---------------------------------------------------------------------------\u001b[0m",
      "\u001b[1;31mAttributeError\u001b[0m                            Traceback (most recent call last)",
      "Cell \u001b[1;32mIn[199], line 3\u001b[0m\n\u001b[0;32m      1\u001b[0m numbers\u001b[38;5;241m=\u001b[39m[\u001b[38;5;241m5\u001b[39m, \u001b[38;5;241m6\u001b[39m, \u001b[38;5;241m1\u001b[39m, \u001b[38;5;241m9\u001b[39m]\n\u001b[0;32m      2\u001b[0m new_numbers\u001b[38;5;241m=\u001b[39mnumbers\u001b[38;5;241m.\u001b[39mcopy\n\u001b[1;32m----> 3\u001b[0m \u001b[43mnew_numbers\u001b[49m\u001b[38;5;241;43m.\u001b[39;49m\u001b[43msort\u001b[49m(reverse\u001b[38;5;241m=\u001b[39m\u001b[38;5;28;01mTrue\u001b[39;00m)\n\u001b[0;32m      4\u001b[0m \u001b[38;5;28mprint\u001b[39m(\u001b[38;5;124m\"\u001b[39m\u001b[38;5;124m원본:\u001b[39m\u001b[38;5;124m\"\u001b[39m, numbers)\n\u001b[0;32m      5\u001b[0m \u001b[38;5;28mprint\u001b[39m(\u001b[38;5;124m\"\u001b[39m\u001b[38;5;124m복제본:\u001b[39m\u001b[38;5;124m\"\u001b[39m, new_numbers)\n",
      "\u001b[1;31mAttributeError\u001b[0m: 'builtin_function_or_method' object has no attribute 'sort'"
     ]
    }
   ],
   "source": [
    "numbers=[5, 6, 1, 9]\n",
    "new_numbers=numbers.copy\n",
    "new_numbers.sort(reverse=True)\n",
    "print(\"원본:\", numbers)\n",
    "print(\"복제본:\", new_numbers)\n",
    "print(\"원본 주소:\", id(numbers))\n",
    "print(\"복제본 주소:\", id(new_numbers))"
   ]
  },
  {
   "cell_type": "code",
   "execution_count": 210,
   "id": "9ce01752",
   "metadata": {},
   "outputs": [
    {
     "name": "stdout",
     "output_type": "stream",
     "text": [
      "정렬전: ['서울', '대전', '대구', '부산', '하남', '수원', '제주']\n",
      "정렬 후: ['대구', '대전', '부산', '서울', '수원', '제주', '하남']\n"
     ]
    }
   ],
   "source": [
    "city=['서울', '대전', '대구', '부산','하남', '수원', '제주']\n",
    "temp = city.copy()\n",
    "temp.sort()\n",
    "print(\"정렬전:\", city)\n",
    "print(\"정렬 후:\", temp)"
   ]
  },
  {
   "cell_type": "markdown",
   "id": "44f57427",
   "metadata": {},
   "source": [
    "## 2절 튜플\n",
    "- 리슽트([])와 유사하지만 읽기전용, 수정이 필요없는 데이터에서 사용\n",
    "- 수정이 불가하므로, 튜플에서 데이터 수정, 추가, 삭제 불가\n",
    "- 제공되는 함수도 많지 않음.\n",
    "-() 이용해서 생성"
   ]
  },
  {
   "cell_type": "code",
   "execution_count": 212,
   "id": "4d7b8fb1",
   "metadata": {},
   "outputs": [
    {
     "name": "stdout",
     "output_type": "stream",
     "text": [
      "<class 'tuple'>\n",
      "('서울', '대전', '대구', '부산', '하남', '수원', '제주')\n"
     ]
    }
   ],
   "source": [
    "city=('서울', '대전', '대구', '부산','하남', '수원', '제주')\n",
    "# 파이썬은 여려 개 값이 전달 시 튜플 타입으로 전달\n",
    "city='서울', '대전', '대구', '부산','하남', '수원', '제주'\n",
    "print(type(city))\n",
    "print(city)"
   ]
  },
  {
   "cell_type": "code",
   "execution_count": null,
   "id": "efe1c821",
   "metadata": {},
   "outputs": [],
   "source": [
    "a, b = 10, 20"
   ]
  },
  {
   "cell_type": "code",
   "execution_count": 213,
   "id": "9204b809",
   "metadata": {},
   "outputs": [],
   "source": [
    "\n",
    "city=['서울', '대전', '대구', '부산','하남', '수원', '제주']"
   ]
  },
  {
   "cell_type": "code",
   "execution_count": null,
   "id": "56a6db08",
   "metadata": {},
   "outputs": [],
   "source": [
    "# 매개변수로 listrk 오sms tuple 매게변수로 함수 사용\n",
    "\",\".join(city)"
   ]
  },
  {
   "cell_type": "code",
   "execution_count": 214,
   "id": "081e3ac0",
   "metadata": {},
   "outputs": [
    {
     "data": {
      "text/plain": [
       "1"
      ]
     },
     "execution_count": 214,
     "metadata": {},
     "output_type": "execute_result"
    }
   ],
   "source": [
    "from lst import safe_index\n",
    "safe_index(city, '대전')"
   ]
  },
  {
   "cell_type": "code",
   "execution_count": 217,
   "id": "027323af",
   "metadata": {},
   "outputs": [
    {
     "ename": "SyntaxError",
     "evalue": "cannot assign to literal here. Maybe you meant '==' instead of '='? (2710133924.py, line 1)",
     "output_type": "error",
     "traceback": [
      "\u001b[1;36m  Cell \u001b[1;32mIn[217], line 1\u001b[1;36m\u001b[0m\n\u001b[1;33m    1=['서울']\u001b[0m\n\u001b[1;37m    ^\u001b[0m\n\u001b[1;31mSyntaxError\u001b[0m\u001b[1;31m:\u001b[0m cannot assign to literal here. Maybe you meant '==' instead of '='?\n"
     ]
    }
   ],
   "source": [
    "1=['서울']\n",
    "print(type(1))"
   ]
  },
  {
   "cell_type": "code",
   "execution_count": 218,
   "id": "6f9005b1",
   "metadata": {},
   "outputs": [
    {
     "name": "stdout",
     "output_type": "stream",
     "text": [
      "<class 'str'>\n",
      "서울\n",
      "2\n"
     ]
    }
   ],
   "source": [
    "city = ('서울') # 요소가 하나있는 튜플\n",
    "print(type(city))\n",
    "print(city)\n",
    "print(len(city))"
   ]
  },
  {
   "cell_type": "code",
   "execution_count": 221,
   "id": "1ccea983",
   "metadata": {},
   "outputs": [
    {
     "name": "stdout",
     "output_type": "stream",
     "text": [
      "<class 'tuple'>\n",
      "('서울', '하남')\n",
      "2\n"
     ]
    }
   ],
   "source": [
    "city = ('서울', '하남') # 요소가  둘 튜플\n",
    "print(type(city))\n",
    "print(city)\n",
    "print(len(city))"
   ]
  },
  {
   "cell_type": "code",
   "execution_count": 220,
   "id": "eb9aef26",
   "metadata": {},
   "outputs": [
    {
     "name": "stdout",
     "output_type": "stream",
     "text": [
      "<class 'str'>\n",
      "서울\n",
      "2\n"
     ]
    }
   ],
   "source": [
    "city = ('서울') # 요소가 하나있는 튜플(0)\n",
    "print(type(city))\n",
    "print(city)\n",
    "print(len(city))"
   ]
  },
  {
   "cell_type": "code",
   "execution_count": 226,
   "id": "5138eb26",
   "metadata": {},
   "outputs": [],
   "source": [
    "numbers=(1, 2, 3)\n",
    "# numbers, append(4) 수정하기 함수 비 제공"
   ]
  },
  {
   "cell_type": "code",
   "execution_count": 227,
   "id": "33a6edf0",
   "metadata": {},
   "outputs": [
    {
     "data": {
      "text/plain": [
       "(1, 3, 6)"
      ]
     },
     "execution_count": 227,
     "metadata": {},
     "output_type": "execute_result"
    }
   ],
   "source": [
    "min(numbers), max(numbers), sum(numbers)"
   ]
  },
  {
   "cell_type": "code",
   "execution_count": 228,
   "id": "ba03a9f8",
   "metadata": {},
   "outputs": [
    {
     "data": {
      "text/plain": [
       "0"
      ]
     },
     "execution_count": 228,
     "metadata": {},
     "output_type": "execute_result"
    }
   ],
   "source": [
    "numbers.count(4)"
   ]
  },
  {
   "cell_type": "code",
   "execution_count": 229,
   "id": "e65ce344",
   "metadata": {},
   "outputs": [
    {
     "data": {
      "text/plain": [
       "2"
      ]
     },
     "execution_count": 229,
     "metadata": {},
     "output_type": "execute_result"
    }
   ],
   "source": [
    "numbers.index(3)"
   ]
  },
  {
   "cell_type": "code",
   "execution_count": 230,
   "id": "f8d2bf5e",
   "metadata": {},
   "outputs": [
    {
     "name": "stdout",
     "output_type": "stream",
     "text": [
      "해당 데이터 없음\n"
     ]
    }
   ],
   "source": [
    "# numbers.index(4)\n",
    "if 4 in numbers: \n",
    "    numbers.index(4)\n",
    "else:\n",
    "    print('해당 데이터 없음')\n"
   ]
  },
  {
   "cell_type": "code",
   "execution_count": null,
   "id": "bd8e7c78",
   "metadata": {},
   "outputs": [],
   "source": [
    "safe.numbers"
   ]
  },
  {
   "cell_type": "code",
   "execution_count": null,
   "id": "8a0b2a96",
   "metadata": {},
   "outputs": [],
   "source": []
  },
  {
   "cell_type": "code",
   "execution_count": null,
   "id": "e5afbabe",
   "metadata": {},
   "outputs": [],
   "source": []
  },
  {
   "cell_type": "code",
   "execution_count": null,
   "id": "d8be1873",
   "metadata": {},
   "outputs": [],
   "source": []
  },
  {
   "cell_type": "code",
   "execution_count": null,
   "id": "3be1b5cc",
   "metadata": {},
   "outputs": [],
   "source": []
  },
  {
   "cell_type": "code",
   "execution_count": null,
   "id": "b66f8e54",
   "metadata": {},
   "outputs": [],
   "source": []
  },
  {
   "cell_type": "code",
   "execution_count": null,
   "id": "18baa0de",
   "metadata": {},
   "outputs": [],
   "source": []
  },
  {
   "cell_type": "code",
   "execution_count": null,
   "id": "cf776101",
   "metadata": {},
   "outputs": [],
   "source": []
  },
  {
   "cell_type": "code",
   "execution_count": null,
   "id": "63ef28d4",
   "metadata": {},
   "outputs": [],
   "source": []
  },
  {
   "cell_type": "code",
   "execution_count": null,
   "id": "bed5fa6e",
   "metadata": {},
   "outputs": [],
   "source": []
  },
  {
   "cell_type": "code",
   "execution_count": null,
   "id": "1575d16d",
   "metadata": {},
   "outputs": [],
   "source": []
  },
  {
   "cell_type": "code",
   "execution_count": null,
   "id": "3d646494",
   "metadata": {},
   "outputs": [],
   "source": []
  },
  {
   "cell_type": "code",
   "execution_count": null,
   "id": "e745ebb2",
   "metadata": {},
   "outputs": [],
   "source": []
  },
  {
   "cell_type": "code",
   "execution_count": null,
   "id": "694de54c",
   "metadata": {},
   "outputs": [],
   "source": []
  },
  {
   "cell_type": "code",
   "execution_count": null,
   "id": "3b4b6fca",
   "metadata": {},
   "outputs": [],
   "source": []
  },
  {
   "cell_type": "code",
   "execution_count": null,
   "id": "c7d0dc80",
   "metadata": {},
   "outputs": [],
   "source": []
  },
  {
   "cell_type": "code",
   "execution_count": null,
   "id": "98d81261",
   "metadata": {},
   "outputs": [],
   "source": []
  },
  {
   "cell_type": "code",
   "execution_count": null,
   "id": "6589f792",
   "metadata": {},
   "outputs": [],
   "source": []
  },
  {
   "cell_type": "code",
   "execution_count": null,
   "id": "9748239d",
   "metadata": {},
   "outputs": [],
   "source": []
  },
  {
   "cell_type": "code",
   "execution_count": null,
   "id": "a278f5b1",
   "metadata": {},
   "outputs": [],
   "source": []
  },
  {
   "cell_type": "code",
   "execution_count": null,
   "id": "42db1d39",
   "metadata": {},
   "outputs": [],
   "source": []
  },
  {
   "cell_type": "code",
   "execution_count": null,
   "id": "ceb5627a",
   "metadata": {},
   "outputs": [],
   "source": []
  },
  {
   "cell_type": "code",
   "execution_count": null,
   "id": "d0809a3b",
   "metadata": {},
   "outputs": [],
   "source": []
  },
  {
   "cell_type": "code",
   "execution_count": null,
   "id": "1065105f",
   "metadata": {},
   "outputs": [],
   "source": []
  },
  {
   "cell_type": "code",
   "execution_count": null,
   "id": "2b9c1ff9",
   "metadata": {},
   "outputs": [],
   "source": []
  },
  {
   "cell_type": "code",
   "execution_count": null,
   "id": "b5a8fc65",
   "metadata": {},
   "outputs": [],
   "source": []
  },
  {
   "cell_type": "code",
   "execution_count": null,
   "id": "af13ac94",
   "metadata": {},
   "outputs": [],
   "source": []
  },
  {
   "cell_type": "code",
   "execution_count": null,
   "id": "cc11207b",
   "metadata": {},
   "outputs": [],
   "source": []
  },
  {
   "cell_type": "code",
   "execution_count": null,
   "id": "77600291",
   "metadata": {},
   "outputs": [],
   "source": []
  },
  {
   "cell_type": "code",
   "execution_count": null,
   "id": "a7af1a71",
   "metadata": {},
   "outputs": [],
   "source": []
  },
  {
   "cell_type": "code",
   "execution_count": null,
   "id": "279041a1",
   "metadata": {},
   "outputs": [],
   "source": []
  },
  {
   "cell_type": "code",
   "execution_count": null,
   "id": "187e2f64",
   "metadata": {},
   "outputs": [],
   "source": []
  },
  {
   "cell_type": "code",
   "execution_count": null,
   "id": "db520101",
   "metadata": {},
   "outputs": [],
   "source": []
  },
  {
   "cell_type": "code",
   "execution_count": null,
   "id": "5221c523",
   "metadata": {},
   "outputs": [],
   "source": []
  },
  {
   "cell_type": "code",
   "execution_count": null,
   "id": "99518af2",
   "metadata": {},
   "outputs": [],
   "source": []
  },
  {
   "cell_type": "code",
   "execution_count": null,
   "id": "d281b71d",
   "metadata": {},
   "outputs": [],
   "source": []
  },
  {
   "cell_type": "code",
   "execution_count": null,
   "id": "6a92e26b",
   "metadata": {},
   "outputs": [],
   "source": []
  },
  {
   "cell_type": "code",
   "execution_count": null,
   "id": "97e34291",
   "metadata": {},
   "outputs": [],
   "source": []
  },
  {
   "cell_type": "code",
   "execution_count": null,
   "id": "baed9f7f",
   "metadata": {},
   "outputs": [],
   "source": []
  },
  {
   "cell_type": "code",
   "execution_count": null,
   "id": "540bd4ff",
   "metadata": {},
   "outputs": [],
   "source": []
  },
  {
   "cell_type": "code",
   "execution_count": null,
   "id": "60b5b739",
   "metadata": {},
   "outputs": [],
   "source": []
  },
  {
   "cell_type": "code",
   "execution_count": null,
   "id": "6f30aa69",
   "metadata": {},
   "outputs": [],
   "source": []
  },
  {
   "cell_type": "code",
   "execution_count": null,
   "id": "e4838fba",
   "metadata": {},
   "outputs": [],
   "source": []
  },
  {
   "cell_type": "code",
   "execution_count": null,
   "id": "420aa813",
   "metadata": {},
   "outputs": [],
   "source": []
  },
  {
   "cell_type": "code",
   "execution_count": null,
   "id": "a29d1583",
   "metadata": {},
   "outputs": [],
   "source": []
  },
  {
   "cell_type": "code",
   "execution_count": null,
   "id": "6c7e7954",
   "metadata": {},
   "outputs": [],
   "source": []
  },
  {
   "cell_type": "code",
   "execution_count": null,
   "id": "b46a1bb4",
   "metadata": {},
   "outputs": [],
   "source": []
  },
  {
   "cell_type": "code",
   "execution_count": null,
   "id": "8313c437",
   "metadata": {},
   "outputs": [],
   "source": []
  },
  {
   "cell_type": "code",
   "execution_count": null,
   "id": "eeea9e4b",
   "metadata": {},
   "outputs": [],
   "source": []
  },
  {
   "cell_type": "code",
   "execution_count": null,
   "id": "be44ccab",
   "metadata": {},
   "outputs": [],
   "source": []
  },
  {
   "cell_type": "code",
   "execution_count": null,
   "id": "a3d6565f",
   "metadata": {},
   "outputs": [],
   "source": []
  },
  {
   "cell_type": "code",
   "execution_count": null,
   "id": "d3835fc8",
   "metadata": {},
   "outputs": [],
   "source": []
  },
  {
   "cell_type": "code",
   "execution_count": null,
   "id": "a213eaa4",
   "metadata": {},
   "outputs": [],
   "source": []
  },
  {
   "cell_type": "code",
   "execution_count": null,
   "id": "6133311c",
   "metadata": {},
   "outputs": [],
   "source": []
  },
  {
   "cell_type": "code",
   "execution_count": null,
   "id": "cd2fa01c",
   "metadata": {},
   "outputs": [],
   "source": []
  }
 ],
 "metadata": {
  "kernelspec": {
   "display_name": "Python 3 (ipykernel)",
   "language": "python",
   "name": "python3"
  },
  "language_info": {
   "codemirror_mode": {
    "name": "ipython",
    "version": 3
   },
   "file_extension": ".py",
   "mimetype": "text/x-python",
   "name": "python",
   "nbconvert_exporter": "python",
   "pygments_lexer": "ipython3",
   "version": "3.10.9"
  },
  "toc": {
   "base_numbering": 1,
   "nav_menu": {},
   "number_sections": false,
   "sideBar": true,
   "skip_h1_title": false,
   "title_cell": "Table of Contents",
   "title_sidebar": "Contents",
   "toc_cell": false,
   "toc_position": {},
   "toc_section_display": true,
   "toc_window_display": false
  }
 },
 "nbformat": 4,
 "nbformat_minor": 5
}
