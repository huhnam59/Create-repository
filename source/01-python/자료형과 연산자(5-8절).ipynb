{
 "cells": [
  {
   "cell_type": "code",
   "execution_count": 1,
   "id": "220c42a1",
   "metadata": {},
   "outputs": [
    {
     "ename": "SyntaxError",
     "evalue": "invalid syntax (1203975281.py, line 16)",
     "output_type": "error",
     "traceback": [
      "\u001b[1;36m  Cell \u001b[1;32mIn[1], line 16\u001b[1;36m\u001b[0m\n\u001b[1;33m    \"\"\"))n\u001b[0m\n\u001b[1;37m         ^\u001b[0m\n\u001b[1;31mSyntaxError\u001b[0m\u001b[1;31m:\u001b[0m invalid syntax\n"
     ]
    }
   ],
   "source": [
    "from IPython.display import display, HTML\n",
    "display(HTML(\"\"\"\n",
    "<style>\n",
    "div.container{width:90% !important;}\n",
    "div.cell.code_cell.rendered{width:100%;}\n",
    "div.input_prompt{padding:0px;}\n",
    "div.CodeMirror {font-family:Consolas; font-size:22pt;}\n",
    "div.text_cell_render.rendered_html{font-size:22pt;}\n",
    "div.output {font-size:22pt; font-weight:bold;}\n",
    "div.input {font-family:Consolas; font-size:22pt;}\n",
    "div.prompt {min-width:100px;}\n",
    "div#toc-wrapper{padding-top:120px;}\n",
    "div.text_cell_render ul li{font-size:22pt;padding:5px;}\n",
    "table.dataframe{font-size:22px;}\n",
    "</style>\n",
    "\"\"\"))n"
   ]
  },
  {
   "cell_type": "markdown",
   "id": "871a80b8",
   "metadata": {},
   "source": [
    "# 5.1 산술연산자: +, -, *,/(결과 float), //(나머지), **(제곱)\n",
    "print(\"10*5ymd=\", 10**5)\n",
    "print(\"4/2*(결과 실수)=\", 4/2)"
   ]
  },
  {
   "cell_type": "code",
   "execution_count": 3,
   "id": "109961a8",
   "metadata": {},
   "outputs": [
    {
     "name": "stdout",
     "output_type": "stream",
     "text": [
      "10*5승= 100000\n",
      "5/2(결과 실수)= 2.5\n"
     ]
    }
   ],
   "source": [
    "print(\"10*5승=\", 10**5) \n",
    "print(\"5/2(결과 실수)=\", 5/2)"
   ]
  },
  {
   "cell_type": "code",
   "execution_count": 6,
   "id": "07a4f368",
   "metadata": {},
   "outputs": [
    {
     "name": "stdout",
     "output_type": "stream",
     "text": [
      "10*5승= 100000\n",
      "5/2(결과 실수)= 2.5\n",
      "5//2(몫)= 2\n",
      "5%2(나머지)= 1\n"
     ]
    }
   ],
   "source": [
    "print(\"10*5승=\", 10**5) \n",
    "print(\"5/2(결과 실수)=\", 5/2)\n",
    "print(\"5//2(몫)=\", 5//2) \n",
    "print(\"5%2(나머지)=\", 5%2)"
   ]
  },
  {
   "cell_type": "code",
   "execution_count": 5,
   "id": "2b4d878a",
   "metadata": {},
   "outputs": [
    {
     "name": "stdout",
     "output_type": "stream",
     "text": [
      "4**2= 16.0\n"
     ]
    }
   ],
   "source": [
    "# 정수끼리 연산한 결과가 정수(단 /제외)\n",
    "# 정수와 실수, 실수끼리 연산 결과는 실수\n",
    "print(\"4**2=\", 4**2.0)"
   ]
  },
  {
   "cell_type": "code",
   "execution_count": null,
   "id": "cb711455",
   "metadata": {},
   "outputs": [],
   "source": [
    "# quiz1.  정수를 입력받아 짝수인지 홀수 여부를 출력\n",
    "num = int(input(\"정수를 입력하세요:\"))\n",
    "result = num % 2 # -1, 0, 1\n",
    "if result:\n",
    "    temp = \"홀수\"\n",
    "else:\n",
    "    temp = \"짝수\"\n",
    "print(f\"입력하신 수는 {num}, 2로 나눈 나머지는 {result}라서 {temp}를 입력하셨습니다\")"
   ]
  },
  {
   "cell_type": "code",
   "execution_count": 5,
   "id": "316b9381",
   "metadata": {},
   "outputs": [
    {
     "name": "stdout",
     "output_type": "stream",
     "text": [
      "정수를 입력하세요:8\n",
      "정수8은 5의 배수가 아님입니다\n"
     ]
    }
   ],
   "source": [
    "# quiz2. 정수를 입력받아 5의배수인지 여부를 출력\n",
    "num = int(input(\"정수를 입력하세요:\"))\n",
    "if num % 5 == 0:\n",
    "    temp=\"5의배수\"\n",
    "else:\n",
    "    temp=\"5의 배수가 아님\"\n",
    "print(f\"정수{num}은 {temp}입니다\")"
   ]
  },
  {
   "cell_type": "code",
   "execution_count": 4,
   "id": "be6f1a82",
   "metadata": {},
   "outputs": [
    {
     "name": "stdout",
     "output_type": "stream",
     "text": [
      "정수를 입력하세요:7\n",
      "5의 배수입니다.\n"
     ]
    }
   ],
   "source": [
    "# quiz2. 정수를 입력받아 5의배수인지 여부를 출력\n",
    "num = int(input(\"정수를 입력하세요:\"))\n",
    "if num % 5 == 0:\n",
    "    print(\"5dml 배수가 아님\")\n",
    "else:\n",
    "    print(\"5의 배수입니다.\")"
   ]
  },
  {
   "cell_type": "code",
   "execution_count": 1,
   "id": "337ecc79",
   "metadata": {},
   "outputs": [
    {
     "name": "stdout",
     "output_type": "stream",
     "text": [
      "국어?99\n",
      "영어?100\n",
      "수학?100\n",
      "국어, 영어, 수학의 총점은299이고, 평균은99.7입니다\n"
     ]
    }
   ],
   "source": [
    "# quiz3. 국, 영, 수 점수를 입력받아 다음 셀에서 다음과 같이 출력하도록 구현하시오\n",
    "# 국어: 99, 영어: 100, 수학:100\n",
    "# 합계 : 299   평균: 99.7\n",
    "kor=int(input(\"국어?\"))\n",
    "eng=int(input(\"영어?\"))\n",
    "mat=int(input(\"수학?\"))\n",
    "sum=kor+eng+mat\n",
    "avg=sum/3\n",
    "print(f\"국어, 영어, 수학의 총점은{sum}이고, 평균은{avg:.1f}입니다\")"
   ]
  },
  {
   "cell_type": "markdown",
   "id": "76ea9ddb",
   "metadata": {},
   "source": [
    "## 5.2 할당 연산자: =, +=, -=, *=, %="
   ]
  },
  {
   "cell_type": "code",
   "execution_count": null,
   "id": "c26a3ec5",
   "metadata": {},
   "outputs": [],
   "source": [
    "a=b=10, 우측부터 시작"
   ]
  },
  {
   "cell_type": "markdown",
   "id": "4c89009f",
   "metadata": {},
   "source": [
    "a = 10\n",
    "a + = 5 # a= +5와 동일\n",
    "print(f\"a={a}\")\n",
    "print(\"10배:\",a) #100\n",
    "a//\n",
    "print()"
   ]
  },
  {
   "cell_type": "markdown",
   "id": "bfd5fe56",
   "metadata": {},
   "source": [
    "## 5. 3. 논리연산자: &, and, i, or, not"
   ]
  },
  {
   "cell_type": "code",
   "execution_count": 12,
   "id": "0e9b7ebc",
   "metadata": {},
   "outputs": [
    {
     "ename": "SyntaxError",
     "evalue": "unmatched ')' (3899188352.py, line 2)",
     "output_type": "error",
     "traceback": [
      "\u001b[1;36m  Cell \u001b[1;32mIn[12], line 2\u001b[1;36m\u001b[0m\n\u001b[1;33m    print( 20>3) &(10>5)) # 논리연산 True & True\u001b[0m\n\u001b[1;37m                        ^\u001b[0m\n\u001b[1;31mSyntaxError\u001b[0m\u001b[1;31m:\u001b[0m unmatched ')'\n"
     ]
    }
   ],
   "source": [
    "# & : 논리연산자. 비트 연산자\n",
    "print( 20>3) &(10>5)) # 논리연산 True & True\n",
    "print(12 & 1) # 비트 연산  1100(12)\n",
    "                     #     0001 (1) \n",
    "                     # &: 0000"
   ]
  },
  {
   "cell_type": "code",
   "execution_count": 11,
   "id": "8b16cd5f",
   "metadata": {},
   "outputs": [
    {
     "name": "stdout",
     "output_type": "stream",
     "text": [
      "True\n",
      "0\n"
     ]
    }
   ],
   "source": [
    "# and: 논리 연산자,False로 판별되는 첫번째 항의 결과 반환\n",
    "print( (10>3) and (10>5))\n",
    "print(0 and 1)"
   ]
  },
  {
   "cell_type": "code",
   "execution_count": 13,
   "id": "0cd3a4a0",
   "metadata": {},
   "outputs": [
    {
     "ename": "SyntaxError",
     "evalue": "unmatched ')' (2507175755.py, line 2)",
     "output_type": "error",
     "traceback": [
      "\u001b[1;36m  Cell \u001b[1;32mIn[13], line 2\u001b[1;36m\u001b[0m\n\u001b[1;33m    print( 20>3) &(10>5)) # 논리연산 True & True\u001b[0m\n\u001b[1;37m                        ^\u001b[0m\n\u001b[1;31mSyntaxError\u001b[0m\u001b[1;31m:\u001b[0m unmatched ')'\n"
     ]
    }
   ],
   "source": [
    "# & : 논리연산자. 비트 연산자\n",
    "print( 20>3) &(10>5)) # 논리연산 True & True\n",
    "print(12 & 1) # 비트 연산  1100(12)"
   ]
  },
  {
   "cell_type": "code",
   "execution_count": 1,
   "id": "d437839e",
   "metadata": {},
   "outputs": [
    {
     "ename": "SyntaxError",
     "evalue": "invalid syntax (3594385691.py, line 2)",
     "output_type": "error",
     "traceback": [
      "\u001b[1;36m  Cell \u001b[1;32mIn[1], line 2\u001b[1;36m\u001b[0m\n\u001b[1;33m    print(\"홍길동\"/)\u001b[0m\n\u001b[1;37m                ^\u001b[0m\n\u001b[1;31mSyntaxError\u001b[0m\u001b[1;31m:\u001b[0m invalid syntax\n"
     ]
    }
   ],
   "source": [
    "# /: 논리연산, 비트연산\n",
    "result=True |False\n",
    "print('논리연산(연산자 앞뒤에 논리형일 때) :', result)\n",
    "result=False\n"
   ]
  },
  {
   "cell_type": "code",
   "execution_count": null,
   "id": "959b3365",
   "metadata": {},
   "outputs": [],
   "source": [
    "# or: 논리연산, 참으로 판별되는 첫번째"
   ]
  },
  {
   "cell_type": "code",
   "execution_count": null,
   "id": "f67d1c39",
   "metadata": {},
   "outputs": [],
   "source": []
  },
  {
   "cell_type": "code",
   "execution_count": 2,
   "id": "34943fc0",
   "metadata": {},
   "outputs": [
    {
     "data": {
      "text/plain": [
       "False"
      ]
     },
     "execution_count": 2,
     "metadata": {},
     "output_type": "execute_result"
    }
   ],
   "source": [
    "not 10>5"
   ]
  },
  {
   "cell_type": "markdown",
   "id": "7d6f163f",
   "metadata": {},
   "source": [
    "## 5.4 비교연산자: >,>=,<,<=(같다),==,!=(다르다)"
   ]
  },
  {
   "cell_type": "code",
   "execution_count": 6,
   "id": "3b775347",
   "metadata": {},
   "outputs": [
    {
     "ename": "NameError",
     "evalue": "name 'X' is not defined",
     "output_type": "error",
     "traceback": [
      "\u001b[1;31m---------------------------------------------------------------------------\u001b[0m",
      "\u001b[1;31mNameError\u001b[0m                                 Traceback (most recent call last)",
      "Cell \u001b[1;32mIn[6], line 3\u001b[0m\n\u001b[0;32m      1\u001b[0m \u001b[38;5;66;03m# 비교연산자는 이황\u001b[39;00m\n\u001b[0;32m      2\u001b[0m x\u001b[38;5;241m=\u001b[39m\u001b[38;5;241m95\u001b[39m\n\u001b[1;32m----> 3\u001b[0m \u001b[38;5;28mprint\u001b[39m((\u001b[38;5;241m90\u001b[39m\u001b[38;5;241m<\u001b[39m\u001b[38;5;241m=\u001b[39m\u001b[43mX\u001b[49m \u001b[38;5;241m&\u001b[39m X\u001b[38;5;241m<\u001b[39m\u001b[38;5;241m=\u001b[39m\u001b[38;5;241m100\u001b[39m))\n",
      "\u001b[1;31mNameError\u001b[0m: name 'X' is not defined"
     ]
    }
   ],
   "source": [
    "# 비교연산자는 이황\n",
    "x=95\n",
    "print((90<=X & X<=100))\n",
    "print(90<= X "
   ]
  },
  {
   "cell_type": "code",
   "execution_count": null,
   "id": "b9be85f1",
   "metadata": {},
   "outputs": [],
   "source": [
    "# 비교연산자의 우선순위가 비트연산사 (| &)의 우선순위보다 낫다\n",
    "print((10>5) & (10>&)7))\n",
    "print((10>7 & (10>&)7))"
   ]
  },
  {
   "cell_type": "code",
   "execution_count": 8,
   "id": "c33833ad",
   "metadata": {},
   "outputs": [
    {
     "ename": "NameError",
     "evalue": "name 'age' is not defined",
     "output_type": "error",
     "traceback": [
      "\u001b[1;31m---------------------------------------------------------------------------\u001b[0m",
      "\u001b[1;31mNameError\u001b[0m                                 Traceback (most recent call last)",
      "Cell \u001b[1;32mIn[8], line 2\u001b[0m\n\u001b[0;32m      1\u001b[0m address  \u001b[38;5;241m=\u001b[39m \u001b[38;5;124m\"\u001b[39m\u001b[38;5;124m목동\u001b[39m\u001b[38;5;124m\"\u001b[39m\n\u001b[1;32m----> 2\u001b[0m \u001b[43mage\u001b[49m ; \u001b[38;5;241m29\u001b[39m\n\u001b[0;32m      3\u001b[0m \u001b[38;5;66;03m# print(address==\"목동\")  &(age<=30)\u001b[39;00m\n\u001b[0;32m      4\u001b[0m \u001b[38;5;28mprint\u001b[39m(address\u001b[38;5;241m==\u001b[39m\u001b[38;5;124m\"\u001b[39m\u001b[38;5;124m목동\u001b[39m\u001b[38;5;124m\"\u001b[39m)  \u001b[38;5;241m&\u001b[39m (age\u001b[38;5;241m<\u001b[39m\u001b[38;5;241m=\u001b[39m\u001b[38;5;241m30\u001b[39m)\n",
      "\u001b[1;31mNameError\u001b[0m: name 'age' is not defined"
     ]
    }
   ],
   "source": [
    "address  = \"목동\"\n",
    "age ; 29\n",
    "# print(address==\"목동\")  &(age<=30)\n",
    "print(address==\"목동\")  & (age<=30)\n",
    "print(address==\"목동\")  and (age<=30)"
   ]
  },
  {
   "cell_type": "code",
   "execution_count": null,
   "id": "62b4df34",
   "metadata": {},
   "outputs": [],
   "source": [
    "# 아스키코드 순서로 비교: 특수문자 <숫자문자<대문자<소문자)abc순)\n",
    "\"scott\"<"
   ]
  },
  {
   "cell_type": "code",
   "execution_count": null,
   "id": "f248b9a5",
   "metadata": {},
   "outputs": [],
   "source": [
    "# 문자는 ascss"
   ]
  },
  {
   "cell_type": "code",
   "execution_count": null,
   "id": "048387cc",
   "metadata": {},
   "outputs": [],
   "source": [
    "3절 기본자료형: 숫자,문자, 논리\n",
    "4절 포맷팅: 인덱스, 공백대체문자, 정렬방식, 자릿수(타입)\n",
    "5절 연산자: 산술연산자, 할당연산자, 논리연산자, 비교연산자, 비트연산자"
   ]
  },
  {
   "cell_type": "code",
   "execution_count": null,
   "id": "2acf2ee3",
   "metadata": {},
   "outputs": [],
   "source": []
  },
  {
   "cell_type": "code",
   "execution_count": null,
   "id": "0d8fa0bd",
   "metadata": {},
   "outputs": [],
   "source": []
  },
  {
   "cell_type": "code",
   "execution_count": null,
   "id": "5fddaab7",
   "metadata": {},
   "outputs": [],
   "source": []
  },
  {
   "cell_type": "code",
   "execution_count": null,
   "id": "b6e0f01e",
   "metadata": {},
   "outputs": [],
   "source": []
  },
  {
   "cell_type": "code",
   "execution_count": null,
   "id": "f8c118bf",
   "metadata": {},
   "outputs": [],
   "source": []
  },
  {
   "cell_type": "code",
   "execution_count": null,
   "id": "a1fc26f3",
   "metadata": {},
   "outputs": [],
   "source": []
  },
  {
   "cell_type": "code",
   "execution_count": null,
   "id": "515428f5",
   "metadata": {},
   "outputs": [],
   "source": []
  }
 ],
 "metadata": {
  "kernelspec": {
   "display_name": "Python 3 (ipykernel)",
   "language": "python",
   "name": "python3"
  },
  "language_info": {
   "codemirror_mode": {
    "name": "ipython",
    "version": 3
   },
   "file_extension": ".py",
   "mimetype": "text/x-python",
   "name": "python",
   "nbconvert_exporter": "python",
   "pygments_lexer": "ipython3",
   "version": "3.10.9"
  },
  "toc": {
   "base_numbering": 1,
   "nav_menu": {},
   "number_sections": false,
   "sideBar": true,
   "skip_h1_title": false,
   "title_cell": "Table of Contents",
   "title_sidebar": "Contents",
   "toc_cell": false,
   "toc_position": {
    "height": "calc(100% - 180px)",
    "left": "10px",
    "top": "150px",
    "width": "218.509px"
   },
   "toc_section_display": true,
   "toc_window_display": true
  }
 },
 "nbformat": 4,
 "nbformat_minor": 5
}
