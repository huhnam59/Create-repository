{
 "cells": [
  {
   "cell_type": "code",
   "execution_count": 2,
   "id": "8dc17069",
   "metadata": {},
   "outputs": [
    {
     "data": {
      "text/html": [
       "\n",
       "<style>\n",
       "div.container{width:90% !important;}\n",
       "div.cell.code_cell.rendered{width:100%;}\n",
       "div.input_prompt{padding:0px;}\n",
       "div.CodeMirror {font-family:Consolas; font-size:22pt;}\n",
       "div.text_cell_render.rendered_html{font-size:22pt;}\n",
       "div.output {font-size:22pt; font-weight:bold;}\n",
       "div.input {font-family:Consolas; font-size:22pt;}\n",
       "div.prompt {min-width:70px;}\n",
       "div#toc-wrapper{padding-top:120px;}\n",
       "div.text_cell_render ul li{font-size:22pt;padding:5px;}\n",
       "table.dataframe{font-size:22px;}\n",
       "</style>\n"
      ],
      "text/plain": [
       "<IPython.core.display.HTML object>"
      ]
     },
     "metadata": {},
     "output_type": "display_data"
    }
   ],
   "source": [
    "from IPython.display import display, HTML\n",
    "display(HTML(\"\"\"\n",
    "<style>\n",
    "div.container{width:90% !important;}\n",
    "div.cell.code_cell.rendered{width:100%;}\n",
    "div.input_prompt{padding:0px;}\n",
    "div.CodeMirror {font-family:Consolas; font-size:22pt;}\n",
    "div.text_cell_render.rendered_html{font-size:22pt;}\n",
    "div.output {font-size:22pt; font-weight:bold;}\n",
    "div.input {font-family:Consolas; font-size:22pt;}\n",
    "div.prompt {min-width:70px;}\n",
    "div#toc-wrapper{padding-top:120px;}\n",
    "div.text_cell_render ul li{font-size:22pt;padding:5px;}\n",
    "table.dataframe{font-size:22px;}\n",
    "</style>\n",
    "\"\"\"))"
   ]
  },
  {
   "cell_type": "markdown",
   "id": "a62035c5",
   "metadata": {},
   "source": [
    "<b><font size=\"7\" color=\"red\">ch04. 제어문</font></b>"
   ]
  },
  {
   "cell_type": "markdown",
   "id": "117ceafa",
   "metadata": {},
   "source": [
    "<b><font size=\"7\" color=\"red>ch04, 제어문</font></b>\n",
    "- 조건문 : if문\n",
    "- 반복문 : for문(반복횟수), while문(조건)\n",
    "** 모두 중첩가능**\n",
    "\n",
    "# 1절 조건문(if)\n",
    "```\n",
    "if 조건1: {\n",
    "    조건1이 True일 경우 수행할 명령어들(들여쓰기 중요, if절 단독 가능)\n",
    "elif 조건2:\n",
    "    조건1이 False이고 , 조건2가 True일 경우 수행할 명령어들\n",
    "else:\n",
    "    모든 조건이 False일 경우 수행할 명령어들(elif나 else는 모두 단독 사용 불가)\n",
    "```"
   ]
  },
  {
   "cell_type": "code",
   "execution_count": 10,
   "id": "f1ee490d",
   "metadata": {},
   "outputs": [
    {
     "ename": "SyntaxError",
     "evalue": "'(' was never closed (2761114106.py, line 7)",
     "output_type": "error",
     "traceback": [
      "\u001b[1;36m  Cell \u001b[1;32mIn[10], line 7\u001b[1;36m\u001b[0m\n\u001b[1;33m    print('뭐 그대로 고생하셨어요'\u001b[0m\n\u001b[1;37m         ^\u001b[0m\n\u001b[1;31mSyntaxError\u001b[0m\u001b[1;31m:\u001b[0m '(' was never closed\n"
     ]
    }
   ],
   "source": [
    "score = int(input('Enter your score >'))\n",
    "if score>=90:\n",
    "    print('참 잘했어요')\n",
    "    print('다음에도 기대할개요')\n",
    "elif score>=60:\n",
    "    print('분발하셔요')\n",
    "    print('뭐 그대로 고생하셨어요'\n",
    "else: \n",
    "    print('재시험 응시하세요')\n",
    "    print('화이팅')\n",
    "          "
   ]
  },
  {
   "cell_type": "code",
   "execution_count": null,
   "id": "f6436631",
   "metadata": {},
   "outputs": [],
   "source": [
    "# ex. 점수를 입력받아 학점출력(A, B, C, D, F, 유효하지 않는 점수)\n",
    "score = int(input('Enter your score >'))"
   ]
  },
  {
   "cell_type": "code",
   "execution_count": null,
   "id": "875d0a5c",
   "metadata": {},
   "outputs": [],
   "source": [
    "# 입력하신 점수 85점은 B학점\n",
    "# 입력하신 점수 -1점은 유효하지 않는 점수"
   ]
  },
  {
   "cell_type": "code",
   "execution_count": null,
   "id": "04b969b4",
   "metadata": {},
   "outputs": [],
   "source": [
    "def get_grade(score):\n",
    "    if not (0 <= score <= 100):\n",
    "        return f\"입력하신 점수 {score}점은 유효하지 않는 점수\"\n",
    "    \n",
    "    if score >= 90:\n",
    "        grade = \"A\"\n",
    "    elif score >= 80:\n",
    "        grade = \"B\"\n",
    "    elif score >= 70:\n",
    "        grade = \"C\"\n",
    "    elif score >= 60:\n",
    "        grade = \"D\"\n",
    "    else:\n",
    "        grade = \"F\"\n",
    "    \n",
    "    return f\"입력하신 {score}점은 {grade}학점\"\n",
    "\n",
    "# 테스트\n",
    "print(get_grade(85))   # 정상 범위 점수\n",
    "print(get_grade(-1))   # 범위 벗어난 점수"
   ]
  },
  {
   "cell_type": "code",
   "execution_count": 12,
   "id": "7dfec9dc",
   "metadata": {},
   "outputs": [
    {
     "ename": "IndentationError",
     "evalue": "unindent does not match any outer indentation level (<tokenize>, line 3)",
     "output_type": "error",
     "traceback": [
      "\u001b[1;36m  File \u001b[1;32m<tokenize>:3\u001b[1;36m\u001b[0m\n\u001b[1;33m    elif score >= 80:\u001b[0m\n\u001b[1;37m    ^\u001b[0m\n\u001b[1;31mIndentationError\u001b[0m\u001b[1;31m:\u001b[0m unindent does not match any outer indentation level\n"
     ]
    }
   ],
   "source": [
    "if score >= 90:\n",
    "        grade = \"A\"\n",
    "    elif score >= 80:\n",
    "        grade = \"B\"\n",
    "    elif score >= 70:\n",
    "        grade = \"C\"\n",
    "    elif score >= 60:\n",
    "        grade = \"D\"\n",
    "    else:\n",
    "        grade = \"F\"\n",
    "    \n",
    "    return f\"입력하신 {score}점은 {grade}학점\""
   ]
  },
  {
   "cell_type": "code",
   "execution_count": 13,
   "id": "933ec5db",
   "metadata": {},
   "outputs": [
    {
     "name": "stdout",
     "output_type": "stream",
     "text": [
      "Enter your score >65\n",
      "입력하신 점수 65점은 D학점\n",
      "입력하신 점수 65점은 D학점\n"
     ]
    }
   ],
   "source": [
    "# ex. 점수를 입력받아 학점출력(A, B, C, D, F, 유효하지 않는 점수)\n",
    "score = int(input('Enter your score >'))\n",
    "if 90 <= score <= 100: \n",
    "    grade = 'A학점'\n",
    "elif 80 <= score <90:\n",
    "    grade = 'B학점'\n",
    "elif 70 <= score <80:\n",
    "    grade = 'C학점'\n",
    "elif 60 <= score <70:\n",
    "    grade = 'D학점'\n",
    "elif 0 <= score <60:\n",
    "    grade = 'F학점'\n",
    "else: \n",
    "    grade = '유효하지 않는 점수'\n",
    "print(\"입력하신 점수 {}점은 {}\". format(score, grade))\n",
    "print(f\"입력하신 점수 {score}점은 {grade}\")"
   ]
  },
  {
   "cell_type": "markdown",
   "id": "52a43811",
   "metadata": {},
   "source": [
    "# 2절 반복문\n",
    "## 2.1 for-in문\n",
    "```\n",
    "for 임시변수 in 나열가능한 자료:<br>(다음 줄)\n",
    "    반복할 문장들<br>(다음 줄)\n",
    "else:\n",
    "    나열가능한 자룔루 다 소요하여 for블록을 다 수행한 후 최종 한번 실행할 문장들\n",
    "    for문안의 break를 수행시 else블록을 수행하지 않음(else는 선택)\n",
    "```"
   ]
  },
  {
   "cell_type": "code",
   "execution_count": null,
   "id": "91e1ac01",
   "metadata": {},
   "outputs": [],
   "source": [
    "# 객체 지향 언어: 자바, 함수 언어: js, py\n",
    "# 책으로 돈 벌지 못한다. 베스트셀러, 10명 미만"
   ]
  },
  {
   "cell_type": "code",
   "execution_count": 15,
   "id": "034290c4",
   "metadata": {},
   "outputs": [
    {
     "name": "stdout",
     "output_type": "stream",
     "text": [
      "1\t3\t5\t7\t9\tDONE\n",
      "END\n"
     ]
    }
   ],
   "source": [
    "for i in range(1, 10, 2):\n",
    "    print(i, end=\"\\t\")\n",
    "else:\n",
    "    print('DONE')\n",
    "print('END')"
   ]
  },
  {
   "cell_type": "code",
   "execution_count": 16,
   "id": "e5306147",
   "metadata": {},
   "outputs": [
    {
     "name": "stdout",
     "output_type": "stream",
     "text": [
      "5\t4\t3\t2\t1\tDONE\n",
      "END\n"
     ]
    }
   ],
   "source": [
    "for i in range(5, 0, -1):\n",
    "    print(i, end=\"\\t\")\n",
    "else:\n",
    "    print('DONE')\n",
    "print('END')"
   ]
  },
  {
   "cell_type": "code",
   "execution_count": 20,
   "id": "31e2c337",
   "metadata": {},
   "outputs": [
    {
     "name": "stdout",
     "output_type": "stream",
     "text": [
      "0\t1\t2\t3\t4\tEND\n"
     ]
    }
   ],
   "source": [
    "for i in range(10):\n",
    "    if i==5:\n",
    "        break # 현재 반복문을 빠져나가\n",
    "    print(i, end=\"\\t\")\n",
    "else:\n",
    "    print(\"\\nDONE\")\n",
    "print(\"END\")"
   ]
  },
  {
   "cell_type": "code",
   "execution_count": 21,
   "id": "4d1ea86e",
   "metadata": {},
   "outputs": [
    {
     "name": "stdout",
     "output_type": "stream",
     "text": [
      "1~100까지 합은 5050\n"
     ]
    }
   ],
   "source": [
    "# 1~100까지 합을 계산하고 출력하시오(for문)\n",
    "sum = 0 # 누적변수\n",
    "for i in range(1, 101):\n",
    "    sum += i # sum = sum + i\n",
    "else:\n",
    "    print(\"1~100까지 합은\", sum)"
   ]
  },
  {
   "cell_type": "code",
   "execution_count": 24,
   "id": "aa39e8d1",
   "metadata": {},
   "outputs": [
    {
     "name": "stdout",
     "output_type": "stream",
     "text": [
      "1~100까지 짝수들의 합은 2550\n"
     ]
    }
   ],
   "source": [
    "# 1~100까지 짝수들 합을 계산하고 출력하시오(for문)\n",
    "sum = 0 # 누적변수\n",
    "for i in range(1, 101):\n",
    "    if i%2==0:\n",
    "        sum += i # sum = sum + i\n",
    "else:\n",
    "    print(\"1~100까지 짝수들의 합은\", sum)"
   ]
  },
  {
   "cell_type": "markdown",
   "id": "deeab23a",
   "metadata": {},
   "source": [
    "## 2.2 while 문\n",
    "```\n",
    "while 조건:\n",
    "    조건이 True일 경우 반복할 문장들\n",
    "else:\n",
    "    조건이 False일 경우 한번 실행할 문장들(else 구문 선택사항)\n",
    "    while 문내의 break 수행할 경우 else 구문은 실행되지 않음.\n",
    "```"
   ]
  },
  {
   "cell_type": "code",
   "execution_count": 25,
   "id": "e7ae3d4b",
   "metadata": {},
   "outputs": [
    {
     "name": "stdout",
     "output_type": "stream",
     "text": [
      "1~100까지 짝수들의 합은 2550\n"
     ]
    }
   ],
   "source": [
    "# 1~100까지 짝수들 합을 계산하고 출력하시오(while문)\n",
    "sum = 0 # 누적변수\n",
    "i = 1 # i값 초기화\n",
    "while i<=100:\n",
    "    if i%2==0:\n",
    "        sum += i # sum = sum + i\n",
    "    i += 1\n",
    "else:\n",
    "    print(\"1~100까지 짝수들의 합은\", sum)"
   ]
  },
  {
   "cell_type": "code",
   "execution_count": null,
   "id": "2b625d9e",
   "metadata": {},
   "outputs": [],
   "source": [
    "# ex1.사용자에게 두 정수를 입력받아, 작은수부터 큰 수까지 홀수의 합을 누적해서 출력\n",
    "# 두 정수를 입력\n",
    "\n",
    "# 두 정수 중 작은 수와 큰 수\n",
    "\n",
    "# 누적"
   ]
  },
  {
   "cell_type": "code",
   "execution_count": 26,
   "id": "2023c50d",
   "metadata": {},
   "outputs": [
    {
     "data": {
      "text/plain": [
       "0.015033921722787391"
      ]
     },
     "execution_count": 26,
     "metadata": {},
     "output_type": "execute_result"
    }
   ],
   "source": [
    "# ex2. 로또번호 6개를 추출후, 정렬하여 출력\n",
    "import random\n",
    "random.random()"
   ]
  },
  {
   "cell_type": "code",
   "execution_count": 27,
   "id": "b2b43e86",
   "metadata": {},
   "outputs": [
    {
     "ename": "SyntaxError",
     "evalue": "unterminated string literal (detected at line 3) (32565845.py, line 3)",
     "output_type": "error",
     "traceback": [
      "\u001b[1;36m  Cell \u001b[1;32mIn[27], line 3\u001b[1;36m\u001b[0m\n\u001b[1;33m    \"{:.50f}.format(random.random()) # 0이상 1미만의 실수 난수\u001b[0m\n\u001b[1;37m    ^\u001b[0m\n\u001b[1;31mSyntaxError\u001b[0m\u001b[1;31m:\u001b[0m unterminated string literal (detected at line 3)\n"
     ]
    }
   ],
   "source": [
    "# ex2. 로또번호 6개를 추출후, 정렬하여 출력\n",
    "import random\n",
    "\"{:.50f}.format(random.random()) # 0이상 1미만의 실수 난수"
   ]
  },
  {
   "cell_type": "code",
   "execution_count": 30,
   "id": "74a5b950",
   "metadata": {},
   "outputs": [
    {
     "data": {
      "text/plain": [
       "16"
      ]
     },
     "execution_count": 30,
     "metadata": {},
     "output_type": "execute_result"
    }
   ],
   "source": [
    "# ex2. 로또번호 6개를 추출후, 정렬하여 출력\n",
    "import random\n",
    "random.seed(3)\n",
    "# random.random() # 0이상 1미만의 실수 난수\n",
    "random.randint(1, 45) # 1~45의 정수 난수"
   ]
  },
  {
   "cell_type": "code",
   "execution_count": 31,
   "id": "0ac36a28",
   "metadata": {},
   "outputs": [
    {
     "data": {
      "text/plain": [
       "38"
      ]
     },
     "execution_count": 31,
     "metadata": {},
     "output_type": "execute_result"
    }
   ],
   "source": [
    "# ex2. 로또번호 6개를 추출후, 정렬하여 출력\n",
    "import random\n",
    "# random.seed(3)\n",
    "# random.random() # 0이상 1미만의 실수 난수\n",
    "random.randint(1, 45) # 1~45의 정수 난수"
   ]
  },
  {
   "cell_type": "code",
   "execution_count": 32,
   "id": "0d6ebd24",
   "metadata": {},
   "outputs": [
    {
     "data": {
      "text/plain": [
       "'남자'"
      ]
     },
     "execution_count": 32,
     "metadata": {},
     "output_type": "execute_result"
    }
   ],
   "source": [
    "# ex2. 로또번호 6개를 추출후, 정렬하여 출력\n",
    "import random\n",
    "# random.seed(3)\n",
    "# random.random() # 0이상 1미만의 실수 난수\n",
    "# random.randint(1, 45) # 1~45의 정수 난수\n",
    "random.choice(['남자', '여자'])"
   ]
  },
  {
   "cell_type": "code",
   "execution_count": 33,
   "id": "a89fc30c",
   "metadata": {},
   "outputs": [
    {
     "data": {
      "text/plain": [
       "'비사기꾼'"
      ]
     },
     "execution_count": 33,
     "metadata": {},
     "output_type": "execute_result"
    }
   ],
   "source": [
    "# ex2. 로또번호 6개를 추출후, 정렬하여 출력\n",
    "import random\n",
    "# random.seed(3)\n",
    "# random.random() # 0이상 1미만의 실수 난수\n",
    "# random.randint(1, 45) # 1~45의 정수 난수\n",
    "random.choice(['사기꾼', '비사기꾼'])"
   ]
  },
  {
   "cell_type": "code",
   "execution_count": 34,
   "id": "655d8a6d",
   "metadata": {},
   "outputs": [
    {
     "data": {
      "text/plain": [
       "'여자'"
      ]
     },
     "execution_count": 34,
     "metadata": {},
     "output_type": "execute_result"
    }
   ],
   "source": [
    "# ex2. 로또번호 6개를 추출후, 정렬하여 출력\n",
    "import random\n",
    "# random.seed(3)\n",
    "# random.random() # 0이상 1미만의 실수 난수\n",
    "# random.randint(1, 45) # 1~45의 정수 난수\n",
    "random.choice(['남자', '여자'], # 남자나 여자를 선택(확률 일치)"
   ]
  },
  {
   "cell_type": "code",
   "execution_count": 38,
   "id": "1cc8e0ca",
   "metadata": {},
   "outputs": [
    {
     "data": {
      "text/plain": [
       "41"
      ]
     },
     "execution_count": 38,
     "metadata": {},
     "output_type": "execute_result"
    }
   ],
   "source": [
    "# ex2. 로또번호 6개를 추출후, 정렬하여 출력\n",
    "import random\n",
    "# random.seed(3)\n",
    "# random.random() # 0이상 1미만의 실수 난수\n",
    "random.randint(1, 45) # 1~45의 정수 난수\n",
    "# random.choice(['남자', '여자']) #남자나 여자 선택(확률 일치)\n",
    "# random.choices(['사기꾼', '비사기꾼']), weights=[0, 1, 0, 9]"
   ]
  },
  {
   "cell_type": "code",
   "execution_count": null,
   "id": "72822356",
   "metadata": {},
   "outputs": [],
   "source": [
    "# ex1.사용자에게 두 정수를 입력받아, 작은수부터 큰 수까지 홀수의 합을 누적해서 출력\n",
    "# 두 정수를 입력\n",
    "\n",
    "# 두 정수 중 작은 수와 큰 수\n",
    "\n",
    "# 누적"
   ]
  },
  {
   "cell_type": "code",
   "execution_count": null,
   "id": "08fbb0d5",
   "metadata": {},
   "outputs": [],
   "source": [
    "# 두 정수를 입력받기\n",
    "a = int(input(\"첫 번째 정수를 입력하세요: \"))\n",
    "b = int(input(\"두 번째 정수를 입력하세요: \"))\n",
    "\n",
    "# 작은 수, 큰 수 구하기\n",
    "start = min(a, b)\n",
    "end = max(a, b)\n",
    "\n",
    "# 시작점을 홀수로 맞추기\n",
    "if start % 2 == 0:\n",
    "    start += 1\n",
    "\n",
    "# 홀수 합 누적 (range 활용)\n",
    "total = 0\n",
    "for i in range(start, end + 1, 2):\n",
    "    total += i\n",
    "    print(f\"{i}를 더했습니다. 현재 누적 합: {total}\")\n",
    "\n",
    "print(f\"{min(a,b)}부터 {max(a,b)}까지의 홀수 합은 {total}입니다.\")"
   ]
  },
  {
   "cell_type": "code",
   "execution_count": 43,
   "id": "b106e661",
   "metadata": {},
   "outputs": [
    {
     "name": "stdout",
     "output_type": "stream",
     "text": [
      "4: 12\n",
      "12: 14\n",
      "5를 더했습니다. 현재 누적 합: 5\n",
      "7를 더했습니다. 현재 누적 합: 12\n",
      "9를 더했습니다. 현재 누적 합: 21\n",
      "11를 더했습니다. 현재 누적 합: 32\n",
      "12부터 14까지의 홀수 합은 32입니다.\n"
     ]
    }
   ],
   "source": [
    "a = int(input(\"4: \"))\n",
    "b = int(input(\"12: \"))\n",
    "\n",
    "start = min(4, 12)\n",
    "end = max(4, 12)\n",
    "\n",
    "if start % 2 == 0:\n",
    "    start += 1\n",
    "\n",
    "total = 0\n",
    "for i in range(start, end + 1, 2):\n",
    "    total += i\n",
    "    print(f\"{i}를 더했습니다. 현재 누적 합: {total}\")\n",
    "\n",
    "print(f\"{min(a,b)}부터 {max(a,b)}까지의 홀수 합은 {total}입니다.\")"
   ]
  },
  {
   "cell_type": "code",
   "execution_count": 44,
   "id": "e4ad9390",
   "metadata": {},
   "outputs": [
    {
     "data": {
      "text/plain": [
       "5"
      ]
     },
     "execution_count": 44,
     "metadata": {},
     "output_type": "execute_result"
    }
   ],
   "source": [
    "# ex2. 로또번호 6개를 추출후, 정렬하여 출력\n",
    "import random\n",
    "# random.seed(3)\n",
    "# random.random() # 0이상 1미만의 실수 난수\n",
    "random.randint(1, 43) # 1~45의 정수 난수\n",
    "# random.choice(['남자', '여자']) #남자나 여자 선택(확률 일치)\n",
    "# random.choices(['사기꾼', '비사기꾼']), weights=[0. 1, 0. 9]"
   ]
  },
  {
   "cell_type": "code",
   "execution_count": null,
   "id": "94632baa",
   "metadata": {},
   "outputs": [],
   "source": [
    "# ex2. 로또번호 6개를 추출후, 정렬하여 출력\n",
    "import random\n",
    "# random.seed(3)\n",
    "# random.random() # 0이상 1미만의 실수 난수\n",
    "random.randint(1, 43) # 1~45의 정수 난수\n",
    "# random.choice(['남자', '여자']) #남자나 여자 선택(확률 일치)\n",
    "# random.choices(['사기꾼', '비사기꾼']), weights=[0. 1, 0. 9]"
   ]
  },
  {
   "cell_type": "code",
   "execution_count": 46,
   "id": "2c7c9a06",
   "metadata": {},
   "outputs": [
    {
     "ename": "SyntaxError",
     "evalue": "expected ':' (400195965.py, line 6)",
     "output_type": "error",
     "traceback": [
      "\u001b[1;36m  Cell \u001b[1;32mIn[46], line 6\u001b[1;36m\u001b[0m\n\u001b[1;33m    if first > second\u001b[0m\n\u001b[1;37m                     ^\u001b[0m\n\u001b[1;31mSyntaxError\u001b[0m\u001b[1;31m:\u001b[0m expected ':'\n"
     ]
    }
   ],
   "source": [
    "# ex1.사용자에게 두 정수를 입력받아, 작은수부터 큰 수까지 홀수의 합을 누적해서 출력\n",
    "# 두 정수를 입력\n",
    "first =int(input('첫번째 정수?'))\n",
    "second =int(input('첫번째 정수?'))\n",
    "# 두 정수 중 작은 수와 큰 수\n",
    "if first > second\n",
    "    # 바꿔\n",
    "    temp = first\n",
    "    first = second\n",
    "    second = temp\n",
    "    \n",
    "# 누적\n",
    "sum = 0\n",
    "for i in range(first, second+1):\n",
    "    sum +=i\n",
    "print(\"{}~{}까지 누적합은 {}\".format(first, second, sum))\n"
   ]
  },
  {
   "cell_type": "code",
   "execution_count": 49,
   "id": "07ad74af",
   "metadata": {},
   "outputs": [
    {
     "name": "stdout",
     "output_type": "stream",
     "text": [
      "첫번째 정수?10\n",
      "첫번째 정수?0\n",
      "0~10까지 홀수들의 누적합은 25\n"
     ]
    }
   ],
   "source": [
    "# ex1.사용자에게 두 정수를 입력받아, 작은수부터 큰 수까지 홀수의 합을 누적해서 출력\n",
    "# 두 정수를 입력\n",
    "first =int(input('첫번째 정수?'))\n",
    "second =int(input('첫번째 정수?'))\n",
    "# 두 정수 중 작은 수와 큰 수\n",
    "if first > second:\n",
    "    # 바꿔\n",
    "#    temp = first\n",
    "#    first = second\n",
    "#    second = temp\n",
    "    first, second = second, first\n",
    "# 누적\n",
    "sum = 0\n",
    "for i in range(first, second+1):\n",
    "    if i%2: #(i%2==1) | (i%2==-1):\n",
    "        sum +=i\n",
    "print(\"{}~{}까지 홀수들의 누적합은 {}\".format(first, second, sum))\n"
   ]
  },
  {
   "cell_type": "code",
   "execution_count": 52,
   "id": "84dab9b9",
   "metadata": {},
   "outputs": [
    {
     "ename": "NameError",
     "evalue": "name 'lotto' is not defined",
     "output_type": "error",
     "traceback": [
      "\u001b[1;31m---------------------------------------------------------------------------\u001b[0m",
      "\u001b[1;31mNameError\u001b[0m                                 Traceback (most recent call last)",
      "Cell \u001b[1;32mIn[52], line 11\u001b[0m\n\u001b[0;32m      9\u001b[0m \u001b[38;5;28;01mwhile\u001b[39;00m \u001b[38;5;28mlen\u001b[39m(lotto_lst) \u001b[38;5;241m<\u001b[39m\u001b[38;5;241m6\u001b[39m:\n\u001b[0;32m     10\u001b[0m     lotto_lst\u001b[38;5;241m.\u001b[39mappend(random\u001b[38;5;241m.\u001b[39mrandint(\u001b[38;5;241m1\u001b[39m, \u001b[38;5;241m45\u001b[39m))\n\u001b[1;32m---> 11\u001b[0m \u001b[38;5;28mprint\u001b[39m(\u001b[38;5;28msorted\u001b[39m(\u001b[43mlotto\u001b[49m\u001b[38;5;241m-\u001b[39mlst))\n",
      "\u001b[1;31mNameError\u001b[0m: name 'lotto' is not defined"
     ]
    }
   ],
   "source": [
    "# ex2. 로또번호 6개를 추출후, 정렬하여 출력\n",
    "import random\n",
    "# random.seed(3)\n",
    "# random.random() # 0이상 1미만의 실수 난수\n",
    "random.randint(1, 43) # 1~45의 정수 난수\n",
    "# random.choice(['남자', '여자']) #남자나 여자 선택(확률 일치)\n",
    "# random.choices(['사기꾼', '비사기꾼']), weights=[0. 1, 0. 9]\n",
    "lotto_lst = [] # 추출된 로또번호를 담을 변수\n",
    "while len(lotto_lst) <6:\n",
    "    lotto_lst.append(random.randint(1, 45))\n",
    "print(sorted(lotto-lst))"
   ]
  },
  {
   "cell_type": "code",
   "execution_count": 54,
   "id": "ed59d80b",
   "metadata": {},
   "outputs": [
    {
     "ename": "NameError",
     "evalue": "name 'lotto' is not defined",
     "output_type": "error",
     "traceback": [
      "\u001b[1;31m---------------------------------------------------------------------------\u001b[0m",
      "\u001b[1;31mNameError\u001b[0m                                 Traceback (most recent call last)",
      "Cell \u001b[1;32mIn[54], line 13\u001b[0m\n\u001b[0;32m     11\u001b[0m     \u001b[38;5;28;01mif\u001b[39;00m \u001b[38;5;129;01mnot\u001b[39;00m temp \u001b[38;5;129;01min\u001b[39;00m lotto_lst:\n\u001b[0;32m     12\u001b[0m         lotto_lst\u001b[38;5;241m.\u001b[39mappend(temp)\n\u001b[1;32m---> 13\u001b[0m \u001b[38;5;28mprint\u001b[39m(\u001b[38;5;28msorted\u001b[39m(\u001b[43mlotto\u001b[49m\u001b[38;5;241m-\u001b[39mlst))\n",
      "\u001b[1;31mNameError\u001b[0m: name 'lotto' is not defined"
     ]
    }
   ],
   "source": [
    "# ex2. 로또번호 6개를 추출후, 정렬하여 출력\n",
    "import random\n",
    "# random.seed(3)\n",
    "# random.random() # 0이상 1미만의 실수 난수\n",
    "random.randint(1, 43) # 1~45의 정수 난수\n",
    "# random.choice(['남자', '여자']) #남자나 여자 선택(확률 일치)\n",
    "# random.choices(['사기꾼', '비사기꾼']), weights=[0. 1, 0. 9]\n",
    "lotto_lst = [] # 추출된 로또번호를 담을 변수\n",
    "while len(lotto_lst) < 6:\n",
    "    temp = random.randint(1, 45)# 임의의 수를 temp 변수\n",
    "    if not temp in lotto_lst:\n",
    "        lotto_lst.append(temp)\n",
    "print(sorted(lotto-lst))"
   ]
  },
  {
   "cell_type": "code",
   "execution_count": 58,
   "id": "c42033b6",
   "metadata": {},
   "outputs": [
    {
     "ename": "SyntaxError",
     "evalue": "invalid syntax (3715045797.py, line 11)",
     "output_type": "error",
     "traceback": [
      "\u001b[1;36m  Cell \u001b[1;32mIn[58], line 11\u001b[1;36m\u001b[0m\n\u001b[1;33m    cnt + = 1\u001b[0m\n\u001b[1;37m          ^\u001b[0m\n\u001b[1;31mSyntaxError\u001b[0m\u001b[1;31m:\u001b[0m invalid syntax\n"
     ]
    }
   ],
   "source": [
    "# ex2. 로또번호 6개를 추출후, 정렬하여 출력\n",
    "import random\n",
    "# random.seed(3)\n",
    "# random.random() # 0이상 1미만의 실수 난수\n",
    "random.randint(1, 43) # 1~45의 정수 난수\n",
    "# random.choice(['남자', '여자']) #남자나 여자 선택(확률 일치)\n",
    "# random.choices(['사기꾼', '비사기꾼']), weights=[0. 1, 0. 9]\n",
    "lotto_lst = [] # 추출된 로또번호를 담을 변수\n",
    "while len(lotto_lst) < 6:\n",
    "    temp = random.randint(1, 45)# 임의의 수를 temp 변수\n",
    "    cnt + = 1\n",
    "    if not temp in lotto_lst:\n",
    "        lotto_lst.append(temp)\n",
    "print(cnt,sorted(lotto-lst))"
   ]
  },
  {
   "cell_type": "code",
   "execution_count": 66,
   "id": "4396e17a",
   "metadata": {},
   "outputs": [
    {
     "name": "stdout",
     "output_type": "stream",
     "text": [
      "6번 로또번호 추출함 : [9, 32, 14, 17, 44, 28]\n"
     ]
    }
   ],
   "source": [
    "# ex2. 로또번호 6개를 추출후, 정렬하여 출력\n",
    "import random\n",
    "# random.seed(3)\n",
    "# random.random() # 0이상 1미만의 실수 난수\n",
    "random.randint(1, 43) # 1~45의 정수 난수\n",
    "# random.choice(['남자', '여자']) #남자나 여자 선택(확률 일치)\n",
    "# random.choices(['사기꾼', '비사기꾼']), weights=[0. 1, 0. 9]\n",
    "lotto_lst = [] # 추출된 로또번호를 담을 변수\n",
    "cnt=0\n",
    "while len(lotto_lst) < 6:\n",
    "    temp = random.randint(1, 45)# 임의의 수를 temp 변수\n",
    "    cnt += 1\n",
    "    if not temp in lotto_lst:\n",
    "        lotto_lst.append(temp)\n",
    "print(f\"{cnt}번 로또번호 추출함 : {lotto_lst}\")"
   ]
  },
  {
   "cell_type": "code",
   "execution_count": 69,
   "id": "0c02e759",
   "metadata": {},
   "outputs": [
    {
     "ename": "SyntaxError",
     "evalue": "invalid syntax (2545001640.py, line 17)",
     "output_type": "error",
     "traceback": [
      "\u001b[1;36m  Cell \u001b[1;32mIn[69], line 17\u001b[1;36m\u001b[0m\n\u001b[1;33m    for i in range(len(lotto_lst)-1:\u001b[0m\n\u001b[1;37m                                   ^\u001b[0m\n\u001b[1;31mSyntaxError\u001b[0m\u001b[1;31m:\u001b[0m invalid syntax\n"
     ]
    }
   ],
   "source": [
    "# ex2. 로또번호 6개를 추출후, 정렬하여 출력\n",
    "import random\n",
    "# random.seed(3)\n",
    "# random.random() # 0이상 1미만의 실수 난수\n",
    "random.randint(1, 43) # 1~45의 정수 난수\n",
    "# random.choice(['남자', '여자']) #남자나 여자 선택(확률 일치)\n",
    "# random.choices(['사기꾼', '비사기꾼']), weights=[0. 1, 0. 9]\n",
    "lotto_lst = [] # 추출된 로또번호를 담을 변수\n",
    "cnt=0 # 임의의 수 발생 횟수\n",
    "while len(lotto_lst) < 6:\n",
    "    temp = random.randint(1, 45)# 임의의 수를 temp 변수\n",
    "    cnt += 1\n",
    "    if not temp in lotto_lst:\n",
    "        lotto_lst.append(temp)\n",
    "print(f\"{cnt}번 로또번호 추출함 : {lotto_lst}\")\n",
    "# 정렬 알고리즘\n",
    "for i in range(len(lotto_lst)-1:\n",
    "    for j in range(i+1,len(lotto_lst))"
   ]
  },
  {
   "cell_type": "code",
   "execution_count": 76,
   "id": "f1826098",
   "metadata": {},
   "outputs": [
    {
     "name": "stdout",
     "output_type": "stream",
     "text": [
      "7번 로또번호 추출함 : [39, 43, 45, 11, 21, 35]\n",
      "정렬후 : [11, 21, 35, 39, 43, 45]\n"
     ]
    }
   ],
   "source": [
    "# ex2. 로또번호 6개를 추출후, 정렬하여 출력\n",
    "import random\n",
    "# random.seed(3)\n",
    "# random.random() # 0이상 1미만의 실수 난수\n",
    "random.randint(1, 43) # 1~45의 정수 난수\n",
    "# random.choice(['남자', '여자']) #남자나 여자 선택(확률 일치)\n",
    "# random.choices(['사기꾼', '비사기꾼']), weights=[0. 1, 0. 9]\n",
    "lotto_lst = [] # 추출된 로또번호를 담을 변수\n",
    "cnt=0 # 임의의 수 발생 횟수\n",
    "while len(lotto_lst) < 6:\n",
    "    temp = random.randint(1, 45)# 임의의 수를 temp 변수\n",
    "    cnt += 1\n",
    "    if not temp in lotto_lst:\n",
    "        lotto_lst.append(temp)\n",
    "print(f\"{cnt}번 로또번호 추출함 : {lotto_lst}\")\n",
    "# 정렬 알고리즘\n",
    "for i in range(len(lotto_lst)-1):\n",
    "    for j in range(i+1, len(lotto_lst)):\n",
    "        if lotto_lst[i] > lotto_lst[j]:\n",
    "            lotto_lst[i], lotto_lst[j] = lotto_lst[j], lotto_lst[i]\n",
    "print(\"정렬후 :\", lotto_lst)"
   ]
  },
  {
   "cell_type": "code",
   "execution_count": 77,
   "id": "90956ae3",
   "metadata": {},
   "outputs": [
    {
     "data": {
      "text/plain": [
       "{1}"
      ]
     },
     "execution_count": 77,
     "metadata": {},
     "output_type": "execute_result"
    }
   ],
   "source": [
    "lotto_set = set() # 빈 셋\n",
    "lotto_set.add(1)\n",
    "lotto_set.add(1)\n",
    "lotto_set.add(1)\n",
    "lotto_set.add(1)\n",
    "lotto_set"
   ]
  },
  {
   "cell_type": "code",
   "execution_count": 78,
   "id": "bb9d84b5",
   "metadata": {},
   "outputs": [
    {
     "data": {
      "text/plain": [
       "[7, 14, 18, 37, 41, 42]"
      ]
     },
     "execution_count": 78,
     "metadata": {},
     "output_type": "execute_result"
    }
   ],
   "source": [
    "lotto_set = set() # 빈 셋\n",
    "while len(lotto_set)<6:\n",
    "    lotto_set.add(random.randint(1, 45))\n",
    "sorted(lotto_set)"
   ]
  },
  {
   "cell_type": "code",
   "execution_count": 79,
   "id": "9c150cd7",
   "metadata": {},
   "outputs": [
    {
     "data": {
      "text/plain": [
       "[5, 6, 8, 19, 31, 41]"
      ]
     },
     "execution_count": 79,
     "metadata": {},
     "output_type": "execute_result"
    }
   ],
   "source": [
    "# 위이 ex2를 set 이용. \n",
    "lotto_set = set() # 빈 셋\n",
    "while len(lotto_set)<6:\n",
    "    lotto_set.add(random.randint(1, 45))\n",
    "sorted(lotto_set)"
   ]
  },
  {
   "cell_type": "code",
   "execution_count": 82,
   "id": "08303cd1",
   "metadata": {},
   "outputs": [
    {
     "ename": "SyntaxError",
     "evalue": "unmatched ')' (1366733524.py, line 2)",
     "output_type": "error",
     "traceback": [
      "\u001b[1;36m  Cell \u001b[1;32mIn[82], line 2\u001b[1;36m\u001b[0m\n\u001b[1;33m    random.sample(random(1, 46), 6))\u001b[0m\n\u001b[1;37m                                   ^\u001b[0m\n\u001b[1;31mSyntaxError\u001b[0m\u001b[1;31m:\u001b[0m unmatched ')'\n"
     ]
    }
   ],
   "source": [
    "# 1~45중 6개 뽑아 정렬\n",
    "random.sample(random(1, 46), 6))"
   ]
  },
  {
   "cell_type": "code",
   "execution_count": 84,
   "id": "0ac98234",
   "metadata": {},
   "outputs": [
    {
     "data": {
      "text/plain": [
       "[2, 5, 10, 19, 23, 27]"
      ]
     },
     "execution_count": 84,
     "metadata": {},
     "output_type": "execute_result"
    }
   ],
   "source": [
    "# 1~45중 6개 뽑아 정렬\n",
    "sorted(random.sample(range(1, 46), 6))"
   ]
  },
  {
   "cell_type": "markdown",
   "id": "6f07bc31",
   "metadata": {},
   "source": [
    "## 2.3 break, continue\n",
    "- break : 현재 반복문 탈출\n",
    "- continue: 수행중인 반복문을 멈추고 조건절로"
   ]
  },
  {
   "cell_type": "code",
   "execution_count": 85,
   "id": "47792ada",
   "metadata": {},
   "outputs": [
    {
     "name": "stdout",
     "output_type": "stream",
     "text": [
      "12345678910END\n"
     ]
    }
   ],
   "source": [
    "num = 0\n",
    "while num<10:\n",
    "    num += 1\n",
    "    print(num, end='')\n",
    "print('END')"
   ]
  },
  {
   "cell_type": "code",
   "execution_count": 87,
   "id": "7660333c",
   "metadata": {},
   "outputs": [
    {
     "name": "stdout",
     "output_type": "stream",
     "text": [
      "1234END\n"
     ]
    }
   ],
   "source": [
    "num = 0\n",
    "while num<10:\n",
    "    num += 1\n",
    "    if num ==5:\n",
    "        break\n",
    "    print(num, end='')\n",
    "print('END')"
   ]
  },
  {
   "cell_type": "code",
   "execution_count": 88,
   "id": "c9074134",
   "metadata": {},
   "outputs": [
    {
     "name": "stdout",
     "output_type": "stream",
     "text": [
      "1234678910END\n"
     ]
    }
   ],
   "source": [
    "num = 0\n",
    "while num<10:\n",
    "    num += 1 # num 변수를 1 증가\n",
    "    if num ==5:\n",
    "        #break\n",
    "        continue\n",
    "    print(num, end='')\n",
    "print('END')"
   ]
  },
  {
   "cell_type": "code",
   "execution_count": 4,
   "id": "ea1e64c2",
   "metadata": {},
   "outputs": [
    {
     "name": "stdout",
     "output_type": "stream",
     "text": [
      "컴퓨터가 발생한 random 수: 7\n",
      "1~100 사이의 수를 맞추어 보세요:50\n",
      "DOWN ↓\n",
      "1~100 사이의 수를 맞추어 보세요:25\n",
      "DOWN ↓\n",
      "1~100 사이의 수를 맞추어 보세요:7\n",
      "축하축하\n"
     ]
    }
   ],
   "source": [
    "# 숫자 찾기 게임\n",
    "'''\n",
    "1~100 사이의 정수 맞추기 프로그램\n",
    "(프로그램 안에서 random수가 만들어지고 그 random 수 맞추기)\n",
    "1단계: 숫자를 못 맞추면 up/down 을 출력하고, 맞추면 축하 메시지 출력하고, 종결\n",
    "2단계: 숫자를 못 맞추면 min(0), max(100)을 조정하고, 맞추면 축하메시지 출력, 종결\n",
    "3단계: 2단계의 기회를 5회로 제한 5회의 기회가 지나면 실패 메세지 출력하고 종결\n",
    "        5회 이내에 맞추면 축하메세지 출력하고 종결\n",
    "        (2단계와 3단계는 연습문제)\n",
    "'''\n",
    "import random\n",
    "randomNum = random.randint(1, 100)\n",
    "print(\"컴퓨터가 발생한 random 수:\",randomNum)\n",
    "while True:\n",
    "    inputNum = int(input(\"1~100 사이의 수를 맞추어 보세요:\"))\n",
    "    if (inputNum<1) | (inputNum>100):\n",
    "        print('수의 범위를 벗어났습니다')\n",
    "    elif randomNum <inputNum :\n",
    "        print('DOWN ↓')\n",
    "    elif randomNum >inputNum :\n",
    "        print('UP ↑')\n",
    "    else:\n",
    "        print('축하축하')\n",
    "        break"
   ]
  },
  {
   "cell_type": "code",
   "execution_count": 6,
   "id": "fc961481",
   "metadata": {},
   "outputs": [
    {
     "name": "stdout",
     "output_type": "stream",
     "text": [
      "컴퓨터가 발생한 random 수: 87\n",
      "1~100 사이의 수를 맞추어 보세요:50\n",
      "UP ↑\n",
      "1~100 사이의 수를 맞추어 보세요:87\n",
      "축하축하 맞추셨습니다\n",
      "BYE\n"
     ]
    }
   ],
   "source": [
    "# 숫자 찾기 게임\n",
    "'''\n",
    "1~100 사이의 정수 맞추기 프로그램\n",
    "(프로그램 안에서 random수가 만들어지고 그 random 수 맞추기)\n",
    "1단계: 숫자를 못 맞추면 up/down 을 출력하고, 맞추면 축하 메시지 출력하고, 종결\n",
    "2단계: 숫자를 못 맞추면 min(0), max(100)을 조정하고, 맞추면 축하메시지 출력, 종결\n",
    "3단계: 2단계의 기회를 5회로 제한 5회의 기회가 지나면 실패 메세지 출력하고 종결\n",
    "        5회 이내에 맞추면 축하메세지 출력하고 종결\n",
    "        (2단계와 3단계는 연습문제)\n",
    "'''\n",
    "import random\n",
    "randomNum = random.randint(1, 100)\n",
    "print(\"컴퓨터가 발생한 random 수:\",randomNum)\n",
    "inputNum = -1\n",
    "while randomNum!= inputNum:\n",
    "    inputNum = int(input(\"1~100 사이의 수를 맞추어 보세요:\"))\n",
    "    if (inputNum<1) | (inputNum>100):\n",
    "        print('수의 범위를 벗어났습니다')\n",
    "    elif randomNum <inputNum :\n",
    "        print('DOWN ↓')\n",
    "    elif randomNum >inputNum :\n",
    "        print('UP ↑')\n",
    "else:\n",
    "    print(\"축하축하 맞추셨습니다\")\n",
    "print(\"BYE\")"
   ]
  },
  {
   "cell_type": "markdown",
   "id": "f13fdd2e",
   "metadata": {},
   "source": [
    "# 3절 중첩 루프\n",
    "(반복문 안의 반복문)"
   ]
  },
  {
   "cell_type": "code",
   "execution_count": 8,
   "id": "245446e9",
   "metadata": {},
   "outputs": [
    {
     "name": "stdout",
     "output_type": "stream",
     "text": [
      "2*1=2\t2*2=4\t2*3=6\t2*4=8\t2*5=10\t2*6=12\t2*7=14\t2*8=16\t2*9=18\t\n",
      "3*1=3\t3*2=6\t3*3=9\t3*4=12\t3*5=15\t3*6=18\t3*7=21\t3*8=24\t3*9=27\t\n",
      "4*1=4\t4*2=8\t4*3=12\t4*4=16\t4*5=20\t4*6=24\t4*7=28\t4*8=32\t4*9=36\t\n",
      "5*1=5\t5*2=10\t5*3=15\t5*4=20\t5*5=25\t5*6=30\t5*7=35\t5*8=40\t5*9=45\t\n",
      "6*1=6\t6*2=12\t6*3=18\t6*4=24\t6*5=30\t6*6=36\t6*7=42\t6*8=48\t6*9=54\t\n",
      "7*1=7\t7*2=14\t7*3=21\t7*4=28\t7*5=35\t7*6=42\t7*7=49\t7*8=56\t7*9=63\t\n",
      "8*1=8\t8*2=16\t8*3=24\t8*4=32\t8*5=40\t8*6=48\t8*7=56\t8*8=64\t8*9=72\t\n",
      "9*1=9\t9*2=18\t9*3=27\t9*4=36\t9*5=45\t9*6=54\t9*7=63\t9*8=72\t9*9=81\t\n"
     ]
    }
   ],
   "source": [
    "# 2~9단 구구단 출력\n",
    "for i in range(2, 10):\n",
    "    for j in range(1, 10):\n",
    "        print(\"{}*{}={}\".format(i,j,i*j), end=\"\\t\")\n",
    "    print()"
   ]
  },
  {
   "cell_type": "code",
   "execution_count": 9,
   "id": "167e349b",
   "metadata": {},
   "outputs": [
    {
     "name": "stdout",
     "output_type": "stream",
     "text": [
      "  2단  \t  3단  \t  4단  \t  5단  \t  6단  \t  7단  \t  8단  \t  9단  \t\n",
      "1*1=1\t1*2=2\t1*3=3\t1*4=4\t1*5=5\t1*6=6\t1*7=7\t1*8=8\t1*9=9\t\n",
      "2*1=2\t2*2=4\t2*3=6\t2*4=8\t2*5=10\t2*6=12\t2*7=14\t2*8=16\t2*9=18\t\n",
      "3*1=3\t3*2=6\t3*3=9\t3*4=12\t3*5=15\t3*6=18\t3*7=21\t3*8=24\t3*9=27\t\n",
      "4*1=4\t4*2=8\t4*3=12\t4*4=16\t4*5=20\t4*6=24\t4*7=28\t4*8=32\t4*9=36\t\n",
      "5*1=5\t5*2=10\t5*3=15\t5*4=20\t5*5=25\t5*6=30\t5*7=35\t5*8=40\t5*9=45\t\n",
      "6*1=6\t6*2=12\t6*3=18\t6*4=24\t6*5=30\t6*6=36\t6*7=42\t6*8=48\t6*9=54\t\n",
      "7*1=7\t7*2=14\t7*3=21\t7*4=28\t7*5=35\t7*6=42\t7*7=49\t7*8=56\t7*9=63\t\n",
      "8*1=8\t8*2=16\t8*3=24\t8*4=32\t8*5=40\t8*6=48\t8*7=56\t8*8=64\t8*9=72\t\n",
      "9*1=9\t9*2=18\t9*3=27\t9*4=36\t9*5=45\t9*6=54\t9*7=63\t9*8=72\t9*9=81\t\n"
     ]
    }
   ],
   "source": [
    "# 2~9단 구구단 출력\n",
    "for i in range(2, 10):\n",
    "    print(\"{:^6}\".format(str(i)+'단'), end=\"\\t\")\n",
    "print() # 개행\n",
    "for i in range(1, 10):\n",
    "    for j in range(1, 10):\n",
    "        print(\"{}*{}={}\".format(i,j,i*j), end=\"\\t\")\n",
    "    print()"
   ]
  },
  {
   "cell_type": "code",
   "execution_count": 11,
   "id": "3b7ab923",
   "metadata": {},
   "outputs": [
    {
     "ename": "IndentationError",
     "evalue": "unexpected indent (778403190.py, line 2)",
     "output_type": "error",
     "traceback": [
      "\u001b[1;36m  Cell \u001b[1;32mIn[11], line 2\u001b[1;36m\u001b[0m\n\u001b[1;33m    [5, 6, 7, 8]]\u001b[0m\n\u001b[1;37m    ^\u001b[0m\n\u001b[1;31mIndentationError\u001b[0m\u001b[1;31m:\u001b[0m unexpected indent\n"
     ]
    }
   ],
   "source": [
    "lst_2d =[[1, 2, 3, 4]], \n",
    "         [5, 6, 7, 8]]\n",
    "for i in range(len(lst_2d)): # 행\n",
    "    for j in range(len(lst_2d[i])): # 열\n",
    "        print(\"{}행{}열:0{}\". format(i, j, lst_2d[i][j]), end=\"\\t\")\n",
    "    print()"
   ]
  },
  {
   "cell_type": "code",
   "execution_count": null,
   "id": "94a99baa",
   "metadata": {},
   "outputs": [],
   "source": [
    "# 4절 중첩 루프 탈출\n",
    "  # Exception을 상속받은 class\n",
    "class BreakOutLoopException(Exception):\n",
    "     pass"
   ]
  },
  {
   "cell_type": "code",
   "execution_count": 13,
   "id": "43891e96",
   "metadata": {},
   "outputs": [
    {
     "name": "stdout",
     "output_type": "stream",
     "text": [
      "0 1\n",
      "0 2\n",
      "1 1\n",
      "1 2\n",
      "2 1\n",
      "2 2\n"
     ]
    }
   ],
   "source": [
    "for a in range(0, 3): # a=0일 때, 1일때, 2일때\n",
    "    for b in range(1, 3): # b=1일 때, 2일때\n",
    "        print(a, b)"
   ]
  },
  {
   "cell_type": "code",
   "execution_count": 14,
   "id": "11856e5e",
   "metadata": {},
   "outputs": [
    {
     "name": "stdout",
     "output_type": "stream",
     "text": [
      "0 1\n",
      "0 2\n",
      "2 1\n",
      "DONE\n"
     ]
    }
   ],
   "source": [
    "for a in range(0, 3): # a=0일 때, 1일때, 2일때\n",
    "    for b in range(1, 3): # b=1일 때, 2일때\n",
    "        if a==b:\n",
    "            break\n",
    "        print(a, b)\n",
    "print('DONE')"
   ]
  },
  {
   "cell_type": "code",
   "execution_count": 15,
   "id": "4b81a226",
   "metadata": {},
   "outputs": [
    {
     "name": "stdout",
     "output_type": "stream",
     "text": [
      "0 1\n",
      "0 2\n",
      "a=1, b=1일 때 break함\n",
      "2 1\n",
      "a=2, b=2일 때 break함\n"
     ]
    }
   ],
   "source": [
    "for a in range(0, 3): # a=0일 때, 1일때, 2일때\n",
    "    for b in range(1, 3): # b=1일 때, 2일때\n",
    "        if a==b:\n",
    "            print(\"a={}, b={}일 때 break함\".format(a,b))\n",
    "            break\n",
    "        print(a, b)\n",
    "# break를 만나면 오는 곳"
   ]
  },
  {
   "cell_type": "code",
   "execution_count": 3,
   "id": "f0739b72",
   "metadata": {},
   "outputs": [
    {
     "name": "stdout",
     "output_type": "stream",
     "text": [
      "0 1\n",
      "0 2\n",
      "a=1, b=1일 때 break함\n",
      "1 1\n",
      "1 2\n",
      "2 1\n",
      "a=2, b=2일 때 break함\n",
      "2 2\n"
     ]
    }
   ],
   "source": [
    "try:\n",
    "    for a in range(0, 3): # a=0일 때, 1일때, 2일때\n",
    "        for b in range(1, 3): # b=1일 때, 2일때\n",
    "            if a==b:\n",
    "                print(\"a={}, b={}일 때 break함\".format(a,b))\n",
    "                # 중첩반복문 탈출(강제로 예외발생)\n",
    "                raise Exception(\"중첩반복문 탈출\")\n",
    "            print(a, b)\n",
    "except:\n",
    "    print('DONE')"
   ]
  },
  {
   "cell_type": "code",
   "execution_count": 18,
   "id": "da8df0e9",
   "metadata": {},
   "outputs": [
    {
     "name": "stdout",
     "output_type": "stream",
     "text": [
      "0 1\n",
      "0 2\n",
      "DONE\n"
     ]
    }
   ],
   "source": [
    "# 중첩 루포 탈출 방법1. falg 변수 이용\n",
    "flag = False # berak를 만난면 True\n",
    "for a in range(0, 3): # a=0일 때, 1일때, 2일때\n",
    "    for b in range(1, 3): # b=1일 때, 2일때\n",
    "        if a==b:\n",
    "            flag = True\n",
    "            break\n",
    "        print(a, b)\n",
    "    # break를 만나면 오는 곳\n",
    "    if flag:\n",
    "        break\n",
    "print('DONE')"
   ]
  },
  {
   "cell_type": "code",
   "execution_count": null,
   "id": "34ee5de1",
   "metadata": {},
   "outputs": [],
   "source": [
    "# 중첩 루프 탈출 방법2. 예외(Exception) 처리 이용 - 9월 29일쯤"
   ]
  },
  {
   "cell_type": "markdown",
   "id": "9bd49a20",
   "metadata": {},
   "source": [
    "# 5절 연습문제"
   ]
  },
  {
   "cell_type": "code",
   "execution_count": 19,
   "id": "c84665d9",
   "metadata": {},
   "outputs": [
    {
     "name": "stdout",
     "output_type": "stream",
     "text": [
      "양의 정수를 입력하세요6\n"
     ]
    },
    {
     "data": {
      "text/plain": [
       "'6'"
      ]
     },
     "execution_count": 19,
     "metadata": {},
     "output_type": "execute_result"
    }
   ],
   "source": [
    "num=input('양의 정수를 입력하세요')\n",
    "num"
   ]
  },
  {
   "cell_type": "code",
   "execution_count": 21,
   "id": "dd277fa6",
   "metadata": {},
   "outputs": [
    {
     "name": "stdout",
     "output_type": "stream",
     "text": [
      "양의 정수를 입력하세요9\n",
      "inputStar이 정수인지 여부 : True\n"
     ]
    }
   ],
   "source": [
    "inputStar=input('양의 정수를 입력하세요')\n",
    "print('inputStar이 정수인지 여부 :', inputStar.isdigit())"
   ]
  },
  {
   "cell_type": "markdown",
   "id": "2725c803",
   "metadata": {},
   "source": [
    "# 연습문제"
   ]
  },
  {
   "cell_type": "code",
   "execution_count": null,
   "id": "457541d2",
   "metadata": {},
   "outputs": [],
   "source": [
    "# 1. 양의 정수를 입력 받아 홀수인지 짝수인지를 판별하는 프로그램을 작성하세요. \n",
    "# 양의 정수가 아니면 숫자를 다시 입력 받아야 합니다\n",
    "# 2.중첩 for 문을 이용하여 아래 패턴의 별을 출력하는 프로그램을 작성하세요. \n",
    "\n",
    "1. 홀수/짝수 판별\n",
    "num = int(input(\"양의 정수를 입력하세요: \"))\n",
    "\n",
    "if num <= 0:\n",
    "    print(\"잘못 입력하셨습니다.\")\n",
    "elif num % 2 == 0:\n",
    "    print(f\"{num}은(는) 짝수입니다.\")\n",
    "else:\n",
    "    print(f\"{num}은(는) 홀수입니다.\")\n",
    "\n",
    "# 2. 별 패턴 출력\n",
    "print(\"\\n(1) 패턴\")\n",
    "for i in range(4):      # 4행\n",
    "    for j in range(5):  # 5열\n",
    "        print(\"*\", end=\"\")\n",
    "    print()\n",
    "\n",
    "print(\"\\n(2) 패턴\")\n",
    "for i in range(1, 6):   # 1행부터 5행까지\n",
    "    for j in range(i):  # 행 번호만큼 별 출력\n",
    "        print(\"*\", end=\"\")\n",
    "    print()"
   ]
  },
  {
   "cell_type": "code",
   "execution_count": 22,
   "id": "b56749b8",
   "metadata": {},
   "outputs": [
    {
     "name": "stdout",
     "output_type": "stream",
     "text": [
      "양의 정수를 입력하세요: 2\n",
      "2은(는) 짝수입니다.\n"
     ]
    }
   ],
   "source": [
    "# 1. 홀수/짝수 판별\n",
    "num = int(input(\"양의 정수를 입력하세요: \"))\n",
    "\n",
    "if num <= 0:\n",
    "    print(\"잘못 입력하셨습니다.\")\n",
    "elif num % 2 == 0:\n",
    "    print(f\"{num}은(는) 짝수입니다.\")\n",
    "else:\n",
    "    print(f\"{num}은(는) 홀수입니다.\")"
   ]
  },
  {
   "cell_type": "code",
   "execution_count": 24,
   "id": "6cb812cf",
   "metadata": {},
   "outputs": [
    {
     "name": "stdout",
     "output_type": "stream",
     "text": [
      "\n",
      "(1) 패턴\n",
      "*****\n",
      "*****\n",
      "*****\n",
      "*****\n",
      "*****\n"
     ]
    }
   ],
   "source": [
    "# 2. 별 패턴 출력\n",
    "print(\"\\n(1) 패턴\")\n",
    "for i in range(5):      # 5행\n",
    "    for j in range(5):  # 5열\n",
    "        print(\"*\", end=\"\")\n",
    "    print()"
   ]
  },
  {
   "cell_type": "code",
   "execution_count": 25,
   "id": "00272447",
   "metadata": {},
   "outputs": [
    {
     "name": "stdout",
     "output_type": "stream",
     "text": [
      "\n",
      "(2) 패턴\n",
      "*\n",
      "**\n",
      "***\n",
      "****\n",
      "*****\n"
     ]
    }
   ],
   "source": [
    "# 2. 별 패턴 출력\n",
    "print(\"\\n(2) 패턴\")\n",
    "for i in range(1, 6):   # 1행부터 5행까지\n",
    "    for j in range(i):  # 행 번호만큼 별 출력\n",
    "        print(\"*\", end=\"\")\n",
    "    print()"
   ]
  },
  {
   "cell_type": "code",
   "execution_count": 27,
   "id": "77049349",
   "metadata": {},
   "outputs": [
    {
     "ename": "SyntaxError",
     "evalue": "invalid syntax (3098349244.py, line 2)",
     "output_type": "error",
     "traceback": [
      "\u001b[1;36m  Cell \u001b[1;32mIn[27], line 2\u001b[1;36m\u001b[0m\n\u001b[1;33m    다음 코드는 1 부터 30 까지 (30 포함 ) 자연수 중에서 3 의 배수의 총 합\u001b[0m\n\u001b[1;37m       ^\u001b[0m\n\u001b[1;31mSyntaxError\u001b[0m\u001b[1;31m:\u001b[0m invalid syntax\n"
     ]
    }
   ],
   "source": [
    "# 연습 문제 3.\n",
    "다음 코드는 1 부터 30 까지 (30 포함 ) 자연수 중에서 3 의 배수의 총 합\n",
    "을 출력하는 프로그램입니다 . 빈칸의 코드를 완성하시오.  range(1, 31), i%3=0\n",
    "sum = 0\n",
    "for i in range(1, 31):\n",
    "    if i%3=0:\n",
    "        sum = sum + i\n",
    "    else:\n",
    "        pass\n",
    "print(sum)"
   ]
  },
  {
   "cell_type": "code",
   "execution_count": null,
   "id": "75f4e962",
   "metadata": {},
   "outputs": [],
   "source": [
    "# 연습문제 4. 다음 코드의 실행결과가 “1 3 5 7 가 되도록 빈칸을 완성하시오. while\n",
    "num = 0\n",
    "while num <=7:\n",
    "    if num%2 :\n",
    "        print(num, end=‘ ’)\n",
    "    num += 1"
   ]
  },
  {
   "cell_type": "code",
   "execution_count": null,
   "id": "35c50cd7",
   "metadata": {},
   "outputs": [],
   "source": [
    "# 연습문제 5. 다음 2 차원 리스트의 모든 값을 출력하는 코드입니다 . 빈칸을 완성하시오, for date in row\n",
    "list2d = [ [1,2,3],[4,5,6,7],[8,9]]\n",
    "for row in list2d:\n",
    "    for date in row:\n",
    "        print(data, end=‘ ’)\n",
    "    print()\n",
    "결과\n",
    "1 2 3\n",
    "4 5 6 7\n",
    "8 9"
   ]
  },
  {
   "cell_type": "code",
   "execution_count": null,
   "id": "0841e7ef",
   "metadata": {},
   "outputs": [],
   "source": [
    "# 연습문제 6.다음 빈칸에 들어갈 함수 이름은: enumerate, values\n",
    "colors = {\" red\":'apple ', yellow\":'banana\n",
    "for i , v in enumerate(colors.values()):\n",
    "    print(i, v)\n",
    "0 apple\n",
    "1 banana"
   ]
  },
  {
   "cell_type": "code",
   "execution_count": 35,
   "id": "cf332dbf",
   "metadata": {},
   "outputs": [
    {
     "name": "stdout",
     "output_type": "stream",
     "text": [
      "1 1\n"
     ]
    }
   ],
   "source": [
    "# 연습문제 7. 다음 코드의 실행결과는? 11\n",
    "for i in range(0, 2):\n",
    "    for j in range(0,2):\n",
    "        if i ==j:\n",
    "            break\n",
    "print(i,j)"
   ]
  },
  {
   "cell_type": "code",
   "execution_count": 31,
   "id": "ce43b3a5",
   "metadata": {},
   "outputs": [
    {
     "name": "stdout",
     "output_type": "stream",
     "text": [
      "0 0\n",
      "1 0\n",
      "1 1\n"
     ]
    }
   ],
   "source": [
    "# 연습문제 8. 다음 코드의 실행 결과로 출력될 수 없는 것은? 2번 01\n",
    "for i in range(0, 2):\n",
    "    for j in range(0,2):\n",
    "        print(i, j)\n",
    "        if i ==j:\n",
    "            break\n",
    "# 1번 00 2번 01 3번 10 4번 11"
   ]
  },
  {
   "cell_type": "code",
   "execution_count": 34,
   "id": "3aac519f",
   "metadata": {},
   "outputs": [
    {
     "name": "stdout",
     "output_type": "stream",
     "text": [
      "3579"
     ]
    }
   ],
   "source": [
    "# 연습문제 9.다음 코드의 실행결과는? 3579\n",
    "L = [3, 4, 5, 6, 7, 8, 9, 10]\n",
    "for i, data in enumerate(L):\n",
    "    if i%2 == 0:\n",
    "        print(data, end='')"
   ]
  },
  {
   "cell_type": "code",
   "execution_count": null,
   "id": "3a4636e5",
   "metadata": {},
   "outputs": [],
   "source": [
    "# 연습문제 10. 1~100사이의 정수를 맞추는 프로그램을 구현하시오.\n",
    "#(프로그램안에 임의의 숫자가 만들어지고 그 숫자를 맞추도록 합니다.\n",
    "# 1단계. 입력된 숫자가 틀리면 UP/DOWN 메시지를 출력하고 숫자를 맞추면 축하메세지와 함께 종료합니다 맞출 때까지 반복)\n",
    "# 난수 발생 코드\n",
    "import random\n",
    "#random.seed (21) # seed 값을 넣어주면 랜덤수가 같다\n",
    "print(random.randint (1,100)"
   ]
  },
  {
   "cell_type": "code",
   "execution_count": null,
   "id": "a9df9a4d",
   "metadata": {},
   "outputs": [],
   "source": []
  },
  {
   "cell_type": "code",
   "execution_count": null,
   "id": "51f5cdc7",
   "metadata": {},
   "outputs": [],
   "source": []
  },
  {
   "cell_type": "code",
   "execution_count": null,
   "id": "60a51aa2",
   "metadata": {},
   "outputs": [],
   "source": []
  },
  {
   "cell_type": "code",
   "execution_count": null,
   "id": "f14cc625",
   "metadata": {},
   "outputs": [],
   "source": []
  },
  {
   "cell_type": "code",
   "execution_count": null,
   "id": "95279d73",
   "metadata": {},
   "outputs": [],
   "source": []
  },
  {
   "cell_type": "code",
   "execution_count": null,
   "id": "f4500fd6",
   "metadata": {},
   "outputs": [],
   "source": []
  },
  {
   "cell_type": "code",
   "execution_count": null,
   "id": "bcc7c925",
   "metadata": {},
   "outputs": [],
   "source": []
  },
  {
   "cell_type": "code",
   "execution_count": null,
   "id": "33693656",
   "metadata": {},
   "outputs": [],
   "source": []
  },
  {
   "cell_type": "code",
   "execution_count": null,
   "id": "a3aba617",
   "metadata": {},
   "outputs": [],
   "source": []
  },
  {
   "cell_type": "code",
   "execution_count": null,
   "id": "06e63953",
   "metadata": {},
   "outputs": [],
   "source": []
  },
  {
   "cell_type": "code",
   "execution_count": null,
   "id": "e42703e3",
   "metadata": {},
   "outputs": [],
   "source": []
  },
  {
   "cell_type": "code",
   "execution_count": null,
   "id": "cb5acc40",
   "metadata": {},
   "outputs": [],
   "source": []
  },
  {
   "cell_type": "code",
   "execution_count": null,
   "id": "0d9e10fd",
   "metadata": {},
   "outputs": [],
   "source": []
  },
  {
   "cell_type": "code",
   "execution_count": null,
   "id": "f278636b",
   "metadata": {},
   "outputs": [],
   "source": []
  },
  {
   "cell_type": "code",
   "execution_count": null,
   "id": "7ab3f5a1",
   "metadata": {},
   "outputs": [],
   "source": []
  },
  {
   "cell_type": "code",
   "execution_count": null,
   "id": "7f83ba59",
   "metadata": {},
   "outputs": [],
   "source": []
  },
  {
   "cell_type": "code",
   "execution_count": null,
   "id": "d2dd47c9",
   "metadata": {},
   "outputs": [],
   "source": []
  },
  {
   "cell_type": "code",
   "execution_count": null,
   "id": "67307992",
   "metadata": {},
   "outputs": [],
   "source": []
  },
  {
   "cell_type": "code",
   "execution_count": null,
   "id": "3eca69a5",
   "metadata": {},
   "outputs": [],
   "source": []
  },
  {
   "cell_type": "code",
   "execution_count": null,
   "id": "ebf6779b",
   "metadata": {},
   "outputs": [],
   "source": []
  },
  {
   "cell_type": "code",
   "execution_count": null,
   "id": "350792b6",
   "metadata": {},
   "outputs": [],
   "source": []
  },
  {
   "cell_type": "code",
   "execution_count": null,
   "id": "8f146164",
   "metadata": {},
   "outputs": [],
   "source": []
  },
  {
   "cell_type": "code",
   "execution_count": null,
   "id": "718871af",
   "metadata": {},
   "outputs": [],
   "source": []
  },
  {
   "cell_type": "code",
   "execution_count": null,
   "id": "2892f58e",
   "metadata": {},
   "outputs": [],
   "source": []
  },
  {
   "cell_type": "code",
   "execution_count": null,
   "id": "b7b14cb8",
   "metadata": {},
   "outputs": [],
   "source": []
  },
  {
   "cell_type": "code",
   "execution_count": null,
   "id": "9a1d7cc0",
   "metadata": {},
   "outputs": [],
   "source": []
  },
  {
   "cell_type": "code",
   "execution_count": null,
   "id": "4110b320",
   "metadata": {},
   "outputs": [],
   "source": []
  },
  {
   "cell_type": "code",
   "execution_count": null,
   "id": "377df504",
   "metadata": {},
   "outputs": [],
   "source": []
  },
  {
   "cell_type": "code",
   "execution_count": null,
   "id": "e4051cb7",
   "metadata": {},
   "outputs": [],
   "source": []
  },
  {
   "cell_type": "code",
   "execution_count": null,
   "id": "d8fb8237",
   "metadata": {},
   "outputs": [],
   "source": []
  },
  {
   "cell_type": "code",
   "execution_count": null,
   "id": "070138d0",
   "metadata": {},
   "outputs": [],
   "source": []
  },
  {
   "cell_type": "code",
   "execution_count": null,
   "id": "0725082e",
   "metadata": {},
   "outputs": [],
   "source": []
  },
  {
   "cell_type": "code",
   "execution_count": null,
   "id": "748480f9",
   "metadata": {},
   "outputs": [],
   "source": []
  },
  {
   "cell_type": "code",
   "execution_count": null,
   "id": "2a3ddbea",
   "metadata": {},
   "outputs": [],
   "source": []
  },
  {
   "cell_type": "code",
   "execution_count": null,
   "id": "76f5ab70",
   "metadata": {},
   "outputs": [],
   "source": []
  },
  {
   "cell_type": "code",
   "execution_count": null,
   "id": "ac1b8cac",
   "metadata": {},
   "outputs": [],
   "source": []
  },
  {
   "cell_type": "code",
   "execution_count": null,
   "id": "f410c507",
   "metadata": {},
   "outputs": [],
   "source": []
  },
  {
   "cell_type": "code",
   "execution_count": null,
   "id": "0bca99fe",
   "metadata": {},
   "outputs": [],
   "source": []
  },
  {
   "cell_type": "code",
   "execution_count": null,
   "id": "e3fe7161",
   "metadata": {},
   "outputs": [],
   "source": []
  },
  {
   "cell_type": "code",
   "execution_count": null,
   "id": "4b86f1b4",
   "metadata": {},
   "outputs": [],
   "source": []
  },
  {
   "cell_type": "code",
   "execution_count": null,
   "id": "8321db24",
   "metadata": {},
   "outputs": [],
   "source": []
  },
  {
   "cell_type": "code",
   "execution_count": null,
   "id": "b22b5b97",
   "metadata": {},
   "outputs": [],
   "source": []
  },
  {
   "cell_type": "code",
   "execution_count": null,
   "id": "ddfd73eb",
   "metadata": {},
   "outputs": [],
   "source": []
  },
  {
   "cell_type": "code",
   "execution_count": null,
   "id": "8f354ff9",
   "metadata": {},
   "outputs": [],
   "source": []
  },
  {
   "cell_type": "code",
   "execution_count": null,
   "id": "bb64eabb",
   "metadata": {},
   "outputs": [],
   "source": []
  },
  {
   "cell_type": "code",
   "execution_count": null,
   "id": "e81c5122",
   "metadata": {},
   "outputs": [],
   "source": []
  },
  {
   "cell_type": "code",
   "execution_count": null,
   "id": "54904d3e",
   "metadata": {},
   "outputs": [],
   "source": []
  },
  {
   "cell_type": "code",
   "execution_count": null,
   "id": "f383a7c6",
   "metadata": {},
   "outputs": [],
   "source": []
  },
  {
   "cell_type": "code",
   "execution_count": null,
   "id": "39767e87",
   "metadata": {},
   "outputs": [],
   "source": []
  },
  {
   "cell_type": "code",
   "execution_count": null,
   "id": "17fa9dbe",
   "metadata": {},
   "outputs": [],
   "source": []
  },
  {
   "cell_type": "code",
   "execution_count": null,
   "id": "9085ba18",
   "metadata": {},
   "outputs": [],
   "source": []
  },
  {
   "cell_type": "code",
   "execution_count": null,
   "id": "e2446523",
   "metadata": {},
   "outputs": [],
   "source": []
  },
  {
   "cell_type": "code",
   "execution_count": null,
   "id": "19006611",
   "metadata": {},
   "outputs": [],
   "source": []
  },
  {
   "cell_type": "code",
   "execution_count": null,
   "id": "43c567ff",
   "metadata": {},
   "outputs": [],
   "source": []
  },
  {
   "cell_type": "code",
   "execution_count": null,
   "id": "844921ba",
   "metadata": {},
   "outputs": [],
   "source": []
  },
  {
   "cell_type": "code",
   "execution_count": null,
   "id": "d210dfa8",
   "metadata": {},
   "outputs": [],
   "source": []
  },
  {
   "cell_type": "code",
   "execution_count": null,
   "id": "3d0e343d",
   "metadata": {},
   "outputs": [],
   "source": []
  },
  {
   "cell_type": "code",
   "execution_count": null,
   "id": "e83b1a49",
   "metadata": {},
   "outputs": [],
   "source": []
  },
  {
   "cell_type": "code",
   "execution_count": null,
   "id": "b7f8af6d",
   "metadata": {},
   "outputs": [],
   "source": []
  },
  {
   "cell_type": "code",
   "execution_count": null,
   "id": "2f42156f",
   "metadata": {},
   "outputs": [],
   "source": []
  },
  {
   "cell_type": "code",
   "execution_count": null,
   "id": "90857daf",
   "metadata": {},
   "outputs": [],
   "source": []
  },
  {
   "cell_type": "code",
   "execution_count": null,
   "id": "7f61e932",
   "metadata": {},
   "outputs": [],
   "source": []
  },
  {
   "cell_type": "code",
   "execution_count": null,
   "id": "649136cc",
   "metadata": {},
   "outputs": [],
   "source": []
  },
  {
   "cell_type": "code",
   "execution_count": null,
   "id": "8084c36b",
   "metadata": {},
   "outputs": [],
   "source": []
  },
  {
   "cell_type": "code",
   "execution_count": null,
   "id": "4edce43b",
   "metadata": {},
   "outputs": [],
   "source": []
  },
  {
   "cell_type": "code",
   "execution_count": null,
   "id": "9eb137d7",
   "metadata": {},
   "outputs": [],
   "source": []
  },
  {
   "cell_type": "code",
   "execution_count": null,
   "id": "9e3a3fcc",
   "metadata": {},
   "outputs": [],
   "source": []
  },
  {
   "cell_type": "code",
   "execution_count": null,
   "id": "64b4ea05",
   "metadata": {},
   "outputs": [],
   "source": []
  },
  {
   "cell_type": "code",
   "execution_count": null,
   "id": "98189a7d",
   "metadata": {},
   "outputs": [],
   "source": []
  },
  {
   "cell_type": "code",
   "execution_count": null,
   "id": "d76272be",
   "metadata": {},
   "outputs": [],
   "source": []
  },
  {
   "cell_type": "code",
   "execution_count": null,
   "id": "6c4f35e0",
   "metadata": {},
   "outputs": [],
   "source": []
  },
  {
   "cell_type": "code",
   "execution_count": null,
   "id": "55bef8c3",
   "metadata": {},
   "outputs": [],
   "source": []
  },
  {
   "cell_type": "code",
   "execution_count": null,
   "id": "c897f4e8",
   "metadata": {},
   "outputs": [],
   "source": []
  },
  {
   "cell_type": "code",
   "execution_count": null,
   "id": "155135c9",
   "metadata": {},
   "outputs": [],
   "source": []
  },
  {
   "cell_type": "code",
   "execution_count": null,
   "id": "df668268",
   "metadata": {},
   "outputs": [],
   "source": []
  },
  {
   "cell_type": "code",
   "execution_count": null,
   "id": "817ac93f",
   "metadata": {},
   "outputs": [],
   "source": []
  },
  {
   "cell_type": "code",
   "execution_count": null,
   "id": "04da4e0f",
   "metadata": {},
   "outputs": [],
   "source": []
  },
  {
   "cell_type": "code",
   "execution_count": null,
   "id": "1d62954d",
   "metadata": {},
   "outputs": [],
   "source": []
  },
  {
   "cell_type": "code",
   "execution_count": null,
   "id": "7aa077e5",
   "metadata": {},
   "outputs": [],
   "source": []
  },
  {
   "cell_type": "code",
   "execution_count": null,
   "id": "ef6609e8",
   "metadata": {},
   "outputs": [],
   "source": []
  },
  {
   "cell_type": "code",
   "execution_count": null,
   "id": "917f1727",
   "metadata": {},
   "outputs": [],
   "source": []
  },
  {
   "cell_type": "code",
   "execution_count": null,
   "id": "d73a3999",
   "metadata": {},
   "outputs": [],
   "source": []
  },
  {
   "cell_type": "code",
   "execution_count": null,
   "id": "9d61a8ac",
   "metadata": {},
   "outputs": [],
   "source": []
  },
  {
   "cell_type": "code",
   "execution_count": null,
   "id": "6d76f488",
   "metadata": {},
   "outputs": [],
   "source": []
  },
  {
   "cell_type": "code",
   "execution_count": null,
   "id": "1bc5cd6a",
   "metadata": {},
   "outputs": [],
   "source": []
  },
  {
   "cell_type": "code",
   "execution_count": null,
   "id": "2c3548a0",
   "metadata": {},
   "outputs": [],
   "source": []
  },
  {
   "cell_type": "code",
   "execution_count": null,
   "id": "ea8a7823",
   "metadata": {},
   "outputs": [],
   "source": []
  },
  {
   "cell_type": "code",
   "execution_count": null,
   "id": "e6e368aa",
   "metadata": {},
   "outputs": [],
   "source": []
  },
  {
   "cell_type": "code",
   "execution_count": null,
   "id": "b47e0bd4",
   "metadata": {},
   "outputs": [],
   "source": []
  },
  {
   "cell_type": "code",
   "execution_count": null,
   "id": "1bf58e0f",
   "metadata": {},
   "outputs": [],
   "source": []
  },
  {
   "cell_type": "code",
   "execution_count": null,
   "id": "14916888",
   "metadata": {},
   "outputs": [],
   "source": []
  },
  {
   "cell_type": "code",
   "execution_count": null,
   "id": "b51890c4",
   "metadata": {},
   "outputs": [],
   "source": []
  },
  {
   "cell_type": "code",
   "execution_count": null,
   "id": "a671d755",
   "metadata": {},
   "outputs": [],
   "source": []
  },
  {
   "cell_type": "code",
   "execution_count": null,
   "id": "938fa5b6",
   "metadata": {},
   "outputs": [],
   "source": []
  },
  {
   "cell_type": "code",
   "execution_count": null,
   "id": "c70165a2",
   "metadata": {},
   "outputs": [],
   "source": []
  },
  {
   "cell_type": "code",
   "execution_count": null,
   "id": "a1df78e0",
   "metadata": {},
   "outputs": [],
   "source": []
  },
  {
   "cell_type": "code",
   "execution_count": null,
   "id": "4de49336",
   "metadata": {},
   "outputs": [],
   "source": []
  },
  {
   "cell_type": "code",
   "execution_count": null,
   "id": "415f3546",
   "metadata": {},
   "outputs": [],
   "source": []
  },
  {
   "cell_type": "code",
   "execution_count": null,
   "id": "969d432d",
   "metadata": {},
   "outputs": [],
   "source": []
  },
  {
   "cell_type": "code",
   "execution_count": null,
   "id": "4958fef7",
   "metadata": {},
   "outputs": [],
   "source": []
  },
  {
   "cell_type": "code",
   "execution_count": null,
   "id": "1d1557d8",
   "metadata": {},
   "outputs": [],
   "source": []
  },
  {
   "cell_type": "code",
   "execution_count": null,
   "id": "b2b3bd0f",
   "metadata": {},
   "outputs": [],
   "source": []
  },
  {
   "cell_type": "code",
   "execution_count": null,
   "id": "0f8699be",
   "metadata": {},
   "outputs": [],
   "source": []
  },
  {
   "cell_type": "code",
   "execution_count": null,
   "id": "3a46941c",
   "metadata": {},
   "outputs": [],
   "source": []
  },
  {
   "cell_type": "code",
   "execution_count": null,
   "id": "e3f84f4e",
   "metadata": {},
   "outputs": [],
   "source": []
  },
  {
   "cell_type": "code",
   "execution_count": null,
   "id": "92324292",
   "metadata": {},
   "outputs": [],
   "source": []
  },
  {
   "cell_type": "code",
   "execution_count": null,
   "id": "b141b758",
   "metadata": {},
   "outputs": [],
   "source": []
  },
  {
   "cell_type": "code",
   "execution_count": null,
   "id": "09ccf703",
   "metadata": {},
   "outputs": [],
   "source": []
  },
  {
   "cell_type": "code",
   "execution_count": null,
   "id": "3ad61e91",
   "metadata": {},
   "outputs": [],
   "source": []
  },
  {
   "cell_type": "code",
   "execution_count": null,
   "id": "423dd9e2",
   "metadata": {},
   "outputs": [],
   "source": []
  },
  {
   "cell_type": "code",
   "execution_count": null,
   "id": "59fbc450",
   "metadata": {},
   "outputs": [],
   "source": []
  },
  {
   "cell_type": "code",
   "execution_count": null,
   "id": "8c9513ec",
   "metadata": {},
   "outputs": [],
   "source": []
  },
  {
   "cell_type": "code",
   "execution_count": null,
   "id": "975c8857",
   "metadata": {},
   "outputs": [],
   "source": []
  },
  {
   "cell_type": "code",
   "execution_count": null,
   "id": "faa054d9",
   "metadata": {},
   "outputs": [],
   "source": []
  },
  {
   "cell_type": "code",
   "execution_count": null,
   "id": "0f06b7b0",
   "metadata": {},
   "outputs": [],
   "source": []
  },
  {
   "cell_type": "code",
   "execution_count": null,
   "id": "77fe3e77",
   "metadata": {},
   "outputs": [],
   "source": []
  },
  {
   "cell_type": "code",
   "execution_count": null,
   "id": "8c1e354d",
   "metadata": {},
   "outputs": [],
   "source": []
  },
  {
   "cell_type": "code",
   "execution_count": null,
   "id": "46969cce",
   "metadata": {},
   "outputs": [],
   "source": []
  },
  {
   "cell_type": "code",
   "execution_count": null,
   "id": "51591026",
   "metadata": {},
   "outputs": [],
   "source": []
  },
  {
   "cell_type": "code",
   "execution_count": null,
   "id": "bb11df24",
   "metadata": {},
   "outputs": [],
   "source": []
  },
  {
   "cell_type": "code",
   "execution_count": null,
   "id": "608e04a6",
   "metadata": {},
   "outputs": [],
   "source": []
  },
  {
   "cell_type": "code",
   "execution_count": null,
   "id": "f4e17a1f",
   "metadata": {},
   "outputs": [],
   "source": []
  },
  {
   "cell_type": "code",
   "execution_count": null,
   "id": "90cec1fe",
   "metadata": {},
   "outputs": [],
   "source": []
  },
  {
   "cell_type": "code",
   "execution_count": null,
   "id": "fc39dbfc",
   "metadata": {},
   "outputs": [],
   "source": []
  },
  {
   "cell_type": "code",
   "execution_count": null,
   "id": "d7aa3719",
   "metadata": {},
   "outputs": [],
   "source": []
  },
  {
   "cell_type": "code",
   "execution_count": null,
   "id": "6cd8b2e0",
   "metadata": {},
   "outputs": [],
   "source": []
  },
  {
   "cell_type": "code",
   "execution_count": null,
   "id": "eda0b3e0",
   "metadata": {},
   "outputs": [],
   "source": []
  },
  {
   "cell_type": "code",
   "execution_count": null,
   "id": "24f8b56b",
   "metadata": {},
   "outputs": [],
   "source": []
  },
  {
   "cell_type": "code",
   "execution_count": null,
   "id": "ceadde77",
   "metadata": {},
   "outputs": [],
   "source": []
  },
  {
   "cell_type": "code",
   "execution_count": null,
   "id": "7711a4b9",
   "metadata": {},
   "outputs": [],
   "source": []
  },
  {
   "cell_type": "code",
   "execution_count": null,
   "id": "e4b9672e",
   "metadata": {},
   "outputs": [],
   "source": []
  },
  {
   "cell_type": "code",
   "execution_count": null,
   "id": "3c4a157b",
   "metadata": {},
   "outputs": [],
   "source": []
  },
  {
   "cell_type": "code",
   "execution_count": null,
   "id": "ba021e98",
   "metadata": {},
   "outputs": [],
   "source": []
  },
  {
   "cell_type": "code",
   "execution_count": null,
   "id": "e86796b4",
   "metadata": {},
   "outputs": [],
   "source": []
  },
  {
   "cell_type": "code",
   "execution_count": null,
   "id": "6b9cc23a",
   "metadata": {},
   "outputs": [],
   "source": []
  },
  {
   "cell_type": "code",
   "execution_count": null,
   "id": "baa45276",
   "metadata": {},
   "outputs": [],
   "source": []
  },
  {
   "cell_type": "code",
   "execution_count": null,
   "id": "0f301a59",
   "metadata": {},
   "outputs": [],
   "source": []
  },
  {
   "cell_type": "code",
   "execution_count": null,
   "id": "521aa109",
   "metadata": {},
   "outputs": [],
   "source": []
  },
  {
   "cell_type": "code",
   "execution_count": null,
   "id": "45ea6b2e",
   "metadata": {},
   "outputs": [],
   "source": []
  },
  {
   "cell_type": "code",
   "execution_count": null,
   "id": "755cc241",
   "metadata": {},
   "outputs": [],
   "source": []
  },
  {
   "cell_type": "code",
   "execution_count": null,
   "id": "d2f1f71e",
   "metadata": {},
   "outputs": [],
   "source": []
  },
  {
   "cell_type": "code",
   "execution_count": null,
   "id": "d1a58bbb",
   "metadata": {},
   "outputs": [],
   "source": []
  },
  {
   "cell_type": "code",
   "execution_count": null,
   "id": "6c1d212f",
   "metadata": {},
   "outputs": [],
   "source": []
  },
  {
   "cell_type": "code",
   "execution_count": null,
   "id": "84e5bf30",
   "metadata": {},
   "outputs": [],
   "source": []
  },
  {
   "cell_type": "code",
   "execution_count": null,
   "id": "ddcfe3da",
   "metadata": {},
   "outputs": [],
   "source": []
  },
  {
   "cell_type": "code",
   "execution_count": null,
   "id": "c3f19923",
   "metadata": {},
   "outputs": [],
   "source": []
  },
  {
   "cell_type": "code",
   "execution_count": null,
   "id": "68c94cb0",
   "metadata": {},
   "outputs": [],
   "source": []
  },
  {
   "cell_type": "code",
   "execution_count": null,
   "id": "9536c292",
   "metadata": {},
   "outputs": [],
   "source": []
  },
  {
   "cell_type": "code",
   "execution_count": null,
   "id": "5910b5fb",
   "metadata": {},
   "outputs": [],
   "source": []
  },
  {
   "cell_type": "code",
   "execution_count": null,
   "id": "bbaf7bca",
   "metadata": {},
   "outputs": [],
   "source": []
  },
  {
   "cell_type": "code",
   "execution_count": null,
   "id": "09673616",
   "metadata": {},
   "outputs": [],
   "source": []
  },
  {
   "cell_type": "code",
   "execution_count": null,
   "id": "eadcc79f",
   "metadata": {},
   "outputs": [],
   "source": []
  },
  {
   "cell_type": "code",
   "execution_count": null,
   "id": "8607108f",
   "metadata": {},
   "outputs": [],
   "source": []
  },
  {
   "cell_type": "code",
   "execution_count": null,
   "id": "cb892215",
   "metadata": {},
   "outputs": [],
   "source": []
  },
  {
   "cell_type": "code",
   "execution_count": null,
   "id": "688b519d",
   "metadata": {},
   "outputs": [],
   "source": []
  },
  {
   "cell_type": "code",
   "execution_count": null,
   "id": "03cd26a1",
   "metadata": {},
   "outputs": [],
   "source": []
  },
  {
   "cell_type": "code",
   "execution_count": null,
   "id": "6ee61b6d",
   "metadata": {},
   "outputs": [],
   "source": []
  },
  {
   "cell_type": "code",
   "execution_count": null,
   "id": "51d6212e",
   "metadata": {},
   "outputs": [],
   "source": []
  }
 ],
 "metadata": {
  "kernelspec": {
   "display_name": "Python 3 (ipykernel)",
   "language": "python",
   "name": "python3"
  },
  "language_info": {
   "codemirror_mode": {
    "name": "ipython",
    "version": 3
   },
   "file_extension": ".py",
   "mimetype": "text/x-python",
   "name": "python",
   "nbconvert_exporter": "python",
   "pygments_lexer": "ipython3",
   "version": "3.10.9"
  },
  "toc": {
   "base_numbering": 1,
   "nav_menu": {},
   "number_sections": false,
   "sideBar": true,
   "skip_h1_title": false,
   "title_cell": "Table of Contents",
   "title_sidebar": "Contents",
   "toc_cell": false,
   "toc_position": {},
   "toc_section_display": true,
   "toc_window_display": false
  }
 },
 "nbformat": 4,
 "nbformat_minor": 5
}
