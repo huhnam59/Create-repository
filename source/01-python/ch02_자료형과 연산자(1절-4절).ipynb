{
 "cells": [
  {
   "cell_type": "code",
   "execution_count": 36,
   "id": "3ee95d76",
   "metadata": {},
   "outputs": [
    {
     "ename": "SyntaxError",
     "evalue": "invalid syntax (1203975281.py, line 16)",
     "output_type": "error",
     "traceback": [
      "\u001b[1;36m  Cell \u001b[1;32mIn[36], line 16\u001b[1;36m\u001b[0m\n\u001b[1;33m    \"\"\"))n\u001b[0m\n\u001b[1;37m         ^\u001b[0m\n\u001b[1;31mSyntaxError\u001b[0m\u001b[1;31m:\u001b[0m invalid syntax\n"
     ]
    }
   ],
   "source": [
    "from IPython.display import display, HTML\n",
    "display(HTML(\"\"\"\n",
    "<style>\n",
    "div.container{width:90% !important;}\n",
    "div.cell.code_cell.rendered{width:100%;}\n",
    "div.input_prompt{padding:0px;}\n",
    "div.CodeMirror {font-family:Consolas; font-size:22pt;}\n",
    "div.text_cell_render.rendered_html{font-size:22pt;}\n",
    "div.output {font-size:22pt; font-weight:bold;}\n",
    "div.input {font-family:Consolas; font-size:22pt;}\n",
    "div.prompt {min-width:100px;}\n",
    "div#toc-wrapper{padding-top:120px;}\n",
    "div.text_cell_render ul li{font-size:22pt;padding:5px;}\n",
    "table.dataframe{font-size:22px;}\n",
    "</style>\n",
    "\"\"\"))n"
   ]
  },
  {
   "cell_type": "markdown",
   "id": "ed6333bb",
   "metadata": {},
   "source": [
    "<b><font size=\"7\" color=\"red\">ch02. 자료형과 연산자</font></b>\n",
    "# 1절. 변수\n",
    "- 변수 : 프로그램 작업 처리를 위해, 값을 저장할 수 있는 메모리 공간\n",
    "- 파이썬은 변수 선언을 위한 타입이 없고, 별도의 선언 과정도 없음\n",
    "\n",
    "## 1.1 변수 할당\n",
    "- 할당연산자(=)을 이용해서 값을 할당하면 자료형(타입)이 셋팅\n",
    "- **파이썬에서의 모든 변수는 객체로 저장**"
   ]
  },
  {
   "cell_type": "code",
   "execution_count": 2,
   "id": "f0d858ba",
   "metadata": {},
   "outputs": [
    {
     "name": "stdout",
     "output_type": "stream",
     "text": [
      "넓이 : 78.5\n"
     ]
    }
   ],
   "source": [
    "r = 5\n",
    "area = 3.14 * r * r\n",
    "print('넓이 :', area)"
   ]
  },
  {
   "cell_type": "code",
   "execution_count": 3,
   "id": "501f6ee2",
   "metadata": {},
   "outputs": [
    {
     "name": "stdout",
     "output_type": "stream",
     "text": [
      "넓이 : 78.53981633974483\n"
     ]
    }
   ],
   "source": [
    "import numpy as np # numpy패키지를 np라는 이름으로 사용\n",
    "area = np.pi * r * r\n",
    "print('넓이 :', area)"
   ]
  },
  {
   "cell_type": "markdown",
   "id": "8aef049a",
   "metadata": {},
   "source": [
    "##1.2 변수(함수) 이름 규칙\n",
    "문자로 시작\n",
    "문자(특수문자는 - 외에는 불가), 숫자, -로 변수명 작성\n",
    "함수명은 변수명으로 사용이 가능하나 피한다. 꼭 써야 한다면 str_식으로 사용한다.\n",
    "파이썬 예약어(for, if,...)는 변수명 사용 불가\n",
    "한글 변수 사용이 가능함. 꼭 필요한 경우에만 사용한다.\n",
    "변수 이름에 . 사용하지 않는다."
   ]
  },
  {
   "cell_type": "code",
   "execution_count": 4,
   "id": "6ca5a42d",
   "metadata": {},
   "outputs": [],
   "source": [
    "이름 = \"홍길동\" # 비추(추천하지 않음)\n",
    "print(홍길동)"
   ]
  },
  {
   "cell_type": "code",
   "execution_count": 5,
   "id": "f3b445e7",
   "metadata": {},
   "outputs": [],
   "source": [
    "member_name = \"홍길동\"\n",
    "memberName = \"홍길동\""
   ]
  },
  {
   "cell_type": "code",
   "execution_count": 7,
   "id": "cd57c1a5",
   "metadata": {},
   "outputs": [
    {
     "ename": "SyntaxError",
     "evalue": "invalid decimal literal (2418736346.py, line 2)",
     "output_type": "error",
     "traceback": [
      "\u001b[1;36m  Cell \u001b[1;32mIn[7], line 2\u001b[1;36m\u001b[0m\n\u001b[1;33m    1 = 1 + 3i # 복소수\u001b[0m\n\u001b[1;37m            ^\u001b[0m\n\u001b[1;31mSyntaxError\u001b[0m\u001b[1;31m:\u001b[0m invalid decimal literal\n"
     ]
    }
   ],
   "source": [
    "# 숫자, 정수 실수, 복소수\n",
    "1 = 1 + 3j # 복소수\n",
    "print(tytpe(i))"
   ]
  },
  {
   "cell_type": "code",
   "execution_count": null,
   "id": "5bfabd7e",
   "metadata": {},
   "outputs": [],
   "source": [
    "1.3 다중 변수 선언                                                        "
   ]
  },
  {
   "cell_type": "code",
   "execution_count": 12,
   "id": "1bd9b662",
   "metadata": {},
   "outputs": [],
   "source": [
    "a = 10\n",
    "b = 20"
   ]
  },
  {
   "cell_type": "code",
   "execution_count": 13,
   "id": "0a27cc99",
   "metadata": {},
   "outputs": [
    {
     "name": "stdout",
     "output_type": "stream",
     "text": [
      "10 20\n"
     ]
    }
   ],
   "source": [
    "a, b =10, 20\n",
    "print(a, b)"
   ]
  },
  {
   "cell_type": "code",
   "execution_count": 14,
   "id": "f8fa3dc1",
   "metadata": {},
   "outputs": [
    {
     "name": "stdout",
     "output_type": "stream",
     "text": [
      "20 30\n"
     ]
    }
   ],
   "source": [
    "a, b = b, a+b\n",
    "print(a, b)"
   ]
  },
  {
   "cell_type": "code",
   "execution_count": null,
   "id": "2687e37d",
   "metadata": {},
   "outputs": [],
   "source": [
    "##1. 도움말"
   ]
  },
  {
   "cell_type": "code",
   "execution_count": 15,
   "id": "8aa536b8",
   "metadata": {},
   "outputs": [
    {
     "name": "stdout",
     "output_type": "stream",
     "text": [
      "Help on built-in function print in module builtins:\n",
      "\n",
      "print(...)\n",
      "    print(value, ..., sep=' ', end='\\n', file=sys.stdout, flush=False)\n",
      "    \n",
      "    Prints the values to a stream, or to sys.stdout by default.\n",
      "    Optional keyword arguments:\n",
      "    file:  a file-like object (stream); defaults to the current sys.stdout.\n",
      "    sep:   string inserted between values, default a space.\n",
      "    end:   string appended after the last value, default a newline.\n",
      "    flush: whether to forcibly flush the stream.\n",
      "\n"
     ]
    }
   ],
   "source": [
    "help(print)"
   ]
  },
  {
   "cell_type": "code",
   "execution_count": 17,
   "id": "fba5cbf1",
   "metadata": {},
   "outputs": [
    {
     "name": "stdout",
     "output_type": "stream",
     "text": [
      "\n"
     ]
    }
   ],
   "source": [
    "print() # help 빠져나오기"
   ]
  },
  {
   "cell_type": "code",
   "execution_count": 18,
   "id": "4f24256d",
   "metadata": {},
   "outputs": [],
   "source": [
    "# 도움말 기능 : shift + tab 키\n",
    "print(shift + tab)"
   ]
  },
  {
   "cell_type": "code",
   "execution_count": null,
   "id": "ec4e1f71",
   "metadata": {},
   "outputs": [],
   "source": [
    "print()"
   ]
  },
  {
   "cell_type": "code",
   "execution_count": 20,
   "id": "cd17b34a",
   "metadata": {},
   "outputs": [
    {
     "data": {
      "text/plain": [
       "34"
      ]
     },
     "execution_count": 20,
     "metadata": {},
     "output_type": "execute_result"
    }
   ],
   "source": [
    "def add(x, y):\n",
    "    '''\n",
    "    매개변수(x, y) 2개를 받아 두 자리 숫자로 만드는 함수\n",
    "    x = 10자리수가 되고\n",
    "    y = 1의 자리수가 됨(default  값 0)\n",
    "    '''\n",
    "    \n",
    "    return x*10 + y\n",
    "\n",
    "add(3, 4)"
   ]
  },
  {
   "cell_type": "code",
   "execution_count": null,
   "id": "b8805718",
   "metadata": {},
   "outputs": [],
   "source": [
    "# 2절, 화면 i/o"
   ]
  },
  {
   "cell_type": "code",
   "execution_count": null,
   "id": "c91da8cb",
   "metadata": {},
   "outputs": [],
   "source": [
    "# input() : 사용자로부터 값을 입력받기 위한 함수, 입력값은 문자(str)로 받음.\n",
    "first = input()\n",
    "print(first)"
   ]
  },
  {
   "cell_type": "code",
   "execution_count": 22,
   "id": "1ff28453",
   "metadata": {},
   "outputs": [
    {
     "name": "stdout",
     "output_type": "stream",
     "text": [
      "첫번째 숫자는?7\n",
      "두번째 숫자는?8\n"
     ]
    }
   ],
   "source": [
    "first = input('첫번째 숫자는?')\n",
    "second = input('두번째 숫자는?')"
   ]
  },
  {
   "cell_type": "code",
   "execution_count": 23,
   "id": "0544ae49",
   "metadata": {},
   "outputs": [
    {
     "name": "stdout",
     "output_type": "stream",
     "text": [
      "7 8\n"
     ]
    }
   ],
   "source": [
    "print(first, second)"
   ]
  },
  {
   "cell_type": "code",
   "execution_count": 24,
   "id": "0aeaf15f",
   "metadata": {},
   "outputs": [
    {
     "name": "stdout",
     "output_type": "stream",
     "text": [
      "두수의 합은 78\n"
     ]
    }
   ],
   "source": [
    "print('두수의 합은', first+second)"
   ]
  },
  {
   "cell_type": "code",
   "execution_count": 26,
   "id": "272d30c7",
   "metadata": {},
   "outputs": [
    {
     "name": "stdout",
     "output_type": "stream",
     "text": [
      "첫번째 숫자는?3\n",
      "두번째 숫자는?4\n"
     ]
    }
   ],
   "source": [
    "first = int(input('첫번째 숫자는?'))\n",
    "second = int(input('두번째 숫자는?'))"
   ]
  },
  {
   "cell_type": "code",
   "execution_count": 27,
   "id": "dc75e89b",
   "metadata": {},
   "outputs": [
    {
     "name": "stdout",
     "output_type": "stream",
     "text": [
      "두수의 합은? 7\n"
     ]
    }
   ],
   "source": [
    "print('두수의 합은?', first+second)"
   ]
  },
  {
   "cell_type": "code",
   "execution_count": 28,
   "id": "d34cf45a",
   "metadata": {},
   "outputs": [
    {
     "name": "stdout",
     "output_type": "stream",
     "text": [
      "3~3~4~4~3\n"
     ]
    }
   ],
   "source": [
    "print(first,first,second,second, first, sep='~')"
   ]
  },
  {
   "cell_type": "code",
   "execution_count": 34,
   "id": "eb621cfd",
   "metadata": {},
   "outputs": [
    {
     "name": "stdout",
     "output_type": "stream",
     "text": [
      "3 3 4 4 3\n",
      "Hello~Python\n"
     ]
    }
   ],
   "source": [
    "print(first,first,second,second, first, end='\\n')\n",
    "print('Hello', 'Python', sep='~')"
   ]
  },
  {
   "cell_type": "code",
   "execution_count": null,
   "id": "9e4e87d3",
   "metadata": {},
   "outputs": [],
   "source": [
    "# 3절, 기본 자료형\n",
    "자료형: 변수가  가져야 할 값의 형식, 자료형에 따라 값의 크기와 저장 방식이 달라짐.\n",
    "자료형에 따라 수행할 수 있는 명령어들이 달라짐.\n",
    "  - 숫자 : int, float(소수점 4.0), complex(허수부 j)\n",
    "  - 문자 : str(\"\", \")   \n",
    "  - 논리: bool(Truse/False)"
   ]
  },
  {
   "cell_type": "code",
   "execution_count": null,
   "id": "97f0dee6",
   "metadata": {},
   "outputs": [],
   "source": [
    "## 3,1 숫자형"
   ]
  },
  {
   "cell_type": "code",
   "execution_count": null,
   "id": "81a689d5",
   "metadata": {},
   "outputs": [],
   "source": [
    "import sys"
   ]
  },
  {
   "cell_type": "code",
   "execution_count": 2,
   "id": "212f6acb",
   "metadata": {},
   "outputs": [
    {
     "ename": "NameError",
     "evalue": "name 'sys' is not defined",
     "output_type": "error",
     "traceback": [
      "\u001b[1;31m---------------------------------------------------------------------------\u001b[0m",
      "\u001b[1;31mNameError\u001b[0m                                 Traceback (most recent call last)",
      "Cell \u001b[1;32mIn[2], line 1\u001b[0m\n\u001b[1;32m----> 1\u001b[0m \u001b[38;5;28mprint\u001b[39m(\u001b[43msys\u001b[49m\u001b[38;5;241m.\u001b[39mmaxsize)\n",
      "\u001b[1;31mNameError\u001b[0m: name 'sys' is not defined"
     ]
    }
   ],
   "source": [
    "print(sys.maxsize) # 정수의 최대값 : 2**63 - 2"
   ]
  },
  {
   "cell_type": "code",
   "execution_count": 7,
   "id": "4a3dd5a0",
   "metadata": {},
   "outputs": [
    {
     "ename": "NameError",
     "evalue": "name 'sys' is not defined",
     "output_type": "error",
     "traceback": [
      "\u001b[1;31m---------------------------------------------------------------------------\u001b[0m",
      "\u001b[1;31mNameError\u001b[0m                                 Traceback (most recent call last)",
      "Cell \u001b[1;32mIn[7], line 1\u001b[0m\n\u001b[1;32m----> 1\u001b[0m i \u001b[38;5;241m=\u001b[39m \u001b[43msys\u001b[49m\u001b[38;5;241m.\u001b[39mmaxsize \u001b[38;5;241m+\u001b[39m \u001b[38;5;241m10000000000000000000000\u001b[39m\n\u001b[0;32m      2\u001b[0m \u001b[38;5;28mprint\u001b[39m(i)\n\u001b[0;32m      3\u001b[0m \u001b[38;5;28mprint\u001b[39m(\u001b[38;5;28mtype\u001b[39m(i))\n",
      "\u001b[1;31mNameError\u001b[0m: name 'sys' is not defined"
     ]
    }
   ],
   "source": [
    "i = sys.maxsize + 10000000000000000000000\n",
    "print(i)\n",
    "print(type(i))"
   ]
  },
  {
   "cell_type": "code",
   "execution_count": 21,
   "id": "7c91e21d",
   "metadata": {},
   "outputs": [
    {
     "ename": "SyntaxError",
     "evalue": "invalid decimal literal (2220402770.py, line 2)",
     "output_type": "error",
     "traceback": [
      "\u001b[1;36m  Cell \u001b[1;32mIn[21], line 2\u001b[1;36m\u001b[0m\n\u001b[1;33m    f = 1.2e - 20 # 지수형 12**10의 -20승\u001b[0m\n\u001b[1;37m          ^\u001b[0m\n\u001b[1;31mSyntaxError\u001b[0m\u001b[1;31m:\u001b[0m invalid decimal literal\n"
     ]
    }
   ],
   "source": [
    "# f =0.0000000000000000012\n",
    "f = 1.2e - 20 # 지수형 12**10의 -20승\n",
    "print(f)"
   ]
  },
  {
   "cell_type": "code",
   "execution_count": 9,
   "id": "f0eec425",
   "metadata": {},
   "outputs": [
    {
     "name": "stdout",
     "output_type": "stream",
     "text": [
      "f= 2.0\n"
     ]
    }
   ],
   "source": [
    "# 파이썬에서는 i의 결과는 모조건 실수\n",
    "f = 4/2\n",
    "print('f=',f)"
   ]
  },
  {
   "cell_type": "code",
   "execution_count": 12,
   "id": "e78e41ba",
   "metadata": {},
   "outputs": [
    {
     "name": "stdout",
     "output_type": "stream",
     "text": [
      "f= 1\n",
      "f= 1.5\n"
     ]
    }
   ],
   "source": [
    "# 자비나 C,  C++처럼 정수 결과를 점수로\n",
    "f = int(3/2)\n",
    "print('f=', f)\n",
    "f = 3/2\n",
    "print('f=', f)"
   ]
  },
  {
   "cell_type": "markdown",
   "id": "ad0a1ae7",
   "metadata": {},
   "source": [
    "##3.2 문자형\n",
    "겹따옴표(\"-\")나 홀떠옴표('-') 이용"
   ]
  },
  {
   "cell_type": "code",
   "execution_count": 14,
   "id": "031184e7",
   "metadata": {},
   "outputs": [
    {
     "name": "stdout",
     "output_type": "stream",
     "text": [
      "홍길동'짱' 서울시 관악구 \"신림\"\n"
     ]
    }
   ],
   "source": [
    "name = '홍길동'\n",
    "name = \"홍길동'짱'\"\n",
    "address = '서울시 관악구 \"신림\"'\n",
    "print(name, address)"
   ]
  },
  {
   "cell_type": "code",
   "execution_count": 18,
   "id": "71aefe8e",
   "metadata": {},
   "outputs": [
    {
     "name": "stdout",
     "output_type": "stream",
     "text": [
      "여러줄  \t자리 내용을 저장 \n",
      " 줄바꿈 문자를 쓰면 됨 \n",
      " 줄바꿈\n"
     ]
    }
   ],
   "source": [
    "# 역 슬래시를 사용하는 escape 문자(탈출문자) : \\n, \\t, \\r\n",
    "# r = 앞으로 가라는 명령, 잘 쓰지 않음.\n",
    "text = '여러줄  \\t자리 내용을 저장 \\n 줄바꿈 문자를 쓰면 됨 \\n 줄바꿈'\n",
    "print(text)"
   ]
  },
  {
   "cell_type": "markdown",
   "id": "0a705946",
   "metadata": {},
   "source": [
    "### ※ 문자열 연산(+, *)"
   ]
  },
  {
   "cell_type": "code",
   "execution_count": 23,
   "id": "00141ee0",
   "metadata": {},
   "outputs": [
    {
     "name": "stdout",
     "output_type": "stream",
     "text": [
      "홍길동동해번쩍\n",
      "홍길동 동해번쩍\n"
     ]
    }
   ],
   "source": [
    "\"\"\"\n",
    "여러 줄 주석 필요\n",
    "2025. 09. 12 문자열 연산 by 아무개\n",
    "\"\"\"\n",
    "name1 = \"홍길동\"\n",
    "name2 = \"동해번쩍\"\n",
    "print(name1 + name2)\n",
    "print(name1 , name2)"
   ]
  },
  {
   "cell_type": "code",
   "execution_count": 24,
   "id": "21dc2050",
   "metadata": {},
   "outputs": [
    {
     "name": "stdout",
     "output_type": "stream",
     "text": [
      "홍길동홍길동홍길동\n"
     ]
    }
   ],
   "source": [
    "print(name1*3)"
   ]
  },
  {
   "cell_type": "markdown",
   "id": "54838233",
   "metadata": {},
   "source": [
    "### ※ raw 데이터\n",
    "용도 : 정규 표현식 이용, 디렉토리 경로를 표현시 사용\n"
   ]
  },
  {
   "cell_type": "code",
   "execution_count": 25,
   "id": "409851aa",
   "metadata": {},
   "outputs": [
    {
     "name": "stdout",
     "output_type": "stream",
     "text": [
      "hello\n",
      "World\n"
     ]
    }
   ],
   "source": [
    "# raw 데이터 : 데이터 처리시 이스케이프 문자(\\n, \\t, \\*, \\\"\")를 그대로 저장\n",
    "print('hello\\nWorld')"
   ]
  },
  {
   "cell_type": "markdown",
   "id": "30004aa0",
   "metadata": {},
   "source": [
    "정규표현식(regex)\n",
    "참조 : https: //goo.gl/HLntbd 위키백과"
   ]
  },
  {
   "cell_type": "markdown",
   "id": "803ff854",
   "metadata": {},
   "source": [
    "정규표현식(regex) \n",
    "참조 : https: //goo.gl/HLntbd 위키백과\n",
    "간략 문법\n",
    "\\d : (숫자와 매치, [0-9]와 동일)\n",
    "\\D : (숫자가 아닌 것)\n",
    "\\w : (영문자나 숫자 [a=z A-Z 0-9]와 동일]\n",
    "\\W : (영문자나 숫자가 아닌 경우)\n",
    ".  ; (문자)\n",
    "\\. : (.)\n",
    "\\- : (-)"
   ]
  },
  {
   "cell_type": "markdown",
   "id": "581ff067",
   "metadata": {},
   "source": [
    "## 정규표현(regex)"
   ]
  },
  {
   "cell_type": "code",
   "execution_count": null,
   "id": "11fcbe79",
   "metadata": {},
   "outputs": [],
   "source": []
  },
  {
   "cell_type": "markdown",
   "id": "7e27dba3",
   "metadata": {},
   "source": [
    "정규표현식(regex) 참조 : https: //goo.gl/HLntbd 위키백과\n",
    "        간략 문법 \n",
    "        \\d : (숫자와 매치, [0-9]와 동일)\n",
    "        \\D : (숫자가 아닌 것)\n",
    "        \\w : (영문자나 숫자 [a-zA-Z0-9]와 동일] \n",
    "        \\W : (영문자나 숫자가 아닌 경우) \n",
    "         . ; (문자) \n",
    "        \\. : (.) \n",
    "        \\- : (-)\n",
    "       {2,} :(2번 이상 반복)\n",
    "       {2, 4} : (2~4회 반복)\n",
    "       ?    : (0번이나 1번 의미)\n",
    "       +    : (1번 이상 반복)\n",
    "       *    :  (0번 이상 반복)\n",
    "              \n",
    "3. 정규표현식 연습장: https: //regexr.com/\n",
    "              ex1, 전화번호 : 02 888 8888 /028888888 /010-99999-9999/010.9999.9999/02)999-9999\n",
    "              ===>0\\d{1,2}[\\-\\,)?\\d(3,4)\\d(4)\n",
    "              ex2. 이메일 : abc12@naver.com/huhnam58@daum.net/.\n",
    "              ===> \\w+@\\w+(\\.\\w+){1,2}\n",
    "              ex3. 주민등록번호: 581231-2638124/570123-1634415\n",
    "              === >\\d{2}0[1-9]1[0-2](0[1-9]|[12]\\d |30.31)-[1-4]\\d{6}"
   ]
  },
  {
   "cell_type": "code",
   "execution_count": null,
   "id": "fcb1ceba",
   "metadata": {},
   "outputs": [],
   "source": [
    "\\w+@\\w+(\\.\\w+){1,2}"
   ]
  },
  {
   "cell_type": "code",
   "execution_count": 32,
   "id": "47e17ccd",
   "metadata": {},
   "outputs": [
    {
     "ename": "SyntaxError",
     "evalue": "unterminated string literal (detected at line 2) (3924929544.py, line 2)",
     "output_type": "error",
     "traceback": [
      "\u001b[1;36m  Cell \u001b[1;32mIn[32], line 2\u001b[1;36m\u001b[0m\n\u001b[1;33m    data = \"이름 : 홍길동, 주소: 서울,  전환 : 02-888-8888, 핸드폰 : 010-9999-9999,  특징 : 동해 번쩍 서해번쩍\\\"\u001b[0m\n\u001b[1;37m           ^\u001b[0m\n\u001b[1;31mSyntaxError\u001b[0m\u001b[1;31m:\u001b[0m unterminated string literal (detected at line 2)\n"
     ]
    }
   ],
   "source": [
    "import re\n",
    "data = \"이름 : 홍길동, 주소: 서울,  전환 : 02-888-8888, 핸드폰 : 010-9999-9999,  특징 : 동해 번쩍 서해번쩍\\\"\n",
    "혈액형 :  B\n",
    "print(data)\n"
   ]
  },
  {
   "cell_type": "code",
   "execution_count": 35,
   "id": "18db9de7",
   "metadata": {},
   "outputs": [
    {
     "ename": "NameError",
     "evalue": "name 're' is not defined",
     "output_type": "error",
     "traceback": [
      "\u001b[1;31m---------------------------------------------------------------------------\u001b[0m",
      "\u001b[1;31mNameError\u001b[0m                                 Traceback (most recent call last)",
      "Cell \u001b[1;32mIn[35], line 4\u001b[0m\n\u001b[0;32m      1\u001b[0m \u001b[38;5;66;03m#  정규표현식 처리에서는 raw데이터 철를 하지 않아도 실행은 되나\u001b[39;00m\n\u001b[0;32m      2\u001b[0m \u001b[38;5;66;03m# 실수를 줄이고 가독성을 높이는 용도로 raw 데이터 처리를 사용\u001b[39;00m\n\u001b[0;32m      3\u001b[0m tel_pattern \u001b[38;5;241m=\u001b[39m \u001b[38;5;124mr\u001b[39m\u001b[38;5;124m\"\u001b[39m\u001b[38;5;124m0\u001b[39m\u001b[38;5;124m\\\u001b[39m\u001b[38;5;124md\u001b[39m\u001b[38;5;124m{\u001b[39m\u001b[38;5;124m1,2}[\u001b[39m\u001b[38;5;124m\\\u001b[39m\u001b[38;5;124m-\u001b[39m\u001b[38;5;124m\\\u001b[39m\u001b[38;5;124m.]?\u001b[39m\u001b[38;5;124m{\u001b[39m\u001b[38;5;124m3,3}[\u001b[39m\u001b[38;5;124m\\\u001b[39m\u001b[38;5;124m-\u001b[39m\u001b[38;5;124m\\\u001b[39m\u001b[38;5;124m.]?d(4)\u001b[39m\u001b[38;5;124m\"\u001b[39m\n\u001b[1;32m----> 4\u001b[0m tels \u001b[38;5;241m=\u001b[39m \u001b[43mre\u001b[49m\u001b[38;5;241m.\u001b[39mfindall(tel_pattern, data)\n\u001b[0;32m      5\u001b[0m tels\n",
      "\u001b[1;31mNameError\u001b[0m: name 're' is not defined"
     ]
    }
   ],
   "source": [
    "#  정규표현식 처리에서는 raw데이터 철를 하지 않아도 실행은 되나\n",
    "# 실수를 줄이고 가독성을 높이는 용도로 raw 데이터 처리를 사용\n",
    "tel_pattern = r\"0\\d{1,2}[\\-\\.]?{3,3}[\\-\\.]?d(4)\"\n",
    "tels = re.findall(tel_pattern, data)\n",
    "tels"
   ]
  },
  {
   "cell_type": "code",
   "execution_count": null,
   "id": "36e8f4d9",
   "metadata": {},
   "outputs": [],
   "source": [
    "email_pattern = r\""
   ]
  },
  {
   "cell_type": "code",
   "execution_count": null,
   "id": "f49296dc",
   "metadata": {},
   "outputs": [],
   "source": []
  },
  {
   "cell_type": "code",
   "execution_count": 36,
   "id": "3816379a",
   "metadata": {},
   "outputs": [
    {
     "ename": "NameError",
     "evalue": "name 're' is not defined",
     "output_type": "error",
     "traceback": [
      "\u001b[1;31m---------------------------------------------------------------------------\u001b[0m",
      "\u001b[1;31mNameError\u001b[0m                                 Traceback (most recent call last)",
      "Cell \u001b[1;32mIn[36], line 2\u001b[0m\n\u001b[0;32m      1\u001b[0m \u001b[38;5;66;03m# 정규표현식 패턴과 처음 match 되는 것을 찾아줘\u001b[39;00m\n\u001b[1;32m----> 2\u001b[0m firstTel \u001b[38;5;241m=\u001b[39m \u001b[43mre\u001b[49m\u001b[38;5;241m.\u001b[39msearch(tel_pattern, data)\n\u001b[0;32m      3\u001b[0m firstTel\n",
      "\u001b[1;31mNameError\u001b[0m: name 're' is not defined"
     ]
    }
   ],
   "source": [
    "# 정규표현식 패턴과 처음 match 되는 것을 찾아줘\n",
    "firstTel = re.search(tel_pattern, data)\n",
    "firstTel"
   ]
  },
  {
   "cell_type": "code",
   "execution_count": 37,
   "id": "d8da53ca",
   "metadata": {},
   "outputs": [
    {
     "ename": "SyntaxError",
     "evalue": "incomplete input (3550404728.py, line 1)",
     "output_type": "error",
     "traceback": [
      "\u001b[1;36m  Cell \u001b[1;32mIn[37], line 1\u001b[1;36m\u001b[0m\n\u001b[1;33m    print(data[18:29] # 문자열 슬라이싱, 위치도 알 수 있음.\u001b[0m\n\u001b[1;37m                                             ^\u001b[0m\n\u001b[1;31mSyntaxError\u001b[0m\u001b[1;31m:\u001b[0m incomplete input\n"
     ]
    }
   ],
   "source": [
    "print(data[18:29] # 문자열 슬라이싱, 위치도 알 수 있음.\n",
    "print(firstTel.group(e))"
   ]
  },
  {
   "cell_type": "code",
   "execution_count": 38,
   "id": "dd116169",
   "metadata": {},
   "outputs": [
    {
     "ename": "SyntaxError",
     "evalue": "invalid syntax (2067959868.py, line 3)",
     "output_type": "error",
     "traceback": [
      "\u001b[1;36m  Cell \u001b[1;32mIn[38], line 3\u001b[1;36m\u001b[0m\n\u001b[1;33m    firstPhone =re search(tel_pattern, data)\u001b[0m\n\u001b[1;37m                   ^\u001b[0m\n\u001b[1;31mSyntaxError\u001b[0m\u001b[1;31m:\u001b[0m invalid syntax\n"
     ]
    }
   ],
   "source": [
    "tel_pattern = r\"\\d{2,3]-\\d{3,4}}-(\\d{4})\"\n",
    "\n",
    "firstPhone =re search(tel_pattern, data)\n",
    "firstPhone"
   ]
  },
  {
   "cell_type": "code",
   "execution_count": 39,
   "id": "bc58bc72",
   "metadata": {},
   "outputs": [
    {
     "ename": "NameError",
     "evalue": "name 'firstPhon' is not defined",
     "output_type": "error",
     "traceback": [
      "\u001b[1;31m---------------------------------------------------------------------------\u001b[0m",
      "\u001b[1;31mNameError\u001b[0m                                 Traceback (most recent call last)",
      "Cell \u001b[1;32mIn[39], line 1\u001b[0m\n\u001b[1;32m----> 1\u001b[0m \u001b[38;5;28mprint\u001b[39m(\u001b[38;5;124m'\u001b[39m\u001b[38;5;124m전체 전화번호 :\u001b[39m\u001b[38;5;124m'\u001b[39m, \u001b[43mfirstPhon\u001b[49m\u001b[38;5;241m.\u001b[39mgroup(\u001b[38;5;241m0\u001b[39m))\n\u001b[0;32m      2\u001b[0m \u001b[38;5;28mprint\u001b[39m(\u001b[38;5;124m'\u001b[39m\u001b[38;5;124m국번 :\u001b[39m\u001b[38;5;124m'\u001b[39m, firstPhon\u001b[38;5;241m.\u001b[39mgroup(\u001b[38;5;241m1\u001b[39m))\n\u001b[0;32m      3\u001b[0m \u001b[38;5;28mprint\u001b[39m(\u001b[38;5;124m'\u001b[39m\u001b[38;5;124m중간번호 :\u001b[39m\u001b[38;5;124m'\u001b[39m, firstPhon\u001b[38;5;241m.\u001b[39mgroup(\u001b[38;5;241m2\u001b[39m))\n",
      "\u001b[1;31mNameError\u001b[0m: name 'firstPhon' is not defined"
     ]
    }
   ],
   "source": [
    "print('전체 전화번호 :', firstPhon.group(0))\n",
    "print('국번 :', firstPhon.group(1))\n",
    "print('중간번호 :', firstPhon.group(2))\n",
    "print('끝번호 :', firstPhon.group(3))"
   ]
  },
  {
   "cell_type": "code",
   "execution_count": null,
   "id": "4ae6788f",
   "metadata": {},
   "outputs": [],
   "source": [
    "# data에서 특정한 데이터 없애기\n",
    "re.sub(\"(가-할e-9A-Z\\S\"], ''"
   ]
  },
  {
   "cell_type": "markdown",
   "id": "e463f865",
   "metadata": {},
   "source": [
    "## 1장 주피터 노트북 사용법\n",
    "shift+Enter\n",
    "esc+b, a, m"
   ]
  },
  {
   "cell_type": "markdown",
   "id": "a3f5eff5",
   "metadata": {},
   "source": [
    "## 제2장\n",
    "1절 변수\n",
    "2절 화면 i/o\n",
    "3절 기본자료형\n",
    " 숫자: int, float, compex, int/int==> 실수/지수형 표현은 실수\n",
    " 문자: +, +연산 정규표현식, re,findall(), re.search()\n",
    " "
   ]
  },
  {
   "cell_type": "markdown",
   "id": "d8009fd9",
   "metadata": {},
   "source": [
    "파이썬 화일을 모듈"
   ]
  },
  {
   "cell_type": "code",
   "execution_count": null,
   "id": "862b3101",
   "metadata": {},
   "outputs": [],
   "source": [
    "search 함수? "
   ]
  },
  {
   "cell_type": "code",
   "execution_count": null,
   "id": "c57718e6",
   "metadata": {},
   "outputs": [],
   "source": [
    "퀴즈 낸다. 책 연습 문제"
   ]
  },
  {
   "cell_type": "code",
   "execution_count": null,
   "id": "c5cbb22d",
   "metadata": {},
   "outputs": [],
   "source": [
    "전체 데이터에서 ㅇㅇㅇ을 빼라. 특정 데이터만 뺀다."
   ]
  },
  {
   "cell_type": "code",
   "execution_count": null,
   "id": "1a621b7b",
   "metadata": {},
   "outputs": [],
   "source": [
    "sub, 아닌 것,  전화번호르어"
   ]
  },
  {
   "cell_type": "code",
   "execution_count": null,
   "id": "5a489b73",
   "metadata": {},
   "outputs": [],
   "source": [
    "실행해야 데이터가 올라온다."
   ]
  },
  {
   "cell_type": "code",
   "execution_count": null,
   "id": "0ec5ed30",
   "metadata": {},
   "outputs": [],
   "source": [
    "전화번호만 뺀 데이터 가져온다."
   ]
  },
  {
   "cell_type": "code",
   "execution_count": null,
   "id": "5afa5a49",
   "metadata": {},
   "outputs": [],
   "source": [
    "tel_pattern = r"
   ]
  },
  {
   "cell_type": "code",
   "execution_count": null,
   "id": "06268055",
   "metadata": {},
   "outputs": [],
   "source": [
    "re. sub"
   ]
  },
  {
   "cell_type": "code",
   "execution_count": null,
   "id": "df29b4bd",
   "metadata": {},
   "outputs": [],
   "source": [
    "file_path =r\"c:\\ai\\source\\01_python[date\\ch02.txt]\""
   ]
  },
  {
   "cell_type": "code",
   "execution_count": null,
   "id": "19a1d255",
   "metadata": {},
   "outputs": [],
   "source": [
    "file_path =\"c:\\ai\\source\\01_python[date\\ch02.txt]\""
   ]
  },
  {
   "cell_type": "code",
   "execution_count": null,
   "id": "d669f4e0",
   "metadata": {},
   "outputs": [],
   "source": [
    "출력: 콘솔, 파일, 네트워크"
   ]
  },
  {
   "cell_type": "code",
   "execution_count": null,
   "id": "d69e095c",
   "metadata": {},
   "outputs": [],
   "source": [
    "빨때"
   ]
  },
  {
   "cell_type": "code",
   "execution_count": null,
   "id": "a1abdffc",
   "metadata": {},
   "outputs": [],
   "source": [
    "file_path =r\"c:\\ai\\source\\01_python[date\\ch02.txt]\""
   ]
  },
  {
   "cell_type": "code",
   "execution_count": null,
   "id": "b10b45d5",
   "metadata": {},
   "outputs": [],
   "source": [
    "file_stream = open(file_path,\"r\""
   ]
  },
  {
   "cell_type": "code",
   "execution_count": 1,
   "id": "03214bc9",
   "metadata": {},
   "outputs": [
    {
     "ename": "SyntaxError",
     "evalue": "invalid syntax. Perhaps you forgot a comma? (207161222.py, line 1)",
     "output_type": "error",
     "traceback": [
      "\u001b[1;36m  Cell \u001b[1;32mIn[1], line 1\u001b[1;36m\u001b[0m\n\u001b[1;33m    file_stream = open(file_path,\"w\"\u001b[0m\n\u001b[1;37m                                 ^\u001b[0m\n\u001b[1;31mSyntaxError\u001b[0m\u001b[1;31m:\u001b[0m invalid syntax. Perhaps you forgot a comma?\n"
     ]
    }
   ],
   "source": [
    "file_stream = open(file_path,\"w\"\n",
    "print(\"helli, python,\"hello, world\", sep=\"\\n\")\n",
    "print(\"helli, python,\"hello, world\", sep=\"\\n\", file_stream) # 파일 출력\n",
    "file_stream.close() ."
   ]
  },
  {
   "cell_type": "code",
   "execution_count": 2,
   "id": "0d448389",
   "metadata": {},
   "outputs": [
    {
     "ename": "SyntaxError",
     "evalue": "invalid syntax. Perhaps you forgot a comma? (1844038858.py, line 1)",
     "output_type": "error",
     "traceback": [
      "\u001b[1;36m  Cell \u001b[1;32mIn[2], line 1\u001b[1;36m\u001b[0m\n\u001b[1;33m    print(\"helli, python,\"hello, world\", sep=\"\\n\")\u001b[0m\n\u001b[1;37m          ^\u001b[0m\n\u001b[1;31mSyntaxError\u001b[0m\u001b[1;31m:\u001b[0m invalid syntax. Perhaps you forgot a comma?\n"
     ]
    }
   ],
   "source": [
    "print(\"helli, python,\"hello, world\", sep=\"\\n\")"
   ]
  },
  {
   "cell_type": "markdown",
   "id": "bcb2ee26",
   "metadata": {},
   "source": [
    "### ※  문자열 인덱싱"
   ]
  },
  {
   "cell_type": "code",
   "execution_count": null,
   "id": "7baec089",
   "metadata": {},
   "outputs": [],
   "source": [
    "str_ = '0123456789', 인덱스란 찾아가기 쉽도록 만든 숫자"
   ]
  },
  {
   "cell_type": "code",
   "execution_count": 3,
   "id": "89a1fd5e",
   "metadata": {},
   "outputs": [
    {
     "ename": "NameError",
     "evalue": "name 'str_' is not defined",
     "output_type": "error",
     "traceback": [
      "\u001b[1;31m---------------------------------------------------------------------------\u001b[0m",
      "\u001b[1;31mNameError\u001b[0m                                 Traceback (most recent call last)",
      "Cell \u001b[1;32mIn[3], line 1\u001b[0m\n\u001b[1;32m----> 1\u001b[0m \u001b[43mstr_\u001b[49m\n",
      "\u001b[1;31mNameError\u001b[0m: name 'str_' is not defined"
     ]
    }
   ],
   "source": [
    "str_"
   ]
  },
  {
   "cell_type": "code",
   "execution_count": null,
   "id": "8c55db55",
   "metadata": {},
   "outputs": [],
   "source": [
    "양수는 앞에서, 음수는 뒤에서"
   ]
  },
  {
   "cell_type": "code",
   "execution_count": null,
   "id": "5701ec82",
   "metadata": {},
   "outputs": [],
   "source": [
    "'012345678'"
   ]
  },
  {
   "cell_type": "code",
   "execution_count": 4,
   "id": "b796ef24",
   "metadata": {},
   "outputs": [
    {
     "ename": "NameError",
     "evalue": "name 'str_' is not defined",
     "output_type": "error",
     "traceback": [
      "\u001b[1;31m---------------------------------------------------------------------------\u001b[0m",
      "\u001b[1;31mNameError\u001b[0m                                 Traceback (most recent call last)",
      "Cell \u001b[1;32mIn[4], line 1\u001b[0m\n\u001b[1;32m----> 1\u001b[0m \u001b[43mstr_\u001b[49m[\u001b[38;5;241m0\u001b[39m],str_[\u001b[38;5;241m2\u001b[39m], str_[\u001b[38;5;241m-\u001b[39m\u001b[38;5;241m1\u001b[39m]\u001b[38;5;241m.\u001b[39m str_[\u001b[38;5;241m-\u001b[39m\u001b[38;5;241m3\u001b[39m]\n",
      "\u001b[1;31mNameError\u001b[0m: name 'str_' is not defined"
     ]
    }
   ],
   "source": [
    "str_[0],str_[2], str_[-1]. str_[-3]"
   ]
  },
  {
   "cell_type": "code",
   "execution_count": null,
   "id": "0e2caef3",
   "metadata": {},
   "outputs": [],
   "source": [
    "str_[0],str_[2], str_[-1]. str_[-3]"
   ]
  },
  {
   "cell_type": "code",
   "execution_count": null,
   "id": "ddb68f86",
   "metadata": {},
   "outputs": [],
   "source": [
    "'0123456789'"
   ]
  },
  {
   "cell_type": "code",
   "execution_count": 5,
   "id": "b72ae5d7",
   "metadata": {},
   "outputs": [
    {
     "ename": "NameError",
     "evalue": "name 'str_' is not defined",
     "output_type": "error",
     "traceback": [
      "\u001b[1;31m---------------------------------------------------------------------------\u001b[0m",
      "\u001b[1;31mNameError\u001b[0m                                 Traceback (most recent call last)",
      "Cell \u001b[1;32mIn[5], line 1\u001b[0m\n\u001b[1;32m----> 1\u001b[0m \u001b[43mstr_\u001b[49m[\u001b[38;5;241m0\u001b[39m],str_[\u001b[38;5;241m2\u001b[39m], str_[\u001b[38;5;241m-\u001b[39m\u001b[38;5;241m1\u001b[39m]\u001b[38;5;241m.\u001b[39m str_[\u001b[38;5;241m-\u001b[39m\u001b[38;5;241m3\u001b[39m]\n",
      "\u001b[1;31mNameError\u001b[0m: name 'str_' is not defined"
     ]
    }
   ],
   "source": [
    "str_[0],str_[2], str_[-1]. str_[-3]"
   ]
  },
  {
   "cell_type": "markdown",
   "id": "a1bd194d",
   "metadata": {},
   "source": [
    "## 문자열 변수[from=to]"
   ]
  },
  {
   "cell_type": "code",
   "execution_count": null,
   "id": "4e4aea94",
   "metadata": {},
   "outputs": [],
   "source": [
    "문자열 변수(from=to]: from부터 to앞까지 추출\n",
    "문자열 변수)(from=to:step]: step씨 전진하면서 추출\n",
    " from 생략시 처음부터\n",
    "        from 생략시 처음부터\n",
    "        to 끝까지    "
   ]
  },
  {
   "cell_type": "code",
   "execution_count": null,
   "id": "7ad6d52c",
   "metadata": {},
   "outputs": [],
   "source": [
    "str_[-5:]"
   ]
  },
  {
   "cell_type": "code",
   "execution_count": null,
   "id": "72d051ba",
   "metadata": {},
   "outputs": [],
   "source": [
    "str_[9:0:-1]"
   ]
  },
  {
   "cell_type": "code",
   "execution_count": null,
   "id": "a219865f",
   "metadata": {},
   "outputs": [],
   "source": [
    "90"
   ]
  },
  {
   "cell_type": "markdown",
   "id": "0cb0b3c0",
   "metadata": {},
   "source": [
    "a=10"
   ]
  },
  {
   "cell_type": "code",
   "execution_count": null,
   "id": "21deda82",
   "metadata": {},
   "outputs": [],
   "source": [
    "(1,0)"
   ]
  },
  {
   "cell_type": "code",
   "execution_count": null,
   "id": "a12accee",
   "metadata": {},
   "outputs": [],
   "source": [
    "[34]"
   ]
  },
  {
   "cell_type": "code",
   "execution_count": null,
   "id": "56b9d7a6",
   "metadata": {},
   "outputs": [],
   "source": [
    "(True, False, True)"
   ]
  },
  {
   "cell_type": "code",
   "execution_count": null,
   "id": "654ccbe3",
   "metadata": {},
   "outputs": [],
   "source": [
    "제어문"
   ]
  },
  {
   "cell_type": "code",
   "execution_count": 6,
   "id": "dfa3aa7e",
   "metadata": {},
   "outputs": [
    {
     "ename": "SyntaxError",
     "evalue": "unterminated string literal (detected at line 1) (1610997286.py, line 1)",
     "output_type": "error",
     "traceback": [
      "\u001b[1;36m  Cell \u001b[1;32mIn[6], line 1\u001b[1;36m\u001b[0m\n\u001b[1;33m    if []\"\u001b[0m\n\u001b[1;37m         ^\u001b[0m\n\u001b[1;31mSyntaxError\u001b[0m\u001b[1;31m:\u001b[0m unterminated string literal (detected at line 1)\n"
     ]
    }
   ],
   "source": [
    "if []\"\n",
    "print(\"True\")"
   ]
  },
  {
   "cell_type": "markdown",
   "id": "0cc0ce1c",
   "metadata": {},
   "source": []
  },
  {
   "cell_type": "markdown",
   "id": "3db1879b",
   "metadata": {},
   "source": [
    "name = input(\"이름은?\")\n",
    "\n",
    "if name: # name이 빈스트림이 아니면\n",
    "    print('당신 이름은', name)\n",
    "\n",
    "else:\n",
    "    print('이름을 입력 안 하셨군요')\n",
    "  "
   ]
  },
  {
   "cell_type": "markdown",
   "id": "ecdc3511",
   "metadata": {},
   "source": [
    "##3.4 자료형 확인 및 형변환 함수\n",
    "type(변수)\n",
    "isinstance(변수, 타입): 변수가 해당 타입인지 여부\n",
    "float( ): 실수형으로 변환\n",
    "int( ): 점수형으로 변환\n",
    "str( ): 문자형으로 변환\n",
    "boo( ): 논리형으로 변환 "
   ]
  },
  {
   "cell_type": "code",
   "execution_count": 11,
   "id": "2d48b1db",
   "metadata": {},
   "outputs": [
    {
     "ename": "SyntaxError",
     "evalue": "invalid syntax (2219090868.py, line 3)",
     "output_type": "error",
     "traceback": [
      "\u001b[1;36m  Cell \u001b[1;32mIn[11], line 3\u001b[1;36m\u001b[0m\n\u001b[1;33m    int(\"9,000\"). 점을 빼라\u001b[0m\n\u001b[1;37m                     ^\u001b[0m\n\u001b[1;31mSyntaxError\u001b[0m\u001b[1;31m:\u001b[0m invalid syntax\n"
     ]
    }
   ],
   "source": [
    "# 에러가 나는 경우들\n",
    "#int(\"\"), int(\" \"), int(None), int(\"123.9\")\n",
    "int(\"9,000\"). 점을 빼라\n",
    "float(\"\")"
   ]
  },
  {
   "cell_type": "markdown",
   "id": "ef60fee1",
   "metadata": {},
   "source": [
    "# 4 절, 포맷팅\n",
    "포맷팅이란 출력할 문자, 숫자, 날짜, 데이터의 형식을 지정하는 것\n",
    "## 4.1 문자열에 형식 지정"
   ]
  },
  {
   "cell_type": "code",
   "execution_count": 13,
   "id": "ff570541",
   "metadata": {},
   "outputs": [
    {
     "ename": "SyntaxError",
     "evalue": "expression cannot contain assignment, perhaps you meant \"==\"? (541769531.py, line 3)",
     "output_type": "error",
     "traceback": [
      "\u001b[1;36m  Cell \u001b[1;32mIn[13], line 3\u001b[1;36m\u001b[0m\n\u001b[1;33m    print(name, '님의 나이는' + str(age) = '살입니다'\u001b[0m\n\u001b[1;37m                ^\u001b[0m\n\u001b[1;31mSyntaxError\u001b[0m\u001b[1;31m:\u001b[0m expression cannot contain assignment, perhaps you meant \"==\"?\n"
     ]
    }
   ],
   "source": [
    "name =\"홍길동\"\n",
    "age = 30\n",
    "print(name, '님의 나이는' + str(age) = '살입니다'\n",
    "print(name, '님의 나이는', age, '살입니다', sep ='')"
   ]
  },
  {
   "cell_type": "code",
   "execution_count": 22,
   "id": "150628ef",
   "metadata": {},
   "outputs": [],
   "source": [
    "name =\"홍길동\"\n",
    "age = 30"
   ]
  },
  {
   "cell_type": "code",
   "execution_count": 23,
   "id": "1f80645e",
   "metadata": {},
   "outputs": [
    {
     "ename": "ValueError",
     "evalue": "Invalid format specifier",
     "output_type": "error",
     "traceback": [
      "\u001b[1;31m---------------------------------------------------------------------------\u001b[0m",
      "\u001b[1;31mValueError\u001b[0m                                Traceback (most recent call last)",
      "Cell \u001b[1;32mIn[23], line 3\u001b[0m\n\u001b[0;32m      1\u001b[0m \u001b[38;5;66;03m# print(\"{}님의 나이는 {}살입니다\".format(name, age) )\u001b[39;00m\n\u001b[0;32m      2\u001b[0m \u001b[38;5;66;03m# print(\"{0}님의 나이는 {1}살입니다\".format(name, age) )\u001b[39;00m\n\u001b[1;32m----> 3\u001b[0m \u001b[38;5;28mprint\u001b[39m(\u001b[38;5;124;43m\"\u001b[39;49m\u001b[38;5;124;43m{\u001b[39;49m\u001b[38;5;124;43m1:>S5}님의 나이는 \u001b[39;49m\u001b[38;5;132;43;01m{0:_<3d}\u001b[39;49;00m\u001b[38;5;124;43m살입니다\u001b[39;49m\u001b[38;5;124;43m\"\u001b[39;49m\u001b[38;5;241;43m.\u001b[39;49m\u001b[43mformat\u001b[49m\u001b[43m(\u001b[49m\u001b[43mage\u001b[49m\u001b[43m,\u001b[49m\u001b[43mname\u001b[49m\u001b[43m)\u001b[49m )\n",
      "\u001b[1;31mValueError\u001b[0m: Invalid format specifier"
     ]
    }
   ],
   "source": [
    "# print(\"{}님의 나이는 {}살입니다\".format(name, age) )\n",
    "# print(\"{0}님의 나이는 {1}살입니다\".format(name, age) )\n",
    "print(\"{1:>S5}님의 나이는 {0:_<3d}살입니다\".format(age,name))"
   ]
  },
  {
   "cell_type": "code",
   "execution_count": 25,
   "id": "e2767e09",
   "metadata": {},
   "outputs": [
    {
     "name": "stdout",
     "output_type": "stream",
     "text": [
      "허남식홍길동,나이는30\n"
     ]
    }
   ],
   "source": [
    "print(f\"허남식{name},나이는{age}\")"
   ]
  },
  {
   "cell_type": "markdown",
   "id": "2acd1d3e",
   "metadata": {},
   "source": [
    "## 4.2 format() 문법\n",
    "\"{[인덱스]: [공백 대체 문자][정렬방식][자릿수][타잇]\", format(변수명)\n",
    "\n",
    "* 인덱스: format 함수의 매개변수 순서\n",
    "* 정별방식: <(왼쪽 정렬), >(오른쪽 정렬), ^(가운뎃 정렬)\n",
    "* 점수 자릿수: 출력할 자릿수\n",
    "* 문자 자릿수: 전체 출력될 자리수, 변수중에 출력할 자리수\n",
    "* 타입: d(10진수), ㅇ(8진수), x(16진수) b(2진수), f(실수), s(문자)\n",
    "* 공백 대체 문자는 정렬방식을 명시하여야 함."
   ]
  },
  {
   "cell_type": "code",
   "execution_count": 30,
   "id": "beb0da59",
   "metadata": {},
   "outputs": [],
   "source": [
    "a='12345'\n",
    "s='Hello'\n"
   ]
  },
  {
   "cell_type": "code",
   "execution_count": 34,
   "id": "749fa1e3",
   "metadata": {},
   "outputs": [
    {
     "ename": "ValueError",
     "evalue": "cannot switch from automatic field numbering to manual field specification",
     "output_type": "error",
     "traceback": [
      "\u001b[1;31m---------------------------------------------------------------------------\u001b[0m",
      "\u001b[1;31mValueError\u001b[0m                                Traceback (most recent call last)",
      "Cell \u001b[1;32mIn[34], line 2\u001b[0m\n\u001b[0;32m      1\u001b[0m \u001b[38;5;66;03m# print(\"[{}] [{0:10}] [{0:10}] [{0:3}]\".format(a,a,a))\u001b[39;00m\n\u001b[1;32m----> 2\u001b[0m \u001b[38;5;28mprint\u001b[39m(\u001b[38;5;124;43m\"\u001b[39;49m\u001b[38;5;124;43m[\u001b[39;49m\u001b[38;5;132;43;01m{}\u001b[39;49;00m\u001b[38;5;124;43m] [\u001b[39;49m\u001b[38;5;132;43;01m{0:10}\u001b[39;49;00m\u001b[38;5;124;43m] [\u001b[39;49m\u001b[38;5;132;43;01m{0:3}\u001b[39;49;00m\u001b[38;5;124;43m]\u001b[39;49m\u001b[38;5;124;43m\"\u001b[39;49m\u001b[38;5;241;43m.\u001b[39;49m\u001b[43mformat\u001b[49m\u001b[43m(\u001b[49m\u001b[43ma\u001b[49m\u001b[43m)\u001b[49m)\n",
      "\u001b[1;31mValueError\u001b[0m: cannot switch from automatic field numbering to manual field specification"
     ]
    }
   ],
   "source": [
    "# print(\"[{}] [{0:10}] [{0:10}] [{0:3}]\".format(a,a,a))\n",
    "print(\"[{}] [{0:10}] [{0:3}]\".format(a,a,a))"
   ]
  },
  {
   "cell_type": "code",
   "execution_count": 35,
   "id": "3e893865",
   "metadata": {},
   "outputs": [
    {
     "name": "stdout",
     "output_type": "stream",
     "text": [
      "[10  ] [ 20 ] [   3]\n"
     ]
    }
   ],
   "source": [
    "# 정렬 방식 : <, ^, >\n",
    "a, b, c =10, 20, 3\n",
    "print(\"[{:<4}] [{:^4}] [{:4}]\".format(a, b, c))"
   ]
  },
  {
   "cell_type": "code",
   "execution_count": 6,
   "id": "db49f675",
   "metadata": {},
   "outputs": [],
   "source": [
    "# 실수 자릿수 ex, 10.2\n",
    "a = 10\n",
    "f = 12,569\n",
    "s = \"Hello\"\n"
   ]
  },
  {
   "cell_type": "code",
   "execution_count": 7,
   "id": "6b229432",
   "metadata": {},
   "outputs": [
    {
     "ename": "TypeError",
     "evalue": "unsupported format string passed to tuple.__format__",
     "output_type": "error",
     "traceback": [
      "\u001b[1;31m---------------------------------------------------------------------------\u001b[0m",
      "\u001b[1;31mTypeError\u001b[0m                                 Traceback (most recent call last)",
      "Cell \u001b[1;32mIn[7], line 1\u001b[0m\n\u001b[1;32m----> 1\u001b[0m \u001b[38;5;28mprint\u001b[39m(\u001b[38;5;124;43m\"\u001b[39;49m\u001b[38;5;124;43m[\u001b[39;49m\u001b[38;5;132;43;01m{:$>10}\u001b[39;49;00m\u001b[38;5;124;43m] [\u001b[39;49m\u001b[38;5;132;43;01m{:10.2f}\u001b[39;49;00m\u001b[38;5;124;43m]\u001b[39;49m\u001b[38;5;124;43m\"\u001b[39;49m\u001b[38;5;241;43m.\u001b[39;49m\u001b[43mformat\u001b[49m\u001b[43m(\u001b[49m\u001b[43ma\u001b[49m\u001b[43m,\u001b[49m\u001b[43mf\u001b[49m\u001b[43m)\u001b[49m)\n",
      "\u001b[1;31mTypeError\u001b[0m: unsupported format string passed to tuple.__format__"
     ]
    }
   ],
   "source": [
    "print(\"[{:$>10}] [{:10.2f}]\".format(a,f))"
   ]
  },
  {
   "cell_type": "code",
   "execution_count": 3,
   "id": "be1ac372",
   "metadata": {},
   "outputs": [
    {
     "name": "stdout",
     "output_type": "stream",
     "text": [
      "[$$$$$$$$10]\n"
     ]
    }
   ],
   "source": [
    "print(\"[{:$>10}]\".format(a))"
   ]
  },
  {
   "cell_type": "code",
   "execution_count": 44,
   "id": "044d1708",
   "metadata": {},
   "outputs": [
    {
     "ename": "TypeError",
     "evalue": "unsupported format string passed to tuple.__format__",
     "output_type": "error",
     "traceback": [
      "\u001b[1;31m---------------------------------------------------------------------------\u001b[0m",
      "\u001b[1;31mTypeError\u001b[0m                                 Traceback (most recent call last)",
      "Cell \u001b[1;32mIn[44], line 1\u001b[0m\n\u001b[1;32m----> 1\u001b[0m \u001b[38;5;28mprint\u001b[39m(\u001b[38;5;124;43m\"\u001b[39;49m\u001b[38;5;124;43m[\u001b[39;49m\u001b[38;5;132;43;01m{:$>6.2f}\u001b[39;49;00m\u001b[38;5;124;43m] [\u001b[39;49m\u001b[38;5;132;43;01m{:6.2f}\u001b[39;49;00m\u001b[38;5;124;43m] [\u001b[39;49m\u001b[38;5;132;43;01m{:_>6.2}\u001b[39;49;00m\u001b[38;5;124;43m]\u001b[39;49m\u001b[38;5;124;43m\"\u001b[39;49m\u001b[38;5;241;43m.\u001b[39;49m\u001b[43mformat\u001b[49m\u001b[43m(\u001b[49m\u001b[43ma\u001b[49m\u001b[43m,\u001b[49m\u001b[43mf\u001b[49m\u001b[43m,\u001b[49m\u001b[43ms\u001b[49m\u001b[43m)\u001b[49m)\n",
      "\u001b[1;31mTypeError\u001b[0m: unsupported format string passed to tuple.__format__"
     ]
    }
   ],
   "source": [
    "print(\"[{:$>6.2f}] [{:6.2f}] [{:_>6.2}]\".format(a,f,s))"
   ]
  },
  {
   "cell_type": "code",
   "execution_count": 8,
   "id": "c311ea26",
   "metadata": {},
   "outputs": [
    {
     "ename": "TypeError",
     "evalue": "unsupported format string passed to tuple.__format__",
     "output_type": "error",
     "traceback": [
      "\u001b[1;31m---------------------------------------------------------------------------\u001b[0m",
      "\u001b[1;31mTypeError\u001b[0m                                 Traceback (most recent call last)",
      "Cell \u001b[1;32mIn[8], line 1\u001b[0m\n\u001b[1;32m----> 1\u001b[0m \u001b[38;5;28mprint\u001b[39m (\u001b[38;5;124;43m\"\u001b[39;49m\u001b[38;5;124;43m[\u001b[39;49m\u001b[38;5;132;43;01m{:$^10}\u001b[39;49;00m\u001b[38;5;124;43m] [\u001b[39;49m\u001b[38;5;132;43;01m{:10.2f}\u001b[39;49;00m\u001b[38;5;124;43m] [\u001b[39;49m\u001b[38;5;132;43;01m{:_>6.2}\u001b[39;49;00m\u001b[38;5;124;43m]\u001b[39;49m\u001b[38;5;124;43m\"\u001b[39;49m\u001b[38;5;241;43m.\u001b[39;49m\u001b[43mformat\u001b[49m\u001b[43m(\u001b[49m\u001b[43ma\u001b[49m\u001b[43m,\u001b[49m\u001b[43mf\u001b[49m\u001b[43m,\u001b[49m\u001b[43ms\u001b[49m\u001b[43m)\u001b[49m)\n",
      "\u001b[1;31mTypeError\u001b[0m: unsupported format string passed to tuple.__format__"
     ]
    }
   ],
   "source": [
    "print(\"[{:$^10}] [{:10.2f}] [{:_>6.2}]\".format(a,f,s))"
   ]
  },
  {
   "cell_type": "code",
   "execution_count": 9,
   "id": "fc8adee9",
   "metadata": {},
   "outputs": [
    {
     "name": "stdout",
     "output_type": "stream",
     "text": [
      "[      +123] [      -123]\n"
     ]
    }
   ],
   "source": [
    "a,b =123, -123\n",
    "print(\"[{:+10}] [{:-10}]\".format(a,b))"
   ]
  },
  {
   "cell_type": "code",
   "execution_count": 10,
   "id": "f858854b",
   "metadata": {},
   "outputs": [
    {
     "name": "stdout",
     "output_type": "stream",
     "text": [
      "10진수 [  15]\n",
      "8진수 [  17]\n",
      "16진수 [   f]\n",
      "2진수 [1111]\n"
     ]
    }
   ],
   "source": [
    "# 10진수, 8진수 2진수 출력\n",
    "a=15\n",
    "print(\"10진수 [{:4d}]\".format(a))\n",
    "print(\"8진수 [{:4o}]\".format(a))\n",
    "print(\"16진수 [{:4x}]\".format(a))\n",
    "print(\"2진수 [{:4b}]\".format(a))"
   ]
  },
  {
   "cell_type": "code",
   "execution_count": 14,
   "id": "5813ea27",
   "metadata": {},
   "outputs": [
    {
     "ename": "SyntaxError",
     "evalue": "unmatched ')' (2044006025.py, line 2)",
     "output_type": "error",
     "traceback": [
      "\u001b[1;36m  Cell \u001b[1;32mIn[14], line 2\u001b[1;36m\u001b[0m\n\u001b[1;33m    print(\"[{:+10.4}]\").format(a))\u001b[0m\n\u001b[1;37m                                 ^\u001b[0m\n\u001b[1;31mSyntaxError\u001b[0m\u001b[1;31m:\u001b[0m unmatched ')'\n"
     ]
    }
   ],
   "source": [
    "a=2.785\n",
    "print(\"[{:+10.4}]\").format(a))"
   ]
  },
  {
   "cell_type": "code",
   "execution_count": null,
   "id": "3c3ad85b",
   "metadata": {},
   "outputs": [],
   "source": [
    "변수는 숫자, 문자만 쓴다, 숫자, 정수, 실수"
   ]
  },
  {
   "cell_type": "code",
   "execution_count": null,
   "id": "9f6e3d36",
   "metadata": {},
   "outputs": [],
   "source": [
    "출력 폼의 형태"
   ]
  },
  {
   "cell_type": "code",
   "execution_count": 19,
   "id": "635af439",
   "metadata": {},
   "outputs": [
    {
     "ename": "ValueError",
     "evalue": "Single '}' encountered in format string",
     "output_type": "error",
     "traceback": [
      "\u001b[1;31m---------------------------------------------------------------------------\u001b[0m",
      "\u001b[1;31mValueError\u001b[0m                                Traceback (most recent call last)",
      "Cell \u001b[1;32mIn[19], line 5\u001b[0m\n\u001b[0;32m      3\u001b[0m width\u001b[38;5;241m=\u001b[39m\u001b[38;5;241m10\u001b[39m\n\u001b[0;32m      4\u001b[0m precision\u001b[38;5;241m=\u001b[39m\u001b[38;5;241m4\u001b[39m\n\u001b[1;32m----> 5\u001b[0m \u001b[38;5;28mprint\u001b[39m(\u001b[38;5;124;43m\"\u001b[39;49m\u001b[38;5;124;43m[:\u001b[39;49m\u001b[38;5;132;43;01m{}\u001b[39;49;00m\u001b[38;5;132;43;01m{}\u001b[39;49;00m\u001b[38;5;124;43m,\u001b[39;49m\u001b[38;5;132;43;01m{}\u001b[39;49;00m\u001b[38;5;124;43m}]\u001b[39;49m\u001b[38;5;124;43m\"\u001b[39;49m\u001b[38;5;241;43m.\u001b[39;49m\u001b[43mformat\u001b[49m\u001b[43m(\u001b[49m\u001b[43ma\u001b[49m\u001b[43m,\u001b[49m\u001b[43m \u001b[49m\u001b[43msign\u001b[49m\u001b[43m,\u001b[49m\u001b[43m \u001b[49m\u001b[43mwidth\u001b[49m\u001b[43m,\u001b[49m\u001b[43m \u001b[49m\u001b[43mprecision\u001b[49m\u001b[43m)\u001b[49m)\n",
      "\u001b[1;31mValueError\u001b[0m: Single '}' encountered in format string"
     ]
    }
   ],
   "source": [
    "a=2.785\n",
    "sign=\"+\"\n",
    "width=10\n",
    "precision=4\n",
    "print(\"[:{}{},{}}]\".format(a, sign, width, precision))"
   ]
  },
  {
   "cell_type": "markdown",
   "id": "e17e912a",
   "metadata": {},
   "source": [
    "# 4,3날짜 출력"
   ]
  },
  {
   "cell_type": "code",
   "execution_count": 21,
   "id": "57cdd727",
   "metadata": {},
   "outputs": [
    {
     "ename": "SyntaxError",
     "evalue": "invalid syntax (54959256.py, line 1)",
     "output_type": "error",
     "traceback": [
      "\u001b[1;36m  Cell \u001b[1;32mIn[21], line 1\u001b[1;36m\u001b[0m\n\u001b[1;33m    1. import datetime\u001b[0m\n\u001b[1;37m       ^\u001b[0m\n\u001b[1;31mSyntaxError\u001b[0m\u001b[1;31m:\u001b[0m invalid syntax\n"
     ]
    }
   ],
   "source": [
    "1. import datetime # datetime 모듈\n",
    "datetime.._file_"
   ]
  },
  {
   "cell_type": "code",
   "execution_count": 30,
   "id": "43fb8773",
   "metadata": {},
   "outputs": [],
   "source": [
    "# Yimport datetime # datetime 모듈\n",
    "from datetime import datetime # datetime 모듈안의 datetime  메모리 LOADW\n",
    "thatdatetime1=(2025, 9, 11) # 25년 9월 11일 0시 0분 0초\n",
    "thatdatetime2=(2025, 9, 11, 14, 30, 0)"
   ]
  },
  {
   "cell_type": "code",
   "execution_count": 32,
   "id": "21540e7f",
   "metadata": {},
   "outputs": [
    {
     "ename": "SyntaxError",
     "evalue": "invalid decimal literal (1554902144.py, line 1)",
     "output_type": "error",
     "traceback": [
      "\u001b[1;36m  Cell \u001b[1;32mIn[32], line 1\u001b[1;36m\u001b[0m\n\u001b[1;33m    thatday1.strftime(\"\"%y년 %m월 %d일 %H시 %M분 %5초\")\u001b[0m\n\u001b[1;37m                                             ^\u001b[0m\n\u001b[1;31mSyntaxError\u001b[0m\u001b[1;31m:\u001b[0m invalid decimal literal\n"
     ]
    }
   ],
   "source": [
    "thatday1.strftime(\"\"%y년 %m월 %d일 %H시 %M분 %5초\")"
   ]
  },
  {
   "cell_type": "code",
   "execution_count": 37,
   "id": "1432ffad",
   "metadata": {},
   "outputs": [
    {
     "ename": "NameError",
     "evalue": "name 'now' is not defined",
     "output_type": "error",
     "traceback": [
      "\u001b[1;31m---------------------------------------------------------------------------\u001b[0m",
      "\u001b[1;31mNameError\u001b[0m                                 Traceback (most recent call last)",
      "Cell \u001b[1;32mIn[37], line 3\u001b[0m\n\u001b[0;32m      1\u001b[0m \u001b[38;5;66;03m# 현재의 날짜와 시간\u001b[39;00m\n\u001b[0;32m      2\u001b[0m \u001b[38;5;66;03m# datetime(2025. 9. 11. 14. 30): 특정한 날짜와 시간\u001b[39;00m\n\u001b[1;32m----> 3\u001b[0m now\u001b[38;5;241m=\u001b[39mdatetime,\u001b[43mnow\u001b[49m()\n",
      "\u001b[1;31mNameError\u001b[0m: name 'now' is not defined"
     ]
    }
   ],
   "source": [
    "# 현재의 날짜와 시간\n",
    "# datetime(2025. 9. 11. 14. 30): 특정한 날짜와 시간\n",
    "now=datetime,now()"
   ]
  },
  {
   "cell_type": "code",
   "execution_count": 48,
   "id": "b5112c82",
   "metadata": {},
   "outputs": [
    {
     "ename": "SyntaxError",
     "evalue": "incomplete input (1910315799.py, line 3)",
     "output_type": "error",
     "traceback": [
      "\u001b[1;36m  Cell \u001b[1;32mIn[48], line 3\u001b[1;36m\u001b[0m\n\u001b[1;33m    print(now.strftime(\"%Y-%m-%d %p %I:%M\")\u001b[0m\n\u001b[1;37m                                           ^\u001b[0m\n\u001b[1;31mSyntaxError\u001b[0m\u001b[1;31m:\u001b[0m incomplete input\n"
     ]
    }
   ],
   "source": [
    "# 지금 (날짜와 시긴) 원하는 스타일로 출력\n",
    "print(\"{%Y-%m-%d %p %I:%M}\". format(now))\n",
    "print(now.strftime(\"%Y-%m-%d %p %I:%M\")"
   ]
  },
  {
   "cell_type": "code",
   "execution_count": 43,
   "id": "0169dbe9",
   "metadata": {},
   "outputs": [
    {
     "data": {
      "text/plain": [
       "'{2025-09-15 PM 03:06'"
      ]
     },
     "execution_count": 43,
     "metadata": {},
     "output_type": "execute_result"
    }
   ],
   "source": [
    "# 지금을 문자열로 전화하는 함수\n",
    "from time import strftime\n",
    "strftime(\"{%Y-%m-%d %p %I:%M\")"
   ]
  },
  {
   "cell_type": "code",
   "execution_count": 50,
   "id": "e25e5c0a",
   "metadata": {},
   "outputs": [
    {
     "ename": "NameError",
     "evalue": "name 'now' is not defined",
     "output_type": "error",
     "traceback": [
      "\u001b[1;31m---------------------------------------------------------------------------\u001b[0m",
      "\u001b[1;31mNameError\u001b[0m                                 Traceback (most recent call last)",
      "Cell \u001b[1;32mIn[50], line 2\u001b[0m\n\u001b[0;32m      1\u001b[0m \u001b[38;5;66;03m# 지금 (날짜와 시긴) 원하는 스타일로 출력\u001b[39;00m\n\u001b[1;32m----> 2\u001b[0m \u001b[38;5;28mprint\u001b[39m(\u001b[38;5;124m\"\u001b[39m\u001b[38;5;124m{\u001b[39m\u001b[38;5;124m:\u001b[39m\u001b[38;5;124m%\u001b[39m\u001b[38;5;124mY-\u001b[39m\u001b[38;5;124m%\u001b[39m\u001b[38;5;124mm-\u001b[39m\u001b[38;5;132;01m%d\u001b[39;00m\u001b[38;5;124m \u001b[39m\u001b[38;5;124m%\u001b[39m\u001b[38;5;124mp \u001b[39m\u001b[38;5;124m%\u001b[39m\u001b[38;5;124mI:\u001b[39m\u001b[38;5;124m%\u001b[39m\u001b[38;5;124mM}\u001b[39m\u001b[38;5;124m\"\u001b[39m\u001b[38;5;241m.\u001b[39mformat(\u001b[43mnow\u001b[49m))\n\u001b[0;32m      3\u001b[0m \u001b[38;5;28mprint\u001b[39m(now\u001b[38;5;241m.\u001b[39mstrftime(\u001b[38;5;124m\"\u001b[39m\u001b[38;5;124m%\u001b[39m\u001b[38;5;124mY-\u001b[39m\u001b[38;5;124m%\u001b[39m\u001b[38;5;124mm-\u001b[39m\u001b[38;5;132;01m%d\u001b[39;00m\u001b[38;5;124m \u001b[39m\u001b[38;5;124m%\u001b[39m\u001b[38;5;124mp \u001b[39m\u001b[38;5;124m%\u001b[39m\u001b[38;5;124mI:\u001b[39m\u001b[38;5;124m%\u001b[39m\u001b[38;5;124mM\u001b[39m\u001b[38;5;124m\"\u001b[39m))\n",
      "\u001b[1;31mNameError\u001b[0m: name 'now' is not defined"
     ]
    }
   ],
   "source": [
    "# 지금 (날짜와 시긴) 원하는 스타일로 출력\n",
    "print(\"{:%Y-%m-%d %p %I:%M}\".format(now))\n",
    "print(now.strftime(\"%Y-%m-%d %p %I:%M\"))"
   ]
  },
  {
   "cell_type": "code",
   "execution_count": null,
   "id": "d459f5b3",
   "metadata": {},
   "outputs": [],
   "source": []
  },
  {
   "cell_type": "markdown",
   "id": "d88a0a2a",
   "metadata": {},
   "source": [
    "## 5.1 산술 연산자: +, -, "
   ]
  },
  {
   "cell_type": "code",
   "execution_count": null,
   "id": "922a059f",
   "metadata": {},
   "outputs": [],
   "source": []
  },
  {
   "cell_type": "code",
   "execution_count": null,
   "id": "9b2fa087",
   "metadata": {},
   "outputs": [],
   "source": []
  },
  {
   "cell_type": "code",
   "execution_count": null,
   "id": "1b5de6d3",
   "metadata": {},
   "outputs": [],
   "source": []
  },
  {
   "cell_type": "code",
   "execution_count": null,
   "id": "129384f2",
   "metadata": {},
   "outputs": [],
   "source": []
  },
  {
   "cell_type": "code",
   "execution_count": null,
   "id": "077cec2f",
   "metadata": {},
   "outputs": [],
   "source": []
  },
  {
   "cell_type": "code",
   "execution_count": null,
   "id": "ef7f2567",
   "metadata": {},
   "outputs": [],
   "source": []
  },
  {
   "cell_type": "code",
   "execution_count": null,
   "id": "93b5e9ba",
   "metadata": {},
   "outputs": [],
   "source": []
  },
  {
   "cell_type": "code",
   "execution_count": null,
   "id": "c22c503d",
   "metadata": {},
   "outputs": [],
   "source": []
  },
  {
   "cell_type": "code",
   "execution_count": null,
   "id": "24a1486f",
   "metadata": {},
   "outputs": [],
   "source": []
  },
  {
   "cell_type": "code",
   "execution_count": null,
   "id": "5cd7974a",
   "metadata": {},
   "outputs": [],
   "source": []
  },
  {
   "cell_type": "code",
   "execution_count": null,
   "id": "b0109f4c",
   "metadata": {},
   "outputs": [],
   "source": []
  },
  {
   "cell_type": "code",
   "execution_count": null,
   "id": "5face84e",
   "metadata": {},
   "outputs": [],
   "source": []
  },
  {
   "cell_type": "code",
   "execution_count": null,
   "id": "82e62cd2",
   "metadata": {},
   "outputs": [],
   "source": []
  },
  {
   "cell_type": "code",
   "execution_count": null,
   "id": "98005274",
   "metadata": {},
   "outputs": [],
   "source": []
  },
  {
   "cell_type": "code",
   "execution_count": null,
   "id": "5c422020",
   "metadata": {},
   "outputs": [],
   "source": []
  },
  {
   "cell_type": "code",
   "execution_count": null,
   "id": "12570b92",
   "metadata": {},
   "outputs": [],
   "source": []
  },
  {
   "cell_type": "markdown",
   "id": "5423e9a0",
   "metadata": {},
   "source": []
  },
  {
   "cell_type": "code",
   "execution_count": null,
   "id": "38d60c12",
   "metadata": {},
   "outputs": [],
   "source": []
  },
  {
   "cell_type": "code",
   "execution_count": null,
   "id": "51c3aa3c",
   "metadata": {},
   "outputs": [],
   "source": []
  },
  {
   "cell_type": "code",
   "execution_count": null,
   "id": "ae61dda8",
   "metadata": {},
   "outputs": [],
   "source": []
  },
  {
   "cell_type": "code",
   "execution_count": null,
   "id": "49aa8d58",
   "metadata": {},
   "outputs": [],
   "source": []
  },
  {
   "cell_type": "code",
   "execution_count": null,
   "id": "08b457aa",
   "metadata": {},
   "outputs": [],
   "source": []
  },
  {
   "cell_type": "code",
   "execution_count": null,
   "id": "f8c7d145",
   "metadata": {},
   "outputs": [],
   "source": []
  },
  {
   "cell_type": "code",
   "execution_count": null,
   "id": "fe6529de",
   "metadata": {},
   "outputs": [],
   "source": []
  },
  {
   "cell_type": "code",
   "execution_count": null,
   "id": "a815421b",
   "metadata": {},
   "outputs": [],
   "source": []
  },
  {
   "cell_type": "code",
   "execution_count": null,
   "id": "f8de9d1c",
   "metadata": {},
   "outputs": [],
   "source": []
  },
  {
   "cell_type": "code",
   "execution_count": null,
   "id": "abb168f8",
   "metadata": {},
   "outputs": [],
   "source": []
  },
  {
   "cell_type": "code",
   "execution_count": null,
   "id": "a6ae8ebe",
   "metadata": {},
   "outputs": [],
   "source": []
  },
  {
   "cell_type": "code",
   "execution_count": null,
   "id": "89ca4abd",
   "metadata": {},
   "outputs": [],
   "source": []
  },
  {
   "cell_type": "code",
   "execution_count": null,
   "id": "62537723",
   "metadata": {},
   "outputs": [],
   "source": []
  },
  {
   "cell_type": "code",
   "execution_count": null,
   "id": "467f9764",
   "metadata": {},
   "outputs": [],
   "source": []
  },
  {
   "cell_type": "code",
   "execution_count": null,
   "id": "82cf8ffd",
   "metadata": {},
   "outputs": [],
   "source": []
  },
  {
   "cell_type": "code",
   "execution_count": null,
   "id": "943aebdf",
   "metadata": {},
   "outputs": [],
   "source": []
  },
  {
   "cell_type": "code",
   "execution_count": null,
   "id": "58851d29",
   "metadata": {},
   "outputs": [],
   "source": []
  },
  {
   "cell_type": "code",
   "execution_count": null,
   "id": "ead5fa00",
   "metadata": {},
   "outputs": [],
   "source": []
  },
  {
   "cell_type": "code",
   "execution_count": null,
   "id": "debe54a1",
   "metadata": {},
   "outputs": [],
   "source": []
  },
  {
   "cell_type": "code",
   "execution_count": null,
   "id": "d858af00",
   "metadata": {},
   "outputs": [],
   "source": []
  },
  {
   "cell_type": "code",
   "execution_count": null,
   "id": "931169d9",
   "metadata": {},
   "outputs": [],
   "source": []
  },
  {
   "cell_type": "code",
   "execution_count": null,
   "id": "7a863146",
   "metadata": {},
   "outputs": [],
   "source": []
  },
  {
   "cell_type": "code",
   "execution_count": null,
   "id": "8b9be03e",
   "metadata": {},
   "outputs": [],
   "source": []
  },
  {
   "cell_type": "code",
   "execution_count": null,
   "id": "9266bcec",
   "metadata": {},
   "outputs": [],
   "source": []
  },
  {
   "cell_type": "code",
   "execution_count": null,
   "id": "4d3f2135",
   "metadata": {},
   "outputs": [],
   "source": []
  },
  {
   "cell_type": "code",
   "execution_count": null,
   "id": "f06290bc",
   "metadata": {},
   "outputs": [],
   "source": []
  },
  {
   "cell_type": "code",
   "execution_count": null,
   "id": "eb43f93e",
   "metadata": {},
   "outputs": [],
   "source": []
  },
  {
   "cell_type": "code",
   "execution_count": null,
   "id": "98f22274",
   "metadata": {},
   "outputs": [],
   "source": []
  },
  {
   "cell_type": "code",
   "execution_count": null,
   "id": "19b04c46",
   "metadata": {},
   "outputs": [],
   "source": []
  },
  {
   "cell_type": "code",
   "execution_count": null,
   "id": "16dc940c",
   "metadata": {},
   "outputs": [],
   "source": []
  },
  {
   "cell_type": "code",
   "execution_count": null,
   "id": "015582d1",
   "metadata": {},
   "outputs": [],
   "source": []
  },
  {
   "cell_type": "code",
   "execution_count": null,
   "id": "aee2277e",
   "metadata": {},
   "outputs": [],
   "source": []
  },
  {
   "cell_type": "code",
   "execution_count": null,
   "id": "eaca3d22",
   "metadata": {},
   "outputs": [],
   "source": []
  },
  {
   "cell_type": "code",
   "execution_count": null,
   "id": "e91b6d07",
   "metadata": {},
   "outputs": [],
   "source": []
  },
  {
   "cell_type": "code",
   "execution_count": null,
   "id": "194b4b98",
   "metadata": {},
   "outputs": [],
   "source": []
  },
  {
   "cell_type": "code",
   "execution_count": null,
   "id": "61a7008c",
   "metadata": {},
   "outputs": [],
   "source": []
  },
  {
   "cell_type": "code",
   "execution_count": null,
   "id": "b35662dc",
   "metadata": {},
   "outputs": [],
   "source": []
  },
  {
   "cell_type": "code",
   "execution_count": null,
   "id": "eeb63cb0",
   "metadata": {},
   "outputs": [],
   "source": []
  },
  {
   "cell_type": "code",
   "execution_count": null,
   "id": "c6ecb082",
   "metadata": {},
   "outputs": [],
   "source": []
  },
  {
   "cell_type": "code",
   "execution_count": null,
   "id": "b7817f70",
   "metadata": {},
   "outputs": [],
   "source": []
  },
  {
   "cell_type": "code",
   "execution_count": null,
   "id": "01fb44ef",
   "metadata": {},
   "outputs": [],
   "source": []
  },
  {
   "cell_type": "code",
   "execution_count": null,
   "id": "2caaaf8c",
   "metadata": {},
   "outputs": [],
   "source": []
  },
  {
   "cell_type": "code",
   "execution_count": null,
   "id": "3162f55b",
   "metadata": {},
   "outputs": [],
   "source": []
  },
  {
   "cell_type": "code",
   "execution_count": null,
   "id": "0f0f3aa1",
   "metadata": {},
   "outputs": [],
   "source": []
  },
  {
   "cell_type": "code",
   "execution_count": null,
   "id": "f4f32016",
   "metadata": {},
   "outputs": [],
   "source": []
  },
  {
   "cell_type": "code",
   "execution_count": null,
   "id": "e6c98b77",
   "metadata": {},
   "outputs": [],
   "source": []
  },
  {
   "cell_type": "code",
   "execution_count": null,
   "id": "e1c7d905",
   "metadata": {},
   "outputs": [],
   "source": []
  },
  {
   "cell_type": "code",
   "execution_count": null,
   "id": "3411069f",
   "metadata": {},
   "outputs": [],
   "source": []
  },
  {
   "cell_type": "code",
   "execution_count": null,
   "id": "9af4539e",
   "metadata": {},
   "outputs": [],
   "source": []
  },
  {
   "cell_type": "code",
   "execution_count": null,
   "id": "6f8c2ae7",
   "metadata": {},
   "outputs": [],
   "source": []
  },
  {
   "cell_type": "code",
   "execution_count": null,
   "id": "b1c92d26",
   "metadata": {},
   "outputs": [],
   "source": []
  },
  {
   "cell_type": "code",
   "execution_count": null,
   "id": "6eefbe33",
   "metadata": {},
   "outputs": [],
   "source": []
  },
  {
   "cell_type": "code",
   "execution_count": null,
   "id": "67f17e73",
   "metadata": {},
   "outputs": [],
   "source": []
  },
  {
   "cell_type": "code",
   "execution_count": null,
   "id": "31595cc8",
   "metadata": {},
   "outputs": [],
   "source": []
  },
  {
   "cell_type": "code",
   "execution_count": null,
   "id": "6b9cd74e",
   "metadata": {},
   "outputs": [],
   "source": []
  },
  {
   "cell_type": "code",
   "execution_count": null,
   "id": "9f467314",
   "metadata": {},
   "outputs": [],
   "source": []
  },
  {
   "cell_type": "code",
   "execution_count": null,
   "id": "8bbd5354",
   "metadata": {},
   "outputs": [],
   "source": []
  },
  {
   "cell_type": "code",
   "execution_count": null,
   "id": "b18efed9",
   "metadata": {},
   "outputs": [],
   "source": []
  },
  {
   "cell_type": "code",
   "execution_count": null,
   "id": "39d06fcb",
   "metadata": {},
   "outputs": [],
   "source": []
  },
  {
   "cell_type": "code",
   "execution_count": null,
   "id": "ee8e7685",
   "metadata": {},
   "outputs": [],
   "source": []
  },
  {
   "cell_type": "code",
   "execution_count": null,
   "id": "c61d0609",
   "metadata": {},
   "outputs": [],
   "source": []
  },
  {
   "cell_type": "code",
   "execution_count": null,
   "id": "e0f792cf",
   "metadata": {},
   "outputs": [],
   "source": []
  }
 ],
 "metadata": {
  "kernelspec": {
   "display_name": "Python 3 (ipykernel)",
   "language": "python",
   "name": "python3"
  },
  "language_info": {
   "codemirror_mode": {
    "name": "ipython",
    "version": 3
   },
   "file_extension": ".py",
   "mimetype": "text/x-python",
   "name": "python",
   "nbconvert_exporter": "python",
   "pygments_lexer": "ipython3",
   "version": "3.10.9"
  },
  "toc": {
   "base_numbering": 1,
   "nav_menu": {},
   "number_sections": false,
   "sideBar": true,
   "skip_h1_title": false,
   "title_cell": "Table of Contents",
   "title_sidebar": "Contents",
   "toc_cell": false,
   "toc_position": {
    "height": "calc(100% - 180px)",
    "left": "10px",
    "top": "150px",
    "width": "165px"
   },
   "toc_section_display": true,
   "toc_window_display": true
  }
 },
 "nbformat": 4,
 "nbformat_minor": 5
}
